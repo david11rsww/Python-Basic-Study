{
 "cells": [
  {
   "cell_type": "markdown",
   "id": "ce096d4a-b91f-4050-b8b9-df1e15583995",
   "metadata": {},
   "source": [
    "# 基本概念"
   ]
  },
  {
   "cell_type": "markdown",
   "id": "590aa272-1fec-49a8-8737-a6b3e19ee10f",
   "metadata": {},
   "source": [
    "## 认识Python"
   ]
  },
  {
   "cell_type": "markdown",
   "id": "ae260573-c7af-47a6-acdf-966bec894f64",
   "metadata": {},
   "source": [
    "1. 世界编程语言排行榜： https://pypl.github.io/PYPL.html\n",
    "\n",
    "![](img/code_rank.jpg)"
   ]
  },
  {
   "cell_type": "markdown",
   "id": "531cf9e7-80f1-4367-8497-012726428476",
   "metadata": {},
   "source": [
    "2. 在当前互联网+的时代，编程已经不仅仅是程序员的事了，而是一个通往未来世界的工具．甚至可以说是一个新的机遇。\n",
    "3. 人人会编程的时代\n",
    "\n",
    "![](img/jobes.jpg)"
   ]
  },
  {
   "cell_type": "markdown",
   "id": "4e330677-9ca9-45b6-89ac-2b5ce444b7e8",
   "metadata": {},
   "source": [
    "## Python究竟能干什么"
   ]
  },
  {
   "cell_type": "markdown",
   "id": "70e75c17-caea-446f-91f4-26719222bd09",
   "metadata": {},
   "source": [
    "![](img/pn.jpg)"
   ]
  },
  {
   "cell_type": "markdown",
   "id": "b3335c48-2c1e-4637-8d06-1f7ddc49d432",
   "metadata": {},
   "source": [
    "1. 搭建网站：模块与框架，如Flask，Django，Tornado\n",
    "2. 网络爬虫：模块与框架，如requests，scrapy\n",
    "3. 科学计算与大数据分析：模块与框架，如NumPy，scripy，Matlotlib\n",
    "4. 人工智能与机器学习：模块与框架，如PyTorch，TensorFlow\n",
    "5. 设计动画游戏：模块与框架，如pygame\n",
    "6. 图形用户接口开发：模块与框架，如tkinter"
   ]
  },
  {
   "cell_type": "markdown",
   "id": "35972bf2-8f54-4c2e-ac65-2d7f2bd42bc9",
   "metadata": {},
   "source": [
    "## Python语言的目标"
   ]
  },
  {
   "cell_type": "markdown",
   "id": "9cc057f3-9dbe-4d35-90dd-411c83febb75",
   "metadata": {},
   "source": [
    "1. 这是一个简单直觉式的程序语言，可以和主要程序语言一样强大。\n",
    "2. 这是开放源码，每个人皆可自由使用与贡献。\n",
    "3. 程序代码像英语一样容易理解与使用。\n",
    "4. 可在短期间内开发一些常用功能。\n",
    "\n",
    "现在上述目标皆已经实现了，Python已经与C/C+，Java一样成为程序设计师必备的程序语言，然而它却比C/C++更容易学习。\n",
    "\n",
    "由于Python是一个开放的源码（Open Source），每个人皆可免费使用或为它贡献，除了它本身有许多内置的套件（Package）或称模块（Module）,\n",
    "许多单位也为它开发了更多的套件，促使它的功能可以持续扩充，因此Python目前已经是全球最热门的程序语言之一。"
   ]
  },
  {
   "cell_type": "markdown",
   "id": "4817f06a-cd92-427c-8e2c-729980f7fcef",
   "metadata": {},
   "source": [
    "## Python是一种直译式高级编程语言"
   ]
  },
  {
   "cell_type": "markdown",
   "id": "813a377b-9664-45f3-8160-1304868f1d27",
   "metadata": {},
   "source": [
    "### 高级语言"
   ]
  },
  {
   "cell_type": "markdown",
   "id": "ec5c8028-24be-4490-b311-87544282e5a3",
   "metadata": {},
   "source": [
    "* 通常根据是否可以直接操纵计算机底层硬件，将程序设计语言分为低级语言，中级语言和高级语言。\n",
    "* 机器语言和汇编语言都属于低级语言，他们能够直接操纵计算机的寄存器和内存，机器语言使用二进制代码编写程序，能够直接被计算机识别，汇编语言使用能够代表指令的助记符来编写程序，可以看作是符号化了的机器语言。\n",
    "* 高级语言是面向用户的语言，很多语言在形式上接近于算术语言和自然语言，程序编写方便。\n",
    "* 使用高级语言编写的程序大部分不能直接与硬件打交道，也不能直接在计算机上运行。"
   ]
  },
  {
   "cell_type": "markdown",
   "id": "f583dc6f-d2e3-4a3d-b8e3-a4638de57c72",
   "metadata": {},
   "source": [
    "### 直译式语言"
   ]
  },
  {
   "cell_type": "markdown",
   "id": "65bcdee9-21ad-4b8d-a806-53c9f047aa91",
   "metadata": {},
   "source": [
    "无需编译，直接由Python解释器将编写的程序翻译为机器能够识别的机器码。"
   ]
  },
  {
   "cell_type": "markdown",
   "id": "672afa70-aaf7-4583-b873-b6377cf8b1f8",
   "metadata": {},
   "source": [
    "![](img/lan.jpg)"
   ]
  },
  {
   "cell_type": "markdown",
   "id": "faa332ea-93c1-4a04-93b5-9d059c6d9619",
   "metadata": {},
   "source": [
    "## Python格言：人生苦短，我用Python"
   ]
  },
  {
   "cell_type": "markdown",
   "id": "de2b3acc-5fdb-4460-84da-29b0732bba0f",
   "metadata": {},
   "source": [
    "### Python彩蛋1：Python之禅import this"
   ]
  },
  {
   "cell_type": "code",
   "execution_count": 1,
   "id": "bd470595-2914-4c00-8b73-ee2ff1d39cf9",
   "metadata": {},
   "outputs": [
    {
     "name": "stdout",
     "output_type": "stream",
     "text": [
      "The Zen of Python, by Tim Peters\n",
      "\n",
      "Beautiful is better than ugly.\n",
      "Explicit is better than implicit.\n",
      "Simple is better than complex.\n",
      "Complex is better than complicated.\n",
      "Flat is better than nested.\n",
      "Sparse is better than dense.\n",
      "Readability counts.\n",
      "Special cases aren't special enough to break the rules.\n",
      "Although practicality beats purity.\n",
      "Errors should never pass silently.\n",
      "Unless explicitly silenced.\n",
      "In the face of ambiguity, refuse the temptation to guess.\n",
      "There should be one-- and preferably only one --obvious way to do it.\n",
      "Although that way may not be obvious at first unless you're Dutch.\n",
      "Now is better than never.\n",
      "Although never is often better than *right* now.\n",
      "If the implementation is hard to explain, it's a bad idea.\n",
      "If the implementation is easy to explain, it may be a good idea.\n",
      "Namespaces are one honking great idea -- let's do more of those!\n"
     ]
    }
   ],
   "source": [
    "import this"
   ]
  },
  {
   "cell_type": "markdown",
   "id": "fb5f0241-bbf8-41bc-9c06-c285362456da",
   "metadata": {},
   "source": [
    "《Python之禅》——蒂姆·彼得斯\n",
    "\n",
    "优美胜于丑陋。  （Python以编写优美的代码为目标）  \n",
    "明了胜于晦涩。  （优美的代码应当是明了的，命名规范，风格相似）  \n",
    "简洁胜于复杂。  （优美的代码应当是简洁的，不要有复杂的内部实现）  \n",
    "复杂胜于凌乱。  （如果复杂不可避免，那代码间也不能有难懂的关系，要保持接口简洁）  \n",
    "扁平胜于嵌套。  （优美的代码应当是扁平的，不能有太多的嵌套）  \n",
    "稀疏胜于稠密。  （优美的代码有适当的间隔，不要奢望一行代码解决问题）  \n",
    "可读性至关重要。  （优美的代码是可读的）  \n",
    "特例亦不可违背规则。  （即便假借特例的实用性之名，也不可违背这些规则，这些规则至高无上）  \n",
    "然实用胜于纯粹。  \n",
    "错误不应无声忽略，  \n",
    "除非显式消弭。  \n",
    "面对歧义，拒绝猜测。  \n",
    "应有一种——且最好唯一——明显解决之道。  \n",
    "纵使起初并非显而易见（除非你是荷兰人）。  \n",
    "当下行动胜于永远不做，  \n",
    "然而永不行动常胜于仓促而行。  \n",
    "若实现难以解释，必是糟糕设计；  \n",
    "若实现易于解释，或为佳妙方案。  \n",
    "命名空间绝妙至极——应多加善用！  \n",
    "\n",
    "（注：翻译在保留原诗格言体风格的基础上，兼顾了中文韵律和Python社区常用表述。其中\"Dutch\"指Python创始人Guido van Rossum的荷兰国籍，中文社区常以括号注释处理文化背景信息。）"
   ]
  },
  {
   "cell_type": "markdown",
   "id": "6aa6c165-9cc2-4f95-92c6-f42cbc8264d9",
   "metadata": {},
   "source": [
    "### Python彩蛋2：欣赏Python趣味内容"
   ]
  },
  {
   "cell_type": "markdown",
   "id": "f84ec844-72be-40cb-9b33-af952db26f67",
   "metadata": {},
   "source": [
    "```python\n",
    "import antigravity  # 反重力，效率飞起，拥有飞一般的感觉\n",
    "```"
   ]
  },
  {
   "cell_type": "markdown",
   "id": "e89c0f04-8ba7-4b9c-aadd-538a1fe28745",
   "metadata": {},
   "source": [
    "会自动打开：https://xkcd.com/353/"
   ]
  },
  {
   "cell_type": "markdown",
   "id": "8067f41c-335b-426d-96eb-895237eb620f",
   "metadata": {},
   "source": [
    "![](img/python.png)"
   ]
  },
  {
   "cell_type": "markdown",
   "id": "4c41c276-972c-4e54-ba96-b38cc8f86365",
   "metadata": {},
   "source": [
    "# Python注释与变量"
   ]
  },
  {
   "cell_type": "markdown",
   "id": "b56d7aeb-592f-48ac-8d93-03beb75b5918",
   "metadata": {},
   "source": [
    "## Python注释"
   ]
  },
  {
   "cell_type": "markdown",
   "id": "fdc459ab-9ff1-4f11-b382-9f0369ea62f9",
   "metadata": {},
   "source": [
    "1. 对程序代码进行解释说明的文字\n",
    "2. 不会被解释器执行的代码，解释器会忽略注释中所有的内容\n",
    "3. 注释是给人看的，不是给机器看的"
   ]
  },
  {
   "cell_type": "markdown",
   "id": "cd45912a-6c59-434f-a2ef-7c05f1a1525d",
   "metadata": {},
   "source": [
    "### Python注释的分类"
   ]
  },
  {
   "cell_type": "markdown",
   "id": "506564c2-286a-46e9-98df-8e1ccd095d69",
   "metadata": {},
   "source": [
    "* 单行注释 `#`\n",
    "* 多行注释 `'''   '''` 或 `\"\"\"  \"\"\"`\n",
    "* 提醒：一定要养成编写注释的习惯"
   ]
  },
  {
   "cell_type": "markdown",
   "id": "8ce49d52-424e-4332-a490-db580d69f778",
   "metadata": {},
   "source": [
    "### 需求：假设你到了一个神秘机构打工"
   ]
  },
  {
   "cell_type": "markdown",
   "id": "577b31c1-e0f7-44ff-8a39-5aadb9d266a3",
   "metadata": {},
   "source": [
    "一小时可以获得125元，一天工作8小时可以获得多少工资？  \n",
    "如果一年实际工作天数是300天，计算一年所得？  \n",
    "如果你一个月花费是9000元，计算一年可以存储多少钱？  "
   ]
  },
  {
   "cell_type": "markdown",
   "id": "284568cc-3af9-4e7b-b6d0-f6d3e764fbdd",
   "metadata": {},
   "source": [
    "#### Test01"
   ]
  },
  {
   "cell_type": "code",
   "execution_count": 2,
   "id": "3e966f15-013e-4a32-bac5-4aa91c1ed655",
   "metadata": {},
   "outputs": [
    {
     "name": "stdout",
     "output_type": "stream",
     "text": [
      "252000\n"
     ]
    }
   ],
   "source": [
    "# 神秘机构 : 一小时 150 元\n",
    "x = 150\n",
    "# 一天工作 8 小时, 一年总共工作 300 天, 计算一年所得\n",
    "y = x * 8 * 300\n",
    "# 你每月消费 9000 元, 一年总共消费多少?\n",
    "z = 9000\n",
    "a = z * 12\n",
    "# 计算一年总共存储多少钱 ?\n",
    "b = y - a\n",
    "print(b)"
   ]
  },
  {
   "cell_type": "markdown",
   "id": "b2cca694-56bc-41b5-9252-00a90f45a9f5",
   "metadata": {},
   "source": [
    "## Python变量"
   ]
  },
  {
   "cell_type": "markdown",
   "id": "4e62d1e3-2b99-4b54-9afb-04f81e2cb082",
   "metadata": {},
   "source": [
    "### 变量的概念"
   ]
  },
  {
   "cell_type": "markdown",
   "id": "76044635-8145-41d0-ab1d-8bfbdbe86d79",
   "metadata": {},
   "source": [
    "Python程序在设计变量时，不用先定义，它自身会由所设定的内容决定自己的数据形态。变量是一个**暂时**存储数据的地方。"
   ]
  },
  {
   "cell_type": "markdown",
   "id": "01230bb1-3e07-4721-897a-ddb89e2cba85",
   "metadata": {},
   "source": [
    "如果变量没有**具体的含义**，其潜藏的最大问题是，只要过了一段时间，我们就可能忘记当初所设定变量代表什么．因此在设计程序时，如果为变量取个有意义的名称，未来看到程序时，可以比较容易记得。"
   ]
  },
  {
   "cell_type": "markdown",
   "id": "632255dd-6592-4c03-a386-27cd6efc5a71",
   "metadata": {},
   "source": [
    "### 认识变量的地址"
   ]
  },
  {
   "cell_type": "markdown",
   "id": "b614a971-0bea-4459-80b3-6e92c691a3b9",
   "metadata": {},
   "source": [
    "Python可以使用`id()`函数获得变量的地址。"
   ]
  },
  {
   "cell_type": "markdown",
   "id": "4f33f6ef-bf4b-4e80-865a-655d79f2b590",
   "metadata": {},
   "source": [
    "相同内容的变量会有相同的地址。"
   ]
  },
  {
   "cell_type": "markdown",
   "id": "f81c8bd9-43b1-49b4-94e4-0c6fe47f434c",
   "metadata": {},
   "source": [
    "### 变量命名的原则"
   ]
  },
  {
   "cell_type": "markdown",
   "id": "949a4037-01d9-4850-87ff-1b3e80443f1b",
   "metadata": {},
   "source": [
    "Python对于变量命名有一些规则要遵守，否则会造成程序错误。"
   ]
  },
  {
   "cell_type": "markdown",
   "id": "b2489109-03e2-402c-9715-018a0a1543ce",
   "metadata": {},
   "source": [
    "1. 必须由英文字母，_（下划线）或中文字开头，建议使用英文字母。\n",
    "2. 变量名称只能由英文字母，数字，下划线或中文组成。\n",
    "3. 英文字母大小写敏感，例如：Name和name被视为不同变量名称。\n",
    "4. Python系统保留字（或称关键字）不可当作变量名称，会让程序产生错误，Python内置函数名称不建议当做变量名称，因为会造成函数失效。"
   ]
  },
  {
   "cell_type": "markdown",
   "id": "3b89e8b3-5612-415e-86af-87fbe11496b5",
   "metadata": {},
   "source": [
    "#### Test02"
   ]
  },
  {
   "cell_type": "code",
   "execution_count": 3,
   "id": "f478e9c0-cb58-43e4-b496-5458a1ad182c",
   "metadata": {},
   "outputs": [
    {
     "name": "stdout",
     "output_type": "stream",
     "text": [
      "252000\n"
     ]
    }
   ],
   "source": [
    "# 说明 : 变量一定要有具体的含义\n",
    "# It's never too late to learn.\n",
    "\n",
    "# 时薪\n",
    "hourly_salary = 150\n",
    "# 年薪\n",
    "annual_salary = hourly_salary * 8 * 300\n",
    "# 月支出\n",
    "monthly_fee = 9000\n",
    "# 年支出\n",
    "annual_fee = monthly_fee * 12\n",
    "# 年存储\n",
    "annual_saving = annual_salary - annual_fee\n",
    "# 查看年存储\n",
    "print(annual_saving)"
   ]
  },
  {
   "cell_type": "markdown",
   "id": "4056291d-3f39-4438-bc6f-31a3574e3ff8",
   "metadata": {},
   "source": [
    "# Python的保留字与内置函数"
   ]
  },
  {
   "cell_type": "markdown",
   "id": "d4f501ff-eaca-4f73-b3ad-fccf0fa2157d",
   "metadata": {},
   "source": [
    "## Python的保留字"
   ]
  },
  {
   "cell_type": "markdown",
   "id": "b5f6704d-dc3d-40bd-adfa-ffb9a0fe406a",
   "metadata": {},
   "source": [
    "可以使用`help('keywords')`列出所有Python的保留字（关键字）。"
   ]
  },
  {
   "cell_type": "code",
   "execution_count": 4,
   "id": "f00ff75b-023e-4e69-9e37-8c800c560724",
   "metadata": {},
   "outputs": [
    {
     "name": "stdout",
     "output_type": "stream",
     "text": [
      "\n",
      "Here is a list of the Python keywords.  Enter any keyword to get more help.\n",
      "\n",
      "False               class               from                or\n",
      "None                continue            global              pass\n",
      "True                def                 if                  raise\n",
      "and                 del                 import              return\n",
      "as                  elif                in                  try\n",
      "assert              else                is                  while\n",
      "async               except              lambda              with\n",
      "await               finally             nonlocal            yield\n",
      "break               for                 not                 \n",
      "\n"
     ]
    }
   ],
   "source": [
    "help('keywords')  # 列出所有Python关键字"
   ]
  },
  {
   "cell_type": "code",
   "execution_count": 5,
   "id": "19179e11-8b25-4703-a492-4e5c546f87c1",
   "metadata": {},
   "outputs": [
    {
     "name": "stdout",
     "output_type": "stream",
     "text": [
      "The \"break\" statement\n",
      "*********************\n",
      "\n",
      "   break_stmt ::= \"break\"\n",
      "\n",
      "\"break\" may only occur syntactically nested in a \"for\" or \"while\"\n",
      "loop, but not nested in a function or class definition within that\n",
      "loop.\n",
      "\n",
      "It terminates the nearest enclosing loop, skipping the optional \"else\"\n",
      "clause if the loop has one.\n",
      "\n",
      "If a \"for\" loop is terminated by \"break\", the loop control target\n",
      "keeps its current value.\n",
      "\n",
      "When \"break\" passes control out of a \"try\" statement with a \"finally\"\n",
      "clause, that \"finally\" clause is executed before really leaving the\n",
      "loop.\n",
      "\n",
      "Related help topics: while, for\n",
      "\n"
     ]
    }
   ],
   "source": [
    "help('break')  # 查看某个具体关键字的文档说明"
   ]
  },
  {
   "cell_type": "markdown",
   "id": "2815c024-b01e-491c-b756-2f8a6f3f10e4",
   "metadata": {},
   "source": [
    "## 认识下划线开头或结果的变量"
   ]
  },
  {
   "cell_type": "markdown",
   "id": "9f4f1bd1-e40e-40f6-9745-d22a18189d7f",
   "metadata": {},
   "source": [
    "设计Python程序时可能会看到下列下划线开头或结尾的变量，其概念如下。"
   ]
  },
  {
   "cell_type": "markdown",
   "id": "ad296fee-0234-4e72-bb79-f7b41cf02b9f",
   "metadata": {},
   "source": [
    "1. 变量名称前有单下划线，例如：`_test`\n",
    "\n",
    "这个一种**私有**变量，函数或方法，可能是在测试中，或一般应用在不想直接被调用时，可以使用单下划线开头的变量。"
   ]
  },
  {
   "cell_type": "markdown",
   "id": "aadab216-88b7-49a0-b76e-7d300bca027b",
   "metadata": {},
   "source": [
    "2. 变量名称后有单下划线，例如：`dict_`\n",
    "\n",
    "这种命名方式主要是避免与Python的关词（built-in keywords)或内置函数(built-in functions)有相同的名称，例如：ma×是求较大值函数，min是求较小值函数，如果我们真的想建立max和min变量，可以将变量命名为max_或min_。"
   ]
  },
  {
   "cell_type": "markdown",
   "id": "c1445626-97a0-4988-9fde-b3700eedd7e5",
   "metadata": {},
   "source": [
    "3. 变量名称前后有双下划线，例如：`__test__`\n",
    "\n",
    "这是保留给Python内建(built-in)的变量(variables)或方法(methods)使用。"
   ]
  },
  {
   "cell_type": "markdown",
   "id": "90290823-e1d4-45fd-a4c2-fa9b5e8bad4d",
   "metadata": {},
   "source": [
    "4. 变量名称前有双下划线，例如：`__test`\n",
    "\n",
    "这也是**私有**方法或变量的命名，无法直接使用本名存取。"
   ]
  },
  {
   "cell_type": "markdown",
   "id": "efe59bd4-bef5-455f-a97b-7f2724785480",
   "metadata": {},
   "source": [
    "说明：使用Python Shell时（在IDE工具中不支持），下划线可以代表前一次操作的遗留值。"
   ]
  },
  {
   "cell_type": "code",
   "execution_count": 6,
   "id": "65c5597a-1bb9-4c48-8634-1a54af25eb44",
   "metadata": {},
   "outputs": [
    {
     "data": {
      "text/plain": [
       "15"
      ]
     },
     "execution_count": 6,
     "metadata": {},
     "output_type": "execute_result"
    }
   ],
   "source": [
    "x = 10 \n",
    "x + 5"
   ]
  },
  {
   "cell_type": "code",
   "execution_count": 7,
   "id": "0993f340-4f9b-4b31-a76a-f6580d8273ec",
   "metadata": {},
   "outputs": [
    {
     "data": {
      "text/plain": [
       "35"
      ]
     },
     "execution_count": 7,
     "metadata": {},
     "output_type": "execute_result"
    }
   ],
   "source": [
    "_ + 20"
   ]
  },
  {
   "cell_type": "code",
   "execution_count": 8,
   "id": "ff95756c-952c-4cd8-bf52-6ae23368cb7e",
   "metadata": {},
   "outputs": [
    {
     "data": {
      "text/plain": [
       "35"
      ]
     },
     "execution_count": 8,
     "metadata": {},
     "output_type": "execute_result"
    }
   ],
   "source": [
    "_"
   ]
  },
  {
   "cell_type": "markdown",
   "id": "dd6a6a6e-c31c-46d4-a8f9-e900b5cf1571",
   "metadata": {},
   "source": [
    "## 内置函数"
   ]
  },
  {
   "cell_type": "markdown",
   "id": "79f73970-7452-4b04-892b-376342a29b1a",
   "metadata": {},
   "source": [
    "下列是不建议当做变量名称的Python系统内置函数，若是不小心将系统内置函数名称当做变量，程序本身不会错误，但是原先函数功能会丧失。"
   ]
  },
  {
   "cell_type": "markdown",
   "id": "91c1f06e-30de-45c8-b8cb-18e4b613966b",
   "metadata": {},
   "source": [
    "```python\n",
    "dir(__builtins__)\n",
    "```"
   ]
  },
  {
   "cell_type": "markdown",
   "id": "d10521bf-02ac-4587-ab25-29843a42debb",
   "metadata": {},
   "source": [
    "常见的内置函数："
   ]
  },
  {
   "cell_type": "markdown",
   "id": "ebcbecbf-d996-48e8-b0aa-c49f165a082f",
   "metadata": {},
   "source": [
    "||||||\n",
    "|---|---|---|---|---|\n",
    "|abs()  |all(）   | any()   |   apply()   |     basestring() |\n",
    "|bin() | bool(）  | buffer() |  bytearray() |   callable()   | \n",
    "|chr()  |classmethod(） | cmp(）  | coerce()   | compile(）|\n",
    "|complex() |  delattr()  |dict()  |dir()    | divmod(） |\n",
    "|enumerate(） | eval() |   execfile() |   file(） |  filter() |\n",
    "|float()  | format()  |  frozenset() |  getattr() |globals(） |\n",
    "|hasattr(）| hash(） | help(） |   hex() |  id()  |\n",
    "|input()   | int(）  |  intern(） |  isinstance() |  issubclass()  |\n",
    "|iter()   |  len(） |   list()  |   locals(）  |   long()  |\n",
    "|map(）   |   max(） |   memoryview(）|  min()   |  next()  |\n",
    "|object()  | oct()    |  open(） |   ord()  | pow()  |\n",
    "|print()  | property(）|    range(） |  raw_input()  |  reduce(）  |\n",
    "|reload(） |  repr() |   reversed(） |  round(） |  set()  |\n",
    "|setattr(） | slice() |  sorted(）|  staticmethod(）|   str()   |\n",
    "|sum()  |  super()  |  tuple(） |  type()  |  unichr(）  |\n",
    "|unicode()  |  vars() |  xrange(）|  zip() | _import(）|"
   ]
  },
  {
   "cell_type": "markdown",
   "id": "6cfbe1f6-3f50-420e-81f7-ad8c23070816",
   "metadata": {},
   "source": [
    "### Test03"
   ]
  },
  {
   "cell_type": "code",
   "execution_count": 9,
   "id": "c5f73e3e-ddfd-4021-88c7-aac9b577d860",
   "metadata": {},
   "outputs": [
    {
     "name": "stdout",
     "output_type": "stream",
     "text": [
      "94553771826376\n",
      "94553771826376\n",
      "94553771826696\n",
      "94553771827016\n"
     ]
    }
   ],
   "source": [
    "# 变量地址\n",
    "# 使用 id(变量名) 即可查看变量在内存中的存储地址\n",
    "\n",
    "num1 = 10\n",
    "num2 = 10\n",
    "num3 = 20\n",
    "\n",
    "# 查看变量的地址\n",
    "print(id(num1))\n",
    "print(id(num2))\n",
    "print(id(num3))\n",
    "\n",
    "num2 = 30\n",
    "print(id(num2))\n",
    "\n",
    "# 年薪 = 1000000\n",
    "# print(年薪)"
   ]
  },
  {
   "cell_type": "markdown",
   "id": "8202c002-3f59-44ac-a238-ccf8351b38f3",
   "metadata": {},
   "source": [
    "# Python中的基本数学运算"
   ]
  },
  {
   "cell_type": "markdown",
   "id": "06396828-1cd4-49a4-a710-e370ee969408",
   "metadata": {},
   "source": [
    "## 赋值"
   ]
  },
  {
   "cell_type": "markdown",
   "id": "b542ce1b-f838-4fe0-9cd1-33d73e3f18b1",
   "metadata": {},
   "source": [
    "将右边值或变量或表达式设定给左边的变量，称赋值（=）运算"
   ]
  },
  {
   "cell_type": "markdown",
   "id": "8e4209f6-b3c8-4b7e-bdf2-2e98bcf2b302",
   "metadata": {},
   "source": [
    "## 四则运算"
   ]
  },
  {
   "cell_type": "markdown",
   "id": "0747680e-9365-4a73-97a0-c3254cdb2a60",
   "metadata": {},
   "source": [
    "加（+），减（-），乘（*），除（/）"
   ]
  },
  {
   "cell_type": "markdown",
   "id": "02290244-1f7b-4954-938d-4bd0ca7083bf",
   "metadata": {},
   "source": [
    "## 余数（％）和整除（//）"
   ]
  },
  {
   "cell_type": "markdown",
   "id": "65dd3da2-ae9d-418d-bb45-43f7ed1d79b7",
   "metadata": {},
   "source": [
    "使用divmod()函数一次获得商和余数。"
   ]
  },
  {
   "cell_type": "markdown",
   "id": "970b923b-fe9d-4dc6-aadc-1d0c1ec820ee",
   "metadata": {},
   "source": [
    "## 乘方（**）"
   ]
  },
  {
   "cell_type": "markdown",
   "id": "d5d6d09a-8b22-46e7-bfc6-887c1556cef3",
   "metadata": {},
   "source": [
    "## Python语言控制运算的优先级"
   ]
  },
  {
   "cell_type": "markdown",
   "id": "3367717e-e065-4f70-8400-fa167bb3fb0b",
   "metadata": {},
   "source": [
    "0. 括号\n",
    "1. 次方  \n",
    "2. 乘法，除法，求余数（`％`），求整数（`//`），彼此依照出现顺序运算。\n",
    "3. 加法，减法，彼此依照出现顺序运算。"
   ]
  },
  {
   "cell_type": "markdown",
   "id": "a1aa8502-9a07-428a-841b-de4d78bd4b13",
   "metadata": {},
   "source": [
    "## 常见的赋值运算符"
   ]
  },
  {
   "cell_type": "markdown",
   "id": "a863acb5-2fc5-4a6f-9de8-4667d0865bf8",
   "metadata": {},
   "source": [
    "常见的赋值运算符如下，下方是x=10的实例。"
   ]
  },
  {
   "cell_type": "markdown",
   "id": "1cfc3dce-3a69-4bb2-ad83-474e8e0a98a5",
   "metadata": {},
   "source": [
    "|运算符  |语法   |说明    |实例    |结果 |\n",
    "|---|---|---|---|---|\n",
    "| += |a += b | a = a+b | x += 5 | 15 |\n",
    "| -= | a -= b| a = a-b | x -= 5 | 5 |\n",
    "| *= | a *= b | a = a*b | x *= 5 | 50 |\n",
    "| /= | a /= b |  a = a/b | x /= 5 | 2.0 |\n",
    "| %= | a ％= b | a = a%b | x %= 5 | 0 |\n",
    "| //= | a //= b | a = a//b | x //= 5 | 2 |\n",
    "| **= | a **= b | a = a**b | x **=5 | 100000 |"
   ]
  },
  {
   "cell_type": "markdown",
   "id": "fbdfc060-bed9-4354-bf4c-53013c6eb16c",
   "metadata": {},
   "source": [
    "## Python等号的多重指定使用"
   ]
  },
  {
   "cell_type": "markdown",
   "id": "aac6862d-55fc-4be4-a1c5-96c936343acb",
   "metadata": {},
   "source": [
    "需求：交换×，y的值。"
   ]
  },
  {
   "cell_type": "markdown",
   "id": "20fa2b80-4eaf-45b6-8e1f-866859611093",
   "metadata": {},
   "source": [
    "## 删除变量"
   ]
  },
  {
   "cell_type": "markdown",
   "id": "501fd915-f939-4187-9960-3a1e66ca5763",
   "metadata": {},
   "source": [
    "设计程序时如果某个变量不再需要，可以使用`del`指令将此变量删除，相当于可以收回原变量所占的内存空间，以节省内存空间。"
   ]
  },
  {
   "cell_type": "markdown",
   "id": "ee6a9add-d745-4d4c-afdd-ce09eea8f0b0",
   "metadata": {},
   "source": [
    "### Test04-divmod"
   ]
  },
  {
   "cell_type": "code",
   "execution_count": 10,
   "id": "bc73c8d7-ecd6-4c3f-8860-d773741be9f4",
   "metadata": {},
   "outputs": [
    {
     "name": "stdout",
     "output_type": "stream",
     "text": [
      "3\n",
      "1\n",
      "3 1\n"
     ]
    }
   ],
   "source": [
    "# 整除\n",
    "quotient = 10 // 3  # 商\n",
    "# 余数\n",
    "remainder = 10 % 3  # 余数\n",
    "\n",
    "print(quotient)\n",
    "print(remainder)\n",
    "\n",
    "# 内置函数  divmod(x, y)\n",
    "q, r = divmod(10, 3)  # q： 商   r：余数\n",
    "print(q, r)"
   ]
  },
  {
   "cell_type": "markdown",
   "id": "a8083515-75cd-4be4-9edf-3e4f182b02e4",
   "metadata": {},
   "source": [
    "### Test05-Python数值交换"
   ]
  },
  {
   "cell_type": "code",
   "execution_count": 11,
   "id": "5e98c086-2574-460c-99eb-9da8def56548",
   "metadata": {},
   "outputs": [
    {
     "name": "stdout",
     "output_type": "stream",
     "text": [
      "10 20\n",
      "20 20\n",
      "id(x)=94553771826376，id(tmp)=94553771826376，id(y)=94553771826696\n",
      "id(x)=94553771826696，id(tmp)=94553771826376，id(y)=94553771826376\n",
      "20 10\n",
      "id(x)=94553771826376，id(y)=94553771826696\n",
      "id(x)=94553771826696，id(y)=94553771826376\n",
      "20 10\n"
     ]
    }
   ],
   "source": [
    "x, y = 10, 20  # 值传递\n",
    "print(x, y)\n",
    "\n",
    "# 需求 : 交换 x 和 y 的数值\n",
    "# 错误的.\n",
    "x = y\n",
    "y = x\n",
    "print(x, y)\n",
    "\n",
    "# 方式一 : 定义一个临时变量实现数值交换\n",
    "x, y = 10, 20\n",
    "tmp = x  \n",
    "print(f'id(x)={id(x)}，id(tmp)={id(tmp)}，id(y)={id(y)}')\n",
    "x = y\n",
    "y = tmp\n",
    "print(f'id(x)={id(x)}，id(tmp)={id(tmp)}，id(y)={id(y)}')\n",
    "print(x, y)\n",
    "\n",
    "# 赋值运算符的多重指定\n",
    "x, y = 10, 20\n",
    "print(f'id(x)={id(x)}，id(y)={id(y)}')\n",
    "x, y = y, x\n",
    "print(f'id(x)={id(x)}，id(y)={id(y)}')\n",
    "print(x, y)"
   ]
  },
  {
   "cell_type": "markdown",
   "id": "75bcdf34-f6bf-4915-96d1-0f2832b3c8f9",
   "metadata": {},
   "source": [
    "### Test06-Python变量回收"
   ]
  },
  {
   "cell_type": "code",
   "execution_count": 12,
   "id": "4c83a629-1c7e-45e1-b1dd-56b69fa6fe96",
   "metadata": {},
   "outputs": [
    {
     "name": "stdout",
     "output_type": "stream",
     "text": [
      "10\n"
     ]
    },
    {
     "ename": "NameError",
     "evalue": "name 'x' is not defined",
     "output_type": "error",
     "traceback": [
      "\u001b[0;31m---------------------------------------------------------------------------\u001b[0m",
      "\u001b[0;31mNameError\u001b[0m                                 Traceback (most recent call last)",
      "Cell \u001b[0;32mIn[12], line 7\u001b[0m\n\u001b[1;32m      4\u001b[0m \u001b[38;5;66;03m# 删除不需要再次被使用的变量, 其变量的空间内存将会被回收\u001b[39;00m\n\u001b[1;32m      5\u001b[0m \u001b[38;5;28;01mdel\u001b[39;00m x\n\u001b[0;32m----> 7\u001b[0m \u001b[38;5;28mprint\u001b[39m(\u001b[43mx\u001b[49m)\n",
      "\u001b[0;31mNameError\u001b[0m: name 'x' is not defined"
     ]
    }
   ],
   "source": [
    "x = 10\n",
    "print(x)\n",
    "\n",
    "# 删除不需要再次被使用的变量, 其变量的空间内存将会被回收\n",
    "del x\n",
    "\n",
    "print(x)"
   ]
  },
  {
   "cell_type": "markdown",
   "id": "8299e496-0cf6-4e35-8d75-4e503c5ef41d",
   "metadata": {},
   "source": [
    "# 基本运算实例"
   ]
  },
  {
   "cell_type": "markdown",
   "id": "2d465424-6540-4578-8c0d-be7f194290cb",
   "metadata": {},
   "source": [
    "## 实例1：银行存款复利的计算"
   ]
  },
  {
   "cell_type": "markdown",
   "id": "7237f708-0ac9-4236-b66a-fbf472e3a6a8",
   "metadata": {},
   "source": [
    "银行存款复利的计算，假设目前银行年利率是1.5％。复利公式如下：  \n",
    "\n",
    "本金和 = 本金*(1+年利率)^n  ， n是年    \n",
    "\n",
    "你有一笔5万元的存款，请计算5年后的本金和。"
   ]
  },
  {
   "cell_type": "markdown",
   "id": "c13ce044-892a-4cf6-b404-53cd2e144985",
   "metadata": {},
   "source": [
    "### Test07"
   ]
  },
  {
   "cell_type": "code",
   "execution_count": 13,
   "id": "e1b138d8-8cad-4283-a285-275a511834fb",
   "metadata": {},
   "outputs": [
    {
     "name": "stdout",
     "output_type": "stream",
     "text": [
      "本金和是: 53864.20\n"
     ]
    }
   ],
   "source": [
    "# 需求 : 你有一笔5万元的存储, 年利率为 1.5%, 请计算5年后的本金和.\n",
    "# 复利公式 : 本金 * (1 + 年利率)^n\n",
    "\n",
    "money = 50_000\n",
    "rate = 0.015        # 1.5%\n",
    "n = 5               # n 表示年数\n",
    "\n",
    "# 计算复利\n",
    "money = money * (1 + rate) ** n\n",
    "\n",
    "print(f'本金和是: {money:.2f}')"
   ]
  },
  {
   "cell_type": "markdown",
   "id": "30cefcfd-02f8-4ee3-b4d7-68adaa290d73",
   "metadata": {},
   "source": [
    "## 实例2：价值衰减的计算"
   ]
  },
  {
   "cell_type": "markdown",
   "id": "a2347545-b736-4661-9c67-cd8e29004f51",
   "metadata": {},
   "source": [
    "有一个品牌车辆，前3年每年价值衰减15％，请问原价100万元的车辆3年后的残值是多少？"
   ]
  },
  {
   "cell_type": "markdown",
   "id": "b372c0dc-9df0-4572-ad29-a381fc4bf061",
   "metadata": {},
   "source": [
    "### Test08-计算残值"
   ]
  },
  {
   "cell_type": "code",
   "execution_count": 14,
   "id": "774b3e50-48d7-464e-84a8-1550ad3a00d6",
   "metadata": {},
   "outputs": [
    {
     "name": "stdout",
     "output_type": "stream",
     "text": [
      "614124.9999999999\n",
      "现值: 614125.00\n"
     ]
    }
   ],
   "source": [
    "# 原价\n",
    "produce_price = 1_000_000\n",
    "# 衰减率 15%  0.15\n",
    "reduce_rate = 0.15\n",
    "# 年份\n",
    "n = 3\n",
    "\n",
    "# 需求 : 计算3年后的残值\n",
    "remaining_price = produce_price * (1 - reduce_rate) ** n\n",
    "print(remaining_price)\n",
    "print(f'现值: {remaining_price:.2f}')"
   ]
  },
  {
   "cell_type": "markdown",
   "id": "f9b6ec12-76f6-4291-8042-64f5106bf3d1",
   "metadata": {},
   "source": [
    "## 实例3：计算圆面积与圆周长"
   ]
  },
  {
   "cell_type": "markdown",
   "id": "5da57fcb-3e70-488d-a07d-dd83678a9260",
   "metadata": {},
   "source": [
    "假设圆半径是5厘米，圆面积与圆周长计算公式分别如下：  \n",
    "圆面积=PI\\*r\\*r  \n",
    "圆周长=2\\*PI*r  \n",
    "其中：PI=3.141592653589793，r是半径。"
   ]
  },
  {
   "cell_type": "markdown",
   "id": "c372e5b2-a872-4abd-bf84-9dd499d2a8a2",
   "metadata": {},
   "source": [
    "### Test09"
   ]
  },
  {
   "cell_type": "code",
   "execution_count": 15,
   "id": "718ec36d-19a6-4609-b22e-fc2a03f28713",
   "metadata": {},
   "outputs": [
    {
     "name": "stdout",
     "output_type": "stream",
     "text": [
      "78.539815\n",
      "31.415926\n"
     ]
    }
   ],
   "source": [
    "# 圆的面积公式: PI * r**2    PI * r * r\n",
    "# 圆的周长公式: PI * d       d = 2 * r\n",
    "\n",
    "# 定义圆周率 PI\n",
    "PI = 3.1415926\n",
    "\n",
    "# 定义圆的半径\n",
    "r = 5\n",
    "\n",
    "# 面积\n",
    "area = PI * r * r\n",
    "print(area)\n",
    "\n",
    "# 周长\n",
    "circumference = 2 * PI * r\n",
    "print(circumference)"
   ]
  },
  {
   "cell_type": "markdown",
   "id": "4d6efefb-a55a-4eb9-b536-e564fa88d2b9",
   "metadata": {},
   "source": [
    "### Test10-Python数学模块中的Pi"
   ]
  },
  {
   "cell_type": "code",
   "execution_count": 16,
   "id": "b7e0c787-b709-4c2c-a151-dbff57c70135",
   "metadata": {},
   "outputs": [
    {
     "name": "stdout",
     "output_type": "stream",
     "text": [
      "78.53981633974483\n",
      "31.41592653589793\n",
      "3.141592653589793\n"
     ]
    }
   ],
   "source": [
    "# 导入数学模块\n",
    "import math  # math：内置数学模块\n",
    "\n",
    "r = 5\n",
    "area = math.pi * r**2  # math.pi：圆周率，比自定义的更精确\n",
    "print(area)\n",
    "\n",
    "circumference = 2 * math.pi * r\n",
    "print(circumference)\n",
    "\n",
    "print(math.pi)"
   ]
  },
  {
   "cell_type": "code",
   "execution_count": 17,
   "id": "e5420d2a-c469-4be6-9337-8a6713e0a67b",
   "metadata": {},
   "outputs": [
    {
     "data": {
      "text/plain": [
       "3.141592653589793"
      ]
     },
     "execution_count": 17,
     "metadata": {},
     "output_type": "execute_result"
    }
   ],
   "source": [
    "math.pi  # pi：一个无理数"
   ]
  },
  {
   "cell_type": "code",
   "execution_count": null,
   "id": "edc5b6ec-598f-45e8-817e-96e22433807f",
   "metadata": {},
   "outputs": [],
   "source": []
  }
 ],
 "metadata": {
  "kernelspec": {
   "display_name": "Python [conda env:base] *",
   "language": "python",
   "name": "conda-base-py"
  },
  "language_info": {
   "codemirror_mode": {
    "name": "ipython",
    "version": 3
   },
   "file_extension": ".py",
   "mimetype": "text/x-python",
   "name": "python",
   "nbconvert_exporter": "python",
   "pygments_lexer": "ipython3",
   "version": "3.11.6"
  }
 },
 "nbformat": 4,
 "nbformat_minor": 5
}
