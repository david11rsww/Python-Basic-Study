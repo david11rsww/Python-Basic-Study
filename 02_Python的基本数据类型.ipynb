{
 "cells": [
  {
   "cell_type": "markdown",
   "id": "eeb7d81f-3241-4cdc-aa75-d26298278262",
   "metadata": {},
   "source": [
    "# 整数详解"
   ]
  },
  {
   "cell_type": "markdown",
   "id": "b512f34d-47b0-4ee9-a52e-6358aa16d062",
   "metadata": {},
   "source": [
    "Python的基本数据类型有下列几种\n",
    "1. 数值数据类型(numeric type)：常见的数值数据又可分成整数（int)，浮点数(float)，复数(complex number)\n",
    "2. 布尔值(Boolean)数据类型：也被视为数值数据类型\n",
    "3. 文字序列类型(text sequence type)：也就是字符串(string)数据类型\n",
    "4. bytes数据类型：这是二进制的数据类型，长度是8位\n",
    "5. bytearray：字节数组数据类型\n",
    "6. 序列类型(sequence type)：list, tuple\n",
    "7. 映射类型(mapping type)：dict\n",
    "8. 集合类型(set type)：集合set，冻结集合frozen set\n",
    "\n",
    "其中list，tuple，dict，set又称作容器(container)  \n",
    "\n",
    "**type()** 内置函数可以列出变量的数据类型。\n",
    "\n",
    "* 整数\n",
    "\n",
    "整数的英文是integer，在计算机程序语言中一般用int表示。整数大小必须在某一区间，否则会有溢位（overflow），造成数据不正确。  \n",
    "Python3已经将整数存储空间的大小限制拿掉了，所以没有long了，也就是说int可以是任意大小的数值。\n",
    "\n",
    "* 浮点数\n",
    "\n",
    "浮点数的英文是float，既然整数大小没有限制，浮点数大小当然也没有限制。\n",
    "\n",
    "* 整数与浮点数的混合运算\n",
    "\n",
    "Python程序计时不同数据类型也可以执行运算，程序设计时常会发生整数与浮点数之间的数据运算。  \n",
    "Python具有简单自动转换能力，在计算时会 **将整数转换为浮点数** 再执行运算。"
   ]
  },
  {
   "cell_type": "markdown",
   "id": "340cb357-20e9-4e31-a5c9-9df523ec3a3f",
   "metadata": {},
   "source": [
    "## Test01"
   ]
  },
  {
   "cell_type": "code",
   "execution_count": 1,
   "id": "ad38d161-85c2-4cb4-90f6-c0d2f5785be4",
   "metadata": {},
   "outputs": [
    {
     "name": "stdout",
     "output_type": "stream",
     "text": [
      "10 <class 'int'>\n",
      "10.5 <class 'float'>\n",
      "20.5 <class 'float'>\n",
      "2147483648123456789 <class 'int'>\n",
      "123456789.12345679 <class 'float'>\n"
     ]
    }
   ],
   "source": [
    "x = 10\n",
    "print(x, type(x))\n",
    "\n",
    "y = 10.5\n",
    "print(y, type(y))\n",
    "\n",
    "x = x + y\n",
    "print(x, type(x))\n",
    "\n",
    "# 整型数值没有长度限制\n",
    "num = 2147483648123456789\n",
    "print(num, type(num))\n",
    "\n",
    "# 浮点型数值没有长度限制\n",
    "num2 = 123456789.123456789\n",
    "print(num2, type(num2))"
   ]
  },
  {
   "cell_type": "markdown",
   "id": "639deefb-1540-4d7c-a5b8-433e12ac3ca1",
   "metadata": {},
   "source": [
    "不同进制的整数：在整数的使用中，除了我们熟悉的十进制整数运算，还有下列不同底数的整数运算。\n",
    "* 二进制整数：0，1\n",
    "* 八进制整数：0，1，2，3，4，5，6，7\n",
    "* 十六进制整数：0，1，2，3，4，5，6，7，8，9，A，B，C，D，E，F\n",
    "\n",
    "\n",
    "* 二进制整数与函数bin()\n",
    "\n",
    "我们可以用二进制方式代表整数，Python中定义凡是0b开头的数字，代表这是二进制的整数。  \n",
    "bin()函数可以将一般数字转换为二进制。\n",
    "\n",
    "* 八进制整数与函数oct()\n",
    "\n",
    "我们可以用八进制方式代表整数，Python中定义凡是0o开头的数字，代表这是八进制的整数。  \n",
    "oct()函数可以将一般数字转换为八进制。\n",
    "\n",
    "* 十六进制整数与函数hex()\n",
    "\n",
    "我们可以用十六进制方式代表整数，Python中定义凡是0×开头的数字，代表这是十六进制的整数。  \n",
    "hex()函数可以将一般数字转换为十六进制。  \n",
    "\n",
    "程序员的数学进制 windows + r => calc ，打开 windows操作系统计算器，选择程序员计算器。"
   ]
  },
  {
   "cell_type": "code",
   "execution_count": 2,
   "id": "44bd0dc1-3f1c-4500-89df-40fafd942ee1",
   "metadata": {},
   "outputs": [
    {
     "name": "stdout",
     "output_type": "stream",
     "text": [
      "15 <class 'int'>\n",
      "0b1111 <class 'int'>\n",
      "342391 <class 'int'>\n",
      "0o1234567 <class 'int'>\n",
      "32374509039 <class 'int'>\n",
      "0x789abcdef <class 'int'>\n"
     ]
    }
   ],
   "source": [
    "# 二进制\n",
    "num3 = 0b01111 # 会省略1前面的0\n",
    "print(num3, type(num3))\n",
    "\n",
    "num4 = 15\n",
    "print(bin(num4), type(num4))\n",
    "\n",
    "# 八进制\n",
    "num5 = 0o1234567\n",
    "print(num5, type(num5))\n",
    "\n",
    "num6 = 342391\n",
    "print(oct(num6), type(num6))  # oct()：十进制转换为八进制格式\n",
    "\n",
    "# 十六进制\n",
    "num7 = 0x789abcdef\n",
    "print(num7, type(num7))\n",
    "\n",
    "num8 = 32374509039\n",
    "print(hex(num8), type(num8))"
   ]
  },
  {
   "cell_type": "markdown",
   "id": "fcc7cb8c-59b3-40af-889d-ba51dc3f4346",
   "metadata": {},
   "source": [
    "# 强制类型转换"
   ]
  },
  {
   "cell_type": "markdown",
   "id": "baeda83c-7817-4bd8-ac69-18c6dca01fec",
   "metadata": {},
   "source": [
    "## Test02"
   ]
  },
  {
   "cell_type": "markdown",
   "id": "1791f729-7ddd-4a17-ae01-782da316db69",
   "metadata": {},
   "source": [
    "强制数据类型转换：有时候我们设计程序时可以自行强制使用下列函数，转换变量的数据类型。\n",
    "* int()：将数据类型强制转换为整数。\n",
    "* float()：将数据类型强制转换为浮点数。"
   ]
  },
  {
   "cell_type": "code",
   "execution_count": 3,
   "id": "ec82ea60-e3d7-4dce-9b6b-3659a6ed3818",
   "metadata": {},
   "outputs": [
    {
     "name": "stdout",
     "output_type": "stream",
     "text": [
      "num1's type is : <class 'str'>\n",
      "\n",
      "int(num1) = 10\n",
      "float(num1) = 10.0\n",
      "\n",
      "20.5\n",
      "20.5\n"
     ]
    }
   ],
   "source": [
    "# 将字符串数据类型转换为整型或浮点型\n",
    "num1 = '10'\n",
    "print(f'num1\\'s type is : {type(num1)}\\n')\n",
    "# 将 num1 强制转换为 整型 或 浮点型\n",
    "print(f'int(num1) = {int(num1)}')\n",
    "print(f'float(num1) = {float(num1)}\\n')\n",
    "\n",
    "sum = int(num1) + 10.5\n",
    "print(sum)\n",
    "\n",
    "sum = float(num1) + 10.5\n",
    "print(sum)"
   ]
  },
  {
   "cell_type": "markdown",
   "id": "7bcd562f-5130-4008-aaa9-edada83690c6",
   "metadata": {},
   "source": [
    "# 数值运算常用的函数"
   ]
  },
  {
   "cell_type": "markdown",
   "id": "5b25d702-493b-40c1-b3dc-04f19f37e73e",
   "metadata": {},
   "source": [
    "数值运算常用的函数：下列是数值运算时常用的函数。"
   ]
  },
  {
   "cell_type": "markdown",
   "id": "82105c9b-9f8b-4b78-9421-bfec0d118081",
   "metadata": {},
   "source": [
    "## abs()"
   ]
  },
  {
   "cell_type": "markdown",
   "id": "7af9988f-c563-4a03-8472-8b76a1b54e03",
   "metadata": {},
   "source": [
    "计算绝对值"
   ]
  },
  {
   "cell_type": "markdown",
   "id": "00492b6f-ebf5-4e72-8a91-84db7ee49f36",
   "metadata": {},
   "source": [
    "## pow(x, y)"
   ]
  },
  {
   "cell_type": "markdown",
   "id": "0d5adeb8-3346-4761-b0f4-6df31b6accd1",
   "metadata": {},
   "source": [
    "返回×的y次方。"
   ]
  },
  {
   "cell_type": "markdown",
   "id": "ce0f8ec2-7619-4312-880d-5e9ab5fc7230",
   "metadata": {},
   "source": [
    "## round() "
   ]
  },
  {
   "cell_type": "markdown",
   "id": "6bbb99d4-3700-4302-8dd3-dba7ef2123f6",
   "metadata": {},
   "source": [
    "采用Bankers Rounding概念。"
   ]
  },
  {
   "cell_type": "markdown",
   "id": "c09d88db-5fce-4ed2-afc0-52f2222f90d3",
   "metadata": {},
   "source": [
    "* 如果处理位数左边是奇数，则使用四舍五入。\n",
    "* 如果处理位数左边是偶数，则使用五舍六入。例如："
   ]
  },
  {
   "cell_type": "markdown",
   "id": "1a72161b-e3bc-4035-9eea-b311133817b0",
   "metadata": {},
   "source": [
    "```python\n",
    "round(1.5)=2\n",
    "round(2.5)=2\n",
    "```"
   ]
  },
  {
   "cell_type": "markdown",
   "id": "70b05f55-2965-469c-9bfa-b8ba1078bf25",
   "metadata": {},
   "source": [
    "* 处理小数时，第2个参数代表取到小数第几位，根据保留小数位的后两位，采用50舍去，51进位，例如："
   ]
  },
  {
   "cell_type": "markdown",
   "id": "8073a932-05ee-427e-bdaa-72934bb90bb3",
   "metadata": {},
   "source": [
    "```python\n",
    "round(2.15,1) = 2.1\n",
    "round(2.25,1) = 2.2\n",
    "round(2.151,1) = 2.2\n",
    "round(2.251,1) = 2.3\n",
    "```"
   ]
  },
  {
   "cell_type": "markdown",
   "id": "7b117c3b-884e-42a4-adb9-eaf1b6460386",
   "metadata": {},
   "source": [
    "### Test03"
   ]
  },
  {
   "cell_type": "code",
   "execution_count": 4,
   "id": "b036c00e-c641-43c7-9fd4-375cb9a6b92d",
   "metadata": {},
   "outputs": [
    {
     "name": "stdout",
     "output_type": "stream",
     "text": [
      "abs()函数的应用: 10\n",
      "pow()函数的应用: 32\n",
      "round(1.5) 的值: 2\n",
      "round(2.5) 的值: 2\n",
      "round(2.15) 的值: 2.1\n",
      "round(2.25) 的值: 2.2\n"
     ]
    }
   ],
   "source": [
    "x = -10\n",
    "print(f'abs()函数的应用: {abs(x)}')\n",
    "\n",
    "x = 2\n",
    "y = 5\n",
    "print(f'pow()函数的应用: {pow(x, y)}')       # 2^5\n",
    "\n",
    "print(f'round(1.5) 的值: {round(1.5)}')\n",
    "print(f'round(2.5) 的值: {round(2.5)}')\n",
    "print(f'round(2.15) 的值: {round(2.15, 1)}')\n",
    "print(f'round(2.25) 的值: {round(2.25, 1)}')"
   ]
  },
  {
   "cell_type": "markdown",
   "id": "5f6154b9-e0c4-42ec-9876-5a974ad2d0e9",
   "metadata": {},
   "source": [
    "# 科学计算法与复数"
   ]
  },
  {
   "cell_type": "markdown",
   "id": "c2e5e76e-d5ce-4462-b191-52fe948a1b66",
   "metadata": {},
   "source": [
    "## 科学计数法"
   ]
  },
  {
   "cell_type": "markdown",
   "id": "1d510482-136e-4656-acd2-9352967798bd",
   "metadata": {},
   "source": [
    "所谓的科学计数法概念如下一个数字转成下列数学式：a\\*10^n，以10为基底，我们用E或e表示，指数部分则转为一般数字，然后省略*符号。如果碰上小于1的数值，则E或e右边是负值。  \n",
    "\n",
    "例如：0.000123转成科学计数法，最后表达式为：`1.23E-4` 或 `1.23e4-4` 。"
   ]
  },
  {
   "cell_type": "markdown",
   "id": "eb318c3c-acb0-4521-9b69-36474e641276",
   "metadata": {},
   "source": [
    "## 复数"
   ]
  },
  {
   "cell_type": "markdown",
   "id": "7e534d65-ad76-4f30-96a2-30dda1b71486",
   "metadata": {},
   "source": [
    "Python支持复数（complex number）的使用复数是由实数部分和虚数部分所组成。 \n",
    "\n",
    "例如：a+bj或是`complex(a, b)`，复数的实部a和虚部b都是浮点数。"
   ]
  },
  {
   "cell_type": "markdown",
   "id": "23688b9e-7017-4e69-bc4b-5beed945380c",
   "metadata": {},
   "source": [
    "### Test04"
   ]
  },
  {
   "cell_type": "code",
   "execution_count": 5,
   "id": "32b35ff3-c7c7-4e1d-a4b7-cb2e4ad8a8d3",
   "metadata": {},
   "outputs": [
    {
     "name": "stdout",
     "output_type": "stream",
     "text": [
      "123456.0\n",
      "0.000123\n",
      "(3+5j) <class 'complex'>\n",
      "(3+5j) <class 'complex'>\n"
     ]
    }
   ],
   "source": [
    "x = 1.23456E+5\n",
    "print(x)\n",
    "\n",
    "y = 1.23e-4  # 前面有4个0，往前推\n",
    "print(y)\n",
    "\n",
    "# 复数\n",
    "x = 3 + 5j\n",
    "print(x, type(x))\n",
    "\n",
    "y = complex(3, 5)\n",
    "print(y, type(y))"
   ]
  },
  {
   "cell_type": "markdown",
   "id": "652ae8e7-097b-4002-bc26-031dc4064eb3",
   "metadata": {},
   "source": [
    "# 布尔数据类型与bool()函数"
   ]
  },
  {
   "cell_type": "markdown",
   "id": "29d3e79c-a92a-4315-bc13-bd9ab878d008",
   "metadata": {},
   "source": [
    "布尔值数据类型：Python的布尔值（Boolean）数据类型的值有两种，True(真）或False(伪），它的数据类型代号是bool，这个布尔值\n",
    "一般应用在程序流程的控制，特别是在条件表达式中，程序可以根据这个布尔值判断如何执行工作。如果将布尔值数据类型强制转换成整型，当原值是True，将得到1，当原值是False，将得到0。\n",
    "\n",
    "bool()函数可以将所有数据转成True或False，我们可以将数据放在此函数得到布尔值，数数值如果是0或是空，或被视为False。"
   ]
  },
  {
   "cell_type": "markdown",
   "id": "b0c424b9-70e4-4206-a368-797e31d1faa3",
   "metadata": {},
   "source": [
    "## Test05"
   ]
  },
  {
   "cell_type": "code",
   "execution_count": 6,
   "id": "fdef25d1-4f95-42f7-b2d1-7bbf0d659228",
   "metadata": {},
   "outputs": [
    {
     "name": "stdout",
     "output_type": "stream",
     "text": [
      "True <class 'bool'> 1\n",
      "False <class 'bool'> 0\n",
      "布尔值False: False\n",
      "整数0: False\n",
      "浮点数0.0: False\n",
      "空字符串\" \": False\n",
      "空格\" \": True\n",
      "空列表[]: False\n",
      "空元组(): False\n",
      "空字典: False\n",
      "空集合set(): False\n",
      "None: False\n"
     ]
    }
   ],
   "source": [
    "x = True\n",
    "print(x, type(x), int(x))\n",
    "\n",
    "y = False\n",
    "print(y, type(y), int(y))\n",
    "\n",
    "# bool()函数\n",
    "print(f'布尔值False: {bool(False)}')\n",
    "print(f'整数0: {bool(0)}')\n",
    "print(f'浮点数0.0: {bool(0.0)}')\n",
    "print(f'空字符串\" \": {bool(\"\")}')\n",
    "print(f'空格\" \": {bool(\" \")}')\n",
    "print(f'空列表[]: {bool([])}')\n",
    "print(f'空元组(): {bool(())}')\n",
    "print(f'空字典: {bool({})}')\n",
    "print(f'空集合set(): {bool(set())}')\n",
    "print(f'None: {bool(None)}')"
   ]
  },
  {
   "cell_type": "markdown",
   "id": "de961f02-6990-4efc-ab26-74aabb09b9e5",
   "metadata": {},
   "source": [
    "# 字符串数据类型"
   ]
  },
  {
   "cell_type": "markdown",
   "id": "4f02fd90-5a99-4a0b-8141-5ecb1f6b1791",
   "metadata": {},
   "source": [
    "## 字符串数据类型"
   ]
  },
  {
   "cell_type": "markdown",
   "id": "62d04539-e852-4ef0-ab95-cb934859f77b",
   "metadata": {},
   "source": [
    "所谓的字符串（string）数据是指两个单引号之间或是两个双引号之间任意个数字元符号的数据，它的数据类型代号是str，如果我们用单引号去处理字符串产生错误，碰到这种情况我们可以用双引号解决。\n",
    "* 数学的运算符+可以执行两个字符串相加，产生新的字符串。\n",
    "* 程序设计时如果字符串长度多于一行，可以使用三个单引号（或是三个双引号）将字符串包夹。"
   ]
  },
  {
   "cell_type": "markdown",
   "id": "d57c49cf-13b5-4b99-a99b-5fc155824d4e",
   "metadata": {},
   "source": [
    "### Test06"
   ]
  },
  {
   "cell_type": "code",
   "execution_count": 7,
   "id": "c9a6d183-d936-4b65-a96b-7e7c5601234c",
   "metadata": {},
   "outputs": [
    {
     "name": "stdout",
     "output_type": "stream",
     "text": [
      "This is my phone number.\n",
      "This is my phone number.\n"
     ]
    }
   ],
   "source": [
    "# 由于存在内置函数str()，因此，最好不要使用str作为变量名\n",
    "str0 = \"This is my phone number.\"\n",
    "print(str0)\n",
    "\n",
    "str1 = \"This is my\"\n",
    "str2 = \" phone number.\"\n",
    "str3 = str1 + str2\n",
    "print(str3)"
   ]
  },
  {
   "cell_type": "code",
   "execution_count": 8,
   "id": "c9bc9d8c-1b3b-4c87-96c2-ef8103cf1d38",
   "metadata": {},
   "outputs": [
    {
     "name": "stdout",
     "output_type": "stream",
     "text": [
      "This is my phone number.\n",
      "  This is my home address.\n",
      "This is my school name.\n",
      "   \n"
     ]
    }
   ],
   "source": [
    "# 好处是可以保留所有格式，包括：换行 和 空格\n",
    "str4 = '''This is my phone number.\n",
    "  This is my home address.\n",
    "This is my school name.\n",
    "   '''\n",
    "print(str4)"
   ]
  },
  {
   "cell_type": "markdown",
   "id": "40b62808-a804-4bb0-b651-573ae59490d8",
   "metadata": {},
   "source": [
    "* 如果使用三引号可以保留所有格式\n",
    "* 如果使用小括号或者 \\ 拼接方式，那么都将作为一行来显示字符串，无法保留格式"
   ]
  },
  {
   "cell_type": "code",
   "execution_count": 9,
   "id": "2dc57dd0-629b-4613-933d-1f413aa6c10b",
   "metadata": {},
   "outputs": [
    {
     "name": "stdout",
     "output_type": "stream",
     "text": [
      "This is my phone number.This is my home address.This is my school name.\n"
     ]
    }
   ],
   "source": [
    "# 如果使用双引号而非三引号来包含一行字符串，\n",
    "# 如果想从中间回车进行多行编辑，\n",
    "# 回车换行后（IDE工具，如 PyCharm）会自动添加小括号，\n",
    "# 实际上仍然是一行显示\n",
    "# str=\"This is my phone number.This is my home address.This is my school name.\"\n",
    "str5 = (\"This is my phone number.\"\n",
    " \"This is my home address.\"\n",
    " \"This is my school name.\")\n",
    "print(str5)"
   ]
  },
  {
   "cell_type": "code",
   "execution_count": 10,
   "id": "c4179651-c4cc-4726-be1a-e43da80bb52f",
   "metadata": {},
   "outputs": [
    {
     "name": "stdout",
     "output_type": "stream",
     "text": [
      "This is my phone number.This is my home address.This is my school name.\n"
     ]
    }
   ],
   "source": [
    "# 可以使用 \\ 代替括号() 进行字符串连接\n",
    "str6 = \"This is my phone number.\" \\\n",
    " \"This is my home address.\" \\\n",
    " \"This is my school name.\"\n",
    "print(str6)"
   ]
  },
  {
   "cell_type": "markdown",
   "id": "44ce4661-7e47-4095-95d5-a7fc7be927b8",
   "metadata": {},
   "source": [
    "## 逸出（转义）字符（Escape Character）"
   ]
  },
  {
   "cell_type": "markdown",
   "id": "629c4ddd-e225-454a-a6bc-e4c36a7a59ba",
   "metadata": {},
   "source": [
    "逸出字符：在字符串使用中，如果字符串内有一些特殊字符，如单引号双引号必须在此特殊字符前加上 \\（反斜杠），才可正常使用，这种含有\\符号的字符称逸出字符。\n",
    "\n",
    "|逸出字符 | Hex值 | 意义 | 逸出字符 | Hex值 | 意义 |\n",
    "|---|---|---|---|---|---|\n",
    "|\\’ | 27 |单引号 | \\n | 0A | 换行 |\n",
    "| \\” | 22 | 双引号 | \\o |  | 八进制表示|\n",
    "| \\ \\ | 5C | 反斜杠 | \\\\r | 0D | 光标移至最左位置 |\n",
    "| \\a | 07 | 响铃 | \\x | | 十六进制表示 |\n",
    "| \\b | 08 | BackSpace键 | \\t | 09 | Tab键效果 |\n",
    "| \\f | 0C | 换页 | \\v | 0B | 垂直定位 |"
   ]
  },
  {
   "cell_type": "markdown",
   "id": "193af790-7629-4613-8e73-4a1001dcef94",
   "metadata": {},
   "source": [
    "### Test07"
   ]
  },
  {
   "cell_type": "code",
   "execution_count": 11,
   "id": "f76f59fa-2816-4ac9-b64f-62f72d764862",
   "metadata": {},
   "outputs": [
    {
     "name": "stdout",
     "output_type": "stream",
     "text": [
      "我想输出一个反斜杠\\, 再输出一个换行符\n",
      "然后再输出一个双引号\",最后输出一个制表符\tend.\n"
     ]
    }
   ],
   "source": [
    "# 反斜杠表示转义 n -> \\n 换行  t -> \\t 制表符\n",
    "\n",
    "str = \"我想输出一个反斜杠\\\\, 再输出一个换行符\\n然后再输出一个双引号\\\",最后输出一个制表符\\tend.\" # end前面有一个制表符\n",
    "print(str)"
   ]
  },
  {
   "cell_type": "markdown",
   "id": "885bb168-38e0-4242-a45c-32bc53358dc5",
   "metadata": {},
   "source": [
    "## str()内置函数"
   ]
  },
  {
   "cell_type": "markdown",
   "id": "50f4ef4c-bc50-4813-a82c-b82ccd654170",
   "metadata": {},
   "source": [
    "str()函有好几个用法 \n",
    "\n",
    "* 设定空字符串\n",
    "* 设定字符串\n",
    "* 强制将数值数据转换为字符串数据"
   ]
  },
  {
   "cell_type": "markdown",
   "id": "309e9cc5-5a27-41b7-8a7d-e36f79a2c635",
   "metadata": {},
   "source": [
    "### Test08"
   ]
  },
  {
   "cell_type": "code",
   "execution_count": 12,
   "id": "ce087442-a2fc-4570-86e0-fbe36fbdc2a0",
   "metadata": {},
   "outputs": [
    {
     "ename": "TypeError",
     "evalue": "'str' object is not callable",
     "output_type": "error",
     "traceback": [
      "\u001b[0;31m---------------------------------------------------------------------------\u001b[0m",
      "\u001b[0;31mTypeError\u001b[0m                                 Traceback (most recent call last)",
      "Cell \u001b[0;32mIn[12], line 4\u001b[0m\n\u001b[1;32m      2\u001b[0m \u001b[38;5;28mstr\u001b[39m \u001b[38;5;241m=\u001b[39m \u001b[38;5;124m\"\u001b[39m\u001b[38;5;124mThis is Jack\u001b[39m\u001b[38;5;124m'\u001b[39m\u001b[38;5;124ms phone number.\u001b[39m\u001b[38;5;124m\"\u001b[39m\n\u001b[1;32m      3\u001b[0m \u001b[38;5;66;03m# 无法使用一个实例名来作为函数名使用\u001b[39;00m\n\u001b[0;32m----> 4\u001b[0m \u001b[38;5;28;43mstr\u001b[39;49m\u001b[43m(\u001b[49m\u001b[43m)\u001b[49m\n",
      "\u001b[0;31mTypeError\u001b[0m: 'str' object is not callable"
     ]
    }
   ],
   "source": [
    "# 使用内置函数名作为变量名汇存在潜在的问题\n",
    "str = \"This is Jack's phone number.\"\n",
    "# 无法使用一个实例名来作为函数名使用\n",
    "str()"
   ]
  },
  {
   "cell_type": "markdown",
   "id": "26f638ae-e125-4be8-8c15-6108b58d1f1e",
   "metadata": {},
   "source": [
    "* [How to Fix TypeError: 'Str' Object Is Not Callable in Python](https://builtin.com/articles/typeerror-str-object-is-not-callable)"
   ]
  },
  {
   "cell_type": "code",
   "execution_count": 13,
   "id": "c6768c0a-a0bc-44d3-845f-f4dcbc702962",
   "metadata": {},
   "outputs": [
    {
     "data": {
      "text/plain": [
       "'100'"
      ]
     },
     "execution_count": 13,
     "metadata": {},
     "output_type": "execute_result"
    }
   ],
   "source": [
    "# 执行 del str 后可以删除str实例\n",
    "del str\n",
    "# 删除str实例后可以让出str名称来作为方法名使用\n",
    "str(100)"
   ]
  },
  {
   "cell_type": "code",
   "execution_count": 14,
   "id": "25ae6dfa-b17a-4a18-ab96-91d56decdd40",
   "metadata": {},
   "outputs": [
    {
     "name": "stdout",
     "output_type": "stream",
     "text": [
      "\n",
      "Python\n",
      "123 <class 'str'>\n"
     ]
    }
   ],
   "source": [
    "s1 = str()\n",
    "print(s1) # 空字符串+默认打印换行\n",
    "\n",
    "s2 = str(\"Python\")\n",
    "print(s2)\n",
    "\n",
    "n = 123\n",
    "s3 = str(n)\n",
    "print(s3, type(s3))"
   ]
  },
  {
   "cell_type": "markdown",
   "id": "851510b0-f294-4a8f-bbc0-2291be694f31",
   "metadata": {},
   "source": [
    "## 字符串相乘与原生字符串"
   ]
  },
  {
   "cell_type": "markdown",
   "id": "5bba141b-2abc-419d-be2d-818b15c3fc3c",
   "metadata": {},
   "source": [
    "* 字符串与整数相乘产生字符串复制效果\n",
    "\n",
    "Python可以允许将字符串与整数相乘结果是字符串将重复该整数的次数。\n",
    "\n",
    "* 聪明地使用字符串加法和换行字符\\n\n",
    "\n",
    "有时设计程序时，想将字符串分行输出，可以使用字符加法功能，在加法过程中加上换行字符\\n即可产生字符串分行输出的结果。\n",
    "\n",
    "* 字符串前加r\n",
    "\n",
    "在使用Pyhon时，如果在字符串前加上r（raw，原生字符串），可以防止逸出字符被转义。相当于取消逸出字符的功能。\n",
    "\n",
    "* 字符串与字符\n",
    "\n",
    "在Python中没有所谓的字符(Character)数据类型，如果字符串含有一个字符，我们称这是含一个字符的字符串。"
   ]
  },
  {
   "cell_type": "markdown",
   "id": "70939d4e-4462-4ace-9920-07382aa94cdb",
   "metadata": {},
   "source": [
    "### Test09"
   ]
  },
  {
   "cell_type": "code",
   "execution_count": 15,
   "id": "147e7625-5f22-4c77-837a-764608090a11",
   "metadata": {},
   "outputs": [
    {
     "name": "stdout",
     "output_type": "stream",
     "text": [
      "----------\n",
      "Python Python Python \n",
      "Python\n",
      "is\n",
      "a nice language.\n",
      "hello\\npython\n"
     ]
    }
   ],
   "source": [
    "# 字符串相乘就是复制效果\n",
    "print('-' * 10)   # 将会输出一条华丽的分隔线\n",
    "\n",
    "s = \"Python \"\n",
    "print(s * 3) # 重复3次输出Python字符串\n",
    "\n",
    "# 聪明的使用 \\n 换行符\n",
    "s1 = \"Python\"\n",
    "s2 = \"is\"\n",
    "s3 = \"a nice language.\"\n",
    "s4 = s1 + '\\n' + s2 + '\\n' + s3\n",
    "print(s4)\n",
    "\n",
    "# 如果在字符串前添加 r, 其字符串内容的转义效果就消失了  (raw string) 原生字符串\n",
    "# 使用场景 : 文件路径, 网络资源地址中经常使用\n",
    "s5 = r\"hello\\npython\"\n",
    "print(s5)"
   ]
  },
  {
   "cell_type": "code",
   "execution_count": 16,
   "id": "22acbbdb-c808-4a2d-9abd-a51d0ce22dcd",
   "metadata": {},
   "outputs": [
    {
     "name": "stdout",
     "output_type": "stream",
     "text": [
      "hh\\naa\\tbb\n",
      "hh\n",
      "aa\tbb\n"
     ]
    }
   ],
   "source": [
    "print(r\"hh\\naa\\tbb\") # raw string\n",
    "print(\"hh\\naa\\tbb\")  # normal string, with \\n and \\t"
   ]
  },
  {
   "cell_type": "markdown",
   "id": "deb5b63a-c480-4098-9832-efdab017c484",
   "metadata": {},
   "source": [
    "# 字符编码"
   ]
  },
  {
   "cell_type": "markdown",
   "id": "ce430b91-c575-4ff9-8322-a3239c562262",
   "metadata": {},
   "source": [
    "## ASCII码"
   ]
  },
  {
   "cell_type": "markdown",
   "id": "8cdd5115-3d87-4297-a871-3d69e3a1432e",
   "metadata": {},
   "source": [
    "计算器内部最小的存储单位是位（bit），这个位只能存储0和1。一个英文字符在计算器中是被存储成8个位的一连串0或1中，存储这个英文字符的编码我们称ASCII(American standerd Code for lnformation lnterchage，美国信息交换标准程序代码）。\n",
    "![](img/ascii.jpg)\n",
    "可参考：\n",
    "* [ASCII 码表及说明](https://blog.csdn.net/liyuanbhu/article/details/49976271)\n",
    "* [OSCHINA-常用对照表](https://tool.oschina.net/commons?type=4)\n",
    "* [计算机中ascii是什么意思？](https://www.chaicp.com/list/2098.html)\n",
    "\n",
    "我们可以使用 **chr()** 函数执行数据到ASCII码字符的转换。"
   ]
  },
  {
   "cell_type": "markdown",
   "id": "75b679ec-62f6-4811-96eb-939265105446",
   "metadata": {},
   "source": [
    "## Unicode编码"
   ]
  },
  {
   "cell_type": "markdown",
   "id": "94d597cd-120a-464e-8dcb-89b9c327ea44",
   "metadata": {},
   "source": [
    "计算机是美国发明的，因此ASCI|码对于英语系国家的确很好用，但是地球是一个多种族的社会存在几百种语言和文字，ASCII所能容纳的字符是有限的，为了让全球语系的用户可以彼此用计算机沟通，因此有了Unicode码的设计。\n",
    "\n",
    "* Unicode码的基本精神是，所有的文字皆有一个码值，我们也可以将Unicode想成是一个字符集。\n",
    "* 目前Unicode使用**16位**定义文字，等于65536，它的定义方式是以\\u开头后面有4个十六进制的数字，所以是从\\u0000至\\uFFFF 。\n",
    "* 在Unicodefi码中，前128个码值保留给ASC目码使用，所以对于原先存在ASCII码中的英文大小写，标点符号等，可以正常在Unicode码中使用，在应用Unicode编码中我们很常用的是ord()函数。\n",
    "* **ord(x)** ：可以回传函数字符参数×的Unicode码值，如果是中文也可以回传Unicode码值。如果是英文字符，Unicode码值与ASCII码值是一样的了，有了这个函数，我们可以很轻易地获得自己名字的Unicode码值。\n",
    "* ASCII使用utf-8编码规则：对于ASCII字符而言，基本上它使用1个byte存储ASCII字符，utf-8的编码方式是byte的第一个位是0，其它7个位则是此字符的ASCII码值。"
   ]
  },
  {
   "cell_type": "markdown",
   "id": "8c0bd2de-6099-4b34-88f1-ba7bcaff3c1d",
   "metadata": {},
   "source": [
    "### Test10"
   ]
  },
  {
   "cell_type": "code",
   "execution_count": 17,
   "id": "46115707-b086-465b-8acb-85bccc38d386",
   "metadata": {},
   "outputs": [
    {
     "name": "stdout",
     "output_type": "stream",
     "text": [
      "65 97 48\n",
      "A a 0\n"
     ]
    }
   ],
   "source": [
    "# ASCII 码我们需要知道的 3 个字符.  A -> 65  a -> 97  '0' -> 48\n",
    "# ASCII 总共能够存储 128 个字符.\n",
    "\n",
    "s1 = 65\n",
    "s2 = 97\n",
    "s3 = 48\n",
    "print(s1, s2, s3)\n",
    "print(chr(s1), chr(s2), chr(s3))"
   ]
  },
  {
   "cell_type": "code",
   "execution_count": 18,
   "id": "c8a36ee2-018a-4376-b186-9863503d7da6",
   "metadata": {},
   "outputs": [
    {
     "name": "stdout",
     "output_type": "stream",
     "text": [
      "爱\n",
      "29233\n",
      "65\n",
      "97\n",
      "48\n"
     ]
    }
   ],
   "source": [
    "# 中文使用一个字节是无法存储, Unicode 可以存储中文, 使用二个字节存储.\n",
    "s4 = '爱'\n",
    "print(s4)\n",
    "# 对于ASCII字符而言，ord() 是 chr() 的逆函数\n",
    "print(ord(s4))\n",
    "print(ord('A'))\n",
    "print(ord('a'))\n",
    "print(ord('0'))\n",
    "# utf-8 编码是可变长度的编码规则, 汉字在 utf-8 编码中是使用三个字节实现存储的."
   ]
  },
  {
   "cell_type": "code",
   "execution_count": 19,
   "id": "b41c8a38-fb30-4963-86ba-94d047565517",
   "metadata": {},
   "outputs": [
    {
     "name": "stdout",
     "output_type": "stream",
     "text": [
      "10\n"
     ]
    },
    {
     "data": {
      "text/plain": [
       "'\\n'"
      ]
     },
     "execution_count": 19,
     "metadata": {},
     "output_type": "execute_result"
    }
   ],
   "source": [
    "print(ord('\\n'))  # ord : ordinal 序数 ，还原为常规的数值形式\n",
    "# ord('\\n')         # Return the Unicode code point for a one-character string\n",
    "chr(10)           # Return a Unicode string of one character with ordinal i;"
   ]
  },
  {
   "cell_type": "markdown",
   "id": "1aacde53-4314-42cb-9b49-cb3ca181e225",
   "metadata": {},
   "source": [
    "## UTF-8编码"
   ]
  },
  {
   "cell_type": "markdown",
   "id": "39485a8d-e106-409f-8102-c48881c02ed8",
   "metadata": {},
   "source": [
    "utf-8是针对Unicode字符集的可变长度编码方式这是因特网目前所遵循的编码方式，在这种编码方式下，utf-8使用1~4个字节表示一个字符，这种编码方式会根据不同的字符变化编码长度。  \n",
    " \n",
    "* ASCII使用utf-8编码规则：对于ASCII字符而言，基本上它使用1个byte存储ASCII字符，utf-8的编码方式是byte的第一个位是0，其它7个位则是此字符的ASCII码值。\n",
    "* 汉字的utf-8编码规则：需要3个byte编码中文字。UTF-8编码存储汉字使用3个字节。 "
   ]
  },
  {
   "cell_type": "markdown",
   "id": "272ffd9c-3919-4f3a-a91a-d3c48ee714da",
   "metadata": {},
   "source": [
    "## bytes数据"
   ]
  },
  {
   "cell_type": "markdown",
   "id": "82897399-d402-47d9-bf11-17c02246eb44",
   "metadata": {},
   "source": [
    "如果有一个你要与外界沟通或交换数据时特别是我们是使用中文，如果我们不懂中文字符串与bytes数据的转换，我们所获得的数据将会是乱码。\n",
    "\n",
    "字符串转成bytes数据：将字符串转成bytes数据称**编码（encode）**，所使用的是encode()，这个方法的参数是指出编码的方法。\n",
    "\n",
    "|编码 | 说明 |\n",
    "|---|---|\n",
    "|'ascii'| 标准7位的ASCII编码 |\n",
    "|'utf-8' |Unicode可变长度编码，这也是最常使用的编码|\n",
    "|'cp-1252' | 一般英文Windows操作系统编码 |\n",
    "|‘cp950’ | 繁体中文Windows操作系统编码 |\n",
    "|'unicode-escape' | Unicode的常数格式，\\uxxxx或\\Uxxxxxxxx |\n",
    "\n",
    "\n",
    "bytes数据转成字符串：对于一个专业的Python程序设计师而言，常常需要从网络取得数据。所取得的是bytes数据，这时我们需\n",
    "要将此数据转成字符串。将bytes数据转成字符串称码．所使用的是 **decode()** 这个方法的参数是指出编码的方法。"
   ]
  },
  {
   "cell_type": "markdown",
   "id": "234e8d26-e6b7-4433-b265-353e2ce2db4a",
   "metadata": {},
   "source": [
    "### Test11-encode()与decode()"
   ]
  },
  {
   "cell_type": "code",
   "execution_count": 20,
   "id": "ed836a83-21d5-4996-ba08-f99a118b967f",
   "metadata": {},
   "outputs": [
    {
     "name": "stdout",
     "output_type": "stream",
     "text": [
      "b'abc' 3\n",
      "b'\\xe4\\xb8\\xad\\xe5\\x9b\\xbd' 6\n",
      "b'\\xe4\\xb8\\xad\\xe5\\x9b\\xbd' 6\n",
      "b'\\xe4\\xbb\\x8a\\xe6\\x99\\x9a\\xe5\\x85\\xab\\xe7\\x82\\xb9\\xe5\\x87\\x86\\xe6\\x97\\xb6\\xe8\\xa1\\x8c\\xe5\\x8a\\xa8' 24\n",
      "今晚八点准时行动 8\n"
     ]
    }
   ],
   "source": [
    "str1 = 'abc'\n",
    "\n",
    "# 网络中通用的编码格式 'utf-8'\n",
    "encode1 = str1.encode('utf-8')  # 英文字符的utf8格式和原始格式内容相同\n",
    "print(encode1, len(encode1))\n",
    "\n",
    "# encode(字符集)  作用是将字符串数据类型转换为 `二进制字节数据类型`\n",
    "str2 = \"中国\"\n",
    "encode2 = str2.encode('utf-8')\n",
    "print(encode2, len(encode2))  # 一个汉字占用3个字节\n",
    "\n",
    "# 如果字符集不指定, 则默认为 utf-8\n",
    "encode2_1 = str2.encode()\n",
    "print(encode2_1, len(encode2_1))  \n",
    "\n",
    "str3 = '今晚八点准时行动'\n",
    "encode3 = str3.encode('utf-8')\n",
    "print(encode3, len(encode3))\n",
    "\n",
    "# decode(字符集)  作用是将二进制字节数据转换为指定字符集的字符串数据\n",
    "str4 = encode3.decode('utf-8')\n",
    "print(str4, len(str4))"
   ]
  },
  {
   "cell_type": "markdown",
   "id": "3f337c48-eedd-41a1-a76f-03087a443c2d",
   "metadata": {},
   "source": [
    "# 实例"
   ]
  },
  {
   "cell_type": "markdown",
   "id": "6890c0fa-ee9e-412e-92b5-acb927222fbc",
   "metadata": {},
   "source": [
    "## 计算地球到月球所需时间"
   ]
  },
  {
   "cell_type": "markdown",
   "id": "ed776735-99ef-4274-9653-6b3cc66bdaeb",
   "metadata": {},
   "source": [
    "马赫是声速的单位主要是纪念奥地利科学家恩斯特．马赫（ErnstMach)，一马赫就是一倍声速，它的速度大约是每小时1225千米。\n",
    "\n",
    "从地球到月球约384 400干米，假设火箭的速度是一马赫，设计一个程序计算需要多少天，多少小时才可抵达月球。"
   ]
  },
  {
   "cell_type": "markdown",
   "id": "236bff5c-3ee0-495c-a48c-d831bb369a23",
   "metadata": {},
   "source": [
    "### Test12"
   ]
  },
  {
   "cell_type": "code",
   "execution_count": 21,
   "id": "2e6d8ba8-0353-4c20-920d-2794a42fcfd0",
   "metadata": {},
   "outputs": [
    {
     "name": "stdout",
     "output_type": "stream",
     "text": [
      "总共需要13天，1小时.\n"
     ]
    }
   ],
   "source": [
    "# 地球到月球的距离\n",
    "distance = 384_400  # 每3个数字用一个下划线分割\n",
    "# 马赫每小时为 1225 千米\n",
    "speed = 1225\n",
    "# 计算总小时数\n",
    "total_hours = distance // speed\n",
    "# 总天数\n",
    "days = total_hours // 24\n",
    "# 剩余小时数\n",
    "hours = total_hours % 24\n",
    "\n",
    "# 可以使用下内置divmod()函数进行简化\n",
    "days, hours = divmod(total_hours, 24)\n",
    "\n",
    "print(f'总共需要{days}天，{hours}小时.')"
   ]
  },
  {
   "cell_type": "markdown",
   "id": "030442f8-2b87-4e93-bdc3-09da4c2f328f",
   "metadata": {},
   "source": [
    "## 计算两点间的距离"
   ]
  },
  {
   "cell_type": "markdown",
   "id": "d86859b1-25c8-4046-b6f1-7a40542d8353",
   "metadata": {},
   "source": [
    "有两个点坐标分别是（×1，y1),（×2，y2)，求两个点的距离。\n",
    "\n",
    "其实这是勾股定理，基本概念是直角三角形两边长的平方和等于斜边的平方。$a^2+b^2=c^2$\n",
    "$$\n",
    "\\sqrt{(x 1-x 2)^2+(y 1-y 2)^2}\n",
    "$$\n",
    "所以对于坐标上的两个点，我们必须计算相对直角三角形的2个边长，假设a是（×1-×2），b是(y1-y2)，然后计算斜边长，这个斜边长就是两点的距离．"
   ]
  },
  {
   "cell_type": "markdown",
   "id": "484c6d92-93fb-44d1-a676-fa8d0604c83f",
   "metadata": {},
   "source": [
    "![](img/gou.jpg)"
   ]
  },
  {
   "cell_type": "markdown",
   "id": "7ee8e3ba-46e0-4e90-a509-858318d087c2",
   "metadata": {},
   "source": [
    "在人工智能的应用中，我们常用点坐标代表某一个对象的特征（feature），计算两个点之间的距离，相当于可以了解物体间的相似程序，如果距离越短代表相似度越高，距离越长则代表相似度越低。"
   ]
  },
  {
   "cell_type": "markdown",
   "id": "7a8afe79-037e-41cb-a7f6-0cdc297ab074",
   "metadata": {},
   "source": [
    "### Test13"
   ]
  },
  {
   "cell_type": "code",
   "execution_count": 22,
   "id": "e8e0a1cc-f6fc-411e-b4e0-30acae399145",
   "metadata": {},
   "outputs": [
    {
     "name": "stdout",
     "output_type": "stream",
     "text": [
      "两点间的距离为: 5.0\n"
     ]
    }
   ],
   "source": [
    "# 假设两个点坐标分别是 (1, 8) 与 (-2, 4) 请计算着两点之间的距离\n",
    "\n",
    "x1 = 1\n",
    "y1 = 8\n",
    "x2 = -2\n",
    "y2 = 4\n",
    "\n",
    "# 距离公式\n",
    "distance = ((x1 - x2) ** 2 + (y1 - y2) ** 2) ** 0.5\n",
    "print(f'两点间的距离为: {distance}')"
   ]
  },
  {
   "cell_type": "code",
   "execution_count": null,
   "id": "dce20656-fa08-4a6b-bbbb-1d3d862b1013",
   "metadata": {},
   "outputs": [],
   "source": []
  }
 ],
 "metadata": {
  "kernelspec": {
   "display_name": "Python [conda env:base] *",
   "language": "python",
   "name": "conda-base-py"
  },
  "language_info": {
   "codemirror_mode": {
    "name": "ipython",
    "version": 3
   },
   "file_extension": ".py",
   "mimetype": "text/x-python",
   "name": "python",
   "nbconvert_exporter": "python",
   "pygments_lexer": "ipython3",
   "version": "3.11.6"
  }
 },
 "nbformat": 4,
 "nbformat_minor": 5
}
