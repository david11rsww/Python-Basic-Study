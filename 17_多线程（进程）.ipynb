{
 "cells": [
  {
   "cell_type": "markdown",
   "id": "89bc9ea4-8e60-4227-b8a6-fd4b945ec991",
   "metadata": {},
   "source": [
    "# 术语说明"
   ]
  },
  {
   "cell_type": "markdown",
   "id": "9dce98e0-3505-4ebc-9539-71876cfc3f58",
   "metadata": {},
   "source": [
    "## 程序 (program)"
   ]
  },
  {
   "cell_type": "markdown",
   "id": "89cb4e28-24e7-47c4-ada3-4051e49dbf19",
   "metadata": {},
   "source": [
    "程序是为完成特定任务，⽤某种语⾔编写的⼀组指令的集合。  \n",
    "简单的说：就是我们编写的代码。 "
   ]
  },
  {
   "cell_type": "markdown",
   "id": "95562ec2-41d2-479e-a08a-da012d3b095f",
   "metadata": {},
   "source": [
    "## 进程 (process)"
   ]
  },
  {
   "cell_type": "markdown",
   "id": "2a7a84ee-20b4-466d-a6da-2beefbaf762a",
   "metadata": {},
   "source": [
    "1. 进程是指运⾏中的程序，⽐如我们使⽤QQ，就启动了⼀个进程，操作系统就会为该进程分配内存空间，当我们使⽤功能迅雷，⼜启动了⼀个进程，操作系统将迅雷分配新的内存空间。\n",
    "2. 进程是程序的⼀次执⾏过程，或是正在运⾏的⼀个程序，是**动态**过程：有它⾃身的产⽣，存在和消亡的过程。\n",
    "\n",
    "⿏标右键点击任务栏，选择 `任务管理器` 选项，可以打开任务管理器⾯板。在窗⼝的 `进程` 选项卡中可以看到当前正在执⾏的程序。  \n",
    "\n",
    "![](img/task.jpg)  \n",
    "\n",
    "总结：在⼀个操作系统中, 每个独⽴执⾏的程序都可称为⼀个进程, 也就是 `正在运⾏的程序`。"
   ]
  },
  {
   "cell_type": "markdown",
   "id": "7ef4c911-d95a-4631-954f-3231bb3d726e",
   "metadata": {},
   "source": [
    "## 线程 (thread)"
   ]
  },
  {
   "cell_type": "markdown",
   "id": "ec7e8906-1981-4e1a-98b6-ce6c1fc142aa",
   "metadata": {},
   "source": [
    "1. 线程是由进程创建的, 是进程的⼀个实体\n",
    "2. ⼀个进程可以拥有多个线程"
   ]
  },
  {
   "cell_type": "markdown",
   "id": "957a716c-42f6-46ea-9dc8-9049a46004e9",
   "metadata": {},
   "source": [
    "单线程：同⼀个时刻，只允许执⾏⼀个线程。  \n",
    "\n",
    "多线程：同⼀个时刻，可以执⾏多个线程。⽐如：⼀个 qq 进程，可以同时打开多个聊天窗⼝，⼀个迅雷进程，可以同时下载多个⽂件。  \n",
    "\n",
    "并发：同⼀个时刻，多个任务 *交替* 执⾏，造成⼀种 '貌似同时' 的错觉，简单的说，单核 cpu 实现的多任务就是并发。  ⽐如：开⻋的同时在打电话，直播的时候边说话边打字。  \n",
    "\n",
    "并⾏：同⼀个时刻，多个任务同时执⾏。多核 cpu 可以实现并⾏ (Processor 处理器)。⽐如：两个⼈在⻋上，⼀个⼈在开⻋，⼀个⼈在打电话。  \n",
    "\n",
    "在同⼀台电脑中，并发和并⾏是可以同时存在的。 "
   ]
  },
  {
   "cell_type": "markdown",
   "id": "c30de018-abb5-44c7-a7c2-01f197095a73",
   "metadata": {},
   "source": [
    "![](img/cpu.jpg)"
   ]
  },
  {
   "cell_type": "markdown",
   "id": "a0d6214e-176b-4852-8d4c-c9864dba8abc",
   "metadata": {},
   "source": [
    "掌握多线程编程技术，可以充分利⽤CPU的资源，更容易解决实际中的问题。  \n",
    "多线程技术⼴泛应⽤于和⽹络有关的程序设计中，因此掌握多线程技术，对于学习⽹络是⾄关重要的。  \n",
    "\n",
    "并发：⼀段时间内，多个线程同时运⾏。（CPU的⾼速切换）  \n",
    "\n",
    "在多任务操作系统中，表⾯上看似⽀持进程并发执⾏的，例如可以⼀边听⾳乐⼀边聊天，但实际上这些进程并不是同时运⾏的。  \n",
    "在计算机中，所有的应⽤程序都是由CPU执⾏的，对于⼀个CPU⽽⾔，在某个时间点只能运⾏⼀个程序，也就是说只能执⾏⼀个进程。  \n",
    "操作系统会为每⼀个进程分配⼀段有限的CPU使⽤时间，CPU在这段时间中执⾏某个进程，然后在下⼀段时间切换到另⼀个进程中执⾏，由于CPU运⾏速度很快，能在极短的时间内在不同的进程之间进⾏切换，所以给⼈⼀种同时执⾏多个程序的感觉。  "
   ]
  },
  {
   "cell_type": "markdown",
   "id": "c3c93343-0799-4bc7-9764-dfedd7fdb5fc",
   "metadata": {},
   "source": [
    "Python实现多线程 (类似于⾼速公路上有多条⻋道，每⼀条⻋道有快有慢，但互不影响）  \n",
    "\n",
    "线程类似于同时执⾏多个不同程序，多线程运⾏有如下优点：  \n",
    "\n",
    "1. 使⽤线程可以把占据⻓时间的程序中的任务放到后台去处理。\n",
    "2. 程序的运⾏速度可能加快\n",
    "3. 在⼀些等待的任务实现上如⽤户输⼊、⽂件读写和⽹络收发数据等，线程就⽐较有⽤了。在这种情况下我们可以释放⼀些珍贵的资源如内存占⽤等等。\n",
    "4. 每个线程都有他⾃⼰的⼀组 CPU 寄存器，称为线程的上下⽂，该上下⽂反映了线程上次运⾏该线程的 CPU 寄存器的状态。\n",
    "5. 在其他线程正在运⾏时，线程可以暂时搁置（也称为睡眠）， 这就是线程的退让。 "
   ]
  },
  {
   "cell_type": "markdown",
   "id": "be4a8c00-ac6b-44b6-a92c-7243a65a555f",
   "metadata": {},
   "source": [
    "在引⼊线程的操作系统中，则把 *线程* 作为**调度和分派**的基本单位，把 *进程* 作为**资源拥有**的基本单位。  \n",
    "\n",
    "**进程**是程序的⼀次执⾏, 对应了代码加载, 执⾏⾄执⾏完毕的⼀个完整过程, 或者说是程序在处理机中的⼀次运⾏。  \n",
    "**线程**是进程执⾏过程中产⽣的多条执⾏线索，是⽐进程更⼩的执⾏单位。  \n",
    "\n",
    "⼀个进程在其执⾏过程中，可以产⽣多个线程，形成多条执⾏线索，每条线索，即每个线程也有它⾃身的产⽣，存在和消亡的过程。  \n",
    "和进程可以共享操作系统的资源类似，线程间也可以共享进程中的某些内存单元（包括代码与数据），并利⽤这些共享单元来实现数据交换，实现通信与必要的同步操作，但与进程不同的是，线程的中断与恢复可以更加节省系统的开销。具有多个线程的进程能更好地表达和解决现实世界的具体问题，多线程是计算机应⽤开发和程序设计的⼀项重要的使⽤技术。  "
   ]
  },
  {
   "cell_type": "markdown",
   "id": "b3590be5-d670-4bf3-8946-5301fa05d283",
   "metadata": {},
   "source": [
    "![](img/state.jpg)  \n",
    "*线程状态转换图*  "
   ]
  },
  {
   "cell_type": "markdown",
   "id": "2fc6009e-5e9d-492f-b86d-da7339f979e5",
   "metadata": {},
   "source": [
    "**思考：**  线程是不是越多越好呢？  \n",
    "\n",
    "1. 对于⼀个CPU⽽⾔，同⼀时刻，只能执⾏⼀个任务。  \n",
    "2. 同⼀时间段内，如果线程过多，每个线程被切到的时间就变少了。因此, 线程并不是越多越好。"
   ]
  },
  {
   "cell_type": "markdown",
   "id": "8d6167d0-f10a-4b75-8d1e-ee11994f2740",
   "metadata": {},
   "source": [
    "## 简述进程和程序的区别"
   ]
  },
  {
   "cell_type": "markdown",
   "id": "704f4701-4b47-461d-8ddb-e14277e1fa94",
   "metadata": {},
   "source": [
    "(1) 程序是静态的，⽽进程是动态的。  \n",
    "(2) 进程是程序的⼀个执⾏过程，程序的存在是永久的，⽽进程是为了程序的⼀次执⾏⽽暂时存在的。进程有⽣命周期，有诞⽣，亦有消亡。  \n",
    "(3) ⼀个进程可以包括若⼲程序的执⾏，⽽⼀个程序亦可以产⽣多个进程。  \n",
    "(4) 进程具有创建其他进程的功能，被创建的进程称为⼦进程，从⽽构成进程家族。  \n",
    "\n",
    "*说明：* 任何⼀个程序必须⾸先调⼊**内存**才能执⾏。"
   ]
  },
  {
   "cell_type": "markdown",
   "id": "35cfb874-ea04-4cfd-af46-f0d9205370db",
   "metadata": {},
   "source": [
    "## 请简述线程的概念"
   ]
  },
  {
   "cell_type": "markdown",
   "id": "0a4833bd-6a58-483f-9397-2003acc13355",
   "metadata": {},
   "source": [
    "线程是进程执⾏过程中产⽣的多条执⾏线索，是⽐进程单位更⼩的执⾏单位，线程在形式上同进程⼗分相似，都是⽤⼀个按序执⾏的语句序列来完成特定的功能，不同的是，线程没有⼊⼝，也没有出⼝，⾃身不能⾃动运⾏，必须栖身于某⼀个进程中，由进程触发执⾏，并且属于同⼀进程的线程共享该进程的系统资源。"
   ]
  },
  {
   "cell_type": "markdown",
   "id": "b33d2ac2-8ad6-4a4a-9ea3-69a0ae06c92a",
   "metadata": {},
   "source": [
    "# 多线程"
   ]
  },
  {
   "cell_type": "markdown",
   "id": "02bd9e3d-656b-4272-994e-662f2940c80c",
   "metadata": {},
   "source": [
    "在商业化的应⽤设计时，通常会为⼀个程序设计多个线程，⼤都不会让⼀个线程占据系统所有资源。  \n",
    "\n",
    "例如：word 设计时，有⼀个线程是处理编辑窗⼝随时监听是否有屏幕输⼊可实时编排版⾯，同⼀时间也有 word 的线程在做编辑字数统计随时更新 word 的窗⼝状态栏。   \n",
    "\n",
    "*思考：* 能否在同⼀个Python应⽤程序中执⾏2个以上的⽆限循环呢？"
   ]
  },
  {
   "cell_type": "markdown",
   "id": "9c591a41-ba85-416b-a576-690e200e010d",
   "metadata": {},
   "source": [
    "### Test01-问题引入"
   ]
  },
  {
   "cell_type": "code",
   "execution_count": null,
   "id": "01516a13-3c30-49d9-9dd5-f1ddde8b6157",
   "metadata": {
    "scrolled": true
   },
   "outputs": [],
   "source": [
    "# 思考 : 同一个 Python 程序如何执行多个死循环 ???\n",
    "\n",
    "# 耗时操作 (阻塞)\n",
    "while True:     # 死循环\n",
    "    print('任务 1 ....')\n",
    "\n",
    "while True:\n",
    "    print('任务 2 ...')"
   ]
  },
  {
   "cell_type": "markdown",
   "id": "472db4b6-d9f0-44f6-a0d5-04e5ef07ad0f",
   "metadata": {},
   "source": [
    "## 单线程"
   ]
  },
  {
   "cell_type": "markdown",
   "id": "26d6e430-e777-47a2-bd4c-4ffacd1fb777",
   "metadata": {},
   "source": [
    "### Test02-main线程"
   ]
  },
  {
   "cell_type": "code",
   "execution_count": null,
   "id": "447e12b7-283b-47f6-b7e7-dbb8311d2dd2",
   "metadata": {},
   "outputs": [],
   "source": [
    "# 单线程 : 一个进程中只有一条执行路径\n",
    "# 特性 : 可以分析出该程序是如何执行的\n",
    "\n",
    "class Test(object):\n",
    "    def __init__(self, name):\n",
    "        self.name = name\n",
    "\n",
    "    # 定义一个 run 行为\n",
    "    def run(self):\n",
    "        # 执行代码... (耗时操作)\n",
    "        for i in range(3):\n",
    "        # while True:\n",
    "            print(f'{self.name} -> run ... {i}')\n",
    "\n",
    "\n",
    "# 主函数 (程序的入口)\n",
    "if __name__ == '__main__':\n",
    "    print('main方法开始执行...')\n",
    "\n",
    "    # 1. 创建两个个测试类对象\n",
    "    test_one = Test('one')\n",
    "    # 2. 调用方法\n",
    "    test_one.run()\n",
    "\n",
    "    test_two = Test('two')\n",
    "    test_two.run()\n",
    "\n",
    "    for i in range(3):\n",
    "        print(f'main -> run ... {i}')\n",
    "\n",
    "    print('main方法执行完毕...')"
   ]
  },
  {
   "cell_type": "markdown",
   "id": "7abf17fb-ebf7-42e9-83ee-4ca5284194e3",
   "metadata": {},
   "source": [
    "## 线程初体验"
   ]
  },
  {
   "cell_type": "markdown",
   "id": "c9b175ed-6d19-4594-b0f3-de71ce827ba8",
   "metadata": {},
   "source": [
    "为了解决程序被霸占资源⽆法执⾏的后果，我们可以使⽤多线程的概念。  \n",
    "\n",
    "Python 官⽅提供的 threading 模块可以进⾏多线程编程。  \n",
    "\n",
    "threading 模块提供了多线程编程的⾼级 API， 使⽤起来⽐较简单。  \n",
    "\n",
    "在 threading 模块中提供了线程类 Thread， 还提供了很多线程相关的函数。  \n",
    "* active_count()： 返回当前处于活动状态的线程个数。\n",
    "* current_thread()： 返回当前的Thread对象。\n",
    "* main_thread()： 返回主线程对象。 主线程是Python解释器启动的线程。 "
   ]
  },
  {
   "cell_type": "markdown",
   "id": "9afb0efb-ad03-4323-ab3b-ed7245c43b53",
   "metadata": {},
   "source": [
    "### Test03-多线程相关的函数"
   ]
  },
  {
   "cell_type": "code",
   "execution_count": null,
   "id": "e24007fd-be6b-4aef-b971-2c7177131149",
   "metadata": {},
   "outputs": [],
   "source": [
    "# 多线程程序 (导入 threading 模块)\n",
    "# 多线程特性 : 乱序执行, 多线程的任务中是没有办法分析执行流程的. (执行流程是由操作系统的cpu时间片调用决定的)\n",
    "import threading\n",
    "\n",
    "# 获取当前线程\n",
    "t1 = threading.current_thread()\n",
    "print(t1, id(t1))\n",
    "\n",
    "# 获取主线程\n",
    "t2 = threading.main_thread()\n",
    "print(t2, id(t2))\n",
    "\n",
    "count = threading.active_count()  # 当前活跃线程个数\n",
    "\n",
    "# 在notebook中可能输出count=8，因为Jupyter notebook会启动一些后台线程来处理交互\n",
    "print(f'{count = }')  # 在Pycharm中count=1，在notebook中count=8"
   ]
  },
  {
   "cell_type": "markdown",
   "id": "f5dd1920-c93a-4874-afb1-9de7d7b71d97",
   "metadata": {},
   "source": [
    "线程初体验：在同⼀个Python程序中同时执⾏两个死循环。"
   ]
  },
  {
   "cell_type": "markdown",
   "id": "1cb35b9c-1c43-40b3-b26e-6455f450f818",
   "metadata": {},
   "source": [
    "### Test04-线程初体验"
   ]
  },
  {
   "cell_type": "code",
   "execution_count": null,
   "id": "f3897315-da2a-49bd-82da-5b648e6bde7a",
   "metadata": {
    "scrolled": true
   },
   "outputs": [],
   "source": [
    "import threading\n",
    "\n",
    "\n",
    "# 任务输出\n",
    "def thread_body():\n",
    "    # 当前线程对象\n",
    "    t = threading.current_thread()\n",
    "    # 耗时操作 (死循环)\n",
    "    while True:\n",
    "        # name 是线程对象的属性  格式: Thread-%d\n",
    "        print(f'{t.name} 线程正在执行中...')\n",
    "\n",
    "\n",
    "if __name__ == '__main__':\n",
    "\n",
    "    # 创建一个子线程的任务 (函数的形式传入任务)\n",
    "    # Thread(target=子线程的任务) target 接收的是一个函数对象, 传递的时候传的是函数的名称\n",
    "    # 1. 创建了一个线程对象 (子线程对象)\n",
    "    t1 = threading.Thread(target=thread_body)\n",
    "    # 2. 执行子线程对象, 使用线程对象的 start() 方法\n",
    "    t1.start()\n",
    "\n",
    "    # 再创建一个子线程\n",
    "    t2 = threading.Thread(target=thread_body)\n",
    "    t2.start()\n",
    "\n",
    "    # 主线程的代码\n",
    "    while True:\n",
    "        print(f'{threading.current_thread().name} 线程正在执行中...')"
   ]
  },
  {
   "cell_type": "markdown",
   "id": "a133f77c-b0c8-42a5-b227-394d395c43cb",
   "metadata": {},
   "source": [
    "思考： 从运⾏结果可⻅，两个⼦线程是交错运⾏的，为什么会这样呢？"
   ]
  },
  {
   "cell_type": "markdown",
   "id": "b9c6863b-e036-4eb3-a491-e25360cfc9e3",
   "metadata": {},
   "source": [
    "## 参数的传送"
   ]
  },
  {
   "cell_type": "code",
   "execution_count": null,
   "id": "a5285e2b-c981-428c-a937-7f0b4c14adb3",
   "metadata": {},
   "outputs": [],
   "source": [
    "t1 = ('三体1(地球往事)')\n",
    "print(t1, type(t1))\n",
    "\n",
    "t2 = ('三体1(地球往事)', )\n",
    "print(t2, type(t2))"
   ]
  },
  {
   "cell_type": "markdown",
   "id": "288dbad0-b3eb-445c-8fcf-313875d06b0a",
   "metadata": {},
   "source": [
    "### Test05"
   ]
  },
  {
   "cell_type": "code",
   "execution_count": null,
   "id": "03ee21c5-e4fe-4534-a113-4cf3a19ebd81",
   "metadata": {
    "scrolled": true
   },
   "outputs": [],
   "source": [
    "import threading\n",
    "\n",
    "# 线程的特性 : 每个线程都是独立的,\n",
    "\n",
    "# 下载任务 (阻塞过程)\n",
    "def thread_body(movie_name):\n",
    "    # 当前线程对象\n",
    "    t = threading.current_thread()\n",
    "    # 耗时操作 (死循环)\n",
    "    while True:\n",
    "        # name 是线程对象的属性  格式: Thread-%d\n",
    "        print(f'{t.name} 线程正在下载 {movie_name} 中...')\n",
    "\n",
    "\n",
    "if __name__ == '__main__':\n",
    "\n",
    "    # 创建一个子线程的任务 (函数的形式传入任务)\n",
    "    # Thread(target=子线程的任务) target 接收的是一个函数对象, 传递的时候传的是函数的名称\n",
    "    # 1. 创建了一个线程对象 (子线程对象)\n",
    "    # target=函数() 这个格式不是传递函数参数\n",
    "    # args=() 元组类型参数, 作用是给子线程的任务传参的, 如果是一个元组类型, 元素只有一个, 一定要在元素之后添加逗号，否则元组被认为是字符串。\n",
    "    t1 = threading.Thread(target=thread_body, args=('三体1(地球往事)', ), name='下载任务1')  \n",
    "    # 2. 执行子线程对象, 使用线程对象的 start() 方法\n",
    "    t1.start()\n",
    "\n",
    "    # 再创建一个子线程\n",
    "    t2 = threading.Thread(target=thread_body, args=('三体2(黑暗森林)', ), name='下载任务2')\n",
    "    t2.start()\n",
    "\n",
    "    # 再创建一个子线程\n",
    "    t3 = threading.Thread(target=thread_body, args=('三体3(死神永生)', ), name='下载任务3')\n",
    "    t3.start()\n",
    "\n",
    "    # 主线程的代码 (与用户的实时交互操作)\n",
    "    while True:\n",
    "        print(f'{threading.current_thread().name} 用户的实时交互操作')"
   ]
  },
  {
   "cell_type": "markdown",
   "id": "bdb370ed-7335-4aa3-91b3-7948cb3f5aee",
   "metadata": {},
   "source": [
    "设计多线程最重要的概念是，各线程间不要使⽤相同的变量，每个线程最好使⽤本身的局部变量，这可以避免变量值相互⼲扰。"
   ]
  },
  {
   "cell_type": "markdown",
   "id": "ac0e951b-6ebd-4a52-bc6e-c2dab6be1748",
   "metadata": {},
   "source": [
    "# 线程操作"
   ]
  },
  {
   "cell_type": "markdown",
   "id": "fa722c2d-7fc7-4ac5-a646-6ff17d4a633c",
   "metadata": {},
   "source": [
    "## Daemon 线程"
   ]
  },
  {
   "cell_type": "markdown",
   "id": "cdac1c6d-ac08-4c02-800a-5b3b283cb3b3",
   "metadata": {},
   "source": [
    "在预设情况下，所有的线程皆不是 Daemon 线程 (可以翻译为**守护线程**)，在默认情况下，如果⼀个程序建⽴了主线程于其它⼦线程，在所有线程⼯作结束后，程序才会结束。因为如果主线程若是先结束，将退回所有占据的资源给操作系统，如果⼦线程仍在执⾏将会因为没有资源造成程序崩溃。  \n",
    "\n",
    "但是当我们设计的线程是 Daemon 线程时，主线程若是想要结束执⾏，会检查 Daemon 线程的属性。  \n",
    "1. 如果此时 Daemon 线程的属性是 True，即使 Daemon 线程仍在执⾏，其他⾮ Daemon 线程执⾏结束，程序将不等待 Daemon 线程，也会⾃⾏结束同时终⽌此 Daemon 线程⼯作。  \n",
    "2. 如果此时 Daemon 线程的属性是 False，主线程会等待 Daemon 线程结束，再结束⼯作。 "
   ]
  },
  {
   "cell_type": "markdown",
   "id": "c460b872-12d1-4b77-8ee8-1f331742900c",
   "metadata": {},
   "source": [
    "### Test06-daemon=False 默认值"
   ]
  },
  {
   "cell_type": "code",
   "execution_count": null,
   "id": "30c34b7a-234a-4f8e-a635-35087bf7cb08",
   "metadata": {
    "scrolled": true
   },
   "outputs": [],
   "source": [
    "import threading\n",
    "\n",
    "# 线程的特性 : 每个线程都是独立的,\n",
    "\n",
    "# 下载任务 (阻塞过程)\n",
    "def thread_body(movie_name):\n",
    "    # 当前线程对象\n",
    "    t = threading.current_thread()\n",
    "    # 耗时操作 (死循环)\n",
    "    while True:\n",
    "        # name 是线程对象的属性  格式: Thread-%d\n",
    "        print(f'{t.daemon = }, {t.name} 线程正在下载 {movie_name} 中...')\n",
    "\n",
    "\n",
    "if __name__ == '__main__':\n",
    "\n",
    "    # 在预设情况下, 所有的线程 (主线程和子线程) 皆不是 Daemon 线程 (可以翻译为守护线程)\n",
    "    # Daemon=False 当前子线程不是守护线程, 如果主线程消亡了, 不会影响到子线程的执行, 子线程会继续执行, 直到完毕后才会消亡\n",
    "    # 守护线程 : 如果主线程消亡, 所有子线程都会消亡\n",
    "    t1 = threading.Thread(target=thread_body, args=('三体1(地球往事)', ), name='下载任务1')\n",
    "    # 2. 执行子线程对象, 使用线程对象的 start() 方法\n",
    "    t1.start()\n",
    "\n",
    "    # 再创建一个子线程\n",
    "    t2 = threading.Thread(target=thread_body, args=('三体2(黑暗森林)', ), name='下载任务2')\n",
    "    t2.start()\n",
    "\n",
    "    # 再创建一个子线程\n",
    "    t3 = threading.Thread(target=thread_body, args=('三体3(死神永生)', ), name='下载任务3')\n",
    "    t3.start()\n",
    "\n",
    "    # 主线程的代码 (与用户的实时交互操作)\n",
    "    # while True:\n",
    "    #     print(f'{threading.current_thread().name} 用户的实时交互操作')"
   ]
  },
  {
   "cell_type": "markdown",
   "id": "c01e6993-7d5f-4df6-86a9-7051c316eadc",
   "metadata": {},
   "source": [
    "### Test07-t1.daemon = True "
   ]
  },
  {
   "cell_type": "code",
   "execution_count": null,
   "id": "23385235-bb0d-4d02-9de5-a0c294719381",
   "metadata": {
    "scrolled": true
   },
   "outputs": [],
   "source": [
    "import threading\n",
    "\n",
    "\n",
    "# 线程的特性 : 每个线程并⾮完全独⽴的，因为主线程如果提前结束了，⼦线程就会全部消亡(守护线程)\n",
    "\n",
    "# 下载任务 (阻塞过程)\n",
    "def thread_body(movie_name):\n",
    "    # 当前线程对象\n",
    "    t = threading.current_thread()\n",
    "    # 耗时操作 (死循环)\n",
    "    while True:\n",
    "        # name 是线程对象的属性  格式: Thread-%d\n",
    "        print(f'{t.daemon = }, {t.name} 线程正在下载 {movie_name} 中...')\n",
    "\n",
    "\n",
    "if __name__ == '__main__':\n",
    "\n",
    "    # 在预设情况下, 所有的线程 (主线程和子线程) 皆不是 Daemon 线程 (可以翻译为守护线程)\n",
    "    # Daemon=False 当前子线程不是守护线程, 如果主线程消亡了, 不会影响到子线程的执行, 子线程会继续执行, 直到完毕后才会消亡\n",
    "    # 守护线程 : 如果主线程消亡, 所有子线程都会消亡\n",
    "    t1 = threading.Thread(target=thread_body, args=('三体1(地球往事)', ), name='下载任务1')\n",
    "    # 方式一\n",
    "    t1.daemon = True        # 将当前子线程设置为守护线程\n",
    "    # 2. 执行子线程对象, 使用线程对象的 start() 方法\n",
    "    t1.start()\n",
    "\n",
    "    # 再创建一个子线程\n",
    "    t2 = threading.Thread(target=thread_body, args=('三体2(黑暗森林)', ), name='下载任务2', daemon=True)  # 方式二\n",
    "    t2.start()\n",
    "\n",
    "    # 再创建一个子线程\n",
    "    t3 = threading.Thread(target=thread_body, args=('三体3(死神永生)', ), name='下载任务3', daemon=True)\n",
    "    t3.start()\n",
    "\n",
    "    # 主线程的代码 (与用户的实时交互操作)\n",
    "    while True:\n",
    "        print(f'{threading.current_thread().name} 用户的实时交互操作')"
   ]
  },
  {
   "cell_type": "markdown",
   "id": "0a5ed653-d000-4861-b422-4d48dbeb1b98",
   "metadata": {},
   "source": [
    "## 阻塞主线程 join()"
   ]
  },
  {
   "cell_type": "markdown",
   "id": "f4403785-93cb-45b2-8715-b6eacd505ec0",
   "metadata": {},
   "source": [
    "主线程在⼯作时，如果想要安插⼀个⼦线程进来，可以使⽤ join()，这时安插进来的⼦线程可以先⼯作，直到所邀请的⼦线程结束，主线程才开始⼯作。  "
   ]
  },
  {
   "cell_type": "markdown",
   "id": "84e2eca1-ca68-409f-92b6-f364bdd4d048",
   "metadata": {},
   "source": [
    "### Test08"
   ]
  },
  {
   "cell_type": "code",
   "execution_count": null,
   "id": "29e7e323-7dfb-4813-92ba-faaf74e70540",
   "metadata": {},
   "outputs": [],
   "source": [
    "import threading\n",
    "import time\n",
    "\n",
    "\n",
    "# 线程的特性 : 每个线程都是独立的,\n",
    "\n",
    "# 下载任务 (阻塞过程)\n",
    "def thread_body(movie_name):\n",
    "    # 当前线程对象\n",
    "    t = threading.current_thread()\n",
    "    # 耗时操作\n",
    "    for i in range(5):  # 模拟耗时操作\n",
    "        # name 是线程对象的属性  格式: Thread-%d\n",
    "        print(f'{t.daemon = }, {t.name} 线程正在下载 {movie_name} 中...')\n",
    "        time.sleep(1)   # 休眠一秒钟\n",
    "\n",
    "\n",
    "if __name__ == '__main__':\n",
    "\n",
    "    # 在预设情况下, 所有的线程 (主线程和子线程) 皆不是 Daemon 线程 (可以翻译为守护线程)\n",
    "    # Daemon=False 当前子线程不是守护线程, 如果主线程消亡了, 不会影响到子线程的执行, 子线程会继续执行, 直到完毕后才会消亡\n",
    "    # 守护线程 : 如果主线程消亡, 所有子线程都会消亡\n",
    "    t1 = threading.Thread(target=thread_body, args=('三体1(地球往事)', ), name='下载任务1')\n",
    "    # 2. 执行子线程对象, 使用线程对象的 start() 方法\n",
    "    t1.start()\n",
    "\n",
    "    # 再创建一个子线程\n",
    "    t2 = threading.Thread(target=thread_body, args=('三体2(黑暗森林)', ), name='下载任务2')\n",
    "    t2.start()\n",
    "\n",
    "    # 再创建一个子线程\n",
    "    t3 = threading.Thread(target=thread_body, args=('三体3(死神永生)', ), name='下载任务3')\n",
    "    t3.start()\n",
    "\n",
    "    # 需求 : 在主线程中创建的子线程, 所以要在主线程执行完毕前保证子线程的任务全部结束\n",
    "    # 实现 : 让子线程 `插队 join()` cut in line 到主线程之前执行, 这样的一个现象就是主线程要等待子线程执行完毕后, 才能继续向后执行\n",
    "    # 当前的线程就是 `主线程`, 这里的代码表示让子线程插队到主线程之前被执行\n",
    "    # 线程对象.join() 对当前的线程产生阻塞现象, 就是阻止当前线程继续向下执行了\n",
    "    t1.join()\n",
    "    t2.join()\n",
    "    t3.join()\n",
    "\n",
    "    # 主线程的代码\n",
    "    print('主线程执行完毕了...')"
   ]
  },
  {
   "cell_type": "markdown",
   "id": "abad2497-3a7a-48fa-a94c-ce2eca3c271b",
   "metadata": {},
   "source": [
    "### Test09-实现二"
   ]
  },
  {
   "cell_type": "code",
   "execution_count": null,
   "id": "3441ca8f-89db-4376-8ba2-ea039d815fef",
   "metadata": {},
   "outputs": [],
   "source": [
    "import threading\n",
    "import time\n",
    "\n",
    "\n",
    "# 线程的特性 : 每个线程都是独立的,\n",
    "\n",
    "# 下载任务 (阻塞过程)\n",
    "def thread_body(movie_name):\n",
    "    # 当前线程对象\n",
    "    t = threading.current_thread()\n",
    "    # 耗时操作\n",
    "    for i in range(5):\n",
    "        # name 是线程对象的属性  格式: Thread-%d\n",
    "        print(f'{t.daemon = }, {t.name} 线程正在下载 {movie_name} 中...')\n",
    "        time.sleep(1)   # 休眠一秒钟\n",
    "\n",
    "\n",
    "if __name__ == '__main__':\n",
    "\n",
    "    # 创建一个用于存储下载任务子线程的列表\n",
    "    download_threads: list[threading.Thread] = list()       # 空列表\n",
    "    # 参数元素类型数据\n",
    "    download_args = ('三体1(地球往事)', '三体2(黑暗森林)', '三体3(死神永生)')\n",
    "\n",
    "    # 创建子线程对象\n",
    "    for argument in download_args:\n",
    "        # 创建子线程\n",
    "        download_thread = threading.Thread(target=thread_body, args=(argument, ))\n",
    "        # 将子线程添加到线程列表中\n",
    "        download_threads.append(download_thread)\n",
    "        # 启动子线程\n",
    "        download_thread.start()\n",
    "\n",
    "    # 遍历子线程列表, 让每一个子线程对象插队到主线程之前执行\n",
    "    for download_thread in download_threads:\n",
    "        download_thread.join()      # 插队的行为\n",
    "\n",
    "    # 主线程的代码\n",
    "    print('主线程执行完毕了...')"
   ]
  },
  {
   "cell_type": "markdown",
   "id": "36154b6c-85bb-4f76-84a6-21d03abbab18",
   "metadata": {},
   "source": [
    "在您的代码中，虽然每次循环时变量名都是 download_thread，但不会发生重名覆盖的问题。这是因为 Python 的变量作用域和对象引用机制保证了每个线程对象的独立性。  \n",
    "\n",
    "局部变量：download_thread 是 for 循环内的局部变量，每次循环时会创建一个新的 Thread 对象，并赋值给 download_thread。\n",
    "\n",
    "对象存储：通过 download_threads.append(download_thread)，每个线程对象被添加到列表 download_threads 中，即使变量名相同，列表中的对象引用是独立的。\n",
    "\n",
    "关键点：变量名（如 download_thread）只是临时指向对象的标签，而对象本身存储在内存中，通过列表持久化引用。   \n",
    "\n",
    "示例："
   ]
  },
  {
   "cell_type": "code",
   "execution_count": null,
   "id": "f3103069-fbe0-41e5-bd60-b2dafe5b7280",
   "metadata": {},
   "outputs": [],
   "source": [
    "a = 1\n",
    "a_values = []\n",
    "a_values.append(a)\n",
    "a = 2  # 虽然变量名都是a，但实际存储的是两个不同的整数对象\n",
    "a_values.append(a)\n",
    "a_values"
   ]
  },
  {
   "cell_type": "markdown",
   "id": "2125ac4b-ec96-4bc8-a700-645f5c715946",
   "metadata": {},
   "source": [
    "## 线程停⽌"
   ]
  },
  {
   "cell_type": "markdown",
   "id": "ce3cfa11-4d62-4277-bd1b-cd66cd6533d9",
   "metadata": {},
   "source": [
    "在线程体结束时， 线程就停⽌了。 但在某些业务⽐较复杂时， 会在线程体中执⾏⼀个“死循环”。\n",
    "线程体是否持续执⾏“死循环”是通过判断停⽌变量实现的，“死循环”结束则线程体结束， 线程也就结束了。另外， 在⼀般情况下， 死循环会执⾏线程任务， 然后休眠， 再执⾏， 再休眠， 直到结束循环。"
   ]
  },
  {
   "cell_type": "markdown",
   "id": "a5ea0af6-923d-4384-8935-ebc98124c6d4",
   "metadata": {},
   "source": [
    "![](img/stop.jpg)"
   ]
  },
  {
   "cell_type": "markdown",
   "id": "03373d3e-d2e8-45be-a010-7da470e56774",
   "metadata": {},
   "source": [
    "### Test10"
   ]
  },
  {
   "cell_type": "code",
   "execution_count": null,
   "id": "4bef498e-bd79-47b4-8dba-f2ec002ee62e",
   "metadata": {},
   "outputs": [],
   "source": [
    "import threading\n",
    "import time\n",
    "\n",
    "\n",
    "# 全局变量\n",
    "isrunning = True\n",
    "\n",
    "# 工作体 (任务)\n",
    "def working_body():\n",
    "    # 死循环\n",
    "    while isrunning:\n",
    "        print('工作线程正在执行中...')\n",
    "        # 每隔一段时间, 执行一次 (休眠)\n",
    "        time.sleep(1)\n",
    "    print('工作线程执行完毕了!!!')\n",
    "\n",
    "\n",
    "# 控制线程 (任务)\n",
    "def control_body():\n",
    "    # 声明全局变量\n",
    "    global isrunning\n",
    "    # 死循环\n",
    "    while isrunning:\n",
    "        command = input()       # 接收用户的输入指令, 但是没有提示语\n",
    "        if command == 'exit':\n",
    "            # 修改全局变量的值\n",
    "            isrunning = False\n",
    "        else:\n",
    "            print(f'{command = }')\n",
    "\n",
    "\n",
    "if __name__ == '__main__':\n",
    "    # 主线程\n",
    "    # 1. 创建一个子线程\n",
    "    working_thread = threading.Thread(target=working_body, name='工作线程')\n",
    "    # 2. 启动子线程\n",
    "    working_thread.start()\n",
    "\n",
    "    # 创建一个子线程. 用于控制工作线程的执行状态\n",
    "    control_thread = threading.Thread(target=control_body, name='控制线程')\n",
    "    control_thread.start()\n",
    "\n",
    "    print('主线程执行完毕!!!')"
   ]
  },
  {
   "cell_type": "markdown",
   "id": "168f84fc-6e77-46b1-abb9-bbf52f3fd9ad",
   "metadata": {},
   "source": [
    "通过global可以实现跨线程修改全局变量，实现线程之间的变量值同步。  "
   ]
  },
  {
   "cell_type": "markdown",
   "id": "6ae333fe-5857-4120-ace1-a76689ee8ed8",
   "metadata": {},
   "source": [
    "# ⾃定义线程"
   ]
  },
  {
   "cell_type": "markdown",
   "id": "d23c05c8-cc0b-4c57-94de-403e66eda852",
   "metadata": {},
   "source": [
    "## ⾃定义线程类实现线程体"
   ]
  },
  {
   "cell_type": "markdown",
   "id": "9eb24751-e67b-453a-b3f6-57d7815978f6",
   "metadata": {},
   "source": [
    "其实 `threading.Thread` 是 threading 模块内的⼀个类，我们可以⾃⾏设计⼀个类，让这个类继承 `threading.Thread` 类，接着在 `def __init__()` 内调⽤`threading_thread.__init__()` ⽅法，然后在所设计的类别内设计 run() ⽅法，这个概念就称⾃⾏定义线程。"
   ]
  },
  {
   "cell_type": "markdown",
   "id": "cc69039b-9314-447d-8879-c3637fd73779",
   "metadata": {},
   "source": [
    "### Test11"
   ]
  },
  {
   "cell_type": "code",
   "execution_count": null,
   "id": "c38daf9b-6425-4001-a1b6-6f146a158bf7",
   "metadata": {},
   "outputs": [],
   "source": [
    "import threading\n",
    "import time\n",
    "\n",
    "\n",
    "# 线程的特性 : 每个线程都是独立的,\n",
    "\n",
    "\n",
    "# 自定义一个子线程类, 子线程一定要继承 threading.Thread 类\n",
    "class DownloadThread(threading.Thread):\n",
    "    # 初始化方法\n",
    "    def __init__(self, movie_name, thread_name):\n",
    "        # 注意 : 一定要调用父类的构造\n",
    "        super(DownloadThread, self).__init__(name=thread_name)\n",
    "        self.movie_name = movie_name\n",
    "\n",
    "    # 子线程的执行任务代码在哪里 ???\n",
    "    # 子线程类要重写父类的 run() 方法, 将子线程需要执行的任务代码写在 run() 方法中\n",
    "    '''\n",
    "        Thread 类的 run() 方法\n",
    "        1. 判断 target 关键字参数是否为空, 如果 target 不为空, 底层就会执行 target 参数对应的原函数\n",
    "        2. 子类重写父类的 run() 方法, 此时, 子线程启动时, 将会执行我们重写的 run() 方法.\n",
    "        3. run() 方法中书写是子线程执行时的 `任务代码`\n",
    "    '''\n",
    "    def run(self):\n",
    "        # 说明 : 这里不要调用父类的 run() 方法了\n",
    "        # 耗时操作\n",
    "        for i in range(5):\n",
    "            # name 是线程对象的属性  格式: Thread-%d\n",
    "            print(f'{self.daemon = }, {self.name} 线程正在下载 {self.movie_name} 中...')\n",
    "            time.sleep(1)  # 休眠一秒钟\n",
    "\n",
    "\n",
    "if __name__ == '__main__':\n",
    "\n",
    "    # 创建一个用于存储下载任务子线程的列表\n",
    "    download_threads: list[threading.Thread] = list()       # 空列表\n",
    "    # 参数元素类型数据\n",
    "    download_args = ('三体1(地球往事)', '三体2(黑暗森林)', '三体3(死神永生)')\n",
    "\n",
    "    # 创建子线程对象\n",
    "    for argument in download_args:\n",
    "        # 创建子线程方式一 : threading.Thread(target=任务函数)\n",
    "        # 创建子线程方式二 : 自定义一个子线程类\n",
    "        download_thread = DownloadThread(argument, '下载线程')\n",
    "\n",
    "        # 将子线程添加到线程列表中\n",
    "        download_threads.append(download_thread)\n",
    "        # 启动子线程\n",
    "        # It must be called at most once per thread object. 子线程对象的 start() 方法只能被调用一次\n",
    "        # It arranges for the object's run() method to be invoked in a separate thread of control.\n",
    "        # start() 方法会在底层安排子线程的 run() 方法在独立的独立的线程控制中被执行\n",
    "        download_thread.start()\n",
    "\n",
    "    # 遍历子线程列表, 让每一个子线程对象插队到主线程之前执行\n",
    "    for download_thread in download_threads:\n",
    "        download_thread.join()      # 插队的行为\n",
    "\n",
    "    # 主线程的代码\n",
    "    print('主线程执行完毕了...')"
   ]
  },
  {
   "cell_type": "markdown",
   "id": "e93b83c8-0f3d-46f6-bc49-f2d03b0c5088",
   "metadata": {},
   "source": [
    "前⾯我们使⽤ `threading.Thread()` 声明⼀个线程对象时，再执⾏ start() 可以建⽴⼀个线程，其实 start()就是辗转调⽤此 `threading.Thread` 类别的 run() ⽅法开始执⾏⼯作，不过这种⽅式线程只能调⽤⼀次start() ⽅法，重复调⽤时会有错误。"
   ]
  },
  {
   "cell_type": "markdown",
   "id": "00ab54a1-b611-46f8-99bd-da90ffa773b8",
   "metadata": {},
   "source": [
    "## ⽤Thread类的⼦类创建线程的过程是什么?"
   ]
  },
  {
   "cell_type": "markdown",
   "id": "4184da74-4ad5-4b05-8800-ec6180e8b198",
   "metadata": {},
   "source": [
    "⽤Thread类的⼦类创建线程的过程包括以下3步：\n",
    "\n",
    "(1) 从Thread类派⽣出⼀个⼦类，在类中⼀定要实现 run()。  \n",
    "(2) ⽤派⽣出的⼦类创建⼀个对象。  \n",
    "(3) ⽤ start() ⽅法启动线程。  "
   ]
  },
  {
   "cell_type": "markdown",
   "id": "5c84cf75-c225-4ef8-8ed7-44fde6502cc5",
   "metadata": {},
   "source": [
    "# 资源锁与解锁"
   ]
  },
  {
   "cell_type": "markdown",
   "id": "b7f3b688-16fe-43a6-a4d8-89cfbce36b3b",
   "metadata": {},
   "source": [
    "说明：多线程内容⽐较抽象，特别是多个线程的并发执⾏，之前，我们编写的程序都是单线程的，任务由⼀个线程⼀个⼀个地串⾏处理。  \n",
    "\n",
    "![](img/seq.jpg)  \n",
    "\n",
    "有了多线程技术之后，我们的任务可以由多个线程并发处理，会提⾼程序的执⾏效率，这正是使⽤多线程的好处。  \n",
    "\n",
    "![](img/con.jpg)  \n",
    "\n",
    "并发线程执⾏时可能出现 “与时间有关的错误”，这种错误是由于并发线程**使⽤共享资源**引起的。  \n",
    "所谓**死锁**是指在多道程序系统中的⼀种现象，⼀组进程中的每⼀个进程均⽆限期地等待该组进程中的另⼀个进程所占有且永远不会释放的资源。  "
   ]
  },
  {
   "cell_type": "markdown",
   "id": "9a6b7e5f-4761-421c-b4f1-26de6ce2d237",
   "metadata": {},
   "source": [
    "## 模拟银⾏取现的操作"
   ]
  },
  {
   "cell_type": "markdown",
   "id": "aa2416f7-990b-440c-a1fb-c1244d63fddc",
   "metadata": {},
   "source": [
    "说明：多线程的并发执⾏可以提⾼程序的效率，但是，当多个线程去访问同⼀个资源时，也会引发⼀些安全问题。我们必须注意这样⼀个问题，当两个或多个线程同时访问同⼀个变量，并且⼀些线程需要修改这个变量，程序应对这样的问题作出处理，否则可能发⽣混乱。  "
   ]
  },
  {
   "cell_type": "markdown",
   "id": "a9779881-1a06-4964-a81a-4a24f677de50",
   "metadata": {},
   "source": [
    "### Test12"
   ]
  },
  {
   "cell_type": "code",
   "execution_count": null,
   "id": "4942f420-eeff-4f39-a353-2ac882b25493",
   "metadata": {},
   "outputs": [],
   "source": [
    "import random\n",
    "import threading\n",
    "import time\n",
    "\n",
    "\n",
    "# 需求 : 模拟银行取现 (柜台 / ATM)\n",
    "\n",
    "# 定义一个 Bank 类 (单个用户)\n",
    "class Bank(object):\n",
    "    # 初始化操作\n",
    "    def __init__(self, money):\n",
    "        self.money = money\n",
    "\n",
    "    # 行为 : 取现\n",
    "    def get_money(self, number):\n",
    "        # 注意 1 : 当前 Bank 类并不是线程类, 所以不能使用 self.name 获取线程名称\n",
    "        # 注意 2 : threading.current_thread() 获取当前正在执行该行为的线程对象\n",
    "        print(f'{threading.current_thread().name} 正在执行取现操作 ...')\n",
    "        # 判断\n",
    "        if number < 0:\n",
    "            return -1\n",
    "        elif number > self.money:\n",
    "            return -2\n",
    "        elif self.money <= 0:\n",
    "            return -3\n",
    "        else:\n",
    "            # 正常取现\n",
    "\n",
    "            # cpu 时间片的轮渡算法 (操作系统的进程切换算法)\n",
    "            # 模拟 cpu 在此处切换\n",
    "            time.sleep(random.random())\n",
    "\n",
    "            self.money -= number        # 减少余额\n",
    "            # 查看余额\n",
    "            print(f'left money: {self.money}')\n",
    "            return number       # 返回取款的金额给用户\n",
    "\n",
    "\n",
    "# 自定义线程类实现子线程\n",
    "class FetchMoney(threading.Thread):\n",
    "    def __init__(self, bank, thread_name):\n",
    "        super(FetchMoney, self).__init__(name=thread_name)\n",
    "        self.bank = bank\n",
    "\n",
    "    def run(self):\n",
    "        # 子线程需要执行的任务 (取现)\n",
    "        number = self.bank.get_money(800)\n",
    "        print(f'取款成功: {number}')\n",
    "\n",
    "\n",
    "if __name__ == '__main__':\n",
    "    # 对象 : 数据 + 行为\n",
    "    bank = Bank(1000)\n",
    "\n",
    "    # 模拟两条线程从同一个银行账户中取款\n",
    "    t1 = FetchMoney(bank, '柜台线程')\n",
    "    t2 = FetchMoney(bank, 'ATM线程')\n",
    "\n",
    "    # 启动两个线程\n",
    "    t1.start()\n",
    "    t2.start()"
   ]
  },
  {
   "cell_type": "markdown",
   "id": "4606a543-471b-43a9-a816-75b310ddddeb",
   "metadata": {},
   "source": [
    "## 线程同步机制"
   ]
  },
  {
   "cell_type": "markdown",
   "id": "502e33d6-ef21-43b9-a6f5-d54002067a73",
   "metadata": {},
   "source": [
    "1. 在多线程编程，⼀些敏感数据不允许被多个线程同时访问，此时就使⽤同步访问技术，保证数据在任何同⼀时刻，最多有⼀个线程访问，以保证数据的完整性。\n",
    "2. 也可以这样理解，线程同步，即当有⼀个线程在对内存进⾏操作时，其他线程都不可以对这个内存地址进⾏操作，直到该线程完成操作，其他线程才能对该内存地址进⾏操作。"
   ]
  },
  {
   "cell_type": "markdown",
   "id": "752f9ef8-5cc1-4852-b543-5d417e2ea295",
   "metadata": {},
   "source": [
    "## 资源锁定与解锁 Threading.RLock"
   ]
  },
  {
   "cell_type": "markdown",
   "id": "19ea2569-7e5c-47d5-a6ce-4bffd5ed452e",
   "metadata": {},
   "source": [
    "Python使⽤ threading.RLock 类来创建⼀个线程锁对象：  \n",
    "```python \n",
    "lock = threading.RLock()\n",
    "```\n",
    "这个对象 lock 有两个重要⽅法是 acquire()与 release()，当执⾏： `lock.acquire()` 语句时强迫 lock 获取线程锁，如果已经有另外的线程先调⽤了 acquire()⽅法获取了线程锁⽽还没有调⽤ release()释放锁，那么这个lock.acquire()就阻塞当前的线程，⼀直等待锁的控制权，直到别的线程释放锁后 lock.acquire() 就获取锁并解除阻塞，线程继续执⾏，执⾏后线程要调⽤ lock.release() 释放锁，不然别的线程会⼀直得不到锁的控制权。  \n",
    "\n",
    "使⽤ acquire / release 的⼯作机制我们可以把⼀段修改公共资源的代码⽤ acquire() 与 release() 夹起来，这样就保证⼀次最多只有⼀个线程在修改公共资源，别的线程如果也要修改就必须等待，直到本线程调⽤ release()释放锁后别的线程才能获取锁的控制权进⾏资源的修改。"
   ]
  },
  {
   "cell_type": "markdown",
   "id": "1e8be13a-357b-4fd0-92de-0ecd9c085c94",
   "metadata": {},
   "source": [
    "### Test13-依然存在隐患的代码"
   ]
  },
  {
   "cell_type": "code",
   "execution_count": null,
   "id": "41a8d456-9656-4292-9720-54e0f5e2adeb",
   "metadata": {},
   "outputs": [],
   "source": [
    "import random\n",
    "import threading\n",
    "import time\n",
    "\n",
    "\n",
    "# 需求 : 模拟银行取现 (柜台 / ATM)\n",
    "\n",
    "# 定义一个 Bank 类 (单个用户)\n",
    "class Bank(object):\n",
    "    # 初始化操作\n",
    "    def __init__(self, money):\n",
    "        self.money = money\n",
    "        # 锁对象 (互斥锁)\n",
    "        self.lock = threading.RLock()\n",
    "\n",
    "    # 行为 : 取现\n",
    "    def get_money(self, number):\n",
    "        print(f'{threading.current_thread().name} 正在执行取现操作 ...')\n",
    "\n",
    "        # 将操作共享数据的整体代码放入到锁的内部\n",
    "        self.lock.acquire()     # 获取锁\n",
    "        # 判断\n",
    "        if number < 0:\n",
    "            return -1\n",
    "        elif number > self.money:\n",
    "            return -2\n",
    "        elif self.money <= 0:\n",
    "            return -3\n",
    "        else:\n",
    "            # 模拟 cpu 在此处切换\n",
    "            time.sleep(random.random())\n",
    "            self.money -= number  # 减少余额\n",
    "            # 查看余额\n",
    "            print(f'left money: {self.money}')\n",
    "            # 释放锁\n",
    "            self.lock.release()\n",
    "            return number  # 返回取款的金额给用户\n",
    "\n",
    "\n",
    "# 自定义线程类实现子线程\n",
    "class FetchMoney(threading.Thread):\n",
    "    def __init__(self, bank, thread_name):\n",
    "        super(FetchMoney, self).__init__(name=thread_name)\n",
    "        self.bank = bank\n",
    "\n",
    "    def run(self):\n",
    "        # 子线程需要执行的任务 (取现)\n",
    "        number = self.bank.get_money(800)\n",
    "        print(f'取款成功: {number}')\n",
    "\n",
    "\n",
    "if __name__ == '__main__':\n",
    "    # 对象 : 数据 + 行为\n",
    "    bank = Bank(1000)\n",
    "\n",
    "    # 模拟两条线程从同一个银行账户中取款\n",
    "    t1 = FetchMoney(bank, '柜台线程')\n",
    "    t2 = FetchMoney(bank, 'ATM线程')\n",
    "    # t3 = FetchMoney(bank, '手机线程')  # 存在安全隐患，t2没有释放锁，t3无法进入\n",
    "\n",
    "    # 启动两个线程\n",
    "    t1.start()\n",
    "    t2.start()\n",
    "    # t3.start()"
   ]
  },
  {
   "cell_type": "markdown",
   "id": "3c05cded-5062-46d3-91b8-a9708a745313",
   "metadata": {},
   "source": [
    "### Test14"
   ]
  },
  {
   "cell_type": "code",
   "execution_count": null,
   "id": "b7e04652-e3a2-49db-bd31-6034122caae4",
   "metadata": {},
   "outputs": [],
   "source": [
    "import random\n",
    "import threading\n",
    "import time\n",
    "\n",
    "# 最后实现同步机制与锁的正确代码编写 \n",
    "\n",
    "# 需求 : 模拟银行取现 (柜台 / ATM)\n",
    "\n",
    "# 定义一个 Bank 类 (单个用户)\n",
    "class Bank(object):\n",
    "    # 初始化操作\n",
    "    def __init__(self, money):\n",
    "        self.money = money\n",
    "        # 锁对象 (互斥锁)\n",
    "        self.lock = threading.RLock()\n",
    "\n",
    "    # 行为 : 取现\n",
    "    def get_money(self, number):\n",
    "        print(f'{threading.current_thread().name} 正在执行取现操作 ...')\n",
    "\n",
    "        # 将操作共享数据的整体代码放入到锁的内部\n",
    "        try:\n",
    "            self.lock.acquire()     # 获取锁\n",
    "            # 判断\n",
    "            if number < 0:\n",
    "                return -1\n",
    "            elif number > self.money:\n",
    "                return -2\n",
    "            elif self.money <= 0:\n",
    "                return -3\n",
    "            else:\n",
    "                # 模拟 cpu 在此处切换\n",
    "                time.sleep(random.random())\n",
    "                self.money -= number  # 减少余额\n",
    "                # 查看余额\n",
    "                print(f'left money: {self.money}')\n",
    "                return number  # 返回取款的金额给用户\n",
    "        finally:\n",
    "            # 释放资源, finally 语句块会在 return（无论是哪个return） 之前被执行\n",
    "            # 释放锁\n",
    "            self.lock.release()\n",
    "\n",
    "\n",
    "# 自定义线程类实现子线程\n",
    "class FetchMoney(threading.Thread):\n",
    "    def __init__(self, bank, thread_name):\n",
    "        super(FetchMoney, self).__init__(name=thread_name)\n",
    "        self.bank = bank\n",
    "\n",
    "    def run(self):\n",
    "        # 子线程需要执行的任务 (取现)\n",
    "        number = self.bank.get_money(800)\n",
    "        print(f'取款成功: {number}')\n",
    "\n",
    "\n",
    "if __name__ == '__main__':\n",
    "    # 对象 : 数据 + 行为\n",
    "    bank = Bank(1000)\n",
    "\n",
    "    # 模拟两条线程从同一个银行账户中取款\n",
    "    t1 = FetchMoney(bank, '柜台线程')\n",
    "    t2 = FetchMoney(bank, 'ATM线程')\n",
    "\n",
    "    # 启动两个线程\n",
    "    t1.start()\n",
    "    t2.start()\n",
    "\n",
    "    t3 = FetchMoney(bank, '柜台线程2')\n",
    "    t3.start()"
   ]
  },
  {
   "cell_type": "markdown",
   "id": "70dd41f6-86ce-4caa-98e8-953e652fc46a",
   "metadata": {},
   "source": [
    "## 售票系统"
   ]
  },
  {
   "cell_type": "markdown",
   "id": "3d7b1187-fc22-4113-98ff-08da7c18624f",
   "metadata": {},
   "source": [
    "需求：假设某航空公司有三个窗⼝发售某⽇某次航班的100张票，这时，100张票可以作为共享资源，三个售票窗⼝需要创建三个线程，使⽤代码模拟实现。  \n",
    "\n",
    "注意：不是每个售票点都卖 100 张票，是⼀共卖了 100 张票。  "
   ]
  },
  {
   "cell_type": "markdown",
   "id": "3a33b41d-bb6e-4488-8094-b54ea066c228",
   "metadata": {},
   "source": [
    "![](img/sale.jpg)"
   ]
  },
  {
   "cell_type": "markdown",
   "id": "d17783e7-183a-423e-904e-b6a67680f188",
   "metadata": {},
   "source": [
    "### Test15"
   ]
  },
  {
   "cell_type": "code",
   "execution_count": null,
   "id": "2bc66276-e89a-40f7-8640-9e953e0f86cd",
   "metadata": {},
   "outputs": [],
   "source": [
    "import random\n",
    "import threading\n",
    "import time\n",
    "\n",
    "\n",
    "# 定义一个售票窗口类\n",
    "class TicketWindow(threading.Thread):\n",
    "    # 类数据（该数据可以被本类的所有对象所共享）\n",
    "    tickets = 10\n",
    "\n",
    "    # 初始化方法\n",
    "    def __init__(self, thread_name):\n",
    "        super(TicketWindow, self).__init__(name=thread_name)\n",
    "\n",
    "    # 重写 run() 方法\n",
    "    def run(self):\n",
    "        while True:\n",
    "            # 判断\n",
    "            if TicketWindow.tickets > 0:\n",
    "                time.sleep(random.random())\n",
    "                print(f'{self.name} 正在售出第 {TicketWindow.tickets} 张票.')\n",
    "                TicketWindow.tickets -= 1\n",
    "            else:\n",
    "                break\n",
    "\n",
    "\n",
    "if __name__ == '__main__':\n",
    "    # 创建三条子线程\n",
    "    t1 = TicketWindow('窗口一')\n",
    "    t2 = TicketWindow('窗口二')\n",
    "    t3 = TicketWindow('窗口三')\n",
    "    # 启动子线程\n",
    "    t1.start()\n",
    "    t2.start()\n",
    "    t3.start()"
   ]
  },
  {
   "cell_type": "markdown",
   "id": "abe67455-8ba8-4307-9d53-a086710c4d91",
   "metadata": {},
   "source": [
    "说明：在之前的售票案例中，极有可能碰到 `意外` 情况，如⼀张票被打印多次，或者打印出的票号为0，甚⾄负数。这些 `意外` 都是由多线程操作共享资源tickets 所导致的线程安全问题。  \n",
    "\n",
    "原因分析：多个线程操作共享资源。  \n",
    "上述错误的编号，是因为有多个线程，并且多个线程同时在操作同⼀个变量。\n",
    "\n",
    "出现的错误票号：是多个线程在执⾏售票的任务的时候，由于在售票的代码中访问了同⼀个成员变量tickets。可是在操作tickets的这些语句中，⼀个线程操作到其中的⼀部分代码的时候，CPU切换到其他的线程上开始执⾏代码。这样就会导致tickets变量中的值被修改的不⼀致。  \n",
    "\n",
    "上述的这些错误，我们称为多线程运⾏的安全问题。\n",
    "总结多线程的安全问题发⽣的原因：\n",
    "1. ⾸先必须有多线程。\n",
    "2. 多个线程在操作共享的数据,并且对共享数据有修改。\n",
    "3. 本质原因是CPU在处理多个线程的时候，在操作共享数据的多条代码之间进⾏切换导致的。"
   ]
  },
  {
   "cell_type": "markdown",
   "id": "1690a2db-463a-4c7f-ac94-09458ebac38a",
   "metadata": {},
   "source": [
    "### Test16-同步加锁实现"
   ]
  },
  {
   "cell_type": "code",
   "execution_count": null,
   "id": "03ad372b-aa90-41e4-b95f-8f82dbb5b04e",
   "metadata": {},
   "outputs": [],
   "source": [
    "import random\n",
    "import threading\n",
    "import time\n",
    "\n",
    "\n",
    "# 定义一个售票窗口类\n",
    "class TicketWindow(threading.Thread):\n",
    "    tickets = 10\n",
    "    lock = threading.RLock() # 互斥锁\n",
    "\n",
    "    # 初始化方法\n",
    "    def __init__(self, thread_name):\n",
    "        super(TicketWindow, self).__init__(name=thread_name)\n",
    "        # 加锁 (这样会造成三把锁)\n",
    "        # self.lock = threading.RLock()\n",
    "\n",
    "    # 重写 run() 方法\n",
    "    def run(self):\n",
    "        while True:\n",
    "            try:\n",
    "                # 加锁\n",
    "                self.lock.acquire()  # 对象锁\n",
    "                # 判断\n",
    "                if TicketWindow.tickets > 0:\n",
    "                    # time.sleep(random.random())\n",
    "                    print(f'{self.name} 正在售出第 {TicketWindow.tickets} 张票.')\n",
    "                    TicketWindow.tickets -= 1\n",
    "                else:\n",
    "                    break\n",
    "            finally:\n",
    "                # 释放锁\n",
    "                self.lock.release()\n",
    "\n",
    "\n",
    "if __name__ == '__main__':\n",
    "    # 创建三条子线程\n",
    "    t1 = TicketWindow('窗口一')\n",
    "    t2 = TicketWindow('窗口二')\n",
    "    t3 = TicketWindow('窗口三')\n",
    "    # 启动子线程\n",
    "    t1.start()\n",
    "    t2.start()\n",
    "    t3.start()"
   ]
  },
  {
   "cell_type": "code",
   "execution_count": null,
   "id": "14537d65-782c-4d14-a62f-8484a524ca19",
   "metadata": {},
   "outputs": [],
   "source": [
    "import random\n",
    "import threading\n",
    "import time\n",
    "\n",
    "\n",
    "# 定义一个售票窗口类\n",
    "class TicketWindow(threading.Thread):\n",
    "    tickets = 10\n",
    "    lock = threading.RLock() # 互斥锁\n",
    "\n",
    "    # 初始化方法\n",
    "    def __init__(self, thread_name):\n",
    "        super(TicketWindow, self).__init__(name=thread_name)\n",
    "        # 加锁 (这样会造成三把锁)\n",
    "        # self.lock = threading.RLock()\n",
    "\n",
    "    # 重写 run() 方法\n",
    "    def run(self):\n",
    "        while True:\n",
    "            try:\n",
    "                # 加锁\n",
    "                # self.lock.acquire()  # 对象锁\n",
    "                TicketWindow.lock.acquire()  # 类锁\n",
    "                # 判断\n",
    "                if TicketWindow.tickets > 0:\n",
    "                    # time.sleep(random.random())\n",
    "                    print(f'{self.name} 正在售出第 {TicketWindow.tickets} 张票.')\n",
    "                    TicketWindow.tickets -= 1\n",
    "                else:\n",
    "                    break\n",
    "            finally:\n",
    "                # 释放锁\n",
    "                # self.lock.release()\n",
    "                TicketWindow.lock.release()\n",
    "\n",
    "\n",
    "if __name__ == '__main__':\n",
    "    # 创建三条子线程\n",
    "    t1 = TicketWindow('窗口一')\n",
    "    t2 = TicketWindow('窗口二')\n",
    "    t3 = TicketWindow('窗口三')\n",
    "    # 启动子线程\n",
    "    t1.start()\n",
    "    t2.start()\n",
    "    t3.start()"
   ]
  },
  {
   "cell_type": "markdown",
   "id": "b4449ee3-709b-49e5-8036-5f4228c2ddbc",
   "metadata": {},
   "source": [
    "补充说明：lock是⼀个锁对象，当线程时，这个过程就好⽐⼀个 `公⽤电话亭`，只有前⼀个⼈打完电话出来后，后⾯的⼈才可以进⼊电话亭拨打电话。  "
   ]
  },
  {
   "cell_type": "markdown",
   "id": "0db3d19c-d5b4-48b1-9b24-cf65088117b4",
   "metadata": {},
   "source": [
    "#### Deepseek答疑\n",
    "\n",
    "请解释：在run()方法中使用的是self.lock.acquire()，这会隐式使用类变量锁   \n",
    "Deepseek回答如下：  \n",
    "\n",
    "\n",
    "在Python中，当您在类方法中通过`self.lock`访问一个变量时，它的查找顺序遵循特定的规则。让我们详细解释为什么在您的代码中`self.lock.acquire()`会隐式使用类变量锁：\n",
    "\n",
    "##### 1. Python的属性查找机制\n",
    "Python的属性查找遵循以下顺序：\n",
    "1. 首先查找实例属性（`self.xxx`）\n",
    "2. 如果实例中没有找到，则查找类属性（`Class.xxx`）\n",
    "3. 如果类中也没有，则查找父类属性\n",
    "4. 最后触发`__getattr__`（如果定义）\n",
    "\n",
    "##### 2. 应用到您的代码\n",
    "在您的`TicketWindow`类中：\n",
    "```python\n",
    "class TicketWindow(threading.Thread):\n",
    "    tickets = 10\n",
    "    lock = threading.RLock()  # 这是类变量\n",
    "    \n",
    "    def __init__(self, thread_name):\n",
    "        super(TicketWindow, self).__init__(name=thread_name)\n",
    "        # 注意：这里没有定义self.lock实例变量\n",
    "        \n",
    "    def run(self):\n",
    "        self.lock.acquire()  # 这里使用self.lock\n",
    "```\n",
    "\n",
    "当调用`self.lock.acquire()`时：\n",
    "1. Python首先查找`self.lock`（实例属性）\n",
    "2. 因为`__init__`中没有定义`self.lock`，所以实例中没有这个属性\n",
    "3. 于是Python查找类属性，找到了`lock = threading.RLock()`\n",
    "4. 因此`self.lock`实际上引用了类变量`lock`\n",
    "\n",
    "##### 3. 为什么说这是\"隐式\"使用类变量锁\n",
    "- \"显式\"使用类变量锁应该是直接写`TicketWindow.lock`\n",
    "- \"隐式\"使用是通过实例`self`间接访问类变量\n",
    "- 虽然效果相同，但代码可读性较差，容易引起误解\n",
    "\n",
    "##### 4. 潜在问题\n",
    "如果有人在`__init__`中添加了：\n",
    "```python\n",
    "def __init__(self, thread_name):\n",
    "    super(TicketWindow, self).__init__(name=thread_name)\n",
    "    self.lock = threading.RLock()  # 新增这行\n",
    "```\n",
    "那么：\n",
    "- `self.lock`将变成实例变量\n",
    "- 每个线程会有自己的锁\n",
    "- 线程同步将失效（因为锁不共享了）\n",
    "\n",
    "##### 5. 最佳实践\n",
    "建议总是显式使用类变量锁：\n",
    "```python\n",
    "def run(self):\n",
    "    with TicketWindow.lock:  # 明确使用类锁\n",
    "        # 临界区代码\n",
    "```\n",
    "这样的好处：\n",
    "- 明确表明使用的是类变量锁\n",
    "- 避免因后续代码修改而意外引入bug\n",
    "- 提高代码可读性和可维护性\n",
    "\n",
    "##### 6. 总结\n",
    "在您的原始代码中，`self.lock.acquire()`确实使用了类变量锁，但这是通过Python的属性查找机制\"隐式\"实现的。为了代码清晰和健壮性，建议改为显式使用`TicketWindow.lock`。"
   ]
  },
  {
   "cell_type": "markdown",
   "id": "17727cde-8de5-40e9-b5d4-757db5fa664c",
   "metadata": {},
   "source": [
    "# 多线程扩展"
   ]
  },
  {
   "cell_type": "markdown",
   "id": "70e9ba16-c28f-4cbb-9e17-4b5f5cc25f77",
   "metadata": {},
   "source": [
    "## ⾼级锁定 threading.Condition"
   ]
  },
  {
   "cell_type": "markdown",
   "id": "c76a5781-1235-421e-80b2-1b66b4c96ebc",
   "metadata": {},
   "source": [
    "这是 Python 的另⼀种锁定，就像它的名字⼀样是可以有条件的 (condition)，⾸先程序使⽤ acquire() 进⼊锁定状态，如果需要符合⼀定的条件才处理数据，此时可以调⽤ wait()，让⾃⼰进⼊睡眠状态，程序设计时需⽤ notify() 通知其他线程，然后放弃锁定 release()。  \n",
    "\n",
    "此时其他在等待的线程因为收到通知 notify()，这时被激活了，就可以开始运作。  \n",
    "\n",
    "**⽣产者和消费者的设计：**  \n",
    "\n",
    "这个程序⽤ producer() ⽅法叙述⽣产者运作⽅式，基本上需要⽣产5个数据（在data列表）才让⾃⼰进⼊睡眠状态，然后通知其他线程，再解锁。  \n",
    "\n",
    "consumer() ⽅法则是当 data 列表没有数据时，才让⾃⼰进⼊睡眠状态，然后通知其他线程，再解锁。  \n",
    "\n",
    "这个程序⾸先建⽴ threading.Condition()，然后设定资源列表 data 是空的，接着建⽴线程与启动线程。由于 produce() 和 consumer() ⽅法皆是⼀个⽆限循环，所以程序将持续执⾏。 "
   ]
  },
  {
   "cell_type": "markdown",
   "id": "a5214563-8c46-49cb-853d-2bc4040884d2",
   "metadata": {},
   "source": [
    "* ⽣产与消费第⼀版本实现"
   ]
  },
  {
   "cell_type": "markdown",
   "id": "57fa4590-24af-422d-a06b-c8f49e145162",
   "metadata": {},
   "source": [
    "### Test17"
   ]
  },
  {
   "cell_type": "code",
   "execution_count": null,
   "id": "9ea097ba-a9e9-4961-b559-4e6285937352",
   "metadata": {
    "scrolled": true
   },
   "outputs": [],
   "source": [
    "import random\n",
    "import threading\n",
    "\n",
    "\n",
    "# 生产任务\n",
    "def producer():\n",
    "    while True:\n",
    "        # 获取条件锁\n",
    "        condition.acquire()\n",
    "        # 如果数据产生已达到 5 个, 生产线程就进入等待状态\n",
    "        if len(data) >= 5:\n",
    "            print(f'{threading.current_thread().name}: waiting ...')\n",
    "            # 生产已经满足要求, 进入等待状态\n",
    "            condition.wait()\n",
    "        else:\n",
    "            # 随机产生一个整型数值\n",
    "            data.append(random.randint(1, 100))\n",
    "            print(f'生产线库存: {data}')\n",
    "        # 唤醒在此条件上等待的其它线程, 如果在此条件上等待的有多个其它线程, 则需使用 notify_all() 方法来唤醒\n",
    "        condition.notify()\n",
    "        # 释放条件锁\n",
    "        condition.release()\n",
    "\n",
    "\n",
    "# 消费任务\n",
    "def consumer():\n",
    "    while True:\n",
    "        condition.acquire()\n",
    "        # 如果没有数据, 消费线程就等待...\n",
    "        if not data:\n",
    "            print(f'{threading.current_thread().name}: waiting ...')\n",
    "            condition.wait()\n",
    "\n",
    "        else:\n",
    "            print(f'消费者取走: {data.pop(0)}')\n",
    "            print(f'目前库存: {data}')\n",
    "        condition.notify()  # 唤醒生产线程\n",
    "        condition.release()\n",
    "\n",
    "\n",
    "if __name__ == '__main__':\n",
    "    \"\"\"\n",
    "        需求 : 线程间通信\n",
    "        1. 生产线程先生产, 完成 5 个数据的生产之后, 让自己进入到睡眠状态, 同时唤醒消费线程消费\n",
    "        2. 消费线程开始消费, 当数据消费完成之后, 让自己进入到睡眠状态, 同时唤醒生产线程开始生产\n",
    "    \"\"\"\n",
    "    # 创建一个 Condition 条件对象\n",
    "    condition = threading.Condition()\n",
    "    # 数据列表\n",
    "    data = []\n",
    "    # 创建生产线程\n",
    "    p = threading.Thread(target=producer, name='生产线程')\n",
    "    # 创建消费线程\n",
    "    c = threading.Thread(target=consumer, name='消费线程')\n",
    "    # 启动线程\n",
    "    p.start()\n",
    "    c.start()"
   ]
  },
  {
   "cell_type": "markdown",
   "id": "b82acfc1-00bc-458e-aaae-3e5e30a3d65e",
   "metadata": {},
   "source": [
    "* ⽣产者和消费者的设计"
   ]
  },
  {
   "cell_type": "markdown",
   "id": "5bee7b99-69b1-4c83-a8ea-a2a3731b6186",
   "metadata": {},
   "source": [
    "### Test18"
   ]
  },
  {
   "cell_type": "code",
   "execution_count": null,
   "id": "05a411ec-6096-4b8c-96fa-0816d4867cb7",
   "metadata": {
    "scrolled": true
   },
   "outputs": [],
   "source": [
    "import random\n",
    "import threading\n",
    "\n",
    "\n",
    "# 定义一个生产任务\n",
    "def producer():\n",
    "    while True:\n",
    "        # 完成 5 个数据的生产\n",
    "        if len(data) >= 5:\n",
    "            # 让当前线程进入到睡眠状态\n",
    "            print(f'{threading.current_thread().name}: waiting ...')\n",
    "        else:\n",
    "            # 随机生产一个整型数值, 添加到 data 这个全局列表中\n",
    "            data.append(random.randint(1, 100))\n",
    "            print(f'生产线库存: {data}')\n",
    "\n",
    "\n",
    "# 定义一个消费任务\n",
    "def consumer():\n",
    "    while True:\n",
    "        # 如果 data 列表中没有数据\n",
    "        if not data:\n",
    "            print(f'{threading.current_thread().name}: waiting ...')\n",
    "        else:\n",
    "            print(f'消费者取走: {data.pop()}')\n",
    "            print(f'目前数据: {data}')\n",
    "\n",
    "\n",
    "if __name__ == '__main__':\n",
    "    \"\"\"\n",
    "        需求 : 线程间的通信 (单生产单消费)\n",
    "        1. 生产线程 : 完成数据的生产, 完成 5 个数据的生产之后, 让自己进入到睡眠状态, 同时唤醒消费线程进行数据的消费\n",
    "        2. 消费线程 : 消费生产出来的数据, 当所有的数据消费完成之后, 让自己进入到睡眠状态, 同时唤醒生产线程进行数据的生产\n",
    "    \"\"\"\n",
    "\n",
    "    # 数据列表\n",
    "    data = []   # list()\n",
    "    # 创建生产线程\n",
    "    p = threading.Thread(target=producer, name='生产线程')\n",
    "    # 创建消费线程\n",
    "    c = threading.Thread(target=consumer, name='消费线程')\n",
    "\n",
    "    # 启动线程\n",
    "    p.start()\n",
    "    c.start()"
   ]
  },
  {
   "cell_type": "markdown",
   "id": "4ee2abf1-a14b-42dc-a04b-bf107c5b2987",
   "metadata": {},
   "source": [
    "在程序设计中也可以在 wait() 设定等待秒数的参数，另外，以上述实例⽽⾔若是另外增加⼀个消费者时，则可以在通知时使⽤ notify_all()。"
   ]
  },
  {
   "cell_type": "markdown",
   "id": "bbbe3ad9-2efd-4159-a30d-e431d657c703",
   "metadata": {},
   "source": [
    "### Test19"
   ]
  },
  {
   "cell_type": "code",
   "execution_count": null,
   "id": "cac40092-c945-409a-ad63-788d43ffc461",
   "metadata": {
    "scrolled": true
   },
   "outputs": [],
   "source": [
    "import random\n",
    "import threading\n",
    "\n",
    "\n",
    "# 定义一个生产任务\n",
    "def producer():\n",
    "    while True:\n",
    "        # 获取条件锁\n",
    "        condition.acquire()\n",
    "\n",
    "        # 完成 5 个数据的生产\n",
    "        if len(data) >= 5:\n",
    "            # 让当前线程进入到睡眠状态\n",
    "            print(f'{threading.current_thread().name}: waiting ...')\n",
    "            # 生产线程已经满足生产要求了, 进入到等待状态了\n",
    "            condition.wait()\n",
    "        else:\n",
    "            # 随机生产一个整型数值, 添加到 data 这个全局列表中\n",
    "            data.append(random.randint(1, 100))\n",
    "            print(f'生产线库存: {data}')\n",
    "        # 唤醒在此条件上等待的线程\n",
    "        # condition.notify()  # 单生产单消费, 调用的唤醒方法, 唤醒单个在此条件上休眠的线程\n",
    "        condition.notify_all()      # 多生产多消费, 唤醒所有在此条件上休眠的线程\n",
    "        # 释放条件锁\n",
    "        condition.release()\n",
    "\n",
    "\n",
    "# 定义一个消费任务\n",
    "def consumer():\n",
    "    while True:\n",
    "        # 获取条件锁\n",
    "        condition.acquire()\n",
    "\n",
    "        # 如果 data 列表中没有数据\n",
    "        if not data:\n",
    "            print(f'{threading.current_thread().name}: waiting ...')\n",
    "            # 没有数据, 让消费线程进入到等待状态\n",
    "            condition.wait()\n",
    "        else:\n",
    "            print(f'消费者取走: {data.pop()}')\n",
    "            print(f'目前数据: {data}')\n",
    "        # 尝试唤醒在此条件锁上等待的线程, 如果是多生产多消费, 这里就需要使用 notify_all() 方法唤醒, 表示唤醒所有在此条件上等待的线程\n",
    "        # condition.notify()\n",
    "        condition.notify_all()\n",
    "        # 释放条件锁\n",
    "        condition.release()\n",
    "\n",
    "\n",
    "if __name__ == '__main__':\n",
    "    \"\"\"\n",
    "        需求 : 线程间的通信 (单生产单消费)\n",
    "        1. 生产线程 : 完成数据的生产, 完成 5 个数据的生产之后, 让自己进入到睡眠状态, 同时唤醒消费线程进行数据的消费\n",
    "        2. 消费线程 : 消费生产出来的数据, 当所有的数据消费完成之后, 让自己进入到睡眠状态, 同时唤醒生产线程进行数据的生产\n",
    "    \"\"\"\n",
    "\n",
    "    # 获取 Condition 条件锁对象\n",
    "    condition = threading.Condition()\n",
    "\n",
    "    # 数据列表\n",
    "    data = []   # list()\n",
    "    # 创建生产线程\n",
    "    p1 = threading.Thread(target=producer, name='生产线程1')\n",
    "    p2 = threading.Thread(target=producer, name='生产线程2')\n",
    "    # 创建消费线程\n",
    "    c1 = threading.Thread(target=consumer, name='消费线程1')\n",
    "    c2 = threading.Thread(target=consumer, name='消费线程2')\n",
    "\n",
    "    # 启动线程\n",
    "    p1.start()\n",
    "    p2.start()\n",
    "    c1.start()\n",
    "    c2.start()"
   ]
  },
  {
   "cell_type": "markdown",
   "id": "2cb1e3e7-7a0c-48c2-8433-084babed3581",
   "metadata": {},
   "source": [
    "## queue 队列"
   ]
  },
  {
   "cell_type": "markdown",
   "id": "0706b4a7-d451-4683-9368-9aae9154ac05",
   "metadata": {},
   "source": [
    "在 Python 内有⼀个 queue 模块，这是⼀种先进先出的数据结构，可以使⽤ put() ⽅法插⼊元素，使⽤get() ⽅法取得元素，元素取得后此元素将在 queue 内被移除。  \n",
    "\n",
    "由于在设计 queue 的逻辑， 要在 queue 中使⽤ put() 插⼊元素时，系统处理锁定逻辑。另外，如果queue 空间已满，put() 会在内部调⽤ wait() 进⾏等待，使⽤ get() 取得元素和移除元素时，系统内部也会进⾏锁定，如果 queue 空间是空的，get() 会在内部调⽤ wait() 进⾏等待。  \n",
    "\n",
    "基于以上特性，⼀般也可以使⽤ queue 处理⽣产者(producer)和消费者(consumer)的问题。另外，使⽤queue 时，需要导⼊ queue。  "
   ]
  },
  {
   "cell_type": "markdown",
   "id": "dd349e40-69ce-4b87-95a9-1884c43722a1",
   "metadata": {},
   "source": [
    "### Test20"
   ]
  },
  {
   "cell_type": "code",
   "execution_count": null,
   "id": "1d9ae707-c793-430f-9dd6-89173fc8cb55",
   "metadata": {},
   "outputs": [],
   "source": [
    "import random\n",
    "import threading\n",
    "import queue        # 内置模块 (队列模块)\n",
    "\n",
    "\n",
    "# 定义一个生产任务\n",
    "def producer():\n",
    "    while True:\n",
    "        # 如果队列空间未满, 就可以生产数据\n",
    "        if not q.full():\n",
    "            data = random.randint(1, 100)\n",
    "            # 将数据存储到队列中\n",
    "            q.put(data)\n",
    "            # 查看\n",
    "            print(f'生产存入: {data}, 队列长度为: {q.qsize()}')\n",
    "\n",
    "\n",
    "# 定义一个消费任务\n",
    "def consumer():\n",
    "    while True:\n",
    "        # 如果队列空间未空, 就可以消费数据\n",
    "        if not q.empty():\n",
    "            # 取出一个数据\n",
    "            data = q.get()\n",
    "            print(f'消费数据为: {data}. 队列长度为: {q.qsize()}')\n",
    "\n",
    "\n",
    "if __name__ == '__main__':\n",
    "    \"\"\"\n",
    "        需求 : 线程间的通信 \n",
    "        1. 生产线程 : 完成数据的生产, 生产的最大量为 5 个元素, 如果不到 5 个元素, 随时都可以生产.\n",
    "        2. 消费线程 : 如果有数据, 消费线程就可以消费.\n",
    "    \"\"\"\n",
    "\n",
    "    # 创建一个 `queue 队列` maxsize=5 表示队列中最多可以存储 5 个元素\n",
    "    # queue 是一个线程安全的队列, 可以在多线程中放心的使用.\n",
    "    q = queue.Queue(maxsize=5)\n",
    "\n",
    "    # 创建生产线程\n",
    "    p1 = threading.Thread(target=producer, name='生产线程1')\n",
    "    p2 = threading.Thread(target=producer, name='生产线程2')\n",
    "    # 创建消费线程\n",
    "    c1 = threading.Thread(target=consumer, name='消费线程1')\n",
    "    c2 = threading.Thread(target=consumer, name='消费线程2')\n",
    "\n",
    "    # 启动线程\n",
    "    p1.start()\n",
    "    p2.start()\n",
    "    c1.start()\n",
    "    c2.start()"
   ]
  },
  {
   "cell_type": "markdown",
   "id": "5c4c2621-68a9-4a2d-8b3a-79133a4da999",
   "metadata": {},
   "source": [
    "## Semaphore 信号量"
   ]
  },
  {
   "cell_type": "markdown",
   "id": "3e7ca2a1-78bb-456e-ba85-ede8d81a38e7",
   "metadata": {},
   "source": [
    "Semaphore 可以翻译为信号量，这个信号量代表最多允许线程访问的数量，可以使⽤ Semaphore(n) 设定，n 是信号数量，这是⼀个更⾼级的锁机制，Semaphore 管理⼀个计数器，每次使⽤ acquire() 计数器将减1，表示可允许线程访问的数量少了⼀个，使⽤ release() 计数器将加1，表示可允许线程访问的数量增加了⼀个，只有占⽤信号量的线程数量超过信号量时，才会阻塞，也就是说计数器为0时，若还有线程要访问，则发⽣阻塞。  \n",
    "\n",
    "发⽣阻塞后就需要等待其他线程使⽤ release()，这时计算器会加1，然后被阻塞的线程就可以访问了。  \n",
    "在应⽤Semaphore过程，有时候可能会因为 bug 造成调⽤多次release()，因此有所谓的BoundedSemaphore，可以保证计数器次数不超过特定值，这时使⽤ BoundedSemaphore(n) 设定，n 是信号数量。  \n",
    "\n",
    "这个程序在建⽴ semaphore 时就设定了最⼤计数值是 3。"
   ]
  },
  {
   "cell_type": "markdown",
   "id": "9db84443-9a1f-40c9-9657-acc40dd30af3",
   "metadata": {},
   "source": [
    "### Test21"
   ]
  },
  {
   "cell_type": "code",
   "execution_count": null,
   "id": "5c1885ea-30cb-471f-8689-2688a5793cd4",
   "metadata": {},
   "outputs": [],
   "source": [
    "import threading\n",
    "import time\n",
    "\n",
    "\n",
    "# 需求 : 允许程序同时并发的线程数为 3\n",
    "semaphore = threading.BoundedSemaphore(3)\n",
    "\n",
    "\n",
    "def func():\n",
    "    # 获取信号量锁\n",
    "    if semaphore.acquire():\n",
    "        print(f'{threading.current_thread().name} is working ...')\n",
    "        time.sleep(1)\n",
    "        print(f'{threading.current_thread().name} 完成任务! ...')\n",
    "        # 释放信号量锁\n",
    "        semaphore.release()\n",
    "\n",
    "\n",
    "if __name__ == '__main__':\n",
    "    # 模拟程序要同时并发创建大量的子线程\n",
    "    for i in range(10):\n",
    "        t = threading.Thread(target=func)\n",
    "        t.start()"
   ]
  },
  {
   "cell_type": "markdown",
   "id": "af2b4e59-b690-417b-83c1-654eee6d7fd6",
   "metadata": {},
   "source": [
    "## Barrier 栅栏"
   ]
  },
  {
   "cell_type": "markdown",
   "id": "a22ab0db-1cc7-4999-bc4c-feb9c63c187c",
   "metadata": {},
   "source": [
    "Barrier 可以翻译为栅栏，可以想成赛⻢的栅栏，当线程抵达时须等待其他线程，当所有线程抵达时，才放开栅栏，这些线程才可以往下执⾏。  \n",
    "\n",
    "这个程序会使⽤ Barrier() 将等待线程数量设为4，这时会建⽴Barrier对象 b，然后可以使⽤ b.wait() 执⾏等待。  "
   ]
  },
  {
   "cell_type": "markdown",
   "id": "003ec670-3bab-4611-b825-eba432ca7165",
   "metadata": {},
   "source": [
    "### Test22"
   ]
  },
  {
   "cell_type": "code",
   "execution_count": null,
   "id": "be66c7c8-8251-4eb7-9ecc-aa11ebe96ec4",
   "metadata": {},
   "outputs": [],
   "source": [
    "import random\n",
    "import threading\n",
    "import time\n",
    "\n",
    "\n",
    "# 任务函数\n",
    "def player():\n",
    "    # 模拟演示\n",
    "    time.sleep(random.random())\n",
    "    print(f'{threading.current_thread().name} 抵达栅栏的时间为: {time.ctime()}.')\n",
    "\n",
    "    # 需求 : 任务代码中, 希望此处是所有子线程全部抵达后, 才能够继续向后执行...\n",
    "    # 希望在此处设置一个 `栅栏`, 拦住子线程继续向后执行, 直到满足栅栏的要求后, 才能继续向后执行\n",
    "    b.wait()\n",
    "    print(f'{threading.current_thread().name} 继续向后执行...')\n",
    "\n",
    "\n",
    "if __name__ == '__main__':\n",
    "\n",
    "    # 获取一个栅栏对象\n",
    "    b = threading.Barrier(4)\n",
    "\n",
    "    print('比赛开始...')\n",
    "\n",
    "    # 定义一个子线程列表\n",
    "    threads = []\n",
    "\n",
    "    for i in range(4):\n",
    "        t = threading.Thread(target=player)\n",
    "        t.start()\n",
    "        # 将子线程添加到线程列表中\n",
    "        threads.append(t)\n",
    "\n",
    "    # 遍历子线程列表, 让所有的子线程对象插队到主线程之前执行\n",
    "    for thread in threads:\n",
    "        thread.join()\n",
    "\n",
    "    print('比赛结束!')"
   ]
  },
  {
   "cell_type": "markdown",
   "id": "5973fe63-d8d1-49ee-a01e-bf2b579867a7",
   "metadata": {},
   "source": [
    "## Event 事件"
   ]
  },
  {
   "cell_type": "markdown",
   "id": "af965c7e-2281-4cd2-9718-a80a64fee799",
   "metadata": {},
   "source": [
    "这是⼀种线程的通信技术，通常会有2个线程，⼀个线程主要是设定 Event 的 flag，可以使⽤ set() 设定flag，另⼀个线程则是等待 Event 的 flag，可以使⽤ wait() 等待，当接收到 flag 信号⼯作完成后，可以使⽤ clear() 清除 flag 信号。操作上⽤ Event() 建⽴ Event 对象。   \n",
    "\n",
    "分别建⽴ w 线程(waiter) 和 s 线程(setter)，w线程会等待 s 线程将 flag 打开，打开后 w 线程的等待就结束，然后列出等待完成时间，再将 flag 重置，所以下⼀个循环新的 w 线程⼜会进⼊等待状态。"
   ]
  },
  {
   "cell_type": "markdown",
   "id": "ad293176-0194-456f-9dbc-f7bcb7cfd65c",
   "metadata": {},
   "source": [
    "### Test23"
   ]
  },
  {
   "cell_type": "code",
   "execution_count": null,
   "id": "09690a6f-9618-4818-b8f6-e41f7cbc4d3c",
   "metadata": {},
   "outputs": [],
   "source": [
    "import random\n",
    "import threading\n",
    "import time\n",
    "\n",
    "\n",
    "# 等待任务\n",
    "def waiter(event):\n",
    "    for i in range(1, 4):\n",
    "        print(f'{i} 等待 flag 被设定.')\n",
    "        # 需求 : 等待线程如果想要继续向下执行, 需要设定线程修改标记\n",
    "        event.wait()        # 子线程在 event 事件上等待\n",
    "        print(f'等待完成的时间: {time.ctime()}.')\n",
    "        # 重置 / 清空 事件的等待状态\n",
    "        event.clear()\n",
    "\n",
    "\n",
    "# 设定任务\n",
    "def setter(event):\n",
    "    for i in range(1, 4):\n",
    "        # 随机切换\n",
    "        time.sleep(random.randint(1, 3))\n",
    "        event.set()     # 完成 event 事件的等待设定\n",
    "        print(f'{i} 设定完成...')\n",
    "\n",
    "\n",
    "if __name__ == '__main__':\n",
    "\n",
    "    # 创建一个 Event 事件对象\n",
    "    event = threading.Event()\n",
    "\n",
    "    print('工作开始...')\n",
    "\n",
    "    # 等待线程\n",
    "    w = threading.Thread(target=waiter, args=(event, ))\n",
    "    # 设置线程\n",
    "    s = threading.Thread(target=setter, args=(event, ))\n",
    "\n",
    "    # 启动线程\n",
    "    w.start()\n",
    "    s.start()\n",
    "\n",
    "    # 插队\n",
    "    w.join()\n",
    "    s.join()\n",
    "\n",
    "    print('工作结束!')"
   ]
  },
  {
   "cell_type": "markdown",
   "id": "54c995e6-9aac-4341-86e7-05d36921a6c6",
   "metadata": {},
   "source": [
    "## 线程池"
   ]
  },
  {
   "cell_type": "markdown",
   "id": "6a419d7a-4506-4c34-ae51-f364ccb632cd",
   "metadata": {},
   "source": [
    "提问： python语⾔中是否有内置的线程池模块？  \n",
    "\n",
    "DeepSeek 回答： \n",
    "是的，Python 提供了内置的线程池模块 concurrent.futures，其中的 ThreadPoolExecutor 类可⽤于创建和管理线程池。"
   ]
  },
  {
   "cell_type": "markdown",
   "id": "1b3acf4e-7a22-419d-b918-49bf72658f2e",
   "metadata": {},
   "source": [
    "### 示例代码"
   ]
  },
  {
   "cell_type": "markdown",
   "id": "51410876-f09f-4e36-b96a-1267dab0e9a7",
   "metadata": {},
   "source": [
    "#### Test41"
   ]
  },
  {
   "cell_type": "code",
   "execution_count": null,
   "id": "7d4a190e-8695-4631-a6d2-f42a5197c34c",
   "metadata": {
    "scrolled": true
   },
   "outputs": [],
   "source": [
    "# 导⼊线程池相关的模块 concurrent 并发 future 将来/未来 (相当于线程任务执⾏完毕后的结果对象)\n",
    "import concurrent.futures\n",
    "import time\n",
    "\n",
    "\n",
    "# 任务函数\n",
    "def task(n):\n",
    "    print(f\"Processing {n}\")\n",
    "    time.sleep(2)   # 模拟耗时操作\n",
    "    return n * n    # 返回参数的平⽅数\n",
    "\n",
    "# ThreadPoolExecutor 线程池执行器对象 max_workers 线程池中线程的数量\n",
    "with concurrent.futures.ThreadPoolExecutor(max_workers=5) as executor:\n",
    "    # 线程池对象调用 submit 方法提交任务，此时线程池对象才能够执行任务，\n",
    "    # 任务提交完毕后，会返回一个 future 对象，用于保存任务执行的结果\n",
    "    futures = [executor.submit(task, i) for i in range(10)] # 一个列表对象\n",
    "    # as_completed 当...执行完毕后\n",
    "    for future in concurrent.futures.as_completed(futures):\n",
    "        # 通过result 方法获取future对象的返回结果\n",
    "        print(f\"Result: {future.result()}\")"
   ]
  },
  {
   "cell_type": "markdown",
   "id": "cee3d5d2-5748-4d0f-a9bd-e84d0565f202",
   "metadata": {},
   "source": [
    "### 关键点"
   ]
  },
  {
   "cell_type": "markdown",
   "id": "6ace9256-e698-4e19-bcbc-075d388397e8",
   "metadata": {},
   "source": [
    "* ThreadPoolExecutor: ⽤于创建线程池。\n",
    "* max_workers: 设置线程池中的最⼤线程数。\n",
    "* submit: 提交任务到线程池，返回 Future 对象。\n",
    "* as_completed: 获取已完成的任务结果。"
   ]
  },
  {
   "cell_type": "markdown",
   "id": "1cd48aa8-b7bf-4d19-8e4d-5796958f4b67",
   "metadata": {},
   "source": [
    "### 适⽤场景"
   ]
  },
  {
   "cell_type": "markdown",
   "id": "b92442ef-c3b6-42cc-ac35-9b247527e49a",
   "metadata": {},
   "source": [
    "* I/O 密集型任务: 如⽂件读写、⽹络请求等。\n",
    "* 并⾏处理: 需要同时执⾏多个任务的场景。"
   ]
  },
  {
   "cell_type": "markdown",
   "id": "2a9a588f-0f70-45bf-991a-1e9f042df56f",
   "metadata": {},
   "source": [
    "### 注意事项"
   ]
  },
  {
   "cell_type": "markdown",
   "id": "750f8f59-d082-48ee-98f8-197f613a2011",
   "metadata": {},
   "source": [
    "* GIL 限制：由于 GIL，ThreadPoolExecutor 不适合 CPU 密集型任务，此时应使⽤ ProcessPoolExecutor。\n",
    "\n",
    "通过这些⼯具，你可以轻松实现并发任务处理。"
   ]
  },
  {
   "cell_type": "markdown",
   "id": "bc6233e1-4251-41ab-b262-bc5e53213fb6",
   "metadata": {},
   "source": [
    "### 售票案例实现⼀"
   ]
  },
  {
   "cell_type": "markdown",
   "id": "72803f71-8b1a-4911-a302-a32c59ddfd23",
   "metadata": {},
   "source": [
    "#### Test42"
   ]
  },
  {
   "cell_type": "code",
   "execution_count": null,
   "id": "b33aebb8-e0fe-461a-90de-e866a72c8c87",
   "metadata": {},
   "outputs": [],
   "source": [
    "import concurrent.futures\n",
    "import threading\n",
    "\n",
    "\n",
    "# 定义一个售票窗口类\n",
    "class TicketWindow(threading.Thread):\n",
    "    tickets = 10\n",
    "    lock = threading.RLock() # 互斥锁\n",
    "\n",
    "    # 初始化方法\n",
    "    def __init__(self, thread_name):\n",
    "        super(TicketWindow, self).__init__(name=thread_name)\n",
    "\n",
    "    # 重写 run() 方法\n",
    "    def run(self):\n",
    "        while True:\n",
    "            try:\n",
    "                # 加锁\n",
    "                TicketWindow.lock.acquire()  # 类锁\n",
    "                # 判断\n",
    "                if TicketWindow.tickets > 0:\n",
    "                    print(f'{self.name} 正在售出第 {TicketWindow.tickets} 张票.')\n",
    "                    TicketWindow.tickets -= 1\n",
    "                else:\n",
    "                    break\n",
    "            finally:\n",
    "                # 释放锁\n",
    "                TicketWindow.lock.release()\n",
    "\n",
    "\n",
    "if __name__ == '__main__':\n",
    "    # 创建一个线程池\n",
    "    with concurrent.futures.ThreadPoolExecutor(max_workers=3) as executor:\n",
    "        # 创建三条子线程\n",
    "        t1 = TicketWindow('窗口一')\n",
    "        t2 = TicketWindow('窗口二')\n",
    "        t3 = TicketWindow('窗口三')\n",
    "        # 提交子线程，将线程执行完毕后返回的结果保存到 futures 中\n",
    "        futures = [executor.submit(t1.run), executor.submit(t2.run), executor.submit(t3.run)]\n",
    "        # 查看任务完成后的返回结果\n",
    "        for future in concurrent.futures.as_completed(futures):\n",
    "            print(f\"Result：{future.result()}\")"
   ]
  },
  {
   "cell_type": "markdown",
   "id": "605da482-7d7d-4a83-baa7-679f94c92fa6",
   "metadata": {},
   "source": [
    "### 售票案例实现⼆"
   ]
  },
  {
   "cell_type": "markdown",
   "id": "86af3ce8-4ea9-4afd-8cc0-f27d2e77f60b",
   "metadata": {},
   "source": [
    "#### Test43"
   ]
  },
  {
   "cell_type": "code",
   "execution_count": null,
   "id": "02e5b455-726b-470b-bb36-21721d4d4f83",
   "metadata": {
    "scrolled": true
   },
   "outputs": [],
   "source": [
    "import concurrent.futures\n",
    "import threading\n",
    "\n",
    "\n",
    "\n",
    "# 定义一个售票任务函数\n",
    "def ticket_task(name):\n",
    "    # 声明全局变量\n",
    "    global tickets, lock\n",
    "    while True:\n",
    "        try:\n",
    "            # 加锁\n",
    "            lock.acquire()  # 类锁\n",
    "            # 判断\n",
    "            if tickets > 0:\n",
    "                print(f'{name} 正在售出第 {tickets} 张票.')\n",
    "                tickets -= 1\n",
    "            else:\n",
    "                break\n",
    "        finally:\n",
    "            # 释放锁\n",
    "            lock.release()\n",
    "\n",
    "\n",
    "if __name__ == '__main__':\n",
    "    tickets = 100\n",
    "    lock = threading.RLock()  # 互斥锁\n",
    "    \n",
    "    # 创建一个线程池，线程池中有三条线程\n",
    "    with concurrent.futures.ThreadPoolExecutor(max_workers=3) as executor:\n",
    "        # 提交任务\n",
    "        executor.submit(ticket_task, '窗口一')\n",
    "        executor.submit(ticket_task, '窗口二')\n",
    "        executor.submit(ticket_task, '窗口三')"
   ]
  },
  {
   "cell_type": "markdown",
   "id": "325f5dd9-1094-462b-b282-064db50dea73",
   "metadata": {},
   "source": [
    "# 协程 coroutine"
   ]
  },
  {
   "cell_type": "markdown",
   "id": "f6cc5fba-13d8-4ec9-b8e4-7796fa63f02c",
   "metadata": {},
   "source": [
    "## 相关概念讲解"
   ]
  },
  {
   "cell_type": "markdown",
   "id": "e2bfd97a-5c3b-4dc2-a5d8-b7ab997aebaf",
   "metadata": {},
   "source": [
    "### ⼀、软件系统的并发"
   ]
  },
  {
   "cell_type": "markdown",
   "id": "bbeb77e2-4947-46ec-b488-8804c99fb70f",
   "metadata": {},
   "source": [
    "使⽤异步IO，⽆⾮是提⾼我们写的软件系统的并发。这个软件系统，可以是⽹络爬⾍，也可以是Web服务等等。 \n",
    "\n",
    "并发的⽅式有多种，多线程，多进程，异步IO等。 \n",
    "多线程和多进程更多应⽤于CPU密集型的场景，⽐如科学计算的时间都耗费在CPU上，利⽤多核CPU来分担计算任务。\n",
    "\n",
    "多线程和多进程之间的场景切换和通讯代价很⾼，不适合IO密集型的场景。⽽异步IO就是⾮常适合IO密集型的场景，⽐如⽹络爬⾍和Web服务。\n",
    "\n",
    "IO 就是读写磁盘、读写⽹络的操作，这种读写速度⽐读写内存、CPU缓存慢得多，前者的耗时是后者的成千上万倍甚⾄更多。这就导致，IO密集型的场景99%以上的时间都花费在IO等待的时间上。异步IO就是把CPU从漫⻓的等待中解放出来的⽅法。"
   ]
  },
  {
   "cell_type": "markdown",
   "id": "d45d14f2-4073-41a0-9849-0e603405d0a2",
   "metadata": {},
   "source": [
    "### ⼆、同步、异步与阻塞、⾮阻塞的区别"
   ]
  },
  {
   "cell_type": "markdown",
   "id": "3d8d9aeb-c5e7-43fe-9f20-5d2885bca07b",
   "metadata": {},
   "source": [
    "同步和异步：是⽅法论；  \n",
    "阻塞和⾮阻塞：是现象（结果）论。  \n",
    "\n",
    "处理IO，⼀种现象（结果）就是等IO处理完才去做别的，这就是 *阻塞*；  \n",
    "另⼀种现象是先发⼀个处理IO的命令就去做别的事情，等IO处理结束了再来对IO处理进⾏处理，这就是 *非阻塞*。  \n",
    "\n",
    "阻塞是浪费时间的，所以我们要想办法解决阻塞使整个流程顺畅变成⾮阻塞。那么怎么办呢？ \n",
    "\n",
    "I/O功能随着技术的发展经历了多个阶段的演变：\n",
    "1. 处理器直接控制外部设备：这种⽅式常⻅于微处理控制设备。\n",
    "2. 增设设备控制器：处理器通过编程I/O⽅式与设备相联，提⾼了操作的通⽤性。\n",
    "3. 引⼊中断机制：允许CPU不必等待I/O操作，显著提升了效率。\n",
    "4. DMA技术：使设备可以直接控制内存，进⼀步减轻CPU负担。\n",
    "5. I/O通道：I/O模块升级为独⽴处理器，使⽤专为I/O设计的指令，形成切头切尾的专⽤计算机。  \n",
    "\n",
    "这些演变展示了I/O系统从简单到复杂的逐步发展过程。"
   ]
  },
  {
   "cell_type": "markdown",
   "id": "5643a0f3-4ab3-4571-a237-75cf9090c117",
   "metadata": {},
   "source": [
    "![](img/asyn.jpg)"
   ]
  },
  {
   "cell_type": "markdown",
   "id": "7ed64510-0675-45b6-8634-e90a3ec45922",
   "metadata": {},
   "source": [
    "举个例⼦，我们要做⼀顿午饭：淘⽶1分钟，蒸⽶饭20分钟，洗菜5分钟，切菜1分钟，炒菜20分钟。那么，做完这顿饭需要⼏分钟？不同的⼈需要的时间不⼀样。\n",
    "\n",
    "笨的⼈，淘⽶、蒸⽶饭、洗菜、切菜、炒菜⼀步⼀步来，需要的时间最⻓。他的过程是阻塞的，⽅法是同步的，当然也是笨的。\n",
    "\n",
    "聪明的⼈发现，⽤电饭煲蒸饭的同时，就可以去做菜了，这样完全节省了等待蒸⽶饭的那20分钟。他的过程变成了⾮阻塞的，⽅法变成了异步的。\n",
    "\n",
    "**这个过程有个关键的东⻄：电饭煲，它只需要⼀个命令开关就去蒸饭了，蒸完饭会“滴”⼀声告诉你好了，期间不需要你操⼼，可以去洗菜、炒菜了。这就是异步实现的机制。**\n",
    "\n",
    "这⾥，“蒸饭”看做是耗时的 IO 过程，它的异步化就带来了整体效率的提⾼。\n",
    "\n",
    "如果炒菜也有电器可以⾃动实现，把菜放进去，它洗、切、炒⾃动完成，熟了后也“滴”⼀声告诉你。那么你做饭的流程更加⾮阻塞化了，你做饭的⽅法也更加异步化。把材料放进电饭煲和炒菜机就可以去看电视或⼲点⼉别的了。"
   ]
  },
  {
   "cell_type": "markdown",
   "id": "532fde47-1e8b-4109-98a5-fb2fd37dfd10",
   "metadata": {},
   "source": [
    "### 三、Python的异步IO"
   ]
  },
  {
   "cell_type": "markdown",
   "id": "8d3f5a30-c30e-4960-9dd4-de68177f36ca",
   "metadata": {},
   "source": [
    "异步IO是个好东⻄，在⽹络读写场景中可以⼤⼤提⾼程序的并发能⼒，⽐如爬⾍、web服务等。  \n",
    "异步IO的优势显⽽易⻅，各种语⾔都通过实现这个机制来提⾼⾃身的效率，Python也不例外。"
   ]
  },
  {
   "cell_type": "markdown",
   "id": "632748e9-6a3e-4f6a-99a3-f13de3de9623",
   "metadata": {},
   "source": [
    "#### （1）Python 2 的异步IO库"
   ]
  },
  {
   "cell_type": "markdown",
   "id": "5ca0959c-0659-49c0-b3f4-1fc8a9bde595",
   "metadata": {},
   "source": [
    "Python 2 时代官⽅并没有异步IO的⽀持，但是有⼏个第三⽅库通过事件或事件循环（Event Loop）实现了异步IO，它们是： \n",
    "* **twisted**：是事件驱动的⽹络库  \n",
    "* **gevent**：greenlet + libevent(后来是libev或libuv）。通过协程（greenlet）和事件循环库（libev，libuv）实现的gevent使⽤很⼴泛。  \n",
    "* **tornado**：⽀持异步IO的web框架。⾃⼰实现了IOLOOP。  "
   ]
  },
  {
   "cell_type": "markdown",
   "id": "549e02b2-4d17-4048-ab58-aa77f0550151",
   "metadata": {},
   "source": [
    "#### （2）Python 3 官⽅的异步IO"
   ]
  },
  {
   "cell_type": "markdown",
   "id": "fd312d7f-801e-4b6f-b3ae-8d3a4cdd359f",
   "metadata": {},
   "source": [
    "Python 3.4 加⼊了**asyncio** 库，使得Python有了⽀持异步IO的官⽅库。这个库，底层是事件循环（EventLoop），上层是协程和任务。  \n",
    "asyncio⾃从3.4 版本加⼊到最新的 3.7版⼀直在改进中。  \n",
    "\n",
    "Python 3.4 刚开始的asyncio的协程还是基于⽣成器的，通过 **yield from** 语法实现，可以通过装饰器 ~~@asyncio.coroutine~~ （已过时）装饰⼀个函数来定义⼀个协程。⽐如："
   ]
  },
  {
   "cell_type": "markdown",
   "id": "bb83826e-b038-4d68-b073-56e6abd125cd",
   "metadata": {},
   "source": [
    "```python\n",
    "import asyncio\n",
    "@asyncio.coroutine\n",
    "def helloworld():\n",
    "    yield from asyncio.sleep(1)\n",
    "    print(\"Hello World!\")\n",
    "\n",
    "loop = asyncio.get_event_loop()\n",
    "\n",
    "# 等hello_word()这个协程结束后，阻塞调用run_until_compIete()才会返回。  \n",
    "loop.run_until_complete(hello_world())\n",
    "loop.close()\n",
    "```"
   ]
  },
  {
   "cell_type": "markdown",
   "id": "3827fb45-08d3-4ee2-a206-a9781cb90178",
   "metadata": {},
   "source": [
    "Python 3.5 引⼊了两个新的关键字 **await** 和 **async** ⽤来替换 ~~**@asyncio.coroutine**~~ 和 ~~**yield from**~~，从语⾔本身来⽀持异步IO。从⽽使得异步编程更加简洁，并和普通的⽣成器区别开来。\n",
    "\n",
    "**注意**： 对基于⽣成器的协程的⽀持已**弃⽤**，并计划在 Python 3.10 中移除。所以，写异步IO程序时只需使⽤ async 和 await 即可。\n",
    "\n",
    "Python 3.7 ⼜进⾏了优化，把API分组为**⾼层级API**和**低层级API**。 我们先看看下⾯的代码，发现与上⾯的有什么不同？"
   ]
  },
  {
   "cell_type": "markdown",
   "id": "168fd7b1-775a-4429-b114-70adbbe649e6",
   "metadata": {},
   "source": [
    "```python\n",
    "import asyncio\n",
    "\n",
    "async def helloworld():\n",
    "    await asyncio.sleep(1)\n",
    "    print('Hello WorId!\")\n",
    "\n",
    "async.run(helloword())\n",
    "```"
   ]
  },
  {
   "cell_type": "markdown",
   "id": "c37443fa-4316-42df-b501-dce03a8cb817",
   "metadata": {},
   "source": [
    "除了⽤ async 替换 @asyncio.coroutine 和⽤ await 替换 yield from 外，最⼤的变化就是关于eventloop的代码不⻅了，只有⼀个 async.run()。这就是 3.7 的改进，把eventloop相关的API归⼊到低层级API，新引进run()作为⾼层级API让写应⽤程序的开发者调⽤，⽽不⽤再关⼼eventloop。除⾮你要写异步库（⽐如MySQL异步库）才会和eventloop打交道。  \n",
    "\n",
    "需要注意的是， async.run() 是3.7版新增加的。  \n",
    "\n",
    "从上⾯关于 asyncio 的发展来看它⼀直在变化，3.4，3.5，3.6， 3.7 都有很多细节上的变化。  \n",
    "\n",
    "这种变化，⼀⽅⾯改善了 asyncio 本身的性能和使⽤⽅便程度，但另⼀⽅⾯也增加了我们使⽤者的学习成本、Python升级带来的改造的成本。  \n",
    "\n",
    "只要你喜欢⽤Python写程序解决问题，那么就接受并掌握这种变化吧。其实，哪种语⾔不在变，哪种技术不在前进。作为程序员，你只有不断地学习和前进。  \n",
    "\n",
    "**总结：**  \n",
    "1. 异步 IO ⽤在费时的 IO 操作上以提⾼程序整体效率。\n",
    "2. 同步和异步，阻塞和⾮阻塞就是⽅法和现象。\n",
    "3. Python的异步历史很复杂，然⽽⽬前给我们⽤的已经很优雅，记住以下三点：  \n",
    "     (a) Python 3.7  \n",
    "     (b) await，async  \n",
    "     (c) IO 的时候⽤  "
   ]
  },
  {
   "cell_type": "markdown",
   "id": "6e69e6fa-0014-4c36-8411-812e8eca79b3",
   "metadata": {},
   "source": [
    "## 协程介绍"
   ]
  },
  {
   "cell_type": "markdown",
   "id": "4ac1acb7-f5a2-4914-ac26-d24f0ec97ca1",
   "metadata": {},
   "source": [
    "协程：⼜称为 *微线程*，协程是在单线程下的并发，**协程是⼀种⽤户态的轻量级线程**。  \n",
    "\n",
    "可以理解为⼀种在线程⾥跑的⼦线程，它的默认栈空间很⼩。当多个协程在⼀个线程上运⾏时，协程间会切换着运⾏，协程的切换完成在⽤户态完成，⽽且时机由程序员⾃⾏调度，从⽽使得线程的并发量⼤⼤提升。 \n",
    "\n",
    "简单的说：  \n",
    "**协程的核⼼思想就在于执⾏者对控制流的主动让出和恢复，相对于，线程类的抢占式调度⽽⾔，协程是⼀种协作式调度⽅式，协程之间的执⾏任务按照⼀定顺序交替执⾏。**"
   ]
  },
  {
   "cell_type": "markdown",
   "id": "76d93b4c-3616-4bbc-bfbb-3db6f809f0ab",
   "metadata": {},
   "source": [
    "![](img/xc.jpg)"
   ]
  },
  {
   "cell_type": "markdown",
   "id": "e6b0d35d-2622-4083-9f17-e428a89f1a0a",
   "metadata": {},
   "source": [
    "不过协程只适⽤于IO密集型程序(⼤部分时间在等待), 对于计算密集型程序, 协程的优势并不⼤, 因为没有给它切换的时间, cpu ⼤部分时间都在⼯作。\n",
    "\n",
    "协程是实现多任务的另⼀种⽅式, 只不过是⽐线程更⼩的执⾏单位. 因为它⾃带CPU上下⽂, 这样只要在合适的时机, 我们就可以把⼀个协程切换到另⼀个协程。\n",
    "\n",
    "CPU上下⽂ (CPU寄存器和程序计数器)\n",
    "* CPU寄存器是CPU的内置中容量⼩, 但速度极快的内存。\n",
    "* 程序计数器则是⽤来存储CPU正在执⾏的指令位置, 或者即将执⾏的下⼀条指令位置。\n",
    "\n",
    "协程与线程：  \n",
    "* 线程 : 每个线程都有⾃⼰缓存等数据, 操作系统还会做这些数据的恢复操作. 所以线程的切换⾮常消耗性能.\n",
    "* 协程 : 单纯的操作CPU上下⽂, 所以⼀秒切换上百万次系统都能抗住, 因此完成多任务的效率⽐线程和进程都⾼.\n",
    "* 这种设计使得协程更适合于I/O密集型任务，因为在等待I/O操作完成时，协程可以主动让出CPU，避免浪费资源\n",
    "\n",
    "协程和任务：  \n",
    "* 协程通过 async/await 语法进⾏声明，是编写异步应⽤的推荐⽅式。\n",
    "* 协程可以通过 asyncio.run(coro, *, debug=False) 函数运⾏，该函数负责管理事件循环并完结异步⽣成器。它应该被⽤作asyncio程序的主⼊⼝点，相当于main函数，应该只被调⽤⼀次。\n",
    "* 任务被⽤于并发调度协程，可⽤于⽹络爬⾍的并发。可以把⼀个协程打包为⼀个任务，该协程会⾃动安排并很快运⾏。\n",
    "\n",
    "同步**原语**：  \n",
    "asyncio同步原语的设计类似于threading模块的原语，有两个重要的注意事项：\n",
    "1. asyncio原语**不是线程安全**的，因此它们不应该⽤于 OS 线程同步（⽽是⽤ threading）\n",
    "2. 这些同步原语的⽅法不接受超时参数；使⽤ asyncio.wait_for() 函数执⾏超时操作。\n",
    "\n",
    "asyncio 队列的设计类似于标准模块 queue 的类。  \n",
    "虽然 asyncio 队列不是线程安全的，但它们被设计为专⻔⽤于 async/await 代码。\n",
    "\n",
    "Python 3.7 通过对 asyncio 分组使得它的架构更加清晰，普通写异步 IO 的应⽤程序只需熟悉⾼层级\n",
    "API，需要写异步 IO 的库和框架时才需要理解低层级的API。\n",
    "\n",
    "**协程的优势**：\n",
    "1. ⾮常适⽤于 I/O 密集型任务\n",
    "2. 执⾏效率⾼（切换函数，⽽不切换线程，没有多余开销）\n",
    "3. 不需要锁机制\n",
    "\n",
    "**协程的劣势**：\n",
    "1. ⽆法利⽤多核资源\n",
    "2. 进⾏阻塞操作会阻塞掉整个程序"
   ]
  },
  {
   "cell_type": "markdown",
   "id": "0c427f90-7ee6-4278-9da9-214a93f8f9c3",
   "metadata": {},
   "source": [
    "### yield 实现协程"
   ]
  },
  {
   "cell_type": "markdown",
   "id": "352d5831-abd9-4302-b473-b9b3ff522eba",
   "metadata": {},
   "source": [
    "#### Test24"
   ]
  },
  {
   "cell_type": "code",
   "execution_count": null,
   "id": "40a214f1-2d25-41f7-ac16-02db3aef381f",
   "metadata": {
    "scrolled": true
   },
   "outputs": [],
   "source": [
    "# 定义一个任务（函数）\n",
    "def task1():\n",
    "    # IO 耗时操作\n",
    "    for i in range(1, 4):\n",
    "        print(f'task 1，i={i}')\n",
    "        # yield关键字会让当前函数称为一个`生成器对象`\n",
    "        # yield 关键字会将当前 `任务函数` 挂起\n",
    "        yield  \n",
    "\n",
    "\n",
    "# 再定义一个任务（函数）\n",
    "def task2():\n",
    "    for i in range(1, 4):\n",
    "        print(f'task 2，i={i}')\n",
    "        yield\n",
    "\n",
    "\n",
    "if __name__ == '__main__':\n",
    "    # 现在的程序只有⼀条主线程 (IO 并发操作)\n",
    "    # 任务（函数）\n",
    "    t1 = task1()  # task1() 这⾥不是调⽤函数, 变成了返回⽣成器对象\n",
    "    t2 = task2()\n",
    "\n",
    "    print(t1)   # <generator object task1 at 0x7ff087581b40>\n",
    "    print(t2)   # yield, generator\n",
    "\n",
    "    # 思考 : 如果是⼀个⽣成器对象, 我们程序应该如何执⾏呢 ?\n",
    "    # yield 关键字要配合 next() 内置函数实现调⽤, 仅仅会将任务代码调⽤⼀次\n",
    "    # 调用一次t1生成器\n",
    "    next(t1)\n",
    "    next(t2)\n",
    "\n",
    "    # 第⼆次调⽤\n",
    "    # 调用一次t1生成器\n",
    "    next(t1)\n",
    "    next(t2)\n",
    "\n",
    "    # 第三次调⽤\n",
    "    # 调用一次t1生成器\n",
    "    next(t1)\n",
    "    next(t2)\n",
    "\n",
    "    # 调⽤的次数如果超过任务代码执⾏的次数, 会发⽣什么 ? StopIteration 停⽌迭代了\n",
    "    # next(t1)\n",
    "    # next(t2)"
   ]
  },
  {
   "cell_type": "markdown",
   "id": "be3fcce1-64c1-4466-8679-6565cef0d4cd",
   "metadata": {},
   "source": [
    "说明：⾮常有节奏的在两个任务之间来回切换，单线程实现了多任务。"
   ]
  },
  {
   "cell_type": "markdown",
   "id": "9f4f5811-9abb-4a13-92d9-40d2ebc69a28",
   "metadata": {},
   "source": [
    "#### ⽣成器扩展"
   ]
  },
  {
   "cell_type": "markdown",
   "id": "1cfce8e2-e367-40ec-99fc-3a047e41bc30",
   "metadata": {},
   "source": [
    "* next(g) 预激活\n",
    "* g.send(None) 预激活\n",
    "* g.send('需发送的值') 激活 yield 并且发送值。注意 : 此前必须有预激活也就是 next(g) 或 g.send(None)\n",
    "* ⽣成器函数的返回值在异常中"
   ]
  },
  {
   "cell_type": "markdown",
   "id": "4b67924b-7354-4016-bd04-07503400c250",
   "metadata": {},
   "source": [
    "##### Test25"
   ]
  },
  {
   "cell_type": "code",
   "execution_count": null,
   "id": "c74f46c3-122b-4b24-91e5-ed032efb8cf7",
   "metadata": {},
   "outputs": [],
   "source": [
    "# 斐波那契数列：1, 1, 2, 3, 5, 8, 13, 21, 34\n",
    "# 函数中使用 yield 关键字，当前函数已经成为一个生成器对象\n",
    "def fibonacci(n):\n",
    "    a, b = 1, 1\n",
    "    current_n = 0\n",
    "    while current_n < n:\n",
    "        yield a\n",
    "        a, b = b, a + b\n",
    "        current_n += 1\n",
    "    # 退出循环，让函数返回一个结果\n",
    "    # 最终生成器的返回结果是在发生异常的时候返回的\n",
    "    return 'hello world'\n",
    "\n",
    "\n",
    "if __name__ == '__main__':\n",
    "    v = fibonacci(5) # v 是一个生成器对象\n",
    "    print(v)\n",
    "    print(next(v))\n",
    "    print(next(v))\n",
    "    print(next(v))\n",
    "    print(next(v))\n",
    "    print(next(v))\n",
    "    # print(next(v))    StopIteration: hello world，函数返回值\n",
    "    print('-' * 20)\n",
    "\n",
    "    v2 = fibonacci(5)\n",
    "    while True:\n",
    "        try:\n",
    "            result = next(v2)\n",
    "            print(result)\n",
    "        except StopIteration as e:\n",
    "            print(e)  # e就是生成器的返回结果\n",
    "            break  # 不写也会终止\n",
    "    \n",
    "    print('-' * 20)\n",
    "    \n",
    "    # 生成器对象其实就是一个可迭代对象，可以结合 for 循环直接使用\n",
    "    for v3 in fibonacci(5):\n",
    "        print(v3)"
   ]
  },
  {
   "cell_type": "markdown",
   "id": "097fed0a-7667-4a15-a3a9-34744b2ffae6",
   "metadata": {},
   "source": [
    "##### Test26"
   ]
  },
  {
   "cell_type": "code",
   "execution_count": null,
   "id": "9867de2e-76fe-40ca-a954-eba2c175f684",
   "metadata": {},
   "outputs": [],
   "source": [
    "# 斐波那契数列：1, 1, 2, 3, 5, 8, 13, 21, 34\n",
    "# 函数中使用 yield 关键字，当前函数已经成为一个生成器对象\n",
    "def fibonacci(n):\n",
    "    a, b = 1, 1\n",
    "    current_n = 0\n",
    "    while current_n < n:\n",
    "        # yield 关键字第一次不接收参数，因此第一次调用 send() 方法必须传递 None，不能传递具体数值\n",
    "        r = yield a\n",
    "        print(f'{r = }')\n",
    "        a, b = b, a + b\n",
    "        current_n += 1\n",
    "    # 退出循环，让函数返回一个结果\n",
    "    # 最终生成器的返回结果是在发生异常的时候返回的\n",
    "    return 'hello world'\n",
    "\n",
    "\n",
    "if __name__ == '__main__':\n",
    "    # 获取生成器对象\n",
    "    v = fibonacci(5) # v 是一个生成器对象\n",
    "    print(v)\n",
    "    # next() 底层会自动激活生成器\n",
    "    # print(next(v)) # 拿到的是yied a推出来的值，其实就是1\n",
    "    \n",
    "    # 使用 send() 发送数据\n",
    "    # TypeError: can't send non-None value to a just-started generator\n",
    "    # 第一次激活生成器，使用send方法传递的参数必须为None\n",
    "    # v.send('hi') # 将hi推送给r\n",
    "    # v.send(None)\n",
    "    print(v.send(None)) # 第一次返回 1\n",
    "\n",
    "    print(v.send('hi'))\n",
    "    print(v.send('hello'))  # 2是第三次返回的值了\n",
    "    print(v.send('how are you?'))\n",
    "    print(v.send('I love you.'))\n",
    "    # print(v.send('Welcome')) # 超过生成器迭代次数会报错"
   ]
  },
  {
   "cell_type": "markdown",
   "id": "d3988f6c-c2a1-4290-a6a5-01ebbbe16788",
   "metadata": {},
   "source": [
    "## yield from 实现协程"
   ]
  },
  {
   "cell_type": "markdown",
   "id": "369b36c0-cb37-4018-ab60-6547aa5f4756",
   "metadata": {},
   "source": [
    "#### Test27"
   ]
  },
  {
   "cell_type": "code",
   "execution_count": null,
   "id": "7a489d45-d962-4df9-a6a0-e44e634437fc",
   "metadata": {},
   "outputs": [],
   "source": [
    "# 定义一个生成器对象\n",
    "def generator_func():\n",
    "    total = 0\n",
    "    while True:\n",
    "        # yield关键字第一次不接收参数（预激活操作）\n",
    "        x = yield\n",
    "        print('add ', x)  # total去加x\n",
    "        # 判断\n",
    "        if not x:  # x为假退出，0,0.0，''， [], {}...False\n",
    "            break\n",
    "        total += x\n",
    "    # 疑问：什么时候能将total的值返回呢？？\n",
    "    return total\n",
    "\n",
    "\n",
    "if __name__ == '__main__':\n",
    "    # 获取生成器对象\n",
    "    gen = generator_func()\n",
    "    # 如果要传参，生成器对象一定要预激活\n",
    "    # gen.send(None)\n",
    "    # next(gen)\n",
    "    # print(next(gen))  # 强制输出就是个 None\n",
    "    next(gen)\n",
    "    gen.send(1)\n",
    "    gen.send(2)\n",
    "    gen.send(3)\n",
    "    # gen.send(0) # 传一个假程序结束，返回total=6"
   ]
  },
  {
   "cell_type": "markdown",
   "id": "4d77a71b-1710-4ce4-8da6-2a8fae41d2eb",
   "metadata": {},
   "source": [
    "作⽤：yield from 的主要功能是打开双向通道，把最外层的调⽤⽅与最内层的⼦⽣成器连接起来，因为yield from 的异常捕获更为完善。"
   ]
  },
  {
   "cell_type": "markdown",
   "id": "a4b6e359-a4dd-4157-9306-705c3f8e8a6e",
   "metadata": {},
   "source": [
    "### Test28"
   ]
  },
  {
   "cell_type": "code",
   "execution_count": null,
   "id": "246f5501-5016-49a2-bb44-ea6e5693a310",
   "metadata": {},
   "outputs": [],
   "source": [
    "# 定义一个生成器对象（子生成器）\n",
    "def generator_func():\n",
    "    total = 0\n",
    "    while True:\n",
    "        # yield关键字第一次不接收参数（预激活操作）\n",
    "        x = yield\n",
    "        print('add ', x)  # total去加x\n",
    "        # 判断\n",
    "        if not x:  # x为假退出，0,0.0，''， [], {}...False\n",
    "            break\n",
    "        total += x\n",
    "    # 疑问：什么时候能将total的值返回呢？？\n",
    "    return total\n",
    "\n",
    "# 生成器管道（处理子生成器异常的结果）-> 委派生成器\n",
    "def add_generator():\n",
    "    while True:\n",
    "        # 当子生成器发生异常的时候, 会经过该管道进行自动实现的异常处理\n",
    "        # yield from 跟随一个子生成器对象\n",
    "        # yield from 优点：子生成器的异常进行优化处理\n",
    "        total = yield from generator_func()\n",
    "        print('加和的总数为: ', total)\n",
    "\n",
    "\n",
    "\n",
    "if __name__ == '__main__':\n",
    "    # 获取生成器对象\n",
    "    gen = add_generator() # 将generator_func替换为add_generator\n",
    "    # 如果要传参，生成器对象一定要预激活\n",
    "    # gen.send(None)\n",
    "    # next(gen)\n",
    "    # print(next(gen))  # 强制输出就是个 None\n",
    "    next(gen)\n",
    "    gen.send(1)\n",
    "    gen.send(2)\n",
    "    gen.send(3)\n",
    "    gen.send(0) # 传一个假程序结束，返回total=6\n",
    "    gen.send(4) # 后面没啥效果了\n",
    "    gen.send(0)  # 又是新一轮了"
   ]
  },
  {
   "cell_type": "markdown",
   "id": "cb90d97b-adb4-42d1-93e6-6c152ee2a9ec",
   "metadata": {},
   "source": [
    "## async/await 实现协程"
   ]
  },
  {
   "cell_type": "markdown",
   "id": "15155ffd-2073-4722-8b07-4c7abee4740b",
   "metadata": {},
   "source": [
    "Python中使⽤功能协程最常⽤的库就是 asyncio  \n",
    "\n",
    "* async/await 关键字：Python 3.5⽤于定义协程的关键字，async 定义⼀个协程，await ⽤于挂起阻塞调⽤接⼝。  \n",
    "* coroutine 协程：协程对象，使⽤ async 关键字定义的函数，调⽤时不会⽴即执⾏函数，⽽是会返回⼀个协程对象，协程对象需要注册到事件循环中，由事件循环调⽤。 \n",
    "* event_loop 事件循环：相当于⼀个⽆限循环，我们可以把⼀些函数注册到这个事件循环上，当满⾜条件时，就会调⽤对应的处理⽅法。\n",
    "* task 任务：⼀个协程对象就是⼀个原⽣可以挂起的函数，任务则是对协程的进⼀步封装，其中包含任务的各种状态。\n",
    "* future：代表将来执⾏或没有执⾏的任务结构，它与 task 没有本质的区别。 "
   ]
  },
  {
   "cell_type": "markdown",
   "id": "8af4f6fd-036e-4a0d-a547-f5f94218bad3",
   "metadata": {},
   "source": [
    "#### Test29-第⼀个协程案例"
   ]
  },
  {
   "cell_type": "code",
   "execution_count": null,
   "id": "2d0bb0f7-a321-4be2-a268-fcc6faccda31",
   "metadata": {},
   "outputs": [],
   "source": [
    "import asyncio\n",
    "\n",
    "\n",
    "# 定义一个协程（任务）\n",
    "async def say_hi():\n",
    "    print('hello')\n",
    "    # IO 阻塞\n",
    "    # await asyncio.sleep(1) 模拟执行 IO 操作中的等待\n",
    "    await asyncio.sleep(1)  # 事件等待，CPU可以干其他事情\n",
    "    # time.sleep(1)  # 不能使用，让整个线程执行等待\n",
    "    print('world')\n",
    "\n",
    "# 如何执行协程对象呢？\n",
    "# 底层是基于`事件循环`的\n",
    "# asyncio.run(say_hi())  # 在 IDE 工具中使用\n",
    "await say_hi()  # 在Jupyter Notebook / IPython 中运行"
   ]
  },
  {
   "cell_type": "markdown",
   "id": "9d136779-8142-4239-8297-3e5f7d9439e9",
   "metadata": {},
   "source": [
    "```\n",
    "asyncio.run(say_hi())  # 在Jupyter Notebook / IPython 中运行\n",
    "报错：\n",
    "RuntimeError: asyncio.run() cannot be called from a running event loop\n",
    "```\n",
    "原因分析：\n",
    "\n",
    "这个错误表明你正在尝试在一个已经运行的事件循环中调用 `asyncio.run()`，而这是不允许的。`asyncio.run()` 会自己创建和管理一个新的事件循环，不能嵌套调用。\n",
    "\n",
    "**常见原因及解决方法：**\n",
    "\n",
    "* 在 Jupyter Notebook / IPython 中运行\n",
    "\n",
    "Jupyter 本身已经在运行一个事件循环，所以不能直接调用 `asyncio.run()`。\n",
    "\n",
    "**解决方法**：\n",
    "```python\n",
    "# 在 Jupyter 中改用 await\n",
    "await say_hi()  # 直接运行协程\n",
    "```\n",
    "\n",
    "选择哪种方法取决于你的运行环境。在 Jupyter 中，`await say_hi()` 是最简单的方式。"
   ]
  },
  {
   "cell_type": "markdown",
   "id": "7e8f2278-e480-4fa0-a96b-a2f0f5cdd6ea",
   "metadata": {},
   "source": [
    "**思考：** 在实践过程中，什么功能的函数要⽤async声明为协程函数呢？  \n",
    "\n",
    "就是那些能发挥异步IO性能的函数，⽐如**读写⽂件**、**读写⽹络**、**读写数据库**，这些都是浪费时间的IO操作，把它们协程化、异步化从⽽提⾼程序的整体效率（速度）。\n",
    "\n",
    "sayhi() 函数是通过 asyncio.run() 来运⾏的，⽽不是直接调⽤这个函数（协程）。"
   ]
  },
  {
   "cell_type": "markdown",
   "id": "6bdc20af-5eab-4870-bc30-0c0f9c4bfe3e",
   "metadata": {},
   "source": [
    "#### Test30-第⼆个协程案例"
   ]
  },
  {
   "cell_type": "code",
   "execution_count": null,
   "id": "4b821f48-1b93-43b0-b00d-5ca4d9c6b1a5",
   "metadata": {},
   "outputs": [],
   "source": [
    "import asyncio\n",
    "import time\n",
    "\n",
    "async def say_delay(msg, sec):\n",
    "    # 模拟执行 io 操作中的等待\n",
    "    await asyncio.sleep(sec)\n",
    "    print(msg)\n",
    "\n",
    "async def main():\n",
    "    print('main() begin at {}'.format(time.strftime(\"%H:%M:%S\", time.localtime())))\n",
    "    # IO 阻塞调用（这样挂起没用将任务放入到协程的事件循环中）\n",
    "    await say_delay('Hello', 1)\n",
    "    await say_delay('world', 2)\n",
    "    await say_delay('welcome', 3)\n",
    "    print('main() end at {}'.format(time.strftime(\"%H:%M:%S\", time.localtime())))\n",
    "\n",
    "# asyncio.run(main())  # 在 IDE 工具中运行\n",
    "await main()  # 在 Jupyter Notebook / IPython 中运行"
   ]
  },
  {
   "cell_type": "markdown",
   "id": "47500b30-7f16-471b-961e-5242b028ad37",
   "metadata": {},
   "source": [
    "从起⽌时间可以看出，三个协程是顺序执⾏的 (串⾏的)，总共耗时1+2+3=6秒。"
   ]
  },
  {
   "cell_type": "markdown",
   "id": "5c5ec937-46f1-45a2-9df2-033a5e0797bf",
   "metadata": {},
   "source": [
    "#### Test31-第三个协程案例"
   ]
  },
  {
   "cell_type": "markdown",
   "id": "5633bdc8-e9b9-4033-9567-b6da4bb62857",
   "metadata": {},
   "source": [
    "通过 asyncio.create_task() 函数并发运⾏作为 asyncio 任务（Task） 的多个协程。  \n",
    "\n",
    "下⾯，我们⽤create_task()来修改上⾯的 main() 协程，从⽽让两个 say_delay() 协程并发运⾏："
   ]
  },
  {
   "cell_type": "code",
   "execution_count": null,
   "id": "e378ed35-ff38-4763-b377-09667a735a47",
   "metadata": {},
   "outputs": [],
   "source": [
    "import asyncio\n",
    "import time\n",
    "\n",
    "async def say_delay(msg, sec):\n",
    "    # 模拟执行 io 操作中的等待\n",
    "    await asyncio.sleep(sec)\n",
    "    print(msg)\n",
    "\n",
    "async def main():\n",
    "    # 创建协程任务\n",
    "    task1 = asyncio.create_task(say_delay('Hello', 1))\n",
    "    task2 = asyncio.create_task(say_delay('world', 2))\n",
    "    task3 = asyncio.create_task(say_delay('welcome', 3))\n",
    "    \n",
    "    print('main() begin at {}'.format(time.strftime(\"%H:%M:%S\", time.localtime())))\n",
    "    # IO 阻塞调用（这样挂起没用将任务放入到协程的事件循环中）\n",
    "    await task1\n",
    "    await task2\n",
    "    await task3\n",
    "\n",
    "    print('main() end at {}'.format(time.strftime(\"%H:%M:%S\", time.localtime())))\n",
    "\n",
    "# asyncio.run(main())  # 在 IDE 工具中运行\n",
    "await main()  # 在 Jupyter Notebook / IPython 中运行"
   ]
  },
  {
   "cell_type": "code",
   "execution_count": null,
   "id": "ce1d47f7-491d-4157-95c0-631efa93aadc",
   "metadata": {},
   "outputs": [],
   "source": [
    "import asyncio\n",
    "import time\n",
    "\n",
    "async def say_delay(msg, sec):\n",
    "    # 模拟执行 io 操作中的等待\n",
    "    await asyncio.sleep(sec)\n",
    "    print(msg)\n",
    "\n",
    "async def main():\n",
    "    # 创建协程任务\n",
    "    task1 = asyncio.create_task(say_delay('Hello', 1))\n",
    "    task2 = asyncio.create_task(say_delay('world', 2))\n",
    "    task3 = asyncio.create_task(say_delay('welcome', 3))\n",
    "    \n",
    "    print('main() begin at {}'.format(time.strftime(\"%H:%M:%S\", time.localtime())))\n",
    "    await asyncio.gather(task1, task2, task3)\n",
    "    print('main() end at {}'.format(time.strftime(\"%H:%M:%S\", time.localtime())))\n",
    "\n",
    "# asyncio.run(main())  # 在 IDE 工具中运行\n",
    "await main()  # 在 Jupyter Notebook / IPython 中运行"
   ]
  },
  {
   "cell_type": "markdown",
   "id": "d7cd58a0-fa22-4a6e-aed0-52712876dba9",
   "metadata": {},
   "source": [
    "这次只花了3秒钟，因为前面的任务发生阻塞的时候，后面的任务还可以继续执行。   \n",
    "单线程中实现异步任务执行，提高了CPU的效率。   \n",
    "\n",
    "从运⾏结果的起⽌时间可以看出，两个协程是并发执⾏的了，总耗时等于最⼤耗时3秒。  \n",
    "asyncio.create_task() 是⼀个很有⽤的函数，在爬⾍中它可以帮助我们实现⼤量并发去下载⽹⻚。  \n",
    "在Python 3.6中与它对应的是 ensure_future()。"
   ]
  },
  {
   "cell_type": "markdown",
   "id": "c80d2a12-1bae-4d9d-9ddc-fa13518e1b6a",
   "metadata": {},
   "source": [
    "区别：  \n",
    "\n",
    "你的观察是正确的！在实际执行中，即使你使用 `await task1; await task2; await task3` 的方式，总耗时仍然是 **约3秒**（而不是理论上的6秒），这与 `asyncio.gather()` 的表现几乎相同。这个现象的原因是：\n",
    "\n",
    "---\n",
    "\n",
    "**为什么逐个 `await` 也只要3秒？**\n",
    "**1. `create_task` 已经让任务并发运行**\n",
    "关键点在于：\n",
    "```python\n",
    "task1 = asyncio.create_task(say_delay('Hello', 1))  # 任务已开始执行！\n",
    "task2 = asyncio.create_task(say_delay('world', 2))  # 任务已开始执行！\n",
    "task3 = asyncio.create_task(say_delay('welcome', 3))  # 任务已开始执行！\n",
    "```\n",
    "- **`create_task` 会立即将协程加入事件循环**，任务在调用时就已经开始并发执行。\n",
    "- 后续的 `await` 只是等待它们完成，而 **不是按顺序启动**。\n",
    "\n",
    "**2. 执行时间线分析**\n",
    "```\n",
    "0s: task1、task2、task3 同时启动（create_task）\n",
    "1s: task1 完成（await task1 返回）\n",
    "2s: task2 完成（await task2 返回）\n",
    "3s: task3 完成（await task3 返回）\n",
    "```\n",
    "- 虽然代码里是顺序 `await`，但任务早已在后台并行运行。\n",
    "- **总耗时取决于最慢的任务（3秒）**，和 `gather()` 完全一致。\n",
    "\n",
    "---\n",
    "\n",
    "**与 `gather()` 的真正区别**\n",
    "尽管总耗时相同，但两种方式仍有重要差异：\n",
    "\n",
    "| 特性                | `await task1; await task2; await task3` | `await asyncio.gather(task1, task2, task3)` |\n",
    "|---------------------|----------------------------------------|---------------------------------------------|\n",
    "| **任务启动时机**     | `create_task` 时立即启动               | `gather` 时统一启动                         |\n",
    "| **异常处理**        | 可在每个 `await` 后单独处理异常        | 任一任务异常会终止所有任务（除非用 `return_exceptions=True`） |\n",
    "| **结果顺序**        | 按 `await` 顺序获取结果                | 按传入顺序返回结果                          |\n",
    "| **代码意图清晰度**  | 隐含并发（可能让读者困惑）             | 明确表达“并行等待所有任务”                  |\n",
    "\n",
    "---\n",
    "\n",
    "**如何真正实现串行执行？**\n",
    "如果确实想按顺序执行（总耗时6秒），应该 **不提前创建任务**，而是直接按顺序运行协程：\n",
    "```python\n",
    "# 真正串行执行（6秒）\n",
    "await say_delay('Hello', 1)  # 1秒\n",
    "await say_delay('world', 2)  # 再等2秒\n",
    "await say_delay('welcome', 3)  # 再等3秒\n",
    "```\n",
    "- 这样才是真正的 **前一个完成后再启动下一个**。\n",
    "\n",
    "---\n",
    "\n",
    "**最佳实践建议**\n",
    "1. **如果想明确并发**：\n",
    "   - 使用 `gather()`，代码意图更清晰。\n",
    "   - 示例：\n",
    "     ```python\n",
    "     await asyncio.gather(\n",
    "         say_delay('Hello', 1),\n",
    "         say_delay('world', 2),\n",
    "         say_delay('welcome', 3)\n",
    "     )\n",
    "     ```\n",
    "\n",
    "2. **如果想串行执行**：\n",
    "   - 避免提前 `create_task`，直接顺序 `await` 协程。\n",
    "   - 示例：\n",
    "     ```python\n",
    "     await say_delay('Hello', 1)\n",
    "     await say_delay('world', 2)\n",
    "     await say_delay('welcome', 3)\n",
    "     ```\n",
    "\n",
    "3. **如果需要更精细控制**：\n",
    "   - 使用 `asyncio.wait()` 或 `asyncio.as_completed()`：\n",
    "     ```python\n",
    "     # 获取已完成的任务（支持超时）\n",
    "     done, pending = await asyncio.wait([task1, task2, task3], timeout=2)\n",
    "     \n",
    "     # 按完成顺序处理\n",
    "     for coro in asyncio.as_completed([task1, task2, task3]):\n",
    "         result = await coro\n",
    "     ```\n",
    "\n",
    "---\n",
    "\n",
    "**总结**\n",
    "- **你的观察是对的**：`create_task` + 顺序 `await` 和 `gather()` 的耗时相同（3秒），因为任务在 `create_task` 时就已并发执行。\n",
    "- **关键区别**在于代码的 **设计意图** 和 **异常处理方式**，而非性能。\n",
    "- **真正串行执行**需要避免提前创建任务，直接顺序调用协程。"
   ]
  },
  {
   "cell_type": "markdown",
   "id": "9cb997ad-db1b-44a0-a175-a834c3f7e456",
   "metadata": {},
   "source": [
    "## 可等待对象（awaitables）"
   ]
  },
  {
   "cell_type": "markdown",
   "id": "efa70196-d274-4c22-be43-119b61d7b753",
   "metadata": {},
   "source": [
    "可等待对象，就是可以在 await 表达式中使⽤的对象，前⾯我们已经接触了两种可等待对象的类型：协程和任务。  \n",
    "\n",
    "asyncio 模块的许多API都需要传⼊可等待对象，⽐如 run()，create_task() 等等。"
   ]
  },
  {
   "cell_type": "markdown",
   "id": "9e5d17b8-b046-40b4-b92d-4eb7a9e8b31d",
   "metadata": {},
   "source": [
    "### Test32-执⾏协程函数"
   ]
  },
  {
   "cell_type": "code",
   "execution_count": null,
   "id": "2bbc28a9-b2e4-4988-b2f8-28fd7a4ad9af",
   "metadata": {},
   "outputs": [],
   "source": [
    "import asyncio\n",
    "\n",
    "\n",
    "# 定义一个协程函数\n",
    "async def func():\n",
    "    print('我是一个协程函数...')\n",
    "\n",
    "\n",
    "if __name__ == '__main__':\n",
    "    # 接收协程函数\n",
    "    # r = func()\n",
    "    # <coroutine object func at 0x0000020773F668D0> 协程对象\n",
    "    # 说明 : 发现协程函数并没有被执行\n",
    "    # print(r)\n",
    "\n",
    "    # 启动协程  3.5 与 3.6 版本\n",
    "    # 创建一个事件循环\n",
    "    #  DeprecationWarning: There is no current event loop  过期提醒\n",
    "    # loop = asyncio.get_event_loop()\n",
    "    # 将修成对象加入到事件循环中, 并执行\n",
    "    # loop.run_until_complete(func())\n",
    "\n",
    "    # 启动协程 3.7 及以上\n",
    "    # asyncio.run(func())\n",
    "    await func()  # 在 Jupyter Notebook / IPython 中运行"
   ]
  },
  {
   "cell_type": "markdown",
   "id": "cfbf4559-a72e-4665-ae7b-195077c59222",
   "metadata": {},
   "source": [
    "### Test33-io操作耗时模拟 "
   ]
  },
  {
   "cell_type": "code",
   "execution_count": null,
   "id": "177107f7-59b4-484b-ae25-93ab71308421",
   "metadata": {},
   "outputs": [],
   "source": [
    "import asyncio\n",
    "\n",
    "# 定义一个协程函数\n",
    "async def func():\n",
    "    print('我是一个协程函数...')\n",
    "    # await asyncio.sleep(1) 模拟执行 io 操作中的等待\n",
    "    r = await asyncio.sleep(1)\n",
    "    print(f'结束: {r = }')\n",
    "\n",
    "if __name__ == '__main__':\n",
    "    # asyncio.run(func())\n",
    "    await func()  # 在 Jupyter Notebook / IPython 中运行"
   ]
  },
  {
   "cell_type": "markdown",
   "id": "a88aa1e4-3b17-4955-842a-26343b61efa2",
   "metadata": {},
   "source": [
    "## Tasks 任务"
   ]
  },
  {
   "cell_type": "markdown",
   "id": "bda91e9c-ed0c-4924-b85b-be2676770e85",
   "metadata": {},
   "source": [
    "任务是⽤来调度协程的，以便并发执⾏协程。  \n",
    "当⼀个协程通过 asyncio.create_task() 被打包为⼀个任务，该协程将⾃动加⼊程序调度⽇程准备⽴即运⾏。"
   ]
  },
  {
   "cell_type": "markdown",
   "id": "db0ca2fe-0686-43cf-993f-3af39629e619",
   "metadata": {},
   "source": [
    "### Test34"
   ]
  },
  {
   "cell_type": "code",
   "execution_count": null,
   "id": "ee6eac04-064d-4dfe-ac7b-3c7651a85cc3",
   "metadata": {},
   "outputs": [],
   "source": [
    "import time\n",
    "import asyncio\n",
    "\n",
    "\n",
    "async def hi(msg, sec):\n",
    "    print('enter hi(), {} @{}'.format(msg, time.strftime('%H:%M:%S')))\n",
    "    # 模拟IO阻塞\n",
    "    await asyncio.sleep(sec)\n",
    "    print('exit hi(), {} @{}'.format(msg, time.strftime('%H:%M:%S')))\n",
    "    return sec\n",
    "\n",
    "\n",
    "async def main():\n",
    "    print('main() begin at {}'.format(time.strftime('%H:%M:%S')))\n",
    "    # 协程任务列表\n",
    "    tasks = []\n",
    "    for i in range(1, 5):\n",
    "        # 过 create_task() 我们在for循环里面生成了4个task（也是协程对象）\n",
    "        # 但是这4个协程任务并没有被执行，它们需要等待一个时机：当前协程（main）遇到 await。\n",
    "        t = asyncio.create_task(hi(i, i)) # 接收任务\n",
    "        tasks.append(t)  # 添加到任务列表中，此时并未挂起\n",
    "\n",
    "    # 挂起协程任务\n",
    "    for task in tasks:  \n",
    "        r = await task\n",
    "        print(f'r is {r}')\n",
    "    print('main() end at {}'.format(time.strftime('%H:%M:%S')))\n",
    "\n",
    "# asyncio.run(main())\n",
    "await main()  # 在 Jupyter Notebook / IPython 中运行\n",
    "print('done!')\n",
    "# 第4个任务阻塞事件4秒，一共执行了4秒"
   ]
  },
  {
   "cell_type": "markdown",
   "id": "a345b4ed-1740-4b54-927d-317de9fec73b",
   "metadata": {},
   "source": [
    "### Test35"
   ]
  },
  {
   "cell_type": "markdown",
   "id": "dc5f7990-897c-4510-a9ad-9262631ce70c",
   "metadata": {},
   "source": [
    "说明：运⾏这个程序时，你会看到数字和字⺟交替打印，这表明两个协程是在并发执⾏的。"
   ]
  },
  {
   "cell_type": "code",
   "execution_count": null,
   "id": "06f1effd-2101-4a5c-8192-1b269583d724",
   "metadata": {},
   "outputs": [],
   "source": [
    "import asyncio\n",
    "\n",
    "\n",
    "# 异步函数（协程），打印数字\n",
    "async def print_numbers():\n",
    "    # 循环5次\n",
    "    for i in range(5):\n",
    "        print(f\"Number: {i}\")\n",
    "        await asyncio.sleep(1)  # 用于模拟耗时的I/O操作，比如网络请求或文件读写\n",
    "\n",
    "\n",
    "# 异步函数（协程），打印字母\n",
    "async def print_letters():\n",
    "    for letter in ['a', 'b', 'c', 'd', 'e']:\n",
    "        print(f\"Letter: {letter}\")\n",
    "        await asyncio.sleep(1)  # 用于模拟耗时的I/O操作，比如网络请求或文件读写\n",
    "\n",
    "\n",
    "async def main():\n",
    "    # 并发运行两个协程任务\n",
    "    task1 = print_numbers()\n",
    "    task2 = print_letters()\n",
    "    # 用于并发地运行多个协程。\n",
    "    # 注意 : await 必须在 async 函数内部调用\n",
    "    await asyncio.gather(task1, task2)\n",
    "    # await asyncio.gather(print_numbers(), print_letters())\n",
    "\n",
    "# 运行主协程\n",
    "if __name__ == \"__main__\":\n",
    "    # 用于运行主协程 main，它是协程并发执行的入口点。\n",
    "    # asyncio.run(main())\n",
    "    await main()  # 在 Jupyter Notebook / IPython 中运行\n",
    "# 一共花了6秒钟，2个任务加在一起是12秒钟"
   ]
  },
  {
   "cell_type": "markdown",
   "id": "d952587e-e0a2-4cae-bd69-c9af7cdef418",
   "metadata": {},
   "source": [
    "## 获取协程结束后的返回值"
   ]
  },
  {
   "cell_type": "markdown",
   "id": "e41dd9a0-b8c5-460d-bbd9-19bbd5985cf9",
   "metadata": {},
   "source": [
    "解决了并发执⾏的问题，现在假设每个异步任务都会返回⼀个操作结果，怎么得到携程的返回结果呢？"
   ]
  },
  {
   "cell_type": "markdown",
   "id": "f6fa8b4d-481e-4228-b183-975c2e9b0e65",
   "metadata": {},
   "source": [
    "### Test36"
   ]
  },
  {
   "cell_type": "code",
   "execution_count": null,
   "id": "cb006f71-ef41-4fa7-82df-18349128cca2",
   "metadata": {},
   "outputs": [],
   "source": [
    "import asyncio\n",
    "\n",
    "\n",
    "async def eat():\n",
    "    for i in range(5):\n",
    "        print('正在吃饭...')\n",
    "        await asyncio.sleep(0.5)\n",
    "    return '吃饭完成'\n",
    "\n",
    "\n",
    "async def work():\n",
    "    for i in range(5):\n",
    "        print('正在做作业...')\n",
    "        await asyncio.sleep(0.5)\n",
    "    return '工作完成'\n",
    "\n",
    "\n",
    "# 其它协程的入口\n",
    "async def main():\n",
    "    # 将协程包装为两个不同的异步任务\n",
    "    task1 = asyncio.create_task(eat())\n",
    "    task2 = asyncio.create_task(work())\n",
    "\n",
    "    # 方式一\n",
    "    # r1 = await task1\n",
    "    # r2 = await task2 \n",
    "    # print(f'{r1 = }')\n",
    "    # print(f'{r2 = }')\n",
    "\n",
    "    # 方式二 返回一个列表类型的数据：['吃饭完成', '工作完成']\n",
    "    # r = await asyncio.gather(task1, task2)\n",
    "    # print(r)\n",
    "\n",
    "    # 方式三 返回一个更加详细的返回值信息，返回一个元组\n",
    "    result = await asyncio.wait([task1, task2])\n",
    "    print(result)    \n",
    "\n",
    "# # asyncio.run(main())\n",
    "await main()  # 在 Jupyter Notebook / IPython 中运行"
   ]
  },
  {
   "cell_type": "markdown",
   "id": "d3518c5d-70c1-44af-8a37-0fbaa0f87e1a",
   "metadata": {},
   "source": [
    "## 强制终⽌协程"
   ]
  },
  {
   "cell_type": "markdown",
   "id": "b7582b66-d6e3-48a6-97b8-64eba0f34854",
   "metadata": {},
   "source": [
    "task1.cancel() 终⽌任务(终⽌协程)  \n",
    "这⾥ task1 被⼿动取消，但会影响 task2 的执⾏，这违背了协程互相提携的特性。所以，需要asyncio.gather ⽅法捕获协程任务的异常。   \n",
    "return_exceptions = True 有外⾯的线程捕获协程⾥⾯的异常。"
   ]
  },
  {
   "cell_type": "markdown",
   "id": "15410cdd-79b9-4d9e-ae6c-50fa3a55d407",
   "metadata": {},
   "source": [
    "### Test37"
   ]
  },
  {
   "cell_type": "code",
   "execution_count": null,
   "id": "1c5a638b-f52f-4bfb-926e-66efa787c5d2",
   "metadata": {},
   "outputs": [],
   "source": [
    "import asyncio\n",
    "\n",
    "\n",
    "async def eat():\n",
    "    for i in range(5):\n",
    "        print('正在吃饭...')\n",
    "        await asyncio.sleep(0.5)\n",
    "    return '吃饭完成!'\n",
    "\n",
    "\n",
    "async def work():\n",
    "    for i in range(5):\n",
    "        print('正在做作业...')\n",
    "        await asyncio.sleep(0.5)\n",
    "    return '工作完成!'\n",
    "\n",
    "\n",
    "# 定义一个回调函数 (task2 任务完成后实现回调)\n",
    "# 协程任务完成后回来自动调用的\n",
    "def callback_func(coro, current_time):\n",
    "    print(f'收到了一个参数: {current_time}')\n",
    "    print(f'当前协程对象的返回值为 : {coro.result()}, 协程结束时间: {current_time}')\n",
    "\n",
    "\n",
    "async def main():\n",
    "    task1 = asyncio.create_task(eat())\n",
    "    task2 = asyncio.create_task(work())\n",
    "\n",
    "    # 手动取消协程任务\n",
    "    task1.cancel()\n",
    "\n",
    "    # 情况⼀ : 如果⼀个协程任务发⽣了异常, 直接影响到事件循环中的所有协程任务 return _exceptions=False\n",
    "    # 情况⼆ : return_exceptions=True 如果协程任务中, 某单个协程任务发⽣了, 不会影响到事件循环中其他的协程任务执⾏\n",
    "    r = await asyncio.gather(task1, task2, return_exceptions=True)\n",
    "    print(r)\n",
    "\n",
    "\n",
    "# asyncio.run(main())\n",
    "await main()  # 在 Jupyter Notebook / IPython 中运行"
   ]
  },
  {
   "cell_type": "markdown",
   "id": "d9e91558-8ee6-426d-b99e-e18b434e36bb",
   "metadata": {},
   "source": [
    "## 协程任务回调"
   ]
  },
  {
   "cell_type": "markdown",
   "id": "f294c0dd-c423-446f-960b-5f7fa97f50d1",
   "metadata": {},
   "source": [
    "假设协程任务执⾏完毕之后，需要⽴刻进⾏回调操作，⽐如将任务结果推送到其他接⼝服务上，这个时候，需要⽤到添加回调函数 .add_done_callback。"
   ]
  },
  {
   "cell_type": "markdown",
   "id": "0816561e-cae5-4ed8-a23e-49db685cd04a",
   "metadata": {},
   "source": [
    "### Test38"
   ]
  },
  {
   "cell_type": "code",
   "execution_count": null,
   "id": "48584c82-f4f4-43de-896b-bc971065f0f1",
   "metadata": {},
   "outputs": [],
   "source": [
    "import asyncio\n",
    "import time\n",
    "from functools import partial\n",
    "\n",
    "\n",
    "async def eat():\n",
    "    for i in range(5):\n",
    "        print('正在吃饭...')\n",
    "        await asyncio.sleep(0.5)\n",
    "    return '吃饭完成!'\n",
    "\n",
    "\n",
    "async def work():\n",
    "    for i in range(5):\n",
    "        print('正在做作业...')\n",
    "        await asyncio.sleep(0.5)\n",
    "    return '工作完成!'\n",
    "\n",
    "\n",
    "# 定义一个回调函数 (task2 任务完成后实现回调)\n",
    "# 协程任务完成后回来自动调用的\n",
    "def callback_func(coro, current_time):\n",
    "    print(f'收到了一个参数: {current_time}')\n",
    "    print(f'当前协程对象的返回值为 : {coro.result()}, 协程结束时间: {current_time}')\n",
    "\n",
    "\n",
    "async def main():\n",
    "    task1 = asyncio.create_task(eat())\n",
    "    task2 = asyncio.create_task(work())\n",
    "\n",
    "    # 任务一 : 正常执行, 接收结果即可\n",
    "    r = await task1\n",
    "    print(f'{r = }')\n",
    "\n",
    "    # 任务二 : 执行完毕后, 需要回调 callback_func 这个函数\n",
    "    # partial：偏函数封装，是一个内置的工具模块\n",
    "    task2.add_done_callback(partial(callback_func, current_time=time.time()))\n",
    "\n",
    "\n",
    "# asyncio.run(main())\n",
    "await main()  # 在 Jupyter Notebook / IPython 中运行"
   ]
  },
  {
   "cell_type": "markdown",
   "id": "a5b3783d-ef3e-41dd-9dcc-1c6d37f94857",
   "metadata": {},
   "source": [
    "## 思考：如何判断是否要把函数定义为协程函数？"
   ]
  },
  {
   "cell_type": "markdown",
   "id": "f0092473-a71a-4413-b420-e6481dda1f73",
   "metadata": {},
   "source": [
    "定义⼀个协程函数很简单，在 def 前⾯加 async 即可。那么如何判断⼀个函数该不该定义为协程函数呢？  \n",
    "\n",
    "记住这⼀个**原则**：*如果该函数是要进⾏IO操作（读写⽹络、读写⽂件、读写数据库等），就把它定义为协程函数，否则就是普通函数*。\n",
    "\n",
    "协程就是我们异步操作的⽚段。通常，写程序都会把全部功能分成很多不同功能的函数，⽬的是为了结构清晰；进⼀步，把那些涉及耗费时间的 IO 操作（读写⽂件、数据库、⽹络）的函数通过 async def 异步化，就是异步编程。\n",
    "\n",
    "那些异步函数（协程函数）都是通过消息机制被事件循环管理调度着，整个程序的执⾏是单线程的，但是某个协程A 进⾏ IO 时，事件循环就去执⾏其它协程⾮ IO 的代码。当事件循环收到协程 A 结束 IO 的消息时，就⼜回来执⾏协程 A，这样事件循环不断在协程之间转换，充分利⽤了 IO 的闲置时间，从⽽并发的进⾏多个 IO 操作，这就是异步IO。  \n",
    "\n",
    "写异步IO程序时记住⼀个**准则**：需要IO的地⽅异步。其它地⽅即使⽤了协程函数也是没⽤的。\n",
    "\n",
    "⽹络爬⾍就是异步IO的⽤武之地。\n",
    "\n",
    "以上就是如何理解 asyncio 的⽅法，也就是如何使⽤ async 和 await 这两个关键字。"
   ]
  },
  {
   "cell_type": "markdown",
   "id": "3c04a4c2-2d4a-49b6-8d14-73e3ed916800",
   "metadata": {},
   "source": [
    "# 案例演示"
   ]
  },
  {
   "cell_type": "markdown",
   "id": "b654f3ce-ead7-4f3f-af51-a40a5b8f892d",
   "metadata": {},
   "source": [
    "## 顺序实现的版本"
   ]
  },
  {
   "cell_type": "markdown",
   "id": "45f1b0d6-263d-46a7-8682-1d62295fe9d7",
   "metadata": {},
   "source": [
    "我们将从抓取 scrapeme.live 作为示例开始，这是⼀个专⻔⽤于测试的电⼦商务⽹站。  \n",
    "\n",
    "⾸先，我们将从顺序抓取的版本开始。以下⼏个⽚段是所有案例的⼀部分，因此它们将保持不变。  \n",
    "通过访问⽬标主⻚，我们发现它有 10 个⼦⻚⾯，从⽬标产品中提取基础数据。为此，我们使⽤ requests.get 获取 HTML 内容，然后使⽤ BeautifulSoup 解析它。\n",
    "\n",
    "注意：下⾯截图的中间标签内没有 Tags 标签."
   ]
  },
  {
   "cell_type": "markdown",
   "id": "8a85dea0-5a74-4c9a-b796-8340d6ec60f9",
   "metadata": {},
   "source": [
    "### Test39-同步阻塞的爬⾍程序 "
   ]
  },
  {
   "cell_type": "code",
   "execution_count": null,
   "id": "adbc3615-29dc-4ea5-aaa1-a9c3181f503a",
   "metadata": {},
   "outputs": [],
   "source": [
    "import requests  # pip install requests\n",
    "import csv      # 内置模块，存储数据，excel 表格\n",
    "from bs4 import BeautifulSoup  # pip install bs4 \n",
    "import time  # 内置模块\n",
    "\n",
    "\n",
    "def extract_details(page):\n",
    "    response = requests.get(f\"{base_url}/{page}/\")\n",
    "    soup = BeautifulSoup(response.text, \"html.parser\")\n",
    "\n",
    "    text_list = []\n",
    "    for quote in soup.select(\".quote\"):\n",
    "        text_list.append({\n",
    "            \"text\": quote.find(class_=\"text\").text.strip(),\n",
    "            \"author\": quote.find(class_='author').text.strip(),\n",
    "            \"tag\": quote.find(class_=\"tag\").text.strip() if quote.find(class_=\"tag\") else '',\n",
    "            \"page_url\": quote.find(class_=\"tag\").get(\"href\") if quote.find(class_=\"tag\") else '',\n",
    "        })\n",
    "    return text_list\n",
    "\n",
    "\n",
    "def store_results(list_of_lists):\n",
    "    text_list = sum(list_of_lists, [])\n",
    "\n",
    "    with open(\"tmp_files/text.csv\", \"w\", newline='') as pokemon_file:\n",
    "        fieldnames = text_list[0].keys()\n",
    "        file_writer = csv.DictWriter(pokemon_file, fieldnames=fieldnames)\n",
    "        file_writer.writeheader()\n",
    "        file_writer.writerows(text_list)\n",
    "\n",
    "\n",
    "start_time = time.time()    # 记录开始时间\n",
    "\n",
    "base_url = \"http://quotes.toscrape.com/page\"\n",
    "pages = range(1, 11)  # 一共10页，每页10条数据，一共100条数据\n",
    "\n",
    "list_of_lists = [\n",
    "    extract_details(page)\n",
    "    for page in pages\n",
    "]\n",
    "\n",
    "store_results(list_of_lists)\n",
    "\n",
    "end_time = time.time()  # 记录结束时间\n",
    "\n",
    "print(f'总耗时: {end_time - start_time}')      # 统计耗时时长"
   ]
  },
  {
   "cell_type": "markdown",
   "id": "1b38d859-9b36-48a2-835f-5f440d828195",
   "metadata": {},
   "source": [
    "输出 CSV ⽂件的示例："
   ]
  },
  {
   "cell_type": "markdown",
   "id": "3b0f6ed0-0b04-46d5-a367-f55ea5e8ca21",
   "metadata": {},
   "source": [
    "![](img/csv.jpg)"
   ]
  },
  {
   "cell_type": "markdown",
   "id": "7228fb9f-4c6d-477e-ae38-dadac93d1eb3",
   "metadata": {},
   "source": [
    "如果您要为每个⻚⾯ (10) 运⾏脚本，它将⽣成⼀个包含 100 个产品的 CSV ⽂件。"
   ]
  },
  {
   "cell_type": "markdown",
   "id": "ed38b9e9-956f-4b41-b9fc-ae5b5186c942",
   "metadata": {},
   "source": [
    "上面是同步阻塞模块。"
   ]
  },
  {
   "cell_type": "markdown",
   "id": "fc0b79cc-595b-4765-82f6-bd5f4317bbf3",
   "metadata": {},
   "source": [
    "## 使⽤ asyncio 进⾏抓取"
   ]
  },
  {
   "cell_type": "markdown",
   "id": "e6e4586c-74de-4260-8927-31ac28cf1246",
   "metadata": {},
   "source": [
    "requests 不⽀持开箱即⽤的异步，因此我们将使⽤ **aiohttp** 来避免复杂化。  \n",
    "requests 可以完成这项⼯作，并且没有实质性的性能差异。但是使⽤ aiohttp 代码更具可读性。"
   ]
  },
  {
   "cell_type": "markdown",
   "id": "cb191dad-e084-4c7f-ac1a-9ea93e70fd43",
   "metadata": {},
   "source": [
    "### Test40-异步⾮阻塞爬⾍程序实现"
   ]
  },
  {
   "cell_type": "code",
   "execution_count": null,
   "id": "3922d0ac-fc70-401e-a77e-f90b8f708181",
   "metadata": {},
   "outputs": [],
   "source": [
    "import asyncio\n",
    "import aiohttp      # pip install aiohttp，一个异步的第三方请求库\n",
    "from bs4 import BeautifulSoup\n",
    "import csv\n",
    "import time\n",
    "def store_results(list_of_lists):\n",
    "    text_list = sum(list_of_lists, [])\n",
    "    with open(\"text.csv\", \"w\", newline='') as pokemon_file:\n",
    "        fieldnames = text_list[0].keys()\n",
    "        file_writer = csv.DictWriter(pokemon_file, fieldnames=fieldnames)\n",
    "        file_writer.writeheader()\n",
    "        file_writer.writerows(text_list)\n",
    "async def extract_details(page, session):\n",
    "    async with session.get(f\"{base_url}/{page}/\") as response:\n",
    "        soup = BeautifulSoup(await response.text(), \"html.parser\")\n",
    "        text_list = []\n",
    "        for quote in soup.select(\".quote\"):\n",
    "            text_list.append({\n",
    "                \"text\": quote.find(class_=\"text\").text.strip(),\n",
    "                \"author\": quote.find(class_='author').text.strip(),\n",
    "                \"tag\": quote.find(class_=\"tag\").text.strip() if quote.find\n",
    "(class_=\"tag\") else '',\n",
    "                \"page_url\": quote.find(class_=\"tag\").get(\"href\") if quote.\n",
    "find(class_=\"tag\") else '',\n",
    "            })\n",
    "        return text_list\n",
    "\n",
    "\n",
    "async def main():\n",
    "    async with aiohttp.ClientSession() as session:\n",
    "        tasks = [\n",
    "            extract_details(page, session)\n",
    "            for page in pages\n",
    "        ]\n",
    "        list_of_lists = await asyncio.gather(*tasks)\n",
    "        store_results(list_of_lists)\n",
    "        \n",
    "start_time = time.time()\n",
    "base_url = \"http://quotes.toscrape.com/page\"\n",
    "pages = range(1, 11)\n",
    "# asyncio.run(main())\n",
    "await main()  # 在 Jupyter Notebook / IPython 中运行\n",
    "end_time = time.time()\n",
    "print(f'总耗时: {end_time - start_time}')"
   ]
  },
  {
   "cell_type": "markdown",
   "id": "9e7ea351-8137-4c6c-8d1f-2e277262bfab",
   "metadata": {},
   "source": [
    "CSV ⽂件应该像以前⼀样包含每个产品的信息。由于我们同时执⾏所有⻚⾯调⽤，结果不会按顺序到达。如果我们将结果添加到 `extract_details` 内的⽂件中，它们可能是⽆序的。但我们会等待所有任务完成然后处理它们，因此顺序性不会有太⼤影响。"
   ]
  },
  {
   "cell_type": "markdown",
   "id": "fb2f1519-12c2-4f6b-a6ea-bf00a83e123b",
   "metadata": {},
   "source": [
    "我们做到了！速度提升了。许多因素都会影响性能（⽹络、CPU、RAM 等）。  \n",
    "在这个演示⻚⾯中，我们注意到当执⾏多个调⽤时，响应时间会变慢，这可能是设计使然。⼀些服务器/提供商可以限制并发请求的数量，以避免来⾃同⼀ IP 的过多流量。它不是⼀种阻塞，⽽是⼀个队列。你会得到服务响应，但需要稍等⽚刻。"
   ]
  },
  {
   "cell_type": "markdown",
   "id": "1fbddf43-f74c-41d0-acff-78373c839cd3",
   "metadata": {},
   "source": []
  },
  {
   "cell_type": "markdown",
   "id": "fb9fc6ed-1112-4079-9e38-71eb87e2c91a",
   "metadata": {},
   "source": []
  },
  {
   "cell_type": "markdown",
   "id": "6cfd3d08-b0b2-4bec-8064-08bb9e52e729",
   "metadata": {},
   "source": []
  }
 ],
 "metadata": {
  "kernelspec": {
   "display_name": "Python [conda env:base] *",
   "language": "python",
   "name": "conda-base-py"
  },
  "language_info": {
   "codemirror_mode": {
    "name": "ipython",
    "version": 3
   },
   "file_extension": ".py",
   "mimetype": "text/x-python",
   "name": "python",
   "nbconvert_exporter": "python",
   "pygments_lexer": "ipython3",
   "version": "3.11.6"
  }
 },
 "nbformat": 4,
 "nbformat_minor": 5
}
