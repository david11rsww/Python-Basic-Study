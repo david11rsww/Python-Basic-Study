{
 "cells": [
  {
   "cell_type": "markdown",
   "id": "41bfeed4-6f45-4d0c-96d0-5f2333cb7a2b",
   "metadata": {},
   "source": [
    "# 定义字典"
   ]
  },
  {
   "cell_type": "markdown",
   "id": "b18538f3-b736-4def-9e7d-d008f9dcd516",
   "metadata": {},
   "source": [
    "字典是一个非序列的数据结构，但是它的元素是用“键:值”方式配对存储，在操作时是用键（key）取得值（value）的内容。  \n",
    "\n",
    "在真实的应用中，我们可以将字典数据结构当做正式的字典使用，直询键时，就可以列出相对应的值内容。"
   ]
  },
  {
   "cell_type": "markdown",
   "id": "dbd79f70-df88-474a-a053-d2e0579c0a2e",
   "metadata": {},
   "source": [
    "```python\n",
    "mydict = {键1:值1, ... ,键n:值n,}    # mydict是字典变量名称\n",
    "```"
   ]
  },
  {
   "cell_type": "markdown",
   "id": "22fc94a2-b07f-4d83-a959-ad5181cd06b2",
   "metadata": {},
   "source": [
    "# 列出字典元素的值"
   ]
  },
  {
   "cell_type": "markdown",
   "id": "aaa65350-0aab-4819-9ba1-9ae82452c9b7",
   "metadata": {},
   "source": [
    "字典的元素是\"键:值\"配对设定，如果想要取得元素的值，可以将键当做是索引，因此字典内的元素不可有重复的键。"
   ]
  },
  {
   "cell_type": "markdown",
   "id": "0058b9b1-ca9e-42c4-a008-d7bf64f5f3f2",
   "metadata": {},
   "source": [
    "```python\n",
    "fruits['水蜜桃']    # 用字典变量['键']取得值\n",
    "```"
   ]
  },
  {
   "cell_type": "markdown",
   "id": "71b95d2b-27d1-41a9-91f2-f68f4ea8c416",
   "metadata": {},
   "source": [
    "# 增加或更改字典元素"
   ]
  },
  {
   "cell_type": "markdown",
   "id": "ab9ea2a3-de12-4853-b6be-717562b72bee",
   "metadata": {},
   "source": [
    "```python\n",
    "mydict['键'] = 值     # mydict是字典变量\n",
    "```"
   ]
  },
  {
   "cell_type": "markdown",
   "id": "c930ca32-e3c7-408e-890b-219f67bf43bf",
   "metadata": {},
   "source": [
    "如果字典中 key 已经存在, 数据会覆盖, 如果 key 不存在, 则添加  (key是不能重复)"
   ]
  },
  {
   "cell_type": "markdown",
   "id": "1c1efeac-048d-4ac7-bc73-0ae79d1fed13",
   "metadata": {},
   "source": [
    "## Test01"
   ]
  },
  {
   "cell_type": "code",
   "execution_count": 1,
   "id": "e3377ebc-3008-4b2d-a283-099ba4480771",
   "metadata": {},
   "outputs": [
    {
     "name": "stdout",
     "output_type": "stream",
     "text": [
      "{'西瓜': 15, '香蕉': 20, '水蜜桃': 25} <class 'dict'>\n",
      "25\n",
      "{'西瓜': 19, '香蕉': 20, '水蜜桃': 25, '橘子': 18}\n"
     ]
    }
   ],
   "source": [
    "# 字典的定义格式 : {key1: value1, key2: value2, key3: value3, ... keyN: valueN}\n",
    "fruits = {'西瓜': 15, '香蕉': 20, '水蜜桃': 25}\n",
    "print(fruits, type(fruits))\n",
    "\n",
    "# 从字典中取值 : value = 字典名称[key]\n",
    "price = fruits['水蜜桃']\n",
    "print(price)\n",
    "\n",
    "# 添加元素到字典中 : fruits[key] = value\n",
    "# 如果字典中 key 已经存在, 数据会覆盖, 如果 key 不存在, 则添加  (key是不能重复)\n",
    "fruits['橘子'] = 18\n",
    "fruits['西瓜'] = 19\n",
    "print(fruits)"
   ]
  },
  {
   "cell_type": "markdown",
   "id": "615329c5-675d-44e8-933b-2f7a14e25af3",
   "metadata": {},
   "source": [
    "## Test02"
   ]
  },
  {
   "cell_type": "code",
   "execution_count": 2,
   "id": "2742e403-80e1-43d5-953a-96f70de8c4e5",
   "metadata": {},
   "outputs": [
    {
     "name": "stdout",
     "output_type": "stream",
     "text": [
      "士兵的坐标为: x = 100, y = 100\n",
      "士兵的坐标为: x = 105, y = 100\n"
     ]
    }
   ],
   "source": [
    "# 定义一个士兵\n",
    "soldier = {'tag': 'red', 'score': 3, 'xpos': 100, 'ypos': 100, 'speed': 'fast'}\n",
    "print(f'士兵的坐标为: x = {soldier[\"xpos\"]}, y = {soldier[\"ypos\"]}')\n",
    "\n",
    "# 判断\n",
    "if soldier['speed'] == 'slow':\n",
    "    x_move = 1\n",
    "elif soldier['speed'] == 'medium':\n",
    "    x_move = 3\n",
    "else:\n",
    "    x_move = 5\n",
    "\n",
    "# 修改\n",
    "soldier['xpos'] += x_move\n",
    "print(f'士兵的坐标为: x = {soldier[\"xpos\"]}, y = {soldier[\"ypos\"]}')"
   ]
  },
  {
   "cell_type": "markdown",
   "id": "e93ff307-ba67-46f3-b488-697a05d2259e",
   "metadata": {},
   "source": [
    "# 删除字典特定元素"
   ]
  },
  {
   "cell_type": "markdown",
   "id": "6d75a55e-d955-4ebf-9288-ff634f406ced",
   "metadata": {},
   "source": [
    "字典的pop()方法。"
   ]
  },
  {
   "cell_type": "markdown",
   "id": "67b2a992-06ff-43b8-881f-4db9d4398906",
   "metadata": {},
   "source": [
    "```python\n",
    "del mydict[键]     # 可删除特定键的元紊\n",
    "```"
   ]
  },
  {
   "cell_type": "markdown",
   "id": "3d971c7a-1518-4d64-9a94-6212b306fb53",
   "metadata": {},
   "source": [
    "# 删除字典所有元素clear()与删除字典"
   ]
  },
  {
   "cell_type": "markdown",
   "id": "486abbe1-0f5d-4daa-aea4-e1d3b4edaa1b",
   "metadata": {},
   "source": [
    "```python\n",
    "mydict.clear()\n",
    "```"
   ]
  },
  {
   "cell_type": "markdown",
   "id": "40856564-1a96-42f6-9890-0baca849c52e",
   "metadata": {},
   "source": [
    "## Test03"
   ]
  },
  {
   "cell_type": "code",
   "execution_count": 3,
   "id": "af276c36-f913-443d-97a8-c9805ba5064b",
   "metadata": {},
   "outputs": [
    {
     "name": "stdout",
     "output_type": "stream",
     "text": [
      "{'西瓜': 15, '香蕉': 20, '水蜜桃': 25, '梨': 20, '火龙果': 27, '无花果': 29}\n",
      "{'香蕉': 20, '水蜜桃': 25, '梨': 20, '火龙果': 27, '无花果': 29}\n",
      "{'香蕉': 20, '水蜜桃': 25, '梨': 20, '火龙果': 27}\n",
      "{'香蕉': 20, '水蜜桃': 25, '梨': 20, '火龙果': 27} NOT EXIST\n",
      "{'香蕉': 20, '水蜜桃': 25, '梨': 20}\n",
      "{}\n",
      "{'人参果': 100}\n"
     ]
    },
    {
     "ename": "NameError",
     "evalue": "name 'fruits' is not defined",
     "output_type": "error",
     "traceback": [
      "\u001b[0;31m---------------------------------------------------------------------------\u001b[0m",
      "\u001b[0;31mNameError\u001b[0m                                 Traceback (most recent call last)",
      "Cell \u001b[0;32mIn[3], line 30\u001b[0m\n\u001b[1;32m     28\u001b[0m \u001b[38;5;66;03m# 删除整个字典\u001b[39;00m\n\u001b[1;32m     29\u001b[0m \u001b[38;5;28;01mdel\u001b[39;00m fruits\n\u001b[0;32m---> 30\u001b[0m \u001b[38;5;28mprint\u001b[39m(\u001b[43mfruits\u001b[49m)       \u001b[38;5;66;03m# 程序会报错   NameError: name 'fruits' is not defined\u001b[39;00m\n",
      "\u001b[0;31mNameError\u001b[0m: name 'fruits' is not defined"
     ]
    }
   ],
   "source": [
    "fruits = {'西瓜': 15, '香蕉': 20, '水蜜桃': 25, '梨': 20, '火龙果': 27, '无花果': 29}\n",
    "print(fruits)\n",
    "\n",
    "# 删除元素\n",
    "del fruits['西瓜']\n",
    "print(fruits)\n",
    "\n",
    "# 使用 pop() 方法删除\n",
    "fruits.pop('无花果')\n",
    "print(fruits)\n",
    "\n",
    "# 如果删除的键值对不存在, 会发生什么?  KeyError: '人参果'\n",
    "# result = fruits.pop('人参果') # KeyError: '人参果'\n",
    "result = fruits.pop('人参果', 'NOT EXIST')   # 返回 'NOT EXIST'\n",
    "print(fruits, result)\n",
    "\n",
    "# 随机删除\n",
    "fruits.popitem()  # 不需要key，一般删除需要指定key\n",
    "print(fruits)\n",
    "\n",
    "# 清空字典, 字典本身还存在，还可以继续添加\n",
    "fruits.clear()\n",
    "print(fruits)\n",
    "\n",
    "fruits['人参果'] = 100\n",
    "print(fruits)\n",
    "\n",
    "# 删除整个字典\n",
    "del fruits\n",
    "print(fruits)       # 程序会报错   NameError: name 'fruits' is not defined"
   ]
  },
  {
   "cell_type": "markdown",
   "id": "5a29fef8-8bf6-4f0f-854b-ad22e77051df",
   "metadata": {},
   "source": [
    "# 字典的复制"
   ]
  },
  {
   "cell_type": "markdown",
   "id": "412e66dc-4f6a-4765-b810-d0a7bb8920a5",
   "metadata": {},
   "source": [
    "在大型程序开发过程中，有时为了保护原先字典内容，需要将字典复制。"
   ]
  },
  {
   "cell_type": "markdown",
   "id": "40cd080c-48da-4439-b5ca-8d3f5c511e51",
   "metadata": {},
   "source": [
    "```python\n",
    "newdict = mydict.copy()    # mydict会被复制至newdct\n",
    "```"
   ]
  },
  {
   "cell_type": "markdown",
   "id": "40bba3bd-a3bc-4070-ae95-6e99917b1116",
   "metadata": {},
   "source": [
    "# 取得字典元素数量"
   ]
  },
  {
   "cell_type": "markdown",
   "id": "804aea96-e674-40e4-bcbc-96501b000a90",
   "metadata": {},
   "source": [
    "```python\n",
    "length = len(mydict)    # 将回传mydict字典的元素数量给length\n",
    "```"
   ]
  },
  {
   "cell_type": "markdown",
   "id": "f7d4a773-2a3e-4d4c-8932-65ab72c38773",
   "metadata": {},
   "source": [
    "# 验证元素是否存在"
   ]
  },
  {
   "cell_type": "markdown",
   "id": "aee03ded-b26c-4227-a2ef-abc0f528a952",
   "metadata": {},
   "source": [
    "```python\n",
    "键 in mydict    # 可验证元素是否存在\n",
    "```"
   ]
  },
  {
   "cell_type": "markdown",
   "id": "a443d551-fac3-444e-8b3d-4799c7fa6528",
   "metadata": {},
   "source": [
    "# 字典的popitem()方法"
   ]
  },
  {
   "cell_type": "markdown",
   "id": "87220dde-d41e-4957-bf72-1d7d295eaf1c",
   "metadata": {},
   "source": [
    "该方法可以随机删除字典内的元素，同时回传所删除的元素，所回传的是元组（key, value)。"
   ]
  },
  {
   "cell_type": "markdown",
   "id": "c2ebabfd-8d5b-4901-b9ea-817e3b22c4d8",
   "metadata": {},
   "source": [
    "```python\n",
    "valueTup = dictObj.popitem()  # 可随机删除字典的元素\n",
    "```"
   ]
  },
  {
   "cell_type": "markdown",
   "id": "32503216-441d-45c6-aace-b96d53e8e84a",
   "metadata": {},
   "source": [
    "# 建立一个空字典"
   ]
  },
  {
   "cell_type": "markdown",
   "id": "fe7bcf94-ee5a-43cb-8fa7-4aa7ec48e157",
   "metadata": {},
   "source": [
    "```python\n",
    "mydict = {}   # mydict是字典名称\n",
    "```"
   ]
  },
  {
   "cell_type": "markdown",
   "id": "58861bc1-60d8-47d5-b701-b3e1c3daa9ed",
   "metadata": {},
   "source": [
    "## Test04"
   ]
  },
  {
   "cell_type": "code",
   "execution_count": 5,
   "id": "862d0e79-f82d-42cc-9a76-fd22cae7ae38",
   "metadata": {},
   "outputs": [
    {
     "name": "stdout",
     "output_type": "stream",
     "text": [
      "140717314035968, 140717314117888\n",
      "len_ = 6\n"
     ]
    },
    {
     "name": "stdin",
     "output_type": "stream",
     "text": [
      "请输入你需要购买的水果名称:  西瓜\n"
     ]
    },
    {
     "name": "stdout",
     "output_type": "stream",
     "text": [
      "西瓜 = 15\n"
     ]
    }
   ],
   "source": [
    "# 定义一个空字典\n",
    "names = {}\n",
    "\n",
    "# 字典的复制\n",
    "fruits = {'西瓜': 15, '香蕉': 20, '水蜜桃': 25, '梨': 20, '火龙果': 27, '无花果': 29}\n",
    "fruits_copy = fruits.copy()\n",
    "print(f'{id(fruits)}, {id(fruits_copy)}')\n",
    "\n",
    "# 查看字典中的键值对(元素) 数量\n",
    "len_ = len(fruits_copy)\n",
    "print(f'{len_ = }')\n",
    "\n",
    "# 验证元素是否存在\n",
    "key = input('请输入你需要购买的水果名称: ')\n",
    "if key in fruits:\n",
    "    print(f'{key} = {fruits[key]}')\n",
    "else:\n",
    "    print('抱歉, 该水果已售罄.')"
   ]
  },
  {
   "cell_type": "markdown",
   "id": "4ee77e1d-3036-4b86-a551-8a72f1b0e2c8",
   "metadata": {},
   "source": [
    "# 使用update()合并字典与使用新方法"
   ]
  },
  {
   "cell_type": "markdown",
   "id": "67f1a29e-551e-4615-af5a-296dec8a15c4",
   "metadata": {},
   "source": [
    "如果想要将2个字典合并可以使用update()方法。  \n",
    "\n",
    "在合并字典时，特别须注意的是，如果发生腱（key）相同，则第2个字典的值可以取代原先字典的值。"
   ]
  },
  {
   "cell_type": "markdown",
   "id": "51802391-7dec-41f1-a1ce-0f58cea2c986",
   "metadata": {},
   "source": [
    "## Test05"
   ]
  },
  {
   "cell_type": "code",
   "execution_count": 6,
   "id": "42a86dcf-a05b-4ef3-af7b-96a843e7c3dc",
   "metadata": {},
   "outputs": [
    {
     "name": "stdout",
     "output_type": "stream",
     "text": [
      "{1: '张三', 2: '李四', 3: '王五', 4: '赵六', 5: '西施', 6: '杨玉环', 7: '貂蝉', 8: '王昭君'}\n",
      "{1: '张三', 2: '李四', 3: '王五', 4: '赵六', 5: '西施', 6: '杨玉环', 7: '貂蝉', 8: '王昭君'}\n"
     ]
    }
   ],
   "source": [
    "class1 = {1: '张三', 2: '李四', 3: '王五', 4: '赵六'}\n",
    "class2 = {5: '西施', 6: '杨玉环', 7: '貂蝉', 8: '王昭君'}\n",
    "\n",
    "# 字典的合并\n",
    "class1.update(class2)\n",
    "print(class1)\n",
    "\n",
    "class3 = {1: '张三', 2: '李四', 3: '王五', 4: '赵六'}\n",
    "class4 = {5: '西施', 6: '杨玉环', 7: '貂蝉', 8: '王昭君'}\n",
    "# 新的合并方式 : Python 3.5 之后出现的\n",
    "new_class = {**class3, **class4}\n",
    "print(new_class)"
   ]
  },
  {
   "cell_type": "markdown",
   "id": "0a2254fe-f5c0-44e3-affb-3fc9920c72bc",
   "metadata": {},
   "source": [
    "# 将双值序列的列表转成字典"
   ]
  },
  {
   "cell_type": "markdown",
   "id": "c0a6590f-fb93-469e-be92-e25dc6a0d77d",
   "metadata": {},
   "source": [
    "## Test06"
   ]
  },
  {
   "cell_type": "code",
   "execution_count": 7,
   "id": "4e3af926-e366-40cf-a5f8-cd1104ff8e15",
   "metadata": {},
   "outputs": [
    {
     "name": "stdout",
     "output_type": "stream",
     "text": [
      "{'中国': '北京', '美国': '华盛顿', '俄罗斯': '莫斯科'}\n",
      "中国的首都: 北京\n"
     ]
    }
   ],
   "source": [
    "nations = [['中国', '北京'], ['美国', '华盛顿'], ['俄罗斯', '莫斯科']]\n",
    "# 将列表转换为字典\n",
    "nation_dict = dict(nations)\n",
    "print(nation_dict)\n",
    "\n",
    "capital = nation_dict['中国']\n",
    "print(f'中国的首都: {capital}')"
   ]
  },
  {
   "cell_type": "markdown",
   "id": "b894c477-dccb-4d15-b1ec-c092c6315259",
   "metadata": {},
   "source": [
    "# 再谈zip()"
   ]
  },
  {
   "cell_type": "markdown",
   "id": "08615c0d-89b5-4746-8e25-1ae282b085cb",
   "metadata": {},
   "source": [
    "我们也可以使用zip()快速建立字典。"
   ]
  },
  {
   "cell_type": "markdown",
   "id": "0ee0519d-a06b-4c2f-a504-4341de8720be",
   "metadata": {},
   "source": [
    "## Test07"
   ]
  },
  {
   "cell_type": "code",
   "execution_count": 8,
   "id": "af4dd613-3ce4-4838-89bd-fff5ef9201b1",
   "metadata": {},
   "outputs": [
    {
     "name": "stdout",
     "output_type": "stream",
     "text": [
      "{'a': 10, 'b': 11, 'c': 12, 'd': 13, 'e': 14, 'f': 15}\n",
      "{1: '张三', 2: '李四', 3: '王五', 4: '赵六'}\n"
     ]
    }
   ],
   "source": [
    "# 使用 zip() 函数实现字典的快速建立\n",
    "# 十六进制 : abcdef    10, 11, 12, 13, 14, 15\n",
    "hex_digit = dict(zip('abcdef', range(10, 16)))\n",
    "print(hex_digit)\n",
    "\n",
    "# 1: 张三   2: 李四   3: 王五  4: 赵六\n",
    "names = ['张三', '李四', '王五', '赵六']\n",
    "names_dict = dict(zip(range(1, 5), names))\n",
    "print(names_dict)"
   ]
  },
  {
   "cell_type": "markdown",
   "id": "ab4edcdd-b961-4db4-82ba-a9137ef89c56",
   "metadata": {},
   "source": [
    "# 遍历字典"
   ]
  },
  {
   "cell_type": "markdown",
   "id": "2d208da3-1b3d-497a-9f62-39c56337185a",
   "metadata": {},
   "source": [
    "大型程序设计中，字典用久了会产生相当多的元素，也许是几干个或几十万个或更多。"
   ]
  },
  {
   "attachments": {},
   "cell_type": "markdown",
   "id": "8297ba0f-7d2a-4186-a7cc-8dd17fd94dc2",
   "metadata": {},
   "source": [
    "![](img/dict.jpg)"
   ]
  },
  {
   "cell_type": "markdown",
   "id": "862cd225-61b6-48e5-a6b1-bdeb4b5f0410",
   "metadata": {},
   "source": [
    "|方法|说明|\n",
    "|---|---|\n",
    "|items()|遍历字典的键:值|\n",
    "|keys(）|遍历字典的键 |\n",
    "|values(）|遍历字典的值 |\n",
    "|sorted() |排序内容 |"
   ]
  },
  {
   "cell_type": "markdown",
   "id": "4ed92866-f886-4a4a-a759-f5de1c0a45b9",
   "metadata": {},
   "source": [
    "## Test08"
   ]
  },
  {
   "cell_type": "code",
   "execution_count": 9,
   "id": "71e67299-356e-4fa3-ba0e-f1292ce5d0f4",
   "metadata": {},
   "outputs": [
    {
     "name": "stdout",
     "output_type": "stream",
     "text": [
      "('Jack', 20)\n",
      "('Peter', 22)\n",
      "('Lucy', 18)\n",
      "('Rose', 19)\n",
      "('Lily', 16)\n",
      "('Tom', 22)\n",
      "('Ann', 20)\n",
      "name = 'Jack', age = 20\n",
      "name = 'Peter', age = 22\n",
      "name = 'Lucy', age = 18\n",
      "name = 'Rose', age = 19\n",
      "name = 'Lily', age = 16\n",
      "name = 'Tom', age = 22\n",
      "name = 'Ann', age = 20\n",
      "dict_keys(['Jack', 'Peter', 'Lucy', 'Rose', 'Lily', 'Tom', 'Ann']) <class 'dict_keys'>\n",
      "Jack\n",
      "Peter\n",
      "Lucy\n",
      "Rose\n",
      "Lily\n",
      "Tom\n",
      "Ann\n",
      "dict_values([20, 22, 18, 19, 16, 22, 20]) <class 'dict_values'>\n",
      "20\n",
      "22\n",
      "18\n",
      "19\n",
      "16\n",
      "22\n",
      "20\n"
     ]
    }
   ],
   "source": [
    "# 定义一个字典数据\n",
    "names = {'Jack': 20, 'Peter': 22, 'Lucy': 18, 'Rose': 19, 'Lily': 16, 'Tom': 22, 'Ann': 20}\n",
    "\n",
    "# items() 方法回传的是一个元组\n",
    "for item in names.items():\n",
    "    print(item)\n",
    "\n",
    "for name, age in names.items():\n",
    "    print(f'{name = }, {age = }')\n",
    "\n",
    "# keys() 获取所有的 key\n",
    "names_keys = names.keys()\n",
    "print(names_keys, type(names_keys)) # 并非 List，看起来像列表，外层包了一个类型dict_keys\n",
    "# print(names_keys[0], 'hahaha')  # TypeError: 'dict_keys' object is not subscriptable\n",
    "\n",
    "for key in names_keys:\n",
    "    print(key)\n",
    "\n",
    "# values() 获取所有的 value\n",
    "names_values = names.values()\n",
    "print(names_values, type(names_values))\n",
    "for age in names_values:\n",
    "    print(age)"
   ]
  },
  {
   "cell_type": "markdown",
   "id": "8d83c3cc-fb59-410a-a5b0-414228e2e44f",
   "metadata": {},
   "source": [
    "# sorted()依键排序与遍历字典"
   ]
  },
  {
   "cell_type": "markdown",
   "id": "4c20b9a5-8bca-4632-93f4-483dd7259567",
   "metadata": {},
   "source": [
    "Python的字典功能不会处理排序，如果想要遍历字典同时列出排序结果，我们可以使用方法sorted()。"
   ]
  },
  {
   "cell_type": "markdown",
   "id": "ee7bdbb8-0c21-4b14-b42d-561c6feb00d2",
   "metadata": {},
   "source": [
    "## Test09"
   ]
  },
  {
   "cell_type": "code",
   "execution_count": 10,
   "id": "4bc9f162-d30d-4b24-bb13-738b6b1fcaaa",
   "metadata": {},
   "outputs": [
    {
     "name": "stdout",
     "output_type": "stream",
     "text": [
      "Ann\n",
      "Jack\n",
      "Lily\n",
      "Lucy\n",
      "Peter\n",
      "Rose\n",
      "Tom\n",
      "16\n",
      "18\n",
      "19\n",
      "20\n",
      "20\n",
      "22\n",
      "22\n"
     ]
    }
   ],
   "source": [
    "# 定义一个字典数据\n",
    "names = {'Jack': 20, 'Peter': 22, 'Lucy': 18, 'Rose': 19, 'Lily': 16, 'Tom': 22, 'Ann': 20} # 冒号后面加一个空格，python规范\n",
    "\n",
    "# keys() 获取所有的 key\n",
    "# 所有我们希望获取的数据是排序的结果, 就可以结合使用 sorted 内置函数\n",
    "names_keys = sorted(names.keys())\n",
    "for key in names_keys:\n",
    "    print(key)\n",
    "\n",
    "\n",
    "# values() 获取所有的 value\n",
    "names_values = sorted(names.values())\n",
    "for age in names_values:\n",
    "    print(age)"
   ]
  },
  {
   "cell_type": "markdown",
   "id": "d85e3fdf-1d66-4924-87bc-a66389032270",
   "metadata": {},
   "source": [
    "# 建立字典列表"
   ]
  },
  {
   "cell_type": "markdown",
   "id": "8528f789-2a3d-4212-b3fe-2b8f3c28aebe",
   "metadata": {},
   "source": [
    "## Test10"
   ]
  },
  {
   "cell_type": "code",
   "execution_count": 11,
   "id": "4d5add3e-485e-465f-a7ab-7a314981d0ea",
   "metadata": {},
   "outputs": [
    {
     "name": "stdout",
     "output_type": "stream",
     "text": [
      "打印编号从10到20的士兵数据:\n",
      "{'tag': 'green', 'score': 5, 'speed': 'medium'}\n",
      "{'tag': 'blue', 'score': 7, 'speed': 'fast'}\n",
      "{'tag': 'red', 'score': 3, 'speed': 'slow'}\n",
      "{'tag': 'green', 'score': 5, 'speed': 'medium'}\n",
      "{'tag': 'blue', 'score': 7, 'speed': 'fast'}\n",
      "{'tag': 'red', 'score': 3, 'speed': 'slow'}\n",
      "{'tag': 'green', 'score': 5, 'speed': 'medium'}\n",
      "{'tag': 'blue', 'score': 7, 'speed': 'fast'}\n",
      "{'tag': 'red', 'score': 3, 'speed': 'slow'}\n",
      "{'tag': 'green', 'score': 5, 'speed': 'medium'}\n",
      "{'tag': 'blue', 'score': 7, 'speed': 'fast'}\n"
     ]
    }
   ],
   "source": [
    "# 建立一个士兵列表\n",
    "armys = []\n",
    "\n",
    "colors = ['red', 'green', 'blue']\n",
    "scores = [3, 5, 7]\n",
    "speeds = ['slow', 'medium', 'fast']\n",
    "\n",
    "# 建立 50 个士兵\n",
    "for soldier_number in range(50):\n",
    "    if soldier_number % 3 == 0:\n",
    "        soldier = {'tag': colors[0], 'score': scores[0], 'speed': speeds[0]}\n",
    "    elif soldier_number % 3 == 1:\n",
    "        soldier = {'tag': colors[1], 'score': scores[1], 'speed': speeds[1]}\n",
    "    else:\n",
    "        soldier = {'tag': colors[2], 'score': scores[2], 'speed': speeds[2]}\n",
    "    # 将创建的士兵添加到 armys 列表中\n",
    "    armys.append(soldier)\n",
    "\n",
    "print('打印编号从10到20的士兵数据:')\n",
    "for soldier in armys[10:21]:\n",
    "    print(f'{soldier}')"
   ]
  },
  {
   "cell_type": "markdown",
   "id": "acd0875d-2517-48ee-8389-b25e83572d2a",
   "metadata": {},
   "source": [
    "# 字典内建的值是列表"
   ]
  },
  {
   "cell_type": "markdown",
   "id": "12ad5b7d-b7db-43e8-bffd-d2aabe39f478",
   "metadata": {},
   "source": [
    "## Test11"
   ]
  },
  {
   "cell_type": "code",
   "execution_count": 12,
   "id": "e14db2cc-02af-4cea-ac14-2a6d86b4be85",
   "metadata": {},
   "outputs": [
    {
     "name": "stdout",
     "output_type": "stream",
     "text": [
      "Jack喜欢的运动是: \n",
      "健身\n",
      "游泳\n",
      "James喜欢的运动是: \n",
      "羽毛球\n",
      "足球\n",
      "乒乓球\n",
      "Lucy喜欢的运动是: \n",
      "踢毽子\n",
      "跳绳\n",
      "Rose喜欢的运动是: \n",
      "跳绳\n",
      "游泳\n",
      "跑步\n"
     ]
    }
   ],
   "source": [
    "# 字典内建的值是列表\n",
    "sports = {'Jack': ['健身', '游泳'],\n",
    "          'James': ['羽毛球', '足球', '乒乓球'],\n",
    "          'Lucy': ['踢毽子', '跳绳'],\n",
    "          'Rose': ['跳绳', '游泳', '跑步']}\n",
    "\n",
    "# 元素的遍历\n",
    "for name, hobbies in sports.items():\n",
    "    print(f'{name}喜欢的运动是: ')\n",
    "    # hobbies 是一个列表数据\n",
    "    for hobby in hobbies:\n",
    "        print(hobby)"
   ]
  },
  {
   "cell_type": "markdown",
   "id": "86459126-45bd-4fe2-9bcd-a6b6dc95b538",
   "metadata": {},
   "source": [
    "# 字典内建的值是字典"
   ]
  },
  {
   "cell_type": "markdown",
   "id": "5612d260-0a22-4334-8d27-786d3a9f5b6e",
   "metadata": {},
   "source": [
    "## Test12"
   ]
  },
  {
   "cell_type": "code",
   "execution_count": 13,
   "id": "fe82354d-709d-4596-9782-b46116202321",
   "metadata": {},
   "outputs": [
    {
     "name": "stdout",
     "output_type": "stream",
     "text": [
      "Jack的详细信息为: \n",
      "key = 'chinese_name': value = '杰克'\n",
      "key = 'city': value = '北京'\n",
      "key = 'age': value = 20\n",
      "James的详细信息为: \n",
      "key = 'chinese_name': value = '詹姆斯'\n",
      "key = 'city': value = '上海'\n",
      "key = 'age': value = 22\n",
      "Lucy的详细信息为: \n",
      "key = 'chinese_name': value = '露西'\n",
      "key = 'city': value = '广州'\n",
      "key = 'age': value = 18\n",
      "Rose的详细信息为: \n",
      "key = 'chinese_name': value = '肉丝'\n",
      "key = 'city': value = '深圳'\n",
      "key = 'age': value = 19\n"
     ]
    }
   ],
   "source": [
    "sports = {'Jack': {'chinese_name': '杰克', 'city': '北京', 'age': 20},\n",
    "          'James': {'chinese_name': '詹姆斯', 'city': '上海', 'age': 22},\n",
    "          'Lucy': {'chinese_name': '露西', 'city': '广州', 'age': 18},\n",
    "          'Rose': {'chinese_name': '肉丝', 'city': '深圳', 'age': 19},}\n",
    "\n",
    "# 遍历\n",
    "for name, infos in sports.items():\n",
    "    print(f'{name}的详细信息为: ')\n",
    "    for key, value in infos.items():\n",
    "        print(f'{key = }: {value = }')"
   ]
  },
  {
   "cell_type": "markdown",
   "id": "bb248d1a-4c4a-4a76-ae12-723b3d9632a3",
   "metadata": {},
   "source": [
    "# while循环在字典的应用"
   ]
  },
  {
   "cell_type": "markdown",
   "id": "a167151a-af97-4e86-9ffa-aa535e09310e",
   "metadata": {},
   "source": [
    "for循环往往用在循环次数是确定的情形下，而while循环往往不知道循环的次数而应用于需要使用一个哨兵值来控制循环结束的情形。"
   ]
  },
  {
   "cell_type": "markdown",
   "id": "34031d16-3333-46c8-ad6b-c9eac00423c6",
   "metadata": {},
   "source": [
    "## Test13"
   ]
  },
  {
   "cell_type": "code",
   "execution_count": 14,
   "id": "2bed1715-633e-478e-8c0e-b45528934b62",
   "metadata": {},
   "outputs": [
    {
     "name": "stdin",
     "output_type": "stream",
     "text": [
      "请输入名字:  david\n",
      "梦幻旅游景点:  五台山\n",
      "是否还有人需要进行市场调查(y/n) : n\n"
     ]
    },
    {
     "name": "stdout",
     "output_type": "stream",
     "text": [
      "david = 五台山\n"
     ]
    }
   ],
   "source": [
    "# 建立市场调查的空字典\n",
    "survey_dict = {}\n",
    "\n",
    "# 哨兵值 (初始值一般为 True)\n",
    "market_survey = True\n",
    "\n",
    "while market_survey:\n",
    "    name = input(\"请输入名字: \")\n",
    "    spot = input('梦幻旅游景点: ')\n",
    "    # 将信息存储到字典中\n",
    "    survey_dict[name] = spot\n",
    "    # 询问用户\n",
    "    repeat = input('是否还有人需要进行市场调查(y/n) :')\n",
    "    # 判断\n",
    "    if repeat.lower() == 'n':\n",
    "        market_survey = False\n",
    "\n",
    "# 查看调用的数据\n",
    "for name, spot in survey_dict.items():\n",
    "    print(f'{name} = {spot}')"
   ]
  },
  {
   "cell_type": "markdown",
   "id": "7fe33863-aeef-4c77-beaa-663b4e65684e",
   "metadata": {},
   "source": [
    "# 字典常用的函数和方法"
   ]
  },
  {
   "cell_type": "markdown",
   "id": "b689e727-3386-43b7-9950-9d38dbbfb9e9",
   "metadata": {},
   "source": [
    "* get()\n",
    "* len()\n",
    "* fromkeys()：将列表转换为字典\n",
    "* setdefault()  \n",
    "这个方法基本上与get()相同，不同之处在与get()方法不会改变字典内容，使用setdefault()方法时若搜索的键不在，会将“键:值”加入字典，如果有设定默认值则将\"键:默认值”加入字典，如果没有设定默认值则将\"键:None”加入字典。"
   ]
  },
  {
   "cell_type": "markdown",
   "id": "dba7fa11-c9df-422d-858f-6a8fd4a18242",
   "metadata": {},
   "source": [
    "## Test14"
   ]
  },
  {
   "cell_type": "code",
   "execution_count": 15,
   "id": "3c6516bb-498d-4877-8070-922f3723f785",
   "metadata": {},
   "outputs": [
    {
     "name": "stdout",
     "output_type": "stream",
     "text": [
      "{'stu_1': '张三', 'stu_2': '李四', 'stu_3': '王五', 'stu_4': '赵六', 'stu_5': '田七'}\n",
      "张三\n",
      "NOT EXIST\n",
      "5\n",
      "{'张三': None, '李四': None, '王五': None, '赵六': None, '田七': None}\n",
      "{'张三': 0, '李四': 0, '王五': 0, '赵六': 0, '田七': 0}\n",
      "{'stu_1': '张三', 'stu_2': '李四', 'stu_3': '王五', 'stu_4': '赵六', 'stu_5': '田七', 'stu_6': None}\n",
      "{'stu_1': '张三', 'stu_2': '李四', 'stu_3': '王五', 'stu_4': '赵六', 'stu_5': '田七', 'stu_6': None}\n",
      "{'stu_1': '张三', 'stu_2': '李四', 'stu_3': '王五', 'stu_4': '赵六', 'stu_5': '田七', 'stu_6': None, 'stu_7': '张麻子'}\n"
     ]
    }
   ],
   "source": [
    "stu_no = ['stu_' + str(i) for i in range(1,6)]   # 列表生成器\n",
    "names = ['张三', '李四', '王五', '赵六', '田七']\n",
    "\n",
    "stu_dict = dict(zip(stu_no, names))\n",
    "print(stu_dict)\n",
    "\n",
    "# get() 根据 key 获取对应的 value, 如果字典中不存在该 key, 则返回 none\n",
    "name = stu_dict.get('stu_1')  # 效果等同于stu_dict['stu_1']\n",
    "print(name)\n",
    "name = stu_dict.get('stu_10', 'NOT EXIST')           # 如果不存在，返回设置的默认值'NOT EXIST'\n",
    "print(name)\n",
    "\n",
    "# len() 获取字典中键值对的个数\n",
    "len_ = len(stu_dict)\n",
    "print(len_)\n",
    "\n",
    "# fromkeys() 将列表转换为字典\n",
    "list_dict1 = dict.fromkeys(names)\n",
    "print(list_dict1)\n",
    "\n",
    "list_dict2 = dict.fromkeys(names, 0)\n",
    "print(list_dict2)\n",
    "\n",
    "# setdefault(), 如果 key 存在, 则不影响数据, 如果 key 不存在, 则可以实现添加新数据\n",
    "stu_dict.setdefault('stu_6')\n",
    "print(stu_dict)\n",
    "\n",
    "stu_dict.setdefault('stu_6', '小六') # 如果stu_6已经存在了，设置为'小六'是没有效果的\n",
    "print(stu_dict)\n",
    "\n",
    "stu_dict.setdefault('stu_7', '张麻子')\n",
    "print(stu_dict)"
   ]
  },
  {
   "cell_type": "markdown",
   "id": "6827c637-6cab-49a6-81c0-832a1a226c81",
   "metadata": {},
   "source": [
    "# 制作大型字典数据"
   ]
  },
  {
   "cell_type": "markdown",
   "id": "1b6f4a1d-4d48-4c4e-b683-23a300020e6f",
   "metadata": {},
   "source": [
    "有时我们想要指定大型的字典数据结构。在设计大型程序时之须记住字典的键是不可变的。"
   ]
  },
  {
   "cell_type": "markdown",
   "id": "c7fd229c-ee59-4584-acc1-2e8b54333e1e",
   "metadata": {},
   "source": [
    "## Test15"
   ]
  },
  {
   "cell_type": "code",
   "execution_count": 16,
   "id": "e237b375-90db-4564-acca-5ceefe3388b5",
   "metadata": {},
   "outputs": [
    {
     "name": "stdout",
     "output_type": "stream",
     "text": [
      "{'beijing': ['丰台区', '东城区', '西城区', '海淀区', '朝阳区'], 'shanghai': ['青浦区', '黄浦区', '嘉定区', '徐汇区', '浦东新区'], 'guangzhou': ['番禺区', '天河区', '越秀区', '花都区', '南沙区']}\n"
     ]
    }
   ],
   "source": [
    "beijing = ['丰台区', '东城区', '西城区', '海淀区', '朝阳区']\n",
    "shanghai = ['青浦区', '黄浦区', '嘉定区', '徐汇区', '浦东新区']\n",
    "guangzhou = ['番禺区', '天河区', '越秀区', '花都区', '南沙区']\n",
    "\n",
    "china = {'beijing': beijing, 'shanghai': shanghai, 'guangzhou': guangzhou}\n",
    "\n",
    "print(china)"
   ]
  },
  {
   "cell_type": "markdown",
   "id": "7d9bf514-b738-4234-9847-19545548ebfc",
   "metadata": {},
   "source": [
    "# 传统方式分析文章的文字与次数"
   ]
  },
  {
   "cell_type": "markdown",
   "id": "4f5bfd1b-b1d2-4e8f-a04d-30cb05d898b0",
   "metadata": {},
   "source": [
    "## Test16"
   ]
  },
  {
   "cell_type": "code",
   "execution_count": 17,
   "id": "db3ff292-c4e8-49b3-af1f-e17975f38509",
   "metadata": {},
   "outputs": [
    {
     "name": "stdout",
     "output_type": "stream",
     "text": [
      "原始作文 : \n",
      "When I was small, my mother told me that apple was good for my health, \n",
      "because it contained so many vitamins. Since then, I almost eat an apple a day, \n",
      "I fall in love with apple. The apple not only tastes sweet, but also makes my skin look good, \n",
      "there is a saying that once an apple a day, keeps the doctor away. It really happens to me.\n",
      "小写作文 : \n",
      "when i was small, my mother told me that apple was good for my health, \n",
      "because it contained so many vitamins. since then, i almost eat an apple a day, \n",
      "i fall in love with apple. the apple not only tastes sweet, but also makes my skin look good, \n",
      "there is a saying that once an apple a day, keeps the doctor away. it really happens to me.\n",
      "不再有标点符号的作文 : \n",
      "when i was small my mother told me that apple was good for my health \n",
      "because it contained so many vitamins since then i almost eat an apple a day \n",
      "i fall in love with apple the apple not only tastes sweet but also makes my skin look good \n",
      "there is a saying that once an apple a day keeps the doctor away it really happens to me\n",
      "['when', 'i', 'was', 'small', 'my', 'mother', 'told', 'me', 'that', 'apple', 'was', 'good', 'for', 'my', 'health', 'because', 'it', 'contained', 'so', 'many', 'vitamins', 'since', 'then', 'i', 'almost', 'eat', 'an', 'apple', 'a', 'day', 'i', 'fall', 'in', 'love', 'with', 'apple', 'the', 'apple', 'not', 'only', 'tastes', 'sweet', 'but', 'also', 'makes', 'my', 'skin', 'look', 'good', 'there', 'is', 'a', 'saying', 'that', 'once', 'an', 'apple', 'a', 'day', 'keeps', 'the', 'doctor', 'away', 'it', 'really', 'happens', 'to', 'me']\n",
      "{'when': 1, 'i': 3, 'was': 2, 'small': 1, 'my': 3, 'mother': 1, 'told': 1, 'me': 2, 'that': 2, 'apple': 5, 'good': 2, 'for': 1, 'health': 1, 'because': 1, 'it': 2, 'contained': 1, 'so': 1, 'many': 1, 'vitamins': 1, 'since': 1, 'then': 1, 'almost': 1, 'eat': 1, 'an': 2, 'a': 3, 'day': 2, 'fall': 1, 'in': 1, 'love': 1, 'with': 1, 'the': 2, 'not': 1, 'only': 1, 'tastes': 1, 'sweet': 1, 'but': 1, 'also': 1, 'makes': 1, 'skin': 1, 'look': 1, 'there': 1, 'is': 1, 'saying': 1, 'once': 1, 'keeps': 1, 'doctor': 1, 'away': 1, 'really': 1, 'happens': 1, 'to': 1}\n"
     ]
    }
   ],
   "source": [
    "composition = '''When I was small, my mother told me that apple was good for my health, \n",
    "because it contained so many vitamins. Since then, I almost eat an apple a day, \n",
    "I fall in love with apple. The apple not only tastes sweet, but also makes my skin look good, \n",
    "there is a saying that once an apple a day, keeps the doctor away. It really happens to me.'''\n",
    "\n",
    "print('原始作文 : ')\n",
    "print(composition)\n",
    "\n",
    "# 小写作文\n",
    "composition = composition.lower()\n",
    "print('小写作文 : ')\n",
    "print(composition)\n",
    "\n",
    "# 标点符号 ',.?' => 空字符\n",
    "# 字符串是一个可迭代对象, 所以可以使用 for 循环实现迭代\n",
    "for ch in composition:\n",
    "    if ch in \".?,\":\n",
    "        # 替换\n",
    "        composition = composition.replace(ch, '')\n",
    "print('不再有标点符号的作文 : ')\n",
    "print(composition)\n",
    "\n",
    "# 实现字符串的切割, 默认就是以空格作为切割符的, 返回的是一个列表\n",
    "composition = composition.split()\n",
    "print(composition)\n",
    "\n",
    "# 定义一个空字典\n",
    "word_dict = {}\n",
    "# 统计列表中每一个元素出现的次数\n",
    "for word in composition:\n",
    "    # 判断\n",
    "    if word in word_dict:\n",
    "        # 如果条件成立, 说明该 word 已经不是第一次出现了\n",
    "        word_dict[word] += 1\n",
    "    else:\n",
    "        # 该 word 是第一次出现\n",
    "        word_dict[word] = 1\n",
    "\n",
    "# 执行结果\n",
    "print(word_dict)"
   ]
  },
  {
   "cell_type": "markdown",
   "id": "21eb2e40-55de-4b96-a714-fd16e9a76d23",
   "metadata": {},
   "source": [
    "# 字典生成器"
   ]
  },
  {
   "cell_type": "markdown",
   "id": "3978c9f6-a871-482c-a623-5dcd294af359",
   "metadata": {},
   "source": [
    "很不可思议，只需一行程序代码就能将一个单词中每个字母的出现次数列出来，坦白说这就是Python奥妙的地方。"
   ]
  },
  {
   "cell_type": "markdown",
   "id": "7ded6735-36ed-4cb3-9d9e-dd8f2a72c38f",
   "metadata": {},
   "source": [
    "```python\n",
    "新字典 = {键表达式:值表达式 for 表达式 in 可迭代对象}\n",
    "```"
   ]
  },
  {
   "cell_type": "markdown",
   "id": "41d08d1d-b502-4df1-9639-bb006e1009f2",
   "metadata": {},
   "source": [
    "## Test17"
   ]
  },
  {
   "cell_type": "code",
   "execution_count": 18,
   "id": "54114bbe-ba09-402d-bb6a-8cf669a92c29",
   "metadata": {},
   "outputs": [
    {
     "name": "stdout",
     "output_type": "stream",
     "text": [
      "{'h': 1, 'e': 1, 'l': 3, 'o': 2, ' ': 1, 'w': 1, 'r': 1, 'd': 1}\n"
     ]
    }
   ],
   "source": [
    "# 字典格式 : {key: value}\n",
    "\n",
    "word = 'hello world'\n",
    "alphabet_count = {alphabet: word.count(alphabet) for alphabet in word}\n",
    "print(alphabet_count)"
   ]
  },
  {
   "cell_type": "markdown",
   "id": "348aa4cc-ce69-4735-8199-b5752b052598",
   "metadata": {},
   "source": [
    "## Test18"
   ]
  },
  {
   "cell_type": "code",
   "execution_count": 19,
   "id": "3d90fbc4-88f8-4fb8-8cf1-e66b98fdec3a",
   "metadata": {},
   "outputs": [
    {
     "name": "stdout",
     "output_type": "stream",
     "text": [
      "原始作文 : \n",
      "When I was small, my mother told me that apple was good for my health, \n",
      "because it contained so many vitamins. Since then, I almost eat an apple a day, \n",
      "I fall in love with apple. The apple not only tastes sweet, but also makes my skin look good, \n",
      "there is a saying that once an apple a day, keeps the doctor away. It really happens to me.\n",
      "小写作文 : \n",
      "when i was small, my mother told me that apple was good for my health, \n",
      "because it contained so many vitamins. since then, i almost eat an apple a day, \n",
      "i fall in love with apple. the apple not only tastes sweet, but also makes my skin look good, \n",
      "there is a saying that once an apple a day, keeps the doctor away. it really happens to me.\n",
      "不再有标点符号的作文 : \n",
      "when i was small my mother told me that apple was good for my health \n",
      "because it contained so many vitamins since then i almost eat an apple a day \n",
      "i fall in love with apple the apple not only tastes sweet but also makes my skin look good \n",
      "there is a saying that once an apple a day keeps the doctor away it really happens to me\n",
      "['when', 'i', 'was', 'small', 'my', 'mother', 'told', 'me', 'that', 'apple', 'was', 'good', 'for', 'my', 'health', 'because', 'it', 'contained', 'so', 'many', 'vitamins', 'since', 'then', 'i', 'almost', 'eat', 'an', 'apple', 'a', 'day', 'i', 'fall', 'in', 'love', 'with', 'apple', 'the', 'apple', 'not', 'only', 'tastes', 'sweet', 'but', 'also', 'makes', 'my', 'skin', 'look', 'good', 'there', 'is', 'a', 'saying', 'that', 'once', 'an', 'apple', 'a', 'day', 'keeps', 'the', 'doctor', 'away', 'it', 'really', 'happens', 'to', 'me']\n",
      "{'when': 1, 'i': 3, 'was': 2, 'small': 1, 'my': 3, 'mother': 1, 'told': 1, 'me': 2, 'that': 2, 'apple': 5, 'good': 2, 'for': 1, 'health': 1, 'because': 1, 'it': 2, 'contained': 1, 'so': 1, 'many': 1, 'vitamins': 1, 'since': 1, 'then': 1, 'almost': 1, 'eat': 1, 'an': 2, 'a': 3, 'day': 2, 'fall': 1, 'in': 1, 'love': 1, 'with': 1, 'the': 2, 'not': 1, 'only': 1, 'tastes': 1, 'sweet': 1, 'but': 1, 'also': 1, 'makes': 1, 'skin': 1, 'look': 1, 'there': 1, 'is': 1, 'saying': 1, 'once': 1, 'keeps': 1, 'doctor': 1, 'away': 1, 'really': 1, 'happens': 1, 'to': 1}\n"
     ]
    }
   ],
   "source": [
    "composition = '''When I was small, my mother told me that apple was good for my health, \n",
    "because it contained so many vitamins. Since then, I almost eat an apple a day, \n",
    "I fall in love with apple. The apple not only tastes sweet, but also makes my skin look good, \n",
    "there is a saying that once an apple a day, keeps the doctor away. It really happens to me.'''\n",
    "\n",
    "print('原始作文 : ')\n",
    "print(composition)\n",
    "\n",
    "# 小写作文\n",
    "composition = composition.lower()\n",
    "print('小写作文 : ')\n",
    "print(composition)\n",
    "\n",
    "# 标点符号 ',.?' => 空字符\n",
    "# 字符串是一个可迭代对象, 所以可以使用 for 循环实现迭代\n",
    "for ch in composition:\n",
    "    if ch in \".?,\":\n",
    "        # 替换\n",
    "        composition = composition.replace(ch, '')\n",
    "print('不再有标点符号的作文 : ')\n",
    "print(composition)\n",
    "\n",
    "# 实现字符串的切割, 默认就是以空格作为切割符的, 返回的是一个列表\n",
    "composition = composition.split()\n",
    "print(composition)\n",
    "\n",
    "# 定义一个空字典\n",
    "word_dict = {word: composition.count(word) for word in composition}\n",
    "\n",
    "# 执行结果\n",
    "print(word_dict)"
   ]
  },
  {
   "cell_type": "markdown",
   "id": "1a071834-8e1c-4126-839f-0afb62d6bb8a",
   "metadata": {},
   "source": [
    "# 设计星座字典"
   ]
  },
  {
   "cell_type": "markdown",
   "id": "c354e384-3ca7-4fd0-83bf-47c45f961918",
   "metadata": {},
   "source": [
    "这个程序会要求输入星座，如果所输入的星座正确，则输出此星座的时间区间和本月运势。如果所输入的星座错误，则输出“星座输入错误”。"
   ]
  },
  {
   "cell_type": "markdown",
   "id": "a79270e7-bdb7-48e8-977d-bfcf715cd61f",
   "metadata": {},
   "source": [
    "## Test19"
   ]
  },
  {
   "cell_type": "code",
   "execution_count": 21,
   "id": "eb50c3bf-8503-4668-9597-040dbf0759c8",
   "metadata": {},
   "outputs": [
    {
     "name": "stdin",
     "output_type": "stream",
     "text": [
      "请输入欲查询的星座:  巨蟹座\n"
     ]
    },
    {
     "name": "stdout",
     "output_type": "stream",
     "text": [
      "巨蟹座 本月运势: 6月22日 - 7月22日, 不可松懈大意\n"
     ]
    }
   ],
   "source": [
    "season = {'水瓶座': '1月20日 - 2月18日, 须警惕小人',\n",
    "          '双鱼座': '2月19日 - 3月20日, 凌乱中找立足',\n",
    "          '白羊座': '3月21日 - 4月19日, 运势比较低迷',\n",
    "          '金牛座': '4月20日 - 5月20日, 财运较佳',\n",
    "          '双子座': '5月21日 - 6月21日, 运势好可锦上添花',\n",
    "          '巨蟹座': '6月22日 - 7月22日, 不可松懈大意',\n",
    "          '狮子座': '7月23日 - 8月22日, 会有成就感',\n",
    "          '处女座': '8月23日 - 9月22日, 会有挫折感',\n",
    "          '天秤座': '9月23日 - 10月23日, 运势给力',\n",
    "          '天蝎座': '10月24日 - 11月22日, 中规中矩',\n",
    "          '射手座': '11月23日 - 12月21日, 可羡煞众人',\n",
    "          '魔羯座': '12月22日 - 1月19日, 需保有谦虚',\n",
    "          }\n",
    "\n",
    "# 提示用户输入对应的星座\n",
    "word = input('请输入欲查询的星座: ')\n",
    "# 判断\n",
    "# if word in season.keys():\n",
    "if word in season:     # 其实背后都是拿keys比较，不会拿value去判断，value可能重复,key具有唯一性，key才是字典的核心\n",
    "    print(f'{word} 本月运势: {season[word]}')\n",
    "else:\n",
    "    print('输入的星座有误!')"
   ]
  },
  {
   "cell_type": "markdown",
   "id": "460d1b8f-33e9-4f10-9bfe-fcbbc993ce84",
   "metadata": {},
   "source": [
    "# 文件加密：凯撒密码实践"
   ]
  },
  {
   "cell_type": "markdown",
   "id": "2e6dad59-8cb1-479f-99b8-af737217c7fb",
   "metadata": {},
   "source": [
    "## Test20"
   ]
  },
  {
   "cell_type": "code",
   "execution_count": 22,
   "id": "a8b67226-e769-497e-bb10-49eb0997326f",
   "metadata": {},
   "outputs": [
    {
     "name": "stdout",
     "output_type": "stream",
     "text": [
      "{'a': 'd', 'b': 'e', 'c': 'f', 'd': 'g', 'e': 'h', 'f': 'i', 'g': 'j', 'h': 'k', 'i': 'l', 'j': 'm', 'k': 'n', 'l': 'o', 'm': 'p', 'n': 'q', 'o': 'r', 'p': 's', 'q': 't', 'r': 'u', 's': 'v', 't': 'w', 'u': 'x', 'v': 'y', 'w': 'z', 'x': 'a', 'y': 'b', 'z': 'c'}\n"
     ]
    },
    {
     "name": "stdin",
     "output_type": "stream",
     "text": [
      "请输入源字符串 :  jkhkjhk\n"
     ]
    },
    {
     "name": "stdout",
     "output_type": "stream",
     "text": [
      "mnknmkn\n"
     ]
    }
   ],
   "source": [
    "abc = 'abcdefghijklmnopqrstuvwxyz'\n",
    "\n",
    "# 凯撒密码就是替换/置换密码\n",
    "sub_text = abc[3:] + abc[:3]\n",
    "\n",
    "encryption_dict = dict(zip(abc, sub_text))\n",
    "print(encryption_dict)\n",
    "\n",
    "# 提示用户输入\n",
    "message = input('请输入源字符串 : ')\n",
    "\n",
    "# 密文列表\n",
    "cipher = []\n",
    "\n",
    "for key in message:\n",
    "    value = encryption_dict[key]\n",
    "    cipher.append(value)\n",
    "\n",
    "# 密文列表转换为字符串数据类型\n",
    "cipher_text = ''.join(cipher)\n",
    "print(cipher_text)"
   ]
  },
  {
   "cell_type": "markdown",
   "id": "6b554a18-4988-4ff1-a189-9538ec26f004",
   "metadata": {},
   "source": [
    "# 莫尔斯密码"
   ]
  },
  {
   "cell_type": "markdown",
   "id": "0bde6778-5af0-45cc-a553-e0acb3861f15",
   "metadata": {},
   "source": [
    "莫尔斯密码是美国人艾尔非德．维尔（Alfredvail，1807一1859）与布里斯。莫尔斯(BreeseMorse,1791一1872）在1836年发明的，这是一种时通时断的信号代码，可以使用无线电信号传递，通过不同的排列组合表达不同的英文字母，数字和标点符号。  \n",
    "\n",
    "莫尔斯密码由一个点和一横组成，其中点是一个单位，横是三个单位。\n",
    "\n",
    "其实也可以称此为一种密码处理方式，下列是英文字母和阿拉伯数字的莫尔斯密码表。  "
   ]
  },
  {
   "cell_type": "markdown",
   "id": "0b549c92-ee99-4bf8-9c57-6ca187c6176a",
   "metadata": {},
   "source": [
    "![](img/ms.jpg)"
   ]
  },
  {
   "cell_type": "markdown",
   "id": "9d2ecd5b-9a53-4193-88bd-754065db63db",
   "metadata": {},
   "source": [
    "## Test21"
   ]
  },
  {
   "cell_type": "code",
   "execution_count": 23,
   "id": "f2f7347b-0685-4172-9d61-5a4ba9fef80b",
   "metadata": {},
   "outputs": [
    {
     "name": "stdin",
     "output_type": "stream",
     "text": [
      "请输入大写英文字符:  GOOD\n"
     ]
    },
    {
     "name": "stdout",
     "output_type": "stream",
     "text": [
      "--.\n",
      "---\n",
      "---\n",
      "-..\n"
     ]
    }
   ],
   "source": [
    "morse_code = {'A': '.-', 'B': '-...', 'C': '-.-.', 'D': '-..', 'E': '.',\n",
    "              'F': '..-.', 'G': '--.', 'H': '....', 'I': '..', 'J': '.---',\n",
    "              'K': '-.-', 'L': '.-..', 'M': '--', 'N': '-.', 'O': '---',\n",
    "              'P': '.--.', 'Q': '--.-', 'R': '.-.', 'S': '...', 'T': '-',\n",
    "              'U': '..-', 'V': '...-', 'W': '.--', 'X': '-..-', 'Y': '-.--',\n",
    "              'Z': '--..'}\n",
    "\n",
    "message = input('请输入大写英文字符: ')\n",
    "# 映射\n",
    "for letter in message:\n",
    "    cipher = morse_code[letter]\n",
    "    print(cipher)"
   ]
  },
  {
   "cell_type": "code",
   "execution_count": null,
   "id": "962b3371-4e10-47a4-901f-bf2549e6fcb7",
   "metadata": {},
   "outputs": [],
   "source": []
  }
 ],
 "metadata": {
  "kernelspec": {
   "display_name": "Python [conda env:base] *",
   "language": "python",
   "name": "conda-base-py"
  },
  "language_info": {
   "codemirror_mode": {
    "name": "ipython",
    "version": 3
   },
   "file_extension": ".py",
   "mimetype": "text/x-python",
   "name": "python",
   "nbconvert_exporter": "python",
   "pygments_lexer": "ipython3",
   "version": "3.11.6"
  }
 },
 "nbformat": 4,
 "nbformat_minor": 5
}
