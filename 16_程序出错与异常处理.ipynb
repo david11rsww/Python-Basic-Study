{
 "cells": [
  {
   "cell_type": "markdown",
   "id": "b887d8f5-c381-479b-9f7f-47a96e18a57f",
   "metadata": {},
   "source": [
    "# 程序除错的典故"
   ]
  },
  {
   "cell_type": "markdown",
   "id": "815db5f6-63c0-440b-88c5-6a3192c68db0",
   "metadata": {},
   "source": [
    "通常我们⼜将程序除错称 Debug，De是除去的意思，bug 是指⼩⾍，其实这是有典故的。  \n",
    "1944年IBM和哈佛⼤学联合开发了Mark I计算机，此计算机重5吨，有8英尺⾼，51英尺⻓，内部线路总⻓是500英⾥，连续使⽤了15年。  \n",
    "在当时有⼀位⼥性程序设计师 Grace Hopper，发现了第⼀个计算机⾍ (bug)，⼀只死蛾(moth)的双翅卡在继电器(relay)，促使数据读取失败。  \n",
    "\n",
    "当时 Grace Hopper 写了下列两句话：  \n",
    "Relay #70 Panel F(moth) in relay.  \n",
    "First actual case of bug being found.  \n",
    "\n",
    "⼤意是编号70的继电器出现问题(因为蛾)，这是真实计算机上所发现的第⼀只蛾，⾃此，计算机界开始⽤ debug 描述 “找出及删除程序错误”。 "
   ]
  },
  {
   "cell_type": "markdown",
   "id": "54dcb859-e1b5-40d4-80ad-dca78e5dfb36",
   "metadata": {},
   "source": [
    "# 异常处理"
   ]
  },
  {
   "cell_type": "markdown",
   "id": "a0f53ad9-f3ad-452b-9427-145583eb3964",
   "metadata": {},
   "source": [
    "有时也可以将程序错误 (error) 称作程序异常 (exception)  \n",
    "相信每⼀位写程序的⼈⼀定会常常碰上程序错误，过去碰上这类情况程序将终⽌执⾏，同时出现错误信息，错误信息内容通常是显示Traceback，然后列出异常报告。  \n",
    "\n",
    "Python可以让我们捕捉异常和撰写异常处理程序，当异常被捕捉时会去执⾏异常处理程序，然后程序可以继续执⾏。 "
   ]
  },
  {
   "cell_type": "markdown",
   "id": "9aded0cd-8b8c-464c-9619-71522875d7d1",
   "metadata": {},
   "source": [
    "## ⼀个除数为 0 的错误"
   ]
  },
  {
   "cell_type": "markdown",
   "id": "8f5f0178-5ddf-487f-b246-86d86d0920f6",
   "metadata": {},
   "source": [
    "### Test01"
   ]
  },
  {
   "cell_type": "code",
   "execution_count": 1,
   "id": "0de326be-7ddc-46cd-b6b9-126cd4db8f3f",
   "metadata": {},
   "outputs": [
    {
     "name": "stdout",
     "output_type": "stream",
     "text": [
      "5.0\n"
     ]
    },
    {
     "ename": "ZeroDivisionError",
     "evalue": "division by zero",
     "output_type": "error",
     "traceback": [
      "\u001b[0;31m---------------------------------------------------------------------------\u001b[0m",
      "\u001b[0;31mZeroDivisionError\u001b[0m                         Traceback (most recent call last)",
      "Cell \u001b[0;32mIn[1], line 7\u001b[0m\n\u001b[1;32m      5\u001b[0m \u001b[38;5;28mprint\u001b[39m(division(\u001b[38;5;241m10\u001b[39m, \u001b[38;5;241m2\u001b[39m))\n\u001b[1;32m      6\u001b[0m \u001b[38;5;66;03m# ZeroDivisionError: division by zero 除零错误, 程序会提前终止, 后续代码没有办法继续执行\u001b[39;00m\n\u001b[0;32m----> 7\u001b[0m \u001b[38;5;28mprint\u001b[39m(\u001b[43mdivision\u001b[49m\u001b[43m(\u001b[49m\u001b[38;5;241;43m10\u001b[39;49m\u001b[43m,\u001b[49m\u001b[43m \u001b[49m\u001b[38;5;241;43m0\u001b[39;49m\u001b[43m)\u001b[49m)\n\u001b[1;32m      8\u001b[0m \u001b[38;5;28mprint\u001b[39m(division(\u001b[38;5;241m10\u001b[39m, \u001b[38;5;241m5\u001b[39m))\n",
      "Cell \u001b[0;32mIn[1], line 2\u001b[0m, in \u001b[0;36mdivision\u001b[0;34m(x, y)\u001b[0m\n\u001b[1;32m      1\u001b[0m \u001b[38;5;28;01mdef\u001b[39;00m\u001b[38;5;250m \u001b[39m\u001b[38;5;21mdivision\u001b[39m(x, y):\n\u001b[0;32m----> 2\u001b[0m     \u001b[38;5;28;01mreturn\u001b[39;00m \u001b[43mx\u001b[49m\u001b[43m \u001b[49m\u001b[38;5;241;43m/\u001b[39;49m\u001b[43m \u001b[49m\u001b[43my\u001b[49m\n",
      "\u001b[0;31mZeroDivisionError\u001b[0m: division by zero"
     ]
    }
   ],
   "source": [
    "def division(x, y):\n",
    "    return x / y\n",
    "\n",
    "\n",
    "print(division(10, 2))\n",
    "# ZeroDivisionError: division by zero 除零错误, 程序会提前终止, 后续代码没有办法继续执行\n",
    "print(division(10, 0))\n",
    "print(division(10, 5))"
   ]
  },
  {
   "cell_type": "markdown",
   "id": "f3ab6f50-a97e-442d-a742-157e79923dfb",
   "metadata": {},
   "source": [
    "## 撰写异常处理程序 try - except - else - finally"
   ]
  },
  {
   "cell_type": "markdown",
   "id": "43c878e9-a9e3-4374-90c8-e080f39d2085",
   "metadata": {},
   "source": [
    "Python 的关键词 finally 功能是和 try 配合使⽤, 在try 之后可以有 except 或 else，这个 finally 关键词必须放在 except 和 else 之后，同时不论是否有异常发⽣⼀定会执⾏这个 finally 内的程序代码。"
   ]
  },
  {
   "cell_type": "markdown",
   "id": "7eaa9aa4-6522-43b3-84ed-886bb3ea9f77",
   "metadata": {},
   "source": [
    "### Test02"
   ]
  },
  {
   "cell_type": "code",
   "execution_count": 2,
   "id": "df1350ea-8505-4c98-8305-155511d75ffc",
   "metadata": {},
   "outputs": [
    {
     "name": "stdout",
     "output_type": "stream",
     "text": [
      "5.0\n",
      "除 0 错误 ...\n",
      "除数不能为零\n",
      "2.0\n",
      "哈哈哈...\n",
      "呵呵呵...\n"
     ]
    }
   ],
   "source": [
    "# 异常和错误的特性 : 让程序提前终⽌了, 如果不处理, 后续代码是没有办法继续执⾏的\n",
    "# ZeroDivisionError 除 0 错误\n",
    "# TypeError: 类型错误\n",
    "def division(x, y):\n",
    "    # 判断\n",
    "    try:\n",
    "        # try 语句块中的代码是可能会发生异常的代码\n",
    "        r = x / y\n",
    "        # r2 = 10 / 0 # 如何这⾥错误了, 下⼀条的 return 语句还有机会吗?\n",
    "        return r\n",
    "    # except: # 捕获所有的错误和异常\n",
    "    except ZeroDivisionError:\n",
    "        print('除 0 错误 ...')\n",
    "        # except 语句块中的代码是处理异常的代码\n",
    "        return '除数不能为零'\n",
    "    except TypeError:\n",
    "        print('类型错误 ...')\n",
    "        # 函数没有返回值, 默认返回的就是 None\n",
    "\n",
    "\n",
    "print(division(10, 2))\n",
    "# ZeroDivisionError: division by zero 除零错误, 程序会提前终止, 后续代码没有办法继续执行\n",
    "print(division(10, 0))\n",
    "print(division(10, 5))\n",
    "# print(division(10, '5'))\n",
    "\n",
    "\n",
    "# 没有发生的异常, 程序会继续执行\n",
    "print('哈哈哈...')\n",
    "print('呵呵呵...')"
   ]
  },
  {
   "cell_type": "markdown",
   "id": "15676a50-7757-49c3-82ef-71b7d19a1bfe",
   "metadata": {},
   "source": [
    "### Test03"
   ]
  },
  {
   "cell_type": "code",
   "execution_count": 3,
   "id": "d797188e-9df5-4976-b9bf-a6640e861f8b",
   "metadata": {},
   "outputs": [
    {
     "name": "stdout",
     "output_type": "stream",
     "text": [
      "5.0\n",
      "除数不能为零\n",
      "除数必须是数字\n",
      "哈哈哈...\n",
      "呵呵呵...\n"
     ]
    }
   ],
   "source": [
    "def division(x, y):\n",
    "    # 判断\n",
    "    try:\n",
    "        # try 语句块中的代码是可能会发生异常的代码\n",
    "        r = x / y\n",
    "        return r\n",
    "    except ZeroDivisionError:\n",
    "        # except 语句块中的代码是处理异常的代码\n",
    "        return '除数不能为零'\n",
    "    except TypeError:\n",
    "        # except 语句块中的代码是处理异常的代码\n",
    "        return '除数必须是数字'\n",
    "\n",
    "\n",
    "print(division(10, 2))\n",
    "# ZeroDivisionError: division by zero 除零错误, 程序会提前终止, 后续代码没有办法继续执行\n",
    "print(division(10, 0))\n",
    "print(division(10, '5'))        #  int / str\n",
    "\n",
    "# 没有发生的异常, 程序会继续执行\n",
    "print('哈哈哈...')\n",
    "print('呵呵呵...')"
   ]
  },
  {
   "cell_type": "markdown",
   "id": "acdd825b-06a7-4ac0-bc17-0296523e9e00",
   "metadata": {},
   "source": [
    "### Test04"
   ]
  },
  {
   "cell_type": "code",
   "execution_count": 4,
   "id": "f2d0b04d-66f4-4495-bc35-ec2f095e71a3",
   "metadata": {},
   "outputs": [
    {
     "name": "stdout",
     "output_type": "stream",
     "text": [
      "5.0\n",
      "异常信息: division by zero\n",
      "除数不能为零\n",
      "unsupported operand type(s) for /: 'int' and 'str'\n",
      "除数必须是数字\n",
      "哈哈哈...\n",
      "呵呵呵...\n"
     ]
    }
   ],
   "source": [
    "def division(x, y):\n",
    "    # 判断\n",
    "    try:\n",
    "        # try 语句块中的代码是可能会发生异常的代码\n",
    "        r = x / y\n",
    "        return r\n",
    "    except ZeroDivisionError as e:      # e 是异常对象\n",
    "        print('异常信息:', e)\n",
    "        # except 语句块中的代码是处理异常的代码\n",
    "        return '除数不能为零'\n",
    "    except TypeError as e:\n",
    "        print(e)\n",
    "        # except 语句块中的代码是处理异常的代码\n",
    "        return '除数必须是数字'\n",
    "\n",
    "\n",
    "print(division(10, 2))\n",
    "# ZeroDivisionError: division by zero 除零错误, 程序会提前终止, 后续代码没有办法继续执行\n",
    "print(division(10, 0))\n",
    "print(division(10, '5'))        #  int / str\n",
    "\n",
    "# 没有发生的异常, 程序会继续执行\n",
    "print('哈哈哈...')\n",
    "print('呵呵呵...')"
   ]
  },
  {
   "cell_type": "markdown",
   "id": "b4fb1a51-05e8-4694-828a-ecaf706c8b6f",
   "metadata": {},
   "source": [
    "### Test05"
   ]
  },
  {
   "cell_type": "code",
   "execution_count": 5,
   "id": "e79a9335-2d59-446d-ba4e-62d918a98ac4",
   "metadata": {},
   "outputs": [
    {
     "name": "stdout",
     "output_type": "stream",
     "text": [
      "5.0\n"
     ]
    }
   ],
   "source": [
    "def division(x, y):\n",
    "    # 判断\n",
    "    try:\n",
    "        # try 语句块中的代码是可能会发生异常的代码\n",
    "        r = x / y\n",
    "    except ZeroDivisionError as e:\n",
    "        return '除数不能为零'\n",
    "    except TypeError as e:\n",
    "        return '除数必须是数字'\n",
    "    else:\n",
    "        # try 语句块中的代码执行完毕后, 没有发生异常, 执行 else 语句块中的代码\n",
    "        return r\n",
    "\n",
    "\n",
    "print(division(10, 2))"
   ]
  },
  {
   "cell_type": "markdown",
   "id": "8a5aaafc-5c40-4026-ad99-3f0e9f97c7bb",
   "metadata": {},
   "source": [
    "### Test06"
   ]
  },
  {
   "cell_type": "code",
   "execution_count": 6,
   "id": "90716b88-a3ec-463d-98d5-978be45d900b",
   "metadata": {},
   "outputs": [
    {
     "name": "stdout",
     "output_type": "stream",
     "text": [
      "统一处理异常...\n",
      "发生了异常!!!\n",
      "统一处理异常...\n",
      "发生了异常!!!\n",
      "5.0\n"
     ]
    }
   ],
   "source": [
    "def division(x, y):\n",
    "    # 判断\n",
    "    try:\n",
    "        # try 语句块中的代码是可能会发生异常的代码\n",
    "        r = x / y\n",
    "    except (ZeroDivisionError, TypeError):\n",
    "        print('统一处理异常...')\n",
    "        return '发生了异常!!!'\n",
    "    else:\n",
    "        # try 语句块中的代码执行完毕后, 没有发生异常, 执行 else 语句块中的代码\n",
    "        return r\n",
    "\n",
    "\n",
    "print(division(10, 0))\n",
    "print(division(10, '2'))\n",
    "print(division(10, 2))"
   ]
  },
  {
   "cell_type": "markdown",
   "id": "9c380ebc-baef-45ea-9392-a90467eeee79",
   "metadata": {},
   "source": [
    "### Test07"
   ]
  },
  {
   "cell_type": "code",
   "execution_count": 7,
   "id": "2c38ee1f-442d-4fb0-9b6c-bcfb58060207",
   "metadata": {},
   "outputs": [
    {
     "name": "stdout",
     "output_type": "stream",
     "text": [
      "division by zero\n",
      "统一处理异常...\n",
      "发生了异常!!!\n",
      "unsupported operand type(s) for /: 'int' and 'str'\n",
      "统一处理异常...\n",
      "发生了异常!!!\n",
      "5.0\n"
     ]
    }
   ],
   "source": [
    "def division(x, y):\n",
    "    # 判断\n",
    "    try:\n",
    "        # try 语句块中的代码是可能会发生异常的代码\n",
    "        r = x / y\n",
    "    # 父类的引用可以指向子类对象\n",
    "    except BaseException as e:\n",
    "        print(e)\n",
    "        print('统一处理异常...')\n",
    "        return '发生了异常!!!'\n",
    "    else:\n",
    "        # try 语句块中的代码执行完毕后, 没有发生异常, 执行 else 语句块中的代码\n",
    "        return r\n",
    "\n",
    "\n",
    "print(division(10, 0))\n",
    "print(division(10, '2'))\n",
    "print(division(10, 2))"
   ]
  },
  {
   "cell_type": "markdown",
   "id": "356da766-da1a-4f1e-9e63-c8cda841a480",
   "metadata": {},
   "source": [
    "### Test08"
   ]
  },
  {
   "cell_type": "code",
   "execution_count": 8,
   "id": "cbd24839-0932-4a76-87f3-79fc464d453f",
   "metadata": {},
   "outputs": [
    {
     "name": "stdout",
     "output_type": "stream",
     "text": [
      "division by zero\n",
      "除数不能为0!!!\n",
      "除数不能为0!!!\n",
      "unsupported operand type(s) for /: 'int' and 'str'\n",
      "除数必须是数字!!!\n",
      "除数必须是数字!!!\n",
      "5.0\n"
     ]
    }
   ],
   "source": [
    "def division(x, y):\n",
    "    # 判断\n",
    "    try:\n",
    "        # try 语句块中的代码是可能会发生异常的代码\n",
    "        r = x / y\n",
    "        # 具体的子类异常类型\n",
    "    except ZeroDivisionError as e:\n",
    "        print(e)\n",
    "        print('除数不能为0!!!')\n",
    "        return '除数不能为0!!!'\n",
    "    except TypeError as e:\n",
    "        print(e)\n",
    "        print('除数必须是数字!!!')\n",
    "        return '除数必须是数字!!!'\n",
    "    # 父类的引用可以指向子类对象 (父类异常一定要写在最后面, 兜底处理)\n",
    "    except BaseException as e:\n",
    "        print(e)\n",
    "        print('统一处理异常...')\n",
    "        return '发生了异常!!!'\n",
    "    else:\n",
    "        # try 语句块中的代码执行完毕后, 没有发生异常, 执行 else 语句块中的代码\n",
    "        return r\n",
    "\n",
    "\n",
    "print(division(10, 0))\n",
    "print(division(10, '2'))\n",
    "print(division(10, 2))"
   ]
  },
  {
   "cell_type": "markdown",
   "id": "7ef0f276-bf58-4f3c-aa5c-25720941f095",
   "metadata": {},
   "source": [
    "### Test09"
   ]
  },
  {
   "cell_type": "code",
   "execution_count": 9,
   "id": "eaa2a347-3830-41c1-992e-0b37b65e4466",
   "metadata": {},
   "outputs": [
    {
     "name": "stdout",
     "output_type": "stream",
     "text": [
      "division by zero\n",
      "finally...\n",
      "除数不能为0!!!\n",
      "unsupported operand type(s) for /: 'int' and 'str'\n",
      "finally...\n",
      "除数必须是数字!!!\n",
      "finally...\n",
      "5.0\n"
     ]
    }
   ],
   "source": [
    "def division(x, y):\n",
    "    # 判断\n",
    "    try:\n",
    "        # try 语句块中的代码是可能会发生异常的代码\n",
    "        r = x / y\n",
    "        # 具体的子类异常类型\n",
    "    except ZeroDivisionError as e:\n",
    "        print(e)\n",
    "        return '除数不能为0!!!'\n",
    "    except TypeError as e:\n",
    "        print(e)\n",
    "        return '除数必须是数字!!!'\n",
    "    # 父类的引用可以指向子类对象 (父类异常一定要写在最后面, 兜底处理)\n",
    "    except BaseException as e:\n",
    "        print(e)\n",
    "        return '发生了异常!!!'\n",
    "    else:\n",
    "        # try 语句块中的代码执行完毕后, 没有发生异常, 执行 else 语句块中的代码\n",
    "        return r\n",
    "    finally:  # 作用：释放资源（线程，数据库）\n",
    "        # try 语句块中的代码执行完毕后, 不管有没有发生异常, 都会执行 finally 语句块中的代码\n",
    "        # finally 语句块会在 else 语句块之前执行, 也会在 return 关键字之前被执行\n",
    "        print('finally...')\n",
    "\n",
    "\n",
    "print(division(10, 0))\n",
    "print(division(10, '2'))\n",
    "print(division(10, 2))"
   ]
  },
  {
   "cell_type": "markdown",
   "id": "31402240-cefd-4664-aa46-201cf0fd3333",
   "metadata": {},
   "source": [
    "## ⾃定义异常与丢出异常"
   ]
  },
  {
   "cell_type": "markdown",
   "id": "00f160da-3bcc-4b59-8544-a53fdfd32c5d",
   "metadata": {},
   "source": [
    "前⾯介绍的异常皆是Python直译器发现异常时，⾃⾏丢出异常对象，如果我们不处理程序就终⽌执⾏，如果我们使⽤ try-except 处理程序可以在异常中继续执⾏。   \n",
    "\n",
    "我们⾃⼰将它定义为异常然后丢出异常信息，程序停⽌正常往下执⾏，同时让程序跳到⾃⼰设计的except 去执⾏。 "
   ]
  },
  {
   "cell_type": "markdown",
   "id": "a06a99a9-2c5c-4f20-a333-3e2343480d0e",
   "metadata": {},
   "source": [
    "### Test10"
   ]
  },
  {
   "cell_type": "code",
   "execution_count": 10,
   "id": "6871bc65-5b80-4373-b474-b5f639a4bec0",
   "metadata": {},
   "outputs": [
    {
     "name": "stdin",
     "output_type": "stream",
     "text": [
      "亲, 请输入您的年龄:  23\n"
     ]
    },
    {
     "name": "stdout",
     "output_type": "stream",
     "text": [
      "成年了, 恭喜您呀!\n",
      "程序继续执行...\n"
     ]
    }
   ],
   "source": [
    "# 自定义一个 AgeException 异常类\n",
    "class AgeException(BaseException):  # Exception 等于 BaseException\n",
    "    # 构造方法 / 初始化方法\n",
    "    def __init__(self, msg):\n",
    "        # self.message = message\n",
    "        super().__init__(msg)       # 父类本身就有异常信息\n",
    "\n",
    "\n",
    "'''\n",
    "class Person(object):\n",
    "    def __init__(self, name):\n",
    "        self.name = name\n",
    "        \n",
    "\n",
    "class Student(Person):\n",
    "    def __init__(self, name):\n",
    "        super().__init__(name)\n",
    "'''\n",
    "\n",
    "# 自定义函数\n",
    "def check_age(age):\n",
    "    if age < 18:\n",
    "        # 未成年, 抛出异常\n",
    "        raise AgeException('您未成年, 无法购买烟酒, 不能去98 !!!')  # 抛出异常\n",
    "    else:\n",
    "        print('成年了, 恭喜您呀!')\n",
    "\n",
    "\n",
    "\n",
    "# if __name__ == '__main__':\n",
    "#     age = int(input('亲, 请输入您的年龄: '))\n",
    "#     check_age(age)\n",
    "        \n",
    "if __name__ == '__main__':\n",
    "    # 捕获异常\n",
    "    try:\n",
    "        age = int(input('亲, 请输入您的年龄: '))\n",
    "        check_age(age)\n",
    "    except AgeException as e:\n",
    "        print(e)\n",
    "    # 统一处理\n",
    "    except BaseException as e:\n",
    "        print('统一处理异常...')\n",
    "\n",
    "    print('程序继续执行...')\n",
    "\n",
    "# print(\"main 函数的后续代码 ...\")"
   ]
  },
  {
   "cell_type": "code",
   "execution_count": null,
   "id": "e08c6cd3-17f2-4acd-ae23-6dadb361c67e",
   "metadata": {},
   "outputs": [],
   "source": []
  }
 ],
 "metadata": {
  "kernelspec": {
   "display_name": "Python [conda env:base] *",
   "language": "python",
   "name": "conda-base-py"
  },
  "language_info": {
   "codemirror_mode": {
    "name": "ipython",
    "version": 3
   },
   "file_extension": ".py",
   "mimetype": "text/x-python",
   "name": "python",
   "nbconvert_exporter": "python",
   "pygments_lexer": "ipython3",
   "version": "3.11.6"
  }
 },
 "nbformat": 4,
 "nbformat_minor": 5
}
