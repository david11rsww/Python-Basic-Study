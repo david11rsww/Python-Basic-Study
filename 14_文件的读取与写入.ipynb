{
 "cells": [
  {
   "cell_type": "markdown",
   "id": "34901219-c0a4-417e-96d1-25381a1e1424",
   "metadata": {},
   "source": [
    "# 绝对路径与相对路径"
   ]
  },
  {
   "cell_type": "markdown",
   "id": "fb7c3629-541f-459f-b616-cafc10fe8081",
   "metadata": {},
   "source": [
    "1. 绝对路径： 路径从根⽬录开始表达。\n",
    "2. 相对路径： 相当于当前⼯作⽬录的路径。\n",
    "\n",
    "另外，在操作系统处理⽂件夹的概念中会使⽤2个特殊符号 `.`(当前⽂件夹) 和 `..`(上⼀层⽂件夹)，但是在使⽤上，当指当前⽂件夹时也可以省略 `.\\`"
   ]
  },
  {
   "cell_type": "markdown",
   "id": "413700a1-efbe-4516-a106-6e64b5795e51",
   "metadata": {},
   "source": [
    "## 操作说明"
   ]
  },
  {
   "cell_type": "markdown",
   "id": "4df577fd-f141-4dcc-9a75-13f75389e8bd",
   "metadata": {},
   "source": [
    "读取⽂件  \n",
    "\n",
    "Python 处理读取或写⼊⽂件⾸先需将⽂件打开，然后可以⼀次读取所有⽂件内容或是⼀⾏⼀⾏读取⽂件内容。  \n",
    "\n",
    "Python 可以使⽤ open() 函数打开⽂件，⽂件打开后会回传⽂件对象，未来可⽤读取此⽂件对象⽅法读取⽂件内容。"
   ]
  },
  {
   "cell_type": "markdown",
   "id": "479c825e-f4fd-428e-a161-aba349833cac",
   "metadata": {},
   "source": [
    "![](img/file.jpg)"
   ]
  },
  {
   "cell_type": "markdown",
   "id": "7efc661d-a953-4a1e-8a3d-11855b9d81d6",
   "metadata": {},
   "source": [
    "常⽤的⽂件打开模式  \n",
    "\n",
    "|打开模式  |描述 |\n",
    "|:---:|:---|\n",
    "|r |以只读模式打开文件，文件的指针将会放在文件的开头 |\n",
    "| w| 以只写模式打开文件，如果文件不存在则创建，如果文件存在，则覆盖原有内容，文件指针在文件的开头 | \n",
    "| a |以追加模式打开文件，如果文件不存在则创建，文件指针在文件开头，如果文件存在，剡在文件末尾追加内容，文件指针在原文件末尾 |\n",
    "|b  |以二进制方式打开文件，不能单独使用，需要与共它模式一起使用，rb，或者wb |\n",
    "| + |以读写方式打开文件，不能单独使用，需要与其它模式一起使用，a+ |"
   ]
  },
  {
   "cell_type": "markdown",
   "id": "47759a83-0072-427c-84fe-e994def663fe",
   "metadata": {},
   "source": [
    "⽂件的类型：按⽂件中数据的组织形式，⽂件分为以下两⼤类。  \n",
    "\n",
    "1. ⽂本⽂件: 存储的是普通字符⽂件，默认为 unicode字符集, 可以使⽤记事本程序打开。\n",
    "2. ⼆进制⽂件: 把数据内容⽤ *字节* 进⾏存储，⽆法⽤记事本打开，必须使⽤专⻔的软件打开。\n",
    "  \n",
    "举例: mp3⾳频⽂件，jpg图⽚，doc⽂档等。  \n",
    "\n",
    "关闭⽂件：在打开⽂件后，如果不再使⽤该⽂件，则应该将其关闭，会⽤到 `close()` ⽅法。"
   ]
  },
  {
   "cell_type": "markdown",
   "id": "345e5916-56b6-4ef3-9501-61f09cdd0eee",
   "metadata": {},
   "source": [
    "![](img/flow.jpg)"
   ]
  },
  {
   "cell_type": "markdown",
   "id": "edb06e36-3c72-433e-bac2-d4b588a2f305",
   "metadata": {},
   "source": [
    "# ⽂件对象的读写操作"
   ]
  },
  {
   "cell_type": "markdown",
   "id": "857b8f49-ad97-45b8-836c-9894e9eded6a",
   "metadata": {},
   "source": [
    "## 写⼊数据到⽂件中"
   ]
  },
  {
   "cell_type": "markdown",
   "id": "bdd814b9-0586-4a2d-aafe-02266bab6042",
   "metadata": {},
   "source": [
    "### Test01"
   ]
  },
  {
   "cell_type": "code",
   "execution_count": 1,
   "id": "5be0218a-4c95-46db-bbd8-06cdd49218cc",
   "metadata": {},
   "outputs": [],
   "source": [
    "# 内置函数\n",
    "# open(file, mode='r', buffering=None, encoding=None, errors=None, newline=None, closefd=True):\n",
    "# file 就是指定磁盘上的文件路径\n",
    "# mode 模式, 默认值是 r (read text) 读取文本文件. mode='rt'，默认r=rt，t也是默认的     b (binary mode) 字节数据\n",
    "# buffering 内存缓冲区  4096 (4kb) or 8192 (8kb)  默认缓冲大小, 我们不需要设置\n",
    "# encoding 编码表, 通用编码表 utf-8, 其他编码表: gbk, gb2312 ...\n",
    "# newline 换行\n",
    "\n",
    "# file='file1.txt' 相对路径, 默认就是项目的路径\n",
    "# open('file1.txt', 'wt', encoding='utf-8')  # 偷懒简略写法，第三个参数默认是buffering\n",
    "\n",
    "# 定义一个文件对象 (file)\n",
    "f = open(file='prg_files/file1.txt', mode='wt', encoding='utf-8')  # open，虚拟内存；utf-8编码1个汉字占用3个字节\n",
    "\n",
    "# 写⼊数据 write() ⽅法不会⾃动换⾏\n",
    "f.write('你好\\n')     # \\n 在 utf-8 中占用两个字节，实现手动换行\n",
    "f.write('我好\\n')\n",
    "f.write('大家好\\n')  # 一共27个字节\n",
    "f.write('abc\\n') # abc ⼀个英⽂字⺟是⼀个字节 27 + 3 + 2 = 32\n",
    "\n",
    "\n",
    "# 关闭文件\n",
    "f.close()"
   ]
  },
  {
   "cell_type": "markdown",
   "id": "44d31eb0-6900-4a4d-8069-6d4cadcadb08",
   "metadata": {},
   "source": [
    "## 从⽂件中读取数据"
   ]
  },
  {
   "cell_type": "markdown",
   "id": "1038d26c-5d90-42f2-8fdc-953c132abfca",
   "metadata": {},
   "source": [
    "### Test02"
   ]
  },
  {
   "cell_type": "code",
   "execution_count": 2,
   "id": "7163af4d-c271-4594-96b3-4298738b1f64",
   "metadata": {},
   "outputs": [
    {
     "name": "stdout",
     "output_type": "stream",
     "text": [
      "你好\n",
      "我好\n",
      "大家好\n",
      "abc\n",
      "\n",
      "--------------------------------------------------\n",
      "你好\n",
      "\n",
      "我好\n",
      "\n",
      "大家好\n",
      "\n",
      "--------------------------------------------------\n",
      "['你好\\n', '我好\\n', '大家好\\n', 'abc\\n']\n",
      "--------------------------------------------------\n",
      "你好\n",
      "\n",
      "我好\n",
      "\n",
      "大家好\n",
      "\n",
      "abc\n",
      "\n",
      "--------------------------------------------------\n",
      "你好\n",
      "我好\n",
      "大家好\n",
      "abc\n"
     ]
    }
   ],
   "source": [
    "# 获取文件对象\n",
    "f = open(file='prg_files/file1.txt', mode='rt', encoding='utf-8')\n",
    "\n",
    "\n",
    "# 读操作\n",
    "\n",
    "# 方式一：一次性读取全部文本\n",
    "content = f.read()      \n",
    "print(content)\n",
    "\n",
    "print('-' * 50)\n",
    "f.seek(0)     # 0 字节的含义，表示从第0个字节开始读\n",
    "\n",
    "# 方式二：一行一行读\n",
    "line = f.readline()       \n",
    "print(line)\n",
    "line = f.readline()\n",
    "print(line)\n",
    "line = f.readline()\n",
    "print(line)\n",
    "\n",
    "print('-' * 50)\n",
    "f.seek(0)     # 0 字节的含义，表示从第0个字节开始读\n",
    "\n",
    "# 方式三：读取所有行\n",
    "lines = f.readlines()  # 返回一个列表\n",
    "print(lines)           # ['你好\\n', '我好\\n', '大家好\\n']   账号: 张三\\n\n",
    "\n",
    "print('-' * 50)\n",
    "f.seek(0)     # 0 字节的含义，表示从第0个字节开始读\n",
    "\n",
    "# 方式四：遍历所有列表对象\n",
    "for line in f.readlines():\n",
    "    print(line)\n",
    "\n",
    "print('-' * 50)\n",
    "f.seek(0)     # 0 字节的含义，表示从第0个字节开始读\n",
    "\n",
    "# 方式五：遍历所有行（去除首尾的空格和换行）\n",
    "# f 默认就是 readlines()\n",
    "for line in f:      # f 对象直接遍历, 默认就是 f.readlines()\n",
    "    # print(line, end='')  不好\n",
    "    # Return a copy of the string with leading and trailing whitespace removed.\n",
    "    # 字符串对象的方法, 去除首尾的空格和换行 (不可见字符), 字符串是不可变的, 会返回一个副本, 一定要接收\n",
    "    line = line.strip()\n",
    "    print(line)\n",
    "\n",
    "# 关闭文件\n",
    "f.close()"
   ]
  },
  {
   "cell_type": "code",
   "execution_count": 3,
   "id": "f443f353-9f88-4b61-8f08-f4440da88de9",
   "metadata": {},
   "outputs": [],
   "source": [
    "# open(字符串路径, 模式=文本写入, encoding='utf-8')\n",
    "f = open(r'prg_files/file1.txt', mode='wt', encoding='utf-8')\n",
    "print('hello world, 你好, 中国.', file=f)\n",
    "# 关闭文件\n",
    "f.close()"
   ]
  },
  {
   "cell_type": "markdown",
   "id": "380c6233-326a-4dc1-a843-823115dbec32",
   "metadata": {},
   "source": [
    "## with语句(上下⽂管理器)"
   ]
  },
  {
   "cell_type": "markdown",
   "id": "0761c4dd-f87a-493b-a936-d6ca435eb270",
   "metadata": {},
   "source": [
    "注意细节。 \n",
    "\n",
    "```python\n",
    "def func(a, b, c):\n",
    "   pass\n",
    "\n",
    "# ⽅式 1\n",
    "func(a=1, b=2, c=3)\n",
    "\n",
    "# ⽅式 2\n",
    "func(1, 2, 3)\n",
    "\n",
    "# 书写⽅式 1\n",
    "f = open(file='路径', mode='rt', encoding='utf-8')\n",
    "\n",
    "# 书写⽅式 2 正确吗? 这⾥是错误的.\n",
    "# open('路径', 'rt', 'utf-8') 参数顺序不同造成的\n",
    "open('路径', 'rt', encoding='utf-8') # 这样写就是正确的\n",
    "```\n"
   ]
  },
  {
   "cell_type": "markdown",
   "id": "75087f75-e373-475c-b05f-851426a2e12e",
   "metadata": {},
   "source": [
    "with语句可以⾃动管理上下⽂资源，不论什么原因跳出with块，都能确保⽂件正确的关闭，以此来达到释放资源的⽬的。"
   ]
  },
  {
   "cell_type": "markdown",
   "id": "759040dd-1988-4927-99cb-b1707f3ab0c6",
   "metadata": {},
   "source": [
    "![](img/with.jpg)"
   ]
  },
  {
   "cell_type": "markdown",
   "id": "df09198b-1d5e-42ac-b0c9-e782b24c2cc6",
   "metadata": {},
   "source": [
    "### Test03"
   ]
  },
  {
   "cell_type": "code",
   "execution_count": 4,
   "id": "54a160e9-36c7-4ca4-ad5e-72da088393fe",
   "metadata": {},
   "outputs": [
    {
     "name": "stdout",
     "output_type": "stream",
     "text": [
      "hello world, 你好, 中国.\n",
      "--------------------------------------------------\n",
      "enter 开始了 ...\n",
      "操作1 ...\n",
      "操作2 ...\n",
      "操作3 ...\n",
      "exit 退出了 ...\n"
     ]
    }
   ],
   "source": [
    "# 上下文管理器 ContextManagent, open() 内置函数返回的 stream 流对象就是一个上下文管理器对象\n",
    "# with 语句会自动将资源实现关闭，不用自己close\n",
    "# open() 内置函数实现 object 类的 __enter__(self) 和 __exit__(self, exc_type, exc_val, exc_tb) 方法\n",
    "with open(file='prg_files/file1.txt', mode='rt', encoding='utf-8') as f:\n",
    "    for line in f:\n",
    "        line = line.strip()\n",
    "        print(line)\n",
    "\n",
    "print('-' * 50)\n",
    "\n",
    "# 我的上下文\n",
    "class MyContext(object):\n",
    "    # 操作文件\n",
    "    def operate_file1(self):\n",
    "        print('操作1 ...')\n",
    "\n",
    "    def operate_file2(self):\n",
    "        print('操作2 ...')\n",
    "\n",
    "    def operate_file3(self):\n",
    "        print('操作3 ...')\n",
    "\n",
    "    def __enter__(self):\n",
    "        print('enter 开始了 ...')\n",
    "        # 返回 self 对象\n",
    "        return self\n",
    "\n",
    "    def __exit__(self, exc_type, exc_val, exc_tb):\n",
    "        print('exit 退出了 ...')\n",
    "\n",
    "\n",
    "with MyContext() as f:\n",
    "    # 调用 f 对象的三个不同行为\n",
    "    f.operate_file1()\n",
    "    f.operate_file2()\n",
    "    f.operate_file3()"
   ]
  },
  {
   "cell_type": "markdown",
   "id": "8d375919-c177-4b58-abef-e3555ce89135",
   "metadata": {},
   "source": [
    "## 动动⼿：复制⽂件"
   ]
  },
  {
   "cell_type": "markdown",
   "id": "9338dc78-911c-423e-8c38-2f0090146c72",
   "metadata": {},
   "source": [
    "* ⽂本⽂件复制"
   ]
  },
  {
   "cell_type": "markdown",
   "id": "405100b4-d1df-4c81-976e-3f04b88d63eb",
   "metadata": {},
   "source": [
    "### Test04"
   ]
  },
  {
   "cell_type": "code",
   "execution_count": 5,
   "id": "50fdab44-71aa-464a-a82e-61ad76c39683",
   "metadata": {},
   "outputs": [],
   "source": [
    "# 需求 : 实现文本文件的复制\n",
    "# 操作 : 先读后写\n",
    "with open(file='prg_files/file1.txt', mode='rt', encoding='utf-8') as reader:\n",
    "    with open(file='prg_files/copy.txt', mode='wt', encoding='utf-8') as writer:\n",
    "        writer.write(reader.read())"
   ]
  },
  {
   "cell_type": "markdown",
   "id": "c0fa785e-acd0-42e7-b4e8-67931a318bfe",
   "metadata": {},
   "source": [
    "* 非文本文件复制 "
   ]
  },
  {
   "cell_type": "markdown",
   "id": "2ec606be-ff26-477b-88c1-1e7aff700bf4",
   "metadata": {},
   "source": [
    "### Test05"
   ]
  },
  {
   "cell_type": "code",
   "execution_count": 6,
   "id": "52e47428-7c6a-496f-b4d4-c218e1c4713e",
   "metadata": {},
   "outputs": [],
   "source": [
    "# 需求 : 非文本文件复制 (图片, 音频, 视频 ...)\n",
    "# 非文本文件是没有编码的\n",
    "with open(file=r'prg_files/logo.jpg', mode='rb') as reader:  # r：raw，原生字符串，不要转义； b：binary，非文本文件是二进制文件，没有编码\n",
    "    with open(file=r'prg_files/copy.jpg', mode='wb') as writer:\n",
    "        writer.write(reader.read())"
   ]
  },
  {
   "cell_type": "markdown",
   "id": "556fda13-2e85-4165-96fa-850a1dd7cb92",
   "metadata": {},
   "source": [
    "# 登录日志综合案例"
   ]
  },
  {
   "cell_type": "markdown",
   "id": "d08bc730-c499-4c8e-a5c1-e3dc4ea0657c",
   "metadata": {},
   "source": [
    "1. 实现登录验证，如果⽤户名是列表中的元素 ['Smith', 'Tom', 'Jack']，密码 '888' 则登录成功，否则失败\n",
    "2. 不管登录是否成功，都需要在⽂件中记录登录的信息\n",
    "3. 登录成功，可以看到相应的操作菜单提示，请实现相应的功能"
   ]
  },
  {
   "cell_type": "markdown",
   "id": "f965c7d5-f757-4aab-9904-e4668713a8ce",
   "metadata": {},
   "source": [
    "## Test06"
   ]
  },
  {
   "cell_type": "code",
   "execution_count": 7,
   "id": "bf7159e9-80dd-436a-953c-147dbf65035b",
   "metadata": {},
   "outputs": [
    {
     "name": "stdout",
     "output_type": "stream",
     "text": [
      "1745553976.961301 <class 'float'>\n",
      "time.struct_time(tm_year=2025, tm_mon=4, tm_mday=25, tm_hour=4, tm_min=6, tm_sec=16, tm_wday=4, tm_yday=115, tm_isdst=0) <class 'time.struct_time'>\n",
      "2025年04月25日 04:06:16\n"
     ]
    }
   ],
   "source": [
    "import time\n",
    "\n",
    "\n",
    "t = time.time()\n",
    "\n",
    "# float 类型的数据\n",
    "print(t, type(t))        # 1742825628.7116542    格林威治到现在为止的秒数   1970年1月1日  00:00:00 开始计算\n",
    "\n",
    "\n",
    "t2 = time.localtime()\n",
    "# t2 是一个有结构的时间数据\n",
    "print(t2, type(t2))\n",
    "\n",
    "# 时间格式化 : \"%Y-%m-%d %H:%M:%S\"   年月日 时分秒\n",
    "chinese_time = time.strftime(\"%Y年%m月%d日 %H:%M:%S\", t2)\n",
    "print(chinese_time)"
   ]
  },
  {
   "cell_type": "code",
   "execution_count": 9,
   "id": "ae898dc8-249b-48d7-90ab-202cdea14ad3",
   "metadata": {},
   "outputs": [
    {
     "name": "stdin",
     "output_type": "stream",
     "text": [
      "请输入您的用户名:  Jack\n",
      "请输入您的登录密码:  888\n"
     ]
    },
    {
     "name": "stdout",
     "output_type": "stream",
     "text": [
      "\n",
      "    ***************************\n",
      "        1. 查看当前登录用户\n",
      "        2. 查看登录日志\n",
      "        3. 退出系统\n",
      "    ***************************\n",
      "    \n"
     ]
    },
    {
     "name": "stdin",
     "output_type": "stream",
     "text": [
      "请输入您的操作码:  1\n"
     ]
    },
    {
     "name": "stdout",
     "output_type": "stream",
     "text": [
      "当前用户为:  Jack\n",
      "\n",
      "    ***************************\n",
      "        1. 查看当前登录用户\n",
      "        2. 查看登录日志\n",
      "        3. 退出系统\n",
      "    ***************************\n",
      "    \n"
     ]
    },
    {
     "name": "stdin",
     "output_type": "stream",
     "text": [
      "请输入您的操作码:  2\n"
     ]
    },
    {
     "name": "stdout",
     "output_type": "stream",
     "text": [
      "登录用户: aa, 登录失败 登录时间: 2025-04-11 03:24:24\n",
      "登录用户: Jack, 登录成功 登录时间: 2025-04-11 04:45:23\n",
      "登录用户: Jack, 退出系统 登录时间: 2025-04-11 04:45:39\n",
      "登录用户: Jack, 登录失败 登录时间: 2025-04-11 05:05:17\n",
      "登录用户: Jack , 登录失败 登录时间: 2025-04-11 05:06:02\n",
      "登录用户: Jack, 登录成功 登录时间: 2025-04-11 05:06:09\n",
      "登录用户: Jack, 退出系统 登录时间: 2025-04-11 05:06:15\n",
      "登录用户: Rose, 登录成功 登录时间: 2025-04-11 05:11:02\n",
      "登录用户: Rose, 退出系统 登录时间: 2025-04-11 05:11:26\n",
      "登录用户: david, 登录失败 登录时间: 2025-04-25 04:06:23\n",
      "登录用户: Jack, 登录成功 登录时间: 2025-04-25 04:06:32\n",
      "\n",
      "    ***************************\n",
      "        1. 查看当前登录用户\n",
      "        2. 查看登录日志\n",
      "        3. 退出系统\n",
      "    ***************************\n",
      "    \n"
     ]
    },
    {
     "name": "stdin",
     "output_type": "stream",
     "text": [
      "请输入您的操作码:  3\n"
     ]
    },
    {
     "name": "stdout",
     "output_type": "stream",
     "text": [
      "感谢您的使用, 下次再会!\n"
     ]
    }
   ],
   "source": [
    "import time\n",
    "\n",
    "\n",
    "# 自底向上 (需求驱动)\n",
    "# 自顶向下 (需求文档)   软件工程\n",
    "\n",
    "# 文件名称 (定义到外部) 全局变量\n",
    "FILENAME = 'prg_files/login_log.txt'\n",
    "\n",
    "\n",
    "def record_log(user, msg):\n",
    "    # a: append  + : read OR write 可读可写\n",
    "    with open(file=FILENAME, mode='a+', encoding='utf-8') as f:  \n",
    "        chinese_time = time.strftime('%Y-%m-%d %H:%M:%S', time.localtime(time.time()))\n",
    "        log_txt = f'登录用户: {user}, {msg} 登录时间: {chinese_time}'\n",
    "        f.write(log_txt + '\\n')\n",
    "\n",
    "\n",
    "def read_log():\n",
    "    with open(file=FILENAME, mode='rt', encoding='utf-8') as f:\n",
    "        for line in f:      # f.readlines()\n",
    "            line = line.strip()\n",
    "            print(line)\n",
    "\n",
    "\n",
    "# 操作界面\n",
    "def operation_menu():\n",
    "    menu = '''\n",
    "    ***************************\n",
    "        1. 查看当前登录用户\n",
    "        2. 查看登录日志\n",
    "        3. 退出系统\n",
    "    ***************************\n",
    "    '''\n",
    "    print(menu)\n",
    "\n",
    "\n",
    "# 接受用户的输入\n",
    "user = input('请输入您的用户名: ')\n",
    "pwd = input('请输入您的登录密码: ')\n",
    "\n",
    "# 判断\n",
    "if user in ['Jack', 'Smith', 'Rose'] and pwd == '888':\n",
    "    # 当前用户登录成功\n",
    "    record_log(user, '登录成功')\n",
    "\n",
    "    while True:\n",
    "        # 展示菜单界面\n",
    "        operation_menu()\n",
    "        # 提示用户输入操作码\n",
    "        choice = input('请输入您的操作码: ')\n",
    "        # 判断\n",
    "        if choice == '1':\n",
    "            #  查看当前登录用户\n",
    "            print('当前用户为: ', user)\n",
    "        elif choice == '2':\n",
    "            # 查看登录日志\n",
    "            read_log()\n",
    "        elif choice == '3':\n",
    "            # 退出系统\n",
    "            record_log(user, '退出系统')\n",
    "            print('感谢您的使用, 下次再会!')\n",
    "            break\n",
    "        else:\n",
    "            # 错误的操作码\n",
    "            print('操作码错误, 请重新输入!')\n",
    "else:\n",
    "    # 登录失败\n",
    "    print('用户名或密码错误, 登录失败!')\n",
    "    record_log(user, '登录失败')"
   ]
  },
  {
   "cell_type": "code",
   "execution_count": null,
   "id": "10f1909b-5c55-4c1e-b40d-94d6901ea651",
   "metadata": {},
   "outputs": [],
   "source": []
  }
 ],
 "metadata": {
  "kernelspec": {
   "display_name": "Python [conda env:base] *",
   "language": "python",
   "name": "conda-base-py"
  },
  "language_info": {
   "codemirror_mode": {
    "name": "ipython",
    "version": 3
   },
   "file_extension": ".py",
   "mimetype": "text/x-python",
   "name": "python",
   "nbconvert_exporter": "python",
   "pygments_lexer": "ipython3",
   "version": "3.11.6"
  }
 },
 "nbformat": 4,
 "nbformat_minor": 5
}
