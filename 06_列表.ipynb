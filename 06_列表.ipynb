{
 "cells": [
  {
   "cell_type": "markdown",
   "id": "3a9cadb6-6476-467f-9553-9c8c0dba9e39",
   "metadata": {},
   "source": [
    "# Part1-列表的基本使用"
   ]
  },
  {
   "cell_type": "markdown",
   "id": "e212674f-2a82-4f14-a050-50448087e01c",
   "metadata": {},
   "source": [
    "## 列表定义"
   ]
  },
  {
   "cell_type": "markdown",
   "id": "70562c29-3f36-49c9-a578-926daca5bd95",
   "metadata": {},
   "source": [
    "列表(list）是Python的一种可以更改内容的数据类型，它是由一系列元素所组成的序列。  "
   ]
  },
  {
   "cell_type": "markdown",
   "id": "d510b1b3-4fb0-45c4-b77b-db4e755ef591",
   "metadata": {},
   "source": [
    "```python\n",
    "my_list = [元素1, ... ,元素n]    # my_list是假设的列表名称\n",
    "```"
   ]
  },
  {
   "cell_type": "markdown",
   "id": "cae3635a-cb3e-4e9b-9be5-8bba06f0fab7",
   "metadata": {},
   "source": [
    "读取列表元素\n",
    "\n",
    "![](img/list.jpg)"
   ]
  },
  {
   "cell_type": "markdown",
   "id": "f53a609b-8223-4c1e-abee-e72b72ebd3bb",
   "metadata": {},
   "source": [
    "### Test01"
   ]
  },
  {
   "cell_type": "code",
   "execution_count": 1,
   "id": "4d2fcbba-0149-417f-8a03-f87bb3c27e1f",
   "metadata": {},
   "outputs": [],
   "source": [
    "# 定义一个列表\n",
    "\n",
    "# 整型数值存储的列表\n",
    "numbers = [1, 2, 3, 4, 5, 6, 7, 8, 9, 10]\n",
    "\n",
    "# 字符串类型的列表\n",
    "names = ['Jack', 'Peter', 'Lucy', 'Merry', 'Tom']\n",
    "\n",
    "# 定义一个混合数据类型的存储列表\n",
    "scores = ['张三', 100, 80, 90]"
   ]
  },
  {
   "cell_type": "markdown",
   "id": "642aecf0-9f42-42bf-8013-18beb6072ec6",
   "metadata": {},
   "source": [
    "### Test02"
   ]
  },
  {
   "cell_type": "code",
   "execution_count": 2,
   "id": "b446a4fe-89a6-449f-b52f-6d0b5863e9ac",
   "metadata": {},
   "outputs": [
    {
     "name": "stdout",
     "output_type": "stream",
     "text": [
      "詹姆斯第一场得分: 23\n",
      "詹姆斯第二场得分: 19\n",
      "詹姆斯第三场得分: 22\n",
      "詹姆斯第四场得分: 31\n",
      "詹姆斯第五场得分: 18\n",
      "--------------------\n",
      "g1 = 23, g2 = 19, g3 = 22, g4 = 31, g5 = 18\n"
     ]
    }
   ],
   "source": [
    "james = [23, 19, 22, 31, 18]\n",
    "\n",
    "# 读取列表中的元素\n",
    "# 格式: 列表名[下标]   注意: 下标是从0开始的, 如果列表中有5个元素,下标的范围: 0~4\n",
    "game1 = james[0]\n",
    "game2 = james[1]\n",
    "print(f'詹姆斯第一场得分: {game1}')\n",
    "print(f'詹姆斯第二场得分: {game2}')\n",
    "print(f'詹姆斯第三场得分: {james[2]}')\n",
    "print(f'詹姆斯第四场得分: {james[3]}')\n",
    "print(f'詹姆斯第五场得分: {james[4]}')\n",
    "\n",
    "# 访问列表中不存在下标元素\n",
    "# print(f'詹姆斯第五场得分: {james[5]}')  # IndexError: list index out of range\n",
    "\n",
    "print('-' * 20)\n",
    "\n",
    "# Python 中特色的列表元素获取方式\n",
    "# 首先我们知道 james 列表中有五个元素, 因此, 我们就可以使用5个变量接收列表中对应的五个元素\n",
    "g1, g2, g3, g4, g5 = james\n",
    "print(f\"{g1 = }, {g2 = }, {g3 = }, {g4 = }, {g5 = }\")"
   ]
  },
  {
   "cell_type": "markdown",
   "id": "28f4a351-e575-49bb-8926-3aa9e11bbc94",
   "metadata": {},
   "source": [
    "## 列表切片"
   ]
  },
  {
   "cell_type": "markdown",
   "id": "94ed8637-0e17-4504-b9fb-dc322c37eb00",
   "metadata": {},
   "source": [
    "在设计程序时，常会需要取得列表前几个元素，后几个元素，某区间元素或是依照一定规贝刂排序的元素，所取得的系统元素也称子列表，这个概念称列表切片(list slices),此时可以用下列方法。"
   ]
  },
  {
   "cell_type": "markdown",
   "id": "036a2e91-bd04-47cc-814d-ac06a305c74b",
   "metadata": {},
   "source": [
    "```python\n",
    "my_list[start:end]   # 读取从索引start到end-1索引的列表元素\n",
    "my_list[:end]        # 取得列表最前面到end-1名\n",
    "my_list[:-n]         # 取得列表前面，不含最后n名\n",
    "my_list[start:]      # 取得列表索引start到最后\n",
    "my_list[-n:]         # 取得列表后n名\n",
    "my_list[:]           # 取得所有元素\n",
    "```"
   ]
  },
  {
   "cell_type": "markdown",
   "id": "1f7a4045-0bdb-45e3-9658-4654acd444f0",
   "metadata": {},
   "source": [
    "下列是读取区间，但是用step作为每隔多少区间再读取。 "
   ]
  },
  {
   "cell_type": "markdown",
   "id": "4632eada-f7fb-4b62-8fe5-6f84627bb6d0",
   "metadata": {},
   "source": [
    "```python\n",
    "my_list[start:end:step]    # 每隔step，读取从索引stat到end-1的列表元素  \n",
    "```"
   ]
  },
  {
   "cell_type": "markdown",
   "id": "3d091411-9778-4c55-a7e4-d1d8995e5d1b",
   "metadata": {},
   "source": [
    "列表索引值是-1，代表是最后一个列表元素，-2代表最后2个元素，其它负索引概念可以此类推。负数代表倒序索引。"
   ]
  },
  {
   "cell_type": "markdown",
   "id": "290a4604-4929-4015-ac0a-26ab6cee02e1",
   "metadata": {},
   "source": [
    "### Test03"
   ]
  },
  {
   "cell_type": "code",
   "execution_count": 3,
   "id": "00af5d15-a5ef-45a1-aa75-63f7eee9e761",
   "metadata": {},
   "outputs": [
    {
     "name": "stdout",
     "output_type": "stream",
     "text": [
      "前五个元素: [1, 2, 3, 4, 5]\n",
      "后五个元素: [6, 7, 8, 9, 10]\n",
      "奇数: [1, 3, 5, 7, 9]\n",
      "偶数: [2, 4, 6, 8, 10]\n"
     ]
    }
   ],
   "source": [
    "# 整型列表\n",
    "numbers = [1, 2, 3, 4, 5, 6, 7, 8, 9, 10]\n",
    "\n",
    "# 切片的语法格式 [start:end:step]\n",
    "\n",
    "# 需求 1 : 输出前5个元素\n",
    "print(f'前五个元素: {numbers[0:5]}')     # 从 start 开始, 到 end-1 结束（左闭右开）, 如果不指定 start 初值, 默认为 0\n",
    "\n",
    "# 需求 2 : 输出后5个元素\n",
    "print(f'后五个元素: {numbers[5:10]}')\n",
    "\n",
    "# 需求 3 : 输出所有奇数\n",
    "print(f'奇数: {numbers[0:10:2]}')     # start 省略, 默认为 0, 如果 end 省略, 默认为列表的长度\n",
    "\n",
    "# 需求 4 : 输出所有的偶数\n",
    "print(f'偶数: {numbers[1:10:2]}')"
   ]
  },
  {
   "cell_type": "markdown",
   "id": "fe260070-952f-478e-b385-6830dd10aedf",
   "metadata": {},
   "source": [
    "### Test04"
   ]
  },
  {
   "cell_type": "code",
   "execution_count": 4,
   "id": "4e044294-27f7-45f8-8654-05757d46d305",
   "metadata": {},
   "outputs": [
    {
     "name": "stdout",
     "output_type": "stream",
     "text": [
      "10\n",
      "9\n",
      "1\n"
     ]
    }
   ],
   "source": [
    "numbers = [1, 2, 3, 4, 5, 6, 7, 8, 9, 10]\n",
    "\n",
    "# 负数下标 (从后向前)\n",
    "print(numbers[-1])\n",
    "print(numbers[-2])\n",
    "\n",
    "# 现象 : -0 和 0 下标的含义是一样的\n",
    "print(numbers[-0]) # 从右往左不是从-0开始的，是从-1开始的，0是原点"
   ]
  },
  {
   "cell_type": "markdown",
   "id": "fc212d95-795f-433f-bafa-63d7b8a76283",
   "metadata": {},
   "source": [
    "## 列表统计数据"
   ]
  },
  {
   "cell_type": "markdown",
   "id": "07319197-735b-4a62-a84d-b3d835d3ba1c",
   "metadata": {},
   "source": [
    "列表统计数据，内置函数：\n",
    "* 最大值max()\n",
    "* 最小值min()\n",
    "* 总和sum()\n",
    "* 列表元素个数len()  "
   ]
  },
  {
   "cell_type": "markdown",
   "id": "a566db3a-7af3-4213-9908-b7a7d82508b3",
   "metadata": {},
   "source": [
    "列表与内置函数结合使用案例："
   ]
  },
  {
   "cell_type": "markdown",
   "id": "c87ac1d3-cefd-4358-b600-f87a42ece0bd",
   "metadata": {},
   "source": [
    "### Test05"
   ]
  },
  {
   "cell_type": "code",
   "execution_count": 5,
   "id": "e98fd951-4662-47bb-8bdd-aebf7603d778",
   "metadata": {},
   "outputs": [
    {
     "name": "stdout",
     "output_type": "stream",
     "text": [
      "最大元素为: 99\n",
      "最小元素为: 11\n",
      "元素总和为: 495\n",
      "列表长度为: 9\n"
     ]
    }
   ],
   "source": [
    "numbers = [88, 66, 33, 99, 22, 11, 77, 44, 55]\n",
    "\n",
    "# 最大值  max()\n",
    "print(f'最大元素为: {max(numbers)}')\n",
    "# 最小值  min()\n",
    "print(f'最小元素为: {min(numbers)}')\n",
    "# 列表中整型元素的总和  sum()\n",
    "print(f'元素总和为: {sum(numbers)}')\n",
    "# 列表中总共有多少元素  len()\n",
    "print(f'列表长度为: {len(numbers)}')"
   ]
  },
  {
   "cell_type": "markdown",
   "id": "c7ecf39c-31e0-4995-9b9a-f31ddc48311c",
   "metadata": {},
   "source": [
    "内置函数与列表切片使用案例："
   ]
  },
  {
   "cell_type": "markdown",
   "id": "6dda96a6-9757-48c2-bed2-720ac87a6c62",
   "metadata": {},
   "source": [
    "### Test06"
   ]
  },
  {
   "cell_type": "code",
   "execution_count": 6,
   "id": "8c141b5b-40be-4df4-89cc-461f0aa1d04b",
   "metadata": {},
   "outputs": [
    {
     "name": "stdout",
     "output_type": "stream",
     "text": [
      "张三\n",
      "最高分为: 99\n",
      "最低分为: 59\n",
      "总分为: 246\n"
     ]
    }
   ],
   "source": [
    "scores = ['张三', 99, 59, 88]\n",
    "\n",
    "# 名称 :\n",
    "print(scores[0])\n",
    "# print(f'最高分为: {max(scores)}') # 报错，字符串和整形无法比较\n",
    "# 最值 + 列表的切片\n",
    "print(f'最高分为: {max(scores[1:])}')\n",
    "print(f'最低分为: {min(scores[1:])}')\n",
    "\n",
    "# 总分\n",
    "print(f'总分为: {sum(scores[1:])}')"
   ]
  },
  {
   "cell_type": "markdown",
   "id": "e1d9e6fb-5ba6-4d80-ae19-3f57ad423141",
   "metadata": {},
   "source": [
    "## 更改列表元素内容"
   ]
  },
  {
   "cell_type": "markdown",
   "id": "d4b0ccdc-0258-4367-af74-ca21c1a134f9",
   "metadata": {},
   "source": [
    "更改列表元素的内容，直接使用下标操作即可。"
   ]
  },
  {
   "cell_type": "markdown",
   "id": "7072bdbb-c7a6-4206-808a-d6f990cef7f5",
   "metadata": {},
   "source": [
    "### Test07"
   ]
  },
  {
   "cell_type": "code",
   "execution_count": 7,
   "id": "9532e34c-eec9-498b-ab69-7b3ee5e12046",
   "metadata": {},
   "outputs": [
    {
     "name": "stdout",
     "output_type": "stream",
     "text": [
      "['张三', 100, 59, 88]\n",
      "['张三', 100, 60, 88]\n"
     ]
    }
   ],
   "source": [
    "scores = ['张三', 99, 59, 88]\n",
    "\n",
    "# 将 \"张三\" 的成绩实现修改\n",
    "scores[1] = 100\n",
    "print(scores)\n",
    "\n",
    "scores[2] += 1\n",
    "print(scores)"
   ]
  },
  {
   "cell_type": "markdown",
   "id": "035cbfeb-3d74-4a59-bf4a-55efd5530e59",
   "metadata": {},
   "source": [
    "## 列表相加与相乘 "
   ]
  },
  {
   "cell_type": "markdown",
   "id": "b1b44e13-6a06-4849-b7eb-d5f46c7035ac",
   "metadata": {},
   "source": [
    "列表的相加，Python允许+和+=执行列表相加，相当于将列表结合。\n",
    "\n",
    "列表乘以一个数字。\n",
    "\n",
    "如果将列表乘以一个数字，这个数字相当于是列表元素重复次数。"
   ]
  },
  {
   "cell_type": "markdown",
   "id": "4ed513f2-02b3-4cfa-856a-f508a9a01a02",
   "metadata": {},
   "source": [
    "### Test08"
   ]
  },
  {
   "cell_type": "code",
   "execution_count": 8,
   "id": "0479dd81-ee83-46cc-87eb-d1d7a6675b34",
   "metadata": {},
   "outputs": [
    {
     "name": "stdout",
     "output_type": "stream",
     "text": [
      "num1 = [1, 2, 3, 4, 5], num2 = [6, 7, 8, 9, 10]\n",
      "num3 = [1, 2, 3, 4, 5, 6, 7, 8, 9, 10]\n",
      "n2 = [1, 2, 3, 1, 2, 3, 1, 2, 3]\n"
     ]
    }
   ],
   "source": [
    "num1 = [1, 2, 3, 4, 5]\n",
    "num2 = [6, 7, 8, 9, 10]\n",
    "\n",
    "# 列表相加, 会返回一个新的列表\n",
    "num3 = num1 + num2\n",
    "\n",
    "print(f'{num1 = }, {num2 = }')\n",
    "print(f'{num3 = }')\n",
    "\n",
    "# 列表可以实现数乘\n",
    "n = [1, 2, 3]\n",
    "n2 = n * 3\n",
    "print(f'{n2 = }')"
   ]
  },
  {
   "cell_type": "markdown",
   "id": "b4b541ed-598f-4075-9c49-5f47f0d603b9",
   "metadata": {},
   "source": [
    "## 删除列表元素"
   ]
  },
  {
   "cell_type": "markdown",
   "id": "72f91d66-d8d2-4571-af1e-7ab268732f8b",
   "metadata": {},
   "source": [
    "可以使用下列方式删除指定索弓|的列表元素"
   ]
  },
  {
   "cell_type": "markdown",
   "id": "a45ed7a4-fa5a-4845-89c9-d9501787386a",
   "metadata": {},
   "source": [
    "```python\n",
    "del mylist(i)    # 删除索引i的列表元素\n",
    "```"
   ]
  },
  {
   "cell_type": "markdown",
   "id": "cfabb27b-cb28-4010-9630-073d1047c2a1",
   "metadata": {},
   "source": [
    "删除列表区间元素"
   ]
  },
  {
   "cell_type": "markdown",
   "id": "d5704843-fa88-4fa9-b0b2-796ca4eee480",
   "metadata": {},
   "source": [
    "```python\n",
    "del mylist[start:end]  # 除从索引start到(end-1)索引的列表元素\n",
    "```"
   ]
  },
  {
   "cell_type": "markdown",
   "id": "71b4f14e-db2a-4441-abd2-35ac75391674",
   "metadata": {},
   "source": [
    "删除区间，用step作为每隔多少区间再删除"
   ]
  },
  {
   "cell_type": "markdown",
   "id": "9eeec303-4fa3-4a40-b4b5-b8f7a51f75f7",
   "metadata": {},
   "source": [
    "```python\n",
    "del mylist[start:end:step]     # 每隔step，删除从索引start到(end-1)的列表元素\n",
    "```"
   ]
  },
  {
   "cell_type": "markdown",
   "id": "a99db434-18d5-4103-98c7-c3abc5448eef",
   "metadata": {},
   "source": [
    "以上方式删除列表元素最大的缺点是，元素删除后我们无法得知删除的是什么内容。"
   ]
  },
  {
   "cell_type": "markdown",
   "id": "b27c8def-c576-413a-9577-a9fa3c6a77fa",
   "metadata": {},
   "source": [
    "### Test09"
   ]
  },
  {
   "cell_type": "code",
   "execution_count": 9,
   "id": "657dcb8b-14dd-4c22-937b-25b28c2681de",
   "metadata": {},
   "outputs": [
    {
     "name": "stdout",
     "output_type": "stream",
     "text": [
      "[2, 3, 4, 5, 6, 7, 8, 9, 10]\n",
      "[3, 4, 5, 6, 7, 8, 9, 10]\n",
      "[3, 4, 5, 9, 10]\n",
      "[4, 9]\n"
     ]
    }
   ],
   "source": [
    "numbers = [1, 2, 3, 4, 5, 6, 7, 8, 9, 10]\n",
    "\n",
    "# 删除指定列表中的元素\n",
    "del numbers[0]\n",
    "print(numbers)\n",
    "\n",
    "del numbers[0]  # 后面的元素会前移\n",
    "print(numbers)\n",
    "\n",
    "# 切片\n",
    "del numbers[3:6]\n",
    "print(numbers)\n",
    "\n",
    "# 使用 step 作为每隔多少区间实现删除\n",
    "del numbers[::2]\n",
    "print(numbers)"
   ]
  },
  {
   "cell_type": "markdown",
   "id": "05b3c4cf-fb88-46ab-be63-3322fb87c183",
   "metadata": {},
   "source": [
    "## 列表为空列表的判断"
   ]
  },
  {
   "cell_type": "markdown",
   "id": "593a871c-e902-49ba-93b7-63cdfa7f56db",
   "metadata": {},
   "source": [
    "### Test10"
   ]
  },
  {
   "cell_type": "code",
   "execution_count": 10,
   "id": "e0dd4dcd-3817-4f0c-a18e-73051d30e2ee",
   "metadata": {},
   "outputs": [
    {
     "name": "stdout",
     "output_type": "stream",
     "text": [
      "这是一个空列表\n",
      "--------------------\n",
      "空列表\n"
     ]
    }
   ],
   "source": [
    "numbers = []\n",
    "\n",
    "# 判断列表是否为空 (是否存在元素)\n",
    "# 注意 : 如果自定义变量名称与Python内置函数名称相同, 在自定义变量之后添加一个下划线用于区分\n",
    "len_ = len(numbers)\n",
    "# 判断\n",
    "if len_ == 0:\n",
    "    print('这是一个空列表')\n",
    "else:\n",
    "    print('这不是一个空列表.')\n",
    "\n",
    "print('-' * 20)\n",
    "\n",
    "# 在条件判断中, 整数规则为 : 非0即真\n",
    "if len_:    # 推荐的写法\n",
    "    print('列表非空')\n",
    "else:\n",
    "    print('空列表')"
   ]
  },
  {
   "cell_type": "markdown",
   "id": "ca978081-103e-47c1-96f4-b5e9bf2ce0c1",
   "metadata": {},
   "source": [
    "## 删除列表"
   ]
  },
  {
   "cell_type": "markdown",
   "id": "1e151ea6-ba56-404e-86b3-6e205fad66a1",
   "metadata": {},
   "source": [
    "Python也允许我们删除整个列表，列表一经删除就无法复原，同时也无法做任何操作了。"
   ]
  },
  {
   "cell_type": "markdown",
   "id": "a67bedaf-95cf-459b-a045-0a56ec405d5d",
   "metadata": {},
   "source": [
    "### Test11"
   ]
  },
  {
   "cell_type": "code",
   "execution_count": 11,
   "id": "2cc64e20-0322-4c6e-a990-36b2143ee988",
   "metadata": {
    "scrolled": true
   },
   "outputs": [
    {
     "ename": "NameError",
     "evalue": "name 'numbers' is not defined",
     "output_type": "error",
     "traceback": [
      "\u001b[0;31m---------------------------------------------------------------------------\u001b[0m",
      "\u001b[0;31mNameError\u001b[0m                                 Traceback (most recent call last)",
      "Cell \u001b[0;32mIn[11], line 7\u001b[0m\n\u001b[1;32m      4\u001b[0m \u001b[38;5;28;01mdel\u001b[39;00m numbers\n\u001b[1;32m      6\u001b[0m \u001b[38;5;66;03m# NameError: name 'numbers' is not defined\u001b[39;00m\n\u001b[0;32m----> 7\u001b[0m \u001b[38;5;28mprint\u001b[39m(\u001b[43mnumbers\u001b[49m)\n",
      "\u001b[0;31mNameError\u001b[0m: name 'numbers' is not defined"
     ]
    }
   ],
   "source": [
    "numbers = [1, 2, 3, 4, 5, 6, 7, 8, 9, 10]\n",
    "\n",
    "# 删除整个列表, 后续代码将无法继续使用 numbers 变量\n",
    "del numbers\n",
    "\n",
    "# NameError: name 'numbers' is not defined\n",
    "print(numbers)"
   ]
  },
  {
   "cell_type": "markdown",
   "id": "056a50ae-7791-4680-b471-d8aed11ae763",
   "metadata": {},
   "source": [
    "## 多重指定与列表"
   ]
  },
  {
   "cell_type": "markdown",
   "id": "74cc20b2-bc51-4ce9-a918-283f873c1f99",
   "metadata": {},
   "source": [
    "### Test12"
   ]
  },
  {
   "cell_type": "code",
   "execution_count": 12,
   "id": "0a77da46-79bf-4a8b-bbbd-4a5181a85e0b",
   "metadata": {},
   "outputs": [
    {
     "name": "stdout",
     "output_type": "stream",
     "text": [
      "1 2 [3, 4, 5]\n",
      "1 [2, 3, 4] 5\n"
     ]
    }
   ],
   "source": [
    "# *c 表示 c 变量可以接收多个数值\n",
    "a, b, *c = 1, 2, 3, 4, 5\n",
    "print(a, b, c)\n",
    "\n",
    "x, *y, z = 1, 2, 3, 4, 5\n",
    "print(x, y, z)"
   ]
  },
  {
   "cell_type": "markdown",
   "id": "615cb0e9-9fe3-4f2e-a632-c31a058b1950",
   "metadata": {},
   "source": [
    "# Part2-列表方法"
   ]
  },
  {
   "cell_type": "markdown",
   "id": "59c2a07b-7249-44d6-a264-393e7b6c1551",
   "metadata": {},
   "source": [
    "## append()"
   ]
  },
  {
   "cell_type": "markdown",
   "id": "2068a0f5-12ee-42a1-9672-369a976505c3",
   "metadata": {},
   "source": [
    "在列表末端增加元素append()   "
   ]
  },
  {
   "cell_type": "markdown",
   "id": "826c6145-2e06-4171-b55f-7610da8ae052",
   "metadata": {},
   "source": [
    "### Test13"
   ]
  },
  {
   "cell_type": "code",
   "execution_count": 13,
   "id": "d27e282e-1be0-45de-88eb-fb2753911e0b",
   "metadata": {},
   "outputs": [
    {
     "name": "stdout",
     "output_type": "stream",
     "text": [
      "[1, 2, 3, 4, 5, 6, 7, 8, 9, 10, 11]\n"
     ]
    }
   ],
   "source": [
    "# 说明 : 列表的长度是可伸缩的\n",
    "numbers = [1, 2, 3, 4, 5, 6, 7, 8, 9, 10]\n",
    "\n",
    "# 拼接\n",
    "numbers.append(11)\n",
    "print(numbers)"
   ]
  },
  {
   "cell_type": "markdown",
   "id": "0b9e1eb5-6f67-4ea6-b3ff-91d56050ae78",
   "metadata": {},
   "source": [
    "## insert()"
   ]
  },
  {
   "cell_type": "markdown",
   "id": "ad166a25-14e4-4998-8b90-08037576a8e0",
   "metadata": {},
   "source": [
    "插入列表元素insert()  "
   ]
  },
  {
   "cell_type": "code",
   "execution_count": 14,
   "id": "0c4abaf4-49fa-4331-8290-794b0f4ca681",
   "metadata": {},
   "outputs": [
    {
     "name": "stdout",
     "output_type": "stream",
     "text": [
      "[0, 1, 2, 3, 4, 5, 6, 7, 8, 9, 10, 11]\n",
      "[-1, 0, 1, 2, 3, 4, 5, 6, 7, 8, 9, 10, 11]\n"
     ]
    }
   ],
   "source": [
    "# 在指定的下标位置插入指定元素\n",
    "numbers.insert(0, 0)\n",
    "print(numbers)\n",
    "numbers.insert(0, -1)\n",
    "print(numbers)"
   ]
  },
  {
   "cell_type": "markdown",
   "id": "8ee16cfe-d5fc-4bed-86fa-23cf21e3775f",
   "metadata": {},
   "source": [
    "## pop()"
   ]
  },
  {
   "cell_type": "markdown",
   "id": "bd067e96-3197-48ba-b79c-3b1c2b41954d",
   "metadata": {},
   "source": [
    "删除列表元素pop()  "
   ]
  },
  {
   "cell_type": "markdown",
   "id": "f52c8314-7ebd-4fda-979b-e915a0390f6c",
   "metadata": {},
   "source": [
    "```python\n",
    "value = my_list.pop（）  # 没有索引时删除列表末端元素\n",
    "value = my_list.pop(i)  # 删除指定索引值的列表元素\n",
    "```"
   ]
  },
  {
   "cell_type": "markdown",
   "id": "a832ba1b-eb66-4f99-bc33-5f834c958528",
   "metadata": {},
   "source": [
    "使用pop()方法删除元素最大的优点是，删除后将回传所删除的值，使用pop()时若未指明所删除元素的位置，一律删除列表末端的元素。"
   ]
  },
  {
   "cell_type": "code",
   "execution_count": 15,
   "id": "02a32390-72cc-4c46-947b-82365de7bfec",
   "metadata": {},
   "outputs": [
    {
     "name": "stdout",
     "output_type": "stream",
     "text": [
      "11 was removed\n",
      "[-1, 0, 1, 2, 3, 4, 5, 6, 7, 8, 9, 10]\n",
      "-1 was removed\n",
      "[0, 1, 2, 3, 4, 5, 6, 7, 8, 9, 10]\n"
     ]
    }
   ],
   "source": [
    "# 删除最后一个元素  pop() 会返回被删除的元素\n",
    "delete_element = numbers.pop()\n",
    "print(f'{delete_element} was removed')\n",
    "print(numbers)\n",
    "\n",
    "# 删除指定下标的元素\n",
    "delete_element = numbers.pop(0) # 把第0个元素弹出来\n",
    "print(f'{delete_element} was removed')\n",
    "print(numbers)"
   ]
  },
  {
   "cell_type": "markdown",
   "id": "12618570-0124-4250-92ef-3964460f12b3",
   "metadata": {},
   "source": [
    "## remove()"
   ]
  },
  {
   "cell_type": "markdown",
   "id": "035b861e-dd43-4bb4-8151-14ed0bcbc7be",
   "metadata": {},
   "source": [
    "删除指定的元素remove()  "
   ]
  },
  {
   "cell_type": "markdown",
   "id": "0c6cdcff-e2bd-40b7-848e-3cf04f84c3ea",
   "metadata": {},
   "source": [
    "```python\n",
    "my_list.remove(想删除的元素内容)\n",
    "```"
   ]
  },
  {
   "cell_type": "markdown",
   "id": "46383be6-f499-45d8-b1df-5730e3d73155",
   "metadata": {},
   "source": [
    "在删除列表时，有时可能不知道元素在列表内的位置，此时可以使用remove()方法删除指定的元素，如果列表内有相同的元素，则只删除第一个出现的元素，如果要向删除所有相同的元素，必须使用循环。"
   ]
  },
  {
   "cell_type": "code",
   "execution_count": 16,
   "id": "428576f2-248f-4c69-9edf-31fa65795d63",
   "metadata": {},
   "outputs": [
    {
     "name": "stdout",
     "output_type": "stream",
     "text": [
      "None was removed\n",
      "[0, 1, 2, 3, 4, 6, 7, 8, 9, 10]\n"
     ]
    }
   ],
   "source": [
    "# 需求 : 不知道元素在列表中的下标, 但是要删除这个元素  (删除5元素)\n",
    "# remove(元素) 不需要返回被删除的元素\n",
    "delete_element = numbers.remove(5)  # remove是没有返回的元素的\n",
    "print(f'{delete_element} was removed')\n",
    "print(numbers)"
   ]
  },
  {
   "cell_type": "markdown",
   "id": "0ffdd6e2-86b3-4430-991d-f76f2e85b31d",
   "metadata": {},
   "source": [
    "## reverse()"
   ]
  },
  {
   "cell_type": "markdown",
   "id": "18ebbd28-d3ea-4399-ad17-49bb15520e7e",
   "metadata": {},
   "source": [
    "列表的颠倒排序reverse()"
   ]
  },
  {
   "cell_type": "markdown",
   "id": "d22e8b5d-5b6c-459a-9ef6-46feb0b49565",
   "metadata": {},
   "source": [
    "### Test14"
   ]
  },
  {
   "cell_type": "code",
   "execution_count": 17,
   "id": "ccdd91ab-fdc6-4f59-83bf-8ab03249653c",
   "metadata": {},
   "outputs": [
    {
     "name": "stdout",
     "output_type": "stream",
     "text": [
      "numbers1 = [1, 2, 3, 4, 5, 6, 7, 8, 9, 10], numbers2 = [10, 9, 8, 7, 6, 5, 4, 3, 2, 1]\n",
      "numbers1 = [10, 9, 8, 7, 6, 5, 4, 3, 2, 1], numbers3 = None\n"
     ]
    }
   ],
   "source": [
    "numbers1 = [1, 2, 3, 4, 5, 6, 7, 8, 9, 10]\n",
    "\n",
    "# 颠倒排序, 使用切片实现列表元素的颠倒, 并不是改变原列表, 会返回一个新列表\n",
    "numbers2 = numbers1[::-1]\n",
    "print(f'{numbers1 = }, {numbers2 = }')\n",
    "\n",
    "# 使用 reverse() 方法实现列表元素的颠倒, 直接修改原列表\n",
    "numbers3 = numbers1.reverse()\n",
    "print(f'{numbers1 = }, {numbers3 = }')"
   ]
  },
  {
   "cell_type": "markdown",
   "id": "0a9c648b-ac12-4249-b545-5141bdeab4ae",
   "metadata": {},
   "source": [
    "## sort()"
   ]
  },
  {
   "cell_type": "markdown",
   "id": "1fb12844-6f7f-4dde-99c0-0e63a50f592c",
   "metadata": {},
   "source": [
    "```python\n",
    "my_list.sort(） # 由小到大排序my_list列表\n",
    "```"
   ]
  },
  {
   "cell_type": "markdown",
   "id": "651ae213-2c74-46e3-9fec-d84cfaac6809",
   "metadata": {},
   "source": [
    "sort()排序将造成列表元素顺序永久更改。"
   ]
  },
  {
   "cell_type": "markdown",
   "id": "490e9883-f4a1-41de-97bc-72bee98659c5",
   "metadata": {},
   "source": [
    "### Test15"
   ]
  },
  {
   "cell_type": "code",
   "execution_count": 18,
   "id": "541fa852-87fb-4535-bafd-9e7d615e9a29",
   "metadata": {},
   "outputs": [
    {
     "name": "stdout",
     "output_type": "stream",
     "text": [
      "[11, 22, 33, 44, 55, 66, 77, 88, 99]\n",
      "[99, 88, 77, 66, 55, 44, 33, 22, 11]\n"
     ]
    }
   ],
   "source": [
    "# 整型列表\n",
    "numbers = [33, 88, 44, 66, 55, 99, 11, 22, 77]\n",
    "\n",
    "# 升幂排序(从小到大)\n",
    "numbers.sort()\n",
    "print(numbers)\n",
    "\n",
    "# 降幂排序(从大到小)\n",
    "numbers.sort(reverse=True)\n",
    "print(numbers)"
   ]
  },
  {
   "cell_type": "markdown",
   "id": "23488bc4-bb23-41e7-bbfa-bfce466eb3f6",
   "metadata": {},
   "source": [
    "### Test16"
   ]
  },
  {
   "cell_type": "code",
   "execution_count": 19,
   "id": "bd7e64f2-8f3f-42ba-8a5d-ddbfafd2eb4c",
   "metadata": {},
   "outputs": [
    {
     "name": "stdout",
     "output_type": "stream",
     "text": [
      "countries=['Britain', 'America', 'France', 'Germany', 'Italy', 'Spain', 'Sweden', 'Switzerland', 'China'],id(countries)=139764077416448\n",
      "countries=['America', 'Britain', 'China', 'France', 'Germany', 'Italy', 'Spain', 'Sweden', 'Switzerland'],id(countries)=139764077416448\n",
      "countries=['Switzerland', 'Sweden', 'Spain', 'Italy', 'Germany', 'France', 'China', 'Britain', 'America'],id(countries)=139764077416448\n",
      "countries=['Britain', 'America', 'France', 'Germany', 'Italy', 'Spain', 'Sweden', 'Switzerland', 'China'],id(countries)=139764077416064\n"
     ]
    }
   ],
   "source": [
    "# People's Republic of China   国际上的缩写: PRC\n",
    "countries = ['Britain', 'America', 'France', 'Germany', 'Italy', 'Spain', 'Sweden', 'Switzerland', 'China']\n",
    "print(f'{countries=},id(countries)={id(countries)}')\n",
    "\n",
    "# 字符串排序, 根据 ASCII 码实现的排序\n",
    "countries.sort()\n",
    "print(f'{countries=},id(countries)={id(countries)}')\n",
    "\n",
    "countries.sort(reverse=True)\n",
    "print(f'{countries=},id(countries)={id(countries)}')\n",
    "\n",
    "countries = ['Britain', 'America', 'France', 'Germany', 'Italy', 'Spain', 'Sweden', 'Switzerland', 'China']\n",
    "print(f'{countries=},id(countries)={id(countries)}')"
   ]
  },
  {
   "cell_type": "markdown",
   "id": "1bf50db5-58ad-4526-b7ee-230de539dd12",
   "metadata": {},
   "source": [
    "## sorted()"
   ]
  },
  {
   "cell_type": "markdown",
   "id": "c3da72ae-01b1-4c55-824d-03f4396d1aa0",
   "metadata": {},
   "source": [
    "如果不希望更改列表元素顺序，可以使用功能另一种排序sorted()，使用这个排序可以获得想要的排序结果，我们可以用新列表存储新的排序列表，同时原先列表的顺序将不更改。"
   ]
  },
  {
   "cell_type": "markdown",
   "id": "a08fe8b1-8a54-411e-9843-c45d15ff5042",
   "metadata": {},
   "source": [
    "列表的排序sorted()"
   ]
  },
  {
   "cell_type": "markdown",
   "id": "4ff5a3c5-ff16-433b-9261-631e16534228",
   "metadata": {},
   "source": [
    "```python\n",
    "new_list = sorted(my_list) # 用新列表存储排序，原列表存储排序不更改\n",
    "```"
   ]
  },
  {
   "cell_type": "markdown",
   "id": "3cdaaa1c-748d-4f5f-8d3e-a2f8f0f077b3",
   "metadata": {},
   "source": [
    "### Test17"
   ]
  },
  {
   "cell_type": "code",
   "execution_count": 20,
   "id": "ac522a10-48b0-47d5-8950-15e520428505",
   "metadata": {},
   "outputs": [
    {
     "name": "stdout",
     "output_type": "stream",
     "text": [
      "countries = ['Britain', 'America', 'France', 'Germany', 'Italy', 'Spain', 'Sweden', 'Switzerland', 'China']\n",
      "sorted_countries = ['America', 'Britain', 'China', 'France', 'Germany', 'Italy', 'Spain', 'Sweden', 'Switzerland']\n",
      "reversed_countries = ['Switzerland', 'Sweden', 'Spain', 'Italy', 'Germany', 'France', 'China', 'Britain', 'America']\n"
     ]
    }
   ],
   "source": [
    "# People's Republic of China   国际上的缩写: PRC\n",
    "countries = ['Britain', 'America', 'France', 'Germany', 'Italy', 'Spain', 'Sweden', 'Switzerland', 'China']\n",
    "\n",
    "# 需求 : 希望获取排序后的国家名称序列, 但是不希望更改原列表的字符序列\n",
    "sorted_countries = sorted(countries)\n",
    "print(f'{countries = }')\n",
    "print(f'{sorted_countries = }')\n",
    "\n",
    "# 反转\n",
    "reversed_countries = sorted(countries, reverse=True)\n",
    "print(f'{reversed_countries = }')"
   ]
  },
  {
   "cell_type": "markdown",
   "id": "16b8153a-6413-4cf8-ab21-46688e2bfdac",
   "metadata": {},
   "source": [
    "## index()"
   ]
  },
  {
   "cell_type": "markdown",
   "id": "e90b2360-fb01-4a9b-b6ee-da7f7a91e0a9",
   "metadata": {},
   "source": [
    "index()可以返回特定元素内容第一次出现的索引值"
   ]
  },
  {
   "cell_type": "markdown",
   "id": "3ace8a5f-bc80-47e9-bfb7-94b36f88d3bc",
   "metadata": {},
   "source": [
    "```python\n",
    "索引值 = 列表名称.index(搜寻值)\n",
    "```"
   ]
  },
  {
   "cell_type": "markdown",
   "id": "beca7836-49e6-4809-b80f-93210ddbe2a1",
   "metadata": {},
   "source": [
    "## count()"
   ]
  },
  {
   "cell_type": "markdown",
   "id": "affe95cd-c16d-4730-9006-270fdf03f27d",
   "metadata": {},
   "source": [
    "count()返回特定元素内容出现的次数"
   ]
  },
  {
   "cell_type": "markdown",
   "id": "6169db7f-b209-41a1-bbdb-90a60a4dc6b0",
   "metadata": {},
   "source": [
    "```python\n",
    "次数 = 列表名称.count(搜寻值)\n",
    "```"
   ]
  },
  {
   "cell_type": "markdown",
   "id": "c8c4a79a-49e1-4f1a-9f11-dec6ff27d115",
   "metadata": {},
   "source": [
    "### Test18"
   ]
  },
  {
   "cell_type": "code",
   "execution_count": 21,
   "id": "2fab170e-0820-4607-9b5c-8162505f5db7",
   "metadata": {},
   "outputs": [
    {
     "name": "stdout",
     "output_type": "stream",
     "text": [
      "name_index = 0\n",
      "name_index = 0\n",
      "name_count = 2\n"
     ]
    }
   ],
   "source": [
    "names = ['张三', '李四', '王五', '赵六', '张三', '田七']\n",
    "\n",
    "# 需求 : 查找 \"张三\" 在列表中出现的下标位置\n",
    "name_index = names.index('张三')\n",
    "print(f'{name_index = }')\n",
    "\n",
    "# name_index = names.index('张三', name_index+1) # 从name_index+1的位置开始索引\n",
    "print(f'{name_index = }')\n",
    "\n",
    "# 需求 : 获取指定元素在列表中出现的次数\n",
    "name_count = names.count('张三')\n",
    "# name_count = names.count('张五')  # 不存在为0\n",
    "print(f'{name_count = }')\n",
    "\n",
    "# 如果元素不存在于列表, 程序会执行错误\n",
    "if '张三' not in names[name_index+1:]:\n",
    "    # valueError: '张三' is not in list\n",
    "    name_index = names.index('张三', name_index + 1)\n",
    "    print(f'{name_index = }')"
   ]
  },
  {
   "cell_type": "markdown",
   "id": "eaaaa8c2-767c-4e15-ad18-a2d4e4d1c3a7",
   "metadata": {},
   "source": [
    "## join"
   ]
  },
  {
   "cell_type": "markdown",
   "id": "406ccf4c-11d1-40ee-9dfa-4de136a4a984",
   "metadata": {},
   "source": [
    "列表元素的组合join()"
   ]
  },
  {
   "cell_type": "markdown",
   "id": "db5fbf99-f1a1-4bb4-b8a6-d85e03cb9c91",
   "metadata": {},
   "source": [
    "```python\n",
    "char.join(seq)  # seq表示参数必须是列表、元组等序列数据\n",
    "```"
   ]
  },
  {
   "cell_type": "markdown",
   "id": "b87c1284-6822-4c8b-8239-1d273a16c850",
   "metadata": {},
   "source": [
    "至于char则是组合后各元素间的分隔字符，可以是单一字符，也可以是字符串。"
   ]
  },
  {
   "cell_type": "markdown",
   "id": "5f6a918f-d73d-4dcb-ad95-bc04d1d3602e",
   "metadata": {},
   "source": [
    "### Test19"
   ]
  },
  {
   "cell_type": "code",
   "execution_count": 22,
   "id": "fac41b88-a8e3-40ba-af98-a886f27305f8",
   "metadata": {},
   "outputs": [
    {
     "name": "stdout",
     "output_type": "stream",
     "text": [
      "str1 = '张三#李四#王五#赵六'\n",
      "str2 = '张三love李四love王五love赵六'\n"
     ]
    }
   ],
   "source": [
    "names = ['张三', '李四', '王五', '赵六']\n",
    "\n",
    "# 连接列表中各个元素\n",
    "# 使用 # 特殊字符连接, 连接完毕后, 会返回一个新的字符串\n",
    "str1 = '#'.join(names)\n",
    "print(f'{str1 = }')\n",
    "\n",
    "# 使用字符串 love 将列表中各个元素实现连接\n",
    "str2 = 'love'.join(names)\n",
    "print(f'{str2 = }')"
   ]
  },
  {
   "cell_type": "markdown",
   "id": "629b8c68-caa3-4671-9b3b-69c6ee463bfe",
   "metadata": {},
   "source": [
    "## 列表内含列表"
   ]
  },
  {
   "cell_type": "markdown",
   "id": "d700ee0c-1540-40da-a542-72e840aa675c",
   "metadata": {},
   "source": [
    "* 再谈append()"
   ]
  },
  {
   "cell_type": "markdown",
   "id": "85a80350-c31d-4aa3-bceb-d28561fecf7b",
   "metadata": {},
   "source": [
    "使用append()将列表插入另一列表的末端"
   ]
  },
  {
   "cell_type": "markdown",
   "id": "4e7f42b8-57e8-4365-8737-320bde87afe8",
   "metadata": {},
   "source": [
    "### Test20"
   ]
  },
  {
   "cell_type": "code",
   "execution_count": 23,
   "id": "7e5f2bc4-f40c-44f8-8c19-c7517ea9f72e",
   "metadata": {},
   "outputs": [
    {
     "name": "stdout",
     "output_type": "stream",
     "text": [
      "name = '张三', class_ = '研究生1班', birthday = '2000/1/1'\n",
      "chinese = 99, math = 88, english = 77\n",
      "[['张三', '研究生1班', '2000/1/1'], 99, 88, 77, ['python', 100]]\n"
     ]
    }
   ],
   "source": [
    "score1 = [['张三', '研究生1班', '2000/1/1'], 99, 88, 77]    # 列表嵌套列表\n",
    "\n",
    "# 个人信息\n",
    "name = score1[0][0]\n",
    "class_ = score1[0][1]\n",
    "birthday = score1[0][2]\n",
    "print(f'{name = }, {class_ = }, {birthday = }')\n",
    "\n",
    "# 成绩信息\n",
    "chinese = score1[1]\n",
    "math = score1[2]\n",
    "english = score1[3]\n",
    "print(f'{chinese = }, {math = }, {english = }')\n",
    "\n",
    "# 再看 append()\n",
    "python = ['python', 100]\n",
    "score1.append(python)\n",
    "print(score1)"
   ]
  },
  {
   "cell_type": "markdown",
   "id": "a75eaef6-c26c-4d96-a580-2ba32377909e",
   "metadata": {},
   "source": [
    "## extend"
   ]
  },
  {
   "cell_type": "markdown",
   "id": "f1f61c9e-539f-46ea-bfad-4e0d31be9a3d",
   "metadata": {},
   "source": [
    "两个列表连接的方法extend()"
   ]
  },
  {
   "cell_type": "markdown",
   "id": "97db39de-0317-4ebb-9e7f-a71f995df29d",
   "metadata": {},
   "source": [
    "```python\n",
    "列表A.extend(列表B)  # 列表B将分解成元素插入列表A末端\n",
    "```"
   ]
  },
  {
   "cell_type": "markdown",
   "id": "86875b3a-bfc8-42c5-997a-43f39ec479b3",
   "metadata": {},
   "source": [
    "> 注：也可以参考使用 **+=** 完成相同操作"
   ]
  },
  {
   "cell_type": "markdown",
   "id": "e487ef47-f932-4377-a5b3-8bd1ddc6d2f2",
   "metadata": {},
   "source": [
    "### Test21"
   ]
  },
  {
   "cell_type": "code",
   "execution_count": 24,
   "id": "d5f0e88b-32c6-422a-a0ca-62adc0cfa485",
   "metadata": {},
   "outputs": [
    {
     "name": "stdout",
     "output_type": "stream",
     "text": [
      "[['张三', '研究生1班', '2000/1/1'], 99, 88, 77]\n",
      "[['张三', '研究生1班', '2000/1/1'], 99, 88, 77, ['李四', '研究生2班', '2000/8/8'], 66, 88, 99]\n",
      "[['张三', '研究生1班', '2000/1/1'], 99, 88, 77, ['李四', '研究生2班', '2000/8/8'], 66, 88, 99, ['王五', '研究生3班', '2000/9/9'], 55, 66, 99]\n"
     ]
    }
   ],
   "source": [
    "# 定义一个空列表\n",
    "data = []\n",
    "\n",
    "# 定义一个学生数据\n",
    "score1 = [['张三', '研究生1班', '2000/1/1'], 99, 88, 77]\n",
    "# 扩展空列表\n",
    "data.extend(score1)\n",
    "print(data)\n",
    "\n",
    "score2 = [['李四', '研究生2班', '2000/8/8'], 66, 88, 99]\n",
    "data.extend(score2)\n",
    "print(data)\n",
    "\n",
    "score3 = [['王五', '研究生3班', '2000/9/9'], 55, 66, 99]\n",
    "# += 操作与 extend() 扩展实现的操作是相同的\n",
    "data += score3\n",
    "print(data)"
   ]
  },
  {
   "cell_type": "markdown",
   "id": "3d9ec075-7451-4a12-9200-8aec6775327d",
   "metadata": {},
   "source": [
    "# Part3-列表进阶"
   ]
  },
  {
   "cell_type": "markdown",
   "id": "d5226b78-a5e6-4d43-bf8e-6ea6d1aa7757",
   "metadata": {},
   "source": [
    "## 二维列表"
   ]
  },
  {
   "cell_type": "markdown",
   "id": "901b1ea2-7ac0-444a-b565-1c9d5ec2c72b",
   "metadata": {},
   "source": [
    "二维列表（two dimension list）可以想成是二维空间。例如，下面是一个考试成绩系统的表格。\n",
    "\n",
    "|姓名|语文|英语|数学|总分|\n",
    "|---|---|---|---|---|\n",
    "|[0][0]|[0][1]|[0][2]|[0][3]|[0][4]|\n",
    "|[1][0]|[1][1]|[1][2]|[1][3]|[1][4]|\n",
    "|[2][0]|[2][1]|[2][2]|[2][3]|[2][4]|\n",
    "|[3][0]|[3][1]|[3][2]|[3][3]|[3][4]|\n",
    "|[4][0]|[4][1]|[4][2]|[4][3]|[4][4]|"
   ]
  },
  {
   "cell_type": "markdown",
   "id": "10190b10-63ca-42c5-a02f-bfcf80072bd1",
   "metadata": {},
   "source": [
    "### Test22"
   ]
  },
  {
   "cell_type": "code",
   "execution_count": 25,
   "id": "771e9991-8af6-488a-b6c6-e2463ec484b3",
   "metadata": {},
   "outputs": [
    {
     "name": "stdout",
     "output_type": "stream",
     "text": [
      "[['张三', 100, 88, 77], ['李四', 88, 77, 66], ['王五', 88, 55, 99]]\n",
      "['李四', 88, 77, 66]\n",
      "[88, 55, 99]\n"
     ]
    }
   ],
   "source": [
    "scores = [['张三', 99, 88, 77],\n",
    "          ['李四', 88, 77, 66],\n",
    "          ['王五', 88, 55, 99]]\n",
    "\n",
    "# 将张三的99修改为100\n",
    "scores[0][1] = 100\n",
    "print(scores)\n",
    "\n",
    "# 查看李四的全部信息\n",
    "info = scores[1]\n",
    "print(info)\n",
    "\n",
    "# 仅查看王五的成绩信息\n",
    "info2 = scores[2][1:]\n",
    "print(info2)"
   ]
  },
  {
   "cell_type": "markdown",
   "id": "0bb1effc-c656-42ac-bdda-a4455383cf87",
   "metadata": {},
   "source": [
    "## 列表赋值注意点"
   ]
  },
  {
   "cell_type": "markdown",
   "id": "d4c6d657-3869-48f4-949f-d82764af3c30",
   "metadata": {},
   "source": [
    "赋值的特性，一个列表更改元素会影响到另一个列表同步更改。（指向同一个地址）"
   ]
  },
  {
   "cell_type": "markdown",
   "id": "6a494abe-60a8-4d58-a610-53fea79d1ded",
   "metadata": {},
   "source": [
    "### Test23"
   ]
  },
  {
   "cell_type": "code",
   "execution_count": 26,
   "id": "33430a3c-94f8-454b-9af7-3d6ba795636e",
   "metadata": {},
   "outputs": [
    {
     "name": "stdout",
     "output_type": "stream",
     "text": [
      "my_sports = ['fitness', 'swimming', 'reading'], friend_sports = ['fitness', 'swimming', 'reading']\n",
      "my_sports = ['fitness', 'swimming', 'reading', 'running'], friend_sports = ['fitness', 'swimming', 'reading', 'running']\n"
     ]
    }
   ],
   "source": [
    "# 我的爱好\n",
    "my_sports = ['fitness', 'swimming', 'reading']\n",
    "\n",
    "# 朋友的爱好\n",
    "# 列表的直接赋值, 意味着两个列表指向的是内存的同一块空间.\n",
    "friend_sports = my_sports\n",
    "\n",
    "print(f'{my_sports = }, {friend_sports = }')\n",
    "\n",
    "# 我的朋友还有一个爱好, 喜欢跑步, 但是我不喜欢跑步, 因为跑步太累了, 哈哈哈...\n",
    "friend_sports.append('running')\n",
    "print(f'{my_sports = }, {friend_sports = }')"
   ]
  },
  {
   "cell_type": "markdown",
   "id": "abe90459-5840-4a02-a682-3cb4bba9cad4",
   "metadata": {},
   "source": [
    "## 列表的切片复制"
   ]
  },
  {
   "cell_type": "markdown",
   "id": "d6ff0ec7-b973-4829-a3fa-045fe22c0fea",
   "metadata": {},
   "source": [
    "切片复制(copy)概念是，执行复制后产生新列表对象，当一个列表改变后，不会影响另一个列表的内容。"
   ]
  },
  {
   "cell_type": "markdown",
   "id": "a43277ed-bfde-4ade-ba21-57ac41485a14",
   "metadata": {},
   "source": [
    "### Test24"
   ]
  },
  {
   "cell_type": "code",
   "execution_count": 27,
   "id": "d2ce5753-eea2-471b-9861-065fd34a24f9",
   "metadata": {},
   "outputs": [
    {
     "name": "stdout",
     "output_type": "stream",
     "text": [
      "my_sports = ['fitness', 'swimming', 'reading'], friend_sports = ['fitness', 'swimming', 'reading']\n",
      "my_sports = ['fitness', 'swimming', 'reading'], friend_sports = ['fitness', 'swimming', 'reading', 'running']\n"
     ]
    }
   ],
   "source": [
    "# 我的爱好\n",
    "my_sports = ['fitness', 'swimming', 'reading']\n",
    "\n",
    "# 朋友的爱好\n",
    "# 列表的切片复制 (两块不同的内存空间)\n",
    "friend_sports = my_sports[:]\n",
    "\n",
    "print(f'{my_sports = }, {friend_sports = }')\n",
    "\n",
    "# 我的朋友还有一个爱好, 喜欢跑步, 但是我不喜欢跑步, 因为跑步太累了, 哈哈哈...\n",
    "friend_sports.append('running')\n",
    "print(f'{my_sports = }, {friend_sports = }')"
   ]
  },
  {
   "cell_type": "markdown",
   "id": "7a37c1fc-6232-4b2b-9d0f-30aeb14abf8d",
   "metadata": {},
   "source": [
    "## 浅复制与深复制"
   ]
  },
  {
   "cell_type": "markdown",
   "id": "a45c3cd5-8b6b-444a-8f04-455378853a66",
   "metadata": {},
   "source": [
    "在程序设计时，要复制另一个列表时，除了赋值概念，其实严格说可以将复制分成浅复制（copy，shallow copy）与深复制（deep copy）"
   ]
  },
  {
   "cell_type": "markdown",
   "id": "043c1bd4-2094-438c-9c23-6a000bf2336c",
   "metadata": {},
   "source": [
    "1. 赋值：假设b=a，a和b地址相同，指向一对象彼此会连动。\n",
    "2. 浅复制：假设b=a.copy()，a和b是独立的对象，但是它们的子对象元素指向同一对象，也就是对象的子对象会连动。\n",
    "3. 深复制：假设b=deepcopy(a)，a和b以及其子对象皆是独立的对象，所以未来不受干扰，使用前需要import copy模块，这是引用外部模块。"
   ]
  },
  {
   "cell_type": "markdown",
   "id": "40f30a64-21e0-4adf-8962-040ff9027348",
   "metadata": {},
   "source": [
    "### Test25-浅复制"
   ]
  },
  {
   "cell_type": "code",
   "execution_count": 28,
   "id": "40c3b06d-018f-427a-a38e-49aa12834cd0",
   "metadata": {},
   "outputs": [
    {
     "name": "stdout",
     "output_type": "stream",
     "text": [
      "id(a) = 139764077417856, id(b) = 139764077417920\n",
      "a = [1, 2, 3, [4, 5, 6]], b = [1, 2, 3, [4, 5, 6]]\n",
      "a = [1, 2, 3, [4, 5, 6], 7], b = [1, 2, 3, [4, 5, 6]]\n",
      "a = [1, 2, 3, [4, 5, 6, 8], 7], b = [1, 2, 3, [4, 5, 6, 8]]\n"
     ]
    }
   ],
   "source": [
    "a = [1, 2, 3, [4, 5, 6]]\n",
    "# 浅复制\n",
    "b = a.copy()\n",
    "print(f'id(a) = {id(a)}, id(b) = {id(b)}')\n",
    "print(f'{a = }, {b = }')\n",
    "\n",
    "# a 和 b 是独立的对象, 外层元素不会连动\n",
    "a.append(7)\n",
    "print(f'{a = }, {b = }')\n",
    "\n",
    "# a 和 b 是独立的对象, 浅复制会造成子元素（对象）的连动\n",
    "a[3].append(8)\n",
    "print(f'{a = }, {b = }')"
   ]
  },
  {
   "cell_type": "markdown",
   "id": "22c443c1-8fee-473a-a548-cefadde4ade6",
   "metadata": {},
   "source": [
    "### Test26-深复制"
   ]
  },
  {
   "cell_type": "code",
   "execution_count": 29,
   "id": "67181145-b209-45c2-a78e-0cc14e47744e",
   "metadata": {},
   "outputs": [
    {
     "name": "stdout",
     "output_type": "stream",
     "text": [
      "id(a) = 139764077418240, id(b) = 139764077418752\n",
      "a = [1, 2, 3, [4, 5, 6]], b = [1, 2, 3, [4, 5, 6]]\n",
      "a = [1, 2, 3, [4, 5, 6], 7], b = [1, 2, 3, [4, 5, 6]]\n",
      "a = [1, 2, 3, [4, 5, 6, 8], 7], b = [1, 2, 3, [4, 5, 6]]\n"
     ]
    }
   ],
   "source": [
    "# 深复制需要先导入 import copy 模块\n",
    "import copy\n",
    "\n",
    "a = [1, 2, 3, [4, 5, 6]]\n",
    "# 深复制\n",
    "b = copy.deepcopy(a)\n",
    "print(f'id(a) = {id(a)}, id(b) = {id(b)}')\n",
    "print(f'{a = }, {b = }')\n",
    "\n",
    "# a 和 b 是独立的对象, 外层元素不会连动\n",
    "a.append(7)\n",
    "print(f'{a = }, {b = }')\n",
    "\n",
    "# a 和 b 是独立的对象, 深复制不会造成子对象的连动\n",
    "a[3].append(8)\n",
    "print(f'{a = }, {b = }')"
   ]
  },
  {
   "cell_type": "code",
   "execution_count": null,
   "id": "54266db2-043c-47e8-85e4-02def667c7a0",
   "metadata": {},
   "outputs": [],
   "source": []
  }
 ],
 "metadata": {
  "kernelspec": {
   "display_name": "Python [conda env:base] *",
   "language": "python",
   "name": "conda-base-py"
  },
  "language_info": {
   "codemirror_mode": {
    "name": "ipython",
    "version": 3
   },
   "file_extension": ".py",
   "mimetype": "text/x-python",
   "name": "python",
   "nbconvert_exporter": "python",
   "pygments_lexer": "ipython3",
   "version": "3.11.6"
  }
 },
 "nbformat": 4,
 "nbformat_minor": 5
}
