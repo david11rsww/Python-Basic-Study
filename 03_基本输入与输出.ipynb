{
 "cells": [
  {
   "cell_type": "markdown",
   "id": "8397edf6-d373-42e5-95bd-e37551f92427",
   "metadata": {},
   "source": [
    "# Python的辅助说明help()"
   ]
  },
  {
   "cell_type": "markdown",
   "id": "5c456bf2-e0dc-4ff0-9763-1e554c00c6b5",
   "metadata": {},
   "source": [
    "## help(print)的基本语法"
   ]
  },
  {
   "cell_type": "markdown",
   "id": "89704d73-e2cd-4c2b-8e4f-a1f947c0d428",
   "metadata": {},
   "source": [
    "```python\n",
    "print(*args, sep=' ', end='\\n', file=None, flush=False)\n",
    "```"
   ]
  },
  {
   "cell_type": "code",
   "execution_count": 1,
   "id": "e4e8563d-54d8-477c-a0d3-0374416c1cb4",
   "metadata": {},
   "outputs": [
    {
     "name": "stdout",
     "output_type": "stream",
     "text": [
      "Help on built-in function print in module builtins:\n",
      "\n",
      "print(*args, sep=' ', end='\\n', file=None, flush=False)\n",
      "    Prints the values to a stream, or to sys.stdout by default.\n",
      "    \n",
      "    sep\n",
      "      string inserted between values, default a space.\n",
      "    end\n",
      "      string appended after the last value, default a newline.\n",
      "    file\n",
      "      a file-like object (stream); defaults to the current sys.stdout.\n",
      "    flush\n",
      "      whether to forcibly flush the stream.\n",
      "\n"
     ]
    }
   ],
   "source": [
    "help(print)"
   ]
  },
  {
   "cell_type": "markdown",
   "id": "5f45427c-d81c-4df5-b6f8-878c12365d50",
   "metadata": {},
   "source": [
    "* *args：表示想要输出的数据，可以一次输出多个数据，各数据间以逗号隔开。\n",
    "* sep：当输入多个数据时，可以插入各个数据的分隔符，默认是一个空格字符。\n",
    "* end：当数据输出结束时所插入的字符，默认是插入换行字符，所以下一次print()函数的输出会在下一行输出。\n",
    "* file：数据输出位置，默认是sys.stdout,也就是屏幕，也可以使用此设定，将输出导入其它文件或设备。\n",
    "* flush：是否清除数据流的缓冲区，预设是不清除。"
   ]
  },
  {
   "cell_type": "markdown",
   "id": "9eabe69f-04a7-4c24-be3c-9ca191d80079",
   "metadata": {},
   "source": [
    "# 基本输出-精准格式控制"
   ]
  },
  {
   "cell_type": "markdown",
   "id": "6dcc9a83-71c7-485f-9d27-f5d63fd7e459",
   "metadata": {},
   "source": [
    "## Test01"
   ]
  },
  {
   "cell_type": "markdown",
   "id": "ffa47e0c-d579-41b3-8541-e7a821b649c2",
   "metadata": {},
   "source": [
    "使用％格式化字符串同时用print()输出"
   ]
  },
  {
   "cell_type": "markdown",
   "id": "f8332906-76e9-4c52-acbf-489a51616f40",
   "metadata": {},
   "source": [
    "```python\n",
    "print(\"...输出格式区...\"  % （变量系列区, ... ))\n",
    "```"
   ]
  },
  {
   "cell_type": "markdown",
   "id": "6c38b9e5-5f58-4580-8735-644fcadda226",
   "metadata": {},
   "source": [
    "* %d：格式化整数输出\n",
    "* %f：格式化浮点数输出\n",
    "* %x：格式化十六进制整数输出\n",
    "* %X：格式化大写十六进制整数输出\n",
    "* %o：格式化八进制整数输出\n",
    "* %s：格式化字符串输出\n",
    "* %e：格式化科学计数法e的输出\n",
    "* %E：格式化科学计数法大写E的输出"
   ]
  },
  {
   "cell_type": "code",
   "execution_count": 2,
   "id": "55f7e0e1-434e-4ffc-bb18-06d1272531fa",
   "metadata": {},
   "outputs": [
    {
     "name": "stdout",
     "output_type": "stream",
     "text": [
      "x=/   100/\n",
      "y=/ 10.50/\n",
      "z=/Python/\n",
      "----------\n",
      "x=/100/\n",
      "y=/10.50/\n",
      "z=/Python/\n"
     ]
    }
   ],
   "source": [
    "x = 100\n",
    "print(\"x=/%6d/\" % x)\n",
    "\n",
    "y = 10.5\n",
    "print(\"y=/%6.2f/\" % y)\n",
    "\n",
    "z = \"Python\"\n",
    "print(\"z=/%6s/\" % z)\n",
    "\n",
    "# 如果空间格数不足, 则会完整显示\n",
    "print('-' * 10)\n",
    "print(\"x=/%2d/\" % x)\n",
    "print(\"y=/%3.2f/\" % y)\n",
    "print(\"z=/%2s/\" % z)"
   ]
  },
  {
   "cell_type": "markdown",
   "id": "de512970-4115-4f80-8499-ca91aa1d0689",
   "metadata": {},
   "source": [
    "* %(+l-)nd：格式化整数输出\n",
    "* %(+l-)m.nf：格式化浮点数输出\n",
    "* ％(+l-)n×：格式化十六进制整数输出\n",
    "* ％(+l-)no：格式化八进制整数输出\n",
    "* %(-)ns：格式化字符串输出\n",
    "* %(-)m.ns：m是输出字符串宽度，n是显示字符串长度，n小于字符串长度时会有所裁剪字符串的效果\n",
    "* %(+l-)e：格式化科学计数法e输出\n",
    "* ％(+l-)E：格式化科学计数法大写E输出\n",
    "\n",
    "对浮点数而言，m代表保留多少格数供输出（包含小数点)，n则是小数数据保留格数。至于其它的数据格式n则是保留多少个数空间。\n",
    "1. 如果保留格数空间不足将完整输出数据，如果保留格数空间太多则数据靠右对齐。\n",
    "2. 如果格式化数值数据或字符串数据加上负号（-），表示保留格数空间有多时，数据将靠左输出，\n",
    "3. 如果格式化数值数据或字符串数据加上正号（+），表示输出数据是正值时，将在坐标加上正值符号。"
   ]
  },
  {
   "cell_type": "markdown",
   "id": "3b2d68a9-4b96-41fc-bad1-5bc8990e3683",
   "metadata": {},
   "source": [
    "## Test02"
   ]
  },
  {
   "cell_type": "code",
   "execution_count": 3,
   "id": "87b2df5d-c41e-472f-9f8e-f542134e6015",
   "metadata": {},
   "outputs": [
    {
     "name": "stdout",
     "output_type": "stream",
     "text": [
      "x=/100     /\n",
      "y=/10.50   /\n",
      "z=/Python  /\n",
      "--------------------\n",
      "x=/    +100/\n",
      "y=/  +10.50/\n",
      "z=/  Python/\n"
     ]
    }
   ],
   "source": [
    "x = 100\n",
    "print(\"x=/%-8d/\" % x)  # /：边界  -：左对齐  %-8d：精准格式控制\n",
    "\n",
    "y = 10.5\n",
    "print(\"y=/%-8.2f/\" % y)\n",
    "\n",
    "z = \"Python\"\n",
    "print(\"z=/%-8s/\" % z)\n",
    "\n",
    "print('-' * 20)\n",
    "print(\"x=/%+8d/\" % x)\n",
    "print(\"y=/%+8.2f/\" % y)\n",
    "print(\"z=/%+8s/\" % z)"
   ]
  },
  {
   "cell_type": "markdown",
   "id": "5a64e0ac-81b3-4932-9a15-425f50809afa",
   "metadata": {},
   "source": [
    "## Test03-科学计数"
   ]
  },
  {
   "cell_type": "code",
   "execution_count": 4,
   "id": "214f9536-acfd-4c18-a15a-c422ed963a85",
   "metadata": {},
   "outputs": [
    {
     "name": "stdout",
     "output_type": "stream",
     "text": [
      "/   1.2e+07/\n",
      "/  1.23E+07/\n",
      "/1.23E+07  /\n",
      "/ +1.23E+07/\n"
     ]
    }
   ],
   "source": [
    "x = 12345678\n",
    "print(\"/%10.1e/\" % x)\n",
    "print(\"/%10.2E/\" % x) # 保留2位小数点\n",
    "print(\"/%-10.2E/\" % x)  # -：左对齐\n",
    "print(\"/%+10.2E/\" % x)  # +：正数，默认还是右对齐"
   ]
  },
  {
   "cell_type": "markdown",
   "id": "2128f024-efa8-4a46-b5e4-25c26ad05135",
   "metadata": {},
   "source": [
    "## Test04"
   ]
  },
  {
   "cell_type": "code",
   "execution_count": 5,
   "id": "0953fb32-8dfc-4015-a91b-1de42849c03b",
   "metadata": {},
   "outputs": [
    {
     "name": "stdout",
     "output_type": "stream",
     "text": [
      "姓名  中文  英文  总分\n",
      "张三   98   90  188\n",
      "李四   96   95  191\n",
      "王五   92   88  180\n",
      "赵六   93   97  190\n"
     ]
    }
   ],
   "source": [
    "print(\"姓名  中文  英文  总分\")\n",
    "print(\"%2s %4d %4d %4d\" % (\"张三\", 98, 90, 188))  # 精准格式控制输出\n",
    "print(\"%2s %4d %4d %4d\" % (\"李四\", 96, 95, 191))\n",
    "print(\"%2s %4d %4d %4d\" % (\"王五\", 92, 88, 180))\n",
    "print(\"%2s %4d %4d %4d\" % (\"赵六\", 93, 97, 190))"
   ]
  },
  {
   "cell_type": "markdown",
   "id": "915bfc9b-8124-4b10-8cfd-345c66545bb0",
   "metadata": {},
   "source": [
    "# 基本输出-format函数"
   ]
  },
  {
   "cell_type": "markdown",
   "id": "c32581b9-a620-4f28-aa29-6c7ca2238fae",
   "metadata": {},
   "source": [
    "## Test05"
   ]
  },
  {
   "cell_type": "markdown",
   "id": "6a1e2fee-2cfd-497b-8199-f4c7cdaec316",
   "metadata": {},
   "source": [
    "{}和format()函数。{}可以理解为占位符。"
   ]
  },
  {
   "cell_type": "markdown",
   "id": "2fbb0ab5-91a0-4f4c-9543-78e410c32efe",
   "metadata": {},
   "source": [
    "```python\n",
    "print(\"...输出格式区...\".format(变量系列区，...))\n",
    "print(\"...输出格式区...\".format(*args))\n",
    "```"
   ]
  },
  {
   "cell_type": "code",
   "execution_count": 6,
   "id": "1b294b84-f881-4941-9167-80cce4c82bc0",
   "metadata": {},
   "outputs": [
    {
     "name": "stdout",
     "output_type": "stream",
     "text": [
      "Jack你的第1次Python考试成绩是90\n",
      "Jack你的第1次Python考试成绩是90\n",
      "Jack你的第1次Python考试成绩是90\n"
     ]
    }
   ],
   "source": [
    "score = 90\n",
    "name = \"Jack\"\n",
    "count = 1\n",
    "\n",
    "print('{}你的第{}次Python考试成绩是{}'.format(name, count, score))\n",
    "print(\"{0}你的第{1}次Python考试成绩是{2}\".format(name, count, score))\n",
    "print(\"{n}你的第{c}次Python考试成绩是{s}\".format(n=name, c=count, s=score))"
   ]
  },
  {
   "cell_type": "markdown",
   "id": "7ea28f19-a781-4a5b-a0bc-c60496fec1f8",
   "metadata": {},
   "source": [
    "## Test06"
   ]
  },
  {
   "cell_type": "markdown",
   "id": "f2e7522b-3933-42de-8d15-b70224f239b6",
   "metadata": {},
   "source": [
    "练习：计算圆面积，同时格式化输出。\n",
    "\n",
    "对齐方式与填充字符。\n",
    "\n",
    "* \\>：靠右对齐，\n",
    "* <：靠左对齐，\n",
    "* ^：置中对齐。"
   ]
  },
  {
   "cell_type": "code",
   "execution_count": 7,
   "id": "c497be97-8f10-461b-82e4-35cf68f5a7da",
   "metadata": {},
   "outputs": [
    {
     "name": "stdout",
     "output_type": "stream",
     "text": [
      "/半径  5圆的面积是     78.54/\n",
      "/半径  5圆的面积是     78.54/\n",
      "/半径5  圆的面积是78.54     /\n",
      "/半径 5 圆的面积是  78.54   /\n"
     ]
    }
   ],
   "source": [
    "# 计算圆的面积\n",
    "\n",
    "r = 5\n",
    "PI = 3.1415926\n",
    "area = PI * r * r\n",
    "\n",
    "print(\"/半径{0:3d}圆的面积是{1:10.2f}/\".format(r, area))    # 默认靠右\n",
    "print(\"/半径{0:>3d}圆的面积是{1:>10.2f}/\".format(r, area))  # > : 靠右\n",
    "print(\"/半径{0:<3d}圆的面积是{1:<10.2f}/\".format(r, area))  # < ：靠左\n",
    "print(\"/半径{0:^3d}圆的面积是{1:^10.2f}/\".format(r, area))  # ^ ：居中"
   ]
  },
  {
   "cell_type": "markdown",
   "id": "796519ec-1459-48fb-a82d-ad7ab6685619",
   "metadata": {},
   "source": [
    "## Test07"
   ]
  },
  {
   "cell_type": "markdown",
   "id": "0f4c441a-7c2b-4d7c-a17e-dd440b0af271",
   "metadata": {},
   "source": [
    "{}和format()的优点：使用python处理网络爬虫会碰上的网址，设计更简洁，易懂和不易出错。"
   ]
  },
  {
   "cell_type": "code",
   "execution_count": 8,
   "id": "377f4b04-fb73-4881-9006-34cf04710663",
   "metadata": {},
   "outputs": [
    {
     "name": "stdout",
     "output_type": "stream",
     "text": [
      "https://www.baidu.com/json?city=beijing&radius=1000&type=school\n"
     ]
    }
   ],
   "source": [
    "url = \"https://www.baidu.com/json?city=\"  # url：网络资源定位符\n",
    "city = 'beijing'\n",
    "r = 1000\n",
    "type = 'school'\n",
    "\n",
    "# https://www.baidu.com/json?city=beijing&radius=1000&type=school\n",
    "print(url + \"{}&radius={}&type={}\".format(city, r, type))"
   ]
  },
  {
   "cell_type": "markdown",
   "id": "a332f861-11c2-44db-9a0d-a13e8a3dc307",
   "metadata": {},
   "source": [
    "## Test08"
   ]
  },
  {
   "cell_type": "markdown",
   "id": "3c5aa8b9-eaaa-4591-aa46-009fc5618213",
   "metadata": {},
   "source": [
    "我们也可以在format()内使用具体名称的参数。"
   ]
  },
  {
   "cell_type": "code",
   "execution_count": 9,
   "id": "ca20d5d6-e770-41f7-9322-ac8e9e1b7a00",
   "metadata": {},
   "outputs": [
    {
     "name": "stdout",
     "output_type": "stream",
     "text": [
      "/*******南极旅游讲座*******/\n",
      "/*******南极旅游讲座*******/\n"
     ]
    }
   ],
   "source": [
    "# 控制的同时可以指定留白填充的内容\n",
    "\n",
    "title = \"南极旅游讲座\"\n",
    "\n",
    "print(\"/{0:*^20s}/\".format(title))\n",
    "print(\"/{:*^20s}/\".format(title))"
   ]
  },
  {
   "cell_type": "markdown",
   "id": "b1ea5de4-4aba-47a3-99e5-3ec8c88d35a8",
   "metadata": {},
   "source": [
    "# 基本输出-fstring格式控制"
   ]
  },
  {
   "cell_type": "markdown",
   "id": "844f40af-6027-41e8-8982-4c979a9ede6e",
   "metadata": {},
   "source": [
    "## Test09"
   ]
  },
  {
   "cell_type": "markdown",
   "id": "1da86a76-a435-4b4a-b7dd-40900aef590e",
   "metadata": {},
   "source": [
    "f-strings增加了一个快捷方式可以打印变量名称和它的值，方法是在{}内增加=符号。优点是执行程序不易出错，可以由此掌握变量数据。\n",
    "\n",
    "这个方法以f为前缀，在大括号{}内放置变量名称和表达式。"
   ]
  },
  {
   "cell_type": "code",
   "execution_count": 10,
   "id": "ae953ecd-bed7-4d4b-97a9-45aa7098ba96",
   "metadata": {},
   "outputs": [
    {
     "name": "stdout",
     "output_type": "stream",
     "text": [
      "大家好, 我叫Jack\n",
      "https://www.baidu.com/json?city=beijing&radius=1000&type=school\n",
      "https://www.baidu.com/json?city=beijing&radius=1000&type=school\n"
     ]
    }
   ],
   "source": [
    "name = \"Jack\"\n",
    "print(f'大家好, 我叫{name}')\n",
    "\n",
    "url = \"https://www.baidu.com/json?city=\"\n",
    "city = 'beijing'\n",
    "r = 1000\n",
    "type = 'school'\n",
    "\n",
    "# https://www.baidu.com/json?city=beijing&radius=1000&type=school\n",
    "print(url + f\"{city}&radius={r}&type={type}\")\n",
    "print(url + f'{city}&radius={r}&type={type}')"
   ]
  },
  {
   "cell_type": "markdown",
   "id": "75b6d945-b7ea-4c30-af9b-9a89f2d4b290",
   "metadata": {},
   "source": [
    "## Test10"
   ]
  },
  {
   "cell_type": "markdown",
   "id": "c427107b-4588-4ac5-9759-bcb607a071f2",
   "metadata": {},
   "source": [
    "此外，也可以在等号右边增加:符号与对齐方式的参数。"
   ]
  },
  {
   "cell_type": "code",
   "execution_count": 11,
   "id": "c7960b01-ccd6-4d55-a105-56ad190ade05",
   "metadata": {},
   "outputs": [
    {
     "name": "stdout",
     "output_type": "stream",
     "text": [
      "/半径 5 圆的面积是  78.54   /\n"
     ]
    }
   ],
   "source": [
    "r = 5\n",
    "PI = 3.1415926\n",
    "area = PI * r * r\n",
    "\n",
    "print(f\"/半径{r:^3d}圆的面积是{area:^10.2f}/\")"
   ]
  },
  {
   "cell_type": "markdown",
   "id": "aefb6813-bf4a-44bb-a761-55e057f9648b",
   "metadata": {},
   "source": [
    "## Test11"
   ]
  },
  {
   "cell_type": "code",
   "execution_count": 12,
   "id": "a384905f-60b4-4611-a00d-4a647f1d4082",
   "metadata": {},
   "outputs": [
    {
     "name": "stdout",
     "output_type": "stream",
     "text": [
      "city = beijing\n",
      "city = 'beijing'\n",
      "city = 'beijing'\n",
      "x =    666    \n"
     ]
    }
   ],
   "source": [
    "city = 'beijing'\n",
    "\n",
    "print(f'city = {city}')\n",
    "print(f\"{city = }\")  # 新特性，不用写变量名称，非常简洁，省去了变量名称\n",
    "print(f'{city = }')\n",
    "\n",
    "x = 666\n",
    "print(f\"{x = :^10d}\")"
   ]
  },
  {
   "cell_type": "markdown",
   "id": "7db6657d-170c-4034-88c2-369d7cc46786",
   "metadata": {},
   "source": [
    "# 基本输出-将数据输出到文件"
   ]
  },
  {
   "cell_type": "markdown",
   "id": "763a9ca5-2d00-445d-a8da-39e8ae3df821",
   "metadata": {},
   "source": [
    "## Test12"
   ]
  },
  {
   "cell_type": "markdown",
   "id": "b8bdd561-dc6f-4e2e-8060-71d0bdff87b3",
   "metadata": {},
   "source": [
    "open()函数可以打开一个文件供读取或写入。如果这个函数执行成功，会回传文件对象。"
   ]
  },
  {
   "cell_type": "markdown",
   "id": "d7c69a8b-ab65-4fa8-9c24-cf087d8d31a1",
   "metadata": {},
   "source": [
    "```python\n",
    "file_Obj = open(file, mode=\"r\")   # 左边只列出最常用的2个参数\n",
    "file_Obj.close()\n",
    "```"
   ]
  },
  {
   "cell_type": "markdown",
   "id": "0f6a2084-5697-4b23-bb51-d3bd7afbf6d6",
   "metadata": {},
   "source": [
    "file：用字符串列出欲打开的文件，如果不指定则开启目前工作文件夹。\n",
    "\n",
    "mode：打开文件的模式，如果省略，代表是mode=\"r\"，使用时如果mode=\"w\"或其他，也可以省略mode=，直接写w，也可以同时具有多项模式，例如：\"wb\"代表以二进制文件打开供写入可以是下列基本模式。\n",
    "\n",
    "* r：这是预设，打开文件供读取（read）。\n",
    "* w：打开文件供写入如果原先文件有内容将被覆盖。\n",
    "* a：打开文件供写入如果原先文件有内容，新写入数据将附加在后面。\n",
    "* ×：打开一个新的文件供写入如果所打开的文件已经存在会产生错误。\n",
    "\n",
    "\n",
    "下列是第二个字母的意义，代表文件类型：\n",
    "* b：打开二进制文件模式。\n",
    "* t：打开**文本文件**模式，这是默认的。\n",
    "\n",
    "fiIe-0bj：文件对象，自行给与名称，未来print()函数可以将输出导向此对象，不使用时要关闭file_Obj.close()，才可以返回操作系统的文件管理器观察执行结果。"
   ]
  },
  {
   "cell_type": "code",
   "execution_count": 13,
   "id": "5b895efe-dc3f-4220-8137-5b10e47e7301",
   "metadata": {},
   "outputs": [],
   "source": [
    "# 将输出数据写入到文件中\n",
    "\n",
    "# 打开文件 (路径 + 文件名称)\n",
    "# mode='wt' 表示写入文本文件, 每次执行都会覆盖调之前文件的内容\n",
    "fstream1 = open(r'./tmp_files/output1.txt', mode='wt', encoding='utf-8')  # r：原生字符串，取消转义，默认mode是读  t: 文本模式\n",
    "print(\"Testing for output\", file=fstream1)\n",
    "# 关闭文件\n",
    "fstream1.close()\n",
    "\n",
    "# mode='a' 在文件中拼接新的数据, 不会造成原有数据的覆盖\n",
    "fstream2 = open(r'./tmp_files/output2.txt', mode='a', encoding='utf-8')  # a: 拼接\n",
    "print(\"Testing for output\", file=fstream2)\n",
    "fstream2.close()"
   ]
  },
  {
   "cell_type": "markdown",
   "id": "372dcff6-8eda-4256-bcbe-a191862bd339",
   "metadata": {},
   "source": [
    "# 基本输入-input()函数"
   ]
  },
  {
   "cell_type": "markdown",
   "id": "06f9719c-2e01-4cdb-8b87-c9cfdddbb897",
   "metadata": {},
   "source": [
    "## Test13"
   ]
  },
  {
   "cell_type": "markdown",
   "id": "249f3de3-9ca1-480a-9384-5d68c4b8ffdb",
   "metadata": {},
   "source": [
    "数据输入input()。"
   ]
  },
  {
   "cell_type": "markdown",
   "id": "d3dee315-32e5-439a-b8f7-526b03a03a70",
   "metadata": {},
   "source": [
    "```python\n",
    "value = input(\"prompt: \")\n",
    "```"
   ]
  },
  {
   "cell_type": "markdown",
   "id": "64b8ec27-f0cc-4a63-b9d6-38ef49af883f",
   "metadata": {},
   "source": [
    "input()函数与print()函数功能相反，这个函数会从屏幕读取用户从键盘输入的数据。\n",
    "\n",
    "特别注意所有输入的数据不论是字符串或是数值数据返回到value时一律是字符串数据，如果要执行数学运算需要用int()函数转换为整数。"
   ]
  },
  {
   "cell_type": "code",
   "execution_count": 14,
   "id": "c2c661af-ebed-4d8b-95c8-2d52dadc8360",
   "metadata": {},
   "outputs": [
    {
     "name": "stdin",
     "output_type": "stream",
     "text": [
      "请输入姓名:  david\n",
      "请输入成绩:  88\n"
     ]
    },
    {
     "name": "stdout",
     "output_type": "stream",
     "text": [
      "name = 'david', score = '88'\n"
     ]
    },
    {
     "ename": "TypeError",
     "evalue": "'str' object is not callable",
     "output_type": "error",
     "traceback": [
      "\u001b[0;31m---------------------------------------------------------------------------\u001b[0m",
      "\u001b[0;31mTypeError\u001b[0m                                 Traceback (most recent call last)",
      "Cell \u001b[0;32mIn[14], line 5\u001b[0m\n\u001b[1;32m      2\u001b[0m score \u001b[38;5;241m=\u001b[39m \u001b[38;5;28minput\u001b[39m(\u001b[38;5;124m\"\u001b[39m\u001b[38;5;124m请输入成绩: \u001b[39m\u001b[38;5;124m\"\u001b[39m)\n\u001b[1;32m      4\u001b[0m \u001b[38;5;28mprint\u001b[39m(\u001b[38;5;124mf\u001b[39m\u001b[38;5;124m'\u001b[39m\u001b[38;5;132;01m{\u001b[39;00mname\u001b[38;5;250m \u001b[39m\u001b[38;5;132;01m= }\u001b[39;00m\u001b[38;5;124m, \u001b[39m\u001b[38;5;132;01m{\u001b[39;00mscore\u001b[38;5;250m \u001b[39m\u001b[38;5;132;01m= }\u001b[39;00m\u001b[38;5;124m'\u001b[39m)\n\u001b[0;32m----> 5\u001b[0m \u001b[38;5;28mprint\u001b[39m(\u001b[38;5;28;43mtype\u001b[39;49m\u001b[43m(\u001b[49m\u001b[43mname\u001b[49m\u001b[43m)\u001b[49m, \u001b[38;5;28mtype\u001b[39m(score))  \u001b[38;5;66;03m# 2个数据全是str\u001b[39;00m\n",
      "\u001b[0;31mTypeError\u001b[0m: 'str' object is not callable"
     ]
    }
   ],
   "source": [
    "name = input(\"请输入姓名: \")\n",
    "score = input(\"请输入成绩: \")\n",
    "\n",
    "print(f'{name = }, {score = }')\n",
    "print(type(name), type(score))  # 2个数据全是str"
   ]
  },
  {
   "cell_type": "markdown",
   "id": "b2926cbe-baa9-48d4-b4d0-28960546b00b",
   "metadata": {},
   "source": [
    "## Test14"
   ]
  },
  {
   "cell_type": "code",
   "execution_count": 16,
   "id": "0b7dc78a-5c16-4c58-8655-e6982b3a09e3",
   "metadata": {},
   "outputs": [
    {
     "name": "stdout",
     "output_type": "stream",
     "text": [
      "欢迎使用成绩输入系统\n"
     ]
    },
    {
     "name": "stdin",
     "output_type": "stream",
     "text": [
      "请输入姓名:  david\n",
      "请输入英语成绩:  95\n",
      "请输入数学成绩:  96\n"
     ]
    },
    {
     "name": "stdout",
     "output_type": "stream",
     "text": [
      "david : 总分是 191\n"
     ]
    }
   ],
   "source": [
    "print(\"欢迎使用成绩输入系统\")\n",
    "name = input(\"请输入姓名: \")\n",
    "\n",
    "# 说明 : input() 函数返回的数据类型是字符串类型, 如果要进行数学运算,一定要实现类型转换\n",
    "english = input(\"请输入英语成绩: \")\n",
    "math = input(\"请输入数学成绩: \")\n",
    "\n",
    "# english = int(input(\"请输入英语成绩: \"))\n",
    "# math = int(input(\"请输入数学成绩: \"))\n",
    "\n",
    "# english = input(\"请输入英语成绩: \")\n",
    "# math = input(\"请输入数学成绩: \")\n",
    "# english = int(english)\n",
    "# math = int(math)\n",
    "\n",
    "# total_score = english + math # 不进行转换就是字符串拼接\n",
    "total_score = int(english) + int(math)\n",
    "print(f'{name} : 总分是 {total_score}')"
   ]
  },
  {
   "cell_type": "markdown",
   "id": "360fb761-2ea1-429f-b0e0-d02419927d48",
   "metadata": {},
   "source": [
    "# 基本输入-eval()函数"
   ]
  },
  {
   "cell_type": "markdown",
   "id": "5d2965db-a682-413b-a93f-a6e25ba1561d",
   "metadata": {},
   "source": [
    "Python内有一个非常好用的计算数学表达式的函数eval()，这个函数可以将字符串str当成有效的表达式来求值并返回计算结果。"
   ]
  },
  {
   "cell_type": "markdown",
   "id": "d6a0e4ef-1df6-4103-a40d-a581a77a32a0",
   "metadata": {},
   "source": [
    "处理字符串的数学运算eval()。"
   ]
  },
  {
   "cell_type": "markdown",
   "id": "c9d25114-0831-49ef-884c-6f241fcea54e",
   "metadata": {},
   "source": [
    "```python\n",
    "result = eval(expression)\n",
    "```"
   ]
  },
  {
   "cell_type": "markdown",
   "id": "ebc69fe6-60c5-40d5-a38d-5250780ecb4f",
   "metadata": {},
   "source": [
    "## Test15"
   ]
  },
  {
   "cell_type": "code",
   "execution_count": 17,
   "id": "996e14f4-4f1a-4bd3-856b-71b200ea1b20",
   "metadata": {
    "scrolled": true
   },
   "outputs": [
    {
     "name": "stdin",
     "output_type": "stream",
     "text": [
      "请输入数值公式:  5*8+2.5\n"
     ]
    },
    {
     "name": "stdout",
     "output_type": "stream",
     "text": [
      "计算结果为:  42.50\n"
     ]
    },
    {
     "name": "stdin",
     "output_type": "stream",
     "text": [
      "请输入三个数字, 并用逗号分隔:  1,2,3\n"
     ]
    },
    {
     "name": "stdout",
     "output_type": "stream",
     "text": [
      "1 2 3\n",
      "hello world\n"
     ]
    }
   ],
   "source": [
    "result = input(\"请输入数值公式: \")\n",
    "# eval() 实现数值运算\n",
    "result = eval(result)  # 输入 5*8+2.5，直接完成数学运算，并将计算结果返回\n",
    "print(f'计算结果为: {result : 5.2f}')  # 保留2位小数\n",
    "\n",
    "# 多变量输入\n",
    "n1, n2, n3 = eval(input(\"请输入三个数字, 并用逗号分隔: \"))\n",
    "print(n1, n2, n3)\n",
    "\n",
    "# 直接解析字符串, 并给出对应的执行结果, 如果有错误, 程序则会产生异常.\n",
    "eval('print(\"hello world\")')"
   ]
  },
  {
   "cell_type": "markdown",
   "id": "032c99a9-b884-4c6d-b1d3-7e1db4256992",
   "metadata": {},
   "source": [
    "# 基本输入输出实例"
   ]
  },
  {
   "cell_type": "markdown",
   "id": "4df54c51-8876-48d4-bdbe-06944df4d4a0",
   "metadata": {},
   "source": [
    "## Test16-华氏转摄氏度\n",
    "\n",
    "设计摄氏温度和华氏温度的转换\n",
    "\n",
    "摄氏温度 =（华氏温度 - 32）* 5 / 9\n",
    "\n",
    "华氏温度 = 摄氏温度 * 9 / 5+32\n",
    "\n",
    "摄氏温度(Celsius，C)的由来是在标准大气压环境，水的凝固点是0℃，沸点是100℃中间划分100等份，每个等份是1℃这样命名是为了纪念瑞典\n",
    "科学家安德斯·摄尔修斯(Anderscelsius)。\n",
    "\n",
    "华氏温度(Fahrenheit，F)的由来是在标准大气压环境，水的凝固点是32℉，水的沸点是212℉，中间划分180等分每个等份是℉，这是为了纪念德国\n",
    "科学家丹尼尔·加布里埃尔·华伦海特（Denie丨GabrielFahrenheit)。"
   ]
  },
  {
   "cell_type": "code",
   "execution_count": 18,
   "id": "055c705c-acad-446c-b1e0-c83c0ad8cb58",
   "metadata": {},
   "outputs": [
    {
     "name": "stdin",
     "output_type": "stream",
     "text": [
      "请输入华氏温度:  63\n"
     ]
    },
    {
     "name": "stdout",
     "output_type": "stream",
     "text": [
      "华氏63等于摄氏 17.2\n"
     ]
    }
   ],
   "source": [
    "f = input(\"请输入华氏温度: \")\n",
    "c = (int(f) - 32) * 5/9\n",
    "print(f\"华氏{f}等于摄氏{c : 4.1f}\")"
   ]
  },
  {
   "cell_type": "markdown",
   "id": "95b8c15e-9704-4441-a356-6f9e5c6684d3",
   "metadata": {},
   "source": [
    "## Test17-房屋贷款问题"
   ]
  },
  {
   "cell_type": "markdown",
   "id": "20680cb7-c4b4-4694-a16d-e97191164a03",
   "metadata": {},
   "source": [
    "处理这个贷款问题的数学公式如下。\n",
    "\n",
    "$$\n",
    "每月还款金额=\\frac{贷款金额 \\times 月利率}{1-\\frac{1}{(1+月利率)^{贷款年限 \\times 12}}}\n",
    "$$"
   ]
  },
  {
   "cell_type": "code",
   "execution_count": 19,
   "id": "5cca251f-be06-4fc7-ab3f-c30466b590e3",
   "metadata": {
    "scrolled": true
   },
   "outputs": [
    {
     "name": "stdin",
     "output_type": "stream",
     "text": [
      "请输入贷款金额:  2000\n",
      "请输入年限:  2\n",
      "请输入月利率:  5\n"
     ]
    },
    {
     "name": "stdout",
     "output_type": "stream",
     "text": [
      "loan = 2000, year = 2, rate = 5, month_rate = 0.05\n",
      "每月还款金额:  144.94\n",
      "总还款金额:  3478.60\n"
     ]
    }
   ],
   "source": [
    "# 贷款金额\n",
    "loan = eval(input('请输入贷款金额: '))\n",
    "# 贷款年限\n",
    "year = eval(input('请输入年限: '))\n",
    "# 贷款利率\n",
    "rate = eval(input('请输入月利率: '))\n",
    "\n",
    "# 将年利率转换为月利率, 注意转换为百分比\n",
    "month_rate = rate / 100\n",
    "print(f'{loan = }, {year = }, {rate = }, {month_rate = }')\n",
    "\n",
    "# 分子 = 贷款金额 * 月利率\n",
    "molecules = loan * month_rate\n",
    "# 分母 = 1 - (1 / (1 + 月利率)^(贷款年限 * 12))\n",
    "denominator = 1 - (1 / (1 + month_rate) ** (year * 12))\n",
    "# 每月还款金额\n",
    "monthly_pay = molecules / denominator\n",
    "# 总还款金额\n",
    "total_pay = monthly_pay * year * 12\n",
    "\n",
    "print(f'每月还款金额: {monthly_pay : .2f}')\n",
    "print(f'总还款金额: {total_pay : .2f}')"
   ]
  },
  {
   "cell_type": "markdown",
   "id": "9a11cba3-b195-40b5-9a6f-6e4b3cd99058",
   "metadata": {},
   "source": [
    "## Test18-正五边形问题"
   ]
  },
  {
   "cell_type": "markdown",
   "id": "85224510-d4e3-46d8-9269-3e93de3ff030",
   "metadata": {},
   "source": [
    "假设五边形边长是s，其面积的计算公式如下。\n",
    "$$\n",
    "\\text { area }=\\frac{5 * s^2}{4 * \\tan \\left(\\frac{\\pi}{5}\\right)}\n",
    "$$"
   ]
  },
  {
   "cell_type": "code",
   "execution_count": 20,
   "id": "8827cebe-68ce-48d6-9080-af4ca7b0d3ff",
   "metadata": {},
   "outputs": [
    {
     "name": "stdin",
     "output_type": "stream",
     "text": [
      "请输入正五边形边长:  4\n"
     ]
    },
    {
     "name": "stdout",
     "output_type": "stream",
     "text": [
      "area = 27.52763840942347\n"
     ]
    }
   ],
   "source": [
    "import math     # 导入数学模块\n",
    "\n",
    "# 边长\n",
    "s = eval(input('请输入正五边形边长: '))\n",
    "# 分子 = 5 * 边长^2\n",
    "molecules = 5 * s ** 2\n",
    "# 分母 = 4 * tan(pi/5)\n",
    "denominator = 4 * math.tan(math.pi / 5)\n",
    "# 面积\n",
    "area = molecules / denominator\n",
    "\n",
    "print(f'{area = }')"
   ]
  },
  {
   "cell_type": "markdown",
   "id": "1f46e40b-1529-43a9-a265-0b1406dc20f8",
   "metadata": {},
   "source": [
    "## Test19-鸡兔同笼-解朕立方程式"
   ]
  },
  {
   "cell_type": "markdown",
   "id": "ee08e320-0666-4409-850e-b35838dfe1eb",
   "metadata": {},
   "source": [
    "今有鸡免同上有三十而头，下有百足问鸡兔各几何？  \n",
    "\n",
    "这是古代的数学问题，表示一个笼子里有35个头，100只脚，然后问里面有几只鸡与几只兔子。\n",
    "\n",
    "鸡有1个头，2只脚，兔子有1个头4只脚我们可以使用基础学解此题目，也可以使循环此题目，我们将使用基数学的联立方程式解此题目。\n",
    "\n",
    "注意：并不是每个输入皆可以获得解答，必须是合理的数字。"
   ]
  },
  {
   "cell_type": "code",
   "execution_count": 2,
   "id": "7609fbef-a226-4d8b-9e8e-e7f69840e1de",
   "metadata": {},
   "outputs": [
    {
     "name": "stdin",
     "output_type": "stream",
     "text": [
      "请输入头的数量: 2\n",
      "请输入脚的数量: 10\n"
     ]
    },
    {
     "name": "stdout",
     "output_type": "stream",
     "text": [
      "<class 'int'>\n",
      "chicken = -1.0, rabbit = 3.0\n"
     ]
    }
   ],
   "source": [
    "# x(chicken)   y(rabbit)\n",
    "# x + y = 35        x = 35 - y\n",
    "# 2x + 4y = 100     2(35-y) + 4y = 100  可以解得: y=15, x=20\n",
    "\n",
    "# x + y = head      => x = 2head - foot/2\n",
    "# 2x + 4y = foot    => y = foot/2 - head\n",
    "\n",
    "# 定义变量, 接收用户的输入\n",
    "head = eval(input('请输入头的数量:'))\n",
    "foot = eval(input('请输入脚的数量:'))\n",
    "\n",
    "print(type(head))\n",
    "\n",
    "chicken = 2 * head - foot / 2\n",
    "rabbit = foot / 2 - head\n",
    "\n",
    "print(f'{chicken = }, {rabbit = }')"
   ]
  },
  {
   "cell_type": "markdown",
   "id": "7406dc48-63b9-481c-b407-c138da3231e6",
   "metadata": {},
   "source": [
    "## Test20-高斯数学（计算等差数列和）"
   ]
  },
  {
   "cell_type": "markdown",
   "id": "67383ce1-ca86-48c4-9b39-6e94bbae863b",
   "metadata": {},
   "source": [
    "约翰·卡尔·弗里德里斯·高斯（JohannKarIFriedrichGauss，1777—1855）是德国数学家。他在9岁时就发明了等差数列求和的计算技巧，在很短的时间内计算了1～100的整数和。使用的方法是将第1个数字与最后一个数字相加得到101，将第2个数字与倒数第2个数字相加得到101，然后以此类推，可以得到50个101，然后执行50*101，最后得到解答。\n",
    "\n",
    "实例：使用等差数列计算1~100的总和。"
   ]
  },
  {
   "cell_type": "code",
   "execution_count": 4,
   "id": "e2a55560-0a21-4307-828a-341a20fce9de",
   "metadata": {},
   "outputs": [
    {
     "name": "stdin",
     "output_type": "stream",
     "text": [
      "请输入开始的数字:  1\n",
      "请输入结束的数字:  100\n"
     ]
    },
    {
     "name": "stdout",
     "output_type": "stream",
     "text": [
      "1到100的总和为: 5050.0\n"
     ]
    }
   ],
   "source": [
    "# 定义两个变量, 用于接收用户的开始数字与结束数字的输入\n",
    "starting = eval(input('请输入开始的数字: '))    # 1\n",
    "ending = eval(input('请输入结束的数字: '))      # 100\n",
    "\n",
    "# 高斯等差数列的公式  (开始 + 结束) * (结束 - 开始 + 1) / 2\n",
    "sum = (starting+ending) * (ending-starting+1) / 2\n",
    "\n",
    "print(f'{starting}到{ending}的总和为: {sum}')"
   ]
  },
  {
   "cell_type": "code",
   "execution_count": null,
   "id": "e88cbbc1-adad-4392-9ea1-2a15f2c74c8c",
   "metadata": {},
   "outputs": [],
   "source": []
  }
 ],
 "metadata": {
  "kernelspec": {
   "display_name": "Python [conda env:base] *",
   "language": "python",
   "name": "conda-base-py"
  },
  "language_info": {
   "codemirror_mode": {
    "name": "ipython",
    "version": 3
   },
   "file_extension": ".py",
   "mimetype": "text/x-python",
   "name": "python",
   "nbconvert_exporter": "python",
   "pygments_lexer": "ipython3",
   "version": "3.11.6"
  }
 },
 "nbformat": 4,
 "nbformat_minor": 5
}
