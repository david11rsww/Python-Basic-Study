{
 "cells": [
  {
   "cell_type": "markdown",
   "id": "41973cba-4dc0-4476-8f0b-081c89bd8a97",
   "metadata": {},
   "source": [
    "# 字符串索引"
   ]
  },
  {
   "cell_type": "markdown",
   "id": "90bdc2cb-891a-4027-ac6b-058aa23372f2",
   "metadata": {},
   "source": [
    "在Pyhton的应用中可以将单一字符串当作一个序列，这个序列由字符（character）组成，可以想成字符序列。不过字符串与列表不同的是，字符串内的单一元素内容是不可更改的。  \n",
    "\n",
    "字符串的索引，可用下标直接操作。  \n",
    "\n",
    "字符串切片操作方式与列表切片相同。  "
   ]
  },
  {
   "cell_type": "markdown",
   "id": "3bdcf781-02f8-4e4d-accb-9d1aa33ea3b0",
   "metadata": {},
   "source": [
    "## Test01"
   ]
  },
  {
   "cell_type": "code",
   "execution_count": 1,
   "id": "023f24c7-4f47-42e7-8ff4-a899a1a74eca",
   "metadata": {
    "jp-MarkdownHeadingCollapsed": true
   },
   "outputs": [
    {
     "name": "stdout",
     "output_type": "stream",
     "text": [
      "str[0] = 'P', str[1] = 'y', str[2] = 't'\n",
      "str[-1] = 'n', str[-2] = 'o', str[-3] = 'h'\n",
      "P y t h o n\n"
     ]
    }
   ],
   "source": [
    "str = 'Python'\n",
    "\n",
    "# 正值索引\n",
    "print(f'{str[0] = }, {str[1] = }, {str[2] = }')\n",
    "\n",
    "# 负值索引\n",
    "print(f'{str[-1] = }, {str[-2] = }, {str[-3] = }')\n",
    "\n",
    "# 多重定义的观念\n",
    "s1, s2, s3, s4, s5, s6 = str  # str有6个字符\n",
    "print(s1, s2, s3, s4, s5, s6)"
   ]
  },
  {
   "cell_type": "markdown",
   "id": "5b094e0a-cc00-41bc-a1ba-f72edf7f5416",
   "metadata": {},
   "source": [
    "## Test02"
   ]
  },
  {
   "cell_type": "code",
   "execution_count": 2,
   "id": "317d3c37-f461-4ccd-a428-aa434c24e847",
   "metadata": {},
   "outputs": [
    {
     "name": "stdout",
     "output_type": "stream",
     "text": [
      "Pyt\n",
      "hon\n",
      "Pto\n",
      "nhy\n"
     ]
    }
   ],
   "source": [
    "# 字符序列的切片\n",
    "str = \"Python\"\n",
    "\n",
    "print(f'{str[0:3]}')\n",
    "print(f'{str[3:]}')\n",
    "print(f'{str[::2]}')\n",
    "print(f'{str[::-2]}')"
   ]
  },
  {
   "cell_type": "markdown",
   "id": "cb2946a0-4677-49b9-bbcb-eec2620f410c",
   "metadata": {},
   "source": [
    "# 函数或方法"
   ]
  },
  {
   "cell_type": "markdown",
   "id": "a40a2461-e0ef-451a-a6a1-150a61161d1a",
   "metadata": {},
   "source": [
    "|函数|说明|\n",
    "|--|--|\n",
    "|len()|计算字符串长度|\n",
    "|max()|最大值|\n",
    "|min()|最小值|"
   ]
  },
  {
   "cell_type": "markdown",
   "id": "f02aaa05-9a01-4d08-aafb-89a30aed24ab",
   "metadata": {},
   "source": [
    "## Test03"
   ]
  },
  {
   "cell_type": "code",
   "execution_count": 3,
   "id": "71aa0a25-9383-44bd-b2e2-2d5141e4774f",
   "metadata": {},
   "outputs": [
    {
     "name": "stdout",
     "output_type": "stream",
     "text": [
      "len_ = 6\n",
      "max_ = 'y', ord(max_) = 121\n",
      "min_ = 'P', ord(min_) = 80\n"
     ]
    }
   ],
   "source": [
    "# 字符序列的最大值, 最小值, 长度\n",
    "str = 'Python'\n",
    "\n",
    "len_ = len(str)\n",
    "print(f'{len_ = }')\n",
    "\n",
    "max_ = max(str)\n",
    "min_ = min(str)\n",
    "# 默认内置编码是Unicode编码，前128个字符同时也支持ASCII编码\n",
    "print(f'{max_ = }, ord(max_) = {ord(max_)}')  # ord()：Return the Unicode code point for a one-character string\n",
    "print(f'{min_ = }, ord(min_) = {ord(min_)}')"
   ]
  },
  {
   "cell_type": "markdown",
   "id": "1439e961-0d4b-4331-9a6a-55f7a34605b7",
   "metadata": {},
   "source": [
    "# 把字符串转为列表"
   ]
  },
  {
   "cell_type": "markdown",
   "id": "0161a0fe-e7c4-4f26-983a-0909a766bf08",
   "metadata": {},
   "source": [
    "字符串本身无法用切片方式更改内容，但是将字符串改为列表后，就可以使用切片更改列表内容了。"
   ]
  },
  {
   "cell_type": "markdown",
   "id": "6e2677bb-3250-4cf0-8347-af9dbdc0c2fc",
   "metadata": {},
   "source": [
    "## Test04"
   ]
  },
  {
   "cell_type": "code",
   "execution_count": 4,
   "id": "6c3614d9-002d-49c8-85f7-d553937db3c1",
   "metadata": {},
   "outputs": [
    {
     "name": "stdout",
     "output_type": "stream",
     "text": [
      "str_list = ['P', 'y', 't', 'h', 'o', 'n']\n",
      "str_list = ['P', 'y', 't', 'h', 'o', 'n', 'AI']\n",
      "str_list = ['P', 'y', 't', 'h', 'o', 'n', 'A', 'I']\n"
     ]
    }
   ],
   "source": [
    "str = 'Python'\n",
    "\n",
    "# 字符串中的元素无法更改\n",
    "# str[0]='p'  # TypeError: 'str' object does not support item assignment\n",
    "\n",
    "# 将字符串转换为列表\n",
    "str_list = list(str)\n",
    "print(f'{str_list = }')\n",
    "\n",
    "# 拼接\n",
    "str_list.append('AI')  # 2个字符当做一个元素\n",
    "print(f'{str_list = }')\n",
    "\n",
    "# 切片赋值\n",
    "str_list[6:] = 'AI' # 2个元素\n",
    "print(f'{str_list = }')"
   ]
  },
  {
   "cell_type": "markdown",
   "id": "d717676c-d325-457b-afe2-74692524bdc1",
   "metadata": {},
   "source": [
    "# 使用split()分割字符串"
   ]
  },
  {
   "cell_type": "markdown",
   "id": "59568526-6605-4cbb-83d9-ad812b57ae5e",
   "metadata": {},
   "source": [
    "```python\n",
    "str1.split(）    # 以空格当作分隔符将字符串拆开成列表\n",
    "str2.split(ch)  # 以ch字符当作分隔符将字符串拆开成列表\n",
    "```"
   ]
  },
  {
   "cell_type": "markdown",
   "id": "1bdf9932-4f61-46cb-a4d9-08d9b7d3f4e0",
   "metadata": {},
   "source": [
    "## Test05"
   ]
  },
  {
   "cell_type": "code",
   "execution_count": 5,
   "id": "c30e1ef3-d986-49d0-b34d-03aec147620c",
   "metadata": {},
   "outputs": [
    {
     "name": "stdout",
     "output_type": "stream",
     "text": [
      "['张三', '李四', '王五', '赵六']\n",
      "['张三', '李四', '王五', '赵六']\n"
     ]
    }
   ],
   "source": [
    "names1 = '张三 李四 王五 赵六'\n",
    "\n",
    "# 切割字符串\n",
    "name_list1 = names1.split()    # 如果多于一个空格Python也可以当做一个空格处理，非常智能\n",
    "print(name_list1)\n",
    "\n",
    "names2 = '张三#李四#王五#赵六'\n",
    "\n",
    "# 切割字符串\n",
    "name_list2 = names2.split(\"#\")\n",
    "print(name_list2)"
   ]
  },
  {
   "cell_type": "markdown",
   "id": "ac7bda36-569c-455d-bdf6-2708636d41a3",
   "metadata": {},
   "source": [
    "# 列表元素的组合join()"
   ]
  },
  {
   "cell_type": "markdown",
   "id": "9933a939-51d7-4ea4-a496-e82b2b912265",
   "metadata": {},
   "source": [
    "在网络爬虫设计的程序应用中，我们可能会常常使用join()方法将所获得的路径与文件名组合。"
   ]
  },
  {
   "cell_type": "markdown",
   "id": "4fb96115-15f1-4dd8-b31b-9fa25db4fe08",
   "metadata": {},
   "source": [
    "```python\n",
    "连接字符串.join(列表)\n",
    "```"
   ]
  },
  {
   "cell_type": "markdown",
   "id": "2af0034d-ff1e-46eb-ab6e-1d650c452861",
   "metadata": {},
   "source": [
    "## Test06"
   ]
  },
  {
   "cell_type": "code",
   "execution_count": 6,
   "id": "ca485e7e-b518-47ab-ae7d-2a962a62e596",
   "metadata": {},
   "outputs": [
    {
     "name": "stdout",
     "output_type": "stream",
     "text": [
      "PythonAI\n",
      "C:\\Users\\xxx\\Desktop\\xxx.jpg\n"
     ]
    }
   ],
   "source": [
    "str_list = ['P', 'y', 't', 'h', 'o', 'n', 'A', 'I']\n",
    "\n",
    "# join() 连接 / 结合\n",
    "str = \"\".join(str_list)\n",
    "print(str)\n",
    "\n",
    "path = ['C:', 'Users', 'xxx', 'Desktop', 'xxx.jpg']\n",
    "absolute_path = \"\\\\\".join(path)  # 反斜杠本身是作为转义字符\n",
    "print(absolute_path)"
   ]
  },
  {
   "cell_type": "markdown",
   "id": "51b290b7-66e7-4c15-85cf-d55bc81c62fd",
   "metadata": {},
   "source": [
    "# 字符串的搜索与索引"
   ]
  },
  {
   "cell_type": "markdown",
   "id": "461b1500-7f4c-415a-9609-b78820d39bd8",
   "metadata": {},
   "source": [
    "```python\n",
    "str.find()      # 从头找寻子字符串，如果找到，回传第一次出现索引：如果没找到，回传-1。  \n",
    "str.rfind(）    # 从尾找寻子字符串，如果找到，回传最后出现索引；如果没找到，回传-1。  r：right  \n",
    "str.index(）    # 从头找寻子字符串，如果找到，回传第一次出现索引：如果没找到，产生例外错误。  \n",
    "str.rindex(）   # 从尾找寻子字符串，如果找到，回传最后出现索引：如果没找到，产生例外错误。  \n",
    "str.count(）    #  列出子字符串出现次数。  \n",
    "str.isalnum(）  # 判断字符串是否只有字母或数字。 \n",
    "```"
   ]
  },
  {
   "cell_type": "markdown",
   "id": "4bbbb157-9a6e-4188-bcd3-22aa714c6f71",
   "metadata": {},
   "source": [
    "## Test07"
   ]
  },
  {
   "cell_type": "code",
   "execution_count": 7,
   "id": "e3312b87-9290-4f55-aa5f-96828f47c345",
   "metadata": {},
   "outputs": [
    {
     "name": "stdout",
     "output_type": "stream",
     "text": [
      "index = 0\n",
      "rindex = 23\n",
      "idx = -1\n"
     ]
    }
   ],
   "source": [
    "str = 'abcdefghijklmnabcopqrstabcxyz'\n",
    "\n",
    "# find() 查找子串的方法\n",
    "index = str.find('abc')\n",
    "print(f'{index = }')\n",
    "\n",
    "rindex = str.rfind('abc')\n",
    "print(f'{rindex = }')\n",
    "\n",
    "# 如果子串不存在, 则返回 -1\n",
    "idx = str.find('666')\n",
    "print(f'{idx = }')"
   ]
  },
  {
   "cell_type": "markdown",
   "id": "6671c1bb-0678-48d5-9368-5dea12716109",
   "metadata": {},
   "source": [
    "## Test08"
   ]
  },
  {
   "cell_type": "code",
   "execution_count": 8,
   "id": "cb018a23-2a9a-4647-b867-1c29f6f1255c",
   "metadata": {},
   "outputs": [
    {
     "name": "stdout",
     "output_type": "stream",
     "text": [
      "index = 0\n",
      "rindex = 23\n"
     ]
    },
    {
     "ename": "ValueError",
     "evalue": "substring not found",
     "output_type": "error",
     "traceback": [
      "\u001b[0;31m---------------------------------------------------------------------------\u001b[0m",
      "\u001b[0;31mValueError\u001b[0m                                Traceback (most recent call last)",
      "Cell \u001b[0;32mIn[8], line 12\u001b[0m\n\u001b[1;32m      8\u001b[0m \u001b[38;5;28mprint\u001b[39m(\u001b[38;5;124mf\u001b[39m\u001b[38;5;124m'\u001b[39m\u001b[38;5;132;01m{\u001b[39;00mrindex\u001b[38;5;250m \u001b[39m\u001b[38;5;132;01m= }\u001b[39;00m\u001b[38;5;124m'\u001b[39m)\n\u001b[1;32m     10\u001b[0m \u001b[38;5;66;03m# 如果子串不存在, 则程序报错.\u001b[39;00m\n\u001b[1;32m     11\u001b[0m \u001b[38;5;66;03m# ValueError: substring not found\u001b[39;00m\n\u001b[0;32m---> 12\u001b[0m idx \u001b[38;5;241m=\u001b[39m \u001b[38;5;28;43mstr\u001b[39;49m\u001b[38;5;241;43m.\u001b[39;49m\u001b[43mindex\u001b[49m\u001b[43m(\u001b[49m\u001b[38;5;124;43m'\u001b[39;49m\u001b[38;5;124;43m666\u001b[39;49m\u001b[38;5;124;43m'\u001b[39;49m\u001b[43m)\u001b[49m\n\u001b[1;32m     13\u001b[0m \u001b[38;5;28mprint\u001b[39m(\u001b[38;5;124mf\u001b[39m\u001b[38;5;124m'\u001b[39m\u001b[38;5;132;01m{\u001b[39;00midx\u001b[38;5;250m \u001b[39m\u001b[38;5;132;01m= }\u001b[39;00m\u001b[38;5;124m'\u001b[39m)\n",
      "\u001b[0;31mValueError\u001b[0m: substring not found"
     ]
    }
   ],
   "source": [
    "str = 'abcdefghijklmnabcopqrstabcxyz'\n",
    "\n",
    "# index() 查找子串的方法\n",
    "index = str.index('abc')\n",
    "print(f'{index = }')\n",
    "\n",
    "rindex = str.rindex('abc')\n",
    "print(f'{rindex = }')\n",
    "\n",
    "# 如果子串不存在, 则程序报错.\n",
    "# ValueError: substring not found\n",
    "idx = str.index('666')\n",
    "print(f'{idx = }')"
   ]
  },
  {
   "cell_type": "markdown",
   "id": "e9078e73-c4c0-46d1-be62-7ecb0f0a3e2d",
   "metadata": {},
   "source": [
    "## Test09"
   ]
  },
  {
   "cell_type": "code",
   "execution_count": 9,
   "id": "6edd19eb-be10-42ab-8209-9edc9b4ea476",
   "metadata": {},
   "outputs": [
    {
     "name": "stdout",
     "output_type": "stream",
     "text": [
      "count = 3\n",
      "result = False\n"
     ]
    }
   ],
   "source": [
    "str = 'abcdefghijklmnabcopqrstabcxyz#666'\n",
    "\n",
    "# 子串出现的次数\n",
    "count = str.count('abc')  # count不是内置函数，而是对象的方法，因此可以作为变量名而不会发生冲突，sum下行\n",
    "print(f'{count = }')\n",
    "\n",
    "# 判断原字符串是否仅有字母与数字\n",
    "result = str.isalnum()\n",
    "print(f'{result = }')"
   ]
  },
  {
   "cell_type": "markdown",
   "id": "d0ad2dc3-6941-4d39-8b2d-28cd467a0268",
   "metadata": {},
   "source": [
    "# 字符串的其他方法"
   ]
  },
  {
   "cell_type": "markdown",
   "id": "b28f0776-3e32-4606-b4d4-7bf5133f7d1a",
   "metadata": {},
   "source": [
    "startswith(）：可以列出字符串开始文字是否是特定子字符串。  \n",
    "endswith(）：可以列出字符串结束文字是否是特定子字符串。  \n",
    "replace(ch1, ch2)：将ch2字符串由另一字符串取代。  "
   ]
  },
  {
   "cell_type": "markdown",
   "id": "ae819593-cdf0-47f9-837e-3de21e8e6802",
   "metadata": {},
   "source": [
    "## Test10"
   ]
  },
  {
   "cell_type": "code",
   "execution_count": 10,
   "id": "1fbef4d9-e623-4ff9-bd5c-b6fe054b2c8b",
   "metadata": {},
   "outputs": [
    {
     "name": "stdout",
     "output_type": "stream",
     "text": [
      "protocol=True, page=False\n",
      "path = 'https://www.baidu.com/s?wd=Python'\n",
      "replace_str = 'https://www.baidu.com/s?wd=.html'\n"
     ]
    }
   ],
   "source": [
    "path = 'https://www.baidu.com/s?wd=Python'\n",
    "\n",
    "# 是否以指定字符开头\n",
    "protocol = path.startswith('https://')\n",
    "\n",
    "# 是否以指定字符结尾\n",
    "page = path.endswith('.html')\n",
    "\n",
    "print(f'{protocol=}, {page=}')\n",
    "\n",
    "# 字符内容替换 (字符串本身是常量)\n",
    "# 如果字符串内容被修改了, 说明一定有新的字符串返回\n",
    "replace_str = path.replace('Python', '.html')\n",
    "\n",
    "# 修改后的字符串结果作为新字符串返回\n",
    "print(f'{path = }')  # 原来的字符串并未修改，字符串本身是常量，无法修改；如果修改了，一定会有新的字符串返回\n",
    "print(f'{replace_str = }')"
   ]
  },
  {
   "cell_type": "markdown",
   "id": "40c52fec-915e-4e9e-a03f-43d7624c2da1",
   "metadata": {},
   "source": [
    "# in和not in表达式"
   ]
  },
  {
   "cell_type": "markdown",
   "id": "13d1584b-3988-4ab7-a91c-d75f55278cdf",
   "metadata": {},
   "source": [
    "主要用于判断一个对象是否属于另一个对象，对象可以是字符串（string），列表(list)，元组(tuple)，字典(dict)。"
   ]
  },
  {
   "cell_type": "markdown",
   "id": "273c5ec9-3757-4a7e-9830-1166cf90b733",
   "metadata": {},
   "source": [
    "```python\n",
    "bool_va1ue = obj1 in Obj2        # 对象obj1在对象obj2内会回传True\n",
    "bool_value = obj1 not in obj2    # 对象obj1不在对象obj2内会回传True\n",
    "```"
   ]
  },
  {
   "cell_type": "markdown",
   "id": "b914b3b4-d960-4ed6-afd4-35afe32a2630",
   "metadata": {},
   "source": [
    "## Test11"
   ]
  },
  {
   "cell_type": "code",
   "execution_count": 11,
   "id": "c5fb310b-789c-411c-9f96-7c4f249073f9",
   "metadata": {},
   "outputs": [
    {
     "name": "stdin",
     "output_type": "stream",
     "text": [
      "请输入你的名称:  张三\n"
     ]
    },
    {
     "name": "stdout",
     "output_type": "stream",
     "text": [
      "张三已存在于列表中.\n",
      "['张三', '李四', '王五', '赵六']\n"
     ]
    }
   ],
   "source": [
    "accounts = ['张三', '李四', '王五', '赵六']\n",
    "\n",
    "user = input('请输入你的名称: ')\n",
    "\n",
    "# 判断\n",
    "if user in accounts:\n",
    "    print(f'{user}已存在于列表中.')\n",
    "else:\n",
    "    print(f'{user}不存在.')\n",
    "    # 添加\n",
    "    accounts.append(user)\n",
    "    print(f'{user}添加成功!')\n",
    "\n",
    "print(accounts)"
   ]
  },
  {
   "cell_type": "markdown",
   "id": "f989dca1-5790-444e-86c8-5a037481f83b",
   "metadata": {},
   "source": [
    "# is或is not表达式"
   ]
  },
  {
   "cell_type": "markdown",
   "id": "644e90f9-016e-4028-8d6b-6699ca5e720b",
   "metadata": {},
   "source": [
    "```python\n",
    "bool_value = obj1 is obj2         # 对象objl等于对象obj2会回传True\n",
    "bool_value = obj1 is not obj2     # 对象obj1不等于对象obj2会回传True\n",
    "```"
   ]
  },
  {
   "cell_type": "markdown",
   "id": "ceb5d79e-21df-420b-9fae-358264fd8e80",
   "metadata": {},
   "source": [
    "可以用于比较两个对象是否相同，在此所谓相同并不只是内容相同，而是指对象变量指向相同的内存，对象可以是变量，字符串，列表，元组，字典。  \n",
    "\n",
    "整型变量在内存地址的观察，整型数值相同，则内存也相同。  \n",
    "\n",
    "不同地址的列表会被视为不同的列表。  \n",
    "\n",
    "将is应用在None，None是一个尚未定义的值，这是NoneType数据类型，在布尔值中会被视为False，但其并不是空值。（空类型也是一个对象，并非什么都没有）"
   ]
  },
  {
   "cell_type": "markdown",
   "id": "65f323cd-96ab-44fd-83fe-1a835d951157",
   "metadata": {},
   "source": [
    "## Test12"
   ]
  },
  {
   "cell_type": "code",
   "execution_count": 12,
   "id": "c33f1bca-09ae-4987-af9d-604c94110e0c",
   "metadata": {},
   "outputs": [
    {
     "name": "stdout",
     "output_type": "stream",
     "text": [
      "id(a) = 94622610107592, id(b) = 94622610107592, r1 = True\n",
      "id(s1) = 94622609681856, id(s2) = 94622609681856, rs = True\n",
      "id(list1) = 140118275609536, id(list2) = 140118275609152, r2 = False\n"
     ]
    }
   ],
   "source": [
    "a = 10\n",
    "b = 10\n",
    "\n",
    "r1 = a is b\n",
    "print(f'id(a) = {id(a)}, id(b) = {id(b)}, {r1 = }')\n",
    "\n",
    "s1 = 'abc'\n",
    "s2 = 'abc'\n",
    "\n",
    "rs = s1 is s2\n",
    "print(f'id(s1) = {id(s1)}, id(s2) = {id(s2)}, {rs = }')  # 相同的数据（整型与字符串）只占用一块内存空间\n",
    "\n",
    "list1 = [1, 2, 3, 4, 5]\n",
    "list2 = [1, 2, 3, 4, 5]\n",
    "\n",
    "# is 判断的是内存地址\n",
    "r2 = list1 is list2\n",
    "print(f'id(list1) = {id(list1)}, id(list2) = {id(list2)}, {r2 = }')"
   ]
  },
  {
   "cell_type": "markdown",
   "id": "f53961bc-1b78-48f3-a416-6b13a9daff81",
   "metadata": {},
   "source": [
    "## Test13"
   ]
  },
  {
   "cell_type": "code",
   "execution_count": 13,
   "id": "b868d277-e9f7-4a1a-a970-5aaa73667fef",
   "metadata": {},
   "outputs": [
    {
     "name": "stdout",
     "output_type": "stream",
     "text": [
      "id(a) = 94622610107592, id(b) = 94622610107912\n",
      "id(c) = 94622610108232\n",
      "id(c) = 94622610107592\n"
     ]
    }
   ],
   "source": [
    "a = 10\n",
    "b = 20\n",
    "\n",
    "print(f'id(a) = {id(a)}, id(b) = {id(b)}')\n",
    "\n",
    "c = 30\n",
    "print(f'id(c) = {id(c)}')\n",
    "\n",
    "c = 10\n",
    "print(f'id(c) = {id(c)}')"
   ]
  },
  {
   "cell_type": "markdown",
   "id": "1ddc7978-05f4-4eb8-867f-5e72547d07e2",
   "metadata": {},
   "source": [
    "## Test14"
   ]
  },
  {
   "cell_type": "code",
   "execution_count": 14,
   "id": "65b4807a-7ce0-4adf-93f8-210502c55847",
   "metadata": {},
   "outputs": [
    {
     "name": "stdout",
     "output_type": "stream",
     "text": [
      "140118280894656\n",
      "x不为None\n"
     ]
    }
   ],
   "source": [
    "# 列表为空, 在内存中有空间, 但没有元素\n",
    "# 空列表不是 None, None在Python中也是一个对象, 有其对应的类型, 类型为 Nonetype\n",
    "x = []\n",
    "\n",
    "# x 在内存中有地址 (空间)\n",
    "print(id(x))\n",
    "\n",
    "# del x\n",
    "# print(id(x))\n",
    "\n",
    "if x is None:\n",
    "    print('x为None')  # None是未定义，不存在\n",
    "else:\n",
    "    print('x不为None')"
   ]
  },
  {
   "cell_type": "markdown",
   "id": "1bcfe714-9ae5-4026-961f-8ece7c7fd010",
   "metadata": {},
   "source": [
    "# enumerate对象"
   ]
  },
  {
   "cell_type": "markdown",
   "id": "04924043-1e00-427b-a850-c23d9d8773c3",
   "metadata": {},
   "source": [
    "enumerate()方法可以将iterable（迭代）类数值的元素用索引值与元素配对方式回传，返回的数据称enumerate对象，用这个方式可以为可迭代对象的每个元素增加索引值，这对未来的数据应用是有帮助的，其中iterable类数值可以是列表，元组，集合等。"
   ]
  },
  {
   "cell_type": "markdown",
   "id": "6f892abb-fa96-4702-9f00-76c72f0d18a6",
   "metadata": {},
   "source": [
    "```python\n",
    "obj enumerate(iterable[，start = 0]) # 若省略start = 设定，默认索引值是0\n",
    "```"
   ]
  },
  {
   "cell_type": "markdown",
   "id": "b98e0e4f-8d84-4f33-b425-8eb68102795d",
   "metadata": {},
   "source": [
    "## Test15"
   ]
  },
  {
   "cell_type": "code",
   "execution_count": 15,
   "id": "d7785a0d-a4f4-43c6-aa48-ee757bf1855d",
   "metadata": {},
   "outputs": [
    {
     "name": "stdout",
     "output_type": "stream",
     "text": [
      "names = ['张三', '李四', '王五', '赵六']\n",
      "enumerate_names = <enumerate object at 0x7f6fd40c9d50>\n",
      "[(10, '张三'), (11, '李四'), (12, '王五'), (13, '赵六')]\n"
     ]
    }
   ],
   "source": [
    "names = ['张三', '李四', '王五', '赵六']\n",
    "print(f'{names = }')\n",
    "\n",
    "# 将列表转换为 enumerate 对象, 可以使用 enumerate 对象的开始索引值, 如果不设置, 默认为 0\n",
    "enumerate_names = enumerate(names, start=10)    # 默认开始索引值是0\n",
    "print(f'{enumerate_names = }')\n",
    "\n",
    "# print(enumerate_names) # 无法直接展示内容\n",
    "# 将 enumerate 对象转换为 list 类型\n",
    "print(list(enumerate_names))"
   ]
  },
  {
   "cell_type": "markdown",
   "id": "91210b90-3b63-40e6-85c2-57d0daa4c082",
   "metadata": {},
   "source": [
    "# 制作大型列表"
   ]
  },
  {
   "cell_type": "markdown",
   "id": "a29453a8-a170-41f2-acf0-119fb8329b4b",
   "metadata": {},
   "source": [
    "例如：列表的元素是列表。"
   ]
  },
  {
   "cell_type": "markdown",
   "id": "94b711c2-cc84-438a-a681-cb77ebf41b76",
   "metadata": {},
   "source": [
    "## Test16"
   ]
  },
  {
   "cell_type": "code",
   "execution_count": 16,
   "id": "3ba4bf39-9d1b-429c-9a22-a03149293759",
   "metadata": {},
   "outputs": [
    {
     "name": "stdout",
     "output_type": "stream",
     "text": [
      "[['张三', '李四', '王五', '赵六'], ['刘德华', '张学友', '黎明', '郭富城'], ['西施', '貂蝉', '杨玉环', '王昭君']]\n"
     ]
    }
   ],
   "source": [
    "class1 = ['张三', '李四', '王五', '赵六']\n",
    "class2 = ['刘德华', '张学友', '黎明', '郭富城']\n",
    "class3 = ['西施', '貂蝉', '杨玉环', '王昭君']\n",
    "\n",
    "school = [class1, class2, class3]\n",
    "print(school)"
   ]
  },
  {
   "cell_type": "markdown",
   "id": "993e0dc8-7180-4ee3-a3f3-a90f9622d9fb",
   "metadata": {},
   "source": [
    "# 用户账号管理系统"
   ]
  },
  {
   "cell_type": "markdown",
   "id": "21411312-b82a-4bf0-9904-ab1499e85968",
   "metadata": {},
   "source": [
    "一个公司或学校的计算机系统，一定有一个账号管理，要进入系统需要登入账号，如果你是这个单位设计账号管理系统的人，可以将账号存储在列表内，然后未来可以使用in功能判断用户输入账号是否正确。"
   ]
  },
  {
   "cell_type": "markdown",
   "id": "8c0c9e08-555c-4daf-8786-6a254d698496",
   "metadata": {},
   "source": [
    "## Test17"
   ]
  },
  {
   "cell_type": "code",
   "execution_count": 19,
   "id": "5494da14-d543-4106-a1bd-269be5c85acc",
   "metadata": {},
   "outputs": [
    {
     "name": "stdin",
     "output_type": "stream",
     "text": [
      "请选择注册(1)或登录(2):  2\n",
      "请输入您的登录账号:  李四\n"
     ]
    },
    {
     "name": "stdout",
     "output_type": "stream",
     "text": [
      "欢迎进入系统: 李四\n"
     ]
    }
   ],
   "source": [
    "accounts = ['张三', '李四', '王五', '赵六']\n",
    "\n",
    "choice = input('请选择注册(1)或登录(2): ')\n",
    "\n",
    "# 判断\n",
    "if choice == '1':\n",
    "    user = input('请输入您的注册名称: ')\n",
    "    accounts.append(user)\n",
    "    print(accounts)\n",
    "elif choice == '2':\n",
    "    user = input('请输入您的登录账号: ')\n",
    "    # 判断是否存在该账号\n",
    "    if user in accounts:\n",
    "        print(f'欢迎进入系统: {user}')\n",
    "    else:\n",
    "        print('该账号为登记,请先注册.')\n",
    "else:\n",
    "    # 默认处理\n",
    "    print('操作有误!')"
   ]
  },
  {
   "cell_type": "markdown",
   "id": "552506f6-2d0c-4812-b8b5-a6ba41d82538",
   "metadata": {},
   "source": [
    "# 凯撒密码"
   ]
  },
  {
   "cell_type": "markdown",
   "id": "1d63c0aa-3d00-43ca-9d38-8ba571c21d4b",
   "metadata": {},
   "source": [
    "公元前约50年凯撒被公认发明了凯撒密码，主要是防止部队传送的信息遭到敌方读取。   \n",
    "凯撒密码的加密概念是将每个英文字母往后移，对应至不同字母，只要记住所对应的字母，未来就可以解密。  \n",
    "例如：将每个英文字母往后移3位，将A对应D，B对应E，C对应F...X对应A，Y对应B，Z对应C。  "
   ]
  },
  {
   "cell_type": "markdown",
   "id": "d93a5e48-0dba-465b-ae84-cbc32dd56798",
   "metadata": {},
   "source": [
    "![](img/kaisa.jpg)"
   ]
  },
  {
   "cell_type": "markdown",
   "id": "1c979e55-67a1-4ad2-993c-2ce01be25198",
   "metadata": {},
   "source": [
    "## Test18"
   ]
  },
  {
   "cell_type": "code",
   "execution_count": 20,
   "id": "61893b1c-651f-4104-b5c4-7b23e8d9c2ea",
   "metadata": {},
   "outputs": [
    {
     "name": "stdout",
     "output_type": "stream",
     "text": [
      "ABCDEFGHIJKLMNOPQRSTUVWXYZ\n",
      "DEFGHIJKLMNOPQRSTUVWXYZABC\n"
     ]
    }
   ],
   "source": [
    "# fight\n",
    "str = 'ABCDEFGHIJKLMNOPQRSTUVWXYZ'\n",
    "print(str)\n",
    "\n",
    "front3 = str[:3]\n",
    "end23 = str[3:]\n",
    "str2 = end23 + front3\n",
    "# 加密文\n",
    "print(str2)\n",
    "\n",
    "# RSA"
   ]
  },
  {
   "cell_type": "code",
   "execution_count": null,
   "id": "0d7d5236-2900-4eb3-955f-a1df97c83652",
   "metadata": {},
   "outputs": [],
   "source": []
  }
 ],
 "metadata": {
  "kernelspec": {
   "display_name": "Python [conda env:base] *",
   "language": "python",
   "name": "conda-base-py"
  },
  "language_info": {
   "codemirror_mode": {
    "name": "ipython",
    "version": 3
   },
   "file_extension": ".py",
   "mimetype": "text/x-python",
   "name": "python",
   "nbconvert_exporter": "python",
   "pygments_lexer": "ipython3",
   "version": "3.11.6"
  }
 },
 "nbformat": 4,
 "nbformat_minor": 5
}
