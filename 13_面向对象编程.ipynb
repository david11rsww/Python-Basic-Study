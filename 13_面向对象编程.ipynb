{
 "cells": [
  {
   "cell_type": "markdown",
   "id": "20aca228-e9c6-426a-b03a-8b9b2a59ad5b",
   "metadata": {},
   "source": [
    "# 面向对象入门"
   ]
  },
  {
   "cell_type": "markdown",
   "id": "788592f5-98ed-486e-af30-067dd8600a27",
   "metadata": {},
   "source": [
    "## 类的定义与使⽤"
   ]
  },
  {
   "cell_type": "markdown",
   "id": "70b2f422-4b75-46fd-a049-f5b7d683b278",
   "metadata": {},
   "source": [
    "* 在Python中, 可以⽤⼦类和⽗类来刻画事物, ⼤的更⼀般的类看作⽗类, 包含在其中的特殊的类是⼦类, ⼦类与⽗类的关系是: ⼦类对象 **is a** ⽗类对象。\n",
    "* 类是对具有相同属性和⾏为的同⼀类对象的抽象描述, 其内部包括**属性**和**⾏为**两个主要部分.\n",
    "* Python中使⽤**对象名, 属性**和**操作**三要素来描述对象.\n",
    "* 每个对象都是所属类的⼀个**实例**。"
   ]
  },
  {
   "cell_type": "markdown",
   "id": "c745f140-8ace-4ec6-9a10-3893f499edb9",
   "metadata": {},
   "source": [
    "面向对象的思想中提出两个概念，即**类和对象**。类是对某一类事物的抽象描述，而对象用于表示现实中该类事物的个体。**对象是根据类创建的**，并且通过一个类可以创建多个对象。  \n",
    "\n",
    "> 可以理解为类就是对象的设计图纸。"
   ]
  },
  {
   "cell_type": "markdown",
   "id": "84049c3d-650f-403b-9b0b-a2854dccbc8a",
   "metadata": {},
   "source": [
    "## 如何设计类?"
   ]
  },
  {
   "cell_type": "markdown",
   "id": "d08005c0-8cad-4a30-88a8-abcad32285f9",
   "metadata": {},
   "source": [
    "设计类主要从 3 个⽅⾯思考 :\n",
    "1. 类名 : 类名的命名规范，每个单词的⾸字⺟⼤写。\n",
    "2. 属性 : 这类事物具有哪些共有的属性/数据。 (与⽣俱来的)\n",
    "3. ⾏为 : 这类事物具有哪些⾏为 (类似于之前学习的函数)"
   ]
  },
  {
   "cell_type": "markdown",
   "id": "77a78e66-9036-4e7b-9b27-bdca72490f3a",
   "metadata": {},
   "source": [
    "![](img/class.jpg)"
   ]
  },
  {
   "cell_type": "markdown",
   "id": "152bbd23-11be-4ba6-aa8a-6520ce4184df",
   "metadata": {},
   "source": [
    "> 说明：object类是所有类的根类，在Python中任何⼀个类 (除object外) 都直接或间接地继承了 object，直接继承 object 类时，object部分的代码可以省略。"
   ]
  },
  {
   "cell_type": "markdown",
   "id": "b3cc4180-902d-4016-9bc2-e3ad9ec588a0",
   "metadata": {},
   "source": [
    "![](img/car.jpg)"
   ]
  },
  {
   "cell_type": "markdown",
   "id": "fb83a431-0af1-457c-bab8-c918b4169317",
   "metadata": {},
   "source": [
    "## 操作类的属性和⽅法"
   ]
  },
  {
   "cell_type": "markdown",
   "id": "eb756ec2-6eaa-41da-b045-c2ef2bdfe6ba",
   "metadata": {},
   "source": [
    "若想操作类的属性和⽅法，⾸先需要定义该类的对象 (object) 变量，可以简称对象，然后使⽤下列⽅式操作。"
   ]
  },
  {
   "cell_type": "markdown",
   "id": "b9484dda-3375-4bdd-9063-ce844cc092bf",
   "metadata": {},
   "source": [
    "```python\n",
    "object.类的属性\n",
    "object.类的方法()\n",
    "```"
   ]
  },
  {
   "cell_type": "markdown",
   "id": "f46a0c61-4f5d-4582-8af1-c371a3d84cdc",
   "metadata": {},
   "source": [
    "## 类的构造⽅法"
   ]
  },
  {
   "cell_type": "markdown",
   "id": "0972d025-6be0-44cd-844e-d49ffa147ca6",
   "metadata": {},
   "source": [
    "建⽴类很重要的⼀个⼯作是初始化整个类，所谓的初始化类是在类内建⽴⼀个初始化⽅法 (method)，这是⼀个特殊⽅法，**当在程序内定义这个类的对象时将⾃动执⾏这个⽅法**，初始化⽅法有⼀个固定的名称是__init__()，init 其实是initialization的缩写，通常⼜将这类初始化的⽅法称**构造函数**（constructor），在初始化的⽅法内可以执⾏⼀些属性变量设定。"
   ]
  },
  {
   "cell_type": "markdown",
   "id": "79193a7c-3229-46d1-ad69-a3a4abd39d0f",
   "metadata": {},
   "source": [
    "## 属性初始值的设定"
   ]
  },
  {
   "cell_type": "markdown",
   "id": "2b0fa29c-ecc0-4abe-a35f-26aca73f6843",
   "metadata": {},
   "source": [
    "* 在定义类的对象时，Python程序将⾃动调⽤该对象的构造函数初始化对象⾃身。\n",
    "* Python语⾔规定，当调⽤⼀个成员函数时，系统⾃动向它传递⼀个隐含的参数，该参数是⼀个指向调⽤该函数的对象的指针，称为self对象。"
   ]
  },
  {
   "cell_type": "markdown",
   "id": "f6b752a7-59ce-4a1b-b0c5-8a098a9fbeb2",
   "metadata": {},
   "source": [
    "## 对象的内存图解"
   ]
  },
  {
   "cell_type": "markdown",
   "id": "8d7738c0-53d5-4726-bc50-4d313a88044c",
   "metadata": {},
   "source": [
    "思考 :\n",
    "1. 为什么多个对象之间的数据不会产⽣混乱?\n",
    "2. 对象的数据是如何实现的存储?"
   ]
  },
  {
   "cell_type": "markdown",
   "id": "672a27f1-178e-4888-95e7-fc2b6689ae79",
   "metadata": {},
   "source": [
    "### Test01"
   ]
  },
  {
   "cell_type": "code",
   "execution_count": 1,
   "id": "cb9d6b85-61bc-4a56-9ebb-f56d7ea407d3",
   "metadata": {},
   "outputs": [
    {
     "name": "stdout",
     "output_type": "stream",
     "text": [
      "hello Rose\n",
      "age = 19\n",
      "age = 19\n",
      "age = 19\n",
      "age = 19\n",
      "age = 19\n",
      "Student [name = Jack, age = 18, gender = 男]\n"
     ]
    }
   ],
   "source": [
    "# 思考 : 数据与行为是否有直接关联？没有。\n",
    "# 将这段代码实现 '面向对象' 的封装.  (数据 + 行为 -> 整体)\n",
    "\n",
    "\n",
    "# 行为 (函数)\n",
    "def greeting(name):\n",
    "    name = 'Rose'       # 自定义栈区的数据\n",
    "    print(f'hello {name}')\n",
    "\n",
    "# 函数中修改传入的数据不影响真实数据\n",
    "def birthday(age):  # 值传递，相当于拷贝了一份数据\n",
    "    age += 1\n",
    "    print(f'{age = }')\n",
    "\n",
    "\n",
    "def info(name, age, gender):\n",
    "    print(f'Student [name = {name}, age = {age}, gender = {gender}]')\n",
    "\n",
    "\n",
    "# 数据 (变量 / 属性)\n",
    "name = 'Jack'       # 主函数中的全局 name 数据\n",
    "age = 18\n",
    "gender = '男'\n",
    "\n",
    "\n",
    "# 调用\n",
    "greeting(name)\n",
    "\n",
    "birthday(age)           # 现实 : 过了生日, 大一岁\n",
    "birthday(age)\n",
    "birthday(age)\n",
    "birthday(age)\n",
    "birthday(age)\n",
    "\n",
    "info(name, age, gender)"
   ]
  },
  {
   "cell_type": "markdown",
   "id": "4e0f0f70-d3d9-4a3b-a767-6a1a23092837",
   "metadata": {},
   "source": [
    "封装成一个整体数据类型。  \n",
    "成员变量是堆区的变量，局部变量是栈区的变量。"
   ]
  },
  {
   "cell_type": "markdown",
   "id": "2cbe8404-31f2-48e0-8650-88d050434cf2",
   "metadata": {},
   "source": [
    "### Test02"
   ]
  },
  {
   "cell_type": "code",
   "execution_count": 2,
   "id": "1abac3ce-e164-4cf5-823c-d81a6334a039",
   "metadata": {},
   "outputs": [
    {
     "name": "stdout",
     "output_type": "stream",
     "text": [
      "init self = <__main__.Car object at 0x7f66f0616b10>\n",
      "car1 = <__main__.Car object at 0x7f66f0616b10>\n",
      "drive self = <__main__.Car object at 0x7f66f0616b10>\n",
      "兰博基尼品牌, 金色的4个轮子的小轿车正在飞奔...\n",
      "--------------------------------------------------\n",
      "init self = <__main__.Car object at 0x7f66f0617710>\n",
      "car2 = <__main__.Car object at 0x7f66f0617710>\n",
      "drive self = <__main__.Car object at 0x7f66f0617710>\n",
      "中国红旗品牌, 红色的8个轮子的小轿车正在飞奔...\n"
     ]
    }
   ],
   "source": [
    "# 自定义类 (类型)\n",
    "# ① 类名  ② 属性  ③ 行为\n",
    "# 自定义一个类型 Car 类型\n",
    "# 格式: class 类名(object): 如果一个自定义类没有显式定义继承类，则该类默认继承 object 类\n",
    "class Car(object): # object是祖宗类，Car继承于祖宗类\n",
    "    # 属性 (初始化方法, 构造方法)\n",
    "    # 数据 (属性) 品牌, 颜色, 轮胎数量\n",
    "    def __init__(self, brand, color, wheel_number=4):  # 形参数据在栈区里面，私有方法，双下划线\n",
    "        print(f'init {self = }')\n",
    "        # 代码是固定的格式 (对象的属性初始化赋值操作)\n",
    "        # 将栈区中的局部变量赋值给堆区中的 self 地址空间实现数据存储\n",
    "        # self是堆区空间存储，这里是将栈区的数据复制到堆区\n",
    "        self.brand = brand     \n",
    "        self.color = color\n",
    "        self.wheel_number = wheel_number\n",
    "\n",
    "\n",
    "    # 行为 (方法) 驾驶\n",
    "    def drive(self):\n",
    "        print(f'drive {self = }')\n",
    "        print(f'{self.brand}品牌, {self.color}的{self.wheel_number}个轮子的小轿车正在飞奔...')\n",
    "\n",
    "\n",
    "# 根据自定义类型创建具体的对象 (实例化对象)\n",
    "# 对象名称 = 类名(参数列表)\n",
    "car1 = Car('兰博基尼', '金色')  # 实例化对象会自动调用 init 行为\n",
    "print(f'{car1 = }')\n",
    "# 执行汽车对象的方法\n",
    "car1.drive()\n",
    "\n",
    "print('-' * 50)\n",
    "\n",
    "car2 = Car('中国红旗', '红色', 8)\n",
    "print(f'{car2 = }')\n",
    "car2.drive()"
   ]
  },
  {
   "cell_type": "markdown",
   "id": "e5c0e261-c638-42c2-ab83-ab4672dd18fa",
   "metadata": {},
   "source": [
    "请问：对象不再被使⽤时，需要被销毁，在 C++中, 销毁对象时需要程序员⼿动释放对象，在Python中销毁对象时也需要程序员⼿动释放对象吗？"
   ]
  },
  {
   "cell_type": "markdown",
   "id": "b91608f1-0497-4ed2-a4d5-a690960e5090",
   "metadata": {},
   "source": [
    "回答：不需要，在Python中销毁对象由Python垃圾回收机制⾃动释放对象，不需要程序员⼿动释放对象。"
   ]
  },
  {
   "cell_type": "markdown",
   "id": "4d0229b9-25f6-499e-8ef3-34073ea8a5bc",
   "metadata": {},
   "source": [
    "## 成员变量与局部变量"
   ]
  },
  {
   "cell_type": "markdown",
   "id": "d6dbf33e-16b3-447a-aaee-34e79a8c54d9",
   "metadata": {},
   "source": [
    "* 局部变量\n",
    "\n",
    "定义在函数/⽅法中的变量被称为局部变量。局部变量只在定义它的⽅法作⽤范围内有效。  \n",
    "\n",
    "* 成员变量\n",
    "\n",
    "定义在对象中的变量被称为成员变量。成员变量在整个对象中都有效。  \n",
    "\n",
    "成员变量是属于对象的，局部变量是属于⽅法的。\n",
    "\n",
    "> 注意：在类中和该类的⽅法中，同时存在⼀个相同类型相同名称的变量，在⽅法被执⾏时，⽅法中优先使⽤定义在⽅法中的局部变量。  \n",
    "使用顺序：先使⽤内部的(栈区)，再使⽤外部的(传⼊的参数数据) **就近原则** 。"
   ]
  },
  {
   "cell_type": "markdown",
   "id": "bba69c63-6fb4-4514-a024-46974d4911de",
   "metadata": {},
   "source": [
    "下面是在PyCharm中的操作：\n",
    "\n",
    "![](img/view.jpg) \n",
    "![](img/view1.jpg)"
   ]
  },
  {
   "cell_type": "markdown",
   "id": "8be87aaa-ad34-4118-be01-c2e360d72e3c",
   "metadata": {},
   "source": [
    "##  魔术⽅法"
   ]
  },
  {
   "cell_type": "markdown",
   "id": "f650953b-fd3f-468e-8c5b-eea7ce1ab2af",
   "metadata": {},
   "source": [
    "思考：什么是魔术⽅法  \n",
    "\n",
    "1. 在 Python 中，所有以双下划线包起来的⽅法，统称为 Magic Method (魔术⽅法) 它是⼀种特殊的⽅法，普通⽅法需要调⽤，⽽魔术⽅法不需要调⽤就可以⾃动执⾏。\n",
    "2. 魔术⽅法在类或对象的某些事件发⽣时会⾃动执⾏，让类具有神奇的 '魔⼒'。如果希望根据⾃⼰的程序定制特殊功能的类，那么就需要对这些⽅法进⾏重写。\n",
    "3. Python 中常⽤的运算符，for 循环，以及类操作等都是运⾏在魔术⽅法之上的。"
   ]
  },
  {
   "cell_type": "markdown",
   "id": "58de7173-0b2a-4354-a6fa-54b551657671",
   "metadata": {},
   "source": [
    "![](img/object.jpg)"
   ]
  },
  {
   "cell_type": "markdown",
   "id": "7a8dd704-4193-44be-b138-a87f7ceeb426",
   "metadata": {},
   "source": [
    "# 面向对象之封装特性"
   ]
  },
  {
   "cell_type": "markdown",
   "id": "d487cb2c-c5d4-4cf8-8904-29908e2bd28a",
   "metadata": {},
   "source": [
    "## 封装概念"
   ]
  },
  {
   "cell_type": "markdown",
   "id": "309e0ef2-e903-4ab0-a251-137674e3c32b",
   "metadata": {},
   "source": [
    "封装性是⾯向对象重要的基本特性之⼀，封装隐藏了对象的内部细节，只保留有限的对外接⼝，外部调⽤者不⽤关⼼对象的内部细节，使得操作对象变得简单。（对内开放，对外保护）\n",
    "\n",
    "例如：⼀台计算机内部极其复杂，有主板，CPU，硬盘和内存等，⽽⼀般⼈不需要了解它的内部细节，计算机制造商⽤机箱把计算机封装起来，对外提供了⼀些接⼝，如⿏标，键盘和显示器等，使⽤计算机就变得⾮常简单。"
   ]
  },
  {
   "cell_type": "markdown",
   "id": "08c5bc7a-3c46-4f37-b6a9-3cea7fc2b15a",
   "metadata": {},
   "source": [
    "![](img/fz.jpg)"
   ]
  },
  {
   "cell_type": "markdown",
   "id": "177c7b1c-ec49-4c38-87c9-57895509d052",
   "metadata": {},
   "source": [
    "### Test03"
   ]
  },
  {
   "cell_type": "code",
   "execution_count": 3,
   "id": "0bf494ad-9440-4c19-99ee-8f5465bce178",
   "metadata": {},
   "outputs": [
    {
     "name": "stdout",
     "output_type": "stream",
     "text": [
      "3岁的旺财正在汪汪叫...\n",
      "300岁的哮天犬正在汪汪叫...\n"
     ]
    }
   ],
   "source": [
    "# 魔法方法 (自动调用) : object 祖宗类提供的\n",
    "\n",
    "# 定义一个 Dog 类\n",
    "# 默认继承自 object 类\n",
    "# 快捷键 : ① 点击类名 ② ctrl + h\n",
    "class Dog():        \n",
    "    # 属性 (初始化操作)\n",
    "    def __init__(self, name, age, gender='雌性'):\n",
    "        # 内部代码基本上是固定写法\n",
    "        # 规范代码 (self.name, self.age, self.gender ... 通常为对象的数据)\n",
    "        # 说明 : 一个类可能会有上百个数据, 大部分的数据都是由类内部自定义的, 而不是由外部传入的)\n",
    "        self.name = name\n",
    "        self.age = age\n",
    "        self.gender = gender\n",
    "\n",
    "    # 对象行为 : 第一个参数就是对象\n",
    "    # ⾏为 (⽅法)\n",
    "    def bark(self):\n",
    "        print(f'{self.age}岁的{self.name}正在汪汪叫...')\n",
    "\n",
    "\n",
    "dog1 = Dog('旺财', 3, '雄性')\n",
    "dog1.bark()\n",
    "\n",
    "dog2 = Dog('哮天犬', 300, '雄性')\n",
    "dog2.bark()"
   ]
  },
  {
   "cell_type": "markdown",
   "id": "66174542-7e3b-45b4-b4b6-9c6469e4f606",
   "metadata": {},
   "source": [
    "上面的代码没有封装，外部可以修改对象的属性值。"
   ]
  },
  {
   "cell_type": "markdown",
   "id": "9b81af65-8ccc-4936-9853-2959b02c2a2e",
   "metadata": {},
   "source": [
    "### Test04"
   ]
  },
  {
   "cell_type": "code",
   "execution_count": 4,
   "id": "0c0cb726-473c-4afe-aa14-a854b88941ec",
   "metadata": {},
   "outputs": [
    {
     "name": "stdout",
     "output_type": "stream",
     "text": [
      "150岁的旺财正在汪汪叫...\n"
     ]
    }
   ],
   "source": [
    "# 魔法方法 (自动调用) : object 祖宗类提供的\n",
    "\n",
    "# 定义一个 Dog 类\n",
    "class Dog():\n",
    "    # 属性 (初始化操作)\n",
    "    def __init__(self, name, age, gender='雌性'):\n",
    "        self.name = name\n",
    "        # self.age 是对象的内部数据, 正常情况下不允许外部 (调用者) 胡乱修改\n",
    "        self.age = age      # age = [1~20]\n",
    "        self.gender = gender\n",
    "\n",
    "    # 对象行为 : 第一个参数就是对象\n",
    "    def bark(self):\n",
    "        print(f'{self.age}岁的{self.name}正在汪汪叫...')\n",
    "\n",
    "\n",
    "# 创建了一个 Dog 对象\n",
    "dog1 = Dog('旺财', 3, '雄性')\n",
    "\n",
    "# 请问 : dog 是⼀个 Dog 类型的对象?\n",
    "# dog.name, dog.age, dog.gender 对象的数据\n",
    "# 修改 dog 的数据\n",
    "# 思考 : 对象的数据能不能封装呢 ? 将数据保护起来, 不让外部使⽤者随意修改. (对内开放, 对外保护)\n",
    "dog1.age = 150  # 修改对象的内部数据\n",
    "\n",
    "# 调用对象的行为\n",
    "dog1.bark()"
   ]
  },
  {
   "cell_type": "markdown",
   "id": "a4ce7f64-e42a-4d1b-a8c2-58ebf512d026",
   "metadata": {},
   "source": [
    "## 类的访问权限"
   ]
  },
  {
   "cell_type": "markdown",
   "id": "351b31fc-58d2-4645-9c86-c8bb9db4f3b9",
   "metadata": {},
   "source": [
    "* 我们可以从程序直接引⽤类的属性，像这种类内的属性可以让外部引⽤被称公有（public）属性，可以让外部引⽤的⽅法称公有⽅法，程序设计时可以发现，外部直接引⽤时也代表可以直接修改类内的属性值，这将造成类数据不安全。   \n",
    "* 理论上，Python 提供了私有属性与⽅法的概念，这个概念主要是类外⽆法直接更改类内的私有属性，类外也⽆法直接调⽤私有⽅法, 这个概念⼜称封装 (encapsulation)。  \n",
    "* 实质上，Python 是没有私有属性与⽅法的概念的，因为⾼⼿仍可使⽤其它⽅式取得所谓的私有属性和⽅法。  "
   ]
  },
  {
   "cell_type": "markdown",
   "id": "0c023633-7bda-4361-a71e-32da9cb2a484",
   "metadata": {},
   "source": [
    "## 私有属性"
   ]
  },
  {
   "cell_type": "markdown",
   "id": "93dc12a7-8b89-4507-8181-c256dc7b0f06",
   "metadata": {},
   "source": [
    "* 为了确保类内属性的安全，其实有必要限制外部⽆法直接获取类内的属性值。  \n",
    "* 设置私有成员的机制叫做 **隐藏**，如果想让它们成为私有变量，则在变量前加上双下划线 __ 即可。\n",
    "* 为了实现对象的封装，在⼀个类中不应该有公有的成员变量，这些成员变量应该被设计为私有的，然后通过公有的 setter (赋值) 和 getter (取值) ⽅法访问。"
   ]
  },
  {
   "cell_type": "markdown",
   "id": "e92ac943-7d7f-4fe6-b617-1fc7dcae81cc",
   "metadata": {},
   "source": [
    "## 私有⽅法"
   ]
  },
  {
   "cell_type": "markdown",
   "id": "753c0ab9-c6af-4e94-847e-f31805787490",
   "metadata": {},
   "source": [
    "类有私有属性，也有私有⽅法(private method)，它的概念与私有属性类似，理论上是类外的程序⽆法调⽤，实质上依旧可以调⽤此私有⽅法，⾄于定义⽅式与私有属性相同，只要在⽅法前⾯加上2个\n",
    "下划线符号即可。  "
   ]
  },
  {
   "cell_type": "markdown",
   "id": "db74cae2-f6e7-4e27-a5f2-d1ec690711cb",
   "metadata": {},
   "source": [
    "### Test05"
   ]
  },
  {
   "cell_type": "code",
   "execution_count": 5,
   "id": "54b22db2-d086-42ef-9a2c-6e990d41c3ab",
   "metadata": {},
   "outputs": [
    {
     "name": "stdout",
     "output_type": "stream",
     "text": [
      "3岁的旺财正在汪汪叫...\n"
     ]
    }
   ],
   "source": [
    "# 魔法方法 (自动调用) : object 祖宗类提供的\n",
    "\n",
    "# 定义一个 Dog 类\n",
    "class Dog():\n",
    "    # 属性 (初始化操作)\n",
    "    def __init__(self, name, age, gender='雌性'):\n",
    "        self.name = name\n",
    "        # self.age 是对象的内部数据, 正常情况下不允许外部 (调用者) 胡乱修改\n",
    "        # 私有数据 : Python 使用两个下划线开头定义 `私有数据`, 私有数据只允许内部访问(本类的作用范围), 不允许外部访问\n",
    "        self.__age = age      # age = [1~20]\n",
    "        self.gender = gender\n",
    "\n",
    "    # 对象行为 : 第一个参数就是对象\n",
    "    def bark(self):\n",
    "        print(f'{self.__age}岁的{self.name}正在汪汪叫...')\n",
    "\n",
    "\n",
    "# 创建了一个 Dog 对象\n",
    "dog1 = Dog('旺财', 3, '雄性')\n",
    "\n",
    "# 修改对象的内部数据\n",
    "# 这个代码没有效果了\n",
    "dog1.age = 150  # 为啥不报错？\n",
    "dog1.__age = 150\n",
    "\n",
    "# 调用对象的行为\n",
    "dog1.bark()"
   ]
  },
  {
   "cell_type": "markdown",
   "id": "48d1cc8f-ed30-4873-af38-7091090e291f",
   "metadata": {},
   "source": [
    "上面的写法不规范。初始化中不应该加逻辑判断。"
   ]
  },
  {
   "cell_type": "markdown",
   "id": "6036a3e9-0190-4125-ad5a-f67e93be773e",
   "metadata": {},
   "source": [
    "### Test06"
   ]
  },
  {
   "cell_type": "code",
   "execution_count": 6,
   "id": "70af0305-a82b-4dd6-bb2d-4b345a0abfbe",
   "metadata": {},
   "outputs": [
    {
     "name": "stdout",
     "output_type": "stream",
     "text": [
      "15岁的旺财正在汪汪叫...\n"
     ]
    }
   ],
   "source": [
    "# 魔法方法 (自动调用) : object 祖宗类提供的\n",
    "\n",
    "# 定义一个 Dog 类\n",
    "class Dog():\n",
    "    # 属性 (初始化操作)\n",
    "    def __init__(self, name, age, gender='雌性'):\n",
    "        self.name = name\n",
    "\n",
    "        # 判断\n",
    "        if 1 <= age <= 20:\n",
    "            self.__age = age\n",
    "        else:\n",
    "            self.__age = 1\n",
    "\n",
    "        self.gender = gender\n",
    "\n",
    "    # 对象行为 : 第一个参数就是对象\n",
    "    def bark(self):\n",
    "        print(f'{self.__age}岁的{self.name}正在汪汪叫...')\n",
    "\n",
    "\n",
    "\n",
    "# 创建了一个 Dog 对象\n",
    "dog1 = Dog('旺财', 15, '雄性')\n",
    "\n",
    "# 修改对象的内部数据\n",
    "# 这个代码没有效果了\n",
    "# dog1.age = 150\n",
    "# dog1.__age = 150\n",
    "\n",
    "# 调用对象的行为\n",
    "dog1.bark()"
   ]
  },
  {
   "cell_type": "markdown",
   "id": "99fb1d66-0ca9-47db-a262-d666b9801b51",
   "metadata": {},
   "source": [
    "## 装饰器 @property"
   ]
  },
  {
   "cell_type": "markdown",
   "id": "8d2aa99f-04c5-4bce-98e5-3d3c6d57f7b2",
   "metadata": {},
   "source": [
    "由于外部可以随意更改属性数据，所以这是有⻛险的，不恰当的，为了保护属性数据，我们可以将属性数据设为私有属性，同时未来改成⽤ getter 和 setter 获取这个私有属性。"
   ]
  },
  {
   "cell_type": "markdown",
   "id": "c89b50cb-fe95-469a-8dc9-fcb94d19541d",
   "metadata": {},
   "source": [
    "### Test07-@property装饰器封装属性-私有方法"
   ]
  },
  {
   "cell_type": "code",
   "execution_count": 7,
   "id": "bab3bbf4-321c-413e-8a15-6f45291aab35",
   "metadata": {},
   "outputs": [
    {
     "name": "stdout",
     "output_type": "stream",
     "text": [
      "1岁的旺财正在汪汪叫...\n"
     ]
    }
   ],
   "source": [
    "# 魔法方法 (自动调用) : object 祖宗类提供的\n",
    "# 说明 : Python 语言通过 @property 和 @属性名.setter 装饰器实现对象数据的封装\n",
    "\n",
    "# ⾃定义 Dog 类型\n",
    "# 装饰器 : Python语⾔提供的数据封装的 @property @属性名称.setter\n",
    "class Dog():\n",
    "    # 属性 (初始化操作)\n",
    "    def __init__(self, name, age, gender='雌性'):\n",
    "        # 规范最好遵守 (不能改这⾥的代码)\n",
    "        self.name = name\n",
    "        # 动态为 age 数据实现封装\n",
    "        self.age = age     # 会自动调用后面的setter方法，这里不能加下划线，不然后面的装饰器不起作用了\n",
    "        self.gender = gender\n",
    "\n",
    "    # age 数据实现封装\n",
    "    @property       # 取值的时候自动调用\n",
    "    def age(self):  # getter ⽅法 (属性取值使⽤的)\n",
    "        return self.__age  # 必须加下划线，不然成了递归调用，自己调用自己，进入死循环了\n",
    "\n",
    "    @age.setter     # 赋值的时候自动调用\n",
    "    def age(self, age):   # setter ⽅法 (给属性赋值使⽤的)\n",
    "        if 1 <= age <= 20:\n",
    "            self.__age = age\n",
    "        else:\n",
    "            self.__age = 1          # 业务处理决定 (抛出异常)\n",
    "\n",
    "    # 对象行为 : 第一个参数就是对象\n",
    "    def bark(self):  # 会自动调用前面的age方法取值\n",
    "        print(f'{self.age}岁的{self.name}正在汪汪叫...')\n",
    "\n",
    "\n",
    "    # 私有方法 (给本类内部调用的, 本质上是不提供给外部使用的)\n",
    "    def __thinking(self):  # 私有属性和私有方法都不支持外部调用\n",
    "        print(f'{self.age}岁的{self.name}正在思考狗生...')\n",
    "\n",
    "\n",
    "\n",
    "# 创建了一个 Dog 对象\n",
    "dog1 = Dog('旺财', 5, '雄性')\n",
    "\n",
    "# 数据的胡乱赋值\n",
    "dog1.age = 200  # 调用setter方法\n",
    "\n",
    "# 调用对象的行为\n",
    "dog1.bark()\n",
    "\n",
    "# 调用私有方法\n",
    "# dog1.__thinking()"
   ]
  },
  {
   "cell_type": "markdown",
   "id": "be70b260-32f0-434f-be67-19e86488b3cc",
   "metadata": {},
   "source": [
    "* 经上述设计后, 未来⽆法获取私有属性\n",
    "* 实现了以赋值运算符的⽅式来获取与设置属性数据\n",
    "\n",
    "小结：属性在本质上就是两个⽅法，在⽅法前加上修饰器使得⽅法成为属性，属性使⽤起来类似于公有变量，可以在赋值运算符左边或右边，左边被赋值，右边取值。"
   ]
  },
  {
   "cell_type": "markdown",
   "id": "4cfd6a3a-66a9-4e61-935d-9797c98e74dc",
   "metadata": {},
   "source": [
    "## 破解私有属性与私有⽅法"
   ]
  },
  {
   "cell_type": "markdown",
   "id": "62ff2413-5286-4442-a837-e89c41a08515",
   "metadata": {},
   "source": [
    "其实 Python ⾼⼿可以⽤其它⽅式设定或取得私有属性，实质上因为私有属性可以被外界调⽤，所以设定私有属性名称时须格外⼩⼼。  \n",
    "```pyhton\n",
    "对象名称._类名__私有属性\n",
    "```\n",
    "如果类外直接调⽤私有属性会产⽣错误，破解私有⽅法也类似于破解私有属性。"
   ]
  },
  {
   "cell_type": "markdown",
   "id": "c666e48f-dc4c-4860-99ce-30ed4bbf0228",
   "metadata": {},
   "source": [
    "语法：破坏私有规则。  \n",
    "对象._类名__属性名 = 值  \n",
    "对象._类名__方法名()  \n",
    "破坏私有方法保护。调用私有方法，类似于Java的反射机制。  \n",
    "规则大于语法。 规则优先。  "
   ]
  },
  {
   "cell_type": "markdown",
   "id": "1f94a9d8-60c5-4e0d-bb00-339e5eef1298",
   "metadata": {},
   "source": [
    "### Test08"
   ]
  },
  {
   "cell_type": "code",
   "execution_count": 8,
   "id": "028bb172-5900-49d9-b1b8-e747c8aa4187",
   "metadata": {},
   "outputs": [
    {
     "name": "stdout",
     "output_type": "stream",
     "text": [
      "200岁的旺财正在汪汪叫...\n",
      "200岁的旺财正在思考狗生...\n"
     ]
    }
   ],
   "source": [
    "# 定义一个 Dog 类\n",
    "class Dog():\n",
    "    # 属性 (初始化操作)\n",
    "    def __init__(self, name, age, gender='雌性'):\n",
    "        self.name = name\n",
    "        self.age = age\n",
    "        self.gender = gender\n",
    "\n",
    "    # age 数据实现封装\n",
    "    @property       # 取值的时候自动调用\n",
    "    def age(self):\n",
    "        return self.__age\n",
    "\n",
    "    @age.setter     # 赋值的时候自动调用\n",
    "    def age(self, age):\n",
    "        if 1 <= age <= 20:\n",
    "            self.__age = age\n",
    "        else:\n",
    "            self.__age = 1          # 业务处理决定 (抛出异常)\n",
    "\n",
    "    # 对象行为 : 第一个参数就是对象\n",
    "    def bark(self):\n",
    "        print(f'{self.age}岁的{self.name}正在汪汪叫...')\n",
    "\n",
    "    # 私有方法 (给本类内部调用的, 本质上是不提供给外部使用的)\n",
    "    def __thinking(self):\n",
    "        print(f'{self.age}岁的{self.name}正在思考狗生...')\n",
    "\n",
    "\n",
    "\n",
    "# 创建了一个 Dog 对象\n",
    "dog1 = Dog('旺财', 5, '雄性')\n",
    "\n",
    "# 数据的胡乱赋值\n",
    "dog1._Dog__age = 200\n",
    "\n",
    "# 调用对象的行为\n",
    "dog1.bark()\n",
    "\n",
    "# 调用私有方法\n",
    "dog1._Dog__thinking()"
   ]
  },
  {
   "cell_type": "markdown",
   "id": "1f198f73-90c6-4d80-9a1f-310a8524cc63",
   "metadata": {},
   "source": [
    "## 设计⼀个学⽣类"
   ]
  },
  {
   "cell_type": "markdown",
   "id": "e832d35c-1aa2-46c5-91fa-8b4be44e3ebe",
   "metadata": {},
   "source": [
    "需求说明 :\n",
    "1) 创建⼀个学⽣类，在类中定义三个成员变量 name，age，gender\n",
    "2) 在学⽣的类中定义⼀个⽅法，打印上述三个成员变量的值\n",
    "3) 测试学⽣对象，调⽤⽅法\n",
    "\n",
    "属性要求：\n",
    "1. 年龄 6~60 岁之间，否则 age = None\n",
    "2. 姓名⻓度 2~3 个字符之间，不能为 [习⼤⼤, 彭麻麻]，否则 None"
   ]
  },
  {
   "cell_type": "markdown",
   "id": "8c1606ae-9269-4f31-9955-43c3f15b6d85",
   "metadata": {},
   "source": [
    "### Test09"
   ]
  },
  {
   "cell_type": "code",
   "execution_count": 9,
   "id": "37a8d79b-9922-4be5-9a4d-f75204c5c46b",
   "metadata": {},
   "outputs": [
    {
     "name": "stdout",
     "output_type": "stream",
     "text": [
      "大家好, 我叫张三, 我今年60岁了. 男.\n",
      "大家好, 我叫翠花, 我今年16岁了. 女.\n"
     ]
    }
   ],
   "source": [
    "# 自定义一个 Student 类\n",
    "class Student(object):\n",
    "    # 属性\n",
    "    # # def __init__(self, name: str, age: int, gender: str) -> None:\n",
    "    def __init__(self, name, age, gender):\n",
    "        self.name = name        # 姓名长度 2~3 个字符之间, 不能为 [习大大, 彭麻麻], 否则 None\n",
    "        self.age = age          # 年龄 6~60 岁之间, 否则 age = None\n",
    "        self.gender = gender\n",
    "\n",
    "    @property\n",
    "    def age(self):\n",
    "        # 说明 : 可以根据业务需求实现数据返回前的处理和判断\n",
    "        return self.__age\n",
    "\n",
    "    @age.setter\n",
    "    def age(self, age):\n",
    "        if 6 <= age <= 60:\n",
    "            self.__age = age\n",
    "        else:\n",
    "            self.__age = None\n",
    "\n",
    "    @property\n",
    "    def name(self):\n",
    "        return self.__name\n",
    "\n",
    "    @name.setter\n",
    "    def name(self, name):\n",
    "        if 2 <= len(name) <= 3 and name not in ['习大大', '彭麻麻']:\n",
    "            self.__name = name\n",
    "        else:\n",
    "            self.__name = None\n",
    "\n",
    "    # 行为\n",
    "    def introduce(self):\n",
    "        print(f'大家好, 我叫{self.name}, 我今年{self.age}岁了. {self.gender}.')\n",
    "\n",
    "\n",
    "stu1 = Student('张三', 60, '男')\n",
    "stu2 = Student('翠花', 16, '女')\n",
    "\n",
    "stu1.introduce()\n",
    "stu2.introduce()"
   ]
  },
  {
   "cell_type": "markdown",
   "id": "5340c0e6-fb92-448e-8fa5-db6c4f133ed1",
   "metadata": {},
   "source": [
    "* ⽅案⼀ : 调⽤者 / 使⽤者⾃⼰来实现"
   ]
  },
  {
   "cell_type": "markdown",
   "id": "df2dd81c-ee7c-42b7-a9da-1b6d851b1c4b",
   "metadata": {},
   "source": [
    "### Test10"
   ]
  },
  {
   "cell_type": "code",
   "execution_count": 10,
   "id": "2f44e067-2fde-41a2-9653-524256bdbeff",
   "metadata": {},
   "outputs": [
    {
     "name": "stdout",
     "output_type": "stream",
     "text": [
      "id(stu1) = 140080096298256, id(stu2) = 140080096310416\n",
      "大家好, 我叫张三, 我今年18岁了. 男.\n",
      "大家好, 我叫张三, 我今年18岁了. 男.\n",
      "对象相等.\n"
     ]
    }
   ],
   "source": [
    "# 自定义一个 Student 类\n",
    "class Student(object):\n",
    "    # 属性\n",
    "    def __init__(self, name, age, gender):\n",
    "        self.name = name\n",
    "        self.age = age\n",
    "        self.gender = gender\n",
    "\n",
    "    # 行为\n",
    "    def introduce(self):\n",
    "        print(f'大家好, 我叫{self.name}, 我今年{self.age}岁了. {self.gender}.')\n",
    "\n",
    "\n",
    "# 创建了两个学生对象, 数据是完全一样的\n",
    "# 需求 : 数据一致, 对象就相等.\n",
    "stu1 = Student('张三', 18, '男')\n",
    "stu2 = Student('张三', 18, '男')\n",
    "print(f'{id(stu1) = }, {id(stu2) = }')\n",
    "\n",
    "stu1.introduce()\n",
    "stu2.introduce()\n",
    "\n",
    "\n",
    "# 判断两个学⽣是否相等 (标准: 两个对象的数据是否相同)\n",
    "# == ⾏为是 object 祖宗类给我们提供的，底层默认判断的是两个对象地址\n",
    "# result = stu1 == stu2\n",
    "# print(f'{result = }')\n",
    "\n",
    "# 问题 : student 类的对象有⾃⼰的判断标准, 怎么实现 ???\n",
    "# ⽅案⼀ : 调⽤者 / 使⽤者⾃⼰来实现，调用者自己判断\n",
    "if stu1.name == stu2.name and stu1.age == stu2.age and stu1.gender == stu2.gender:\n",
    "    print('对象相等.')\n",
    "else:\n",
    "    print('对象不相等.')"
   ]
  },
  {
   "cell_type": "markdown",
   "id": "c389b4ec-c7f7-4296-a81d-37c1ae55b269",
   "metadata": {},
   "source": [
    "* Student 类提供⼀个判断两个对象是否相同的⾏为 (方法）"
   ]
  },
  {
   "cell_type": "markdown",
   "id": "5136ab24-2fd3-4636-b465-2010728433d5",
   "metadata": {},
   "source": [
    "### Test11"
   ]
  },
  {
   "cell_type": "code",
   "execution_count": 11,
   "id": "cada57fe-3daa-4860-bd0e-fbe0ad6572a1",
   "metadata": {},
   "outputs": [
    {
     "name": "stdout",
     "output_type": "stream",
     "text": [
      "id(stu1) = 140080096271888, id(stu2) = 140080096298256\n",
      "大家好, 我叫张三, 我今年18岁了. 男.\n",
      "大家好, 我叫张三, 我今年18岁了. 男.\n",
      "result = True\n"
     ]
    }
   ],
   "source": [
    "# 自定义一个 Student 类\n",
    "# 在IDE工具中按住 ctr + 点击 可以进入到 object 祖宗类里面\n",
    "class Student(object):\n",
    "    # 属性\n",
    "    def __init__(self, name, age, gender):\n",
    "        self.name = name\n",
    "        self.age = age\n",
    "        self.gender = gender\n",
    "\n",
    "    # 行为\n",
    "    def introduce(self):\n",
    "        print(f'大家好, 我叫{self.name}, 我今年{self.age}岁了. {self.gender}.')\n",
    "\n",
    "    # ⽅式⼆ 给 Student 类提供⼀个判断两个对象是否相同的⾏为 (⽅法)\n",
    "    # 判断对象是否相等的方法 (同一类型的对象数据判断)\n",
    "    def equals(self, other):\n",
    "        # self 就是本类的对象, 这里就是 Student 类型的对象\n",
    "        # isinstance：是否是某个类型的对象\n",
    "        if not isinstance(other, Student): return False  # 判断传入的other是否属于Student对象\n",
    "        # self 就是对象对象, other 就是传入的另一个对象\n",
    "        if self.name == other.name and self.age == other.age and self.gender == other.gender:\n",
    "            return True\n",
    "        return False\n",
    "\n",
    "\n",
    "# 创建了两个学生对象, 数据是完全一样的\n",
    "# 需求 : 数据一致, 对象就相等.\n",
    "stu1 = Student('张三', 18, '男')\n",
    "stu2 = Student('张三', 18, '男')\n",
    "print(f'{id(stu1) = }, {id(stu2) = }')\n",
    "\n",
    "stu1.introduce()\n",
    "stu2.introduce()\n",
    "\n",
    "# 调用方法, 判断学生对象是否相等\n",
    "result = stu1.equals(stu2)\n",
    "print(f'{result = }')"
   ]
  },
  {
   "cell_type": "markdown",
   "id": "4da444f4-1c53-42f5-b1a0-f14658594c2c",
   "metadata": {},
   "source": [
    "![](img/obj.jpg)"
   ]
  },
  {
   "cell_type": "markdown",
   "id": "f9a2a9c2-16c9-4387-9eab-fca32384fec3",
   "metadata": {},
   "source": [
    "重写 object 类的 eq ⽅法。"
   ]
  },
  {
   "cell_type": "code",
   "execution_count": 14,
   "id": "27b80c39-9208-4668-85cf-ecb894618c3d",
   "metadata": {},
   "outputs": [
    {
     "name": "stdout",
     "output_type": "stream",
     "text": [
      "stu1 = Student [name = 张三, age = 18, gender = 男]\n",
      "stu2 = Student [name = 张三, age = 20, gender = 男]\n",
      "False\n",
      "False\n"
     ]
    }
   ],
   "source": [
    "# 定义⼀个 Student 类\n",
    "class Student:\n",
    "    # def __init__(self, name: str, age: int, gender: str) -> None:\n",
    "    def __init__(self, name, age, gender):\n",
    "        # 提醒 : self.属性名 这就意味着这是对象的数据\n",
    "        self.name = name\n",
    "        self.age = age\n",
    "        self.gender = gender\n",
    "\n",
    "    # 程序中如果要输出 Student 类型的对象, 其底层会⾃动触发该⾏为\n",
    "    def __str__(self):\n",
    "        # 说明 : 应该返回对象的特有数据\n",
    "        return f'Student [name = {self.name}, age = {self.age}, gender = {self.gender}]'\n",
    "\n",
    "    # 重写 object 类的 eq ⽅法\n",
    "    # == 运算符底层调⽤的⾏为\n",
    "    def __eq__(self, other):\n",
    "        # 判断\n",
    "        if isinstance(other, Student):\n",
    "            # 判断数据是否相同\n",
    "            if self.name == other.name and self.age == other.age and self.gender == other.gender:return True\n",
    "        # else:\n",
    "        # return False\n",
    "        # else:\n",
    "        return False\n",
    "\n",
    "\n",
    "    @property\n",
    "    def age(self):\n",
    "        return self.__age\n",
    "\n",
    "    @age.setter\n",
    "    def age(self, age):\n",
    "        if 6 <= age <= 60:\n",
    "            self.__age = age\n",
    "        else:\n",
    "            self.__age = None\n",
    "\n",
    "\n",
    "    @property\n",
    "    def name(self):\n",
    "        return self.__name\n",
    "\n",
    "\n",
    "    @name.setter\n",
    "    def name(self, name):\n",
    "        if 2 <= len(name) <= 3 and name not in ['习⼤⼤', '彭麻麻']:\n",
    "            self.__name = name\n",
    "        else:\n",
    "            self.__name = None\n",
    "\n",
    "\n",
    "def introduce(self):\n",
    "    print(f'⼤家好, 我叫{self.name}, 我今年{self.age}岁了.{self.gender}!' )\n",
    "\n",
    "\n",
    "class Dog:\n",
    "    # 数据 (属性)\n",
    "    def __init__(self, name, age, gender):\n",
    "        # 规范代码 (self.name, self.age, self.gender ... 通常为对象的数据)\n",
    "        self.name = name\n",
    "        self.age = age\n",
    "        self.gender = gender\n",
    "\n",
    "    # ⾏为 (⽅法)\n",
    "    def bark(self):\n",
    "        print(f'{self.age} 岁的 {self.name} 正在汪汪叫...')\n",
    "\n",
    "\n",
    "# ctrl + shift + l 代码格式化 (Python语⾔的标准)\n",
    "dog = Dog('张三', 18, '男')\n",
    "# 创建学⽣对象\n",
    "# Male 男性 Female ⼥性\n",
    "stu1 = Student('张三', 18, '男')\n",
    "stu2 = Student('张三', 20, '男')\n",
    "# <__main__.Student object at 0x0000023561D7B8B0> 思考 : 希望输出对象的时候, 输出的是数据? 我们该怎么实现?\n",
    "print(f'stu1 = {stu1}')\n",
    "print(f'stu2 = {stu2}')\n",
    "# 说明 : 这个语法底层没有调⽤ str ⾏为\n",
    "# print(f'{stu1 = }')\n",
    "# print(f'{stu2 = }')\n",
    "# 就这样判断, ⽽且还要返回 True\n",
    "# == 运算符底层是调⽤ object 类的 __eq__ ⽅法\n",
    "r = stu1 == stu2\n",
    "print(r)\n",
    "# 这样判断是不是有问题呀? 奇葩了\n",
    "r2 = stu1 == dog  # 现象 : stu1 == dog 或者 dog == stu1 底层都调⽤了 Student类的 eq ⽅法\n",
    "print(r2)\n"
   ]
  },
  {
   "cell_type": "markdown",
   "id": "994e4d5f-3ce2-4996-8f2d-7cfb10b00c3d",
   "metadata": {},
   "source": [
    "* isinstance()\n",
    "  \n",
    "isinstance() 函数可以回传对象的类是否属于某⼀类\n",
    "```python\n",
    "isinstance(对象, 类)\n",
    "```"
   ]
  },
  {
   "cell_type": "code",
   "execution_count": 15,
   "id": "0dca4829-3ce4-4e26-a6c0-20caa4b700bc",
   "metadata": {
    "jp-MarkdownHeadingCollapsed": true
   },
   "outputs": [
    {
     "name": "stdout",
     "output_type": "stream",
     "text": [
      "True\n",
      "True\n"
     ]
    }
   ],
   "source": [
    "# 整型与字符串的判断\n",
    "# isinstance()\n",
    "a = 10\n",
    "b = 10.5\n",
    "r1 = isinstance(a, int)\n",
    "print(r1)\n",
    "r2 = isinstance(b, float) # int, float, tuple, dict, list, Student, Dog ...\n",
    "print(r2)"
   ]
  },
  {
   "cell_type": "markdown",
   "id": "004e8359-d270-4582-8082-67494f6d6697",
   "metadata": {},
   "source": [
    "* 重写 object 类的 eq ⽅法"
   ]
  },
  {
   "cell_type": "markdown",
   "id": "703605c9-b9ef-422f-a671-c969bec64b53",
   "metadata": {},
   "source": [
    "### Test12"
   ]
  },
  {
   "cell_type": "code",
   "execution_count": 16,
   "id": "6d434b24-40b4-4df5-ada4-194a4f727229",
   "metadata": {},
   "outputs": [
    {
     "name": "stdout",
     "output_type": "stream",
     "text": [
      "id(stu1) = 140080096330640, id(stu2) = 140080114540752\n",
      "大家好, 我叫张三, 我今年18岁了. 男.\n",
      "大家好, 我叫张三, 我今年18岁了. 男.\n",
      "result = True\n",
      "--------------------------------------------------\n",
      "Student [name = 张三, age = 18, gender = 男]\n",
      "--------------------------------------------------\n",
      "Student [name = 张三, age = 18, gender = 男]\n"
     ]
    }
   ],
   "source": [
    "# 自定义一个 Student 类\n",
    "# ctrl + 点击\n",
    "class Student(object):\n",
    "    # 属性\n",
    "    def __init__(self, name, age, gender):\n",
    "        self.name = name\n",
    "        self.age = age\n",
    "        self.gender = gender\n",
    "\n",
    "    # 行为\n",
    "    def introduce(self):\n",
    "        print(f'大家好, 我叫{self.name}, 我今年{self.age}岁了. {self.gender}.')\n",
    "\n",
    "    # 判断对象是否相等的方法 (同一类型的对象数据判断)\n",
    "    def __eq__(self, other):  # 方法重写\n",
    "        # print('-' * 50)\n",
    "        # self 就是本类的对象, 这里就是 Student 类型的对象\n",
    "        if not isinstance(other, Student): return False\n",
    "        # self 就是对象对象, other 就是传入的另一个对象\n",
    "        if self.name == other.name and self.age == other.age and self.gender == other.gender:\n",
    "            return True\n",
    "        return False\n",
    "\n",
    "    # 查看对象的数据\n",
    "    def __str__(self):\n",
    "        print('-' * 50)\n",
    "        return f'Student [name = {self.name}, age = {self.age}, gender = {self.gender}]'\n",
    "\n",
    "\n",
    "# 创建了两个学生对象, 数据是完全一样的\n",
    "# 需求 : 数据一致, 对象就相等.\n",
    "stu1 = Student('张三', 18, '男')\n",
    "stu2 = Student('张三', 18, '男')\n",
    "print(f'{id(stu1) = }, {id(stu2) = }')\n",
    "\n",
    "stu1.introduce()\n",
    "stu2.introduce()\n",
    "\n",
    "# 调用方法, 判断学生对象是否相等\n",
    "result = stu1 == stu2           # == 操作符底层调用的是 __eq__() 方法\n",
    "print(f'{result = }')\n",
    "\n",
    "# 开发中, 输出一个对象, 希望看到对象的数据, 而不是对象的内存地址\n",
    "# print(f'{stu1 = }')\n",
    "# print(f'{stu2 = }')\n",
    "\n",
    "print(stu1)\n",
    "print(stu2)"
   ]
  },
  {
   "cell_type": "markdown",
   "id": "c71838ff-1bf6-4e3b-8f4d-a2646b2cca3e",
   "metadata": {},
   "source": [
    "# 面向对象之继承特性"
   ]
  },
  {
   "cell_type": "markdown",
   "id": "d5fef9e3-eca6-4d62-967b-650d585ea1ac",
   "metadata": {},
   "source": [
    "## 类属性和类⽅法"
   ]
  },
  {
   "cell_type": "markdown",
   "id": "b269b79c-b1b0-4ef2-a8ca-3452ca411ddf",
   "metadata": {},
   "source": [
    "* 严格设计 Python ⾯向对象程序时，⼜可将类的⽅法分为实例⽅法与属性，类⽅法与属性。\n",
    "* 实例⽅法与属性的特⾊是有 self，属性开头是 self，同时所有⽅法的第⼀个参数是 self，这些是建⽴类对象时，属于对象的部分，先前所述的皆是实例⽅法与属性，使⽤时须建⽴此类的对象，然后由对象调⽤。\n",
    "* 类⽅法前⾯则是 @classmethod，所不同的是第⼀个参数习惯是⽤ cls，类⽅法与属性不需要实例化，它们可以由类本身直接调⽤，另外，类属性会随时被更新。 \n",
    "\n",
    "案例 : 定义⼀个 `Circle` 类，该类具备⼀个获取圆⾯积的⾏为。"
   ]
  },
  {
   "cell_type": "markdown",
   "id": "ed88ce99-a99e-4bd1-be74-4a3c0f1d252d",
   "metadata": {},
   "source": [
    "### Test13"
   ]
  },
  {
   "cell_type": "code",
   "execution_count": 17,
   "id": "66ef3235-3759-46c6-bba7-bf73158d0ee0",
   "metadata": {},
   "outputs": [
    {
     "name": "stdout",
     "output_type": "stream",
     "text": [
      "a1 = 78.5\n",
      "a2 = 1000\n"
     ]
    }
   ],
   "source": [
    "# 需求 : 设计一个 Circle 类, 提供一个获取圆面积的行为\n",
    "# 圆面积 : πr²\n",
    "# π = 圆周 / 直径 ≈ 3.14  常量 (不能任意被修改的)   r = radius 半径\n",
    "\n",
    "class Circle(object):  # Circle 继承自 object\n",
    "    # 数据\n",
    "    # 每⼀个对象都有⼀份 pi 数据, 造成了内存的浪费\n",
    "    def __init__(self, radius):\n",
    "        self.pi = 3.14  # pi 是⼀个常量\n",
    "        self.radius = radius  # 半径\n",
    "\n",
    "    # 获取圆⾯积的⾏为 πr²\n",
    "    def get_area(self):\n",
    "        return self.pi * self.radius ** 2\n",
    "\n",
    "\n",
    "# 创建圆对象\n",
    "c1 = Circle(5)\n",
    "a1 = c1.get_area()\n",
    "print(f'{a1 = }')\n",
    "\n",
    "c2 = Circle(10)\n",
    "# 修改 pi 的值\n",
    "# pi 常量是不应该被对象随便修改的\n",
    "c2.pi = 10\n",
    "a2 = c2.get_area()\n",
    "print(f'{a2 = }')"
   ]
  },
  {
   "cell_type": "markdown",
   "id": "e689fb58-9dd1-438c-ba7a-40c2f3046bfb",
   "metadata": {},
   "source": [
    "## Test14-改进程序"
   ]
  },
  {
   "cell_type": "code",
   "execution_count": 18,
   "id": "c8ceee6c-d366-4112-9da7-08c3e40667d6",
   "metadata": {},
   "outputs": [
    {
     "name": "stdout",
     "output_type": "stream",
     "text": [
      "a1 = 78.5\n",
      "a2 = 314.0\n"
     ]
    }
   ],
   "source": [
    "\"\"\"\n",
    " 1. pi 不应该被定义为对象数据 (常量)\n",
    " 2. pi 数据应该是被所有对象所共享的. 在内存中仅需要存储⼀份即可\n",
    "\"\"\"\n",
    "# π = 圆周 / 直径 ≈ 3.14  常量 (不能任意被修改的), 常量应该是一个类数据.\n",
    "# 类数据的特性 : 类数据在内存中仅有一份, 并且可以被该类的所有对象所共享\n",
    "\n",
    "# r = radius 半径, 每一个圆对象的半径都是不一样的, 对象数据. 每一个对象都有自己独立的对象数据. (多份)\n",
    "\n",
    "class Circle(object):\n",
    "    # 类属性 (数据，常量) 特点: 被所有对象所共享的. 在内存中仅有⼀份\n",
    "    PI = 3.14\n",
    "\n",
    "    # 初始化方法\n",
    "    def __init__(self, radius):\n",
    "        self.radius = radius\n",
    "\n",
    "    # 面积\n",
    "    def get_area(self):\n",
    "        # self 表示本类的对象\n",
    "        # return self.PI * self.radius ** 2\n",
    "        return Circle.PI * self.radius ** 2\n",
    "\n",
    "\n",
    "# 修改常量\n",
    "# Circle.PI = 10\n",
    "\n",
    "# 创建圆对象\n",
    "c1 = Circle(5)\n",
    "a1 = c1.get_area()\n",
    "print(f'{a1 = }')\n",
    "\n",
    "c2 = Circle(10)\n",
    "a2 = c2.get_area()\n",
    "print(f'{a2 = }')"
   ]
  },
  {
   "cell_type": "markdown",
   "id": "ee23a8a6-8de0-4922-bec7-584d5f458f34",
   "metadata": {},
   "source": [
    "## Test15"
   ]
  },
  {
   "cell_type": "code",
   "execution_count": 19,
   "id": "38096698-495e-45e2-b44c-89dd57099d3f",
   "metadata": {},
   "outputs": [
    {
     "name": "stdout",
     "output_type": "stream",
     "text": [
      "a1 = 78.5\n",
      "a2 = 314.0\n"
     ]
    }
   ],
   "source": [
    "class Circle(object):\n",
    "\n",
    "    # 类数据 (常量)      类数据是通过类名实现访问的\n",
    "    PI = 3.14\n",
    "\n",
    "    # 类⾏为 (⽅法) πr²，代码区实现调用\n",
    "    # 使⽤场景 : ⾏为中使⽤了类数据, 没有使⽤对象数据, 此时该⾏为应该定义为 `类⾏为`\n",
    "    # 如果⾏为访问了对象数据, ⼜访问了类数据, 此时该⾏为只能定义为对象⾏为.\n",
    "    @classmethod  # 这个装饰器代表了我们即将定义⼀个类⽅法\n",
    "    def get_area(cls, radius):  # cls => Class，类名\n",
    "        return cls.PI * radius ** 2  # Circle 类名等于 cls\n",
    "\n",
    "\n",
    "# 修改类数据\n",
    "# Circle.PI = 10\n",
    "\n",
    "# 调用\n",
    "a1 = Circle.get_area(5)\n",
    "print(f'{a1 = }')\n",
    "\n",
    "a2 = Circle.get_area(10)\n",
    "print(f'{a2 = }')"
   ]
  },
  {
   "cell_type": "markdown",
   "id": "0092f7e3-0e56-443f-987e-ab02da17ae0a",
   "metadata": {},
   "source": [
    "## Test16-类属性与对象属性 "
   ]
  },
  {
   "cell_type": "code",
   "execution_count": 20,
   "id": "ac85bc72-3e1b-4ae2-b21f-a6671eda1152",
   "metadata": {},
   "outputs": [
    {
     "name": "stdout",
     "output_type": "stream",
     "text": [
      "Student [name = ⼩三, age = 18, school_name = 北京大学]\n",
      "Student [name = 李四, age = 16, school_name = 北京大学]\n"
     ]
    }
   ],
   "source": [
    "# 定义 student 类\n",
    "class Student(object):\n",
    "    # 类数据, 该数据是属于类的, 内存中仅有⼀份\n",
    "    school_name = '清华大学'\n",
    "\n",
    "    # 属性\n",
    "    def __init__(self, name, age):\n",
    "        # 对象数据是属于对象的, 每个对象是互不影响的\n",
    "        self.name = name\n",
    "        self.age = age\n",
    "\n",
    "    def __str__(self):\n",
    "        return f'Student [name = {self.name}, age = {self.age}, school_name = {Student.school_name}]'\n",
    "\n",
    "\n",
    "# 修改类数据 : 对象共享, 仅有一份\n",
    "Student.school_name = '北京大学'\n",
    "\n",
    "# 对象数据 : 自己的\n",
    "stu1 = Student('张三', 18)\n",
    "stu1.name = '⼩三'\n",
    "print(stu1)\n",
    "\n",
    "stu2 = Student('李四', 16)\n",
    "print(stu2)"
   ]
  },
  {
   "cell_type": "markdown",
   "id": "02212d43-1215-4d7f-adc4-c1f08bfd00d8",
   "metadata": {},
   "source": [
    "## 静态⽅法"
   ]
  },
  {
   "cell_type": "markdown",
   "id": "ac4c5b07-189d-456c-a5f5-57ac5de14f94",
   "metadata": {},
   "source": [
    "静态⽅法是由 @staticmethod 开头，不存在原先的 self 或 cls 参数，这只是碰巧存在于类的函数，与类⽅法和实例⽅法没有绑定关系，这个⽅法也是由类名称直接调⽤。  \n",
    "需求：  \n",
    "1）创建⼀个 Calculator 计算器类，并在 Calculator 类中定义两个属性 price 和 color。  \n",
    "2）在 Calculator 类中定义⼀个⽅法，get_sum() 求和功能。"
   ]
  },
  {
   "cell_type": "markdown",
   "id": "55d24fa7-337e-4e53-9a8a-d8e44ed1ded1",
   "metadata": {},
   "source": [
    "### Test17"
   ]
  },
  {
   "cell_type": "code",
   "execution_count": 21,
   "id": "adf3a214-01a9-467c-ae86-16af9e14355b",
   "metadata": {},
   "outputs": [
    {
     "name": "stdout",
     "output_type": "stream",
     "text": [
      "15\n"
     ]
    }
   ],
   "source": [
    "# 计算器\n",
    "class Calculator(object):\n",
    "    # 初始化\n",
    "    def __init__(self, color, price):\n",
    "        self.color = color\n",
    "        self.price = price\n",
    "\n",
    "    # 方法中没用类数据，也没用对象数据，应该设计为静态方法。\n",
    "    def get_sum(self, *args):\n",
    "        r = 0\n",
    "        for i in args:\n",
    "            r += i\n",
    "        return r\n",
    "\n",
    "\n",
    "c = Calculator('pink', 9.9)\n",
    "print(c.get_sum(1, 2, 3, 4, 5))"
   ]
  },
  {
   "cell_type": "markdown",
   "id": "49ec069b-4efa-458c-a419-d3a91d0b0e8d",
   "metadata": {},
   "source": [
    "### Test18-改进实现"
   ]
  },
  {
   "cell_type": "code",
   "execution_count": 22,
   "id": "2c3ed25f-a1b1-4ede-ad84-df0698aaf8e1",
   "metadata": {},
   "outputs": [
    {
     "name": "stdout",
     "output_type": "stream",
     "text": [
      "r = 15\n"
     ]
    }
   ],
   "source": [
    "\"\"\"\n",
    " 思考1 : 什么时候使⽤对象数据, 类数据 ???\n",
    "     对象数据 : 对象特有的. 对象数据存储在堆区中, 每个对象数据都是独⽴的. \n",
    "     类数据 : 该类对象所共享的数据. 内存中仅有⼀份, 存储在类代码区中.\n",
    " 思考2 : 什么时候使⽤对象⽅法, 类⽅法, 静态⽅法 ???\n",
    "     对象⽅法 : 访问对象在堆区空间中的数据.\n",
    "     类⽅法 : 访问类中的唯⼀数据\n",
    "     静态⽅法 : 该⾏为既不访问对象数据, 也不访问类数据, 此时该⾏为应该定义为静态⾏为.\n",
    "\"\"\"\n",
    "'''\n",
    "    面向对象中的数据和方法 :\n",
    "\n",
    "    1. 对象数据 : init方法中一定要使用 self.属性名 = 值 实现初始化. 每个对象在堆区中都有自己独立的空间实现数据存储.\n",
    "    2. 类数据 : 内存中仅有一份, 在代码区中实现的存储, 被该类的所有对象所共享\n",
    "    3. 对象方法 : 该方法需要去堆区中取对象的独有数据. 对象方法的第一个默认参数就是 self, 不能省略.\n",
    "    4. 类方法 : 该方法需要访问类数据, 类方法是直接从代码区中实现调用的方法, 第一个默认参数是 cls, 不能省略.\n",
    "    5. 静态方法 : 如果一个方法既不访问对象数据, 也不访问类数据, 那么该方法应该被设计为静态方法.\n",
    "'''\n",
    "\n",
    "\n",
    "# 计算器\n",
    "class Calculator(object):\n",
    "    # 初始化\n",
    "    def __init__(self, color, price):\n",
    "        self.color = color\n",
    "        self.price = price\n",
    "\n",
    "    # 静态⾏为, 既没有 self 对象, 也没有 cls 对象\n",
    "    # 静态方法可以直接通过类名调用，无须通过对象调用。\n",
    "    @staticmethod\n",
    "    def get_sum(*args):\n",
    "        r = 0\n",
    "        for i in args:\n",
    "            r += i\n",
    "        return r\n",
    "\n",
    "\n",
    "r = Calculator.get_sum(1, 2, 3, 4, 5)\n",
    "print(f'{r = }')"
   ]
  },
  {
   "cell_type": "markdown",
   "id": "5ec087b5-d2b8-45b2-9688-345793756f36",
   "metadata": {},
   "source": [
    "说明：调出继承结构窗⼝图"
   ]
  },
  {
   "cell_type": "markdown",
   "id": "d439cff9-da58-4df7-8449-07dfa2b56103",
   "metadata": {},
   "source": [
    "![](img/h1.jpg)  \n",
    "![](img/h2.jpg)"
   ]
  },
  {
   "cell_type": "markdown",
   "id": "f54d6075-0a9a-416b-a134-87b409f9f5f2",
   "metadata": {},
   "source": [
    "## 继承问题引出"
   ]
  },
  {
   "cell_type": "markdown",
   "id": "d9c6b4bd-ca0b-48c5-8deb-d1b39b778be3",
   "metadata": {},
   "source": [
    "练习 : 写⼀个学⽣类, 教师类, 校⻓类"
   ]
  },
  {
   "cell_type": "markdown",
   "id": "f29229e0-cb7b-4821-93f2-79de454c4f0d",
   "metadata": {},
   "source": [
    "### Test19-继承的引出"
   ]
  },
  {
   "cell_type": "code",
   "execution_count": 23,
   "id": "84965ca5-94d7-4bcf-a976-6f4765a4b62c",
   "metadata": {},
   "outputs": [
    {
     "name": "stdout",
     "output_type": "stream",
     "text": [
      "Student [name=张三, age=18, gender=男, stu_id=stu_007]\n",
      "Teacher [name=Jack, age=18, gender=男, teaching_field=sport and english]\n",
      "SchoolMaster [name=小美, age=38, gender=女, working_years=50]\n"
     ]
    }
   ],
   "source": [
    "# 学生类, 教师类, 校长类 -> 共同的爹 Person\n",
    "'''\n",
    "    继承要满足 is a 的关系 (物种)\n",
    "    Student is a Person\n",
    "    Teacher is a Person\n",
    "    SchoolMaster is a Person\n",
    "'''\n",
    "\n",
    "# 学⽣类\n",
    "# 继承的格式 : ⾃定义类(⽗类):\n",
    "class Student(object):      # Student is a object\n",
    "    # 属性\n",
    "    def __init__(self, name, age, gender, stu_id):\n",
    "        self.name = name\n",
    "        self.age = age\n",
    "        self.gender = gender\n",
    "        # 学号\n",
    "        self.stu_id = stu_id\n",
    "\n",
    "    # 行为\n",
    "    def __str__(self):\n",
    "        return f'Student [name={self.name}, age={self.age}, gender={self.gender}, stu_id={self.stu_id}]'\n",
    "\n",
    "\n",
    "class Teacher(object):      # Teacher is a object\n",
    "    # 属性\n",
    "    def __init__(self, name, age, gender, teaching_field):\n",
    "        self.name = name\n",
    "        self.age = age\n",
    "        self.gender = gender\n",
    "        self.teaching_field = teaching_field\n",
    "\n",
    "    # 行为\n",
    "    def __str__(self):\n",
    "        return f'Teacher [name={self.name}, age={self.age}, gender={self.gender}, teaching_field={self.teaching_field}]'\n",
    "\n",
    "\n",
    "class SchoolMaster(object):     # SchoolMaster is a object\n",
    "    # 属性\n",
    "    def __init__(self, name, age, gender, working_years):\n",
    "        self.name = name\n",
    "        self.age = age\n",
    "        self.gender = gender\n",
    "        self.working_years = working_years\n",
    "\n",
    "    # 行为\n",
    "    def __str__(self):\n",
    "        return f'SchoolMaster [name={self.name}, age={self.age}, gender={self.gender}, working_years={self.working_years}]'\n",
    "\n",
    "\n",
    "# 调用\n",
    "stu = Student('张三', 18, '男', 'stu_007')\n",
    "t = Teacher('Jack', 18, '男', 'sport and english')\n",
    "s = SchoolMaster('小美', 38, '女', 50)\n",
    "\n",
    "print(stu)\n",
    "print(t)\n",
    "print(s)"
   ]
  },
  {
   "cell_type": "markdown",
   "id": "26af0322-c578-4034-8576-d587e62aa951",
   "metadata": {},
   "source": [
    "上面的代码存在大量的冗余。"
   ]
  },
  {
   "cell_type": "markdown",
   "id": "0a72c5e2-0e9a-4dbe-a1e0-dd583c6fb12f",
   "metadata": {},
   "source": [
    "## 什么是继承?"
   ]
  },
  {
   "cell_type": "markdown",
   "id": "765691b4-dd76-48d8-8792-969d83cc8eff",
   "metadata": {},
   "source": [
    "将⼀个已有类中的数据和⽅法保留，并加上⾃⼰特殊的数据和⽅法，从⽽构成⼀个新类，这就是继承的概念。  \n",
    "\n",
    "继承性允许派⽣类继承基类的部分成员，并允许增加新的成员或重定义基类的成员。"
   ]
  },
  {
   "cell_type": "markdown",
   "id": "9860b6d7-2eec-4058-a9b4-b2ce4a69f42a",
   "metadata": {},
   "source": [
    "### 类的继承"
   ]
  },
  {
   "cell_type": "markdown",
   "id": "457e31c5-ecb1-40ea-a594-7cfdfc5626a8",
   "metadata": {},
   "source": [
    "* 在⾯向对象程序设计中类是可以继承的，其中被继承的类称⽗类（parent class），基类（base class）或超类（super class），继承的类称为⼦类（child class）或衍⽣类（derived class），类继承的最⼤优点是许多⽗类的公有⽅法或属性，在⼦类中不⽤重新设计，可以直接引⽤。衍⽣类继承了基类的公有属性与⽅法，同时也可以有⾃⼰的属性与⽅法。\n",
    "* 这是⼀个拼爹的时代。\n",
    "* 通过已有的类建⽴新类的过程，叫做类的派⽣。\n",
    "* Python中有两种继承，⼀种是单继承，另⼀种是多重继承。\n",
    "* 继承性允许派⽣类继承基类的部分成员，并允许增加新的成员或重定义基类的成员。\n",
    "* Python语⾔中，派⽣类继承了基类的全部数据成员和除构造函数及析构函数之外的全部函数。"
   ]
  },
  {
   "cell_type": "markdown",
   "id": "de10dd49-3733-4fc9-80e8-4336df981a00",
   "metadata": {},
   "source": [
    "### 继承的注意点"
   ]
  },
  {
   "cell_type": "markdown",
   "id": "1d95c773-4c7f-4e77-b98d-b88a0d965d5e",
   "metadata": {},
   "source": [
    "1. 继承是类在继承，⽽不是对象在继承。每个对象之间是毫⽆关系的，对象的属性值相互之间不会影响。\n",
    "2. 什么时候需要使⽤继承？ ⼀定要满⾜ is a 关系，继承强调的是：同⼀个 \"物种\"。\n",
    "3. 不要为了仅仅只是得到某个类的成员⽽去继承，不要为了继承⽽继承。"
   ]
  },
  {
   "cell_type": "markdown",
   "id": "5b0df39e-f8bb-461b-bb1b-43f4ff226eb1",
   "metadata": {},
   "source": [
    "### 如何取得基类的私有属性"
   ]
  },
  {
   "cell_type": "markdown",
   "id": "401cec27-ad8b-48d4-88d8-c261aba2f0db",
   "metadata": {},
   "source": [
    "基于保护原因，基本上类定义外是⽆法直接取得类内的私有属性，即使是它的衍⽣类也⽆法直接读取，如果真要取得可以使⽤ return ⽅式，回传私有属性内容。"
   ]
  },
  {
   "cell_type": "markdown",
   "id": "d193c709-5b68-48cf-a3c4-f07e99ebcbfe",
   "metadata": {},
   "source": [
    "### 请说明⽗类与⼦类的联系与区别"
   ]
  },
  {
   "cell_type": "markdown",
   "id": "7efd60a9-f452-4c35-ac13-b75d7b3ea3b2",
   "metadata": {},
   "source": [
    "⼤的更⼀般的类可以看作⽗类，包含在其中的特殊的，具体的类是⼦类，⼦类与⽗类的关系是：⼦类对象 \"is a\" ⽗类对象。从层次关系上讲，⼦类继承⾃⽗类，⽗类的对象引⽤可以指向⼦类对象，反之则不⾏。  \n",
    "\n",
    "从成员上讲，⼦类可以⽐⽗类拥有更多的成员变量和成员⽅法，这些成员变量和成员⽅法是⼦类独有的，⽗类不具有也不能使⽤，但是反过来，⽗类中具有公共，保护权限的成员变量和成员⽅法同时也属于⼦类，⼦类可以使⽤。"
   ]
  },
  {
   "cell_type": "markdown",
   "id": "c899d70e-95d7-4bb9-b311-067448d5ca7b",
   "metadata": {},
   "source": [
    "## 继承的练习"
   ]
  },
  {
   "cell_type": "markdown",
   "id": "5893f723-b128-40f0-87bc-6e00e84666b2",
   "metadata": {},
   "source": [
    "说明 : Animal 是⽗类, Dog 和 Cat 都是 Animal 的⼦类. ArmyDog(军⽝)是 Dog 的⼦类"
   ]
  },
  {
   "cell_type": "markdown",
   "id": "41dae13b-c359-4f3a-9a94-0bb3dafb7740",
   "metadata": {},
   "source": [
    "### Test20"
   ]
  },
  {
   "cell_type": "code",
   "execution_count": 24,
   "id": "e85af878-b8c2-4a8e-b871-96baebb478b7",
   "metadata": {},
   "outputs": [
    {
     "name": "stdout",
     "output_type": "stream",
     "text": [
      "5岁的加菲猫正在吃东西...\n",
      "5岁的加菲猫正在疯狂裸奔...\n",
      "5岁的加菲猫正在疯狂抓老鼠...\n",
      "--------------------------------------------------\n",
      "3岁的旺财正在吃东西...\n",
      "3岁的旺财正在疯狂裸奔...\n",
      "3岁的旺财正在保护家...\n",
      "--------------------------------------------------\n",
      "150岁的哮天犬正在吃东西...\n",
      "150岁的哮天犬正在疯狂裸奔...\n",
      "150岁的哮天犬正在保护家...\n",
      "150岁的哮天犬正在疯狂炸碉堡...\n"
     ]
    }
   ],
   "source": [
    "'''\n",
    "    Cat, Dog, ArmyDog 类\n",
    "\n",
    "    共同的属性: name, age\n",
    "    共同的行为: eat, run\n",
    "'''\n",
    "\n",
    "\"\"\"\n",
    "需求说明：\n",
    "\n",
    "Animal 类\n",
    "\n",
    "# 属性\n",
    "1.name\n",
    "2.age\n",
    "\n",
    "# ⽅法\n",
    "1.eat\n",
    "2.run\n",
    "\n",
    "Dog 类继承 Animal 类\n",
    "\n",
    "# 特有⽅法\n",
    "1.protected_home\n",
    "\n",
    "Cat类继承Animal类\n",
    "\n",
    "# 特有⽅法\n",
    "1.catchMouse\n",
    "\n",
    "ArmyDog 类继承 Dog 类\n",
    "\n",
    "# 特有⽅法\n",
    "1.bombBlockhouse\n",
    "\"\"\"\n",
    "\n",
    "\n",
    "# 定义一个父类\n",
    "class Animal(object):\n",
    "    # 属性\n",
    "    def __init__(self, name, age):\n",
    "        self.name = name\n",
    "        self.age = age\n",
    "\n",
    "    # 行为\n",
    "    def eat(self):\n",
    "        print(f'{self.age}岁的{self.name}正在吃东西...')\n",
    "\n",
    "    def run(self):\n",
    "        print(f'{self.age}岁的{self.name}正在疯狂裸奔...')\n",
    "\n",
    "\n",
    "# 定义 Cat 类, 继承自 Animal 类\n",
    "class Cat(Animal):\n",
    "    # 特有行为\n",
    "    def catch_mouse(self):\n",
    "        print(f'{self.age}岁的{self.name}正在疯狂抓老鼠...')\n",
    "\n",
    "\n",
    "# 定义一个 Dog 类, 继承自 Animal 类\n",
    "class Dog(Animal):\n",
    "    # 特有方法\n",
    "    def protected_home(self):\n",
    "        print(f'{self.age}岁的{self.name}正在保护家...')\n",
    "\n",
    "\n",
    "# 定义一个 ArmyDog 类, 继承自 Dog 类\n",
    "class ArmyDog(Dog):\n",
    "    # 特有方法\n",
    "    def bomb_blockhouse(self):\n",
    "        print(f'{self.age}岁的{self.name}正在疯狂炸碉堡...')\n",
    "\n",
    "\n",
    "# 测试对象, 实现调用\n",
    "cat = Cat('加菲猫', 5)\n",
    "cat.eat()\n",
    "cat.run()\n",
    "cat.catch_mouse()\n",
    "\n",
    "print('-' * 50)\n",
    "\n",
    "dog = Dog('旺财', 3)\n",
    "dog.eat()\n",
    "dog.run()\n",
    "dog.protected_home()\n",
    "\n",
    "print('-' * 50)\n",
    "\n",
    "army_dog = ArmyDog('哮天犬', 150)\n",
    "army_dog.eat()\n",
    "army_dog.run()\n",
    "army_dog.protected_home()\n",
    "army_dog.bomb_blockhouse()"
   ]
  },
  {
   "cell_type": "markdown",
   "id": "7d54b56c-089b-49a5-a842-6e57593e7f56",
   "metadata": {},
   "source": [
    "## 多继承"
   ]
  },
  {
   "cell_type": "markdown",
   "id": "8f4e2828-8a91-45a5-985e-1143e27fba0d",
   "metadata": {},
   "source": [
    "Python⽀持多继承，但慎⽤。"
   ]
  },
  {
   "cell_type": "markdown",
   "id": "9046f15e-ee0c-4b3c-a73c-f6c470b7c375",
   "metadata": {},
   "source": [
    "### Test21"
   ]
  },
  {
   "cell_type": "code",
   "execution_count": 25,
   "id": "f4e4fc0e-1d87-42de-a6d8-f2559cf78199",
   "metadata": {},
   "outputs": [
    {
     "name": "stdout",
     "output_type": "stream",
     "text": [
      "A ...\n",
      "B ...\n",
      "B -> X ...\n"
     ]
    }
   ],
   "source": [
    "# 多继承 : Python语言支持多继承, 但慎用 (不要用) !!!\n",
    "# 继承 : 亲生父亲\n",
    "# 穷爸爸和富爸爸 (大富翁 / 现金流) -> 财商\n",
    "\n",
    "\n",
    "class A(object):\n",
    "    def method_A(self):\n",
    "        print('A ...')\n",
    "\n",
    "    def method_X(self):\n",
    "        print('A -> X ...')\n",
    "\n",
    "\n",
    "class B(object):\n",
    "    def method_B(self):\n",
    "        print('B ...')\n",
    "\n",
    "    def method_X(self):\n",
    "        print('B -> X ...')\n",
    "\n",
    "\n",
    "# C 类继承子 A 和 B\n",
    "class C(B, A):\n",
    "# class C(A, B):\n",
    "    pass\n",
    "\n",
    "\n",
    "c = C()\n",
    "c.method_A()\n",
    "c.method_B()\n",
    "# c 对象调用的 method_x() 方法究竟来自于哪里 ???\n",
    "c.method_X()"
   ]
  },
  {
   "cell_type": "markdown",
   "id": "3e32dd6e-2be4-4706-840e-2ebac8c89d42",
   "metadata": {},
   "source": [
    "### 重写⽗类⽅法"
   ]
  },
  {
   "cell_type": "markdown",
   "id": "5c044b17-35c0-4dc0-9de0-071eeb290d74",
   "metadata": {},
   "source": [
    "在继承关系中，⼦类会⾃动继承⽗类中定义的⽅法，但有时在⼦类中需要对继承的⽅法进⾏⼀些修改，即对⽗类的⽅法进⾏重写。   \n",
    "需要注意的是，在⼦类中重写的⽅法需要和⽗类被重写的⽅法具有相同的⽅法名，参数列表以及返回值类型。\n",
    "\n",
    "总结：⼦类重新实现⽗类的⽅法，就是⽅法的重写。执⾏的时候，如果⽅法被重写了，那么优先执⾏⼦类的⽅法。\n",
    "\n",
    "⼦类从⽗类继承，不仅继承了⽗类的属性还继承了⽗类的⽅法。⼦类确实也有这个⽅法，但是⼦类的这个⽅法实现和⽗类是不⼀样的，那么这个时候，⼦类就可以重写。  \n",
    "\n",
    "说明：  \n",
    "虽然⼦类也拥有⽗类的⾏为，但是⼦类的这个⾏为实现⽅式和⽗类是不⼀样的。这个时候，⼦类就可以按照⾃⼰的⽅式重写⽗类的⽅法。重写⽗类⽅法的步骤就是直接在⼦类的实现中，按照⾃⼰的⽅式实现⽗类的⽅法就可以了。如果⼦类重写了⽗类的⽅法，那么通过⼦类来调⽤这个⽅法时，调⽤的是⼦类⾃⼰重写的⽅法。如果⼦类没有重写⽗类的⽅法，则调⽤的是⽗类的⽅法。"
   ]
  },
  {
   "cell_type": "markdown",
   "id": "9a443cc6-06bd-4aa1-9b7a-1ef1544b41d0",
   "metadata": {},
   "source": [
    "继承体系中⽅法调⽤顺序：在⼦类中，调⽤⼀个对象⽅法。\n",
    "1. ⾸先会在⼦类中查找该⽅法。\n",
    "2. 如果⼦类中没有那么向上⼀层⽗类中查找。\n",
    "3. 如果上⼀层⽗类中也没有，再向上⼀层爷爷中查找。\n",
    "4. 直到object 类，如果还是没有，直接报错。\n",
    "\n",
    "注意：如果上⾯某⼀层中找到了该⽅法，那么直接调⽤，不会再向上查找了。"
   ]
  },
  {
   "cell_type": "markdown",
   "id": "08941a12-11eb-45ab-a589-47904e2ade3c",
   "metadata": {},
   "source": [
    "案例：  \n",
    "\n",
    "有⼀个 \"⼈\" 类，拥有⼀greeting⽅法。⼜有三个⼦类，\"中国⼈\"，\"韩国⼈\"，\"⽇本⼈\"。三个⼦类都各⾃greeting⽅法。因为三个⼦类对同⼀种⾏为都有其不同的表现形式。"
   ]
  },
  {
   "cell_type": "markdown",
   "id": "5c87b62d-86d2-420b-8838-4bfc2cf934c1",
   "metadata": {},
   "source": [
    "#### Test22-方法重写"
   ]
  },
  {
   "cell_type": "code",
   "execution_count": 26,
   "id": "c856ccdd-8bc9-4f88-9713-f79cd95510e0",
   "metadata": {},
   "outputs": [
    {
     "name": "stdout",
     "output_type": "stream",
     "text": [
      "中国人 : 你吃了没?\n",
      "韩国人 : 阿尼哈斯哟, 泡菜思密达...\n",
      "日本人 : 亚麻得, 雅鹿, 八嘎.\n",
      "日本人 : 大家好, 我是人类.\n"
     ]
    }
   ],
   "source": [
    "# 共性 : 父类\n",
    "class Person(object):\n",
    "    # 属性 (数据)\n",
    "    def __init__(self, name):\n",
    "        self.name = name\n",
    "\n",
    "    # 行为\n",
    "    def greeting(self):\n",
    "        print(f'{self.name} : 大家好, 我是人类.')\n",
    "\n",
    "\n",
    "# 子类\n",
    "class Chinese(Person):\n",
    "    # 问题 : 子类继承父类, 子类拥有了父类的所有数据和行为, 但是子类的行为实现与父类不一致, 怎么办 ???\n",
    "    # to be or not to be, that is the question!\n",
    "    # 子类重写父类的方法\n",
    "    def greeting(self):\n",
    "        print(f'{self.name} : 你吃了没?')\n",
    "\n",
    "\n",
    "\n",
    "class Korean(Person):\n",
    "    def greeting(self):\n",
    "        print(f'{self.name} : 阿尼哈斯哟, 泡菜思密达...')\n",
    "\n",
    "\n",
    "class Japanese(Person):\n",
    "\n",
    "    def greeting(self):\n",
    "        # 需求 : 主动调用父类中的该行为\n",
    "        print(f'{self.name} : 亚麻得, 雅鹿, 八嘎.')\n",
    "        super().greeting()  # 这个主动调用可以在代码的任意位置\n",
    "\n",
    "\n",
    "# 调用\n",
    "c = Chinese('中国人')\n",
    "c.greeting()\n",
    "\n",
    "k = Korean('韩国人')\n",
    "k.greeting()\n",
    "\n",
    "j = Japanese('日本人')\n",
    "j.greeting()"
   ]
  },
  {
   "cell_type": "markdown",
   "id": "cc6c602a-51d7-4529-b2bb-d566006ebacc",
   "metadata": {},
   "source": [
    "### 简述关键字super的作⽤及注意事项"
   ]
  },
  {
   "cell_type": "markdown",
   "id": "92532948-e0a6-4128-95b0-5d27962a78d6",
   "metadata": {},
   "source": [
    "如果⼦类重写了⽗类中的⽅法，但在⼦类中还想使⽤⽗类中被隐藏的⽅法，可以使⽤super关键字，另外，在⼦类的构造⽅法中也可以使⽤super关键字，其功能为调⽤⽗类的构造⽅法。  \n",
    "\n",
    "使⽤super关键字时要注意两个问题。  \n",
    "\n",
    "⾸先：使⽤super.method()调⽤⽗类中的⽅法method()，将执⾏⽗类⽅法中的所有操作，其中可能会包括⼀些原本不希望进⾏的操作，所有调⽤时要谨慎；\n",
    "\n",
    "其次：由继承性的机制可以知道，super.method()语句所调⽤的⽅法不⼀定是在⽗类中加以描述的，它也可能是⽗类从它的祖先中继承来的。因此，有可能需要按继承层次关系依次向上查询才能找\n",
    "到。 \n",
    "\n",
    "⼩结：super 指代的⽗类，如果⼦类重写了⽗类的⽅法，那么调⽤的时候，必然优先调⽤⼦类的那个重写⽅法，但是如果还想调⽤⽗类那个⽅法的话，那么就需要使⽤ super 来调⽤。"
   ]
  },
  {
   "cell_type": "markdown",
   "id": "43615282-6081-41ab-9147-2a552cd0c565",
   "metadata": {},
   "source": [
    "### 多继承练习"
   ]
  },
  {
   "cell_type": "markdown",
   "id": "be55a56a-ef17-420d-a54c-779e20e55925",
   "metadata": {},
   "source": [
    "改写前面的代码。"
   ]
  },
  {
   "cell_type": "markdown",
   "id": "ff7742ab-6ba2-42fa-9573-1cae9627253f",
   "metadata": {},
   "source": [
    "#### Test23"
   ]
  },
  {
   "cell_type": "code",
   "execution_count": 27,
   "id": "38b86156-ce52-4d94-96f2-d1deb73edf26",
   "metadata": {},
   "outputs": [
    {
     "name": "stdout",
     "output_type": "stream",
     "text": [
      "Student [name=张三, age=18, gender=男, stu_id=stu_007]\n",
      "Teacher [name=Jack, age=18, gender=男, teaching_field=sport and english]\n",
      "SchoolMaster [name=小美, age=38, gender=女, working_years=50]\n"
     ]
    }
   ],
   "source": [
    "# 学生类, 教师类, 校长类 -> 共同的爹 Person\n",
    "'''\n",
    "    继承要满足 is a 的关系 (物种)\n",
    "    Student is a Person\n",
    "    Teacher is a Person\n",
    "    SchoolMaster is a Person\n",
    "'''\n",
    "\n",
    "\n",
    "class Student(object):      # Student is a object\n",
    "    # 属性\n",
    "    def __init__(self, name, age, gender, stu_id):\n",
    "        self.name = name\n",
    "        self.age = age\n",
    "        self.gender = gender\n",
    "        self.stu_id = stu_id\n",
    "\n",
    "    # 行为\n",
    "    def __str__(self):\n",
    "        return f'Student [name={self.name}, age={self.age}, gender={self.gender}, stu_id={self.stu_id}]'\n",
    "\n",
    "\n",
    "class Teacher(object):      # Teacher is a Object\n",
    "    # 属性\n",
    "    def __init__(self, name, age, gender, teaching_field):\n",
    "        self.name = name\n",
    "        self.age = age\n",
    "        self.gender = gender\n",
    "        self.teaching_field = teaching_field\n",
    "\n",
    "    # 行为\n",
    "    def __str__(self):\n",
    "        return f'Teacher [name={self.name}, age={self.age}, gender={self.gender}, teaching_field={self.teaching_field}]'\n",
    "\n",
    "\n",
    "class SchoolMaster(object):     # SchoolMaster is a object\n",
    "    # 属性\n",
    "    def __init__(self, name, age, gender, working_years):\n",
    "        self.name = name\n",
    "        self.age = age\n",
    "        self.gender = gender\n",
    "        self.working_years = working_years\n",
    "\n",
    "    # 行为\n",
    "    def __str__(self):\n",
    "        return f'SchoolMaster [name={self.name}, age={self.age}, gender={self.gender}, working_years={self.working_years}]'\n",
    "\n",
    "\n",
    "# 调用\n",
    "stu = Student('张三', 18, '男', 'stu_007')\n",
    "t = Teacher('Jack', 18, '男', 'sport and english')\n",
    "s = SchoolMaster('小美', 38, '女', 50)\n",
    "\n",
    "print(stu)\n",
    "print(t)\n",
    "print(s)"
   ]
  },
  {
   "cell_type": "markdown",
   "id": "a9cd40ee-dab9-4d4e-b0b0-d247c9aa35c2",
   "metadata": {},
   "source": [
    "#### Test24-改进程序"
   ]
  },
  {
   "cell_type": "code",
   "execution_count": 28,
   "id": "675c4ed3-9819-4e04-acf5-3eceec1250e6",
   "metadata": {},
   "outputs": [
    {
     "name": "stdout",
     "output_type": "stream",
     "text": [
      "Student [Person [name=张三, age=18, gender=男], stu_id=stu_007]\n",
      "Teacher [Person [name=Jack, age=18, gender=男], teaching_field=sport and english]\n",
      "SchoolMaster [Person [name=小美, age=38, gender=女], working_years=50]\n"
     ]
    }
   ],
   "source": [
    "\"\"\"\n",
    "    问题 : 功能确实实现了, 但代码太冗余了.\n",
    "    \n",
    "    祖宗类 object 所有类都直接或间接继承⾃ object 类\n",
    "    \n",
    "    ⽗类 (基类/超类) superclass\n",
    "    ⼦类 (派⽣类) derived class\n",
    "    \n",
    "    关系 : is a ⼦类 is a ⽗类\n",
    "    \n",
    "    Student, Teacher, SchoolMaster 类能不能抽象出⼀个 `⽗类` ???\n",
    "    ⽗类 Person\n",
    "    继承要满足 is a 的关系 (物种)\n",
    "    学生类, 教师类, 校长类 -> 共同的爹 Person\n",
    "        Student is a Person 学⽣是⼀个⼈\n",
    "        Teacher is a Person ⽼师是⼀个⼈\n",
    "        SchoolMaster is a Person 校⻓是⼀个⼈\n",
    "        \n",
    "    步骤1 : 先定义⽗类, 将⼦类中共有的数据和⾏为编写到⽗类代码中.\n",
    "    步骤2 : 再定义⼦类, 让⼦类继承该⽗类.\n",
    "    \n",
    "    格式 : class ⼦类类名(⽗类类名): pass\n",
    "    特点 : ⼦类 `⽆条件` 拥有⽗类中定义的属性和⾏为\n",
    "    ⼦类 = ⽗类 + ⾃⼰特有的属性和⾏为, 因为⼦类⼀定⽐⽗类更加强⼤.\n",
    "\"\"\"\n",
    "\n",
    "\n",
    "# 定义一个父类 (共性)\n",
    "class Person(object):\n",
    "    # 属性\n",
    "    def __init__(self, name, age, gender):\n",
    "        self.name = name\n",
    "        self.age = age\n",
    "        self.gender = gender\n",
    "\n",
    "    # 行为\n",
    "    def __str__(self):\n",
    "        return f'Person [name={self.name}, age={self.age}, gender={self.gender}]'\n",
    "\n",
    "\n",
    "class Student(Person):      # Student is a Object\n",
    "    # 属性\n",
    "    def __init__(self, name, age, gender, stu_id):\n",
    "        # 主动调用父类 init 方法, 将 name, age, gender 传入\n",
    "        super().__init__(name, age, gender)\n",
    "        self.stu_id = stu_id\n",
    "\n",
    "    # 行为\n",
    "    def __str__(self):\n",
    "        # 父类数据\n",
    "        return f'Student [{super().__str__()}, stu_id={self.stu_id}]'\n",
    "\n",
    "\n",
    "\n",
    "class Teacher(Person):      # Teacher is a Object\n",
    "    # 属性\n",
    "    def __init__(self, name, age, gender, teaching_field):\n",
    "        super(Teacher, self).__init__(name, age, gender)\n",
    "        self.teaching_field = teaching_field\n",
    "\n",
    "    # 行为\n",
    "    def __str__(self):\n",
    "        return f'Teacher [{super().__str__()}, teaching_field={self.teaching_field}]'\n",
    "\n",
    "\n",
    "class SchoolMaster(Person):     # SchoolMaster is a object\n",
    "    # 属性\n",
    "    def __init__(self, name, age, gender, working_years):\n",
    "        # 父类中定义的数据由父类进行初始化\n",
    "        super().__init__(name, age, gender)\n",
    "        # 子类的特有数据自己进行初始化\n",
    "        self.working_years = working_years\n",
    "\n",
    "    # 行为\n",
    "    def __str__(self):\n",
    "        return f'SchoolMaster [{super().__str__()}, working_years={self.working_years}]'\n",
    "\n",
    "\n",
    "# 调用\n",
    "stu = Student('张三', 18, '男', 'stu_007')\n",
    "t = Teacher('Jack', 18, '男', 'sport and english')\n",
    "s = SchoolMaster('小美', 38, '女', 50)\n",
    "\n",
    "print(stu)\n",
    "print(t)\n",
    "print(s)"
   ]
  },
  {
   "cell_type": "markdown",
   "id": "b5402af0-e89f-4832-bdf5-be6adfe78be3",
   "metadata": {},
   "source": [
    "# 面向对象之多态特性"
   ]
  },
  {
   "cell_type": "markdown",
   "id": "c35f5e46-0d33-46bf-8c9a-46cf81f574b7",
   "metadata": {},
   "source": [
    "父类的引用=具体的子类对象  \n",
    "Person={Barber, Actress, Doctor}"
   ]
  },
  {
   "cell_type": "markdown",
   "id": "02152cdf-ae98-429f-af88-7412398026ef",
   "metadata": {},
   "source": [
    "## 多态性的概念"
   ]
  },
  {
   "cell_type": "markdown",
   "id": "0e703bba-abfc-4fe4-bbb5-91c346771af1",
   "metadata": {},
   "source": [
    "1. 在⾯向对象程序设计中，不同的对象可以调⽤相同名称的函数并导致完全不同的⾏为的现象称为**多态性**。\n",
    "2. 在⾯向对象的程序设计中，使⽤多态能够增强程序的 *可扩充性*。\n",
    "3. 在⾯向对象设计思想中，多态可以理解为 \"⼀种接⼝，多种实现或多种⽅法\"。\n",
    "   \n",
    "Python 允许将⼀个⼦类的对象赋给⽗类的变量，这称为对象转型。  \n",
    "在设计⼀个⽅法时，通常希望该⽅法具备⼀定的**通⽤性**。在同⼀个⽅法中，这种由于 *参数类型不同⽽导致执⾏效果各异的现象就是多态*。   \n",
    "在Python中为了实现多态，允许使⽤⼀个⽗类类型的变量来引⽤⼀个⼦类类型的对象，根据被引⽤⼦类对象特征的不同，得到不同的运⾏结果。"
   ]
  },
  {
   "cell_type": "markdown",
   "id": "71b3661f-c903-4921-8770-f8213fadb442",
   "metadata": {},
   "source": [
    "## 案例引⼊案例引⼊"
   ]
  },
  {
   "cell_type": "markdown",
   "id": "76e62c3e-bd9c-4196-abdb-946f61d90de3",
   "metadata": {},
   "source": [
    "**多态的基础是继承**。类之间先有继承关系之后,才会产⽣多态的形式。  \n",
    "\n",
    "同⼀个⾏为，对于传⼊不同的 `对象` ⽽⾔，具有完全不同的表现形式。  \n",
    "\n",
    "例如：当听到 cut 这个单词时，理发师的⾏为是剪发，演员的⾏为是停⽌表演，医⽣就准备给你开⼑了。"
   ]
  },
  {
   "cell_type": "markdown",
   "id": "b8797bf2-f67a-4c63-a314-87eade933988",
   "metadata": {},
   "source": [
    "### Test25-多态案例实现"
   ]
  },
  {
   "cell_type": "code",
   "execution_count": 29,
   "id": "3fddcdad-6da6-4a6d-8091-edb0b611e1b6",
   "metadata": {},
   "outputs": [
    {
     "name": "stdout",
     "output_type": "stream",
     "text": [
      "Person类正在执行xxxooo...\n",
      "执⾏...\n",
      "理发师正在为顾客认真细致的剪头发.\n",
      "理发师正在边工作边把妹...\n"
     ]
    }
   ],
   "source": [
    "\"\"\"\n",
    " ⾯向对象的三⼤特性 :\n",
    " 1. 封装 ⾃定义类 -> (数据+⾏为) 属性封装 -> (数据的分装)\n",
    " 2. 继承 Python 体系的基础\n",
    " 3. 多态 基础: 基于继承语法.\n",
    " ⼀个⾏为拥有多种不同的执⾏形态\n",
    " 4. 抽象\n",
    " ⽣活中 : cut() ⾏为\n",
    " 理发师 : 剪发⾏为\n",
    " 演员 : 停⽌表演⾏为\n",
    " 医⽣ : 开⼑的⾏为\n",
    "\"\"\"\n",
    "\n",
    "\n",
    "# Person 基类\n",
    "class Person(object):\n",
    "    # 属性\n",
    "    def __init__(self, name):\n",
    "        self.name = name\n",
    "\n",
    "    # 行为\n",
    "    def do_something(self):\n",
    "        print('Person类正在执行xxxooo...')\n",
    "\n",
    "# 理发师\n",
    "class Barber(Person):\n",
    "    # 重写父类的 do_something() 行为\n",
    "    def do_something(self):\n",
    "        print(f'{self.name}正在为顾客认真细致的剪头发.')\n",
    "\n",
    "    # 特有行为\n",
    "    def chasing_girls(self):\n",
    "        print(f'{self.name}正在边工作边把妹...')\n",
    "\n",
    "# 女演员\n",
    "class Actress(Person):\n",
    "    # 重写父类的 do_something() 行为\n",
    "    def do_something(self):\n",
    "        print(f'{self.name}正准备停止表演, 切换镜头.')\n",
    "\n",
    "    # 特有行为\n",
    "    def be_famous(self):\n",
    "        print(f'{self.name}正走在成名的康庄大道上...')\n",
    "\n",
    "# 医生\n",
    "class Doctor(Person):\n",
    "    # 重写父类的 do_something() 行为\n",
    "    def do_something(self):\n",
    "        print(f'{self.name}正准备拿手术刀给你开膛破肚.')\n",
    "\n",
    "    # 特有行为\n",
    "    def tempatation_uniform(self):\n",
    "        print(f'{self.name}正在手术台上对你进行制服诱惑...')\n",
    "\n",
    "# 定义⼀个函数, 接收 Person 类型的参数\n",
    "# 多态的特性 : ⽗类指针(类型) 可以指向⼦类对象, 但是⼦类对象有很多\n",
    "#      函数 : 对象 (理发师, 女演员, 女医生 ...)\n",
    "def cut(p: Person):       \n",
    "    # Person 类型的对象听到 cut ⾏为后, 需要执⾏⼀些代码\n",
    "    # ⽗类定义的公共⾏为, ⼦类⼀定有\n",
    "    p.do_something()      # 执行父类中的公共行为\n",
    "\n",
    "    # 思考 : 在这⾥能不能让 p 对象执⾏⼦类的特有⾏为呢 ???\n",
    "    # ⼦类特有的⾏为, 每⼀个⼦类特有的⾏为都不⼀样\n",
    "    # p 是一个动态变化的对象, 因此行为也是动态变化.\n",
    "    if isinstance(p, Doctor):\n",
    "        p.tempatation_uniform()  # 执行子类的特有行为\n",
    "    elif isinstance(p, Actress):\n",
    "        p.be_famous()\n",
    "    elif isinstance(p, Barber):\n",
    "        p.chasing_girls()\n",
    "    else:\n",
    "        print('执⾏...')\n",
    "\n",
    "# ⽗类类型可以接收⼦类对象\n",
    "p: Person = Barber('理发师')\n",
    "\n",
    "# 测试调用\n",
    "p = Person('⼈类')\n",
    "b = Barber('理发师')\n",
    "a = Actress('女演员')\n",
    "d = Doctor('女医生')\n",
    "\n",
    "# 调⽤ cut() ⾏为时, 传递的是 Person 类的⼦类对象, 不同的⼦类, 执⾏的⾏为就不同\n",
    "cut(p)\n",
    "cut(b)"
   ]
  },
  {
   "cell_type": "markdown",
   "id": "8d7b6877-70b0-4690-8e52-2f4bb7edef98",
   "metadata": {},
   "source": [
    "## 多态强化练习"
   ]
  },
  {
   "cell_type": "markdown",
   "id": "1e82631f-ddcd-4067-b722-ba50d575d0bd",
   "metadata": {},
   "source": [
    "设计⼀个共性的 `动物类`。  \n",
    "⼦类有：狗类，猫类，⻦类都继承⾃动物类，有名称属性和吃的⾏为。  \n",
    "最后设计⼀个Person类，拥有喂动物的⾏为。  "
   ]
  },
  {
   "cell_type": "markdown",
   "id": "f7aaf3e1-aa53-41bb-b797-1c2910ae5efd",
   "metadata": {},
   "source": [
    "### Test26"
   ]
  },
  {
   "cell_type": "code",
   "execution_count": 30,
   "id": "000386ab-536e-4f4a-a741-ae8faf54169d",
   "metadata": {},
   "outputs": [
    {
     "name": "stdout",
     "output_type": "stream",
     "text": [
      "孙悟空 正准备喂 鹦鹉 吃 虫子.\n",
      "鹦鹉 is eating 虫子 ...\n",
      "鹦鹉正在疯狂跳钢管舞, 美死了 ...\n"
     ]
    }
   ],
   "source": [
    "# superclass ⽗类/超类/基类\n",
    "class Animal(object):\n",
    "    # 属性 (姓名)\n",
    "    def __init__(self, name):\n",
    "        self.name = name\n",
    "\n",
    "    #  ⾏为 eat() 多态⾏为\n",
    "    def eat(self, food):\n",
    "       print(f'{self.name} is eating {food.name} ...')\n",
    "\n",
    "\n",
    "# subclass ⼦类/派⽣类\n",
    "class Dog(Animal):\n",
    "    # 属性\n",
    "\n",
    "    # 特有行为\n",
    "    def bomb_blockhouse(self):\n",
    "        print(f'{self.name}正在疯狂炸碉堡, 碉堡了...')\n",
    "\n",
    "\n",
    "class Cat(Animal):\n",
    "    # 属性\n",
    "\n",
    "    # 特有行为\n",
    "    def mymoe(self):\n",
    "        print(f'{self.name}正在疯狂卖萌, 萌化了 ...')\n",
    "\n",
    "\n",
    "class Bird(Animal):\n",
    "    # 属性\n",
    "\n",
    "    # 特有行为\n",
    "    def pole_dance(self):\n",
    "        print(f'{self.name}正在疯狂跳钢管舞, 美死了 ...')\n",
    "\n",
    "\n",
    "class Food(object):\n",
    "    # 属性\n",
    "    def __init__(self, name):\n",
    "        self.name = name\n",
    "\n",
    "\n",
    "# 骨头\n",
    "class Bone(Food):\n",
    "    # 属性\n",
    "    def __init__(self):\n",
    "        # 调用父类时, 直接确定参数, 不需要外部传入\n",
    "        super(Bone, self).__init__('骨头')\n",
    "\n",
    "\n",
    "class Fish(Food):\n",
    "    # 属性\n",
    "    def __init__(self):\n",
    "        super().__init__('鱼')\n",
    "\n",
    "\n",
    "class Warm(Food):\n",
    "    # 属性\n",
    "    def __init__(self):\n",
    "        super().__init__('虫子')\n",
    "\n",
    "# Person  ⼈类\n",
    "class Person(object):\n",
    "    # 属性\n",
    "    def __init__(self, name):\n",
    "        self.name = name\n",
    "\n",
    "    # 行为 : 喂 (动物 Animal) 吃 (食物 Food)\n",
    "    def feed(self, animal: Animal, food: Food):\n",
    "\n",
    "        print(f'{self.name} 正准备喂 {animal.name} 吃 {food.name}.')\n",
    "\n",
    "        # 调用的是公共行为, 公共行为就是父类中定义的行为\n",
    "        # 公共行为的特点 : 一定不会报错, 可以直接调用\n",
    "        # 执⾏ Animal公有⾏为\n",
    "        animal.eat(food)  # 动物开始吃东⻄\n",
    "\n",
    "        # 执行Animal子类的特有行为 : 一定要做类型判断, 否则可能会出现  `运行时错误`\n",
    "        if isinstance(animal, Cat):\n",
    "            animal.mymoe() # 卖萌\n",
    "        elif isinstance(animal, Dog):\n",
    "            animal.bomb_blockhouse()  # 炸碉堡\n",
    "        elif isinstance(animal, Bird):\n",
    "            animal.pole_dance() # 跳钢管舞\n",
    "        else:\n",
    "            print('没有执⾏特有⾏为...')\n",
    "\n",
    "\n",
    "# 创建对象，调用行为测试\n",
    "p = Person('孙悟空')\n",
    "\n",
    "# 动物\n",
    "dog = Dog('哮天犬')\n",
    "cat = Cat('加菲猫')\n",
    "bird = Bird('鹦鹉')\n",
    "\n",
    "# 食物，Food 类型的子类不需要传递参数\n",
    "bone = Bone()\n",
    "fish = Fish()\n",
    "warm = Warm()\n",
    "\n",
    "\n",
    "p.feed(bird, warm)"
   ]
  },
  {
   "cell_type": "markdown",
   "id": "d0a55c3c-69c7-420d-b249-8d9341289f27",
   "metadata": {},
   "source": [
    "# 面向对象之抽象特性"
   ]
  },
  {
   "cell_type": "markdown",
   "id": "c2aabd8b-7d14-4ef9-8da9-07642f8186b9",
   "metadata": {},
   "source": [
    "思考： \n",
    "\n",
    "1. 当⽗类的某些⽅法，需要声明，但是⼜不确定如何实现时，怎么办？\n",
    "2. 不需要实例化⽗类对象，⽗类主要作⽤是设计和制定规范，让其它类来继承并实现，怎么办？\n",
    "3. 解决⽅案 -> 抽象类"
   ]
  },
  {
   "cell_type": "markdown",
   "id": "86b8e0e2-7e61-4af0-a15a-b5b65bf9bc2f",
   "metadata": {},
   "source": [
    "## 抽象类的介绍"
   ]
  },
  {
   "cell_type": "markdown",
   "id": "368cae92-8c0d-444e-a28b-22bf49a8fb2d",
   "metadata": {},
   "source": [
    "1. 默认情况下，Python不提供抽象类，Python附带⼀个模块，该模块为定义抽象基类提供了基础，该模块名称为 ABC\n",
    "2. 当我们需要抽象基类时，让类继承 **ABC** (abc模块的ABC类)，使⽤ *@abstractmethod* 声明抽象⽅法（@abstractmethod ⽤于声明抽象⽅法的装饰器，在abc模块中)，那么这个类就是抽象类\n",
    "3. 抽象类的价值更多作⽤是**在于设计**，是设计者设计好后，让⼦类继承并实现抽象类的抽象⽅法"
   ]
  },
  {
   "cell_type": "markdown",
   "id": "f0f5e751-0913-4318-8724-13d9b2eb02ae",
   "metadata": {},
   "source": [
    "### Test27"
   ]
  },
  {
   "cell_type": "code",
   "execution_count": 31,
   "id": "d7d038d2-e361-45dd-b026-01238d8d5ead",
   "metadata": {},
   "outputs": [
    {
     "name": "stdout",
     "output_type": "stream",
     "text": [
      "150的哮天犬正在汪汪汪...\n",
      "--------------------------------------------------\n",
      "300的啸天虎正在嗷嗷嗷...\n"
     ]
    }
   ],
   "source": [
    "# Animal 动物类  数据 (name, age) 行为 (cry喊叫)\n",
    "\n",
    "class Animal(object):\n",
    "    # 属性\n",
    "    def __init__(self, name, age):\n",
    "        self.name = name\n",
    "        self.age = age\n",
    "\n",
    "    # 行为 (子类必须有的行为)\n",
    "    # 父类中没有该行为的实现体, 作用是什么呢 ??? 父类在定义子类的统一行为规范.\n",
    "    # 问题 : 这里是父类, 子类有很多, 每个不同的子类都有不同的叫声\n",
    "    # 对外提供的一个行为 : 专业的名字 (接口)\n",
    "    def cry(self): ...      # 对子类提供的统一的 `喊叫` 接口\n",
    "\n",
    "\n",
    "class Dog(Animal):\n",
    "\n",
    "    # 喊叫\n",
    "    def bark(self):\n",
    "        print(f'{self.age}的{self.name}正在汪汪汪...')\n",
    "\n",
    "\n",
    "class Tiger(Animal):\n",
    "\n",
    "    # 喊叫\n",
    "    def aoaoao(self):\n",
    "        print(f'{self.age}的{self.name}正在嗷嗷嗷...')\n",
    "\n",
    "\n",
    "# 创建一个子类\n",
    "dog = Dog('哮天犬', 150)\n",
    "# 子类调用了 cry() 行为\n",
    "dog.bark()\n",
    "\n",
    "print('-' * 50)\n",
    "\n",
    "tiger = Tiger('啸天虎', 300)\n",
    "tiger.aoaoao()"
   ]
  },
  {
   "cell_type": "markdown",
   "id": "5c5689ba-1eaa-4e0a-8a4d-03ee1fb5fa0a",
   "metadata": {},
   "source": [
    "### Test28"
   ]
  },
  {
   "cell_type": "code",
   "execution_count": 32,
   "id": "0028a887-e4ad-458c-9f04-634e5e057254",
   "metadata": {},
   "outputs": [
    {
     "name": "stdout",
     "output_type": "stream",
     "text": [
      "150的哮天犬正在汪汪汪...\n",
      "--------------------------------------------------\n",
      "300的啸天虎正在嗷嗷嗷...\n"
     ]
    }
   ],
   "source": [
    "# Animal 动物类  数据 (name, age) 行为 (cry喊叫)\n",
    "\n",
    "class Animal(object):\n",
    "    # 属性\n",
    "    def __init__(self, name, age):\n",
    "        self.name = name\n",
    "        self.age = age\n",
    "\n",
    "    # 行为 (子类必须有的行为)\n",
    "    # 父类中没有该行为的实现体, 作用是什么呢 ??? 父类在定义子类的统一行为规范.\n",
    "    # 问题 : 这里是父类, 子类有很多, 每个不同的子类都有不同的叫声\n",
    "    # 对外提供的一个行为 : 专业的名字 (接口)\n",
    "    # 这个接口行为父类没有实现, 那也就意味着子类没有选择, 必须重写该方法. 如果不写, 直接报错.\n",
    "    def cry(self): ...      # 对子类提供的统一的 `喊叫` 接口\n",
    "\n",
    "\n",
    "class Dog(Animal):\n",
    "\n",
    "    # 喊叫\n",
    "    def cry(self):\n",
    "        print(f'{self.age}的{self.name}正在汪汪汪...')\n",
    "\n",
    "\n",
    "class Tiger(Animal):\n",
    "\n",
    "    # 喊叫\n",
    "    def cry(self):\n",
    "        print(f'{self.age}的{self.name}正在嗷嗷嗷...')\n",
    "\n",
    "\n",
    "# 创建一个子类\n",
    "dog = Dog('哮天犬', 150)\n",
    "# 子类调用了 cry() 行为\n",
    "dog.cry()\n",
    "\n",
    "print('-' * 50)\n",
    "\n",
    "tiger = Tiger('啸天虎', 300)\n",
    "tiger.cry()"
   ]
  },
  {
   "cell_type": "markdown",
   "id": "78c70306-0d43-4d5b-b3ba-6b0a100d4a61",
   "metadata": {},
   "source": [
    "### Test29"
   ]
  },
  {
   "cell_type": "code",
   "execution_count": 33,
   "id": "83ed4e7d-7ffe-4bd2-895a-d3c2e8e1ca35",
   "metadata": {},
   "outputs": [
    {
     "name": "stdout",
     "output_type": "stream",
     "text": [
      "150的哮天犬正在汪汪汪...\n",
      "--------------------------------------------------\n",
      "300的啸天虎正在嗷嗷嗷...\n"
     ]
    }
   ],
   "source": [
    "# 抽象类 Abstract Base Class   (ABC)\n",
    "# abc 模块\n",
    "from abc import ABC, abstractmethod     # Python 语言提供的\n",
    "\n",
    "'''\n",
    "    抽象类 : 给子类定义统一规范的\n",
    "    1. 拥有抽象方法的类被称为抽象类\n",
    "    2. 抽象类不能实例化对象\n",
    "    3. 如果子类需要实例化对象, 则必须重写父类中定义的所有抽象方法\n",
    "'''\n",
    "\n",
    "# Animal 动物类  数据 (name, age) 行为 (cry喊叫)\n",
    "# 父类在定义的时候就明确了不需要创建对象的.\n",
    "# 注意 : 让 Animal 继承 ABC 类, ABC 就是⼀个抽象类\n",
    "class Animal(ABC):  # 不能继承自object类；继承了ABC，且包含抽象方法才是抽象类\n",
    "    # 属性\n",
    "    def __init__(self, name, age):\n",
    "        self.name = name\n",
    "        self.age = age\n",
    "\n",
    "    # 共性⾏为 : 吼叫 cry\n",
    "    # 需求 : 要求⼦类 `必须 must` 重写该⾏为, 不重写⼦类创建时就应该报错\n",
    "    # 这个的⼀个⾏为对于⽗类来说就是⼀个 `抽象⾏为`, 只有⾏为名称, 没有实现体\\\n",
    "    @abstractmethod         # 抽象⾏为的装饰器 (动态增强函数/⽅法的功能)\n",
    "    def cry(self): ...      # 每⼀个动物都有⾃⼰的叫声, ⽗类真不知道怎么叫, 怎么办 ???\n",
    "\n",
    "\n",
    "# 抽象类的特性 : 抽象类不能被实例化 (不能创建对象)\n",
    "# TypeError: Can't instantiate abstract class Animal with abstract method cry\n",
    "# animal = Animal('哮天犬', 150)\n",
    "\n",
    "# TypeError: Can't instantiate abstract class Dog with abstract methods cry\n",
    "# 类型错误 : 不能实例化 Dog 这个抽象类, 因为有⼀个抽象⽅法 cry 没有被实现\n",
    "# 如果⼀个类继承了抽象类 (有抽象⽅法的类就被称为抽象类)，必须实现这个抽象类的抽象方法\n",
    "class Dog(Animal):\n",
    "    \n",
    "    # ⼦类实现⽗类中继承⽽来的抽象⽅法\n",
    "    def cry(self):  # 由于父类定义了abstractmethod，子类如果不重写，会报错\n",
    "        print(f'{self.age}的{self.name}正在汪汪汪...')\n",
    "\n",
    "\n",
    "class Tiger(Animal):\n",
    "    def cry(self):\n",
    "        print(f'{self.age}的{self.name}正在嗷嗷嗷...')\n",
    "\n",
    "\n",
    "# 创建一个子类\n",
    "dog = Dog('哮天犬', 150)\n",
    "# 子类调用了 cry() 行为\n",
    "dog.cry()\n",
    "\n",
    "print('-' * 50)\n",
    "\n",
    "tiger = Tiger('啸天虎', 300)\n",
    "tiger.cry()"
   ]
  },
  {
   "cell_type": "markdown",
   "id": "7813a967-e914-4973-b9b7-be2969ef3e01",
   "metadata": {},
   "source": [
    "**注意事项和细节讨论**"
   ]
  },
  {
   "cell_type": "markdown",
   "id": "b14b6915-e4f9-4f3b-a8ad-a79938e549c9",
   "metadata": {},
   "source": [
    "1. 抽象类不能被实例化  \n",
    "2. 抽象类需要继承ABC, 并且需要⾄少⼀个抽象⽅法"
   ]
  },
  {
   "cell_type": "markdown",
   "id": "dc797177-87d2-4b1a-b86e-b0f1835ca780",
   "metadata": {},
   "source": [
    "## 抽象类练习"
   ]
  },
  {
   "cell_type": "markdown",
   "id": "e92431d6-ab2f-4dd8-8a26-05d5430c9711",
   "metadata": {},
   "source": [
    "设计⼀个抽象基类完成如下功能：\n",
    "1. 编写⽅法 cal_time(), 可以计算某段代码的耗时时间\n",
    "2. 编写抽象⽅法 job()\n",
    "3. 编写⼀个⼦类, 继承抽象类 Template, 并实现 job ⽅法\n",
    "4. 完成测试"
   ]
  },
  {
   "cell_type": "markdown",
   "id": "67395532-98cc-42fa-a8fc-721b97975388",
   "metadata": {},
   "source": [
    "### Test30-模板"
   ]
  },
  {
   "cell_type": "code",
   "execution_count": 34,
   "id": "20882417-c053-41d7-b4a0-b2d14c4247a2",
   "metadata": {},
   "outputs": [
    {
     "name": "stdout",
     "output_type": "stream",
     "text": [
      "总耗时: 0.5485653877258301 s\n",
      "--------------------------------------------------\n",
      "总耗时: 0.3827693462371826 s\n"
     ]
    }
   ],
   "source": [
    "import time\n",
    "from abc import ABC, abstractmethod\n",
    "\n",
    "\n",
    "# 从 1970年1⽉1⽇ 00:00:00 到现在的秒数\n",
    "# print(time.time())\n",
    "\n",
    "\n",
    "# 模板类 ：  (性能计算) 通⽤的性能计算类\n",
    "# 计算 某段代码 / 某个具体的任务 的耗时时间\n",
    "class Template(ABC):\n",
    "\n",
    "    # 定义一个 `任务 task / job`\n",
    "    # 特性 : ⼦类必须要实现的⾏为, 如果⼦类不实现该⾏为, 那么⼦类就不能调⽤ calc_time() ⾏为\n",
    "    @abstractmethod\n",
    "    def job(self):   # ...\n",
    "        pass\n",
    "\n",
    "\n",
    "    # 行为：计算时间\n",
    "    def calc_time(self):\n",
    "        # 开始时间\n",
    "        start = time.time()\n",
    "\n",
    "        # 执行什么 `任务` ???\n",
    "        # 说明 : 模块类是根本不知道具体任务的, 具体的任务是由调用者来决定的, 不是模板类决定的.\n",
    "        # 这⾥应该执⾏什么代码呢 ??? 不能书写具体的执⾏代码\n",
    "        # 这个 job() 行为子类必须重写, 否则是不能调用计算时间间隔功能的\n",
    "        self.job()      \n",
    "\n",
    "        # 结束时间\n",
    "        end = time.time()\n",
    "\n",
    "        # 时间间隔\n",
    "        delta = end - start\n",
    "        print(f'总耗时: {delta} s')\n",
    "\n",
    "\n",
    "\n",
    "class AA(Template):\n",
    "    def job(self):\n",
    "        # pass\n",
    "        # 一千万次的循环 (交换两个变量)\n",
    "        for i in range(10_000_000):\n",
    "            a = 1\n",
    "            b = 2\n",
    "            # 使用了第三方变量交换\n",
    "            temp = a\n",
    "            a = b\n",
    "            b = temp\n",
    "\n",
    "\n",
    "class BB(Template):\n",
    "    def job(self):\n",
    "        # 一千万次的循环 (Python语言的特有交换方式)\n",
    "        for i in range(10_000_000):\n",
    "            a = 1\n",
    "            b = 2\n",
    "            # Python语言的特有交换方式\n",
    "            a, b = b, a\n",
    "\n",
    "\n",
    "aa = AA()\n",
    "aa.calc_time()\n",
    "\n",
    "print('-' * 50)\n",
    "\n",
    "bb = BB()\n",
    "bb.calc_time()"
   ]
  },
  {
   "cell_type": "code",
   "execution_count": 35,
   "id": "43dcb601-c517-4243-bec0-3e1eefe02009",
   "metadata": {},
   "outputs": [
    {
     "name": "stdout",
     "output_type": "stream",
     "text": [
      "1745553954.9494529\n"
     ]
    }
   ],
   "source": [
    "import time\n",
    "\n",
    "s = time.time()  # 返回秒数\n",
    "# 1742819727.2407005  # 17亿多，精确到纳秒\n",
    "print(s)"
   ]
  },
  {
   "cell_type": "markdown",
   "id": "efb8bbd5-fdc1-42bb-9422-b1c5887a6b93",
   "metadata": {},
   "source": [
    "最快的是二进制交换，直接异或交换。"
   ]
  },
  {
   "cell_type": "code",
   "execution_count": 36,
   "id": "1cedda55-7cac-4271-9ae8-54aad81cc8c1",
   "metadata": {
    "jp-MarkdownHeadingCollapsed": true
   },
   "outputs": [
    {
     "name": "stdout",
     "output_type": "stream",
     "text": [
      "a = 1, b = 2\n",
      "a = 2, b = 1\n"
     ]
    }
   ],
   "source": [
    "a = 1\n",
    "b = 2\n",
    "print(f'{a = }, {b = }')\n",
    "\n",
    "# 二进制的异或操作 (比特位上的操作)\n",
    "a = a ^ b\n",
    "b = a ^ b\n",
    "a = a ^ b\n",
    "\n",
    "print(f'{a = }, {b = }')\n",
    "\n",
    "# Deepseek解释原理"
   ]
  },
  {
   "cell_type": "code",
   "execution_count": null,
   "id": "39890e35-a7b1-44c1-886c-f8928e60c293",
   "metadata": {},
   "outputs": [],
   "source": []
  }
 ],
 "metadata": {
  "kernelspec": {
   "display_name": "Python [conda env:base] *",
   "language": "python",
   "name": "conda-base-py"
  },
  "language_info": {
   "codemirror_mode": {
    "name": "ipython",
    "version": 3
   },
   "file_extension": ".py",
   "mimetype": "text/x-python",
   "name": "python",
   "nbconvert_exporter": "python",
   "pygments_lexer": "ipython3",
   "version": "3.11.6"
  }
 },
 "nbformat": 4,
 "nbformat_minor": 5
}
