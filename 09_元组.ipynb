{
 "cells": [
  {
   "cell_type": "markdown",
   "id": "7b850714-e086-41d1-ba6a-b25278831340",
   "metadata": {},
   "source": [
    "# 元组的定义"
   ]
  },
  {
   "cell_type": "markdown",
   "id": "c7252a98-e7d0-4534-b3a3-e24f19f68b5c",
   "metadata": {},
   "source": [
    "Python提供另一种数据类型称元组（tup|e），这种数据类型结构与列表完全相同，元组与列表最大的差异是它的元素值与元素个数不可更改，有时又可称不可改变的列表。"
   ]
  },
  {
   "cell_type": "markdown",
   "id": "a25dfa41-feb8-41ac-b01a-3777defdef27",
   "metadata": {},
   "source": [
    "```python\n",
    "mytuple = (元素1, ... ,元素n,)    # mytuple是假设的元组名称\n",
    "```"
   ]
  },
  {
   "cell_type": "markdown",
   "id": "7039cde2-18fc-4700-9939-3133641d200d",
   "metadata": {},
   "source": [
    "说明：如果元组内有多个元素，最右边的元素n的逗号可有可无，如果元组中只有一个元素，在定义时须在元素右边加上逗号。  \n",
    "简便建立元组的方法"
   ]
  },
  {
   "cell_type": "markdown",
   "id": "ce5d71fe-c260-48e2-ba90-bc61e7e446ca",
   "metadata": {},
   "source": [
    "* 读取元组元素"
   ]
  },
  {
   "cell_type": "markdown",
   "id": "8db2f799-c6e6-437f-aca5-087b7c9b39a2",
   "metadata": {},
   "source": [
    "```python\n",
    "mytuple[i]  # 读取索引i的元组元素\n",
    "```"
   ]
  },
  {
   "cell_type": "markdown",
   "id": "377dfce9-130f-4a47-bb96-aca548927bd6",
   "metadata": {},
   "source": [
    "* 遍历所有元组元素"
   ]
  },
  {
   "cell_type": "markdown",
   "id": "ef794ab2-98c6-4bc9-92dc-67950d03932d",
   "metadata": {},
   "source": [
    "在Python中可以使用for循环遍历所有元组元素，用法与列表一样。"
   ]
  },
  {
   "cell_type": "markdown",
   "id": "a75fc8fb-189d-4042-9abf-78fa308b5146",
   "metadata": {},
   "source": [
    "* 方法与函数"
   ]
  },
  {
   "cell_type": "markdown",
   "id": "319469de-2a2f-472c-9d86-99c64f529b91",
   "metadata": {},
   "source": [
    "如果会更改元组内容，则不可以将它应用在元组。  \n",
    "\n",
    "例如：append()，insert()，pop()等。"
   ]
  },
  {
   "cell_type": "markdown",
   "id": "51635de7-ec2a-4a1b-acbc-44c0a49c29c5",
   "metadata": {},
   "source": [
    "## Test01"
   ]
  },
  {
   "cell_type": "code",
   "execution_count": 1,
   "id": "260ba7e8-3c8c-4836-9261-5bf7bc518992",
   "metadata": {},
   "outputs": [
    {
     "name": "stdout",
     "output_type": "stream",
     "text": [
      "(1, 2, 3, 4, 5) <class 'tuple'>\n",
      "('red',) <class 'tuple'>\n",
      "('张三', '李四', '王五', '赵六') <class 'tuple'>\n",
      "张三 李四\n",
      "张三 李四 王五 赵六\n",
      "张三\n",
      "李四\n",
      "王五\n",
      "赵六\n"
     ]
    }
   ],
   "source": [
    "# 定义元组\n",
    "numbers = (1, 2, 3, 4, 5)\n",
    "print(numbers, type(numbers))\n",
    "\n",
    "# 注意点 : 如果元组中只有一个元素, 该元素一定要添加逗号, 不能省略\n",
    "color = ('red', )\n",
    "print(color, type(color))\n",
    "\n",
    "# 简便建立元组的方法\n",
    "names = '张三', '李四', '王五', '赵六'\n",
    "print(names, type(names))\n",
    "\n",
    "# 读取元组中的元素\n",
    "name1 = names[0]\n",
    "name2 = names[1]\n",
    "print(name1, name2)\n",
    "\n",
    "# 简便的读取元组中的元素\n",
    "n1, n2, n3, n4 = names\n",
    "print(n1, n2, n3, n4)\n",
    "\n",
    "# 遍历元组中的所有元素\n",
    "for name in names:\n",
    "    print(name)"
   ]
  },
  {
   "cell_type": "markdown",
   "id": "450e8f8d-9c8c-46ca-8c63-949364f28fd0",
   "metadata": {},
   "source": [
    "# 修改元组内容"
   ]
  },
  {
   "cell_type": "markdown",
   "id": "8dc75423-00af-4392-b941-90dcb7e0eb26",
   "metadata": {},
   "source": [
    "* 修改元组内容产生错误的实例\n",
    "* 使用全新定义方式修改元组元素"
   ]
  },
  {
   "cell_type": "markdown",
   "id": "c32185c7-5477-45a9-af63-54438e6f6bbd",
   "metadata": {},
   "source": [
    "## Test02"
   ]
  },
  {
   "cell_type": "code",
   "execution_count": 2,
   "id": "31859dc3-7cb7-426d-b678-f7cb3a90972f",
   "metadata": {},
   "outputs": [
    {
     "ename": "TypeError",
     "evalue": "'tuple' object does not support item assignment",
     "output_type": "error",
     "traceback": [
      "\u001b[0;31m---------------------------------------------------------------------------\u001b[0m",
      "\u001b[0;31mTypeError\u001b[0m                                 Traceback (most recent call last)",
      "Cell \u001b[0;32mIn[2], line 5\u001b[0m\n\u001b[1;32m      1\u001b[0m fruits \u001b[38;5;241m=\u001b[39m (\u001b[38;5;124m'\u001b[39m\u001b[38;5;124mapple\u001b[39m\u001b[38;5;124m'\u001b[39m, \u001b[38;5;124m'\u001b[39m\u001b[38;5;124mbanana\u001b[39m\u001b[38;5;124m'\u001b[39m, \u001b[38;5;124m'\u001b[39m\u001b[38;5;124mcherry\u001b[39m\u001b[38;5;124m'\u001b[39m)\n\u001b[1;32m      3\u001b[0m \u001b[38;5;66;03m# 修改元组中元素\u001b[39;00m\n\u001b[1;32m      4\u001b[0m \u001b[38;5;66;03m# TypeError: 'tuple' object does not support item assignment\u001b[39;00m\n\u001b[0;32m----> 5\u001b[0m \u001b[43mfruits\u001b[49m\u001b[43m[\u001b[49m\u001b[38;5;241;43m0\u001b[39;49m\u001b[43m]\u001b[49m \u001b[38;5;241m=\u001b[39m \u001b[38;5;124m'\u001b[39m\u001b[38;5;124morange\u001b[39m\u001b[38;5;124m'\u001b[39m\n\u001b[1;32m      7\u001b[0m \u001b[38;5;28mprint\u001b[39m(fruits)\n",
      "\u001b[0;31mTypeError\u001b[0m: 'tuple' object does not support item assignment"
     ]
    }
   ],
   "source": [
    "fruits = ('apple', 'banana', 'cherry')\n",
    "\n",
    "# 修改元组中元素\n",
    "# TypeError: 'tuple' object does not support item assignment\n",
    "fruits[0] = 'orange'\n",
    "\n",
    "print(fruits)"
   ]
  },
  {
   "cell_type": "markdown",
   "id": "fae2d0f2-93bf-4f33-a1a5-76ef04e22475",
   "metadata": {},
   "source": [
    "## Test03"
   ]
  },
  {
   "cell_type": "code",
   "execution_count": 3,
   "id": "8741cf42-b0c1-46d7-9116-1ee686322453",
   "metadata": {},
   "outputs": [
    {
     "name": "stdout",
     "output_type": "stream",
     "text": [
      "('apple', 'banana', 'cherry')\n",
      "('orange', 'banana', 'cherry')\n"
     ]
    }
   ],
   "source": [
    "fruits = ('apple', 'banana', 'cherry')\n",
    "print(fruits)\n",
    "\n",
    "# 修改的方式, 定义一个新元组, 覆盖掉原来的元组变量\n",
    "fruits = ('orange', 'banana', 'cherry')\n",
    "print(fruits)"
   ]
  },
  {
   "cell_type": "markdown",
   "id": "669c4b0f-b9b6-46ec-affa-4242b9e29d03",
   "metadata": {},
   "source": [
    "# 元组切片\n",
    "# 元组列表类型互换"
   ]
  },
  {
   "cell_type": "markdown",
   "id": "37d3a445-7e70-4ff2-9969-27c1537c039f",
   "metadata": {},
   "source": [
    "应用在列表上的方法或函数如果不会更改元组内容，则可以将它应用在元素。例如：len(）  \n",
    "\n",
    "通过互换类型再添加元素，然后换回元组使可以的。"
   ]
  },
  {
   "cell_type": "markdown",
   "id": "0ca36f0c-4084-4963-b4e4-5cbbc148bf20",
   "metadata": {},
   "source": [
    "## Test04"
   ]
  },
  {
   "cell_type": "code",
   "execution_count": 4,
   "id": "2e0f350c-a944-4728-b2dd-f749988943b3",
   "metadata": {},
   "outputs": [
    {
     "name": "stdout",
     "output_type": "stream",
     "text": [
      "('banana', 'cherry')\n",
      "('apple', 'banana')\n",
      "('apple', 'cherry', 'grape')\n",
      "('watermelon', 'grape')\n",
      "('grape', 'cherry', 'apple')\n",
      "5\n",
      "['apple', 'banana', 'cherry', 'watermelon', 'grape'] <class 'list'>\n",
      "['apple', 'banana', 'cherry', 'watermelon', 'grape', 'orange']\n",
      "('apple', 'banana', 'cherry', 'watermelon', 'grape', 'orange') <class 'tuple'>\n"
     ]
    }
   ],
   "source": [
    "fruits = ('apple', 'banana', 'cherry', 'watermelon', 'grape')\n",
    "\n",
    "print(fruits[1:3])   # 从index=1到index=3\n",
    "print(fruits[:2])    # 从开始到索引为2的位置\n",
    "print(fruits[::2])   # 从开始到结束，步长step=2\n",
    "print(fruits[-2::])  # 从 index = -2 开始，到最终结束\n",
    "print(fruits[::-2])  # 从开始到结束，步长为 -1\n",
    "\n",
    "# 元组中的元素个数\n",
    "len_ = len(fruits)\n",
    "print(len_)\n",
    "\n",
    "# 凡是能修改掉元组中元素的方法 append(), insert(), pop(), remove() ...  都不能使用\n",
    "\n",
    "# 元组与列表的类型互换\n",
    "fruits_list = list(fruits)\n",
    "print(fruits_list, type(fruits_list))\n",
    "  \n",
    "fruits_list.append('orange')\n",
    "print(fruits_list)\n",
    "\n",
    "fruits_tuple = tuple(fruits_list)\n",
    "print(fruits_tuple, type(fruits_tuple))"
   ]
  },
  {
   "cell_type": "code",
   "execution_count": 5,
   "id": "f4517c54-a70d-4775-a23d-9e9837b72720",
   "metadata": {},
   "outputs": [
    {
     "data": {
      "text/plain": [
       "321"
      ]
     },
     "execution_count": 5,
     "metadata": {},
     "output_type": "execute_result"
    }
   ],
   "source": [
    "a11 = 123\n",
    "int(''.join(list(str(a11))[::-1]))"
   ]
  },
  {
   "cell_type": "markdown",
   "id": "6ec239f3-d4b6-405d-9322-989f0a97092f",
   "metadata": {},
   "source": [
    "# 其他常用的元组方法"
   ]
  },
  {
   "cell_type": "markdown",
   "id": "92587d17-dc32-4c53-87fa-b31e943ec894",
   "metadata": {},
   "source": [
    "|方法|说明|\n",
    "|---|---|\n",
    "|max(tuple)|获得元组内容最大值|\n",
    "|min(tuple)|获得元组内容最小值|"
   ]
  },
  {
   "cell_type": "markdown",
   "id": "e21bae51-0b7a-4550-8bfc-23de6e0a9068",
   "metadata": {},
   "source": [
    "# 元组使用enumerate对象"
   ]
  },
  {
   "cell_type": "markdown",
   "id": "0c9088ad-e907-4ed9-95a6-f927afa249ed",
   "metadata": {},
   "source": [
    "当我们将enumerate()方法产生enumerate对象转成列表时，其实此列表的配对元素是元组。"
   ]
  },
  {
   "cell_type": "markdown",
   "id": "7551eb6c-333a-46aa-bae8-3cf804547903",
   "metadata": {},
   "source": [
    "## Test05"
   ]
  },
  {
   "cell_type": "code",
   "execution_count": 6,
   "id": "b11cadf1-fcba-4d25-836d-770f471a9a6d",
   "metadata": {},
   "outputs": [
    {
     "name": "stdout",
     "output_type": "stream",
     "text": [
      "(0, 'coffee') <class 'tuple'>\n",
      "(1, 'tea') <class 'tuple'>\n",
      "(2, 'wine') <class 'tuple'>\n",
      "count = 0, drink = 'coffee'\n",
      "count = 1, drink = 'tea'\n",
      "count = 2, drink = 'wine'\n",
      "--------------------\n",
      "(10, 'coffee') <class 'tuple'>\n",
      "(11, 'tea') <class 'tuple'>\n",
      "(12, 'wine') <class 'tuple'>\n",
      "count = 10, drink = 'coffee'\n",
      "count = 11, drink = 'tea'\n",
      "count = 12, drink = 'wine'\n"
     ]
    }
   ],
   "source": [
    "drinks = ('coffee', 'tea', 'wine')\n",
    "\n",
    "# print(type(enumerate(drinks)))\n",
    "\n",
    "# 解析 enumerate 对象\n",
    "for drink in enumerate(drinks):\n",
    "    print(drink, type(drink))\n",
    "\n",
    "for count, drink in enumerate(drinks):\n",
    "    print(f'{count = }, {drink = }')\n",
    "\n",
    "print('-' * 20)\n",
    "\n",
    "for drink in enumerate(drinks, start=10):\n",
    "    print(drink, type(drink))\n",
    "\n",
    "for count, drink in enumerate(drinks, start=10):\n",
    "    print(f'{count = }, {drink = }')"
   ]
  },
  {
   "cell_type": "markdown",
   "id": "5b3ad093-1b88-4300-a959-270a3f962e58",
   "metadata": {},
   "source": [
    "# 使用zip()打包多个对象"
   ]
  },
  {
   "cell_type": "markdown",
   "id": "d1c1e137-72f9-402e-ab30-9b65af70a4ae",
   "metadata": {},
   "source": [
    "这是一个内置函数，参数内容主要是2个或更多可迭代（iterable）的对象，如果存在多个对象，可以zip()将多个对象打包成zip对象然后未来视需要将此zip对象转成列表或其它对象，例如元组。  \n",
    "\n",
    "如果放在zip()函数的列表参数长度不相等，由于多出的元素无法匹配，转成列表对象后zip对象元素数量将是较短的数量。   \n",
    "\n",
    "如果zip()函数内增加*符号，相当于可以unzip()列表。"
   ]
  },
  {
   "cell_type": "markdown",
   "id": "8b20184f-fb97-4384-98b3-6d79ed7b744f",
   "metadata": {},
   "source": [
    "## Test06"
   ]
  },
  {
   "cell_type": "code",
   "execution_count": 7,
   "id": "4de58905-5829-468a-8950-83aac4b25457",
   "metadata": {},
   "outputs": [
    {
     "name": "stdout",
     "output_type": "stream",
     "text": [
      "<zip object at 0x7f67840c1040> <class 'zip'>\n",
      "(('张三', 98), ('李四', 87), ('王五', 78), ('赵六', 89))\n",
      "('张三', '李四', '王五', '赵六') (98, 87, 78, 89)\n"
     ]
    }
   ],
   "source": [
    "names = ['张三', '李四', '王五', '赵六']\n",
    "scores = [98, 87, 78, 89]\n",
    "\n",
    "# zip() 压缩的操作\n",
    "zip_obj = zip(names, scores)\n",
    "print(zip_obj, type(zip_obj))\n",
    "\n",
    "# 视我们的需要将 zip 对象转换为其他的类型\n",
    "tuple_obj = tuple(zip_obj)\n",
    "print(tuple_obj)\n",
    "\n",
    "# unzip() 解压缩的操作\n",
    "n1, n2 = zip(*tuple_obj)  # 加一个星号相当于unzip，zip和unzip用星号来区别，没有叫unzip函数\n",
    "print(n1, n2)   # n1是一个名字的元组，n2是一个整型的元组"
   ]
  },
  {
   "cell_type": "markdown",
   "id": "7ce26062-ffa2-4e7e-991a-432dba5947c0",
   "metadata": {},
   "source": [
    "# 元组生成式"
   ]
  },
  {
   "cell_type": "markdown",
   "id": "646f53ef-a1f9-40af-98c2-402bb5b48f87",
   "metadata": {},
   "source": [
    "产生生成式(generator)对象，这是一个可迭代对象，你可以用迭代方式取出内容，也可以用list()将此生成式变为列表，或是用tuple()将此生成式变为元组，但是只能使用一次，因为这个生成式对象不会记住所拥有的内容。如果想要第2次使用，将得到空列表。"
   ]
  },
  {
   "cell_type": "markdown",
   "id": "99d4a472-cb05-4892-8204-a35ee1952611",
   "metadata": {},
   "source": [
    "* 列表与元组数据互换"
   ]
  },
  {
   "cell_type": "markdown",
   "id": "d6765315-6b5c-4a7f-a0f3-8757bd8f349d",
   "metadata": {},
   "source": [
    "list(data)：将元组或其他数据类型改为列表。  \n",
    "tuple(data)：将列表或其他数据类型改为元组。"
   ]
  },
  {
   "cell_type": "markdown",
   "id": "caa8560e-a733-4d33-8670-996b84e35704",
   "metadata": {},
   "source": [
    "## Test07"
   ]
  },
  {
   "cell_type": "code",
   "execution_count": 8,
   "id": "ad574a1d-2c1d-4127-9ec2-a7850e5eb788",
   "metadata": {
    "scrolled": true
   },
   "outputs": [
    {
     "name": "stdout",
     "output_type": "stream",
     "text": [
      "<generator object <genexpr> at 0x7f67840a9220>\n",
      "1\n",
      "2\n",
      "3\n",
      "4\n",
      "5\n",
      "6\n",
      "7\n",
      "8\n",
      "9\n",
      "10\n",
      "[]\n",
      "['stu1', 'stu2', 'stu3', 'stu4', 'stu5', 'stu6', 'stu7', 'stu8', 'stu9', 'stu10']\n",
      "()\n"
     ]
    }
   ],
   "source": [
    "nums = (i for i in range(1,11))\n",
    "# nums = i for i in range(1,11)  # invalid syntax\n",
    "print(nums)\n",
    "\n",
    "# 遍历就是生成式的第一次使用了\n",
    "for num in nums:\n",
    "    print(num)\n",
    "\n",
    "# 将生成式转成列表\n",
    "# 注意点 : 生成式不能使用第二次, 如果使用第二次的话, 则没有任何元素可以取得，第一次使用遍历的时候就全部拿走了所有元素\n",
    "num_list = list(nums)\n",
    "print(num_list)\n",
    "\n",
    "stu_no = ('stu' + str(i) for i in range(1,11))\n",
    "# 这是生成式的第一次使用\n",
    "stu_list = list(stu_no)\n",
    "print(stu_list)\n",
    "\n",
    "# 第二次使用\n",
    "stu_tuple = tuple(stu_no)\n",
    "print(stu_tuple)"
   ]
  },
  {
   "cell_type": "markdown",
   "id": "85ff704d-c698-4dfb-b856-a39b75e28c60",
   "metadata": {},
   "source": [
    "# 制作大型元组数据"
   ]
  },
  {
   "cell_type": "markdown",
   "id": "a5be3c5c-4db3-4fa6-8fea-e7dc0807b149",
   "metadata": {},
   "source": [
    "## Test08"
   ]
  },
  {
   "cell_type": "code",
   "execution_count": 9,
   "id": "e3afdcc3-c325-4af0-98d3-830dea20da5a",
   "metadata": {},
   "outputs": [
    {
     "name": "stdout",
     "output_type": "stream",
     "text": [
      "(['东城区', '西城区', '丰台区', '海淀区', '朝阳区'], ['黄埔区', '浦东新区', '静安区', '徐汇区', '长宁区'], ['花都区', '番禺区', '南沙区', '天河区', '越秀区']) <class 'tuple'>\n",
      "(['东城区', '西城区', '丰台区', '海淀区', '朝阳区', '纽约区'], ['黄埔区', '浦东新区', '静安区', '徐汇区', '长宁区', '曼哈顿区'], ['花都区', '番禺区', '南沙区', '天河区', '越秀区', '白宫区']) <class 'tuple'>\n"
     ]
    }
   ],
   "source": [
    "beijing = ['东城区', '西城区', '丰台区', '海淀区', '朝阳区']\n",
    "shanghai = ['黄埔区', '浦东新区', '静安区', '徐汇区', '长宁区']\n",
    "guangzhou = ['花都区', '番禺区', '南沙区', '天河区', '越秀区']\n",
    "\n",
    "# 简便的元组方式\n",
    "china = beijing, shanghai, guangzhou\n",
    "print(china, type(china))\n",
    "\n",
    "# 思考 : 元组中的元素（这里是地址）是不能更改的.  列表是不是可以更改的. \n",
    "beijing.append('纽约区')\n",
    "shanghai.append('曼哈顿区')\n",
    "guangzhou.append('白宫区')\n",
    "print(china, type(china))"
   ]
  },
  {
   "cell_type": "markdown",
   "id": "acd68918-0e84-4347-9d7d-06e9a315ef67",
   "metadata": {},
   "source": [
    "# 元组的功能"
   ]
  },
  {
   "cell_type": "markdown",
   "id": "2a351e79-ab9e-4e17-859f-23c125ef98b8",
   "metadata": {},
   "source": [
    "1. 可以更安全地保护数据\n",
    " \n",
    "程序设计中有些数据可能永远不会改变，将它存储在元组（tuple）内，可以被安全地保护，例如：图像处理时对象的长宽或每一像素的色彩数庭，很多是元组数据类型。\n",
    "\n",
    "2. 加快程序执行速度\n",
    "\n",
    "元组(tuple)结构比列表(list)简单，占用较少的系统资源，程序执行时速。\n",
    "\n",
    "了解了上述元组的优点后，未来设计程序时，如果确定数据可以不更改，就尽量使用元组数据类型。"
   ]
  },
  {
   "cell_type": "markdown",
   "id": "8fa9dbae-e570-4d65-af59-a549135589ca",
   "metadata": {},
   "source": [
    "# 认识元组-divmod()"
   ]
  },
  {
   "cell_type": "markdown",
   "id": "61b3e759-93fa-43dd-b1f4-8f0e4a41c928",
   "metadata": {},
   "source": [
    "元组由于具有安全，内容不会被更改，数据结构简单，执行速度快等优占所以其被大量应用在系统程序设计中，程序设计师喜欢将涉及程序所保留的数据以元组存储。  \n",
    "\n",
    "`divmod()`的回传值是元组，所以我们可以使用元组方式取得商和余数。"
   ]
  },
  {
   "cell_type": "markdown",
   "id": "b56cd558-d5c3-4a76-aef2-1ebb52bdcc33",
   "metadata": {},
   "source": [
    "## Test09"
   ]
  },
  {
   "cell_type": "code",
   "execution_count": 10,
   "id": "fc8ff6d0-744e-4de6-8a2e-48a69dd8dddd",
   "metadata": {},
   "outputs": [
    {
     "name": "stdout",
     "output_type": "stream",
     "text": [
      "(3, 1) <class 'tuple'>\n",
      "3 1\n"
     ]
    }
   ],
   "source": [
    "# divmod(被除数, 除数)\n",
    "data = divmod(10, 3)\n",
    "print(data, type(data))\n",
    "\n",
    "\n",
    "quotient, remainder = data  # quotient：商， remainder：余数\n",
    "print(quotient, remainder)"
   ]
  },
  {
   "cell_type": "markdown",
   "id": "bef0b880-2930-48b7-82bb-90e2df923ec2",
   "metadata": {},
   "source": [
    "# 基础统计应用"
   ]
  },
  {
   "cell_type": "markdown",
   "id": "9c331f7d-b6d0-4be4-971d-6a5f77713b17",
   "metadata": {},
   "source": [
    "假设有n个数据，我们可以使用下列公式计算它们的平均值(Mean)，变异数(Variance)，标准偏差(StandardDeviation)。  \n",
    "\n",
    "平均值：$\\bar{x}=\\frac{1}{n} \\sum\\limits_{i=1}^n x_i=\\frac{x_1+x_2+\\cdots+x_n}{n}$\n",
    "\n",
    "变异数： $\\text { variance }=\\frac{1}{n} \\sum\\limits_{i=1}^n\\left(x_i-\\bar{x}\\right)^2 $\n",
    "\n",
    "标准偏差：$ \\text { standard deviation }=\\sqrt{\\frac{1}{n} \\sum\\limits_{i=1}^n\\left(x_i-\\bar{x}\\right)^2}$"
   ]
  },
  {
   "cell_type": "markdown",
   "id": "a765eea0-04aa-4fa5-946b-7a410cb50ec8",
   "metadata": {},
   "source": [
    "## Test10"
   ]
  },
  {
   "cell_type": "code",
   "execution_count": 11,
   "id": "dc0ada19-dd87-4bf2-bfcd-26cdbb32a8c5",
   "metadata": {},
   "outputs": [
    {
     "name": "stdout",
     "output_type": "stream",
     "text": [
      "平均值: 7.0\n",
      "变异数: 2.5\n",
      "标准偏差: 1.5811388300841898\n"
     ]
    }
   ],
   "source": [
    "# 采集的数据\n",
    "vals = (5, 6, 8, 9)  # 不可变的数值用元组存储\n",
    "\n",
    "# 平均数\n",
    "mean = sum(vals) / len(vals)\n",
    "print(f'平均值: {mean}')\n",
    "\n",
    "# 变异数（方差）\n",
    "viriance = 0\n",
    "for v in vals:\n",
    "    viriance += (v - mean) ** 2\n",
    "viriance = viriance / len(vals)\n",
    "print(f'变异数: {viriance}')\n",
    "\n",
    "# 标准偏差\n",
    "deviation = viriance ** 0.5\n",
    "print(f'标准偏差: {deviation}')"
   ]
  },
  {
   "cell_type": "markdown",
   "id": "d5d42729-f6e0-4a8b-80e4-7b372d99593c",
   "metadata": {},
   "source": [
    "# 多重指定，打包与解包"
   ]
  },
  {
   "cell_type": "markdown",
   "id": "334e7674-1b2b-47dd-8f2c-e1e22c00b663",
   "metadata": {},
   "source": [
    "## Test11"
   ]
  },
  {
   "cell_type": "code",
   "execution_count": 12,
   "id": "786b456b-7b22-4da9-a4ea-9d478ca1045c",
   "metadata": {},
   "outputs": [
    {
     "name": "stdout",
     "output_type": "stream",
     "text": [
      "10 20\n",
      "1 2 [3, 4, 5]\n",
      "1 2 3\n",
      "1 2 3\n",
      "姓名: 张三, 语文: 90, 数学: 95\n",
      "张三 90 95\n"
     ]
    }
   ],
   "source": [
    "# 解包\n",
    "x, y  = (10, 20)\n",
    "print(x, y)\n",
    "\n",
    "\n",
    "# 多重打包\n",
    "a, b, *c = 1, 2, 3, 4, 5\n",
    "print(a, b, c)\n",
    "\n",
    "[a, b, c] = (1, 2, 3)\n",
    "print(a, b, c)\n",
    "\n",
    "[a, [b, c]] = (1, (2, 3))\n",
    "print(a, b, c)\n",
    "\n",
    "x = ('张三', (90, 95))\n",
    "print(f'姓名: {x[0]}, 语文: {x[1][0]}, 数学: {x[1][1]}')\n",
    "\n",
    "(name, (chinese, math)) = ('张三', (90, 95)) # 保持结构相同，就可以解包\n",
    "\n",
    "# (name, (chinese, math)) = ('张三', (90, 95)) # 左边有3个元素，右边只有2个元素。\n",
    "print(name, chinese, math)"
   ]
  },
  {
   "cell_type": "markdown",
   "id": "cd0e524e-9853-4d48-95e5-c184a4477d6f",
   "metadata": {},
   "source": [
    "# 再谈bytes与byte array"
   ]
  },
  {
   "cell_type": "markdown",
   "id": "db462338-f92e-4fbd-a9e0-5f19e49280c5",
   "metadata": {},
   "source": [
    "bytes数据其实是二进制的数据格式，使用8位存储整数序列，更进一步说明，二进制数据格式有bytes与byte array两种。  \n",
    " \n",
    "* bytes：内容不可变，可以想成是元组，可以使用bytes()将列表内容转成bytes数据。\n",
    "* byte array：内容可变，可以想成是列表，可以使用bytearray()将列表内容转成byte array数据。"
   ]
  },
  {
   "cell_type": "markdown",
   "id": "0df6a565-b7da-42bd-8474-48728998282b",
   "metadata": {},
   "source": [
    "## Test12"
   ]
  },
  {
   "cell_type": "code",
   "execution_count": 13,
   "id": "95308e70-7864-4cd8-a4f5-7e8dd2b8d74a",
   "metadata": {},
   "outputs": [
    {
     "name": "stdout",
     "output_type": "stream",
     "text": [
      "b'\\x01\\x03\\x05\\x07\\t' <class 'bytes'>\n",
      "1\n",
      "3\n",
      "5\n",
      "7\n",
      "9\n"
     ]
    }
   ],
   "source": [
    "x = [1, 3, 5, 7, 9]\n",
    "\n",
    "# 需求 : 将列表数据转换为 bytes 二进制数据  (不可修改, 类似与元组)\n",
    "x_bytes = bytes(x)\n",
    "print(x_bytes, type(x_bytes))  # 9变成了\\t\n",
    "\n",
    "# TypeError: 'bytes' object does not support item assignment   不可重新赋值\n",
    "# x_bytes[0] = 10\n",
    "\n",
    "for i in x_bytes:\n",
    "    print(i)"
   ]
  },
  {
   "cell_type": "markdown",
   "id": "c346dd9f-a7bf-4f76-9ba0-322a32e883d0",
   "metadata": {},
   "source": [
    "bytearray可修改，类似于列表。"
   ]
  },
  {
   "cell_type": "markdown",
   "id": "f4d55bcf-bad6-4997-b903-59ca970fb166",
   "metadata": {},
   "source": [
    "## Test13"
   ]
  },
  {
   "cell_type": "code",
   "execution_count": 14,
   "id": "64351e7e-2b7d-43eb-9570-79b50680382b",
   "metadata": {},
   "outputs": [
    {
     "name": "stdout",
     "output_type": "stream",
     "text": [
      "bytearray(b'\\x01\\x03\\x05\\x07\\t') <class 'bytearray'>\n",
      "10\n",
      "3\n",
      "5\n",
      "7\n",
      "9\n"
     ]
    }
   ],
   "source": [
    "x = [1, 3, 5, 7, 9]\n",
    "\n",
    "# 需求 : 将列表数据转换为 bytearray 二进制数据  (可修改, 类似与列表)\n",
    "x_bytearray = bytearray(x)\n",
    "print(x_bytearray, type(x_bytearray))\n",
    "\n",
    "# 修改二进制类型中的元素\n",
    "x_bytearray[0] = 10  # 里面的数据仍然以二进制形式存储\n",
    "\n",
    "for i in x_bytearray:\n",
    "    print(i)"
   ]
  },
  {
   "cell_type": "code",
   "execution_count": null,
   "id": "c486b6c1-1f7a-4441-aa6b-be0420c6c576",
   "metadata": {},
   "outputs": [],
   "source": []
  }
 ],
 "metadata": {
  "kernelspec": {
   "display_name": "Python [conda env:base] *",
   "language": "python",
   "name": "conda-base-py"
  },
  "language_info": {
   "codemirror_mode": {
    "name": "ipython",
    "version": 3
   },
   "file_extension": ".py",
   "mimetype": "text/x-python",
   "name": "python",
   "nbconvert_exporter": "python",
   "pygments_lexer": "ipython3",
   "version": "3.11.6"
  }
 },
 "nbformat": 4,
 "nbformat_minor": 5
}
