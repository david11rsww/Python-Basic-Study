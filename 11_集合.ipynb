{
 "cells": [
  {
   "cell_type": "markdown",
   "id": "e7573fed-6a83-4f6b-a5bc-11d4fdae8662",
   "metadata": {},
   "source": [
    "# 集合基本概念"
   ]
  },
  {
   "cell_type": "markdown",
   "id": "a87f0155-acd6-4cac-8093-901b3d7e964e",
   "metadata": {},
   "source": [
    "集合的基本概念是无序且每个元素是唯一的，其实也可以将集合看成是字典的键，每个键皆是唯一的，集合元素的内容是不可变的(immutable)，常见的元素有整数(integer)，浮点数(float），字符串(string)，元组(tuple)等。  \n",
    "\n",
    "至于可变的（mutable）内容，如列表(list)，字典(dict)，集合(set)等不可以是集合元素，但是集合本身是可变的（mutable），我们可以增加和删除集合的元素。  \n",
    "\n",
    "* 建立集合\n",
    "  \n",
    "例如：一个骰子有6面．每一面有一个数字，每个数字是一个元素，我们可以使用集合代表这6个数字。\n",
    "\n",
    "* 使用set()建立集合\n",
    "\n",
    "Python内建的set()函数可以建立集合，set()函数的参数只能有一个元素，此元素的内容可以是字符串（string），列表(list)，元组(tuple)，字典(dict)等。 \n",
    "\n",
    "* 集合的基数\n",
    "\n",
    "所谓集合的基数(cardinality)是指集合元素的数量，可以使用len()获得。\n",
    "\n",
    "* 大数据与集合的应用\n",
    "\n",
    "很多知名的企业，收集了海量数据并使用列表保存，这里面有些数据是重复出现的，我们应该如何将重复的数据删除呢？如果使用C语言可能要花几小时解决，但是如果了解Python的集合概念，只要花1分钟。其实只要将列表数据使用set()函数转为集合数据，再使用list()函数将集合数据转为列表数据就可以了。"
   ]
  },
  {
   "cell_type": "markdown",
   "id": "73107731-4f38-45dc-882f-c163ccd8621a",
   "metadata": {},
   "source": [
    "## Test01"
   ]
  },
  {
   "cell_type": "code",
   "execution_count": 1,
   "id": "b5ca98be-8aeb-43b5-ae9a-6daa563ff118",
   "metadata": {},
   "outputs": [
    {
     "name": "stdout",
     "output_type": "stream",
     "text": [
      "{1, 2, 3, 4, 5, 6, 7, 8, 9, 10} <class 'set'>\n",
      "len(set1) = 10\n",
      "{1, 2, 3, 4, 5, 6} <class 'set'>\n",
      "{'f', 't', 'u', 'e', 'l', 'i', 'b', 'a'} <class 'set'>\n",
      "['apple', 'banana', 'cherry', 'orange', 'apple', 'pear', 'watermelon', 'strawberry']\n",
      "['orange', 'apple', 'banana', 'watermelon', 'pear', 'cherry', 'strawberry']\n"
     ]
    }
   ],
   "source": [
    "# 列表是可变的\n",
    "list1 = [1, 2, 3, 4, 5]\n",
    "list2 = [6, 7, 8, 9, 10]\n",
    "\n",
    "# 注意点 : 可变的内容不可以作为集合的元素\n",
    "# 集合的格式 : {元素1, 元素2, 元素3, ... 元素n}\n",
    "# set1 = {list1, list2}\n",
    "# print(set1)\n",
    "\n",
    "# 使用 set() 方法创建集合\n",
    "set1 = set(list1 + list2)  # 先拼接成一个元素\n",
    "print(set1, type(set1))\n",
    "\n",
    "# len() 获取集合的元素\n",
    "print(f'{len(set1) = }')\n",
    "\n",
    "# 使用 {} 直接创建集合\n",
    "set2 = {1, 2, 3, 4, 5, 6, 5, 4, 3, 2, 1 }\n",
    "print(set2, type(set2))\n",
    "\n",
    "# 使用字符串创建集合\n",
    "set3 = set('beautiful')\n",
    "print(set3, type(set3))\n",
    "\n",
    "# 大数据与集合的应用\n",
    "fruits = ['apple', 'banana', 'cherry', 'orange', 'apple' ,'pear', 'watermelon', 'strawberry']\n",
    "print(fruits)\n",
    "# 将列表转换为集合\n",
    "fruits_set = set(fruits)\n",
    "# 将集合转换为列表\n",
    "fruits = list(fruits_set)\n",
    "print(fruits)"
   ]
  },
  {
   "cell_type": "markdown",
   "id": "40ec12c3-0c9c-436d-bbed-12574ec90290",
   "metadata": {},
   "source": [
    "# 集合的操作"
   ]
  },
  {
   "cell_type": "markdown",
   "id": "c290df9e-9728-43d9-bf06-df3a656581e5",
   "metadata": {},
   "source": [
    "* 操作说明\n",
    "\n",
    "|Python符号 |说明 |\n",
    "|---|---|\n",
    "|& |交集（intersection） |\n",
    "|\\| |并集（union) |\n",
    "|- |差集（difference）|\n",
    "| ^ |对称差集(symmetric difference) |\n",
    "| == |等于  |\n",
    "| != |不等于  |\n",
    "| in |是成员  |\n",
    "| not in |不是成员|\n",
    "\n",
    "元素属于集合，Python的关键词in可以测试元素是否属于集合。  \n",
    "\n",
    "元素不属于集合，Python的关踺词not in可以测试元素是否不属于集合。"
   ]
  },
  {
   "cell_type": "markdown",
   "id": "c098c093-03cc-4ca9-809a-89e943c170a9",
   "metadata": {},
   "source": [
    "![](img/set.jpg)"
   ]
  },
  {
   "cell_type": "markdown",
   "id": "29699be8-b6a1-401c-b3c5-8bb5e4b1cd2e",
   "metadata": {},
   "source": [
    "## Test02"
   ]
  },
  {
   "cell_type": "code",
   "execution_count": 2,
   "id": "a0f3ef01-db2d-45d7-8040-5c60861d4973",
   "metadata": {},
   "outputs": [
    {
     "name": "stdout",
     "output_type": "stream",
     "text": [
      "result1 = {3, 4, 5}\n",
      "result2 = {1, 2, 3, 4, 5, 6, 7}\n",
      "result3 = {1, 2}\n",
      "result4 = {6, 7}\n",
      "result5 = {1, 2, 6, 7}\n",
      "result6 = False, result7 = True\n",
      "result8 = True, result9 = False\n"
     ]
    }
   ],
   "source": [
    "a = {1, 2, 3, 4, 5}\n",
    "b = {3, 4, 5, 6, 7}\n",
    "\n",
    "# 交集 (intersection &)\n",
    "# result1 = a.intersection(b)\n",
    "result1 = a & b\n",
    "print(f'{result1 = }')\n",
    "\n",
    "# 并集 (union |)\n",
    "# result2 = a.union(b)\n",
    "result2 = a | b\n",
    "print(f'{result2 = }')\n",
    "\n",
    "# 差集 (difference -)\n",
    "result3 = a.difference(b)\n",
    "print(f'{result3 = }')\n",
    "\n",
    "result4 = b - a\n",
    "print(f'{result4 = }')\n",
    "\n",
    "# 对称差集 (symmetric_difference ^)\n",
    "# result5 = a.symmetric_difference(b)\n",
    "result5 = a ^ b\n",
    "print(f'{result5 = }')\n",
    "\n",
    "# 等于不等于 == !=\n",
    "result6 = a == b\n",
    "result7 = a != b\n",
    "print(f'{result6 = }, {result7 = }')\n",
    "\n",
    "# 属于不属于  in    not in\n",
    "result8 = 1 in a\n",
    "result9 = 1 not in a\n",
    "print(f'{result8 = }, {result9 = }')"
   ]
  },
  {
   "cell_type": "markdown",
   "id": "3c168ea7-a474-419e-81f4-d24c422672da",
   "metadata": {},
   "source": [
    "# 适用集合的方法"
   ]
  },
  {
   "cell_type": "markdown",
   "id": "2467be8e-b8e4-4395-9bf0-ef81c0f70a91",
   "metadata": {},
   "source": [
    "* 方法说明\n",
    "\n",
    "|方法 | 说明 |\n",
    "|:---:|---|\n",
    "|add() |加一个元素到集合 |\n",
    "|clear() |删除集合所有元素 |\n",
    "|copy()  |复制集合 |\n",
    "|difference_update() | 除集合内与另一集合重复的元素 |\n",
    "|discard() | 如果是集合成员则删除 |\n",
    "|intersection_update() | 可以使用交集更新集合内容 |\n",
    "|isdisjoint() | 如果2个集合没有交集返回True |\n",
    "|issubset()  | 如果另一个集合包含这个集合返回True |\n",
    "|isupperset()  | 如果这个集合包含另一个集合返回True |\n",
    "|pop()  | 回传所删除的元素，如果是窒集合返回False |\n",
    "|remove()  | 删除指定元素，如果此元素不存在，程序将返回KeyError |\n",
    "|symmetric_differende_update() | 用对称差集史新集合内容 |\n",
    "|update() | 使用并集史新集合内容 |\n",
    "\n",
    "discard()可以删除集合的元素，如果元素不存不会产生错误。 \n",
    "\n",
    "pop()是用随机方式删除集合元素，所删除的元素将被回传，如果集合是空集合，则程序会产生TypeError错误。  \n",
    "\n",
    "isdisjoint()如果2个集合没有共同的元素会回传True，否则回传False。  \n",
    "\n",
    "issubset()这个方法可以测试一个函数是否是另一个函数的子集合。  \n",
    "\n",
    "intersection_update()这个方法将回传集合的交集。  \n",
    "\n",
    "update()可以将一个集合的元素加到调用此方法的集合内。   \n",
    "\n",
    "difference_update()可以删除集合内与另一个集合重复的元素。  \n",
    "\n",
    "symmetric_difference_update()与对称差集既念一样，但是只更改调用此方法的集合。"
   ]
  },
  {
   "cell_type": "markdown",
   "id": "4f1136f2-b737-477f-934f-1e33a29a1d9d",
   "metadata": {},
   "source": [
    "* 适用集合的基本函数操作\n",
    "\n",
    "|函数名称  |说明|\n",
    "|---|---|\n",
    "|enumerate() |回传连续整数配对的enumerate对象 |\n",
    "|len() |元素数量 |\n",
    "|max() |最大值 |\n",
    "|min() |最小值 |\n",
    "|sorted() |回传己经排序的列表，集合本身则不改变 |\n",
    "|sum() |总和 |"
   ]
  },
  {
   "cell_type": "markdown",
   "id": "e08cab94-40c5-49a9-aad4-a4e456ac25f2",
   "metadata": {},
   "source": [
    "## Test03"
   ]
  },
  {
   "cell_type": "code",
   "execution_count": 3,
   "id": "a039c57c-caa4-4838-bc0f-883974818ddb",
   "metadata": {},
   "outputs": [
    {
     "name": "stdout",
     "output_type": "stream",
     "text": [
      "{1, 2, 3, 4, 5}\n",
      "{1, 2, 3, 4, 5, 6}\n",
      "{1, 2, 3, 4, 5}\n",
      "{2, 3, 4, 5}\n",
      "{3, 4, 5} 2\n",
      "result = None, numbers = set()\n"
     ]
    }
   ],
   "source": [
    "numbers = {1, 2, 3, 4, 5}\n",
    "print(numbers)\n",
    "\n",
    "# 添加元素\n",
    "numbers.add(6)\n",
    "print(numbers)\n",
    "\n",
    "# 删除元素, remove() 方法删除时, 如果元素不存在, 则报错\n",
    "numbers.remove(6)\n",
    "# numbers.remove(60)\n",
    "print(numbers)\n",
    "\n",
    "# discard() 可以删除元素 如果元素不存在, 不会报错\n",
    "numbers.discard(1)\n",
    "numbers.discard(10)\n",
    "print(numbers)\n",
    "\n",
    "# pop() 随机删除集合中的元素\n",
    "element_pop = numbers.pop()\n",
    "print(numbers, element_pop)\n",
    "\n",
    "# clear() 清除集合中所有的元素, 但集合还存在, 后续可以继续添加元素\n",
    "result = numbers.clear()\n",
    "print(f'{result = }, {numbers = }')"
   ]
  },
  {
   "cell_type": "markdown",
   "id": "30ce30f0-a73f-4e8c-92eb-7ffddc4f8b96",
   "metadata": {},
   "source": [
    "## Test04"
   ]
  },
  {
   "cell_type": "code",
   "execution_count": 4,
   "id": "a12ed44a-581d-44a7-8e85-4bfe6b566806",
   "metadata": {},
   "outputs": [
    {
     "name": "stdout",
     "output_type": "stream",
     "text": [
      "result1 = True\n",
      "result2 = False\n",
      "result3 = False\n",
      "result4 = True\n",
      "result5 = True\n",
      "a = {1, 2, 3, 4, 5}, c = {3, 4, 5, 6, 7}\n",
      "a = {3, 4, 5}, c = {3, 4, 5, 6, 7}\n",
      "a = {3, 4, 5, 6, 7}, c = {3, 4, 5, 6, 7}\n",
      "a = {3, 4, 5, 6, 7}, b = {6, 7, 8, 9, 10}\n",
      "a = {3, 4, 5}, b = {6, 7, 8, 9, 10}\n",
      "x = {1, 2, 6, 7}, y = {3, 4, 5, 6, 7}\n"
     ]
    }
   ],
   "source": [
    "a = {1, 2, 3, 4, 5}\n",
    "b = {6, 7, 8, 9, 10}\n",
    "c = {3, 4, 5, 6, 7}\n",
    "d = {1, 2, 3}\n",
    "\n",
    "# isdisjoint() 两个集合是否不相交\n",
    "result1 = a.isdisjoint(b)\n",
    "print(f'{result1 = }')\n",
    "\n",
    "result2 = a.isdisjoint(c)\n",
    "print(f'{result2 = }')\n",
    "\n",
    "# issubset() 一个集合是否是另一个集合的子集\n",
    "result3 = a.issubset(b)\n",
    "print(f'{result3 = }')\n",
    "\n",
    "result4 = d.issubset(a)\n",
    "print(f'{result4 = }')\n",
    "\n",
    "# issuperset() 一个集合是否是另一个集合的父集合\n",
    "result5 = a.issuperset(d)\n",
    "print(f'{result5 = }')\n",
    "\n",
    "# intersection_update() 这个方法将更新集合 a 的元素为 (a与c集合的交集元素)\n",
    "print(f'{a = }, {c = }')\n",
    "a.intersection_update(c)\n",
    "print(f'{a = }, {c = }')\n",
    "\n",
    "# update() 可以将一个集合的元素添加到调用该行为的集合中\n",
    "a.update(c)\n",
    "print(f'{a = }, {c = }')\n",
    "\n",
    "# difference_update() 可以删除集合内与另一个集合重复的元素\n",
    "print(f'{a = }, {b = }')\n",
    "a.difference_update(b)\n",
    "print(f'{a = }, {b = }')\n",
    "\n",
    "x = {1, 2, 3, 4, 5}\n",
    "y = {3, 4, 5, 6, 7}\n",
    "x.symmetric_difference_update(y)\n",
    "print(f'{x = }, {y = }')"
   ]
  },
  {
   "cell_type": "markdown",
   "id": "ea58faf9-c942-4c02-b119-5188c58e1a07",
   "metadata": {},
   "source": [
    "# 冻结集合"
   ]
  },
  {
   "cell_type": "markdown",
   "id": "b1296f3b-3cc0-4853-9756-116c7433976a",
   "metadata": {},
   "source": [
    "set是可变集合，frozenset是不可变集合，也可直译为冻结集合，这是一个新的类别，只要设定元素后，这个冻结集合就不能再更改了，如果将元素想成不可变列表，冻结集合就是不可变集合。  \n",
    "\n",
    "冻结集合的不可变特性的优点是可以用它作为字典的键，也可以作为其它集合的元素。冻结集合的建立方式是使用frozenset()函数，冻结集合建立完成后，不可以使用add()或remove()更改冻结集合的内容。"
   ]
  },
  {
   "cell_type": "markdown",
   "id": "d327ab38-8537-4050-9503-72ab38b46b9c",
   "metadata": {},
   "source": [
    "## Test05"
   ]
  },
  {
   "cell_type": "code",
   "execution_count": 5,
   "id": "fd8a973e-3470-4b3f-a70f-7120249ef66c",
   "metadata": {},
   "outputs": [
    {
     "name": "stdout",
     "output_type": "stream",
     "text": [
      "交集 : frozenset({3, 4, 5})\n",
      "并集 : frozenset({1, 2, 3, 4, 5, 6, 7})\n"
     ]
    }
   ],
   "source": [
    "# frozenset() 冻结集合中的元素不可再次更改\n",
    "x = frozenset({1, 2, 3, 4, 5})\n",
    "y = frozenset([3, 4, 5, 6, 7])\n",
    "\n",
    "# AttributeError: 'frozenset' object has no attribute 'add'\n",
    "# 属性错误, frozenset 对象没有 add 属性\n",
    "# x.add(7)\n",
    "\n",
    "print(f'交集 : {x & y}')\n",
    "print(f'并集 : {x | y}')"
   ]
  },
  {
   "cell_type": "markdown",
   "id": "5e60cd5e-d638-47b8-91e4-30d69e600a39",
   "metadata": {},
   "source": [
    "# 夏令营程序设计"
   ]
  },
  {
   "cell_type": "markdown",
   "id": "e260cd3b-b1ef-48ad-bb16-a41a10673a18",
   "metadata": {},
   "source": [
    "## Test06"
   ]
  },
  {
   "cell_type": "code",
   "execution_count": 6,
   "id": "00b90021-d894-4c35-ac37-0791cf8af86e",
   "metadata": {},
   "outputs": [
    {
     "name": "stdout",
     "output_type": "stream",
     "text": [
      "set() 0\n",
      "{'张三', '貂蝉'} 2\n",
      "{'李四'} 1\n"
     ]
    }
   ],
   "source": [
    "# stus 是学生名单的集合\n",
    "stus = {'张三', '李四', '王五', '赵六', '貂蝉', '杨玉环', '王昭君', '西施', '刘德华', '黎明', '郭富城', '张学友'}\n",
    "\n",
    "# 参加数学夏令营的人员\n",
    "math = {'张三', '刘德华', '西施', '貂蝉'}\n",
    "# 参数物理夏令营的人员\n",
    "physics = {'张三', '王五', '杨玉环', '张学友', '貂蝉'}\n",
    "# 参加英语夏令营的人员\n",
    "english = {'王五', '赵六', '王昭君', '黎明', '郭富城'}\n",
    "\n",
    "# 请问 : 有多少同学参加了数学和英语的夏令营 ?\n",
    "result1 = math & english\n",
    "print(result1, len(result1))\n",
    "\n",
    "# 请问 : 有多少同学参加了数学和物理的夏令营 ?\n",
    "result2 = math & physics\n",
    "print(result2, len(result2))\n",
    "\n",
    "# 请问 : 没有参加任何夏令营的学员有哪些 ?\n",
    "result3 = stus - math - physics - english\n",
    "print(result3, len(result3))"
   ]
  },
  {
   "cell_type": "markdown",
   "id": "4a411a30-fa23-4835-86f0-816501006603",
   "metadata": {},
   "source": [
    "# 集合生成式"
   ]
  },
  {
   "cell_type": "markdown",
   "id": "993db5c0-a890-4154-b92d-0597dc344dec",
   "metadata": {},
   "source": [
    "集合增加程序效率。"
   ]
  },
  {
   "cell_type": "markdown",
   "id": "9155ee5e-6530-4722-81bf-eda64baea7f2",
   "metadata": {},
   "source": [
    "## Test07"
   ]
  },
  {
   "cell_type": "code",
   "execution_count": 7,
   "id": "d3ea2fb3-0e53-4f25-89d8-30c1dd32791b",
   "metadata": {},
   "outputs": [
    {
     "name": "stdout",
     "output_type": "stream",
     "text": [
      "{1, 2, 3, 4, 5, 6, 7, 8, 9, 10}\n",
      "{64, 1, 4, 36, 100, 9, 16, 49, 81, 25}\n",
      "{3, 6, 9, 12, 15, 18, 21, 24, 27, 30, 33, 36, 39, 42, 45, 48, 51, 54, 57, 60, 63, 66, 69, 72, 75, 78, 81, 84, 87, 90, 93, 96, 99}\n"
     ]
    }
   ],
   "source": [
    "x = {i for i in range(1, 11)}\n",
    "print(x)\n",
    "\n",
    "y = {i*i for i in range(1, 11)}\n",
    "print(y)\n",
    "\n",
    "z = {i for i in range(1, 101) if i % 3 == 0}\n",
    "print(z)"
   ]
  },
  {
   "cell_type": "markdown",
   "id": "1fac4179-0baf-4a73-9a3e-3e6f8d504562",
   "metadata": {},
   "source": [
    "# 鸡尾酒实例"
   ]
  },
  {
   "cell_type": "markdown",
   "id": "27df2055-840a-4aee-8d25-7cd66a11e501",
   "metadata": {},
   "source": [
    "鸡尾酒是酒精饮料，由基酒和一些饮料调制而成，以上是一些常见的鸡尾酒饮料以及它的配方。\n",
    "\n",
    "* 蓝色夏威夷佬(Blue Hawaiian)：兰姆酒(Rum)、甜酒(Sweet Wine)、椰奶(Coconut Cream)、菠萝汁(Pineapple Juice)、柠檬汁(Lemon Juice)。\n",
    "* 姜味莫西多(Ginger Mojito)：兰姆酒(Rum)、(Ginger)、薄荷叶(Mint Leaves)、莱姆汁(Lime Juice)、姜汁汽水(Ginger Soda)。\n",
    "* 纽约客(New Yorker)：威士忌(Whiskey)、红酒(Red Wine)、柠檬汁(Lemon Juice)、糖水(Sugar Syrup)。\n",
    "* 血腥玛莉(BIoody Mary)：伏特加(Vodka)、柠檬汁(Lemon Juice)、西红柿汁(Tomato Juice)、酸辣酱(Tabasco)、少量盐（Little Salt）"
   ]
  },
  {
   "cell_type": "markdown",
   "id": "95697dbf-6458-473e-b1f5-30dc64bd4ee5",
   "metadata": {},
   "source": [
    "## Test08"
   ]
  },
  {
   "cell_type": "code",
   "execution_count": 8,
   "id": "af054660-6784-4b6a-b6ae-6c9f68613cce",
   "metadata": {},
   "outputs": [
    {
     "name": "stdout",
     "output_type": "stream",
     "text": [
      "Bloody Mary\n",
      "--------------------\n",
      "Blue Hawaiian\n",
      "New Yorker\n",
      "Bloody Mary\n",
      "--------------------\n",
      "Blue Hawaiian\n",
      "--------------------\n",
      "New Yorker\n"
     ]
    }
   ],
   "source": [
    "cocktail = {\n",
    "    'Blue Hawaiian': {'Rum', 'Sweet Wine', 'Cream', 'Pineapple Juice', 'Lemon Juice'},\n",
    "    'Ginger Mojito': {'Rum', 'Ginger', 'Mint Leaves', 'Lime Juice', 'Ginger Soda'},\n",
    "    'New Yorker': {'Whiskey', 'Red Wine', 'Lemon Juice', 'Sugar Syrup'},\n",
    "    'Bloody Mary': {'Vodka', 'Lemon Juice', 'Tomato Juice', 'Tabasco', 'little Sale'}\n",
    "    }\n",
    "\n",
    "# 列出所有含 Vodka 的酒\n",
    "for name, formulas in cocktail.items():\n",
    "    if 'Vodka' in formulas:     \n",
    "        print(name)\n",
    "\n",
    "print('-' * 20)\n",
    "\n",
    "# 列出含有 Lemon Juice 的酒\n",
    "for name, formulas in cocktail.items():\n",
    "    if 'Lemon Juice' in formulas:    \n",
    "        print(name)\n",
    "\n",
    "print('-' * 20)\n",
    "\n",
    "# 列出含有 Rum 但是没有 Ginger 的酒\n",
    "for name, formulas in cocktail.items():\n",
    "    if 'Rum' in formulas and not ('Ginger' in formulas):\n",
    "        print(name)\n",
    "\n",
    "print('-' * 20)\n",
    "\n",
    "# 列出含有 Lemon Juice 但是没有 Cream 或是 Tabasco 的酒\n",
    "for name, formulas in cocktail.items():\n",
    "    if 'Lemon Juice' in formulas and not formulas & {'Cream', 'Tabasco'}:  \n",
    "        print(name)"
   ]
  },
  {
   "cell_type": "code",
   "execution_count": null,
   "id": "4985888a-a6ed-470d-956c-edff1f74b8da",
   "metadata": {},
   "outputs": [],
   "source": []
  }
 ],
 "metadata": {
  "kernelspec": {
   "display_name": "Python [conda env:base] *",
   "language": "python",
   "name": "conda-base-py"
  },
  "language_info": {
   "codemirror_mode": {
    "name": "ipython",
    "version": 3
   },
   "file_extension": ".py",
   "mimetype": "text/x-python",
   "name": "python",
   "nbconvert_exporter": "python",
   "pygments_lexer": "ipython3",
   "version": "3.11.6"
  }
 },
 "nbformat": 4,
 "nbformat_minor": 5
}
