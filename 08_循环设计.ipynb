{
 "cells": [
  {
   "cell_type": "markdown",
   "id": "af3b059a-f5f4-4522-abdc-655a24d9bbc4",
   "metadata": {},
   "source": [
    "# 思考"
   ]
  },
  {
   "cell_type": "markdown",
   "id": "f3d839b3-9771-4f0f-9bf4-43f7b782d7c7",
   "metadata": {},
   "source": [
    "设计一个 1\\~10的累加程序，如果累加从 1\\~100，甚至1~1000，或更大呢？"
   ]
  },
  {
   "cell_type": "markdown",
   "id": "8d8d231b-4b79-4f7b-8f21-8572b13a4f87",
   "metadata": {},
   "source": [
    "## Test01"
   ]
  },
  {
   "cell_type": "code",
   "execution_count": 1,
   "id": "f8db6503-fc4d-435d-9b1c-c0b60fd06ee7",
   "metadata": {},
   "outputs": [
    {
     "name": "stdout",
     "output_type": "stream",
     "text": [
      "sum_1 = 55\n",
      "Jack\n",
      "Peter\n",
      "Tom\n",
      "Jerry\n",
      "Lucy\n"
     ]
    }
   ],
   "source": [
    "# 累加\n",
    "sum_1 = 1 + 2 + 3 + 4 + 5 + 6 + 7 + 8 + 9 + 10\n",
    "print(f'{sum_1 = }')\n",
    "\n",
    "# vip_names\n",
    "vip_names = ['Jack', 'Peter', 'Tom', 'Jerry', 'Lucy']\n",
    "print(vip_names[0])\n",
    "print(vip_names[1])\n",
    "print(vip_names[2])\n",
    "print(vip_names[3])\n",
    "print(vip_names[4])"
   ]
  },
  {
   "cell_type": "markdown",
   "id": "708348f1-1668-4e57-8612-113705513a78",
   "metadata": {},
   "source": [
    "另一种状况，如果一个数据库列表内含有1000个客户的名字，现在要举办晚宴，要打印客户姓名，如何实现呢？"
   ]
  },
  {
   "cell_type": "markdown",
   "id": "ad5b5fca-f890-48dc-a7e2-054ae6e376b4",
   "metadata": {},
   "source": [
    "# 基本for循环"
   ]
  },
  {
   "cell_type": "markdown",
   "id": "ed4d130f-7239-4af7-8dfa-39f48230aea7",
   "metadata": {},
   "source": [
    "```python\n",
    "for var in 可迭代对象:     # 可迭代对象英文是iterable object\n",
    "  程序代码区块\n",
    "```"
   ]
  },
  {
   "cell_type": "markdown",
   "id": "9fec2e82-6eff-4daf-868d-159f6da5ed97",
   "metadata": {},
   "source": [
    "可迭代对象(iterable object)可以是列表，元组，字典，集合或range()，在信息科学中迭代(iteration)可以解释为重复执行语句。"
   ]
  },
  {
   "cell_type": "markdown",
   "id": "ec750678-7308-41d5-b11f-43d0b7b188bf",
   "metadata": {},
   "source": [
    "![](img/for_loop.jpg)"
   ]
  },
  {
   "cell_type": "markdown",
   "id": "90ad4b73-cd08-40f1-b195-6928a628513d",
   "metadata": {},
   "source": [
    "如何程序代码区块只有一行。"
   ]
  },
  {
   "cell_type": "markdown",
   "id": "b5f56a1e-ae0f-4b52-8066-0de88d8523e2",
   "metadata": {},
   "source": [
    "```python\n",
    "for var in 可迭代对象: 程序代码区块\n",
    "```"
   ]
  },
  {
   "cell_type": "markdown",
   "id": "e903afac-93c6-444e-b17d-c5075c29c0fa",
   "metadata": {},
   "source": [
    "如果for循环的程序代码区块有多行程序语句时，要留意这些语句同时需要做缩进处理。"
   ]
  },
  {
   "cell_type": "markdown",
   "id": "ab64a4f9-50f8-4923-bce2-09217e0cb055",
   "metadata": {},
   "source": [
    "## Test02"
   ]
  },
  {
   "cell_type": "code",
   "execution_count": 2,
   "id": "54d9d368-20be-4f53-82fc-3f7e9ec4ef0c",
   "metadata": {},
   "outputs": [
    {
     "name": "stdout",
     "output_type": "stream",
     "text": [
      "Jack\n",
      "Peter\n",
      "Tom\n",
      "Jerry\n",
      "Lucy\n",
      "张三\n",
      "李四\n",
      "王五\n",
      "赵六\n",
      "--------------------\n",
      "Jack\n",
      "Peter\n",
      "Tom\n",
      "Jerry\n",
      "Lucy\n",
      "张三\n",
      "李四\n",
      "王五\n",
      "赵六\n",
      "欢迎光临:\n",
      "Jack\n",
      "祝你今晚过的愉快!\n",
      "欢迎光临:\n",
      "Peter\n",
      "祝你今晚过的愉快!\n",
      "欢迎光临:\n",
      "Tom\n",
      "祝你今晚过的愉快!\n",
      "欢迎光临:\n",
      "Jerry\n",
      "祝你今晚过的愉快!\n",
      "欢迎光临:\n",
      "Lucy\n",
      "祝你今晚过的愉快!\n",
      "欢迎光临:\n",
      "张三\n",
      "祝你今晚过的愉快!\n",
      "欢迎光临:\n",
      "李四\n",
      "祝你今晚过的愉快!\n",
      "欢迎光临:\n",
      "王五\n",
      "祝你今晚过的愉快!\n",
      "欢迎光临:\n",
      "赵六\n",
      "祝你今晚过的愉快!\n"
     ]
    }
   ],
   "source": [
    "# vip_names\n",
    "vip_names = ['Jack', 'Peter', 'Tom', 'Jerry', 'Lucy', '张三', '李四', '王五', '赵六']\n",
    "\n",
    "# 循环 遍历/迭代 列表中的每一个元素\n",
    "for vip in vip_names:\n",
    "    print(vip)\n",
    "\n",
    "print('-' * 20)\n",
    "\n",
    "# 如果循环体区块只有一行代码, 可以简写为 :\n",
    "for vip in vip_names: print(vip)\n",
    "\n",
    "# 如果循环体区块有多行语句, 需要注意循环体区块的相同缩进\n",
    "for vip in vip_names:\n",
    "    print('欢迎光临:')\n",
    "    print(vip)\n",
    "    print('祝你今晚过的愉快!')"
   ]
  },
  {
   "cell_type": "markdown",
   "id": "96024abf-ee2e-4b55-8dc3-7ad678b5421e",
   "metadata": {},
   "source": [
    "# 将for循环应用在列表区间元素"
   ]
  },
  {
   "cell_type": "markdown",
   "id": "9df2e0c7-3e6f-4506-a3b5-e7d615a59609",
   "metadata": {},
   "source": [
    "这个概念其实很有用，例如：如果你设计一个学习网站，想要每天列出前3名学生基本数据同时表扬，可以将每个人的学习成果放在列表内，同时用降幂排序方式处理，最后用上述方式列出前3名学生数据。\n",
    "\n",
    "升幂是指由小到大排列，降幂是指由大到小排列。"
   ]
  },
  {
   "cell_type": "markdown",
   "id": "5b789d05-79c4-4970-b640-dcbf4412a1fe",
   "metadata": {},
   "source": [
    "## Test03"
   ]
  },
  {
   "cell_type": "code",
   "execution_count": 3,
   "id": "9a4b9220-82b3-45ef-a5bc-fd4ad1c1ae0a",
   "metadata": {},
   "outputs": [
    {
     "name": "stdout",
     "output_type": "stream",
     "text": [
      "输出前 3 个元素\n",
      "1\n",
      "2\n",
      "3\n",
      "输出后 3 个元素\n",
      "8\n",
      "*****\n",
      "9\n",
      "*****\n",
      "10\n",
      "*****\n"
     ]
    }
   ],
   "source": [
    "numbers = [1, 2, 3, 4, 5, 6, 7, 8, 9, 10]\n",
    "\n",
    "# 输出前 3 个元素\n",
    "print('输出前 3 个元素')\n",
    "for num in numbers[:3]:print(num)\n",
    "\n",
    "# 输出后 3 个元素\n",
    "print('输出后 3 个元素')\n",
    "for num in numbers[-3:]:\n",
    "    print(num)\n",
    "    print('*'*5)"
   ]
  },
  {
   "cell_type": "markdown",
   "id": "a8f2b45f-189d-4113-b605-4ad43d354e40",
   "metadata": {},
   "source": [
    "# 将for循环应用在数据类别的判断"
   ]
  },
  {
   "cell_type": "markdown",
   "id": "4aaacf8a-3afc-4907-b751-edfa33c1f867",
   "metadata": {},
   "source": [
    "## Test04"
   ]
  },
  {
   "cell_type": "code",
   "execution_count": 4,
   "id": "69a055e1-b5f8-4c9f-b95f-705bd4cdb778",
   "metadata": {},
   "outputs": [
    {
     "name": "stdout",
     "output_type": "stream",
     "text": [
      "txt = ['1.txt', '4.txt', '6.txt']\n"
     ]
    }
   ],
   "source": [
    "files = ['1.txt', '2.jpg', '3.py', '4.txt', '5.jpg', '6.txt']\n",
    "\n",
    "# 需求 : 将所有的 txt 文件存储到一个列表中\n",
    "# 定义一个空列表\n",
    "txt = []\n",
    "\n",
    "# 循环 files 列表\n",
    "for file in files:\n",
    "    # 判断\n",
    "    if file.endswith('.txt'):\n",
    "        txt.append(file)\n",
    "\n",
    "# 循环结束后, 查看列表中的数据\n",
    "print(f'{txt = }')"
   ]
  },
  {
   "cell_type": "code",
   "execution_count": 5,
   "id": "00349d15-6e46-4cf2-9623-f7803d8c83ff",
   "metadata": {},
   "outputs": [
    {
     "data": {
      "text/plain": [
       "True"
      ]
     },
     "execution_count": 5,
     "metadata": {},
     "output_type": "execute_result"
    }
   ],
   "source": [
    "'aattt'.startswith('aa')"
   ]
  },
  {
   "cell_type": "markdown",
   "id": "e45db7f9-ecb8-41e2-a40b-0c4e7ce58ba1",
   "metadata": {},
   "source": [
    "# 删除列表内重复元素"
   ]
  },
  {
   "cell_type": "markdown",
   "id": "ef9494a3-576e-4cc2-8d1d-7dea965d2a1f",
   "metadata": {},
   "source": [
    "## Test05"
   ]
  },
  {
   "cell_type": "code",
   "execution_count": 6,
   "id": "79b81c0f-fe4e-4840-9075-4f8b794c68a7",
   "metadata": {},
   "outputs": [
    {
     "name": "stdout",
     "output_type": "stream",
     "text": [
      "删除了red\n",
      "删除了blue\n",
      "['gray', 'orange', 'cyan', 'purple', 'lightblue']\n"
     ]
    }
   ],
   "source": [
    "color1 = ['red', 'green', 'blue', 'white', 'black', 'yellow', 'pink']\n",
    "color2 = ['gray', 'orange', 'cyan', 'red', 'purple', 'lightblue', 'blue']\n",
    "\n",
    "# 需求 : 删除 color2 中与 color1 相同的颜色\n",
    "for color in color1:\n",
    "    # 判断\n",
    "    if color in color2:\n",
    "        # 删除该颜色\n",
    "        color2.remove(color)\n",
    "        print(f'删除了{color}')\n",
    "\n",
    "print(color2)"
   ]
  },
  {
   "cell_type": "markdown",
   "id": "54c9d87e-005c-459f-88d4-55c798ded359",
   "metadata": {},
   "source": [
    "# range()函数"
   ]
  },
  {
   "cell_type": "markdown",
   "id": "2c01481f-edba-4524-afa3-d70cb545c6b9",
   "metadata": {},
   "source": [
    "Python可以使用range()函数产生一个**等差序列**，我们又称等差序列为**可迭代对象**（iterable object），也可以称为range对象，由于range()产生等差序列，我们可以直接使用，将此等差序列当做循环的计数器。"
   ]
  },
  {
   "cell_type": "markdown",
   "id": "e3546a0a-0165-4cc0-a369-a837f3a3c79c",
   "metadata": {},
   "source": [
    "```python\n",
    "range(start, stop, step)   # 和切片非常相似，只不过一个是逗号，另一个是冒号\n",
    "```"
   ]
  },
  {
   "cell_type": "markdown",
   "id": "2cf04df4-dc3d-4041-8d9d-c42f5926aef5",
   "metadata": {},
   "source": [
    "上述stop是唯一必须的值，等差序列是产生stop的前一个值。"
   ]
  },
  {
   "cell_type": "markdown",
   "id": "56e2a88a-99d2-4ddf-b3a4-7720417d38ce",
   "metadata": {},
   "source": [
    "## 只有一个参数的range()函数的应用"
   ]
  },
  {
   "cell_type": "raw",
   "id": "a98da31c-3c53-4a57-ad11-d514157f7fe3",
   "metadata": {},
   "source": [
    "range(n)  # 它将产生0，1，…，n-1的可迭代对象内容"
   ]
  },
  {
   "cell_type": "markdown",
   "id": "7b4175f6-3c4e-4045-a24c-4fcbd783a1cb",
   "metadata": {},
   "source": [
    "### Test06"
   ]
  },
  {
   "cell_type": "code",
   "execution_count": 7,
   "id": "a4618a0d-2355-4ec5-a7d2-3acfd338c2e3",
   "metadata": {},
   "outputs": [
    {
     "name": "stdin",
     "output_type": "stream",
     "text": [
      "Enter a number:  8\n"
     ]
    },
    {
     "name": "stdout",
     "output_type": "stream",
     "text": [
      "0\n",
      "1\n",
      "2\n",
      "3\n",
      "4\n",
      "5\n",
      "6\n",
      "7\n"
     ]
    }
   ],
   "source": [
    "# 一个参数的 range()\n",
    "\n",
    "n = eval(input(\"Enter a number: \"))\n",
    "\n",
    "# range(n) 与循环结合使用, 会造成 n 次的循环执行\n",
    "for i in range(n):\n",
    "    print(i)"
   ]
  },
  {
   "cell_type": "markdown",
   "id": "6f72d092-f3b4-454b-ac2a-260e782792c9",
   "metadata": {},
   "source": [
    "### Test07"
   ]
  },
  {
   "cell_type": "code",
   "execution_count": 8,
   "id": "4b13ebd6-f161-479e-8d87-93ccd1c7dcdf",
   "metadata": {},
   "outputs": [
    {
     "name": "stdout",
     "output_type": "stream",
     "text": [
      "第1年的本金和为:52500.0\n",
      "第2年的本金和为:55125.0\n",
      "第3年的本金和为:57881.25\n",
      "第4年的本金和为:60775.3125\n",
      "第5年的本金和为:63814.078125\n"
     ]
    }
   ],
   "source": [
    "money = 50_000\n",
    "rate = 0.05\n",
    "year = 5\n",
    "\n",
    "# 执行 5 次循环  产生的数值为: 0~4\n",
    "for i in range(year):\n",
    "    # 每一年的本金和\n",
    "    money = money * (1 + rate)\n",
    "    print(f'第{i+1}年的本金和为:{money}')"
   ]
  },
  {
   "cell_type": "markdown",
   "id": "4eb45f2e-e359-4bf1-8c07-9fd23bd3528c",
   "metadata": {},
   "source": [
    "## 有2个参数的range()函数"
   ]
  },
  {
   "cell_type": "raw",
   "id": "c0b0b5ae-f0b2-4328-8b19-819215d4b265",
   "metadata": {},
   "source": [
    "range(start, end)  # start是起始值，end-1是终止值"
   ]
  },
  {
   "cell_type": "markdown",
   "id": "d52c65e2-0e41-42b7-8dc7-f38fe951b7a6",
   "metadata": {},
   "source": [
    "### Test08"
   ]
  },
  {
   "cell_type": "code",
   "execution_count": 10,
   "id": "fe079ab8-c4ea-42a0-a17d-b4cc7cfd6026",
   "metadata": {},
   "outputs": [
    {
     "name": "stdin",
     "output_type": "stream",
     "text": [
      "Enter a number:  100\n"
     ]
    },
    {
     "name": "stdout",
     "output_type": "stream",
     "text": [
      "sum = 5050\n"
     ]
    }
   ],
   "source": [
    "n = eval(input(\"Enter a number: \"))\n",
    "\n",
    "# 定义一个 sum 变量\n",
    "sum = 0\n",
    "\n",
    "for i in range(1, n+1):    # 加了 1 就可以跑到 n 了\n",
    "    sum += i\n",
    "\n",
    "print(f'{sum = }')"
   ]
  },
  {
   "cell_type": "markdown",
   "id": "3b724969-5e04-4e1b-8178-bffdf863903a",
   "metadata": {},
   "source": [
    "## 有3个参数的range()函数"
   ]
  },
  {
   "cell_type": "markdown",
   "id": "474b36c8-aad8-4884-b96a-804c64bde548",
   "metadata": {},
   "source": [
    "```python\n",
    "range(start, end, step)  # start是起始值，end-1是终止值，step是间隔值\n",
    "```"
   ]
  },
  {
   "cell_type": "markdown",
   "id": "c546953f-6104-4e93-bdac-cfbac0b0cd61",
   "metadata": {},
   "source": [
    "### Test09"
   ]
  },
  {
   "cell_type": "code",
   "execution_count": 11,
   "id": "7898ba4b-70d4-4939-b156-9407e270e795",
   "metadata": {},
   "outputs": [
    {
     "name": "stdout",
     "output_type": "stream",
     "text": [
      "1 2 3 4 5 6 7 8 9 \n",
      "\n",
      "10 9 8 7 6 5 4 3 2 1 \n",
      "100 90 80 70 60 50 40 30 20 10 "
     ]
    }
   ],
   "source": [
    "for i in range(1, 10, 1):\n",
    "    print(i, end=' ')  # 标准输出默认是换行的\n",
    "\n",
    "# 换行, 因为 print() 中的 end 参数默认为换行\n",
    "print(end='\\n')\n",
    "print()  # print方法默认就是换行，写与不写是一样的\n",
    "\n",
    "for i in range(10, 0, -1):  # 跑不到 0，精准控制开始结束语步长\n",
    "    print(i, end=' ')\n",
    "\n",
    "print()\n",
    "\n",
    "for i in range(100, 0, -10):  # 跑不到 0\n",
    "    print(i, end=' ')"
   ]
  },
  {
   "cell_type": "markdown",
   "id": "40a6c2b1-7f6e-439e-a815-ac83901c682c",
   "metadata": {},
   "source": [
    "## 活用range()函数"
   ]
  },
  {
   "cell_type": "markdown",
   "id": "12f0bc97-91c0-4005-a8e8-51e8214f0116",
   "metadata": {},
   "source": [
    "1. 去指定整型数值的累加和\n",
    "2. 求10之内的整型数值的平方"
   ]
  },
  {
   "cell_type": "markdown",
   "id": "29dfa47c-a176-4303-bee5-99b8305a829e",
   "metadata": {},
   "source": [
    "### Test10"
   ]
  },
  {
   "cell_type": "code",
   "execution_count": 1,
   "id": "91b6788b-6b18-40b8-9eab-b9226b17739f",
   "metadata": {},
   "outputs": [
    {
     "name": "stdin",
     "output_type": "stream",
     "text": [
      "Enter a number:  100\n"
     ]
    },
    {
     "name": "stdout",
     "output_type": "stream",
     "text": [
      "5050\n",
      "[1, 4, 9, 16, 25, 36, 49, 64, 81, 100]\n"
     ]
    }
   ],
   "source": [
    "# 求整型数值的累加和\n",
    "n = int(input(\"Enter a number: \"))\n",
    "sum_ = sum(range(1, n+1))  \n",
    "print(sum_)\n",
    "\n",
    "# 获取 10 之内整型数值的平方\n",
    "if n > 10 : n = 10      # 限制 n 在 10 的范围内\n",
    "squares = []\n",
    "for i in range (1,n+1):\n",
    "    value = i * i   # i ** 2\n",
    "    squares.append(value)\n",
    "\n",
    "# 查看\n",
    "print(squares)"
   ]
  },
  {
   "cell_type": "markdown",
   "id": "b252452e-f146-47c8-a7ce-9823778bc2cd",
   "metadata": {},
   "source": [
    "# 删除列表内指定的所有元素"
   ]
  },
  {
   "cell_type": "markdown",
   "id": "b3318ef5-fc65-4d2c-9476-30752824ff8d",
   "metadata": {},
   "source": [
    "## Test11"
   ]
  },
  {
   "cell_type": "code",
   "execution_count": 2,
   "id": "ce9fc59e-800a-49c8-9d6f-0b9c4dd99e31",
   "metadata": {},
   "outputs": [
    {
     "name": "stdout",
     "output_type": "stream",
     "text": [
      "['apple', 'banana', 'cherry', 'watermelon', 'pear', 'strawberry']\n",
      "[]\n"
     ]
    }
   ],
   "source": [
    "# 需求 : 删除列表中所有的元素\n",
    "fruits = ['apple', 'banana', 'cherry', 'watermelon', 'pear', 'strawberry']\n",
    "print(fruits)\n",
    "\n",
    "# 注意 : 遍历与操作不能在同一个列表对象上进行\n",
    "# 列表的切片复制  fruits[:]\n",
    "for fruit in fruits[:]:\n",
    "# for fruit in fruits:  # 这样行不通，只会删除部分元素，列表元素删除后，后面的元素会前移，本质上是根据小标来进行删除的\n",
    "    fruits.remove(fruit)\n",
    "\n",
    "# fruits.clear() # 也可以直接clear所有元素\n",
    "\n",
    "print(fruits)"
   ]
  },
  {
   "cell_type": "markdown",
   "id": "bc37d8a8-e2ed-4cc4-a62f-f042ef2da685",
   "metadata": {},
   "source": [
    "⚠️ 核心问题：**不要在遍历列表时直接修改它**，否则会因索引错位导致意外结果。\n",
    "\n",
    "The code you provided has a logical issue when trying to remove all elements from the `fruits` list. Let me explain what's happening:\n",
    "\n",
    "```python\n",
    "fruits = ['apple', 'banana', 'cherry', 'watermelon', 'pear', 'strawberry']\n",
    "\n",
    "for fruit in fruits:  \n",
    "    fruits.remove(fruit)\n",
    "```\n",
    "\n",
    "The problem is that you're modifying the list (`fruits.remove(fruit)`) while iterating over it (`for fruit in fruits`). This causes the iteration to skip elements because the list is being altered during the loop.\n",
    "\n",
    "Here's what happens step by step:\n",
    "1. First iteration: fruit = 'apple' (index 0), removed\n",
    "   - List becomes: ['banana', 'cherry', 'watermelon', 'pear', 'strawberry']\n",
    "2. Second iteration: moves to index 1 (which is now 'cherry'), skipping 'banana'\n",
    "   - 'cherry' is removed\n",
    "   - List becomes: ['banana', 'watermelon', 'pear', 'strawberry']\n",
    "3. Third iteration: moves to index 2 (now 'pear'), skipping 'watermelon'\n",
    "   - 'pear' is removed\n",
    "   - List becomes: ['banana', 'watermelon', 'strawberry']\n",
    "4. Loop ends because index 3 doesn't exist\n",
    "\n",
    "Final list: `['banana', 'watermelon', 'strawberry']`\n",
    "\n",
    "To properly remove all elements, you should either:\n",
    "1. Use a while loop:\n",
    "```python\n",
    "while fruits:\n",
    "    fruits.pop()\n",
    "```\n",
    "\n",
    "2. Create a copy to iterate over:\n",
    "```python\n",
    "for fruit in fruits.copy():\n",
    "    fruits.remove(fruit)\n",
    "```\n",
    "\n",
    "3. Or simply clear the list directly:\n",
    "```python\n",
    "fruits.clear()\n",
    "```\n",
    "\n",
    "4. Or reassign an empty list:\n",
    "```python\n",
    "fruits = []\n",
    "```"
   ]
  },
  {
   "cell_type": "markdown",
   "id": "1650a0ee-56dc-4c69-b306-13a622871cd6",
   "metadata": {},
   "source": [
    "# 列表生成式（list generator）的应用"
   ]
  },
  {
   "cell_type": "markdown",
   "id": "6d0bbd1d-1be5-4cad-bd6f-452eea76cedb",
   "metadata": {},
   "source": [
    "生成式(generator)是一种使用迭代方式产生Python数据的方式，可以产生列表，字典，集合等。这是结合循环与条件表达式精简程序代码的方法，如果会使用此概念设计程序，表示你的Python功力已跳出初学阶段，如果你有其他程序语言经验，表示你已经逐渐跳出其他程序语言的枷锁，逐步蜕变成真正的Python程序设计师。"
   ]
  },
  {
   "cell_type": "markdown",
   "id": "e553b57a-c615-4288-863c-40241246e185",
   "metadata": {},
   "source": [
    "```python\n",
    "新列表 = [表达式 for 项目 in 可迭代对象]\n",
    "```"
   ]
  },
  {
   "cell_type": "markdown",
   "id": "7ec34131-3747-47dd-9f2e-1d77ada05a11",
   "metadata": {},
   "source": [
    "## Test12"
   ]
  },
  {
   "cell_type": "code",
   "execution_count": 3,
   "id": "3f18963d-9369-41f9-b306-a7b1253dddbd",
   "metadata": {},
   "outputs": [
    {
     "name": "stdout",
     "output_type": "stream",
     "text": [
      "[1, 2, 3, 4, 5, 6, 7, 8, 9, 10]\n",
      "[1, 2, 3, 4, 5, 6, 7, 8, 9, 10]\n",
      "[1, 2, 3, 4, 5, 6, 7, 8, 9, 10]\n",
      "[1, 4, 9, 16, 25, 36, 49, 64, 81, 100]\n",
      "[50.0, 68.0, 86.0, 104.0, 122.0, 140.0, 158.0, 176.0, 194.0, 212.0]\n",
      "[50.0, 68.0, 86.0, 104.0, 122.0, 140.0, 158.0, 176.0, 194.0, 212.0]\n"
     ]
    }
   ],
   "source": [
    "# 需求 : 生成 1~10 整数存储到列表中\n",
    "list1 = []\n",
    "for i in range(1, 11):\n",
    "    list1.append(i)\n",
    "print(list1)\n",
    "\n",
    "# list() 类型转换\n",
    "list2 = list(range(1, 11))\n",
    "print(list2)\n",
    "\n",
    "# 生成器 generator 来实现\n",
    "list3 = [i for i in range(1, 11)]\n",
    "print(list3)\n",
    "\n",
    "# 需求 : 向列表中添加 1~10 的平方数\n",
    "list4 = [i**2 for i in range(1, 11)]\n",
    "print(list4)\n",
    "\n",
    "# 需求 : 将摄氏温度转换为华氏温度\n",
    "celsius = [10, 20, 30, 40, 50, 60, 70, 80, 90, 100]  # 摄氏温度\n",
    "fahrenheit = [c * 9 / 5 + 32 for c in celsius] \n",
    "print(fahrenheit)\n",
    "fahrenheit = [(c * 9 / 5 + 32) for c in celsius] # 加不加小括号都可以，加了小括号可读性会更好一些\n",
    "print(fahrenheit)"
   ]
  },
  {
   "cell_type": "markdown",
   "id": "4461b08d-4a00-4bda-a2d5-386f3076b97a",
   "metadata": {},
   "source": [
    "# 在数学的使用中可能会碰到下列数学定义"
   ]
  },
  {
   "cell_type": "markdown",
   "id": "b26e929d-af3e-4d2e-a87a-62071b991a39",
   "metadata": {},
   "source": [
    "```python\n",
    "A * B = {(a, b)} : a属于A元素，b属于B元素\n",
    "```"
   ]
  },
  {
   "cell_type": "markdown",
   "id": "59287819-bb8b-45e9-9653-e04097b3b3be",
   "metadata": {},
   "source": [
    "打印含列表元素的列表，这个概念称list unpacking（列表拆解）。这个程序会从每个列表中拉出color和shape的列表元素值。"
   ]
  },
  {
   "cell_type": "markdown",
   "id": "9925cf2b-93c2-4d43-beb9-1f3cdfab4f8f",
   "metadata": {},
   "source": [
    "## Test13"
   ]
  },
  {
   "cell_type": "code",
   "execution_count": 4,
   "id": "e229e1f8-e107-4bf0-8e4f-6a46e746ad24",
   "metadata": {},
   "outputs": [
    {
     "name": "stdout",
     "output_type": "stream",
     "text": [
      "[['red', 'circle'], ['red', 'square'], ['red', 'diamond'], ['red', 'triangle'], ['green', 'circle'], ['green', 'square'], ['green', 'diamond'], ['green', 'triangle'], ['blue', 'circle'], ['blue', 'square'], ['blue', 'diamond'], ['blue', 'triangle']]\n",
      "color = 'red', shape = 'circle'\n",
      "color = 'red', shape = 'square'\n",
      "color = 'red', shape = 'diamond'\n",
      "color = 'red', shape = 'triangle'\n",
      "color = 'green', shape = 'circle'\n",
      "color = 'green', shape = 'square'\n",
      "color = 'green', shape = 'diamond'\n",
      "color = 'green', shape = 'triangle'\n",
      "color = 'blue', shape = 'circle'\n",
      "color = 'blue', shape = 'square'\n",
      "color = 'blue', shape = 'diamond'\n",
      "color = 'blue', shape = 'triangle'\n"
     ]
    }
   ],
   "source": [
    "colors = ['red', 'green', 'blue']\n",
    "shapes = ['circle', 'square', 'diamond', 'triangle']\n",
    "\n",
    "result = [[color, shape] for color in colors for shape in shapes] # 一个生成器中包含2个变量\n",
    "print(result)\n",
    "\n",
    "# 打印输出列表元素的列表\n",
    "# for i in result: # 不太美观\n",
    "for color, shape in result:\n",
    "    print(f'{color = }, {shape = }')"
   ]
  },
  {
   "cell_type": "markdown",
   "id": "bbf8e5d8-852f-4805-bd8a-499b58dfc1cb",
   "metadata": {},
   "source": [
    "# 含有条件式的列表生成"
   ]
  },
  {
   "cell_type": "markdown",
   "id": "d333a075-93f7-4663-8b43-24608aed2933",
   "metadata": {},
   "source": [
    "```python\n",
    "新列表 = [表达式 for 项目 in 可迭代对象 if 条件式]\n",
    "```"
   ]
  },
  {
   "cell_type": "markdown",
   "id": "923402a4-48ee-4b3e-9440-6e8c07139804",
   "metadata": {},
   "source": [
    "## Test14"
   ]
  },
  {
   "cell_type": "code",
   "execution_count": 5,
   "id": "b93dab50-02ba-4590-b70f-7099570d0eb5",
   "metadata": {},
   "outputs": [
    {
     "name": "stdout",
     "output_type": "stream",
     "text": [
      "[7, 14, 21, 28, 35, 42, 49, 56, 63, 70, 77, 84, 91, 98]\n",
      "[[3, 4, 5], [5, 12, 13], [6, 8, 10], [8, 15, 17], [9, 12, 15]]\n"
     ]
    }
   ],
   "source": [
    "# 需求 : 添加 1~100 之间可以被 7 整除的数值\n",
    "# for i in range(1, 101):\n",
    "#     if i % 7 == 0:\n",
    "#         print(i)\n",
    "\n",
    "list1 = [i for i in range(1, 101) if i % 7 == 0]\n",
    "print(list1)\n",
    "\n",
    "# 需求 : 添加 20 之内的勾股数 (3, 4, 5), (5, 12, 13), (8, 15, 17)  # 勾股数：后一个数比前一个数大\n",
    "list2 = [[a, b, c] for a in range(1, 20) for b in range(a, 20) for c in range(b, 20) if a**2 + b**2 == c**2] # 第一个数可以从1开始，第2个数必须从a开始，判断是==不是=\n",
    "print(list2)"
   ]
  },
  {
   "cell_type": "markdown",
   "id": "c42de5ab-b413-489a-b234-5f2ff23a61ec",
   "metadata": {},
   "source": [
    "# 列出ASCII码值或Unicode码值的字符"
   ]
  },
  {
   "cell_type": "markdown",
   "id": "261a2c75-5da6-4405-9acc-511314d9cd9a",
   "metadata": {},
   "source": [
    "## Test15"
   ]
  },
  {
   "cell_type": "code",
   "execution_count": 6,
   "id": "8822390f-ba4e-4c9a-881e-e070816e3334",
   "metadata": {},
   "outputs": [
    {
     "name": "stdout",
     "output_type": "stream",
     "text": [
      "  ! \" # $ % & ' ( ) * + , - . / 0 1 2 3 4 5 6 7 8 9 : ; < = > ? @ A B C D E F G H I J K L M N O P Q R S T U V W X Y Z [ \\ ] ^ _ ` a b c d e f g h i j k l m n o p q r s t u v w x y z { | } ~  \n",
      "洪 洫 洬 洭 洮 洯 洰 洱 洲 洳 洴 洵 洶 洷 洸 洹 洺 活 洼 洽 派 洿 浀 流 浂 浃 浄 浅 浆 浇 浈 浉 浊 测 浌 浍 济 浏 浐 浑 浒 浓 浔 浕 浖 浗 浘 浙 浚 浛 浜 浝 浞 浟 浠 浡 浢 浣 浤 浥 浦 浧 浨 浩 浪 浫 浬 浭 浮 浯 浰 浱 浲 浳 浴 浵 浶 海 浸 浹 浺 浻 浼 浽 浾 浿 涀 涁 涂 涃 涄 涅 涆 涇 消 涉 涊 涋 涌 涍 涎 涏 涐 涑 涒 涓 涔 涕 涖 涗 涘 涙 涚 涛 涜 涝 涞 涟 涠 涡 涢 涣 涤 涥 润 涧 涨 涩 涪 涫 涬 涭 涮 涯 涰 涱 液 涳 涴 涵 涶 涷 涸 涹 涺 涻 涼 涽 涾 涿 淀 淁 淂 淃 淄 淅 淆 淇 淈 淉 淊 淋 淌 淍 淎 淏 淐 淑 淒 淓 淔 淕 淖 淗 淘 淙 淚 淛 淜 淝 淞 淟 淠 淡 淢 淣 淤 淥 淦 淧 淨 淩 淪 淫 淬 淭 淮 淯 淰 深 淲 淳 淴 淵 淶 混 淸 淹 淺 添 淼 淽 淾 淿 渀 渁 渂 渃 渄 清 渆 渇 済 渉 渊 渋 渌 渍 渎 渏 渐 渑 渒 渓 渔 渕 渖 渗 渘 渙 渚 減 渜 渝 渞 渟 渠 渡 渢 渣 渤 渥 渦 渧 渨 温 "
     ]
    }
   ],
   "source": [
    "# for i in range(0, 128):  # 前面的32个无法正常显示\n",
    "for i in range(32, 128): \n",
    "    # chr(i) 将对应的数值转换为 ASCII/Unicode 码对应的字符\n",
    "    print(chr(i), end=' ')\n",
    "\n",
    "print()\n",
    "\n",
    "for i in range(0x6d2a, 0x6e2a):  # 0x开头16进制的数值\n",
    "    print(chr(i), end=' ')"
   ]
  },
  {
   "cell_type": "markdown",
   "id": "b56ca7f1-0173-41c5-aa0e-8a9a40b9bdc6",
   "metadata": {},
   "source": [
    "# 嵌套for循环"
   ]
  },
  {
   "cell_type": "markdown",
   "id": "0559eb8f-7750-41ed-96a1-549e4fe869a3",
   "metadata": {},
   "source": [
    "一个循环内有另一个循环，我们称之为嵌套循环，如果外层循环要执行n次，内层循环要执行m次，则整个循环执行的次数是n*m次，设计这类循环时要注意下列事项：  \n",
    "1. 外层循环的索引值变量与内层循环的索引值变量建议不要相同，以免混淆。\n",
    "2. 程序代码的锁紧一定要小心。"
   ]
  },
  {
   "cell_type": "markdown",
   "id": "0413f349-50b7-4237-a84a-4949b48584d0",
   "metadata": {},
   "source": [
    "```python\n",
    "for var1 in 可迭代对象:       # 外层for循环\n",
    "    ...\n",
    "    for var2 in 可迭代对象:   # 内层for循环\n",
    "        ...\n",
    "```"
   ]
  },
  {
   "cell_type": "markdown",
   "id": "7f95770c-5ba1-4405-9b4b-e86cd0c24040",
   "metadata": {},
   "source": [
    "## Test16"
   ]
  },
  {
   "cell_type": "code",
   "execution_count": 7,
   "id": "f9c7a8b1-e97a-4b48-9d28-e24cfe16bb51",
   "metadata": {},
   "outputs": [
    {
     "name": "stdout",
     "output_type": "stream",
     "text": [
      "count = 81\n"
     ]
    }
   ],
   "source": [
    "# 计数器\n",
    "count = 0\n",
    "\n",
    "# 外层循环 9 次\n",
    "for i in range(1, 10):\n",
    "    # 内层循环 9 次\n",
    "    for j in range(1, 10):\n",
    "        # 让计数器自增\n",
    "        # count++   # count++ 会报错，其它编程语言支持，但是python不支持++自增\n",
    "        count += 1     \n",
    "\n",
    "\n",
    "print(f'{count = }')"
   ]
  },
  {
   "cell_type": "markdown",
   "id": "365101f6-77e8-4472-9983-4e8ae05c9c01",
   "metadata": {},
   "source": [
    "## Test17"
   ]
  },
  {
   "cell_type": "code",
   "execution_count": 8,
   "id": "c3709a51-1513-464b-bb39-b2802407111f",
   "metadata": {},
   "outputs": [
    {
     "name": "stdout",
     "output_type": "stream",
     "text": [
      "(1, 1)\t\n",
      "(1, 2)\t(2, 2)\t\n",
      "(1, 3)\t(2, 3)\t(3, 3)\t\n",
      "(1, 4)\t(2, 4)\t(3, 4)\t(4, 4)\t\n",
      "(1, 5)\t(2, 5)\t(3, 5)\t(4, 5)\t(5, 5)\t\n",
      "(1, 6)\t(2, 6)\t(3, 6)\t(4, 6)\t(5, 6)\t(6, 6)\t\n",
      "(1, 7)\t(2, 7)\t(3, 7)\t(4, 7)\t(5, 7)\t(6, 7)\t(7, 7)\t\n",
      "(1, 8)\t(2, 8)\t(3, 8)\t(4, 8)\t(5, 8)\t(6, 8)\t(7, 8)\t(8, 8)\t\n",
      "(1, 9)\t(2, 9)\t(3, 9)\t(4, 9)\t(5, 9)\t(6, 9)\t(7, 9)\t(8, 9)\t(9, 9)\t\n",
      "----------------------------------------------------------------------------------------------------\n",
      "1*1=1\t\n",
      "1*2=2\t2*2=4\t\n",
      "1*3=3\t2*3=6\t3*3=9\t\n",
      "1*4=4\t2*4=8\t3*4=12\t4*4=16\t\n",
      "1*5=5\t2*5=10\t3*5=15\t4*5=20\t5*5=25\t\n",
      "1*6=6\t2*6=12\t3*6=18\t4*6=24\t5*6=30\t6*6=36\t\n",
      "1*7=7\t2*7=14\t3*7=21\t4*7=28\t5*7=35\t6*7=42\t7*7=49\t\n",
      "1*8=8\t2*8=16\t3*8=24\t4*8=32\t5*8=40\t6*8=48\t7*8=56\t8*8=64\t\n",
      "1*9=9\t2*9=18\t3*9=27\t4*9=36\t5*9=45\t6*9=54\t7*9=63\t8*9=72\t9*9=81\t\n"
     ]
    }
   ],
   "source": [
    "# 需求 : 输出九九乘法表\n",
    "\n",
    "# 循环嵌套 : 外层每循环一次, 内层就会循环 '所有次'\n",
    "\n",
    "# 外层循环控制的是行 (每行中变量一致的是外层循环的变量)\n",
    "for i in range(1, 10):  # 外层循环控制的是行\n",
    "    # 内层循环每次执行都会从头到尾实现一遍\n",
    "    for j in range(1, i+1):    # 内层循环控制的是列\n",
    "        print(f'{j, i}', end='\\t')\n",
    "    print()\n",
    "\n",
    "print('-' * 100)\n",
    "\n",
    "for i in range(1, 10):\n",
    "    for j in range(1, i+1):\n",
    "        print(f'{j}*{i}={j*i}', end='\\t')\n",
    "    print()"
   ]
  },
  {
   "cell_type": "markdown",
   "id": "7d508a31-aa8e-4eca-947d-9ef718c314e6",
   "metadata": {},
   "source": [
    "# 强制离开for循环-break指令"
   ]
  },
  {
   "cell_type": "markdown",
   "id": "b12d6592-03a9-443c-93df-fd4368e3fb70",
   "metadata": {},
   "source": [
    "在设计for循环时，如果期待某些条件发生时可以离开循环，可以在循环内执行break指令，即可立即离开循环，这个指令通常和if语句配合使用。"
   ]
  },
  {
   "cell_type": "markdown",
   "id": "188e1ffd-9d22-423c-aaf5-57a6b00ceea4",
   "metadata": {},
   "source": [
    "![](img/break.jpg)\n",
    "（有元素尚未执行 if条件表达式  离开for循环）"
   ]
  },
  {
   "cell_type": "markdown",
   "id": "ec38653a-52e3-4b62-99e7-bf2bf36d00a7",
   "metadata": {},
   "source": [
    "## Test18"
   ]
  },
  {
   "cell_type": "code",
   "execution_count": 9,
   "id": "6c20adfb-7f7e-44f0-8830-e35850092487",
   "metadata": {},
   "outputs": [
    {
     "name": "stdout",
     "output_type": "stream",
     "text": [
      "1\n",
      "2\n",
      "3\n",
      "4\n",
      "5\n"
     ]
    }
   ],
   "source": [
    "numbers = [1, 2, 3, 4, 5, 6, 7, 8, 9, 10]\n",
    "\n",
    "for number in numbers:\n",
    "    print(number)\n",
    "    # 需求 : 当 number == 5 时, 跳出循环, 不再执行后续循环了\n",
    "    if number == 5:\n",
    "        break"
   ]
  },
  {
   "cell_type": "markdown",
   "id": "7d1189cf-5a79-4e9f-a0c6-6e554a657300",
   "metadata": {},
   "source": [
    "## Test19"
   ]
  },
  {
   "cell_type": "code",
   "execution_count": 10,
   "id": "895eaa07-9092-46be-854a-c3115090e369",
   "metadata": {},
   "outputs": [
    {
     "name": "stdout",
     "output_type": "stream",
     "text": [
      "99\n",
      "98\n",
      "95\n"
     ]
    }
   ],
   "source": [
    "scores = [95, 64, 36, 78, 59, 55, 88, 99, 98]\n",
    "\n",
    "# 需求 : 输出前 3 名的成绩, 要求从大到小\n",
    "scores.sort(reverse=True)       # 从大到小的排序\n",
    "len_ = len(scores)              # 获取列表的长度\n",
    "# 遍历\n",
    "for i in range(len_):\n",
    "    # 判断, 并跳出循环\n",
    "    if i == 3:\n",
    "        break\n",
    "\n",
    "    print(scores[i])"
   ]
  },
  {
   "cell_type": "markdown",
   "id": "ee3ee4d3-c09b-4b72-a838-809b05744ce2",
   "metadata": {},
   "source": [
    "# for循环暂时停止不往下执行-continue指令"
   ]
  },
  {
   "cell_type": "markdown",
   "id": "4b51a4a4-f600-4e9e-8b10-e592e2257ad6",
   "metadata": {},
   "source": [
    "在设计for循环是，如果期待某些条件发生时可以不往下执行循环内容，此时可以用continue指令，这个指令通常是和if语句配合使用。"
   ]
  },
  {
   "cell_type": "markdown",
   "id": "0077f056-747d-4928-8516-f0d6552dd68f",
   "metadata": {},
   "source": [
    "![](img/continue.jpg)"
   ]
  },
  {
   "cell_type": "markdown",
   "id": "25f81b63-b2b8-4982-9017-65a40f96f194",
   "metadata": {},
   "source": [
    "## Test20"
   ]
  },
  {
   "cell_type": "code",
   "execution_count": 11,
   "id": "9f470106-c406-4a74-a98f-c5d5ed21544f",
   "metadata": {},
   "outputs": [
    {
     "name": "stdout",
     "output_type": "stream",
     "text": [
      "1\n",
      "2\n",
      "3\n",
      "4\n",
      "6\n",
      "7\n",
      "8\n",
      "9\n",
      "10\n"
     ]
    }
   ],
   "source": [
    "\n",
    "numbers = [1, 2, 3, 4, 5, 6, 7, 8, 9, 10]\n",
    "\n",
    "for number in numbers:\n",
    "    # 判断\n",
    "    if number == 5:\n",
    "        # 暂时结束本次循环, 继续下一次的循环\n",
    "        continue\n",
    "    print(number)"
   ]
  },
  {
   "cell_type": "markdown",
   "id": "49f3b0cd-b907-4b74-a01a-ef106f65004b",
   "metadata": {},
   "source": [
    "## Test21"
   ]
  },
  {
   "cell_type": "code",
   "execution_count": 12,
   "id": "0a1c3a99-12d6-40e4-b478-e398b005098d",
   "metadata": {},
   "outputs": [
    {
     "name": "stdout",
     "output_type": "stream",
     "text": [
      "36\n",
      "59\n",
      "55\n"
     ]
    }
   ],
   "source": [
    "scores = [95, 64, 36, 78, 59, 55, 88, 99, 98]\n",
    "\n",
    "# 输出所有不及格的成绩\n",
    "for score in scores:\n",
    "    if score >= 60:\n",
    "        continue\n",
    "    print(score)"
   ]
  },
  {
   "cell_type": "markdown",
   "id": "01c5eb20-ea80-4ea9-bbb2-f949e4390205",
   "metadata": {},
   "source": [
    "# for...else循环"
   ]
  },
  {
   "cell_type": "markdown",
   "id": "cab8aa93-0d89-4882-8d46-61e7ccc90592",
   "metadata": {},
   "source": [
    "这是Python语言独有的语法。  \n",
    "在设计for循环时，如果期待所有的if语句条件式False时，在最后一次循环后，可以执行特定程序区块指令，可以使用这个语句，这个指令通常是和if，break语句配合使用。  \n",
    "\n",
    "这个语法很适合测试某一个数字n是否是质数(Prime Number)，质数的条件是：  \n",
    "* 2是质数\n",
    "* n不可被 2~n-1 的数字整除"
   ]
  },
  {
   "cell_type": "markdown",
   "id": "36b5b3dc-ed9c-4829-a98a-19be23375387",
   "metadata": {},
   "source": [
    "## Test22"
   ]
  },
  {
   "cell_type": "code",
   "execution_count": 13,
   "id": "5bc4e220-23ba-418f-b873-324eaa618603",
   "metadata": {},
   "outputs": [
    {
     "name": "stdin",
     "output_type": "stream",
     "text": [
      "请输入一个大于2的整数进行质数判断:  133\n"
     ]
    },
    {
     "name": "stdout",
     "output_type": "stream",
     "text": [
      "133不是质数.\n"
     ]
    }
   ],
   "source": [
    "# 需求 : 测试某个大于2的整数是否为质数\n",
    "\n",
    "num = int(input('请输入一个大于2的整数进行质数判断: '))\n",
    "\n",
    "if num == 2:\n",
    "    print('2是质数')\n",
    "else:\n",
    "    # 判断 num 是否可以被 2~num-1的数字整除\n",
    "    for i in range(2, num):\n",
    "        if num % i == 0:\n",
    "            # 可以被整除\n",
    "            print(f'{num}不是质数.')\n",
    "            break       # 跳出循环\n",
    "    else:\n",
    "        # 当循环正常结束的时候会进入到 else 语句；如果这个循环是通过 break 语句跳出的, 则不会进入到 else 语句\n",
    "        print(f'{num}是质数.')"
   ]
  },
  {
   "cell_type": "markdown",
   "id": "360c8257-0e8d-4a3a-85e1-3c06af16f147",
   "metadata": {},
   "source": [
    "# while循环"
   ]
  },
  {
   "cell_type": "markdown",
   "id": "26668014-8e48-4b8e-a462-a147b5d58b6e",
   "metadata": {},
   "source": [
    "这也是一个循环，基本上循环会一直执行，直到条件运算为False才会离开循环，所以设计while循环时一定要设计一个条件可以离开循环，相当于让循环结束。  \n",
    "\n",
    "程序设计时，如果忘了设计可以离开循环的条件，程序会造成无限循环状。\n",
    "\n",
    "一般while循环使用的是条件控制循环，在符合特定条件下执行，for循环则是一种计数循环，会重复执行特定次数。"
   ]
  },
  {
   "cell_type": "markdown",
   "id": "4090d65b-75a0-4f9d-a60e-c1e2c67a83c0",
   "metadata": {},
   "source": [
    "![](img/while.jpg)"
   ]
  },
  {
   "cell_type": "markdown",
   "id": "4638a7bb-55fb-4327-9e81-dac8136149f1",
   "metadata": {},
   "source": [
    "## Test23"
   ]
  },
  {
   "cell_type": "code",
   "execution_count": 14,
   "id": "09151f08-94f1-4763-87fc-63623b188204",
   "metadata": {},
   "outputs": [
    {
     "name": "stdout",
     "output_type": "stream",
     "text": [
      "人机对话专栏,告诉我你的心事,我会重复告诉你告诉我的心事.\n",
      "输入 q 可以结束对话.\n"
     ]
    },
    {
     "name": "stdin",
     "output_type": "stream",
     "text": [
      " hello\n"
     ]
    },
    {
     "name": "stdout",
     "output_type": "stream",
     "text": [
      "hello\n"
     ]
    },
    {
     "name": "stdin",
     "output_type": "stream",
     "text": [
      " hello\n"
     ]
    },
    {
     "name": "stdout",
     "output_type": "stream",
     "text": [
      "hello\n"
     ]
    },
    {
     "name": "stdin",
     "output_type": "stream",
     "text": [
      " q\n"
     ]
    }
   ],
   "source": [
    "print(\"人机对话专栏,告诉我你的心事,我会重复告诉你告诉我的心事.\")\n",
    "print('输入 q 可以结束对话.')\n",
    "\n",
    "dialog = ''\n",
    "\n",
    "# 用户输入 q 或 Q 都能够退出循环\n",
    "while dialog.lower() != 'q':\n",
    "    dialog = input()        # input() 如果括号内没有任何数据, 意味着等待用户输入, 但没有提示\n",
    "    # 判断\n",
    "    if dialog.lower() != 'q':  # 否则输入q也会输出q\n",
    "        print(dialog)"
   ]
  },
  {
   "cell_type": "markdown",
   "id": "3efc3115-f46a-430f-8a90-ead452b6c987",
   "metadata": {},
   "source": [
    "# 认识哨兵值"
   ]
  },
  {
   "cell_type": "markdown",
   "id": "b2d7554d-8c65-478a-bcbf-33768673f9ac",
   "metadata": {},
   "source": [
    "在程序设计时，我们可以在while循环中设定一个输入数值当做循环执行结束的值，这个值称哨兵值（sentinel value）。"
   ]
  },
  {
   "cell_type": "markdown",
   "id": "89ed1982-73a6-4e25-91e4-b67d89135453",
   "metadata": {},
   "source": [
    "## Test24"
   ]
  },
  {
   "cell_type": "code",
   "execution_count": 15,
   "id": "c7cf5cba-6107-4af5-951f-3d3cc67bfe9d",
   "metadata": {},
   "outputs": [
    {
     "name": "stdout",
     "output_type": "stream",
     "text": [
      "人机对话专栏,告诉我你的心事,我会重复告诉你告诉我的心事.\n",
      "输入 q 可以结束对话.\n"
     ]
    },
    {
     "name": "stdin",
     "output_type": "stream",
     "text": [
      " hello\n"
     ]
    },
    {
     "name": "stdout",
     "output_type": "stream",
     "text": [
      "hello\n"
     ]
    },
    {
     "name": "stdin",
     "output_type": "stream",
     "text": [
      " q\n"
     ]
    }
   ],
   "source": [
    "print(\"人机对话专栏,告诉我你的心事,我会重复告诉你告诉我的心事.\")\n",
    "print('输入 q 可以结束对话.')\n",
    "\n",
    "# 定义一个哨兵值, 用于控制 while 循环的条件\n",
    "active = True     # 活动状态\n",
    "\n",
    "# 用户输入 q 或 Q 都能够退出循环\n",
    "while active:\n",
    "    dialog = input()        # input() 如果括号内没有任何数据, 意味着等待用户输入, 但没有提示\n",
    "    # 判断\n",
    "    if dialog.lower() != 'q':\n",
    "        print(dialog)\n",
    "    else:\n",
    "        # 修改哨兵值\n",
    "        active = False"
   ]
  },
  {
   "cell_type": "markdown",
   "id": "78a44353-0960-4bbe-8426-ad0252fe6e08",
   "metadata": {},
   "source": [
    "## Test25"
   ]
  },
  {
   "cell_type": "code",
   "execution_count": 17,
   "id": "a14822ed-748e-42cd-98ac-b1ab6f8d20d1",
   "metadata": {},
   "outputs": [
    {
     "name": "stdout",
     "output_type": "stream",
     "text": [
      "整型数值累加器\n"
     ]
    },
    {
     "name": "stdin",
     "output_type": "stream",
     "text": [
      "请输入一个整型数值用于累加计算(0表示结束):  1\n",
      "请再次输入:  2\n",
      "请再次输入:  3\n",
      "请再次输入:  0\n"
     ]
    },
    {
     "name": "stdout",
     "output_type": "stream",
     "text": [
      "sum_ = 6\n"
     ]
    }
   ],
   "source": [
    "print(\"整型数值累加器\")\n",
    "\n",
    "# 说明 : 使用 n 作为 while 循环的哨兵值\n",
    "n = int(input('请输入一个整型数值用于累加计算(0表示结束): '))\n",
    "\n",
    "# 循环\n",
    "sum_ = 0\n",
    "while n:    # 非0即真\n",
    "    sum_ += n\n",
    "    # 提示用户再次输入\n",
    "    n = int(input('请再次输入: '))\n",
    "\n",
    "# 循环结束后, 输出累加结果\n",
    "print(f'{sum_ = }')"
   ]
  },
  {
   "cell_type": "markdown",
   "id": "c28c9a2d-f59b-4449-bab3-8edb1ba85217",
   "metadata": {},
   "source": [
    "* 练习：预测学费"
   ]
  },
  {
   "cell_type": "markdown",
   "id": "0d63c5df-dc30-4f1e-bbcc-5d529dcf9555",
   "metadata": {},
   "source": [
    "## Test26-预测学费"
   ]
  },
  {
   "cell_type": "code",
   "execution_count": 18,
   "id": "51bae2c0-8d48-4932-8f5d-f0b168de5322",
   "metadata": {},
   "outputs": [
    {
     "name": "stdout",
     "output_type": "stream",
     "text": [
      "经过4年后学费达到了60775.3125元.\n"
     ]
    }
   ],
   "source": [
    "# 今年的学费\n",
    "tuition = 50_000\n",
    "\n",
    "# 预测学费第几年会增长到 6 万\n",
    "year = 0\n",
    "rate = 0.05\n",
    "\n",
    "while tuition < 60_000:\n",
    "    tuition *= (1 + rate)\n",
    "    year += 1\n",
    "\n",
    "print(f'经过{year}年后学费达到了{tuition}元.')"
   ]
  },
  {
   "cell_type": "markdown",
   "id": "54d2dfc3-a24f-47d2-8adb-b59719713487",
   "metadata": {},
   "source": [
    "# 嵌套while循环"
   ]
  },
  {
   "cell_type": "markdown",
   "id": "3a649ee2-6fc6-41a6-960a-fa09756bb02f",
   "metadata": {},
   "source": [
    "```python\n",
    "while 条件运算:        # 外层while循环\n",
    "    ...\n",
    "    while 条件运算:    # 内层while循环\n",
    "        ...\n",
    "```"
   ]
  },
  {
   "cell_type": "markdown",
   "id": "77898a14-5543-48cf-a3de-32f69568ae23",
   "metadata": {},
   "source": [
    "## Test27"
   ]
  },
  {
   "cell_type": "code",
   "execution_count": 19,
   "id": "d76b62aa-1b62-4936-8962-58c4bd0f0dd7",
   "metadata": {},
   "outputs": [
    {
     "name": "stdout",
     "output_type": "stream",
     "text": [
      "1*1=1\t\n",
      "1*2=2\t2*2=4\t\n",
      "1*3=3\t2*3=6\t3*3=9\t\n",
      "1*4=4\t2*4=8\t3*4=12\t4*4=16\t\n",
      "1*5=5\t2*5=10\t3*5=15\t4*5=20\t5*5=25\t\n",
      "1*6=6\t2*6=12\t3*6=18\t4*6=24\t5*6=30\t6*6=36\t\n",
      "1*7=7\t2*7=14\t3*7=21\t4*7=28\t5*7=35\t6*7=42\t7*7=49\t\n",
      "1*8=8\t2*8=16\t3*8=24\t4*8=32\t5*8=40\t6*8=48\t7*8=56\t8*8=64\t\n",
      "1*9=9\t2*9=18\t3*9=27\t4*9=36\t5*9=45\t6*9=54\t7*9=63\t8*9=72\t9*9=81\t\n"
     ]
    }
   ],
   "source": [
    "# 九九乘法口诀表\n",
    "\n",
    "# 外层循环 (行)\n",
    "i = 1\n",
    "while i <= 9:\n",
    "    # 内层循环 (列)\n",
    "    j = 1\n",
    "    while j <= i:       # 注意内层循环的条件\n",
    "        print(f'{j}*{i}={j*i}', end='\\t')\n",
    "        # 内层循环的控制变量\n",
    "        j += 1\n",
    "    # 外层循环的控制变量\n",
    "    i += 1\n",
    "    # 换行\n",
    "    print()"
   ]
  },
  {
   "cell_type": "markdown",
   "id": "97aec8d0-7472-4ed2-84f3-01069df483ea",
   "metadata": {},
   "source": [
    "# 强制离开while循环-break指令"
   ]
  },
  {
   "cell_type": "markdown",
   "id": "d7f71470-9901-48fb-abe8-76d11cfb5364",
   "metadata": {},
   "source": [
    "## Test28"
   ]
  },
  {
   "cell_type": "code",
   "execution_count": 1,
   "id": "d06ad42f-9125-47d2-8af7-7693b4b96692",
   "metadata": {},
   "outputs": [
    {
     "name": "stdout",
     "output_type": "stream",
     "text": [
      "欢迎来到xx游戏,q表示退出,任意键继续.\n"
     ]
    },
    {
     "name": "stdin",
     "output_type": "stream",
     "text": [
      "请出您的招数... 1\n"
     ]
    },
    {
     "name": "stdout",
     "output_type": "stream",
     "text": [
      "你又输了, 还继续玩吗? \n"
     ]
    },
    {
     "name": "stdin",
     "output_type": "stream",
     "text": [
      "请出您的招数... 2\n"
     ]
    },
    {
     "name": "stdout",
     "output_type": "stream",
     "text": [
      "你又输了, 还继续玩吗? \n"
     ]
    },
    {
     "name": "stdin",
     "output_type": "stream",
     "text": [
      "请出您的招数... q\n"
     ]
    }
   ],
   "source": [
    "print('欢迎来到xx游戏,q表示退出,任意键继续.')\n",
    "\n",
    "while True:\n",
    "    user = input('请出您的招数...')\n",
    "    if user.lower() == 'q':\n",
    "        # 跳出循环\n",
    "        break\n",
    "    else:\n",
    "        print('你又输了, 还继续玩吗? ')"
   ]
  },
  {
   "cell_type": "markdown",
   "id": "2e43e7a4-0549-4d29-92b4-543a11ed72d1",
   "metadata": {},
   "source": [
    "# while循环暂时停止不往下执行-continue指令"
   ]
  },
  {
   "cell_type": "markdown",
   "id": "b0ec8156-104e-4a82-bcd2-84830f2f3848",
   "metadata": {},
   "source": [
    "## Test29"
   ]
  },
  {
   "cell_type": "code",
   "execution_count": 2,
   "id": "ef8abe1a-73eb-4d28-9f1d-45a766177fdd",
   "metadata": {},
   "outputs": [
    {
     "name": "stdout",
     "output_type": "stream",
     "text": [
      "2\n",
      "4\n",
      "6\n",
      "8\n",
      "10\n"
     ]
    }
   ],
   "source": [
    "# 需求 : 输出列表中所有的偶数\n",
    "numbers = list(range(1,11))     # 也可以使用列表生成器： [i for i in range(1,11)]\n",
    "\n",
    "index = -1      # 自定义下标值, 默认值为 -1\n",
    "while True:\n",
    "    # 下增自增 1\n",
    "    index += 1\n",
    "    # 判断下标是否越界\n",
    "    if index == len(numbers): # 长度为10，下标最多为9，等于说明即将鸦片越界\n",
    "        break\n",
    "    # 取值\n",
    "    number = numbers[index]\n",
    "    # 判断\n",
    "    if number % 2: # 偶数时number % 2==0，进不来，奇数==1可以进来\n",
    "        # 条件成立, 说明 number 是奇数\n",
    "        continue  # 回到开头下标自增\n",
    "    # 条件不成立时, 需要输出\n",
    "    print(number)"
   ]
  },
  {
   "cell_type": "markdown",
   "id": "ed5aea9c-a1e4-4bdf-8a8a-5b9ba0a12bd2",
   "metadata": {},
   "source": [
    "# while循环条件表达式与可迭代对象"
   ]
  },
  {
   "cell_type": "markdown",
   "id": "1a27a631-4b0c-4a2e-a723-3db838474ef9",
   "metadata": {},
   "source": [
    "## Test30"
   ]
  },
  {
   "cell_type": "code",
   "execution_count": 3,
   "id": "dc8d8c3e-81ff-4fe1-bc60-7c9929f994c8",
   "metadata": {},
   "outputs": [
    {
     "name": "stdout",
     "output_type": "stream",
     "text": [
      "['red', 'green', 'blue', 'yellow', 'cyan', 'white']\n"
     ]
    }
   ],
   "source": [
    "# 需求 : 删除列表中所有指定元素\n",
    "colors = ['red', 'green', 'black', 'blue', 'yellow', 'black', 'cyan', 'white', 'black']\n",
    "color = 'black'\n",
    "\n",
    "# while 循环与列表集合使用\n",
    "while color in colors:  # 回顾一下之前那经历的列表元素删除自动前移的问题\n",
    "    # 操作\n",
    "    colors.remove(color)\n",
    "\n",
    "print(colors)"
   ]
  },
  {
   "cell_type": "markdown",
   "id": "2789d682-daf5-445b-8773-4e713778e6d0",
   "metadata": {},
   "source": [
    "## Test31"
   ]
  },
  {
   "cell_type": "code",
   "execution_count": 4,
   "id": "299b68a7-90a7-41a2-a95b-237805873bac",
   "metadata": {},
   "outputs": [
    {
     "name": "stdout",
     "output_type": "stream",
     "text": [
      "['田七', 2110]\n",
      "['赵六', 990]\n",
      "['王五', 2050]\n",
      "['李四', 893]\n",
      "['张三', 1030]\n",
      "gold_buyer = [['赵六', 990], ['李四', 893]]\n",
      "vip_buyer = [['田七', 2110], ['王五', 2050], ['张三', 1030]]\n"
     ]
    }
   ],
   "source": [
    "# 列表里面的列表叫列表嵌套\n",
    "buyers = [['张三', 1030], # 花了多少钱\n",
    "          ['李四', 893],\n",
    "          ['王五', 2050],\n",
    "          ['赵六', 990],\n",
    "          ['田七', 2110]]\n",
    "\n",
    "# 定义列表\n",
    "gold_buyer = []\n",
    "vip_buyer = []\n",
    "\n",
    "# 条件 : 列表\n",
    "while buyers:\n",
    "    index_buyer = buyers.pop()        # pop：弹出, 默认从尾部弹出元素；栈结构，先进后出\n",
    "    print(index_buyer)   # 弹出顺序和写入顺序相反\n",
    "    if index_buyer[1] >= 1000:\n",
    "        # vip 买家\n",
    "        vip_buyer.append(index_buyer)\n",
    "    else:\n",
    "        # gold 买家\n",
    "        gold_buyer.append(index_buyer)\n",
    "\n",
    "# 查看\n",
    "print(f'{gold_buyer = }')\n",
    "print(f'{vip_buyer = }')"
   ]
  },
  {
   "cell_type": "markdown",
   "id": "922b27e8-9efa-42d0-8328-1258c6ef3210",
   "metadata": {},
   "source": [
    "# 无限循环与pass"
   ]
  },
  {
   "cell_type": "markdown",
   "id": "816914a5-1013-48b2-9db3-fd1a7e42a532",
   "metadata": {},
   "source": [
    "pass指令是什么事都不做，如果我们想要建立一个无限循环可以将条件设为True或1。  \n",
    "\n",
    "不过不建议这么做，这会让程序进入无限循环，这个指令有时候会用在设计一个循环或函数尚未完成时，先放pass，未来再用完整程序代码取代。"
   ]
  },
  {
   "cell_type": "markdown",
   "id": "11defee5-c686-4252-923b-30d77d0e7f13",
   "metadata": {},
   "source": [
    "## Test32"
   ]
  },
  {
   "cell_type": "code",
   "execution_count": 5,
   "id": "528894f6-de2f-41e9-a462-d1a99dd76172",
   "metadata": {},
   "outputs": [
    {
     "name": "stdout",
     "output_type": "stream",
     "text": [
      "后续代码操作...\n"
     ]
    }
   ],
   "source": [
    "# 1. 死循环 (无限循环)\n",
    "# while True:\n",
    "#     pass\n",
    "#\n",
    "# while 1:\n",
    "#     pass\n",
    "\n",
    "# 2. pass 语句\n",
    "schools = ['清华', '北大', '交大', '浙大', '人大']\n",
    "for school in schools:\n",
    "    # 处理逻辑, 此刻还未确定如何处理, 怎么办?\n",
    "    pass\n",
    "\n",
    "# 后续代码要先编写\n",
    "print('后续代码操作...')"
   ]
  },
  {
   "cell_type": "markdown",
   "id": "469d391f-1471-463e-a10b-fbd6471a2df9",
   "metadata": {},
   "source": [
    "# 使用for循环解析enumerate对象"
   ]
  },
  {
   "cell_type": "markdown",
   "id": "762afbe4-0316-48e0-9ba3-964fc3dc264e",
   "metadata": {},
   "source": [
    "enumerate对象由索引值与元素值配对出现。"
   ]
  },
  {
   "cell_type": "markdown",
   "id": "2671d275-5f0a-49fe-a77e-18586e9048aa",
   "metadata": {},
   "source": [
    "![](img/enum.jpg)"
   ]
  },
  {
   "cell_type": "markdown",
   "id": "1681cfe3-809c-4d83-9dd9-f530ac8cc911",
   "metadata": {},
   "source": [
    "## Test33"
   ]
  },
  {
   "cell_type": "code",
   "execution_count": 6,
   "id": "0c6e12c1-617d-47f0-a61f-13a3389d6412",
   "metadata": {},
   "outputs": [
    {
     "name": "stdout",
     "output_type": "stream",
     "text": [
      "(0, 'water')\n",
      "(1, 'tea')\n",
      "(2, 'coffee')\n",
      "--------------------\n",
      "(1, 'water')\n",
      "(2, 'tea')\n",
      "(3, 'coffee')\n",
      "--------------------\n",
      "count = 1, drink = 'water'\n",
      "count = 2, drink = 'tea'\n",
      "count = 3, drink = 'coffee'\n"
     ]
    }
   ],
   "source": [
    "\n",
    "drinks = ['water', 'tea', 'coffee']\n",
    "for drink in enumerate(drinks):\n",
    "    print(drink)\n",
    "\n",
    "print('-' * 20)\n",
    "\n",
    "for drink in enumerate(drinks, start=1):\n",
    "    print(drink)\n",
    "\n",
    "print('-' * 20)\n",
    "\n",
    "for count, drink in enumerate(drinks, start=1):\n",
    "    print(f'{count = }, {drink = }')"
   ]
  },
  {
   "cell_type": "markdown",
   "id": "14a05ee0-6c97-4716-a85d-b8015f6b38d4",
   "metadata": {},
   "source": [
    "# 设计购物车系统"
   ]
  },
  {
   "cell_type": "markdown",
   "id": "67e6e6dc-99cd-4408-977c-05360b0351cc",
   "metadata": {},
   "source": [
    "设计程序执行时会列出所有商品，可以选择商品，如果所输入商品在商品列表，则加入购物车，如果输入Q或q,则购物结束，输出所购买商品。"
   ]
  },
  {
   "cell_type": "markdown",
   "id": "999df462-f1d6-4b5d-8ff3-4b32d086003c",
   "metadata": {},
   "source": [
    "## Test34"
   ]
  },
  {
   "cell_type": "code",
   "execution_count": 7,
   "id": "7a1316ce-1283-45b6-882d-5d63aa622268",
   "metadata": {},
   "outputs": [
    {
     "name": "stdout",
     "output_type": "stream",
     "text": [
      "欢迎来到购物中心\n",
      "商品: ['电视', '洗衣机', '电冰箱', '空调', '女朋友']\n"
     ]
    },
    {
     "name": "stdin",
     "output_type": "stream",
     "text": [
      "请输入您购买的商品(q退出):  电视\n",
      "请输入您购买的商品(q退出):  q\n"
     ]
    },
    {
     "name": "stdout",
     "output_type": "stream",
     "text": [
      "cart = ['电视']\n"
     ]
    }
   ],
   "source": [
    "print(\"欢迎来到购物中心\")\n",
    "products = ['电视', '洗衣机', '电冰箱', '空调', '女朋友']\n",
    "print(f'商品: {products}')\n",
    "\n",
    "# 定义一个购物车变量\n",
    "cart = []\n",
    "\n",
    "while True:\n",
    "    msg = input('请输入您购买的商品(q退出): ')\n",
    "    if msg.lower() == 'q':\n",
    "        break\n",
    "    else:\n",
    "        # 判断用户需要的商品是否在商品列表存在\n",
    "        if msg in products:\n",
    "            cart.append(msg)\n",
    "        else:\n",
    "            print('您选择的商品不存在.')\n",
    "\n",
    "# 循环结束后, 输出购物车的所有商品\n",
    "print(f'{cart = }')"
   ]
  },
  {
   "cell_type": "markdown",
   "id": "c5d9db4e-38c4-41f5-82eb-5eddf0820a29",
   "metadata": {},
   "source": [
    "# 建立真实的成绩系统"
   ]
  },
  {
   "cell_type": "markdown",
   "id": "27f494d2-446e-4883-b0f0-904d47267590",
   "metadata": {},
   "source": [
    "要处理成绩系统，关键是学会二维列表的排序，如果想针对二维列表内第n个元素值排序，使用方法如下："
   ]
  },
  {
   "cell_type": "markdown",
   "id": "a0a09858-aad5-40af-9df3-0aa47c7d8f8f",
   "metadata": {},
   "source": [
    "```python\n",
    "二维列表.sort(key=lambda x:x[n])\n",
    "```"
   ]
  },
  {
   "cell_type": "markdown",
   "id": "ea46b210-4583-4b00-b9b0-8f2bd17fce42",
   "metadata": {},
   "source": [
    "## Test35"
   ]
  },
  {
   "cell_type": "code",
   "execution_count": 8,
   "id": "0619c57c-baec-4c6f-b846-91026cc7604f",
   "metadata": {},
   "outputs": [
    {
     "name": "stdout",
     "output_type": "stream",
     "text": [
      "[1, '张三', 88, 77, 66, 231, 77.0, 0]\n",
      "[2, '李四', 89, 56, 99, 244, 81.33, 0]\n",
      "[3, '王五', 66, 79, 98, 243, 81.0, 0]\n",
      "[4, '赵六', 56, 98, 79, 233, 77.67, 0]\n",
      "[5, '田七', 66, 77, 88, 231, 77.0, 0]\n",
      "[1, '张三', 88, 77, 66, 231, 77.0, 4]\n",
      "[2, '李四', 89, 56, 99, 244, 81.33, 1]\n",
      "[3, '王五', 66, 79, 98, 243, 81.0, 2]\n",
      "[4, '赵六', 56, 98, 79, 233, 77.67, 3]\n",
      "[5, '田七', 66, 77, 88, 231, 77.0, 4]\n"
     ]
    }
   ],
   "source": [
    "# 真实的成绩系统\n",
    "# 定义一个二维列表数据\n",
    "scores = [[1, '张三', 88, 77, 66, 0, 0, 0],    # 0,0,0：总分，平均分，排名\n",
    "          [2, '李四', 89, 56, 99, 0, 0, 0],    # 2：学号\n",
    "          [3, '王五', 66, 79, 98, 0, 0, 0],\n",
    "          [4, '赵六', 56, 98, 79, 0, 0, 0],\n",
    "          # [5, '田七', 79, 80, 88, 0, 0, 0]]\n",
    "          [5, '田七', 66, 77, 88, 0, 0, 0]]   # 总分相同\n",
    "\n",
    "# 计算总分与平均分\n",
    "for i in range(len(scores)):\n",
    "    # 总分\n",
    "    scores[i][5] = sum(scores[i][2:5])\n",
    "    # 平均分\n",
    "    scores[i][6] = round(scores[i][5] / 3, 2)\n",
    "    print(scores[i])\n",
    "\n",
    "# 排序 (总分，从高到低)\n",
    "scores.sort(key=lambda x:x[5], reverse=True)  # 元素是x，x是一个列表，用x[5]作为排序规则，倒序排\n",
    "# print(scores)  # 等级还没写\n",
    "\n",
    "# 有问题，加入有两个的总分相同，排名就会出问题\n",
    "# for i in range(len(scores)):\n",
    "#     scores[i][7] = i+1\n",
    "#     # print(scores[i])\n",
    "\n",
    "# 名次\n",
    "ranking = 0     # 排名变量\n",
    "for i in range(len(scores)):\n",
    "    ranking += 1\n",
    "    # 判断\n",
    "    if i >= 1:\n",
    "        if scores[i][6] == scores[i - 1][6]:\n",
    "            ranking -= 1      # 总分相同，排名一样\n",
    "    # 设置排名\n",
    "    scores[i][7] = ranking\n",
    "    # print(scores[i])\n",
    "\n",
    "# 排序\n",
    "scores.sort(key=lambda x: x[0])\n",
    "\n",
    "# 查看的时候, 需要按照学号查看\n",
    "for i in range(len(scores)):\n",
    "    print(scores[i])"
   ]
  },
  {
   "cell_type": "markdown",
   "id": "7dde93a6-fcf1-4d93-b32b-2641153e1181",
   "metadata": {},
   "source": [
    "# 计算圆周率"
   ]
  },
  {
   "cell_type": "markdown",
   "id": "0d58ca69-7224-49d0-975b-adde4a06d1ae",
   "metadata": {},
   "source": [
    "计算圆周率时，可以使用莱布尼茨公式，我们将用循环处理这类问题。\n",
    "\n",
    "$$\n",
    "\\mathrm{pi}=4\\left(1-\\frac{1}{3}+\\frac{1}{5}-\\frac{1}{7}+\\cdots+\\frac{(-1)^{i+1}}{2 i-1}\\right)\n",
    "$$"
   ]
  },
  {
   "cell_type": "markdown",
   "id": "28b12b42-23d8-4e4d-ac4e-8a8ab12dca7b",
   "metadata": {},
   "source": [
    "## Test36"
   ]
  },
  {
   "cell_type": "code",
   "execution_count": 9,
   "id": "d7443761-fb38-4db9-a162-eade2e66d3d6",
   "metadata": {},
   "outputs": [
    {
     "name": "stdout",
     "output_type": "stream",
     "text": [
      "当i =  100000 时, 有 pi = 3.1415826535897197758\n",
      "当i =  200000 时, 有 pi = 3.1415876535897617750\n",
      "当i =  300000 时, 有 pi = 3.1415893202564642017\n",
      "当i =  400000 时, 有 pi = 3.1415901535897439167\n",
      "当i =  500000 时, 有 pi = 3.1415906535896920282\n",
      "当i =  600000 时, 有 pi = 3.1415909869230147500\n",
      "当i =  700000 时, 有 pi = 3.1415912250182609355\n",
      "当i =  800000 时, 有 pi = 3.1415914035897172241\n",
      "当i =  900000 时, 有 pi = 3.1415915424786509114\n",
      "当i =  1000000 时, 有 pi = 3.1415916535897743245\n"
     ]
    }
   ],
   "source": [
    "# 百万\n",
    "x = 1_000_000\n",
    "\n",
    "pi = 0\n",
    "\n",
    "for i in range(1, x+1):\n",
    "    # 莱布尼茨\n",
    "    pi += 4 * ((-1) ** (i + 1) / (2 * i - 1))\n",
    "    # 每隔 10万输出一次精确度\n",
    "    if i % 100_000 == 0:\n",
    "        print(f'当{i = : 7d} 时, 有 {pi = :20.19f}')"
   ]
  },
  {
   "cell_type": "markdown",
   "id": "885e8b8e-7cd0-47fe-ac5f-6a34b8cf3eba",
   "metadata": {},
   "source": [
    "# 鸡兔同笼-使用循环计算"
   ]
  },
  {
   "cell_type": "markdown",
   "id": "4c3465f1-571b-4219-b45a-5229ac05db1c",
   "metadata": {},
   "source": [
    "有若干只鸡兔同在一个笼子里，从上面数，有35个头，从下面数，有94只脚。 问笼中各有多少只鸡和兔？ \n",
    "\n",
    "我们可以先假设鸡（chicken）有0只，兔子（rabbit）有35只，然后计算脚的数量，如果所获得脚的数量不符合，可以每次增加1只鸡。"
   ]
  },
  {
   "cell_type": "markdown",
   "id": "a834a218-18f9-45b2-bc52-a79e45ee887b",
   "metadata": {},
   "source": [
    "## Test37"
   ]
  },
  {
   "cell_type": "code",
   "execution_count": 10,
   "id": "4d6fe29d-c3bc-4048-84f4-f8dea9a5bec2",
   "metadata": {},
   "outputs": [
    {
     "name": "stdout",
     "output_type": "stream",
     "text": [
      "鸡有20只, 兔子有15只.\n"
     ]
    }
   ],
   "source": [
    "# 鸡兔同笼  35个头   100只脚  chicken = ? rabbit = ?\n",
    "\n",
    "chicken = 0\n",
    "# 死循环\n",
    "while True:\n",
    "    rabbit = 35 - chicken\n",
    "    # 判断脚的数量是否符合条件\n",
    "    if 2 * chicken + 4 * rabbit == 100:\n",
    "        print(f'鸡有{chicken}只, 兔子有{rabbit}只.')\n",
    "        break       # 跳出死循环\n",
    "    # 自增鸡的数量\n",
    "    chicken += 1"
   ]
  },
  {
   "cell_type": "markdown",
   "id": "93b84ff1-9e06-48bb-9164-0d1b06c3d7be",
   "metadata": {},
   "source": [
    "# 国王的麦粒"
   ]
  },
  {
   "cell_type": "markdown",
   "id": "64e1fb99-1f07-4260-b790-3832737ae961",
   "metadata": {},
   "source": [
    "古印度有一个国王很爱下棋，他昭告天下只要能打贏他，即可以协助此人完成一个愿望。有一位大原提出挑战，结果国王的输了，国王也愿意信守承诺，满足此大臣的愿望，结果此大臣提出想要的麦粒。  \n",
    "\n",
    "第1个棋盘格子要1粒，其实相当于$2^0$；  \n",
    "第2个棋盘格子要2粒，其实相当于$2^1$；  \n",
    "第3个棋盘格子要4粒，其实相当于$2^2$；  \n",
    "第4个棋盘格子要8粒，其实相当于$2^3$；  \n",
    "第5个棋盘格子要16粒，其实相当于$2^4$；    \n",
    "……  \n",
    "第64个棋盘格子要 $2^{63}$ 粒。  \n",
    "\n",
    "国土听完哈哈大笑同意了，管粮的大臣一听大惊失色，不过也想出一个办法，要赢棋的大臣自行到粮仓计算麦粒和运送。结果国王没有失信天下，赢棋的大臣无法取走天文数字的所有麦粒。下列程序会计算到底这位大要取走多少麦粒。"
   ]
  },
  {
   "cell_type": "markdown",
   "id": "7f114006-8e7d-4a02-9a76-03e3a86f152f",
   "metadata": {},
   "source": [
    "## Test38"
   ]
  },
  {
   "cell_type": "code",
   "execution_count": 11,
   "id": "70855aec-00ec-43f0-9403-a57b4189830b",
   "metadata": {},
   "outputs": [
    {
     "name": "stdout",
     "output_type": "stream",
     "text": [
      "1\n",
      "2\n",
      "4\n",
      "8\n",
      "16\n",
      "32\n",
      "64\n",
      "128\n",
      "256\n",
      "512\n",
      "1024\n",
      "2048\n",
      "4096\n",
      "8192\n",
      "16384\n",
      "32768\n",
      "65536\n",
      "131072\n",
      "262144\n",
      "524288\n",
      "1048576\n",
      "2097152\n",
      "4194304\n",
      "8388608\n",
      "16777216\n",
      "33554432\n",
      "67108864\n",
      "134217728\n",
      "268435456\n",
      "536870912\n",
      "1073741824\n",
      "2147483648\n",
      "4294967296\n",
      "8589934592\n",
      "17179869184\n",
      "34359738368\n",
      "68719476736\n",
      "137438953472\n",
      "274877906944\n",
      "549755813888\n",
      "1099511627776\n",
      "2199023255552\n",
      "4398046511104\n",
      "8796093022208\n",
      "17592186044416\n",
      "35184372088832\n",
      "70368744177664\n",
      "140737488355328\n",
      "281474976710656\n",
      "562949953421312\n",
      "1125899906842624\n",
      "2251799813685248\n",
      "4503599627370496\n",
      "9007199254740992\n",
      "18014398509481984\n",
      "36028797018963968\n",
      "72057594037927936\n",
      "144115188075855872\n",
      "288230376151711744\n",
      "576460752303423488\n",
      "1152921504606846976\n",
      "2305843009213693952\n",
      "4611686018427387904\n",
      "9223372036854775808\n",
      "18446744073709551615\n"
     ]
    }
   ],
   "source": [
    "\n",
    "'''\n",
    "国际象棋一共有 64 格\n",
    "1\n",
    "2\n",
    "4\n",
    "8\n",
    "16\n",
    "32\n",
    "64\n",
    "128\n",
    "256\n",
    "512\n",
    "1024\n",
    "'''\n",
    "sum = 0\n",
    "wheat = 0\n",
    "for i in range(64):\n",
    "    # 累加 2 ** i 次方数值\n",
    "    wheat = 2 ** i\n",
    "    print(wheat)\n",
    "    sum += wheat\n",
    "\n",
    "# 最终的结果\n",
    "print(sum)"
   ]
  },
  {
   "cell_type": "code",
   "execution_count": null,
   "id": "9c08914b-bf3c-45ec-bb1f-a2ce58f90a3e",
   "metadata": {},
   "outputs": [],
   "source": []
  }
 ],
 "metadata": {
  "kernelspec": {
   "display_name": "Python [conda env:base] *",
   "language": "python",
   "name": "conda-base-py"
  },
  "language_info": {
   "codemirror_mode": {
    "name": "ipython",
    "version": 3
   },
   "file_extension": ".py",
   "mimetype": "text/x-python",
   "name": "python",
   "nbconvert_exporter": "python",
   "pygments_lexer": "ipython3",
   "version": "3.11.6"
  }
 },
 "nbformat": 4,
 "nbformat_minor": 5
}
