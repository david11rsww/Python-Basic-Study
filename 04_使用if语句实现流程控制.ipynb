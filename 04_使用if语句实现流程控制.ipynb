{
 "cells": [
  {
   "cell_type": "markdown",
   "id": "3c75dfad-af9b-46f4-aaf8-9fd55fe4debf",
   "metadata": {},
   "source": [
    "# if语句流程控制"
   ]
  },
  {
   "cell_type": "markdown",
   "id": "0e416fd9-b590-47b4-b7a3-fd2f7b7447ef",
   "metadata": {},
   "source": [
    "## 关系运算符"
   ]
  },
  {
   "cell_type": "markdown",
   "id": "f11e2153-11bd-43cb-b888-fd1dae98439a",
   "metadata": {},
   "source": [
    "运算如果是真，回传True，如果是假，回传False。\n",
    "\n",
    "|关系运算符|含义|实例|说明|\n",
    "|---|---|---|---|\n",
    "|>|大于|a>b|检查a是否大于b|\n",
    "|>=|大于等于|a>=b|检查a是否大于等于b|\n",
    "|<|小于|a<b|检查a是否小于b|\n",
    "|<=|小于等于|a<=b|检查a是否小于等于b|\n",
    "|==|等于|a==b|检查a是否等于b|\n",
    "|!=|不等于|a!=b|检查a是否不等于b|"
   ]
  },
  {
   "cell_type": "markdown",
   "id": "8926a842-a62b-4319-b6a3-2502c6470169",
   "metadata": {},
   "source": [
    "## 逻辑运算符\n",
    "\n",
    "and（与），or（或），not（非）\n",
    "\n",
    "在Python的逻辑运算中，0被视为False，其他值当做True（非0即真）。"
   ]
  },
  {
   "cell_type": "markdown",
   "id": "0cb978d3-85cd-433a-88c8-a597444eb587",
   "metadata": {},
   "source": [
    "||||\n",
    "|---|---|---|\n",
    "|**and**|True|False|\n",
    "|True|True|False|\n",
    "|False|False|False|"
   ]
  },
  {
   "cell_type": "markdown",
   "id": "8e429f90-c115-4bce-b749-d87a012288fa",
   "metadata": {},
   "source": [
    "||||\n",
    "|---|---|---|\n",
    "|**or**|True|False|\n",
    "|True|True|True|\n",
    "|False|True|False|"
   ]
  },
  {
   "cell_type": "markdown",
   "id": "f4f8549b-28c0-4c36-91c2-e0c9033d1a9a",
   "metadata": {},
   "source": [
    "## if语句"
   ]
  },
  {
   "cell_type": "markdown",
   "id": "76ea08c4-086c-4317-8d1b-4419962482dd",
   "metadata": {},
   "source": [
    "```python\n",
    "if (条件判断):  \n",
    "   程序代码区块\n",
    "```"
   ]
  },
  {
   "cell_type": "markdown",
   "id": "9feb251b-2d79-40e7-9d83-cfff0e580b0d",
   "metadata": {},
   "source": [
    "![](img/if.jpg)"
   ]
  },
  {
   "cell_type": "markdown",
   "id": "e3af1d22-1b0c-41c0-8733-a65f3acb12d4",
   "metadata": {},
   "source": [
    "1. 条件判断外的括号可有可无。\n",
    "2. 在Python内使用缩进方式区隔if语句的程序代码区块。编辑程序时可以用Tab键缩进或是直接缩进4个字符空间，表示这是if语句的程序代码区块。\n",
    "3. 在Python中缩进程序代码是有意义的，相同的程序代码区块，必须有相同的缩进，否则会产生错误。"
   ]
  },
  {
   "cell_type": "markdown",
   "id": "10e957a5-9bf0-4454-97e2-b1b6fd90eaae",
   "metadata": {},
   "source": [
    "### Test01"
   ]
  },
  {
   "cell_type": "code",
   "execution_count": 1,
   "id": "4fbf552a-46ae-411d-a829-f92134a90a14",
   "metadata": {},
   "outputs": [
    {
     "name": "stdin",
     "output_type": "stream",
     "text": [
      "请输入您的年龄:  3\n"
     ]
    },
    {
     "name": "stdout",
     "output_type": "stream",
     "text": [
      "您的年龄太小了.\n",
      "年满20岁才可以购买烟酒.\n"
     ]
    }
   ],
   "source": [
    "age = eval(input('请输入您的年龄: '))\n",
    "\n",
    "# if 分支判断 (流程控制)\n",
    "if (age < 20):\n",
    "    print(\"您的年龄太小了.\")\n",
    "    print('年满20岁才可以购买烟酒.')"
   ]
  },
  {
   "cell_type": "markdown",
   "id": "64f8d76b-d647-4de2-807b-edfdcb1c0177",
   "metadata": {},
   "source": [
    "### Test02"
   ]
  },
  {
   "cell_type": "code",
   "execution_count": 2,
   "id": "bce96448-9efd-4875-8aa1-c09df8de3b4d",
   "metadata": {},
   "outputs": [
    {
     "name": "stdout",
     "output_type": "stream",
     "text": [
      "输出绝对值\n"
     ]
    },
    {
     "name": "stdin",
     "output_type": "stream",
     "text": [
      "请输入一个数值:  -8\n"
     ]
    },
    {
     "name": "stdout",
     "output_type": "stream",
     "text": [
      "绝对值为: 8\n"
     ]
    }
   ],
   "source": [
    "print('输出绝对值')\n",
    "\n",
    "num = int(input('请输入一个数值: '))\n",
    "# 判断\n",
    "if num < 0: # num 是一个负数\n",
    "    num = -num\n",
    "\n",
    "print(f'绝对值为: {num}')"
   ]
  },
  {
   "cell_type": "markdown",
   "id": "65f06f69-8a64-4c40-8198-d0111fe4b6f9",
   "metadata": {},
   "source": [
    "## if...else语句"
   ]
  },
  {
   "cell_type": "markdown",
   "id": "ad431ae5-942d-48ed-ad64-6d30389e4850",
   "metadata": {},
   "source": [
    "```python\n",
    "if (条件判断):\n",
    "    程序代码区块一\n",
    "else:\n",
    "    程序代码区块二\n",
    "```"
   ]
  },
  {
   "cell_type": "markdown",
   "id": "acd365d2-e559-4fd8-98b5-9b63369ffb81",
   "metadata": {},
   "source": [
    "![](img/else.jpg)\n",
    "\n",
    "Python风格不建议使用 if ××==true 判断True或False，可以直接使用if xx。"
   ]
  },
  {
   "cell_type": "markdown",
   "id": "4aaed7df-2e8e-413f-b2b5-c711501c3773",
   "metadata": {},
   "source": [
    "### Test03-双分支判断"
   ]
  },
  {
   "cell_type": "code",
   "execution_count": 3,
   "id": "e1ba1e57-f2f4-4c9c-80c5-02ab944bec4b",
   "metadata": {},
   "outputs": [
    {
     "name": "stdin",
     "output_type": "stream",
     "text": [
      "请输入您的年龄:  22\n"
     ]
    },
    {
     "name": "stdout",
     "output_type": "stream",
     "text": [
      "欢迎购买烟酒.\n"
     ]
    }
   ],
   "source": [
    "age = eval(input('请输入您的年龄: '))\n",
    "\n",
    "# if...else 双分支判断 (流程控制)\n",
    "if (age < 20):\n",
    "    print(\"您的年龄太小了.\")\n",
    "    print('年满20岁才可以购买烟酒.')\n",
    "else:\n",
    "    print('欢迎购买烟酒.')"
   ]
  },
  {
   "cell_type": "markdown",
   "id": "f0e0cbc1-ce42-4f70-a531-2527ab6b7fd1",
   "metadata": {},
   "source": [
    "### Test04"
   ]
  },
  {
   "cell_type": "code",
   "execution_count": 4,
   "id": "5813e5ee-dee5-44fc-86a1-8c4f119d87f6",
   "metadata": {},
   "outputs": [
    {
     "name": "stdout",
     "output_type": "stream",
     "text": [
      "奇偶数的判断\n"
     ]
    },
    {
     "name": "stdin",
     "output_type": "stream",
     "text": [
      "请输入任意整数数值:  11\n"
     ]
    },
    {
     "name": "stdout",
     "output_type": "stream",
     "text": [
      "11是奇数\n",
      "--------------------\n",
      "11是奇数.\n"
     ]
    }
   ],
   "source": [
    "# 需求 : 实现奇偶数的判断\n",
    "\n",
    "print('奇偶数的判断')\n",
    "num = eval(input('请输入任意整数数值: '))\n",
    "\n",
    "# result = 0 说明 num 是偶数, result = 1 说明 num 是奇数\n",
    "result = num % 2 \n",
    "\n",
    "# 判断 result 的结果\n",
    "# result == 0 只有两个结果, 要么 True, 要么 False\n",
    "if (result == 0):       \n",
    "    print(f'{num}是偶数.')\n",
    "else:\n",
    "    print(f'{num}是奇数')\n",
    "\n",
    "print('-' * 20)\n",
    "\n",
    "if result:      # 如果 result 为非 0, 说明 num 是奇数\n",
    "    # 非 0 即 True\n",
    "    print(f'{num}是奇数.')\n",
    "else:\n",
    "    print(f'{num}是偶数.')"
   ]
  },
  {
   "cell_type": "markdown",
   "id": "0cc7306c-fc73-49dd-a8d4-29d7746da4c4",
   "metadata": {},
   "source": [
    "### Test05"
   ]
  },
  {
   "cell_type": "code",
   "execution_count": 5,
   "id": "114c166b-f32e-4e80-8ed3-ca5895ce6e7f",
   "metadata": {},
   "outputs": [
    {
     "name": "stdin",
     "output_type": "stream",
     "text": [
      "请输入两个整型数值, 使用逗号分隔:  122,77\n"
     ]
    },
    {
     "name": "stdout",
     "output_type": "stream",
     "text": [
      "较大值为: 122\n",
      "较小值为: 77\n"
     ]
    }
   ],
   "source": [
    "# 需求 : 输入两个整型数值, 判断大小\n",
    "\n",
    "x, y = eval(input('请输入两个整型数值, 使用逗号分隔: '))\n",
    "\n",
    "# 说明 : 如果自定义的变量与Python的内置函数重名, 请在变量之后添加一个下划线用于区分\n",
    "if x > y:\n",
    "    max_ = x   # max()是内置函数\n",
    "else:\n",
    "    max_ = y\n",
    "\n",
    "print(f'较大值为: {max_}')\n",
    "\n",
    "# 获取较小值\n",
    "min_ = x if x < y else y  # 生成式\n",
    "print(f'较小值为: {min_}')"
   ]
  },
  {
   "cell_type": "markdown",
   "id": "4edcb6a9-f8e7-41ac-a871-d08b0fcd68fa",
   "metadata": {},
   "source": [
    "### Test06"
   ]
  },
  {
   "cell_type": "code",
   "execution_count": 6,
   "id": "8d0a9c88-c1c3-4999-9e1f-79dc9be08ffb",
   "metadata": {},
   "outputs": [
    {
     "name": "stdin",
     "output_type": "stream",
     "text": [
      "请输入返回的数据量:  2\n"
     ]
    },
    {
     "name": "stdout",
     "output_type": "stream",
     "text": [
      "--------------------\n",
      "items = 2, items2 = 2\n"
     ]
    }
   ],
   "source": [
    "# 双分支简化   x(True) if (条件判断) else y(Flase)\n",
    "\n",
    "items = eval(input(\"请输入返回的数据量: \"))\n",
    "# 如果 items 大于 10, 只需要 10 条数据, 如果 items 不大于 10, 则接收真实数据量\n",
    "if items > 10:\n",
    "    items = 10\n",
    "else:\n",
    "    items = items\n",
    "\n",
    "print(f'-' * 20)\n",
    "\n",
    "items2 = 10 if items > 10 else items\n",
    "\n",
    "print(f'{items = }, {items2 = }')"
   ]
  },
  {
   "cell_type": "markdown",
   "id": "576bcbaa-1987-4e93-a31e-6422505a2640",
   "metadata": {},
   "source": [
    "## if...elif...else语句"
   ]
  },
  {
   "cell_type": "markdown",
   "id": "14255ff0-0d2c-45be-9550-2dbb6ed2b84a",
   "metadata": {},
   "source": [
    "```python\n",
    "if (条件判断一):\n",
    "    程序代码区块一\n",
    "elif (条件判断二):\n",
    "    程序代码区块二\n",
    "...\n",
    "\n",
    "else:\n",
    "    程序代码区块n\n",
    "```"
   ]
  },
  {
   "cell_type": "markdown",
   "id": "24d5e7a1-3bc7-4d4e-96ba-a03b665c60e1",
   "metadata": {},
   "source": [
    "![](img/elif.jpg)"
   ]
  },
  {
   "cell_type": "markdown",
   "id": "17094420-e2a6-40f7-a040-bf53613594e8",
   "metadata": {},
   "source": [
    "### Test07"
   ]
  },
  {
   "cell_type": "markdown",
   "id": "e1b675df-dc76-4a7e-ba8a-e875077ff257",
   "metadata": {},
   "source": [
    "练习1：请输入数字分数，系统将响应A，B，C，D或F等级。"
   ]
  },
  {
   "cell_type": "code",
   "execution_count": 7,
   "id": "364a7b23-649b-41cd-bbbc-0cbf10ab8be0",
   "metadata": {},
   "outputs": [
    {
     "name": "stdout",
     "output_type": "stream",
     "text": [
      "计算最终成绩等级\n"
     ]
    },
    {
     "name": "stdin",
     "output_type": "stream",
     "text": [
      "请输入数字分数:  90\n"
     ]
    },
    {
     "name": "stdout",
     "output_type": "stream",
     "text": [
      "A\n"
     ]
    }
   ],
   "source": [
    "print('计算最终成绩等级')\n",
    "# 提示用户输入数字分数\n",
    "score = int(input('请输入数字分数: '))\n",
    "# 多分支判断\n",
    "if score >= 90:\n",
    "    print('A')\n",
    "elif score >= 80:\n",
    "    print('B')\n",
    "elif score >= 70:\n",
    "    print('C')\n",
    "elif score >= 60:\n",
    "    print('D')\n",
    "else:\n",
    "    print('F')"
   ]
  },
  {
   "cell_type": "markdown",
   "id": "0c857b93-7c66-4866-953c-029670c4ace7",
   "metadata": {},
   "source": [
    "### Test08"
   ]
  },
  {
   "cell_type": "markdown",
   "id": "5bcc641e-3163-487d-8ee4-3cfab3526e83",
   "metadata": {},
   "source": [
    "练习2：程序会要求输入字符，然后会告知所输入的字符是大写字母，小写字母，阿拉伯数字或特殊字符。"
   ]
  },
  {
   "cell_type": "code",
   "execution_count": 8,
   "id": "9632868d-829e-4972-88aa-b521fb5ae19c",
   "metadata": {},
   "outputs": [
    {
     "name": "stdout",
     "output_type": "stream",
     "text": [
      "判断输入字符类别\n"
     ]
    },
    {
     "name": "stdin",
     "output_type": "stream",
     "text": [
      "请输入一个字符:  A\n"
     ]
    },
    {
     "name": "stdout",
     "output_type": "stream",
     "text": [
      "这是一个大写字符.\n",
      "--------------------------------------------------\n",
      "这是一个大写字符.\n"
     ]
    }
   ],
   "source": [
    "# 要求用户输入一个字符, 判断字符是大写字母, 小写字母, 阿拉伯数字或特殊字符\n",
    "print('判断输入字符类别')\n",
    "# 接收用户输入\n",
    "character = input('请输入一个字符: ')\n",
    "# 多分支判断\n",
    "# Unicode 编码, 内置函数 ord(字符) -> 数值\n",
    "if ord(character) >= ord('A') and ord(character) <= ord('Z'):\n",
    "    print('这是一个大写字符.')\n",
    "elif ord(character) >= ord('a') and ord(character) <= ord('z'):\n",
    "    print('这是一个小写字符.')\n",
    "elif ord(character) >= ord('0') and ord(character) <= ord('9'):\n",
    "    print('这是一个数字.')\n",
    "else:\n",
    "    print('这是一个特殊字符.')\n",
    "\n",
    "print('-' * 50)\n",
    "\n",
    "# 简化链式比较\n",
    "if ord('A') <= ord(character) <= ord('Z'):\n",
    "    print('这是一个大写字符.')\n",
    "elif ord('a') <= ord(character) <= ord('z'):\n",
    "    print('这是一个小写字符.')\n",
    "elif ord('0') <= ord(character) <= ord('9'):\n",
    "    print('这是数字.')\n",
    "else:\n",
    "    print('这是一个特殊字符.')\n"
   ]
  },
  {
   "cell_type": "markdown",
   "id": "d1f06499-5ea0-47d5-b7f2-d20d4b4ae513",
   "metadata": {},
   "source": [
    "## 尚未设定的变量值None"
   ]
  },
  {
   "cell_type": "markdown",
   "id": "1c3250dd-f786-49c5-830d-fc253b5f3fb3",
   "metadata": {},
   "source": [
    "* if语句与None的应用，不过要注意点是，None在布尔值运算时会被当做False。\n",
    "* 如果此时用type()函数了解它的类别时将显示\"NoneType'"
   ]
  },
  {
   "cell_type": "markdown",
   "id": "1b027b04-185d-4f47-b5ea-6df62ecf31b8",
   "metadata": {},
   "source": [
    "### Test09"
   ]
  },
  {
   "cell_type": "code",
   "execution_count": 9,
   "id": "7f03786c-5e22-4fca-b427-26fcbe32540a",
   "metadata": {},
   "outputs": [
    {
     "name": "stdout",
     "output_type": "stream",
     "text": [
      "变量未定义\n",
      "--------------------\n",
      "变量未被定义.\n",
      "flag = None, type(flag) = <class 'NoneType'>\n"
     ]
    }
   ],
   "source": [
    "flag = None\n",
    "\n",
    "# NoneType 表示变量未定义\n",
    "if flag is None:        # flag 是 None\n",
    "    print('变量未定义')\n",
    "else:\n",
    "    print('变量已定义')\n",
    "\n",
    "print('-' * 20)\n",
    "\n",
    "if flag:        # None 在条件中表示 False\n",
    "    print('变量已经被定义.')\n",
    "else:\n",
    "    print('变量未被定义.')\n",
    "\n",
    "print(f\"{flag = }, {type(flag) = }\")"
   ]
  },
  {
   "cell_type": "markdown",
   "id": "d98aa7da-417a-4204-81a1-54b1175742c8",
   "metadata": {},
   "source": [
    "# if语句专题练习"
   ]
  },
  {
   "cell_type": "markdown",
   "id": "90e0d28b-af9c-4ee6-a95e-a9382afecd7e",
   "metadata": {},
   "source": [
    "## Test10-BMI指标"
   ]
  },
  {
   "cell_type": "markdown",
   "id": "be0e9afd-a082-4156-b724-ba03d84ac0f7",
   "metadata": {},
   "source": [
    "BMI(Body Mass Index)指数又称身高体重指数，是由比利时科学家凯特勒(LambertQuetelet)最先提出，这也是世界卫生组织认可的健康指数，它的计算方式如下。\n",
    "\n",
    "BMI=体重(kg)/$身高^2(m^2)$\n",
    "\n",
    "|分类|BMI|\n",
    "|---|---|\n",
    "|体重过轻|BMI<18．5|\n",
    "|正常|18.5≤BMI<24|\n",
    "|超重|24≤BMI<28 |\n",
    "|肥胖|BMI≥28 |"
   ]
  },
  {
   "cell_type": "code",
   "execution_count": 10,
   "id": "3a93260f-37df-4a12-bc9f-bbe8cb9cb4fe",
   "metadata": {},
   "outputs": [
    {
     "name": "stdin",
     "output_type": "stream",
     "text": [
      "请输入身高(公分):  172\n",
      "请输入体重(公斤):  60\n"
     ]
    },
    {
     "name": "stdout",
     "output_type": "stream",
     "text": [
      "bmi = 20.28 体重正常.\n"
     ]
    }
   ],
   "source": [
    "# 身高, 体重\n",
    "height = eval(input('请输入身高(公分): '))\n",
    "weight = eval(input('请输入体重(公斤): '))\n",
    "\n",
    "# 计算 BMI = 体重 / 身高² (m²)\n",
    "bmi = weight / (height / 100) ** 2\n",
    "# 判断\n",
    "if 18.5 <= bmi < 24:\n",
    "    print(f'{bmi = :5.2f} 体重正常.')\n",
    "else:\n",
    "    print(f'{bmi = :5.2f} 体重不正常.')"
   ]
  },
  {
   "cell_type": "markdown",
   "id": "9a5809fc-4564-4ca5-97c7-4f35cb3b8f7f",
   "metadata": {},
   "source": [
    "## Test11"
   ]
  },
  {
   "cell_type": "markdown",
   "id": "2031c8cf-e9b7-436b-b3a6-d7ae1a6e1e84",
   "metadata": {},
   "source": [
    "* [海象运算符](https://www.cnblogs.com/ddsuifeng/p/17124564.html)\n",
    "\n",
    "海象表达式由一个 : 和 一个 = 组成，即：:= 。我们一般称作 walrus operator（海象运算符），因为它看起来就是一个海象旋转 90° 而成。"
   ]
  },
  {
   "cell_type": "code",
   "execution_count": 11,
   "id": "fe746717-f34e-4bfc-9d3a-75ca7db2a70f",
   "metadata": {},
   "outputs": [
    {
     "name": "stdin",
     "output_type": "stream",
     "text": [
      "请输入身高(公分):  172\n",
      "请输入体重(公斤):  80\n"
     ]
    },
    {
     "name": "stdout",
     "output_type": "stream",
     "text": [
      "不肥胖，可以继续吃。\n",
      "不肥胖，可以继续吃。\n"
     ]
    }
   ],
   "source": [
    "# 身高, 体重\n",
    "height = eval(input('请输入身高(公分): '))\n",
    "weight = eval(input('请输入体重(公斤): '))\n",
    "\n",
    "# 计算 BMI = 体重 / 身高² (m²)\n",
    "bmi = weight / (height / 100) ** 2\n",
    "# 判断\n",
    "if bmi >= 28:\n",
    "    print('肥胖，需要减肥啦。')\n",
    "else:\n",
    "    print('不肥胖，可以继续吃。')\n",
    "\n",
    "# bmi 变量只有两种取值, 要么是 True, 表示后面条件成立, 否则为 False\n",
    "if bmi := weight / (height / 100) ** 2 >= 28:   # 就是将上面代码的两条语句合并为了一条语句, 但是阅读性较差\n",
    "    print('肥胖，需要减肥啦。')\n",
    "else:\n",
    "    print('不肥胖，可以继续吃。')"
   ]
  },
  {
   "cell_type": "markdown",
   "id": "176bf93d-c2f5-4e42-8b5f-aa5818e5237e",
   "metadata": {},
   "source": [
    "## Test12-猜出0到7的数字\n"
   ]
  },
  {
   "cell_type": "markdown",
   "id": "e52008d4-2646-4698-bb0d-b4731256d740",
   "metadata": {},
   "source": [
    "心中先预想一个0、7的数字，程序会问3个问题，然后猜中数字。\n",
    "\n",
    "0\\~7的数字基本上可用3个二进制表示，即000~111，其实所问的三个问题，基本上只是了解特定位是否为1。"
   ]
  },
  {
   "cell_type": "code",
   "execution_count": 13,
   "id": "36428df3-f26d-4c6b-a903-146ed5d2ee0c",
   "metadata": {},
   "outputs": [
    {
     "name": "stdout",
     "output_type": "stream",
     "text": [
      "猜数字游戏, 请心中想一个 0~7 之间的数字, 然后回答问题.\n"
     ]
    },
    {
     "name": "stdin",
     "output_type": "stream",
     "text": [
      "Are you READY? Enter any key to continue~ \n",
      "有没有看到心中的数字(1, 3, 5, 7) 输入y或Y代表有, 其他代表无:  y\n",
      "有没有看到心中的数字(2, 3, 6, 7) 输入y或Y代表有, 其他代表无:  y\n",
      "有没有看到心中的数字(4, 5, 6, 7) 输入y或Y代表有, 其他代表无:  y\n"
     ]
    },
    {
     "name": "stdout",
     "output_type": "stream",
     "text": [
      "你心中所想的数字是: 7\n"
     ]
    }
   ],
   "source": [
    "print(\"猜数字游戏, 请心中想一个 0~7 之间的数字, 然后回答问题.\")\n",
    "# input() 左边没有使用变量接收, 代表让程序执行到这一步实现阻塞, 无论用户之后输入什么内容, 程序都不接收\n",
    "input(\"Are you READY? Enter any key to continue~\")  # 这里不要加print，不然后续的也会一次性输出\n",
    "\n",
    "# 猜测的答案\n",
    "answer = 0\n",
    "\n",
    "question = '输入y或Y代表有, 其他代表无: '\n",
    "\n",
    "# 第一个问题\n",
    "# 检测二进制第 1 位是否含有 1 (001, 011, 101, 111)\n",
    "q1 = input('有没有看到心中的数字(1, 3, 5, 7) ' + question)\n",
    "# 判断\n",
    "if q1 == 'y' or q1 == 'Y':\n",
    "    answer = 1\n",
    "\n",
    "# 检测二进制的第 2 位是否含有 1 (010, 011, 110, 111)\n",
    "q2 = input('有没有看到心中的数字(2, 3, 6, 7) ' + question)\n",
    "if q2 == 'y' or q2 == 'Y':\n",
    "    answer += 2\n",
    "\n",
    "# 检测二进制的第 3 位是否含有 1 (100, 101, 110, 111)\n",
    "q3 = input('有没有看到心中的数字(4, 5, 6, 7) ' + question)\n",
    "if q3 == 'y' or q3 == 'Y':\n",
    "    answer += 4\n",
    "\n",
    "print(f'你心中所想的数字是: {answer}')"
   ]
  },
  {
   "cell_type": "markdown",
   "id": "74b62ec9-6ecb-489c-8333-94b8da854be8",
   "metadata": {},
   "source": [
    "## Test13-十二生肖系统"
   ]
  },
  {
   "cell_type": "markdown",
   "id": "8d305dfb-47e6-4680-9aff-ce9a53a88856",
   "metadata": {},
   "source": [
    "我们使用鼠，牛，虎，兔，龙，蛇，马，羊，猴，鸡，狗，猪当做十二生肖，每十二年是一个周期，1900年是鼠年。\n",
    "\n",
    "练习：输入你出生的公元年19××或20××，程序会输出相对应的生肖年"
   ]
  },
  {
   "cell_type": "code",
   "execution_count": 14,
   "id": "135fd0b1-7828-4c6b-8ddd-e5112224a281",
   "metadata": {},
   "outputs": [
    {
     "name": "stdin",
     "output_type": "stream",
     "text": [
      "请输入您的出生年份(19xx~20xx):  1993\n"
     ]
    },
    {
     "name": "stdout",
     "output_type": "stream",
     "text": [
      "你的生肖是: 鸡\n"
     ]
    }
   ],
   "source": [
    "# 提示用户输入出生年份\n",
    "year = eval(input('请输入您的出生年份(19xx~20xx): '))\n",
    "\n",
    "# 1900 年是鼠年\n",
    "year -= 1900\n",
    "# 获取生肖值\n",
    "zodiac = year % 12  # zodiac：生肖\n",
    "# 判断生肖年\n",
    "if zodiac == 0:\n",
    "    print('你的生肖是: 鼠')\n",
    "elif zodiac == 1:\n",
    "    print('你的生肖是: 牛')\n",
    "elif zodiac == 2:\n",
    "    print('你的生肖是: 虎')\n",
    "elif zodiac == 3:\n",
    "    print('你的生肖是: 兔')\n",
    "elif zodiac == 4:\n",
    "    print('你的生肖是: 龙')\n",
    "elif zodiac == 5:\n",
    "    print('你的生肖是: 蛇')\n",
    "elif zodiac == 6:\n",
    "    print('你的生肖是: 马')\n",
    "elif zodiac == 7:\n",
    "    print('你的生肖是: 羊')\n",
    "elif zodiac == 8:\n",
    "    print('你的生肖是: 猴')\n",
    "elif zodiac == 9:\n",
    "    print('你的生肖是: 鸡')\n",
    "elif zodiac == 10:\n",
    "    print('你的生肖是: 狗')\n",
    "else:\n",
    "    print('你的生肖是: 猪')"
   ]
  },
  {
   "cell_type": "markdown",
   "id": "dd5e4931-4493-47f7-9848-450bd0ef107b",
   "metadata": {},
   "source": [
    "## Test14-火箭升空"
   ]
  },
  {
   "cell_type": "markdown",
   "id": "b3cc6fab-eda1-4e1e-86d4-16a40970d69e",
   "metadata": {},
   "source": [
    "人造卫星是由火箭发射的，由于地球有引力，太阳也有引力，火箭发射要到达人造卫星绕行地球，脱离地球进入太空，甚至脱离太阳系，必须达到宇宙速度方可脱离。"
   ]
  },
  {
   "cell_type": "markdown",
   "id": "93908327-5b15-4c03-b368-2c52f83f34a6",
   "metadata": {},
   "source": [
    "![](img/roc.jpg)"
   ]
  },
  {
   "cell_type": "markdown",
   "id": "25bf3c11-56c2-47ff-a910-b177e9f7a4f1",
   "metadata": {},
   "source": [
    "练习：请输入火箭速度(km/s)，这个程序会输出人造卫星的飞行状态。"
   ]
  },
  {
   "cell_type": "code",
   "execution_count": 15,
   "id": "a7390943-ece2-4d42-b063-f12e051e87e7",
   "metadata": {},
   "outputs": [
    {
     "name": "stdin",
     "output_type": "stream",
     "text": [
      "请输入火箭的速度:  7.9\n"
     ]
    },
    {
     "name": "stdout",
     "output_type": "stream",
     "text": [
      "人造卫星可以绕地球做圆形移动.\n"
     ]
    }
   ],
   "source": [
    "v = eval(input('请输入火箭的速度: '))\n",
    "# 判断速度\n",
    "if v < 7.9:\n",
    "    print('人造卫星无法进入太空.')\n",
    "elif v == 7.9:\n",
    "    print('人造卫星可以绕地球做圆形移动.')\n",
    "elif 7.9 < v < 11.2:\n",
    "    print('人造卫星可以绕地球做椭圆形移动.')\n",
    "elif 11.2 <= v < 16.7:\n",
    "    print('人造卫星可以绕太阳移动.')\n",
    "else:\n",
    "    print('人造卫星可以脱离太阳系.')"
   ]
  },
  {
   "cell_type": "markdown",
   "id": "054a2b7b-24a5-4776-90b6-619111eee1e0",
   "metadata": {},
   "source": [
    "## Test15-计算闰年程序"
   ]
  },
  {
   "cell_type": "markdown",
   "id": "2ab5fca2-75ff-4556-a0b1-a281c44b7191",
   "metadata": {},
   "source": [
    "测试某一年是否为闰年，闰年的条件是首先可以被4整除，然后它除以100时余数不为0或是除以4開时余数为0，当2个条件皆符合才是闰年。\n",
    "\n",
    "Python允许加上许多层，不过层次一多，耒来程序维护会变得比较困难。"
   ]
  },
  {
   "cell_type": "code",
   "execution_count": 16,
   "id": "2b9249fa-d7c6-4371-bf08-0a90095b57ab",
   "metadata": {},
   "outputs": [
    {
     "name": "stdout",
     "output_type": "stream",
     "text": [
      "判断输入年份是否为闰年\n"
     ]
    },
    {
     "name": "stdin",
     "output_type": "stream",
     "text": [
      "请输入年份:  2050\n"
     ]
    },
    {
     "name": "stdout",
     "output_type": "stream",
     "text": [
      "2050不是闰年\n"
     ]
    }
   ],
   "source": [
    "# 提示用户输入年份\n",
    "print('判断输入年份是否为闰年')\n",
    "year = eval(input('请输入年份: '))\n",
    "\n",
    "# 闰年 : 1. year % 4 == 0    2. year % 100 != 0 or year % 400 == 0\n",
    "answer1 = year % 4\n",
    "answer2 = year % 100\n",
    "answer3 = year % 400\n",
    "\n",
    "if answer1 == 0:\n",
    "    # 条件 1 成立\n",
    "    if answer2 != 0 or answer3 == 0:\n",
    "        # 条件 2 成立\n",
    "        print(f'{year}是闰年')\n",
    "    else:\n",
    "        # 条件 2 不成立\n",
    "        print(f'{year}不是闰年')\n",
    "else:\n",
    "    # 条件 1 不成立\n",
    "    print(f'{year}不是闰年')"
   ]
  },
  {
   "cell_type": "code",
   "execution_count": null,
   "id": "99096962-135a-48a7-a6dd-99dc3af5d94d",
   "metadata": {},
   "outputs": [],
   "source": []
  }
 ],
 "metadata": {
  "kernelspec": {
   "display_name": "Python [conda env:base] *",
   "language": "python",
   "name": "conda-base-py"
  },
  "language_info": {
   "codemirror_mode": {
    "name": "ipython",
    "version": 3
   },
   "file_extension": ".py",
   "mimetype": "text/x-python",
   "name": "python",
   "nbconvert_exporter": "python",
   "pygments_lexer": "ipython3",
   "version": "3.11.6"
  }
 },
 "nbformat": 4,
 "nbformat_minor": 5
}
