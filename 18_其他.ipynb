{
 "cells": [
  {
   "cell_type": "markdown",
   "id": "978ae565-2e8d-4766-8b78-919edab4ceb9",
   "metadata": {},
   "source": [
    "Pyhton Switch语法。"
   ]
  },
  {
   "cell_type": "code",
   "execution_count": 1,
   "id": "ed921270-991c-4e18-95e7-a4efe41e8974",
   "metadata": {},
   "outputs": [
    {
     "name": "stdin",
     "output_type": "stream",
     "text": [
      "请输入成绩:  88\n"
     ]
    },
    {
     "name": "stdout",
     "output_type": "stream",
     "text": [
      "B\n",
      "--------------------------------------------------\n",
      "B\n",
      "--------------------------------------------------\n",
      "msg = 'redirect'\n",
      "--------------------------------------------------\n",
      "0\n"
     ]
    }
   ],
   "source": [
    "\n",
    "'''\n",
    "break 循环中使用, 表示跳出当前循环\n",
    "\n",
    "Java, C, C++ 语言有这样的语法\n",
    "\n",
    "switch 开关     match 匹配         (打开/成立   关闭/不成立)\n",
    "\n",
    "'''\n",
    "\n",
    "\n",
    "# 循环实现 (成绩等级排行)\n",
    "score = eval(input('请输入成绩: '))\n",
    "\n",
    "# if - elif - else 多分支 (指定范围)\n",
    "if score >= 90:\n",
    "    print('A')\n",
    "elif score >= 80:\n",
    "    print('B')\n",
    "elif score >= 70:\n",
    "    print('C')\n",
    "elif score >= 60:\n",
    "    print('D')\n",
    "else:               # 兜底条件\n",
    "    print('E')\n",
    "\n",
    "\n",
    "print('-' * 50)\n",
    "\n",
    "# match 匹配 (指定结果)\n",
    "level = score // 10     # 88 // 10 = 8\n",
    "\n",
    "match level:\n",
    "    case 10 | 9:        # or    |  短路或  ||       and   &  短路与 &&       not   !  非\n",
    "    # case 10:\n",
    "    # case 9:\n",
    "        print('A')\n",
    "    case 8:\n",
    "        print('B')\n",
    "    case 7:\n",
    "        print('C')\n",
    "    case 6:\n",
    "        print('D')\n",
    "    case _:                 # _ 表示匹配所有\n",
    "        print('E')\n",
    "\n",
    "print('-' * 50)\n",
    "\n",
    "\n",
    "# 函数\n",
    "def http_error(status):\n",
    "    # match 匹配 (指定结果)\n",
    "    match status:\n",
    "        case 302:\n",
    "            return 'redirect'\n",
    "        case 400:\n",
    "            return 'Bad request'\n",
    "        case 404:\n",
    "            return 'Not found'\n",
    "        case 418:\n",
    "            return 'I\\'m a teapot'\n",
    "        case _:\n",
    "            return 'Something\\'s wrong with the internet'\n",
    "\n",
    "\n",
    "msg = http_error(302)\n",
    "print(f'{msg = }')\n",
    "\n",
    "print('-' * 50)\n",
    "\n",
    "n = 10\n",
    "\n",
    "if n > 10:\n",
    "    print('n 大于 10')\n",
    "    # break outside of loop 循环外不能使用 break\n",
    "\n",
    "\n",
    "for i in range(10):\n",
    "    print(i)\n",
    "    break\n"
   ]
  },
  {
   "cell_type": "code",
   "execution_count": null,
   "id": "fe6b5b9c-b777-47b3-9110-5ddff08793f5",
   "metadata": {},
   "outputs": [],
   "source": []
  }
 ],
 "metadata": {
  "kernelspec": {
   "display_name": "Python [conda env:base] *",
   "language": "python",
   "name": "conda-base-py"
  },
  "language_info": {
   "codemirror_mode": {
    "name": "ipython",
    "version": 3
   },
   "file_extension": ".py",
   "mimetype": "text/x-python",
   "name": "python",
   "nbconvert_exporter": "python",
   "pygments_lexer": "ipython3",
   "version": "3.11.6"
  }
 },
 "nbformat": 4,
 "nbformat_minor": 5
}
