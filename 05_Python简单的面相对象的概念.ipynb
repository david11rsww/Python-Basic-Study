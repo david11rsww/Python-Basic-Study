{
 "cells": [
  {
   "cell_type": "markdown",
   "id": "1bc332ed-84d9-446e-bcc2-e832316f89c4",
   "metadata": {},
   "source": [
    "# 基本概念"
   ]
  },
  {
   "cell_type": "markdown",
   "id": "a43c458d-b789-456b-b549-1fc889abd180",
   "metadata": {},
   "source": [
    "在面向对象的程序设计概念里，所有数据皆算是一个对象(Object)\n",
    "\n",
    "例如，整数，浮点数，字符串或是列表皆是一个对象，我们可以为所建立的对象设计一些方法(method),供这些对象使用，在这里所提的方法表面是函数，但是这些函数放在类内，故我们称之为方法．它与函数调用方式不同．目前Python为一些基本对象提供默认的方法，要使用这些方法可以在对象后先放小数点，再放方法名称，基本语句格式如下。"
   ]
  },
  {
   "cell_type": "markdown",
   "id": "af5c5eb1-f764-4b77-9f74-fdfe676100ba",
   "metadata": {},
   "source": [
    "```python\n",
    "对象.方法()\n",
    "```"
   ]
  },
  {
   "cell_type": "markdown",
   "id": "4f438612-cd63-4d21-853e-8a8a000d56a2",
   "metadata": {},
   "source": [
    "# 字符串常用方法"
   ]
  },
  {
   "cell_type": "markdown",
   "id": "958bb51d-dc60-40ee-b8f3-1c9c579e206f",
   "metadata": {},
   "source": [
    "## 更改字符串大小写（大小写转换）"
   ]
  },
  {
   "cell_type": "markdown",
   "id": "cd052387-5529-4889-a0c8-d6e8ba780b81",
   "metadata": {},
   "source": [
    "* lower()：将字符串转成小写字。  \n",
    "* upper()：将字符串转成大写字。  \n",
    "* title()：将字符串转成第一个字母大写，其他是小写。  \n",
    "* swapcase()：将字符串所有大写改小写，所有小写改大写。  "
   ]
  },
  {
   "cell_type": "markdown",
   "id": "9875af4f-7b68-42b3-bf19-ae6d0010a406",
   "metadata": {},
   "source": [
    "### Test01"
   ]
  },
  {
   "cell_type": "code",
   "execution_count": 1,
   "id": "a637998f-7798-42a4-a150-8dbcf3021ce6",
   "metadata": {},
   "outputs": [
    {
     "name": "stdout",
     "output_type": "stream",
     "text": [
      "str = 'python', str2 = 'PYTHON'\n",
      "s2 = 'abcdefghijklmnopqrstuvwxyz'\n",
      "names2 = 'Jack Peter Marry Lucy Jerry'\n",
      "greeting2 = 'nice TO see U'\n"
     ]
    }
   ],
   "source": [
    "# 将字符串转换为大写\n",
    "str = 'python'\n",
    "str2 = str.upper()\n",
    "print(f'{str = }, {str2 = }')\n",
    "\n",
    "# 将字符串转换为小写\n",
    "s = 'ABCDEFGHIJKLMNOPQRSTUVWXYZ'\n",
    "s2 = s.lower()\n",
    "print(f'{s2 = }')\n",
    "\n",
    "# 首字母大写转换\n",
    "names = 'jack peter marry lucy jerry'\n",
    "names2 = names.title()\n",
    "print(f'{names2 = }')\n",
    "\n",
    "# 大小写转换\n",
    "greeting = 'NICE to SEE u'\n",
    "greeting2 = greeting.swapcase() # 交换大小写\n",
    "print(f'{greeting2 = }')"
   ]
  },
  {
   "cell_type": "markdown",
   "id": "4ac34681-625a-4922-bc67-85dcb52cd018",
   "metadata": {},
   "source": [
    "## 删除空格"
   ]
  },
  {
   "cell_type": "markdown",
   "id": "84ccc746-a01a-4219-aeff-14ff1f31a933",
   "metadata": {},
   "source": [
    "删除字符串开始或结尾的多余空白是一个很好用的方法，特别是系统要求读者输入数据时，一定会有人不小心多输入了一些空格符，此时可以用这个方法删除多余的空白。\n",
    "\n",
    "* rstrip(）：删除字符串尾端多余的仝白。\n",
    "* lstnp()：删除字符串开始多余的仝白。\n",
    "* strip()：删除字符串头尾多余的空白。"
   ]
  },
  {
   "cell_type": "markdown",
   "id": "4998d99e-b418-4689-ae6c-7715b937b336",
   "metadata": {},
   "source": [
    "### Test02"
   ]
  },
  {
   "cell_type": "code",
   "execution_count": 2,
   "id": "b9480b5b-e242-45b7-8b5d-dbc1cbc0bc85",
   "metadata": {},
   "outputs": [
    {
     "name": "stdout",
     "output_type": "stream",
     "text": [
      "/zhangsan    / /    zhangsan/ /zhangsan/\n"
     ]
    }
   ],
   "source": [
    "# 删除空格\n",
    "str = '    zhangsan    '\n",
    "str1 = str.lstrip()\n",
    "str2 = str.rstrip()\n",
    "str3 = str.strip()\n",
    "\n",
    "print(f'/{str1}/ /{str2}/ /{str3}/')  # /:边界"
   ]
  },
  {
   "cell_type": "markdown",
   "id": "c08cc04b-76a1-450a-91d4-912d42709c4d",
   "metadata": {},
   "source": [
    "### Test03"
   ]
  },
  {
   "cell_type": "code",
   "execution_count": 3,
   "id": "b866c9db-dc2f-45ba-b098-309c93c27d38",
   "metadata": {},
   "outputs": [
    {
     "name": "stdin",
     "output_type": "stream",
     "text": [
      "请输入您的账号:    hkjhkj  jj\n"
     ]
    },
    {
     "name": "stdout",
     "output_type": "stream",
     "text": [
      "删除左右空格前: account = '  hkjhkj  jj'\n",
      "删除左右空格后: account = 'hkjhkj  jj'\n"
     ]
    }
   ],
   "source": [
    "# 提示用户输入用户名\n",
    "account = input('请输入您的账号: ')\n",
    "print(f'删除左右空格前: {account = }')\n",
    "# 删除调用用户输入的左右两边空格\n",
    "account = account.strip()\n",
    "print(f'删除左右空格后: {account = }')"
   ]
  },
  {
   "cell_type": "markdown",
   "id": "b43a6dcd-b2ad-4f00-99cb-6c3c861249a6",
   "metadata": {},
   "source": [
    "## 格式化字符串位置"
   ]
  },
  {
   "cell_type": "markdown",
   "id": "667a5590-a78e-457f-94a7-dc3629e8d783",
   "metadata": {},
   "source": [
    "格式化字符串位置：\n",
    "* center(）：字符串在指定宽度置中对齐\n",
    "* rejust(）：字符串在指定宽度靠右对齐。\n",
    "* ljust(）：字符串在指定宽度靠左对齐。\n",
    "* zfill(）：可以设定字符串长度，原字符串靠右对齐，左边多余空间补0。"
   ]
  },
  {
   "cell_type": "markdown",
   "id": "8405ac19-df25-41ea-af20-e8b3d62de372",
   "metadata": {},
   "source": [
    "### Test04"
   ]
  },
  {
   "cell_type": "code",
   "execution_count": 4,
   "id": "52137484-885e-4aff-90a8-6846d205c571",
   "metadata": {},
   "outputs": [
    {
     "name": "stdout",
     "output_type": "stream",
     "text": [
      "/----------------------Python----------------------/\n",
      "/Python                                            /\n",
      "/                                            Python/\n",
      "/00000000000000000000000000000000000000000000Python/\n",
      "/00000000000000000000000000000000000000000000Python/\n"
     ]
    }
   ],
   "source": [
    "title = 'Python'\n",
    "\n",
    "# 居中, 指定宽度, 并且可以指定填充字符, 如果不指定, 默认填充字符为空格\n",
    "title2 = title.center(50, '-')\n",
    "print(f'/{title2}/')\n",
    "\n",
    "# 靠左对齐\n",
    "title3 = title.ljust(50)\n",
    "\n",
    "# 靠右对齐\n",
    "title4 = title.rjust(50)\n",
    "\n",
    "# 靠右对齐, 使用 0 实现填充\n",
    "title5 = title.zfill(50)\n",
    "# 等同于\n",
    "title6 = title.rjust(50, '0')\n",
    "\n",
    "print(f'/{title3}/')\n",
    "print(f'/{title4}/')\n",
    "print(f'/{title5}/')\n",
    "print(f'/{title6}/')"
   ]
  },
  {
   "cell_type": "markdown",
   "id": "6185bea4-26a0-49f9-b6eb-ce7271f1c164",
   "metadata": {},
   "source": [
    "## 判断大小写、数字和字母"
   ]
  },
  {
   "cell_type": "markdown",
   "id": "cac20c9f-072f-4583-b0ed-186217090e8d",
   "metadata": {},
   "source": [
    "判断大写，小写，数字，和英文字母。\n",
    "* isupper()\n",
    "* islower()\n",
    "* isdigit()\n",
    "* isalpha()"
   ]
  },
  {
   "cell_type": "markdown",
   "id": "2d635cad-f5b6-410b-9712-9a5a10b4fb03",
   "metadata": {},
   "source": [
    "### Test05"
   ]
  },
  {
   "cell_type": "code",
   "execution_count": 5,
   "id": "4445417f-1e21-432a-a554-23abe297dcd7",
   "metadata": {},
   "outputs": [
    {
     "name": "stdout",
     "output_type": "stream",
     "text": [
      "r1 = False\n",
      "r2 = True\n",
      "r3 = True\n",
      "r4 = False\n"
     ]
    }
   ],
   "source": [
    "str = 'abc'\n",
    "# str 是否全部大写\n",
    "r1 = str.isupper()\n",
    "print(f'{r1 = }')\n",
    "\n",
    "# str 是否全部小写\n",
    "r2 = str.islower()\n",
    "print(f'{r2 = }')\n",
    "\n",
    "n = '123'\n",
    "# n 是否全部为数字\n",
    "r3 = n.isdigit()\n",
    "print(f'{r3 = }')\n",
    "\n",
    "str3 = 'hello world'\n",
    "# str3 是否全部为字母, 如果字符串中有空格, 则返回的结果是 False\n",
    "r4 = str3.isalpha()\n",
    "print(f'{r4 = }')"
   ]
  },
  {
   "cell_type": "markdown",
   "id": "62bc8791-3cdf-406a-ac94-bb57efd5ecc3",
   "metadata": {},
   "source": [
    "# 获取对象方法与描述信息"
   ]
  },
  {
   "cell_type": "markdown",
   "id": "b427a8c4-6c3d-482f-9599-bc36e1b8f332",
   "metadata": {},
   "source": [
    "* dir()获得系统内部对象的方法\n",
    "* help()获取对应方法的描述信息"
   ]
  },
  {
   "cell_type": "markdown",
   "id": "cecc8427-44cf-4a13-90e5-05fab87dc2cd",
   "metadata": {},
   "source": [
    "## Test06"
   ]
  },
  {
   "cell_type": "code",
   "execution_count": 6,
   "id": "3c2a1605-3123-47a1-a9d1-f39d479fab4d",
   "metadata": {},
   "outputs": [
    {
     "name": "stdout",
     "output_type": "stream",
     "text": [
      "['__add__', '__class__', '__contains__', '__delattr__', '__dir__', '__doc__', '__eq__', '__format__', '__ge__', '__getattribute__', '__getitem__', '__getnewargs__', '__getstate__', '__gt__', '__hash__', '__init__', '__init_subclass__', '__iter__', '__le__', '__len__', '__lt__', '__mod__', '__mul__', '__ne__', '__new__', '__reduce__', '__reduce_ex__', '__repr__', '__rmod__', '__rmul__', '__setattr__', '__sizeof__', '__str__', '__subclasshook__', 'capitalize', 'casefold', 'center', 'count', 'encode', 'endswith', 'expandtabs', 'find', 'format', 'format_map', 'index', 'isalnum', 'isalpha', 'isascii', 'isdecimal', 'isdigit', 'isidentifier', 'islower', 'isnumeric', 'isprintable', 'isspace', 'istitle', 'isupper', 'join', 'ljust', 'lower', 'lstrip', 'maketrans', 'partition', 'removeprefix', 'removesuffix', 'replace', 'rfind', 'rindex', 'rjust', 'rpartition', 'rsplit', 'rstrip', 'split', 'splitlines', 'startswith', 'strip', 'swapcase', 'title', 'translate', 'upper', 'zfill']\n",
      "Help on built-in function isalpha:\n",
      "\n",
      "isalpha() method of builtins.str instance\n",
      "    Return True if the string is an alphabetic string, False otherwise.\n",
      "    \n",
      "    A string is alphabetic if all characters in the string are alphabetic and there\n",
      "    is at least one character in the string.\n",
      "\n",
      "None\n",
      "['__abs__', '__add__', '__and__', '__bool__', '__ceil__', '__class__', '__delattr__', '__dir__', '__divmod__', '__doc__', '__eq__', '__float__', '__floor__', '__floordiv__', '__format__', '__ge__', '__getattribute__', '__getnewargs__', '__getstate__', '__gt__', '__hash__', '__index__', '__init__', '__init_subclass__', '__int__', '__invert__', '__le__', '__lshift__', '__lt__', '__mod__', '__mul__', '__ne__', '__neg__', '__new__', '__or__', '__pos__', '__pow__', '__radd__', '__rand__', '__rdivmod__', '__reduce__', '__reduce_ex__', '__repr__', '__rfloordiv__', '__rlshift__', '__rmod__', '__rmul__', '__ror__', '__round__', '__rpow__', '__rrshift__', '__rshift__', '__rsub__', '__rtruediv__', '__rxor__', '__setattr__', '__sizeof__', '__str__', '__sub__', '__subclasshook__', '__truediv__', '__trunc__', '__xor__', 'as_integer_ratio', 'bit_count', 'bit_length', 'conjugate', 'denominator', 'from_bytes', 'imag', 'numerator', 'real', 'to_bytes']\n",
      "Help on built-in function bit_length:\n",
      "\n",
      "bit_length() method of builtins.int instance\n",
      "    Number of bits necessary to represent self in binary.\n",
      "    \n",
      "    >>> bin(37)\n",
      "    '0b100101'\n",
      "    >>> (37).bit_length()\n",
      "    6\n",
      "\n",
      "None\n",
      "bits = 3\n"
     ]
    }
   ],
   "source": [
    "s = 'abc'\n",
    "# 需求 : 查看字符串对象的内部函数/方法\n",
    "print(dir(s))  # 查看字符串的方法\n",
    "# 需求 : 查看具体方法的详细说明\n",
    "print(help(s.isalpha))\n",
    "\n",
    "n = 123\n",
    "print(dir(n))  # 整型数据的所有方法\n",
    "print(help(n.bit_length))  # 某个方法的使用文档\n",
    "\n",
    "# 7 => 111\n",
    "n2 = 7\n",
    "bits = n2.bit_length()\n",
    "print(f'{bits = }')"
   ]
  },
  {
   "cell_type": "code",
   "execution_count": null,
   "id": "21909b4f-98d4-433a-84da-e856c40f40d9",
   "metadata": {},
   "outputs": [],
   "source": []
  }
 ],
 "metadata": {
  "kernelspec": {
   "display_name": "Python [conda env:base] *",
   "language": "python",
   "name": "conda-base-py"
  },
  "language_info": {
   "codemirror_mode": {
    "name": "ipython",
    "version": 3
   },
   "file_extension": ".py",
   "mimetype": "text/x-python",
   "name": "python",
   "nbconvert_exporter": "python",
   "pygments_lexer": "ipython3",
   "version": "3.11.6"
  }
 },
 "nbformat": 4,
 "nbformat_minor": 5
}
