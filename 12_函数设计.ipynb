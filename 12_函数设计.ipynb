{
 "cells": [
  {
   "cell_type": "markdown",
   "id": "958e92e4-fdb2-4e75-a6c8-23797361e2aa",
   "metadata": {},
   "source": [
    "# 函数简介"
   ]
  },
  {
   "cell_type": "markdown",
   "id": "c474bf14-51f7-42d9-a437-ba41413eeaa2",
   "metadata": {},
   "source": [
    "函数（function）由一系列指令语句所组成，它的目的有两个。  \n",
    "\n",
    "（1）当我们设计一个大型程序时，若是能将这个程序依功能分割成较小的功能，然后依这些较小功能要求撰写函数程序，如此，不仅使程序简单化，最后程序侦错也变得容易，另外，撰写大型程序时应该是团队合作，每一个人负责一个小功能，可以缩短程序开发的时间。  \n",
    "\n",
    "（2）在一个程序中，也许会发生某些指令被重复书写在许多不同的地方，若是我们能将这些重复的指令撰写成一个函数，需要用时再加以调用，如此，不仅较少编辑程序的时间，更可使程序精简，清晰，明了。\n",
    "\n",
    "当一个程序在调用函数时，Python会自动跳到被调用的函数上执行工作，执行完后，会回到原先程序执行位置，然后继续执行下一道指令。"
   ]
  },
  {
   "cell_type": "markdown",
   "id": "d23f970a-a1a4-41f3-aeca-5e9de8d16d6e",
   "metadata": {},
   "source": [
    "# Pyhon函数基本概念"
   ]
  },
  {
   "cell_type": "markdown",
   "id": "abeb4b81-af74-4973-b825-2345b1668db8",
   "metadata": {},
   "source": [
    "我们已经熟悉使用Python的内置函数了，例如：len()，max()，min()，print()，input() ... \n",
    "\n",
    "**函数的定义：**"
   ]
  },
  {
   "cell_type": "markdown",
   "id": "b6e7f7df-9930-4e1b-bf83-e8603a2eda9e",
   "metadata": {},
   "source": [
    "```python\n",
    "def 函数名称（参数值1[,参数值2，...  ]):\n",
    "    \"\"\"函数批注(doc string) \"\"\"\n",
    "    程序代码区块                 # 需要缩进\n",
    "    return [回传值1, 回传值2]    # 中括号可有可无\n",
    "```"
   ]
  },
  {
   "cell_type": "markdown",
   "id": "d311dcd2-5b66-48ad-98be-6f9b7583a215",
   "metadata": {},
   "source": [
    "**函数名称：** 名称必须是唯一的，程序未来可以调用，它的命名规则与一般变量相同，不过在Python风格下建议第一个英文字母用小写。  \n",
    "\n",
    "**参数值：** 可有可无，完全视函数设计需要，可以接受调用函数传来的变量，各参数值之间使用逗号隔开。 \n",
    "\n",
    "**函数批注：** 可有可无，不过如果是参与大型程序设计，当负责一个小程序时，建议所涉及的函数需要加上批注，除了自己需要也方便他人阅读，主要是注明函数的功能，由于可能有多行批注，所以可以用3个双引号（或单引号）包裹，英文Python资料将此称为doc string（document string的缩写）\n",
    "\n",
    "**return [回传值1, 回传值2, ...]：** 不论是return还是右边的回传值皆是可有可无，如果有多个数据，彼此须以逗号隔开。"
   ]
  },
  {
   "cell_type": "markdown",
   "id": "2ab29011-ad31-4e65-b647-edfe23d2680d",
   "metadata": {},
   "source": [
    "## Test01"
   ]
  },
  {
   "cell_type": "code",
   "execution_count": 1,
   "id": "e4941b1d-0047-42c6-a76d-e7f51b03d8f8",
   "metadata": {},
   "outputs": [
    {
     "name": "stdout",
     "output_type": "stream",
     "text": [
      "greeting = <function greeting at 0x7f2a77ee7c40>\n",
      "Hello Python!\n",
      "result = None\n",
      "Hello Python!\n",
      "Hello Python!\n"
     ]
    }
   ],
   "source": [
    "# 函数的定义, 不会对程序造成任何的执行效果, 除非在程序编写处主动调用了该函数, 此时该函数才会被执行\n",
    "# 定义一个函数 (打招呼函数)\n",
    "def greeting():\n",
    "    '''打招呼函数 : 我的第一个Python函数设计'''\n",
    "    print('Hello Python!')\n",
    "    return  # 如果函数没有返回值, 在函数末尾会自动添加 return 关键字, 此时默认返回为 None\n",
    "\n",
    "\n",
    "# 调用函数, 格式: 函数名()\n",
    "# 特别注意 : 小括号一定不能忘记书写. 如果仅有函数名, 此时函数名仅代表一个内存地址而已, 不会有任何执行效果\n",
    "# 函数名仅仅代表的是该函数在内存中存储的空间地址, 不代表执行该函数\n",
    "print(f'{greeting = }')\n",
    "result = greeting()\n",
    "print(f'{result = }')\n",
    "\n",
    "greeting()\n",
    "greeting()"
   ]
  },
  {
   "cell_type": "markdown",
   "id": "caa1b6d5-0b8a-41e5-b383-b75dc8fa7d4e",
   "metadata": {},
   "source": [
    "# 函数参数设计"
   ]
  },
  {
   "cell_type": "markdown",
   "id": "3a90e2db-52e8-412d-8e6c-3de9bffe0c25",
   "metadata": {},
   "source": [
    "* 没有传入参数也没有回传值的函数\n",
    "* 传递一个参数"
   ]
  },
  {
   "cell_type": "markdown",
   "id": "d7ea4eb0-e3b6-4e45-971b-62975ef78b1e",
   "metadata": {},
   "source": [
    "## Test02"
   ]
  },
  {
   "cell_type": "code",
   "execution_count": 2,
   "id": "fb6bdb25-6db5-4070-a723-ded4e86e0481",
   "metadata": {},
   "outputs": [
    {
     "name": "stdout",
     "output_type": "stream",
     "text": [
      "Hello 张三!\n",
      "Hello 李四!\n",
      "Hello 王五!\n"
     ]
    }
   ],
   "source": [
    "# 设计传递一个参数的函数\n",
    "def greeting(name):\n",
    "    '''打招呼函数 : 我的第一个Python函数设计'''\n",
    "    print(f'Hello {name}!')\n",
    "\n",
    "\n",
    "# 调用函数, 格式: 函数名()\n",
    "greeting('张三')\n",
    "greeting('李四')\n",
    "greeting('王五')"
   ]
  },
  {
   "cell_type": "markdown",
   "id": "0ae426dd-9422-4390-8164-8bb7963f9334",
   "metadata": {},
   "source": [
    "* 传递多个参数\n",
    "* 关键字参数：参数名称=值  \n",
    "所谓的关键词参数(keyword argumengs)是指调用函数时，参数是用参数名称=值配对方式呈现，本质上关键词参数是字典，Python也允许在调用需传递多个参数的函数时直接将参数名称=值用配对方式传送，这个时候参数的位置就不重要了。"
   ]
  },
  {
   "cell_type": "markdown",
   "id": "dfe9185b-01fd-4492-9375-f9f411530013",
   "metadata": {},
   "source": [
    "## Test03"
   ]
  },
  {
   "cell_type": "code",
   "execution_count": 3,
   "id": "ab6c9a3a-ef82-48ef-9e81-77d9b6cd12d1",
   "metadata": {},
   "outputs": [
    {
     "name": "stdout",
     "output_type": "stream",
     "text": [
      "张三的兴趣是: 旅游\n",
      "在旅游中, 最喜欢的是: 西藏\n",
      "李四的兴趣是: 美食\n",
      "在美食中, 最喜欢的是: 臭豆腐\n",
      "王五的兴趣是: 拍照\n",
      "在拍照中, 最喜欢的是: 小姐姐\n"
     ]
    }
   ],
   "source": [
    "# 多个参数\n",
    "def interest(name, interest_type, subject):\n",
    "    '''显示兴趣和主题'''\n",
    "    print(f'{name}的兴趣是: {interest_type}')\n",
    "    print(f'在{interest_type}中, 最喜欢的是: {subject}')\n",
    "\n",
    "\n",
    "# 调用的形式-默认根据位置传参\n",
    "interest('张三', '旅游', '西藏')\n",
    "interest('李四', '美食', '臭豆腐')\n",
    "\n",
    "# 关键字传参\n",
    "interest(interest_type='拍照', subject='小姐姐', name='王五')"
   ]
  },
  {
   "cell_type": "markdown",
   "id": "886516c9-40fc-4b2f-bcd7-e710701cd172",
   "metadata": {},
   "source": [
    "* 参数默认值的处理\n",
    "  \n",
    "如果调用的这个函数没有给参数值，函数的默认值将派上用场。  \n",
    "特别须留意：函数设计时含有默认值的参数，必须放置在参数列的最右边。"
   ]
  },
  {
   "cell_type": "markdown",
   "id": "ecedb493-f3f6-4b5d-8042-77a5966b18f3",
   "metadata": {},
   "source": [
    "## Test04"
   ]
  },
  {
   "cell_type": "code",
   "execution_count": 4,
   "id": "3096654c-35d8-4b73-9948-54e98ffbcdf1",
   "metadata": {},
   "outputs": [
    {
     "name": "stdout",
     "output_type": "stream",
     "text": [
      "张三的兴趣是: 旅游\n",
      "在旅游中, 最喜欢的是: 西藏\n",
      "李四的兴趣是: 美食\n",
      "在美食中, 最喜欢的是: 臭豆腐\n"
     ]
    }
   ],
   "source": [
    "# 设计函数的默认参数\n",
    "def interest(name, interest_type='旅游', subject='西藏'):\n",
    "    '''显示兴趣和主题'''\n",
    "    print(f'{name}的兴趣是: {interest_type}')\n",
    "    print(f'在{interest_type}中, 最喜欢的是: {subject}')\n",
    "\n",
    "\n",
    "# 调用的形式\n",
    "interest('张三')\n",
    "interest('李四', '美食', '臭豆腐')"
   ]
  },
  {
   "cell_type": "markdown",
   "id": "65e60840-36b2-4c47-87ab-303a957ab151",
   "metadata": {},
   "source": [
    "# 函数回传值"
   ]
  },
  {
   "cell_type": "markdown",
   "id": "30a9123b-956f-4081-883d-efceb1677a70",
   "metadata": {},
   "source": [
    "* 简单回传数值数据\n",
    "* 回传多个数据的应用（实质是回传tuple）\n",
    "* 函数回传字典数据   \n",
    "  函数除了可以回传数值或字符串数据外，也可以回传比较复杂的数据，例如：字典或列表等。\n",
    "* 回传None  \n",
    "  None在Python中独立称为一个数据类型NoneType，None在Python中时一个特殊的值，如果将它作为布尔值使用，可视为False。  \n",
    "  虽然None被视为False，可是False并不是None，其实空列表，空元组，空字典，空集合虽然是False，但它们也不是None。"
   ]
  },
  {
   "cell_type": "markdown",
   "id": "f78d241c-5a39-4a10-92c7-960370036597",
   "metadata": {},
   "source": [
    "## 简单回传数值数据"
   ]
  },
  {
   "cell_type": "markdown",
   "id": "94690c28-e19b-48db-8358-ec57c464727f",
   "metadata": {},
   "source": [
    "### Test05"
   ]
  },
  {
   "cell_type": "code",
   "execution_count": 5,
   "id": "2dfd4419-ff8e-45a2-8a72-954cc1e0c351",
   "metadata": {},
   "outputs": [
    {
     "name": "stdin",
     "output_type": "stream",
     "text": [
      "请输入两个整型数值,并用逗号分隔:  3,8\n",
      "请输入要执行的操作(1: 加法, 2: 减法) :  1\n"
     ]
    },
    {
     "name": "stdout",
     "output_type": "stream",
     "text": [
      "3 + 8 = 11\n"
     ]
    }
   ],
   "source": [
    "def substract(x, y):\n",
    "    '''减法设计'''\n",
    "    r = x - y\n",
    "    return r\n",
    "\n",
    "\n",
    "def addition(x, y):\n",
    "    '''加法设计'''\n",
    "    return x + y  # 简写\n",
    "\n",
    "\n",
    "# 提示用户输入\n",
    "a, b = eval(input('请输入两个整型数值,并用逗号分隔: '))         # eval默认可以使用逗号分割\n",
    "operation = input('请输入要执行的操作(1: 加法, 2: 减法) : ')\n",
    "if operation == '1':\n",
    "    # 如果调用的函数有返回值, 我们应该接收返回结果\n",
    "    result = addition(a, b)\n",
    "    print(f'{a} + {b} = {result}')\n",
    "elif operation == '2':\n",
    "    result = substract(a, b)\n",
    "    print(f'{a} - {b} = {result}')\n",
    "else:\n",
    "    print('操作有误!')"
   ]
  },
  {
   "cell_type": "markdown",
   "id": "f4ea88ee-faca-4fa8-a455-91cfaa9a2267",
   "metadata": {},
   "source": [
    "## 回传多个数据的应用（实质是回传tuple）"
   ]
  },
  {
   "cell_type": "markdown",
   "id": "e4ca7356-d1f7-4a5d-bb31-9fee80f8b348",
   "metadata": {},
   "source": [
    "### Test06"
   ]
  },
  {
   "cell_type": "code",
   "execution_count": 6,
   "id": "d904c749-7044-430f-9342-0754b299a2ea",
   "metadata": {},
   "outputs": [
    {
     "name": "stdin",
     "output_type": "stream",
     "text": [
      "请输入两个整型数值,并用逗号分隔:  3,8\n"
     ]
    },
    {
     "name": "stdout",
     "output_type": "stream",
     "text": [
      "result = (11, -5, 24, 0.375), <class 'tuple'>\n"
     ]
    }
   ],
   "source": [
    "# 设计一个函数, 实现多个数值的回传\n",
    "def simple_operation(x, y):\n",
    "    '''简单的数学四则运算:\n",
    "    x : 第一个整型数值\n",
    "    y : 第二个整型数值\n",
    "    return : 返回 x, y 运算的加减乘除'''\n",
    "    add = x + y\n",
    "    sub = x - y\n",
    "    mul = x * y\n",
    "    div = x / y\n",
    "    return add, sub, mul, div\n",
    "\n",
    "\n",
    "# 提示用户输入两个整型数值\n",
    "a, b = eval(input('请输入两个整型数值,并用逗号分隔: '))\n",
    "# 调用函数\n",
    "result = simple_operation(a, b)\n",
    "print(f'{result = }, {type(result)}')"
   ]
  },
  {
   "cell_type": "markdown",
   "id": "d9a83c66-4814-49d3-a78b-ea1e50869a18",
   "metadata": {},
   "source": [
    "# 函数回传字典数据"
   ]
  },
  {
   "cell_type": "markdown",
   "id": "232171fd-14b3-493d-9e15-63a14911922e",
   "metadata": {},
   "source": [
    "函数除了可以回传数值或字符串数据外，也可以回传比较复杂的数据，例如：字典或列表等。"
   ]
  },
  {
   "cell_type": "markdown",
   "id": "40f905ec-6b45-4269-926d-8bf9367c228b",
   "metadata": {},
   "source": [
    "## Test07"
   ]
  },
  {
   "cell_type": "code",
   "execution_count": 7,
   "id": "70c2539f-8b2b-48e8-9399-496056927ac7",
   "metadata": {},
   "outputs": [
    {
     "name": "stdin",
     "output_type": "stream",
     "text": [
      "请输入两个整型数值,并用逗号分隔:  3,8\n"
     ]
    },
    {
     "name": "stdout",
     "output_type": "stream",
     "text": [
      "result = {'add': 11, 'sub': -5, 'mul': 24, 'div': 0.375}, <class 'dict'>\n"
     ]
    }
   ],
   "source": [
    "# 设计一个函数, 实现多个数值的回传\n",
    "def simple_operation(x, y):\n",
    "    '''简单的数学四则运算:\n",
    "    x : 第一个整型数值\n",
    "    y : 第二个整型数值\n",
    "    return : 返回 x, y 运算的加减乘除'''\n",
    "    add = x + y\n",
    "    sub = x - y\n",
    "    mul = x * y\n",
    "    div = x / y\n",
    "    # 需求 : 回传字典类型的数据\n",
    "    data_dict = {'add': add, 'sub': sub, 'mul': mul, 'div': div}\n",
    "    return data_dict\n",
    "\n",
    "\n",
    "# 提示用户输入两个整型数值\n",
    "a, b = eval(input('请输入两个整型数值,并用逗号分隔: '))\n",
    "# 调用函数\n",
    "result = simple_operation(a, b)\n",
    "print(f'{result = }, {type(result)}')"
   ]
  },
  {
   "cell_type": "markdown",
   "id": "50ae0f86-9722-487d-9292-f95322b6b678",
   "metadata": {},
   "source": [
    "# 传递一般变量与列表变量到函数的区别"
   ]
  },
  {
   "cell_type": "markdown",
   "id": "2aa742f5-2034-48e0-b94d-725ab5488673",
   "metadata": {},
   "source": [
    "* 一般类型参数传递（整型，浮点型，字符串类型）\n",
    "* 容器类型参数传递（列表，字典，元组，集合）\n",
    "* 使用副本传递列表"
   ]
  },
  {
   "cell_type": "markdown",
   "id": "c1f13fa7-5b08-4578-82a0-bbbf446594b9",
   "metadata": {},
   "source": [
    "**一般类型参数传递（整型，浮点型，字符串类型）属于值传递。**"
   ]
  },
  {
   "cell_type": "markdown",
   "id": "203d8c4f-c99d-4b5f-93b0-912defb2a378",
   "metadata": {},
   "source": [
    "## Test08"
   ]
  },
  {
   "cell_type": "code",
   "execution_count": 8,
   "id": "6555e264-bef6-4e4b-9f12-2949242c1eec",
   "metadata": {},
   "outputs": [
    {
     "name": "stdout",
     "output_type": "stream",
     "text": [
      "Hello 张三!\n",
      "加油!\n",
      "Hello 李四!\n",
      "加油!\n",
      "Hello 王五!\n",
      "加油!\n",
      "Hello 赵六!\n",
      "加油!\n"
     ]
    }
   ],
   "source": [
    "def greeting(names):\n",
    "    '''打招呼函数 : names 表示列表类型的字符串数据'''\n",
    "    for name in names:\n",
    "        print(f'Hello {name}!')\n",
    "        print('加油!')\n",
    "\n",
    "\n",
    "# 定义一个列表\n",
    "names = ['张三', '李四', '王五', '赵六']\n",
    "greeting(names)"
   ]
  },
  {
   "cell_type": "markdown",
   "id": "505d610d-66fb-4099-8096-4e124488b96f",
   "metadata": {},
   "source": [
    "## Test09"
   ]
  },
  {
   "cell_type": "code",
   "execution_count": 9,
   "id": "56d4defa-7890-4029-b45a-1da0246916db",
   "metadata": {},
   "outputs": [
    {
     "name": "stdout",
     "output_type": "stream",
     "text": [
      "100\n"
     ]
    }
   ],
   "source": [
    "# 说明 : 在设计函数的参数时, 如果参数类型为一般基本数据类型, 则调用该函数时, 传递的是 `值`, 参数属于值传递\n",
    "def change_number(n):\n",
    "    n = 666\n",
    "\n",
    "x = 100\n",
    "# 调用函数\n",
    "change_number(x)\n",
    "print(x)"
   ]
  },
  {
   "cell_type": "markdown",
   "id": "fddabe4e-9595-40e0-93b5-e9461ed952ab",
   "metadata": {},
   "source": [
    "容器：列表list，字典dict，元组tuple，集合set，这些都是符合数据类型。函数参数传递都属于地址传递。"
   ]
  },
  {
   "cell_type": "markdown",
   "id": "c36e43fd-da86-4181-a31f-3271be56dca7",
   "metadata": {},
   "source": [
    "## Test10"
   ]
  },
  {
   "cell_type": "code",
   "execution_count": 10,
   "id": "c88d9627-7aac-4257-8f1b-b58c431d0974",
   "metadata": {},
   "outputs": [
    {
     "name": "stdout",
     "output_type": "stream",
     "text": [
      "139820377764416\n",
      "139820377764416\n",
      "[666]\n"
     ]
    }
   ],
   "source": [
    "# 定义一个函数, 实现参数类型为列表类型\n",
    "# 复杂/复合数据类型实现参数传递时, 属于 `地址传递`\n",
    "def change_number(n):\n",
    "    '''n表示列表数据类型'''\n",
    "    n[0] = 666\n",
    "    print(id(n))\n",
    "\n",
    "\n",
    "x = [100]\n",
    "# 调用函数\n",
    "print(id(x))\n",
    "change_number(x)\n",
    "print(x)"
   ]
  },
  {
   "cell_type": "markdown",
   "id": "8a810914-5d7a-4a5d-9002-30feb5d28939",
   "metadata": {},
   "source": [
    "**使用副本传递列表**"
   ]
  },
  {
   "cell_type": "markdown",
   "id": "b0ef4ba2-f14c-4d44-b6e8-e8128b6051fb",
   "metadata": {},
   "source": [
    "## Test11"
   ]
  },
  {
   "cell_type": "code",
   "execution_count": 11,
   "id": "8cff29e9-c2f6-479f-b1df-a30ac1abbd9e",
   "metadata": {},
   "outputs": [
    {
     "name": "stdout",
     "output_type": "stream",
     "text": [
      "下列是客户所有的餐品: \n",
      "北京烤鸭 四川麻婆豆腐 西湖醋鱼 飞龙汤 无为熏鸭 东坡肉 腊味合蒸 辣子鸡 东安子鸡 清蒸武昌鱼 \n",
      "下列是所有已经服务的餐品:\n",
      "**** 没有任何餐品 ****\n",
      "\n",
      "--------------------------------------------------\n",
      "厨房正在制作客户所点餐点...\n",
      "正在制作: 清蒸武昌鱼\n",
      "正在制作: 东安子鸡\n",
      "正在制作: 辣子鸡\n",
      "正在制作: 腊味合蒸\n",
      "正在制作: 东坡肉\n",
      "正在制作: 无为熏鸭\n",
      "正在制作: 飞龙汤\n",
      "正在制作: 西湖醋鱼\n",
      "正在制作: 四川麻婆豆腐\n",
      "正在制作: 北京烤鸭\n",
      "--------------------------------------------------\n",
      "下列是客户所有的餐品: \n",
      "北京烤鸭 四川麻婆豆腐 西湖醋鱼 飞龙汤 无为熏鸭 东坡肉 腊味合蒸 辣子鸡 东安子鸡 清蒸武昌鱼 \n",
      "下列是所有已经服务的餐品:\n",
      "清蒸武昌鱼 东安子鸡 辣子鸡 腊味合蒸 东坡肉 无为熏鸭 飞龙汤 西湖醋鱼 四川麻婆豆腐 北京烤鸭 \n"
     ]
    }
   ],
   "source": [
    "def kitchen(unserved, served):\n",
    "    '''将所有未服务的餐品转换为已服务的餐品'''\n",
    "    print('厨房正在制作客户所点餐点...')\n",
    "    # 循环遍历 unserved 未服务的餐品列表\n",
    "    while unserved:\n",
    "        # 取出一个餐品\n",
    "        current_meal = unserved.pop()\n",
    "        # 模拟出餐的过程\n",
    "        print(f'正在制作: {current_meal}')\n",
    "        # 将制作完毕的餐品转入到已服务的餐品列表中\n",
    "        served.append(current_meal)\n",
    "\n",
    "\n",
    "def show_order_meal(unserved):\n",
    "    '''显示客户所有点的餐品'''\n",
    "    print('下列是客户所有的餐品: ')\n",
    "    # 判断\n",
    "    if not unserved:\n",
    "        print('**** 没有任何未服务的餐品 ****')\n",
    "    for meal in unserved:\n",
    "        print(meal, end=' ')\n",
    "    print()\n",
    "\n",
    "\n",
    "def show_served_meal(served):\n",
    "    '''显示所有已经服务的餐品'''\n",
    "    print('下列是所有已经服务的餐品:')\n",
    "    # 判断\n",
    "    if not served:\n",
    "        print('**** 没有任何餐品 ****')\n",
    "    for meal in served:\n",
    "        print(meal, end=' ')\n",
    "    print()\n",
    "\n",
    "\n",
    "\n",
    "# 所点餐点\n",
    "order_list = ['北京烤鸭', '四川麻婆豆腐', '西湖醋鱼', '飞龙汤', '无为熏鸭', '东坡肉', '腊味合蒸', '辣子鸡', '东安子鸡', '清蒸武昌鱼']\n",
    "# 定义一个制作完毕的餐品列表\n",
    "served_list = []\n",
    "\n",
    "# 查看制作前的所有餐品\n",
    "show_order_meal(order_list)\n",
    "# 查看所有的服务餐品\n",
    "show_served_meal(served_list)\n",
    "\n",
    "print('-' * 50)\n",
    "\n",
    "# 将餐品传递给厨房实现餐品的制作\n",
    "# 注意 : 在传递 order_list 列表时, 应该传递该列表的复制品  (列表切片复制)\n",
    "kitchen(order_list[:], served_list)\n",
    "\n",
    "print('-' * 50)\n",
    "\n",
    "# 制作完毕后, 再次查看所有服务与未服务的餐品列表\n",
    "show_order_meal(order_list)\n",
    "show_served_meal(served_list)"
   ]
  },
  {
   "cell_type": "markdown",
   "id": "1226e93c-1ce3-4541-acb4-ecf1804e86e7",
   "metadata": {},
   "source": [
    "# 传递列表的提醒"
   ]
  },
  {
   "cell_type": "markdown",
   "id": "59b4b68c-0314-4f5c-8c61-0f988aaa73ca",
   "metadata": {},
   "source": [
    "函数传递列表时有一点必须留意，假设参数列表的默认值是空列表或是有元素的列表，在重复调用过程预设列表会遗留先前调用的内容。"
   ]
  },
  {
   "cell_type": "markdown",
   "id": "a2cca94a-d063-48d8-a3a4-bffe86863344",
   "metadata": {},
   "source": [
    "## Test12"
   ]
  },
  {
   "cell_type": "code",
   "execution_count": 12,
   "id": "dea542b2-7b26-4d89-9bed-9e2251ef1c39",
   "metadata": {},
   "outputs": [
    {
     "name": "stdout",
     "output_type": "stream",
     "text": [
      "[666, 888, 1]\n",
      "[666, 888, 1, 2]\n",
      "[666, 888, 1, 2, 3]\n"
     ]
    }
   ],
   "source": [
    "def insert_number(number, my_list=[666, 888]):\n",
    "    my_list.append(number)\n",
    "    print(my_list)\n",
    "\n",
    "\n",
    "# 调用函数\n",
    "insert_number(1)\n",
    "\n",
    "# 多次调用\n",
    "insert_number(2)\n",
    "insert_number(3)"
   ]
  },
  {
   "cell_type": "markdown",
   "id": "999c4a88-06be-411a-9ab9-e5c0c4cf8d8f",
   "metadata": {},
   "source": [
    "## Test13"
   ]
  },
  {
   "cell_type": "code",
   "execution_count": 13,
   "id": "99c03a01-d1ad-46da-8109-ee513e21101c",
   "metadata": {},
   "outputs": [
    {
     "name": "stdout",
     "output_type": "stream",
     "text": [
      "[666, 888, 1]\n",
      "[10, 20, 30, 40, 50, 2]\n",
      "[3]\n"
     ]
    }
   ],
   "source": [
    "def insert_number(number, my_list=None):\n",
    "    # 判断, 如果列表为空, 则在调用函数时创建一个空列表\n",
    "    if my_list is None:\n",
    "        my_list = []\n",
    "    my_list.append(number)\n",
    "    print(my_list)\n",
    "\n",
    "\n",
    "# 创建一个列表\n",
    "number_list = [666, 888]\n",
    "# 调用函数\n",
    "insert_number(1, number_list)\n",
    "\n",
    "number2_list = [10, 20, 30, 40, 50]\n",
    "# 多次调用\n",
    "insert_number(2, number2_list)\n",
    "insert_number(3)"
   ]
  },
  {
   "cell_type": "markdown",
   "id": "7cec315e-1a33-43a9-a2c6-b60cc7cf546c",
   "metadata": {},
   "source": [
    "# 传递任意数量的参数"
   ]
  },
  {
   "cell_type": "markdown",
   "id": "d1bded89-a9f5-46cc-bef9-4cda487dde90",
   "metadata": {},
   "source": [
    "在设计Python的函数是，有时候可能会碰上不知道会有多少个参数会传递到这个函数，此时可以用下列方式设计。"
   ]
  },
  {
   "cell_type": "markdown",
   "id": "1595911d-dd1d-4eea-adf0-0f5415e98943",
   "metadata": {},
   "source": [
    "## Test14"
   ]
  },
  {
   "cell_type": "code",
   "execution_count": 14,
   "id": "9604da34-23c1-4b98-92ed-f37b47883363",
   "metadata": {},
   "outputs": [
    {
     "name": "stdout",
     "output_type": "stream",
     "text": [
      "('草莓酱',), <class 'tuple'>\n",
      "冰激凌所添加的配料如下: \n",
      "草莓酱\n",
      "('草莓酱', '葡萄干', '巧克力碎片'), <class 'tuple'>\n",
      "冰激凌所添加的配料如下: \n",
      "草莓酱\n",
      "葡萄干\n",
      "巧克力碎片\n"
     ]
    }
   ],
   "source": [
    "# 制作冰激凌\n",
    "# * 表示可以接收多个参数 (0个或任意个)  args => arguments 形式参数 (形参)\n",
    "def make_icecream(*args):\n",
    "    '''列出制作冰激凌的配料'''\n",
    "    print(f'{args}, {type(args)}')  # 元组类型的参数\n",
    "    print('冰激凌所添加的配料如下: ')\n",
    "    for topping in args:\n",
    "        print(topping)\n",
    "\n",
    "\n",
    "make_icecream('草莓酱')\n",
    "make_icecream('草莓酱', '葡萄干', '巧克力碎片')"
   ]
  },
  {
   "cell_type": "markdown",
   "id": "30376749-b722-4b53-b9fe-a8e378a93310",
   "metadata": {},
   "source": [
    "# 设计含有一般参数与任意数量参数的函数"
   ]
  },
  {
   "cell_type": "markdown",
   "id": "14bdf868-b565-4010-a2d7-68d45c8252e7",
   "metadata": {},
   "source": [
    "程序设计时有时会遇上需要传递一般参数与任意数量参数，碰上这类状况，任意数量的参数必须放在最右边。"
   ]
  },
  {
   "cell_type": "markdown",
   "id": "fc06a695-7b2f-47eb-b665-738c06510e12",
   "metadata": {},
   "source": [
    "## Test15"
   ]
  },
  {
   "cell_type": "code",
   "execution_count": 15,
   "id": "7493f770-3a2b-4872-8f25-c1097b1dd754",
   "metadata": {},
   "outputs": [
    {
     "name": "stdout",
     "output_type": "stream",
     "text": [
      "('草莓酱',), <class 'tuple'>\n",
      "冰激凌所添加的配料如下: \n",
      "草莓酱\n",
      "('草莓酱', '葡萄干', '巧克力碎片'), <class 'tuple'>\n",
      "冰激凌所添加的配料如下: \n",
      "草莓酱\n",
      "葡萄干\n",
      "巧克力碎片\n"
     ]
    }
   ],
   "source": [
    "# 设计函数时, 实现一般参数与任意参数结合的参数列表 -- 至少传一个参数\n",
    "def make_icecream(icecream_type, *args):\n",
    "    '''列出制作冰激凌的配料'''\n",
    "    print(f'{args}, {type(args)}')\n",
    "    print('冰激凌所添加的配料如下: ')\n",
    "    for topping in args:\n",
    "        print(topping)\n",
    "\n",
    "\n",
    "make_icecream('香草', '草莓酱')\n",
    "make_icecream('芒果', '草莓酱', '葡萄干', '巧克力碎片')"
   ]
  },
  {
   "cell_type": "markdown",
   "id": "a2e4fcc0-7187-489b-8dca-6ede5336da42",
   "metadata": {},
   "source": [
    "# 设计含有一般参数与任意数量的关键词参数"
   ]
  },
  {
   "cell_type": "markdown",
   "id": "f21bc22f-5fa2-4018-8428-23a08092411a",
   "metadata": {},
   "source": [
    "我们可以设计含任意数量关键词参数的函数，方法是在函数内使用**kwargs（kwargs是程序设计师可以自行命名的参数，可以想成keyword arguments)这是关键词参数将会变成任意数量的字典元素，其中自变量是键，对应的值是字典的值。"
   ]
  },
  {
   "cell_type": "markdown",
   "id": "c68d787c-1db1-4248-b106-ade611b66204",
   "metadata": {},
   "source": [
    "## Test16"
   ]
  },
  {
   "cell_type": "code",
   "execution_count": 16,
   "id": "33f15092-1109-4b0d-99b8-634dd54df543",
   "metadata": {},
   "outputs": [
    {
     "name": "stdout",
     "output_type": "stream",
     "text": [
      "{'chinese': 90, 'math': 90, 'english': 59, 'python': 100}, <class 'dict'>\n",
      "{'name': '张三', 'age': 20, 'chinese': 90, 'math': 90, 'english': 59, 'python': 100}\n",
      "{'chinese': 89, 'math': 90, 'english': 99, 'python': 98}, <class 'dict'>\n",
      "{'name': '李四', 'age': 18, 'chinese': 89, 'math': 90, 'english': 99, 'python': 98}\n"
     ]
    }
   ],
   "source": [
    "# ** 表示关键词参数, 相当于 `键值对` 参数\n",
    "# kwargs => keyword arguments 关键词/关键字形参\n",
    "def build_dict(name, age, **kwargs):\n",
    "    '''建立学生成绩字典数据'''\n",
    "    score = {}\n",
    "    score['name'] = name\n",
    "    score['age'] = age\n",
    "    print(f'{kwargs}, {type(kwargs)}')      # 字典数据类型\n",
    "    # 遍历 kwargs 字典类型的数据\n",
    "    for key, value in kwargs.items():\n",
    "        score[key] = value\n",
    "    # 循环结束后, 将 score 字典返回\n",
    "    return score\n",
    "\n",
    "\n",
    "zhangsan_dict = build_dict('张三', 20, chinese=90, math=90, english=59, python=100)\n",
    "print(zhangsan_dict)\n",
    "\n",
    "score_dict = {'chinese': 89, 'math': 90, 'english': 99, 'python': 98}\n",
    "lisi_dict = build_dict('李四', 18, **score_dict)\n",
    "print(lisi_dict)"
   ]
  },
  {
   "cell_type": "markdown",
   "id": "8594dc1f-a013-4a25-8e77-a37851f9fd1e",
   "metadata": {},
   "source": [
    "# 进一步认识函数"
   ]
  },
  {
   "cell_type": "markdown",
   "id": "553643ac-2fe4-42d9-9651-3fe454c8ebe8",
   "metadata": {},
   "source": [
    "在Python中所有东西皆是对象，例如：字符串，列表，字典等。甚至函数也是对象，我们可以将函数赋值给一个变量，也可以将函数当做参数传送，甚至将函数回传．当然也可以动态建立或是销毁．这让Python使用起来非常灵活，也可以做其它程序语言无法做到的事情，但是其实也多了一些理解的难度。"
   ]
  },
  {
   "cell_type": "markdown",
   "id": "138a8cb2-95b6-494e-98aa-d7b5c979de29",
   "metadata": {},
   "source": [
    "## 函数文件字符串Docstring"
   ]
  },
  {
   "cell_type": "markdown",
   "id": "68b8d320-c46f-4c62-b4f7-c2a3ae201d63",
   "metadata": {},
   "source": [
    "### Test17"
   ]
  },
  {
   "cell_type": "code",
   "execution_count": 17,
   "id": "62b52cc4-cfd8-41c3-afe0-23333285580c",
   "metadata": {},
   "outputs": [
    {
     "name": "stdout",
     "output_type": "stream",
     "text": [
      "Help on function build_dict in module __main__:\n",
      "\n",
      "build_dict(name, age, **kwargs)\n",
      "    建立学生成绩字典数据\n",
      "    name : 学生姓名\n",
      "    age : 学生年龄\n",
      "    kwargs : 学生各科成绩数据\n",
      "\n",
      "\n",
      "    建立学生成绩字典数据\n",
      "    name : 学生姓名\n",
      "    age : 学生年龄\n",
      "    kwargs : 学生各科成绩数据\n",
      "    \n"
     ]
    }
   ],
   "source": [
    "def build_dict(name, age, **kwargs):\n",
    "    '''\n",
    "    建立学生成绩字典数据\n",
    "    name : 学生姓名\n",
    "    age : 学生年龄\n",
    "    kwargs : 学生各科成绩数据\n",
    "    '''\n",
    "    score = {}\n",
    "    score['name'] = name\n",
    "    score['age'] = age\n",
    "    print(f'{kwargs}, {type(kwargs)}')\n",
    "    # 遍历 kwargs 字典类型的数据\n",
    "    for key, value in kwargs.items():\n",
    "        score[key] = value\n",
    "    # 循环结束后, 将 score 字典返回\n",
    "    return score\n",
    "\n",
    "# 查看文档字符串 (Document String)\n",
    "# 函数名 : 地址\n",
    "# 函数名() -> 这是函数调用\n",
    "help(build_dict)\n",
    "\n",
    "# 查看函数的注释\n",
    "print(build_dict.__doc__)"
   ]
  },
  {
   "cell_type": "markdown",
   "id": "6772f15c-9d84-4c21-8b9b-5031df220b95",
   "metadata": {},
   "source": [
    "## 函数是一个对象"
   ]
  },
  {
   "cell_type": "markdown",
   "id": "8a426386-3799-4ad9-a20f-754991959635",
   "metadata": {},
   "source": [
    "### Test18"
   ]
  },
  {
   "cell_type": "code",
   "execution_count": 18,
   "id": "b8c4046a-5ea6-479f-8689-a98f9fa0fa7c",
   "metadata": {},
   "outputs": [
    {
     "name": "stdout",
     "output_type": "stream",
     "text": [
      "HELLO WORLD\n",
      "HELLO WORLD\n",
      "a = <function upper_str at 0x7f2a77f5cae0>, upper_str = <function upper_str at 0x7f2a77f5cae0>\n",
      "type(a) = <class 'function'>, type(upper_str) = <class 'function'>\n"
     ]
    }
   ],
   "source": [
    "# 定义一个函数\n",
    "def upper_str(text):\n",
    "    return text.upper()\n",
    "\n",
    "# 调用\n",
    "print(upper_str('hello world'))\n",
    "\n",
    "# 既然函数也是一个对象, 所以函数可以赋值给另外一个变量\n",
    "# 对象就是内存中的一个 `地址`\n",
    "a = upper_str\n",
    "\n",
    "print(a('hello world'))\n",
    "\n",
    "print(f'{a = }, {upper_str = }')\n",
    "print(f'{type(a) = }, {type(upper_str) = }')"
   ]
  },
  {
   "cell_type": "markdown",
   "id": "b0e0befb-0fec-45ed-a04a-88699a412b1e",
   "metadata": {},
   "source": [
    "## 函数可以是数据结构成员"
   ]
  },
  {
   "cell_type": "markdown",
   "id": "b8c4ffa5-ec27-4639-9353-58a42a1b3bd9",
   "metadata": {},
   "source": [
    "函数既然可以是一个对象，就可以将函数当做数据结构（例如：列表，元组等）的元素，自然那也可以迭代这些函数，这个概念可以应用在自建函数或内置函数。"
   ]
  },
  {
   "cell_type": "markdown",
   "id": "0d2c2e3a-bb19-436b-9a60-41c26bdf02be",
   "metadata": {},
   "source": [
    "### Test19"
   ]
  },
  {
   "cell_type": "code",
   "execution_count": 19,
   "id": "9510c103-8bb5-4e4a-bb18-fd6f71c77c10",
   "metadata": {},
   "outputs": [
    {
     "name": "stdout",
     "output_type": "stream",
     "text": [
      "<built-in function min> 1\n",
      "<built-in function max> 5\n",
      "<built-in function sum> 15\n",
      "<function multiply at 0x7f2a77f5c720> 120\n"
     ]
    }
   ],
   "source": [
    "# 自定义一个函数\n",
    "def multiply(data):\n",
    "    result = 1\n",
    "    for i in data:\n",
    "        result *= i\n",
    "    return result\n",
    "\n",
    "\n",
    "x = (1, 2, 3, 4, 5)\n",
    "# 系统的内置（built-in）函数  min, max, sum ...\n",
    "math_list = [min, max, sum, multiply]\n",
    "for func in math_list:\n",
    "    # func 函数名称   func() 调用函数, 注意调用时需要传递参数\n",
    "    print(func, func(x))"
   ]
  },
  {
   "cell_type": "markdown",
   "id": "c01afb8f-a86e-41b0-9b81-3dbb7c7646f8",
   "metadata": {},
   "source": [
    "## 函数可以当作参数传递给其他函数"
   ]
  },
  {
   "cell_type": "markdown",
   "id": "d99c468d-05f4-4f7a-9f0b-71e732348987",
   "metadata": {},
   "source": [
    "在Python中函数也可以当作参数被传递给其他函数，当函数当做参数传递时，可以不用加上0符号，这样Python就可以将函数当做对象处理，如果加上括号，会被视为调用这个函数。"
   ]
  },
  {
   "cell_type": "markdown",
   "id": "a0ad7bfb-c1e9-4753-a494-12c1b935f12a",
   "metadata": {},
   "source": [
    "### Test20"
   ]
  },
  {
   "cell_type": "code",
   "execution_count": 20,
   "id": "709be04a-b1e8-4b49-bd61-743a11aa0b88",
   "metadata": {},
   "outputs": [
    {
     "name": "stdout",
     "output_type": "stream",
     "text": [
      "r1 = 30\n",
      "r2 = 200\n"
     ]
    }
   ],
   "source": [
    "def add(x, y):\n",
    "    return x + y\n",
    "\n",
    "def mul(x, y):\n",
    "    return x * y\n",
    "\n",
    "# func : function 函数/功能\n",
    "def running(func, arg1, arg2):\n",
    "    # 调用传入的 func 函数, 并将参数传递给 func 函数\n",
    "    return func(arg1, arg2)\n",
    "\n",
    "# 函数可以作为参数实现传递\n",
    "r1 = running(add, 10, 20)\n",
    "print(f'{r1 = }')\n",
    "\n",
    "r2 = running(mul, 10, 20)\n",
    "print(f'{r2 = }')"
   ]
  },
  {
   "cell_type": "markdown",
   "id": "335ec16e-d4a9-4022-b43b-4f19c790bd61",
   "metadata": {},
   "source": [
    "## 函数当参数与*args不定量的参数"
   ]
  },
  {
   "cell_type": "markdown",
   "id": "2ecb3049-7ace-424c-9f44-2eb55da8ef1b",
   "metadata": {},
   "source": [
    "将函数当做传递参数使用，其实也可以配合*args（不定量参数）与**kwargs（键值对不定量参数）共同使用。"
   ]
  },
  {
   "cell_type": "markdown",
   "id": "5b770477-5920-4921-b875-8840b279f393",
   "metadata": {},
   "source": [
    "### Test21"
   ]
  },
  {
   "cell_type": "code",
   "execution_count": 21,
   "id": "5b0d1bb3-63ab-42ee-9bbd-7e257b840407",
   "metadata": {},
   "outputs": [
    {
     "name": "stdout",
     "output_type": "stream",
     "text": [
      "120\n"
     ]
    }
   ],
   "source": [
    "def multiply(*args):\n",
    "    mul = 1\n",
    "    for i in args:\n",
    "        mul = mul * i\n",
    "    return mul\n",
    "\n",
    "\n",
    "def run_multiply_args(func, *args):\n",
    "    return func(*args)\n",
    "\n",
    "\n",
    "# 调用函数\n",
    "result = run_multiply_args(multiply, 1, 2, 3, 4, 5)\n",
    "print(result)"
   ]
  },
  {
   "cell_type": "markdown",
   "id": "1f169ec4-dd70-4ef9-84ed-4d24bb11df97",
   "metadata": {},
   "source": [
    "## 嵌套函数"
   ]
  },
  {
   "cell_type": "markdown",
   "id": "2e3e430d-e251-48ff-8e61-61bfbd31feba",
   "metadata": {},
   "source": [
    "所谓的嵌套函数是指函数内部也可以有函数，有时候可以利用这个特性执行复杂的运算，嵌套函数也具有可重复使用，封装，隐藏数据的效果。"
   ]
  },
  {
   "cell_type": "markdown",
   "id": "4f010168-09f8-4da3-8a5e-710f155359e4",
   "metadata": {},
   "source": [
    "### Test22"
   ]
  },
  {
   "cell_type": "code",
   "execution_count": 22,
   "id": "68f56354-046f-4e58-887d-ab7fb77d1bee",
   "metadata": {},
   "outputs": [
    {
     "name": "stdout",
     "output_type": "stream",
     "text": [
      "result = 5.0\n"
     ]
    }
   ],
   "source": [
    "# 嵌套函数\n",
    "def distance(x1, y1, x2, y2):\n",
    "    # 定义一个开根的内部函数\n",
    "    def my_sqrt(z):\n",
    "        return z ** 0.5\n",
    "    dx = (x1 - x2) ** 2\n",
    "    dy = (y1 - y2) ** 2\n",
    "    return my_sqrt(dx + dy)\n",
    "\n",
    "# 调用函数\n",
    "result = distance(3, 7, 6, 3)\n",
    "print(f'{result = }')"
   ]
  },
  {
   "cell_type": "markdown",
   "id": "11f655d5-d4d4-4be2-8e8d-b12ce54a75ba",
   "metadata": {},
   "source": [
    "## 函数也可以当作回传值"
   ]
  },
  {
   "cell_type": "markdown",
   "id": "c5d0f77a-2feb-4918-a3b9-8ed45c8d9e86",
   "metadata": {},
   "source": [
    "在嵌套函数的应用中，常常会应用到将一个内层函数当做回传值，这时所回传的是内层函数的内存地址。"
   ]
  },
  {
   "cell_type": "markdown",
   "id": "3b93b401-ec55-4dc6-a888-fe0c2374068f",
   "metadata": {},
   "source": [
    "### Test23"
   ]
  },
  {
   "cell_type": "code",
   "execution_count": 23,
   "id": "cfc787ff-d0ea-4d11-8b20-93b20bf96dd1",
   "metadata": {},
   "outputs": [
    {
     "name": "stdout",
     "output_type": "stream",
     "text": [
      "outer running ...\n",
      "func = <function outer.<locals>.inner at 0x7f2a77f5d300>\n",
      "inner running ... <function outer.<locals>.inner at 0x7f2a77f5d300>\n",
      "result = 55\n"
     ]
    }
   ],
   "source": [
    "def outer():\n",
    "    print('outer running ...')\n",
    "    # inner() 函数主要实现 1~n 之间的整型数值累加\n",
    "    def inner(n):\n",
    "        print('inner running ...', inner)       # inner 函数名字其实就是地址\n",
    "        return sum(range(1, n+1))\n",
    "    # 函数可以作为回传值\n",
    "    return inner\n",
    "\n",
    "# 调用函数, 但是返回的结果也是一个函数\n",
    "func = outer()\n",
    "print(f'{func = }')\n",
    "\n",
    "# func() 其实调用的是 inner() 这个函数\n",
    "result = func(10)\n",
    "print(f'{result = }')"
   ]
  },
  {
   "cell_type": "markdown",
   "id": "46401acd-a698-46ed-8987-cedec812904a",
   "metadata": {},
   "source": [
    "## 闭包closure"
   ]
  },
  {
   "cell_type": "markdown",
   "id": "ae6c9590-8110-46b2-903f-b870fdf915c2",
   "metadata": {},
   "source": [
    "内部函数是一个动态产生的程序，当它可以记住函数以外的程序所建立的环境变量值时，我们称这个内部函数是闭包（closure）。  "
   ]
  },
  {
   "cell_type": "markdown",
   "id": "13aa5383-ee07-4b6f-9948-5509bd501d0b",
   "metadata": {},
   "source": [
    "### Test24"
   ]
  },
  {
   "cell_type": "code",
   "execution_count": 24,
   "id": "74ae81d5-586b-4ffa-8057-42547df3c55d",
   "metadata": {},
   "outputs": [
    {
     "name": "stdout",
     "output_type": "stream",
     "text": [
      "15\n",
      "60\n"
     ]
    }
   ],
   "source": [
    "# 实现计算一次函数 : 5x + 10\n",
    "# kx + b  => k 是斜率  b 是截距\n",
    "def outer():\n",
    "    # 外部函数的变量\n",
    "    b = 10\n",
    "    def inner(x):\n",
    "        return 5 * x + b\n",
    "    # 返回内部函数对象\n",
    "    return inner  # 没有小括号()，不会调用；取决于什么时候调\n",
    "\n",
    "\n",
    "# 调用函数\n",
    "func = outer()      # func 就是线性函数  f(x) = 5x + 10\n",
    "\n",
    "print(func(1))\n",
    "print(func(10))"
   ]
  },
  {
   "cell_type": "markdown",
   "id": "42ee402f-4bfc-4799-a18c-4b0ec825170d",
   "metadata": {},
   "source": [
    "一个线性函数kx+b的闭包说明。"
   ]
  },
  {
   "cell_type": "markdown",
   "id": "748bfa31-ca8f-47b5-8072-ea6c92cb563f",
   "metadata": {},
   "source": [
    "### Test25"
   ]
  },
  {
   "cell_type": "code",
   "execution_count": 25,
   "id": "fa675c0e-fc7e-447f-b15d-2644195e183a",
   "metadata": {},
   "outputs": [
    {
     "name": "stdout",
     "output_type": "stream",
     "text": [
      "7\n",
      "12\n",
      "19\n",
      "34\n"
     ]
    }
   ],
   "source": [
    "# 定义一个灵活的线性函数\n",
    "def outer(k, b):\n",
    "    def inner(x):\n",
    "        return k * x + b\n",
    "    return inner\n",
    "\n",
    "\n",
    "# 调用\n",
    "func1 = outer(1, 2)        # f(x) = x + 2\n",
    "print(func1(5))\n",
    "print(func1(10))\n",
    "\n",
    "# 在这里我们发现程序代码可以重复使用, 此外如果没有闭包(closure), 我们就需要传递 k, b, x 参数\n",
    "# 所以 closure 可以让程序设计更有效率, 同时未来扩充时程序可以更容易移植\n",
    "func2 = outer(3, 4)         # f(x) = 3x + 4\n",
    "print(func2(5))\n",
    "print(func2(10))"
   ]
  },
  {
   "cell_type": "markdown",
   "id": "e1d3a5ba-fc7f-476f-81ee-a01d60a6d6a6",
   "metadata": {},
   "source": [
    "## 递归式函数设计recursive"
   ]
  },
  {
   "cell_type": "markdown",
   "id": "71a8d8f7-afcf-4dc3-adce-589164d9b032",
   "metadata": {},
   "source": [
    "一个函数可以调用其他函数也可以调用自己，其中调用本身的动作称递归式(recursive)调用，递归式调用有下列特色。  \n",
    "\n",
    "（1）每次调用自己时，都会使范围越来越小；  \n",
    "（2）必须要有一个终止的条件来结束递归函数。\n",
    "\n",
    "递归函数可以使程序变得很简洁，但是设计这类程序一不小心就很容易掉入无限循环的陷阱，所以使用这类函数时一定要特别小心，递归函数最常见的应用是处理正整数的阶乘（factorial)，一个正整数的阶乘是所有小于以及等于该数的正整数的积，同时如果正整数是0则阶乘为1，依照概念正整数是1时阶乘也是1，此阶乘数字的表示法为n！\n",
    "\n",
    "Python预设最大递归次数为1000次，我们可以先导入sys模块实现查看．"
   ]
  },
  {
   "cell_type": "markdown",
   "id": "2c74d420-4ac6-42e9-8f63-fc113e43200c",
   "metadata": {},
   "source": [
    "### Test26"
   ]
  },
  {
   "cell_type": "code",
   "execution_count": 26,
   "id": "cbe979e4-e520-46c8-bf55-e88899c9400f",
   "metadata": {},
   "outputs": [
    {
     "name": "stdout",
     "output_type": "stream",
     "text": [
      "r1 = 120\n",
      "r2 = 120\n",
      "r3 = 120\n"
     ]
    }
   ],
   "source": [
    "# 求 5 的阶乘 (5!)\n",
    "\n",
    "# 方式一\n",
    "r1 = 5 * 4 * 3 * 2 * 1\n",
    "print(f'{r1 = }')\n",
    "\n",
    "# 方式二\n",
    "r2 = 1\n",
    "for i in range(5, 0, -1):  \n",
    "    r2 *= i\n",
    "print(f'{r2 = }')\n",
    "\n",
    "# 方式三 (递归函数实现阶乘)\n",
    "def factorial(n):\n",
    "    if n == 1:\n",
    "        # 程序进到这里, 就是求 1! = 1\n",
    "        return 1\n",
    "    else:\n",
    "        return n * factorial(n-1)\n",
    "\n",
    "\n",
    "# 外部调用\n",
    "n = 5\n",
    "r3 = factorial(n)\n",
    "print(f'{r3 = }')"
   ]
  },
  {
   "cell_type": "code",
   "execution_count": 27,
   "id": "31af2d7e-70fd-4645-b279-d16b0e5daa00",
   "metadata": {},
   "outputs": [
    {
     "name": "stdout",
     "output_type": "stream",
     "text": [
      "5\n",
      "4\n",
      "3\n",
      "2\n",
      "1\n"
     ]
    }
   ],
   "source": [
    "for i in range(5, 0, -1):print(i)"
   ]
  },
  {
   "cell_type": "markdown",
   "id": "0b656a4c-3481-4de1-9604-d8a923f59f11",
   "metadata": {},
   "source": [
    "## Test27"
   ]
  },
  {
   "cell_type": "code",
   "execution_count": 28,
   "id": "efae4729-bb9b-427f-a2e9-5d00be4757c2",
   "metadata": {},
   "outputs": [
    {
     "name": "stdout",
     "output_type": "stream",
     "text": [
      "limit = 2000\n"
     ]
    }
   ],
   "source": [
    "# 导入 sys 模块 (Python内置模块)\n",
    "import sys\n",
    "\n",
    "# 修改递归的默认限制\n",
    "sys.setrecursionlimit(2000)  # 可以设定指定的递归深度\n",
    "\n",
    "# 递归的最大深度\n",
    "limit = sys.getrecursionlimit()    # 默认是3000\n",
    "print(f'{limit = }')"
   ]
  },
  {
   "cell_type": "markdown",
   "id": "2abcadf6-6781-435c-a0ab-e03d579b42fa",
   "metadata": {},
   "source": [
    "# 函数设计"
   ]
  },
  {
   "cell_type": "markdown",
   "id": "9445c458-438a-4559-b772-5c8371d833a6",
   "metadata": {},
   "source": [
    "## 局部变量与全局变量"
   ]
  },
  {
   "cell_type": "markdown",
   "id": "69e85412-081e-4d83-a456-1934f1644ca2",
   "metadata": {},
   "source": [
    "在设计函数时，另一个重点是适当地使用变量名称，某个变量只有在该函数内使用，影响范围限定在这个函数内，这个变量称局部变量（local variable），如果某个变量的影响范围是在整个程序，则这个变量称全局变量（global variable）。   \n",
    "\n",
    "Python程序在调用函数时会建立一个内存工作区间，在这个内存工作区间可以处理属于这个函数的变量，当函数工作结束，返回原先调用程序时这个内存工作区间就被收回，原先存在的变量也将销毁，这也是为何局部变量的影响范围只限定在所属的函数内。  \n",
    "\n",
    "对于全局变量而言，一般是在主程序内建立程序在执行时，不仅主程序可以引用，所有属于这个程序的函数也可以引用，所以它的影响范围是整个程序，直到整个程序执行结束。  \n"
   ]
  },
  {
   "cell_type": "markdown",
   "id": "e6045b1c-f18d-481f-b901-d14dd5e16ad2",
   "metadata": {},
   "source": [
    "### Test28"
   ]
  },
  {
   "cell_type": "code",
   "execution_count": 29,
   "id": "d984ebb3-46f8-4d55-9e30-0ce3c198f570",
   "metadata": {},
   "outputs": [
    {
     "name": "stdout",
     "output_type": "stream",
     "text": [
      "主函数: Global Variable\n",
      "自定义函数: Global Variable, a = 666\n"
     ]
    }
   ],
   "source": [
    "def func():\n",
    "    a = 666\n",
    "    print(f'自定义函数: {msg}, {a = }')\n",
    "\n",
    "\n",
    "# 主函数\n",
    "# 主函数中定义的变量属于全局变量\n",
    "msg = 'Global Variable'\n",
    "print(f'主函数: {msg}')\n",
    "\n",
    "# 调用自定义函数\n",
    "func()"
   ]
  },
  {
   "cell_type": "markdown",
   "id": "737e3ec3-1869-4222-bd77-0fc0b5807539",
   "metadata": {},
   "source": [
    "## 局部变量与全局变量使用相同的名称"
   ]
  },
  {
   "cell_type": "markdown",
   "id": "5399d4ee-4dd6-42fb-a4c4-765ebb2a9b13",
   "metadata": {},
   "source": [
    "在程序设计时建议全局变量与函数内的局部变量不要使用相同的名称，因为很容易造成混淆，如果全局变量与函数内的局部变量使用相同的名称，Python会将相同的区域与全局变量视为不同的变量，在局部变量所在的函数使用局部变量内容，其他区域则使用全局变量的内容。  "
   ]
  },
  {
   "cell_type": "markdown",
   "id": "dbc753aa-262f-43e0-ac48-be999723f1d0",
   "metadata": {},
   "source": [
    "### Test29"
   ]
  },
  {
   "cell_type": "code",
   "execution_count": 30,
   "id": "764a9ea1-369c-4d66-a80f-8e6eda74df7b",
   "metadata": {},
   "outputs": [
    {
     "name": "stdout",
     "output_type": "stream",
     "text": [
      "主函数: msg = 'Global Variable'\n",
      "自定义函数: msg = 'Local Variable'\n"
     ]
    }
   ],
   "source": [
    "def func():\n",
    "    msg = 'Local Variable'\n",
    "    print(f'自定义函数: {msg = }')\n",
    "\n",
    "msg = 'Global Variable'\n",
    "print(f'主函数: {msg = }')\n",
    "\n",
    "# 调用自定义函数\n",
    "func()"
   ]
  },
  {
   "cell_type": "markdown",
   "id": "6e9f8165-1992-419a-a040-5c1051e373a9",
   "metadata": {},
   "source": [
    "### Test30"
   ]
  },
  {
   "cell_type": "code",
   "execution_count": 31,
   "id": "42b4f071-46ca-4776-93da-622dfab2f5b9",
   "metadata": {},
   "outputs": [
    {
     "name": "stdout",
     "output_type": "stream",
     "text": [
      "没有调用前: msg = 'Python'\n",
      "调用后: msg = 'Python'\n"
     ]
    }
   ],
   "source": [
    "def func():\n",
    "    # 这不是修改主函数中的 msg 变量, 这是自定义函数重新定义了与主函数中同名的变量\n",
    "    msg = 'Java'\n",
    "\n",
    "\n",
    "msg = 'Python'\n",
    "print(f'没有调用前: {msg = }')\n",
    "\n",
    "# 调用自定义函数\n",
    "func()\n",
    "\n",
    "print(f'调用后: {msg = }')"
   ]
  },
  {
   "cell_type": "markdown",
   "id": "4f2a5e0a-af37-46d6-960a-e2918bf1d0ce",
   "metadata": {},
   "source": [
    "# 程序设计注意事项"
   ]
  },
  {
   "cell_type": "markdown",
   "id": "4d47affd-9a73-43f2-836d-4c952decb6cd",
   "metadata": {},
   "source": [
    "* 局部变量内容无法在其他函数引用\n",
    "* 局部变量内容无法在主程序引用\n",
    "* 在函数内不能更改全局变量的值\n",
    "* 如果要在函数内存取或修改全局变量值，须在函数内使用global定义此变量"
   ]
  },
  {
   "cell_type": "markdown",
   "id": "04751f3e-d0b7-4782-a3dd-350fcd1c46a1",
   "metadata": {},
   "source": [
    "### Test31"
   ]
  },
  {
   "cell_type": "code",
   "execution_count": 32,
   "id": "12c2e0cb-4758-4f90-bb21-4f731953ee5d",
   "metadata": {},
   "outputs": [
    {
     "name": "stdout",
     "output_type": "stream",
     "text": [
      "没有调用前: msg = 'Python'\n",
      "调用后: msg = 'Java'\n"
     ]
    }
   ],
   "source": [
    "def func():\n",
    "    # 如果要修改全局变量, 在自定义函数中, 需要定义 global 关键字\n",
    "    global msg\n",
    "    msg = 'Java'\n",
    "\n",
    "\n",
    "msg = 'Python'\n",
    "print(f'没有调用前: {msg = }')\n",
    "\n",
    "# 调用自定义函数\n",
    "func()\n",
    "\n",
    "print(f'调用后: {msg = }')"
   ]
  },
  {
   "cell_type": "markdown",
   "id": "a5629e9d-f646-498d-b3ea-cac4c0f7ec5a",
   "metadata": {},
   "source": [
    "* __locals()和globals()__\n",
    "\n",
    "locals(）：可以用字典方式列出所有的局部变量名称与内容。  \n",
    "globals(）：可以用字典方式列出所有的全局变量名称与内容。  "
   ]
  },
  {
   "cell_type": "markdown",
   "id": "b0805938-e154-4f55-958f-332ba13774ee",
   "metadata": {},
   "source": [
    "### Test32"
   ]
  },
  {
   "cell_type": "code",
   "execution_count": 33,
   "id": "d432eaa1-ecde-4e08-88f9-d2a2e1f00711",
   "metadata": {
    "scrolled": true
   },
   "outputs": [
    {
     "name": "stdout",
     "output_type": "stream",
     "text": [
      "全局变量: {'__name__': '__main__', '__doc__': 'Automatically created module for IPython interactive environment', '__package__': None, '__loader__': None, '__spec__': None, '__builtin__': <module 'builtins' (built-in)>, '__builtins__': <module 'builtins' (built-in)>, '_ih': ['', \"# 函数的定义, 不会对程序造成任何的执行效果, 除非在程序编写处主动调用了该函数, 此时该函数才会被执行\\n# 定义一个函数 (打招呼函数)\\ndef greeting():\\n    '''打招呼函数 : 我的第一个Python函数设计'''\\n    print('Hello Python!')\\n    return  # 如果函数没有返回值, 在函数末尾会自动添加 return 关键字, 此时默认返回为 None\\n\\n\\n# 调用函数, 格式: 函数名()\\n# 特别注意 : 小括号一定不能忘记书写. 如果仅有函数名, 此时函数名仅代表一个内存地址而已, 不会有任何执行效果\\n# 函数名仅仅代表的是该函数在内存中存储的空间地址, 不代表执行该函数\\nprint(f'{greeting = }')\\nresult = greeting()\\nprint(f'{result = }')\\n\\ngreeting()\\ngreeting()\", \"# 设计传递一个参数的函数\\ndef greeting(name):\\n    '''打招呼函数 : 我的第一个Python函数设计'''\\n    print(f'Hello {name}!')\\n\\n\\n# 调用函数, 格式: 函数名()\\ngreeting('张三')\\ngreeting('李四')\\ngreeting('王五')\", \"# 多个参数\\ndef interest(name, interest_type, subject):\\n    '''显示兴趣和主题'''\\n    print(f'{name}的兴趣是: {interest_type}')\\n    print(f'在{interest_type}中, 最喜欢的是: {subject}')\\n\\n\\n# 调用的形式-默认根据位置传参\\ninterest('张三', '旅游', '西藏')\\ninterest('李四', '美食', '臭豆腐')\\n\\n# 关键字传参\\ninterest(interest_type='拍照', subject='小姐姐', name='王五')\", \"# 设计函数的默认参数\\ndef interest(name, interest_type='旅游', subject='西藏'):\\n    '''显示兴趣和主题'''\\n    print(f'{name}的兴趣是: {interest_type}')\\n    print(f'在{interest_type}中, 最喜欢的是: {subject}')\\n\\n\\n# 调用的形式\\ninterest('张三')\\ninterest('李四', '美食', '臭豆腐')\", \"def substract(x, y):\\n    '''减法设计'''\\n    r = x - y\\n    return r\\n\\n\\ndef addition(x, y):\\n    '''加法设计'''\\n    return x + y  # 简写\\n\\n\\n# 提示用户输入\\na, b = eval(input('请输入两个整型数值,并用逗号分隔: '))         # eval默认可以使用逗号分割\\noperation = input('请输入要执行的操作(1: 加法, 2: 减法) : ')\\nif operation == '1':\\n    # 如果调用的函数有返回值, 我们应该接收返回结果\\n    result = addition(a, b)\\n    print(f'{a} + {b} = {result}')\\nelif operation == '2':\\n    result = substract(a, b)\\n    print(f'{a} - {b} = {result}')\\nelse:\\n    print('操作有误!')\", \"# 设计一个函数, 实现多个数值的回传\\ndef simple_operation(x, y):\\n    '''简单的数学四则运算:\\n    x : 第一个整型数值\\n    y : 第二个整型数值\\n    return : 返回 x, y 运算的加减乘除'''\\n    add = x + y\\n    sub = x - y\\n    mul = x * y\\n    div = x / y\\n    return add, sub, mul, div\\n\\n\\n# 提示用户输入两个整型数值\\na, b = eval(input('请输入两个整型数值,并用逗号分隔: '))\\n# 调用函数\\nresult = simple_operation(a, b)\\nprint(f'{result = }, {type(result)}')\", \"# 设计一个函数, 实现多个数值的回传\\ndef simple_operation(x, y):\\n    '''简单的数学四则运算:\\n    x : 第一个整型数值\\n    y : 第二个整型数值\\n    return : 返回 x, y 运算的加减乘除'''\\n    add = x + y\\n    sub = x - y\\n    mul = x * y\\n    div = x / y\\n    # 需求 : 回传字典类型的数据\\n    data_dict = {'add': add, 'sub': sub, 'mul': mul, 'div': div}\\n    return data_dict\\n\\n\\n# 提示用户输入两个整型数值\\na, b = eval(input('请输入两个整型数值,并用逗号分隔: '))\\n# 调用函数\\nresult = simple_operation(a, b)\\nprint(f'{result = }, {type(result)}')\", \"def greeting(names):\\n    '''打招呼函数 : names 表示列表类型的字符串数据'''\\n    for name in names:\\n        print(f'Hello {name}!')\\n        print('加油!')\\n\\n\\n# 定义一个列表\\nnames = ['张三', '李四', '王五', '赵六']\\ngreeting(names)\", '# 说明 : 在设计函数的参数时, 如果参数类型为一般基本数据类型, 则调用该函数时, 传递的是 `值`, 参数属于值传递\\ndef change_number(n):\\n    n = 666\\n\\nx = 100\\n# 调用函数\\nchange_number(x)\\nprint(x)', \"# 定义一个函数, 实现参数类型为列表类型\\n# 复杂/复合数据类型实现参数传递时, 属于 `地址传递`\\ndef change_number(n):\\n    '''n表示列表数据类型'''\\n    n[0] = 666\\n    print(id(n))\\n\\n\\nx = [100]\\n# 调用函数\\nprint(id(x))\\nchange_number(x)\\nprint(x)\", \"def kitchen(unserved, served):\\n    '''将所有未服务的餐品转换为已服务的餐品'''\\n    print('厨房正在制作客户所点餐点...')\\n    # 循环遍历 unserved 未服务的餐品列表\\n    while unserved:\\n        # 取出一个餐品\\n        current_meal = unserved.pop()\\n        # 模拟出餐的过程\\n        print(f'正在制作: {current_meal}')\\n        # 将制作完毕的餐品转入到已服务的餐品列表中\\n        served.append(current_meal)\\n\\n\\ndef show_order_meal(unserved):\\n    '''显示客户所有点的餐品'''\\n    print('下列是客户所有的餐品: ')\\n    # 判断\\n    if not unserved:\\n        print('**** 没有任何未服务的餐品 ****')\\n    for meal in unserved:\\n        print(meal, end=' ')\\n    print()\\n\\n\\ndef show_served_meal(served):\\n    '''显示所有已经服务的餐品'''\\n    print('下列是所有已经服务的餐品:')\\n    # 判断\\n    if not served:\\n        print('**** 没有任何餐品 ****')\\n    for meal in served:\\n        print(meal, end=' ')\\n    print()\\n\\n\\n\\n# 所点餐点\\norder_list = ['北京烤鸭', '四川麻婆豆腐', '西湖醋鱼', '飞龙汤', '无为熏鸭', '东坡肉', '腊味合蒸', '辣子鸡', '东安子鸡', '清蒸武昌鱼']\\n# 定义一个制作完毕的餐品列表\\nserved_list = []\\n\\n# 查看制作前的所有餐品\\nshow_order_meal(order_list)\\n# 查看所有的服务餐品\\nshow_served_meal(served_list)\\n\\nprint('-' * 50)\\n\\n# 将餐品传递给厨房实现餐品的制作\\n# 注意 : 在传递 order_list 列表时, 应该传递该列表的复制品  (列表切片复制)\\nkitchen(order_list[:], served_list)\\n\\nprint('-' * 50)\\n\\n# 制作完毕后, 再次查看所有服务与未服务的餐品列表\\nshow_order_meal(order_list)\\nshow_served_meal(served_list)\", 'def insert_number(number, my_list=[666, 888]):\\n    my_list.append(number)\\n    print(my_list)\\n\\n\\n# 调用函数\\ninsert_number(1)\\n\\n# 多次调用\\ninsert_number(2)\\ninsert_number(3)', 'def insert_number(number, my_list=None):\\n    # 判断, 如果列表为空, 则在调用函数时创建一个空列表\\n    if my_list is None:\\n        my_list = []\\n    my_list.append(number)\\n    print(my_list)\\n\\n\\n# 创建一个列表\\nnumber_list = [666, 888]\\n# 调用函数\\ninsert_number(1, number_list)\\n\\nnumber2_list = [10, 20, 30, 40, 50]\\n# 多次调用\\ninsert_number(2, number2_list)\\ninsert_number(3)', \"# 制作冰激凌\\n# * 表示可以接收多个参数 (0个或任意个)  args => arguments 形式参数 (形参)\\ndef make_icecream(*args):\\n    '''列出制作冰激凌的配料'''\\n    print(f'{args}, {type(args)}')  # 元组类型的参数\\n    print('冰激凌所添加的配料如下: ')\\n    for topping in args:\\n        print(topping)\\n\\n\\nmake_icecream('草莓酱')\\nmake_icecream('草莓酱', '葡萄干', '巧克力碎片')\", \"# 设计函数时, 实现一般参数与任意参数结合的参数列表 -- 至少传一个参数\\ndef make_icecream(icecream_type, *args):\\n    '''列出制作冰激凌的配料'''\\n    print(f'{args}, {type(args)}')\\n    print('冰激凌所添加的配料如下: ')\\n    for topping in args:\\n        print(topping)\\n\\n\\nmake_icecream('香草', '草莓酱')\\nmake_icecream('芒果', '草莓酱', '葡萄干', '巧克力碎片')\", \"# ** 表示关键词参数, 相当于 `键值对` 参数\\n# kwargs => keyword arguments 关键词/关键字形参\\ndef build_dict(name, age, **kwargs):\\n    '''建立学生成绩字典数据'''\\n    score = {}\\n    score['name'] = name\\n    score['age'] = age\\n    print(f'{kwargs}, {type(kwargs)}')      # 字典数据类型\\n    # 遍历 kwargs 字典类型的数据\\n    for key, value in kwargs.items():\\n        score[key] = value\\n    # 循环结束后, 将 score 字典返回\\n    return score\\n\\n\\nzhangsan_dict = build_dict('张三', 20, chinese=90, math=90, english=59, python=100)\\nprint(zhangsan_dict)\\n\\nscore_dict = {'chinese': 89, 'math': 90, 'english': 99, 'python': 98}\\nlisi_dict = build_dict('李四', 18, **score_dict)\\nprint(lisi_dict)\", \"def build_dict(name, age, **kwargs):\\n    '''\\n    建立学生成绩字典数据\\n    name : 学生姓名\\n    age : 学生年龄\\n    kwargs : 学生各科成绩数据\\n    '''\\n    score = {}\\n    score['name'] = name\\n    score['age'] = age\\n    print(f'{kwargs}, {type(kwargs)}')\\n    # 遍历 kwargs 字典类型的数据\\n    for key, value in kwargs.items():\\n        score[key] = value\\n    # 循环结束后, 将 score 字典返回\\n    return score\\n\\n# 查看文档字符串 (Document String)\\n# 函数名 : 地址\\n# 函数名() -> 这是函数调用\\nhelp(build_dict)\\n\\n# 查看函数的注释\\nprint(build_dict.__doc__)\", \"# 定义一个函数\\ndef upper_str(text):\\n    return text.upper()\\n\\n# 调用\\nprint(upper_str('hello world'))\\n\\n# 既然函数也是一个对象, 所以函数可以赋值给另外一个变量\\n# 对象就是内存中的一个 `地址`\\na = upper_str\\n\\nprint(a('hello world'))\\n\\nprint(f'{a = }, {upper_str = }')\\nprint(f'{type(a) = }, {type(upper_str) = }')\", '# 自定义一个函数\\ndef multiply(data):\\n    result = 1\\n    for i in data:\\n        result *= i\\n    return result\\n\\n\\nx = (1, 2, 3, 4, 5)\\n# 系统的内置（built-in）函数  min, max, sum ...\\nmath_list = [min, max, sum, multiply]\\nfor func in math_list:\\n    # func 函数名称   func() 调用函数, 注意调用时需要传递参数\\n    print(func, func(x))', \"def add(x, y):\\n    return x + y\\n\\ndef mul(x, y):\\n    return x * y\\n\\n# func : function 函数/功能\\ndef running(func, arg1, arg2):\\n    # 调用传入的 func 函数, 并将参数传递给 func 函数\\n    return func(arg1, arg2)\\n\\n# 函数可以作为参数实现传递\\nr1 = running(add, 10, 20)\\nprint(f'{r1 = }')\\n\\nr2 = running(mul, 10, 20)\\nprint(f'{r2 = }')\", 'def multiply(*args):\\n    mul = 1\\n    for i in args:\\n        mul = mul * i\\n    return mul\\n\\n\\ndef run_multiply_args(func, *args):\\n    return func(*args)\\n\\n\\n# 调用函数\\nresult = run_multiply_args(multiply, 1, 2, 3, 4, 5)\\nprint(result)', \"# 嵌套函数\\ndef distance(x1, y1, x2, y2):\\n    # 定义一个开根的内部函数\\n    def my_sqrt(z):\\n        return z ** 0.5\\n    dx = (x1 - x2) ** 2\\n    dy = (y1 - y2) ** 2\\n    return my_sqrt(dx + dy)\\n\\n# 调用函数\\nresult = distance(3, 7, 6, 3)\\nprint(f'{result = }')\", \"def outer():\\n    print('outer running ...')\\n    # inner() 函数主要实现 1~n 之间的整型数值累加\\n    def inner(n):\\n        print('inner running ...', inner)       # inner 函数名字其实就是地址\\n        return sum(range(1, n+1))\\n    # 函数可以作为回传值\\n    return inner\\n\\n# 调用函数, 但是返回的结果也是一个函数\\nfunc = outer()\\nprint(f'{func = }')\\n\\n# func() 其实调用的是 inner() 这个函数\\nresult = func(10)\\nprint(f'{result = }')\", '# 实现计算一次函数 : 5x + 10\\n# kx + b  => k 是斜率  b 是截距\\ndef outer():\\n    # 外部函数的变量\\n    b = 10\\n    def inner(x):\\n        return 5 * x + b\\n    # 返回内部函数对象\\n    return inner  # 没有小括号()，不会调用；取决于什么时候调\\n\\n\\n# 调用函数\\nfunc = outer()      # func 就是线性函数  f(x) = 5x + 10\\n\\nprint(func(1))\\nprint(func(10))', '# 定义一个灵活的线性函数\\ndef outer(k, b):\\n    def inner(x):\\n        return k * x + b\\n    return inner\\n\\n\\n# 调用\\nfunc1 = outer(1, 2)        # f(x) = x + 2\\nprint(func1(5))\\nprint(func1(10))\\n\\n# 在这里我们发现程序代码可以重复使用, 此外如果没有闭包(closure), 我们就需要传递 k, b, x 参数\\n# 所以 closure 可以让程序设计更有效率, 同时未来扩充时程序可以更容易移植\\nfunc2 = outer(3, 4)         # f(x) = 3x + 4\\nprint(func2(5))\\nprint(func2(10))', \"# 求 5 的阶乘 (5!)\\n\\n# 方式一\\nr1 = 5 * 4 * 3 * 2 * 1\\nprint(f'{r1 = }')\\n\\n# 方式二\\nr2 = 1\\nfor i in range(5, 0, -1):  \\n    r2 *= i\\nprint(f'{r2 = }')\\n\\n# 方式三 (递归函数实现阶乘)\\ndef factorial(n):\\n    if n == 1:\\n        # 程序进到这里, 就是求 1! = 1\\n        return 1\\n    else:\\n        return n * factorial(n-1)\\n\\n\\n# 外部调用\\nn = 5\\nr3 = factorial(n)\\nprint(f'{r3 = }')\", 'for i in range(5, 0, -1):print(i)', \"# 导入 sys 模块 (Python内置模块)\\nimport sys\\n\\n# 修改递归的默认限制\\nsys.setrecursionlimit(2000)  # 可以设定指定的递归深度\\n\\n# 递归的最大深度\\nlimit = sys.getrecursionlimit()    # 默认是3000\\nprint(f'{limit = }')\", \"def func():\\n    a = 666\\n    print(f'自定义函数: {msg}, {a = }')\\n\\n\\n# 主函数\\n# 主函数中定义的变量属于全局变量\\nmsg = 'Global Variable'\\nprint(f'主函数: {msg}')\\n\\n# 调用自定义函数\\nfunc()\", \"def func():\\n    msg = 'Local Variable'\\n    print(f'自定义函数: {msg = }')\\n\\nmsg = 'Global Variable'\\nprint(f'主函数: {msg = }')\\n\\n# 调用自定义函数\\nfunc()\", \"def func():\\n    # 这不是修改主函数中的 msg 变量, 这是自定义函数重新定义了与主函数中同名的变量\\n    msg = 'Java'\\n\\n\\nmsg = 'Python'\\nprint(f'没有调用前: {msg = }')\\n\\n# 调用自定义函数\\nfunc()\\n\\nprint(f'调用后: {msg = }')\", \"def func():\\n    # 如果要修改全局变量, 在自定义函数中, 需要定义 global 关键字\\n    global msg\\n    msg = 'Java'\\n\\n\\nmsg = 'Python'\\nprint(f'没有调用前: {msg = }')\\n\\n# 调用自定义函数\\nfunc()\\n\\nprint(f'调用后: {msg = }')\", \"def func():\\n    language = 'Java'\\n    print(f'局部变量: {locals()}')\\n\\n\\nmsg = 'Python'\\nprint(f'全局变量: {globals()}')\\n\\nfunc()\"], '_oh': {}, '_dh': [PosixPath('/home/jovyan/work/TuringPython/pybasic2522/Python基础核心语法')], 'In': ['', \"# 函数的定义, 不会对程序造成任何的执行效果, 除非在程序编写处主动调用了该函数, 此时该函数才会被执行\\n# 定义一个函数 (打招呼函数)\\ndef greeting():\\n    '''打招呼函数 : 我的第一个Python函数设计'''\\n    print('Hello Python!')\\n    return  # 如果函数没有返回值, 在函数末尾会自动添加 return 关键字, 此时默认返回为 None\\n\\n\\n# 调用函数, 格式: 函数名()\\n# 特别注意 : 小括号一定不能忘记书写. 如果仅有函数名, 此时函数名仅代表一个内存地址而已, 不会有任何执行效果\\n# 函数名仅仅代表的是该函数在内存中存储的空间地址, 不代表执行该函数\\nprint(f'{greeting = }')\\nresult = greeting()\\nprint(f'{result = }')\\n\\ngreeting()\\ngreeting()\", \"# 设计传递一个参数的函数\\ndef greeting(name):\\n    '''打招呼函数 : 我的第一个Python函数设计'''\\n    print(f'Hello {name}!')\\n\\n\\n# 调用函数, 格式: 函数名()\\ngreeting('张三')\\ngreeting('李四')\\ngreeting('王五')\", \"# 多个参数\\ndef interest(name, interest_type, subject):\\n    '''显示兴趣和主题'''\\n    print(f'{name}的兴趣是: {interest_type}')\\n    print(f'在{interest_type}中, 最喜欢的是: {subject}')\\n\\n\\n# 调用的形式-默认根据位置传参\\ninterest('张三', '旅游', '西藏')\\ninterest('李四', '美食', '臭豆腐')\\n\\n# 关键字传参\\ninterest(interest_type='拍照', subject='小姐姐', name='王五')\", \"# 设计函数的默认参数\\ndef interest(name, interest_type='旅游', subject='西藏'):\\n    '''显示兴趣和主题'''\\n    print(f'{name}的兴趣是: {interest_type}')\\n    print(f'在{interest_type}中, 最喜欢的是: {subject}')\\n\\n\\n# 调用的形式\\ninterest('张三')\\ninterest('李四', '美食', '臭豆腐')\", \"def substract(x, y):\\n    '''减法设计'''\\n    r = x - y\\n    return r\\n\\n\\ndef addition(x, y):\\n    '''加法设计'''\\n    return x + y  # 简写\\n\\n\\n# 提示用户输入\\na, b = eval(input('请输入两个整型数值,并用逗号分隔: '))         # eval默认可以使用逗号分割\\noperation = input('请输入要执行的操作(1: 加法, 2: 减法) : ')\\nif operation == '1':\\n    # 如果调用的函数有返回值, 我们应该接收返回结果\\n    result = addition(a, b)\\n    print(f'{a} + {b} = {result}')\\nelif operation == '2':\\n    result = substract(a, b)\\n    print(f'{a} - {b} = {result}')\\nelse:\\n    print('操作有误!')\", \"# 设计一个函数, 实现多个数值的回传\\ndef simple_operation(x, y):\\n    '''简单的数学四则运算:\\n    x : 第一个整型数值\\n    y : 第二个整型数值\\n    return : 返回 x, y 运算的加减乘除'''\\n    add = x + y\\n    sub = x - y\\n    mul = x * y\\n    div = x / y\\n    return add, sub, mul, div\\n\\n\\n# 提示用户输入两个整型数值\\na, b = eval(input('请输入两个整型数值,并用逗号分隔: '))\\n# 调用函数\\nresult = simple_operation(a, b)\\nprint(f'{result = }, {type(result)}')\", \"# 设计一个函数, 实现多个数值的回传\\ndef simple_operation(x, y):\\n    '''简单的数学四则运算:\\n    x : 第一个整型数值\\n    y : 第二个整型数值\\n    return : 返回 x, y 运算的加减乘除'''\\n    add = x + y\\n    sub = x - y\\n    mul = x * y\\n    div = x / y\\n    # 需求 : 回传字典类型的数据\\n    data_dict = {'add': add, 'sub': sub, 'mul': mul, 'div': div}\\n    return data_dict\\n\\n\\n# 提示用户输入两个整型数值\\na, b = eval(input('请输入两个整型数值,并用逗号分隔: '))\\n# 调用函数\\nresult = simple_operation(a, b)\\nprint(f'{result = }, {type(result)}')\", \"def greeting(names):\\n    '''打招呼函数 : names 表示列表类型的字符串数据'''\\n    for name in names:\\n        print(f'Hello {name}!')\\n        print('加油!')\\n\\n\\n# 定义一个列表\\nnames = ['张三', '李四', '王五', '赵六']\\ngreeting(names)\", '# 说明 : 在设计函数的参数时, 如果参数类型为一般基本数据类型, 则调用该函数时, 传递的是 `值`, 参数属于值传递\\ndef change_number(n):\\n    n = 666\\n\\nx = 100\\n# 调用函数\\nchange_number(x)\\nprint(x)', \"# 定义一个函数, 实现参数类型为列表类型\\n# 复杂/复合数据类型实现参数传递时, 属于 `地址传递`\\ndef change_number(n):\\n    '''n表示列表数据类型'''\\n    n[0] = 666\\n    print(id(n))\\n\\n\\nx = [100]\\n# 调用函数\\nprint(id(x))\\nchange_number(x)\\nprint(x)\", \"def kitchen(unserved, served):\\n    '''将所有未服务的餐品转换为已服务的餐品'''\\n    print('厨房正在制作客户所点餐点...')\\n    # 循环遍历 unserved 未服务的餐品列表\\n    while unserved:\\n        # 取出一个餐品\\n        current_meal = unserved.pop()\\n        # 模拟出餐的过程\\n        print(f'正在制作: {current_meal}')\\n        # 将制作完毕的餐品转入到已服务的餐品列表中\\n        served.append(current_meal)\\n\\n\\ndef show_order_meal(unserved):\\n    '''显示客户所有点的餐品'''\\n    print('下列是客户所有的餐品: ')\\n    # 判断\\n    if not unserved:\\n        print('**** 没有任何未服务的餐品 ****')\\n    for meal in unserved:\\n        print(meal, end=' ')\\n    print()\\n\\n\\ndef show_served_meal(served):\\n    '''显示所有已经服务的餐品'''\\n    print('下列是所有已经服务的餐品:')\\n    # 判断\\n    if not served:\\n        print('**** 没有任何餐品 ****')\\n    for meal in served:\\n        print(meal, end=' ')\\n    print()\\n\\n\\n\\n# 所点餐点\\norder_list = ['北京烤鸭', '四川麻婆豆腐', '西湖醋鱼', '飞龙汤', '无为熏鸭', '东坡肉', '腊味合蒸', '辣子鸡', '东安子鸡', '清蒸武昌鱼']\\n# 定义一个制作完毕的餐品列表\\nserved_list = []\\n\\n# 查看制作前的所有餐品\\nshow_order_meal(order_list)\\n# 查看所有的服务餐品\\nshow_served_meal(served_list)\\n\\nprint('-' * 50)\\n\\n# 将餐品传递给厨房实现餐品的制作\\n# 注意 : 在传递 order_list 列表时, 应该传递该列表的复制品  (列表切片复制)\\nkitchen(order_list[:], served_list)\\n\\nprint('-' * 50)\\n\\n# 制作完毕后, 再次查看所有服务与未服务的餐品列表\\nshow_order_meal(order_list)\\nshow_served_meal(served_list)\", 'def insert_number(number, my_list=[666, 888]):\\n    my_list.append(number)\\n    print(my_list)\\n\\n\\n# 调用函数\\ninsert_number(1)\\n\\n# 多次调用\\ninsert_number(2)\\ninsert_number(3)', 'def insert_number(number, my_list=None):\\n    # 判断, 如果列表为空, 则在调用函数时创建一个空列表\\n    if my_list is None:\\n        my_list = []\\n    my_list.append(number)\\n    print(my_list)\\n\\n\\n# 创建一个列表\\nnumber_list = [666, 888]\\n# 调用函数\\ninsert_number(1, number_list)\\n\\nnumber2_list = [10, 20, 30, 40, 50]\\n# 多次调用\\ninsert_number(2, number2_list)\\ninsert_number(3)', \"# 制作冰激凌\\n# * 表示可以接收多个参数 (0个或任意个)  args => arguments 形式参数 (形参)\\ndef make_icecream(*args):\\n    '''列出制作冰激凌的配料'''\\n    print(f'{args}, {type(args)}')  # 元组类型的参数\\n    print('冰激凌所添加的配料如下: ')\\n    for topping in args:\\n        print(topping)\\n\\n\\nmake_icecream('草莓酱')\\nmake_icecream('草莓酱', '葡萄干', '巧克力碎片')\", \"# 设计函数时, 实现一般参数与任意参数结合的参数列表 -- 至少传一个参数\\ndef make_icecream(icecream_type, *args):\\n    '''列出制作冰激凌的配料'''\\n    print(f'{args}, {type(args)}')\\n    print('冰激凌所添加的配料如下: ')\\n    for topping in args:\\n        print(topping)\\n\\n\\nmake_icecream('香草', '草莓酱')\\nmake_icecream('芒果', '草莓酱', '葡萄干', '巧克力碎片')\", \"# ** 表示关键词参数, 相当于 `键值对` 参数\\n# kwargs => keyword arguments 关键词/关键字形参\\ndef build_dict(name, age, **kwargs):\\n    '''建立学生成绩字典数据'''\\n    score = {}\\n    score['name'] = name\\n    score['age'] = age\\n    print(f'{kwargs}, {type(kwargs)}')      # 字典数据类型\\n    # 遍历 kwargs 字典类型的数据\\n    for key, value in kwargs.items():\\n        score[key] = value\\n    # 循环结束后, 将 score 字典返回\\n    return score\\n\\n\\nzhangsan_dict = build_dict('张三', 20, chinese=90, math=90, english=59, python=100)\\nprint(zhangsan_dict)\\n\\nscore_dict = {'chinese': 89, 'math': 90, 'english': 99, 'python': 98}\\nlisi_dict = build_dict('李四', 18, **score_dict)\\nprint(lisi_dict)\", \"def build_dict(name, age, **kwargs):\\n    '''\\n    建立学生成绩字典数据\\n    name : 学生姓名\\n    age : 学生年龄\\n    kwargs : 学生各科成绩数据\\n    '''\\n    score = {}\\n    score['name'] = name\\n    score['age'] = age\\n    print(f'{kwargs}, {type(kwargs)}')\\n    # 遍历 kwargs 字典类型的数据\\n    for key, value in kwargs.items():\\n        score[key] = value\\n    # 循环结束后, 将 score 字典返回\\n    return score\\n\\n# 查看文档字符串 (Document String)\\n# 函数名 : 地址\\n# 函数名() -> 这是函数调用\\nhelp(build_dict)\\n\\n# 查看函数的注释\\nprint(build_dict.__doc__)\", \"# 定义一个函数\\ndef upper_str(text):\\n    return text.upper()\\n\\n# 调用\\nprint(upper_str('hello world'))\\n\\n# 既然函数也是一个对象, 所以函数可以赋值给另外一个变量\\n# 对象就是内存中的一个 `地址`\\na = upper_str\\n\\nprint(a('hello world'))\\n\\nprint(f'{a = }, {upper_str = }')\\nprint(f'{type(a) = }, {type(upper_str) = }')\", '# 自定义一个函数\\ndef multiply(data):\\n    result = 1\\n    for i in data:\\n        result *= i\\n    return result\\n\\n\\nx = (1, 2, 3, 4, 5)\\n# 系统的内置（built-in）函数  min, max, sum ...\\nmath_list = [min, max, sum, multiply]\\nfor func in math_list:\\n    # func 函数名称   func() 调用函数, 注意调用时需要传递参数\\n    print(func, func(x))', \"def add(x, y):\\n    return x + y\\n\\ndef mul(x, y):\\n    return x * y\\n\\n# func : function 函数/功能\\ndef running(func, arg1, arg2):\\n    # 调用传入的 func 函数, 并将参数传递给 func 函数\\n    return func(arg1, arg2)\\n\\n# 函数可以作为参数实现传递\\nr1 = running(add, 10, 20)\\nprint(f'{r1 = }')\\n\\nr2 = running(mul, 10, 20)\\nprint(f'{r2 = }')\", 'def multiply(*args):\\n    mul = 1\\n    for i in args:\\n        mul = mul * i\\n    return mul\\n\\n\\ndef run_multiply_args(func, *args):\\n    return func(*args)\\n\\n\\n# 调用函数\\nresult = run_multiply_args(multiply, 1, 2, 3, 4, 5)\\nprint(result)', \"# 嵌套函数\\ndef distance(x1, y1, x2, y2):\\n    # 定义一个开根的内部函数\\n    def my_sqrt(z):\\n        return z ** 0.5\\n    dx = (x1 - x2) ** 2\\n    dy = (y1 - y2) ** 2\\n    return my_sqrt(dx + dy)\\n\\n# 调用函数\\nresult = distance(3, 7, 6, 3)\\nprint(f'{result = }')\", \"def outer():\\n    print('outer running ...')\\n    # inner() 函数主要实现 1~n 之间的整型数值累加\\n    def inner(n):\\n        print('inner running ...', inner)       # inner 函数名字其实就是地址\\n        return sum(range(1, n+1))\\n    # 函数可以作为回传值\\n    return inner\\n\\n# 调用函数, 但是返回的结果也是一个函数\\nfunc = outer()\\nprint(f'{func = }')\\n\\n# func() 其实调用的是 inner() 这个函数\\nresult = func(10)\\nprint(f'{result = }')\", '# 实现计算一次函数 : 5x + 10\\n# kx + b  => k 是斜率  b 是截距\\ndef outer():\\n    # 外部函数的变量\\n    b = 10\\n    def inner(x):\\n        return 5 * x + b\\n    # 返回内部函数对象\\n    return inner  # 没有小括号()，不会调用；取决于什么时候调\\n\\n\\n# 调用函数\\nfunc = outer()      # func 就是线性函数  f(x) = 5x + 10\\n\\nprint(func(1))\\nprint(func(10))', '# 定义一个灵活的线性函数\\ndef outer(k, b):\\n    def inner(x):\\n        return k * x + b\\n    return inner\\n\\n\\n# 调用\\nfunc1 = outer(1, 2)        # f(x) = x + 2\\nprint(func1(5))\\nprint(func1(10))\\n\\n# 在这里我们发现程序代码可以重复使用, 此外如果没有闭包(closure), 我们就需要传递 k, b, x 参数\\n# 所以 closure 可以让程序设计更有效率, 同时未来扩充时程序可以更容易移植\\nfunc2 = outer(3, 4)         # f(x) = 3x + 4\\nprint(func2(5))\\nprint(func2(10))', \"# 求 5 的阶乘 (5!)\\n\\n# 方式一\\nr1 = 5 * 4 * 3 * 2 * 1\\nprint(f'{r1 = }')\\n\\n# 方式二\\nr2 = 1\\nfor i in range(5, 0, -1):  \\n    r2 *= i\\nprint(f'{r2 = }')\\n\\n# 方式三 (递归函数实现阶乘)\\ndef factorial(n):\\n    if n == 1:\\n        # 程序进到这里, 就是求 1! = 1\\n        return 1\\n    else:\\n        return n * factorial(n-1)\\n\\n\\n# 外部调用\\nn = 5\\nr3 = factorial(n)\\nprint(f'{r3 = }')\", 'for i in range(5, 0, -1):print(i)', \"# 导入 sys 模块 (Python内置模块)\\nimport sys\\n\\n# 修改递归的默认限制\\nsys.setrecursionlimit(2000)  # 可以设定指定的递归深度\\n\\n# 递归的最大深度\\nlimit = sys.getrecursionlimit()    # 默认是3000\\nprint(f'{limit = }')\", \"def func():\\n    a = 666\\n    print(f'自定义函数: {msg}, {a = }')\\n\\n\\n# 主函数\\n# 主函数中定义的变量属于全局变量\\nmsg = 'Global Variable'\\nprint(f'主函数: {msg}')\\n\\n# 调用自定义函数\\nfunc()\", \"def func():\\n    msg = 'Local Variable'\\n    print(f'自定义函数: {msg = }')\\n\\nmsg = 'Global Variable'\\nprint(f'主函数: {msg = }')\\n\\n# 调用自定义函数\\nfunc()\", \"def func():\\n    # 这不是修改主函数中的 msg 变量, 这是自定义函数重新定义了与主函数中同名的变量\\n    msg = 'Java'\\n\\n\\nmsg = 'Python'\\nprint(f'没有调用前: {msg = }')\\n\\n# 调用自定义函数\\nfunc()\\n\\nprint(f'调用后: {msg = }')\", \"def func():\\n    # 如果要修改全局变量, 在自定义函数中, 需要定义 global 关键字\\n    global msg\\n    msg = 'Java'\\n\\n\\nmsg = 'Python'\\nprint(f'没有调用前: {msg = }')\\n\\n# 调用自定义函数\\nfunc()\\n\\nprint(f'调用后: {msg = }')\", \"def func():\\n    language = 'Java'\\n    print(f'局部变量: {locals()}')\\n\\n\\nmsg = 'Python'\\nprint(f'全局变量: {globals()}')\\n\\nfunc()\"], 'Out': {}, 'get_ipython': <bound method InteractiveShell.get_ipython of <ipykernel.zmqshell.ZMQInteractiveShell object at 0x7f2a77ef1750>>, 'exit': <IPython.core.autocall.ZMQExitAutocall object at 0x7f2a77efdad0>, 'quit': <IPython.core.autocall.ZMQExitAutocall object at 0x7f2a77efdad0>, 'open': <function open at 0x7f2a791de840>, '_': '', '__': '', '___': '', '__session__': '/home/jovyan/work/TuringPython/pybasic2522/Python基础核心语法/12_函数设计.ipynb', '_i': \"def func():\\n    # 如果要修改全局变量, 在自定义函数中, 需要定义 global 关键字\\n    global msg\\n    msg = 'Java'\\n\\n\\nmsg = 'Python'\\nprint(f'没有调用前: {msg = }')\\n\\n# 调用自定义函数\\nfunc()\\n\\nprint(f'调用后: {msg = }')\", '_ii': \"def func():\\n    # 这不是修改主函数中的 msg 变量, 这是自定义函数重新定义了与主函数中同名的变量\\n    msg = 'Java'\\n\\n\\nmsg = 'Python'\\nprint(f'没有调用前: {msg = }')\\n\\n# 调用自定义函数\\nfunc()\\n\\nprint(f'调用后: {msg = }')\", '_iii': \"def func():\\n    msg = 'Local Variable'\\n    print(f'自定义函数: {msg = }')\\n\\nmsg = 'Global Variable'\\nprint(f'主函数: {msg = }')\\n\\n# 调用自定义函数\\nfunc()\", '_i1': \"# 函数的定义, 不会对程序造成任何的执行效果, 除非在程序编写处主动调用了该函数, 此时该函数才会被执行\\n# 定义一个函数 (打招呼函数)\\ndef greeting():\\n    '''打招呼函数 : 我的第一个Python函数设计'''\\n    print('Hello Python!')\\n    return  # 如果函数没有返回值, 在函数末尾会自动添加 return 关键字, 此时默认返回为 None\\n\\n\\n# 调用函数, 格式: 函数名()\\n# 特别注意 : 小括号一定不能忘记书写. 如果仅有函数名, 此时函数名仅代表一个内存地址而已, 不会有任何执行效果\\n# 函数名仅仅代表的是该函数在内存中存储的空间地址, 不代表执行该函数\\nprint(f'{greeting = }')\\nresult = greeting()\\nprint(f'{result = }')\\n\\ngreeting()\\ngreeting()\", 'greeting': <function greeting at 0x7f2a77f5c180>, 'result': 55, '_i2': \"# 设计传递一个参数的函数\\ndef greeting(name):\\n    '''打招呼函数 : 我的第一个Python函数设计'''\\n    print(f'Hello {name}!')\\n\\n\\n# 调用函数, 格式: 函数名()\\ngreeting('张三')\\ngreeting('李四')\\ngreeting('王五')\", '_i3': \"# 多个参数\\ndef interest(name, interest_type, subject):\\n    '''显示兴趣和主题'''\\n    print(f'{name}的兴趣是: {interest_type}')\\n    print(f'在{interest_type}中, 最喜欢的是: {subject}')\\n\\n\\n# 调用的形式-默认根据位置传参\\ninterest('张三', '旅游', '西藏')\\ninterest('李四', '美食', '臭豆腐')\\n\\n# 关键字传参\\ninterest(interest_type='拍照', subject='小姐姐', name='王五')\", 'interest': <function interest at 0x7f2a77ee7420>, '_i4': \"# 设计函数的默认参数\\ndef interest(name, interest_type='旅游', subject='西藏'):\\n    '''显示兴趣和主题'''\\n    print(f'{name}的兴趣是: {interest_type}')\\n    print(f'在{interest_type}中, 最喜欢的是: {subject}')\\n\\n\\n# 调用的形式\\ninterest('张三')\\ninterest('李四', '美食', '臭豆腐')\", '_i5': \"def substract(x, y):\\n    '''减法设计'''\\n    r = x - y\\n    return r\\n\\n\\ndef addition(x, y):\\n    '''加法设计'''\\n    return x + y  # 简写\\n\\n\\n# 提示用户输入\\na, b = eval(input('请输入两个整型数值,并用逗号分隔: '))         # eval默认可以使用逗号分割\\noperation = input('请输入要执行的操作(1: 加法, 2: 减法) : ')\\nif operation == '1':\\n    # 如果调用的函数有返回值, 我们应该接收返回结果\\n    result = addition(a, b)\\n    print(f'{a} + {b} = {result}')\\nelif operation == '2':\\n    result = substract(a, b)\\n    print(f'{a} - {b} = {result}')\\nelse:\\n    print('操作有误!')\", 'substract': <function substract at 0x7f2a77ee7740>, 'addition': <function addition at 0x7f2a77ee7d80>, 'a': <function upper_str at 0x7f2a77f5cae0>, 'b': 8, 'operation': '1', '_i6': \"# 设计一个函数, 实现多个数值的回传\\ndef simple_operation(x, y):\\n    '''简单的数学四则运算:\\n    x : 第一个整型数值\\n    y : 第二个整型数值\\n    return : 返回 x, y 运算的加减乘除'''\\n    add = x + y\\n    sub = x - y\\n    mul = x * y\\n    div = x / y\\n    return add, sub, mul, div\\n\\n\\n# 提示用户输入两个整型数值\\na, b = eval(input('请输入两个整型数值,并用逗号分隔: '))\\n# 调用函数\\nresult = simple_operation(a, b)\\nprint(f'{result = }, {type(result)}')\", 'simple_operation': <function simple_operation at 0x7f2a77f5c220>, '_i7': \"# 设计一个函数, 实现多个数值的回传\\ndef simple_operation(x, y):\\n    '''简单的数学四则运算:\\n    x : 第一个整型数值\\n    y : 第二个整型数值\\n    return : 返回 x, y 运算的加减乘除'''\\n    add = x + y\\n    sub = x - y\\n    mul = x * y\\n    div = x / y\\n    # 需求 : 回传字典类型的数据\\n    data_dict = {'add': add, 'sub': sub, 'mul': mul, 'div': div}\\n    return data_dict\\n\\n\\n# 提示用户输入两个整型数值\\na, b = eval(input('请输入两个整型数值,并用逗号分隔: '))\\n# 调用函数\\nresult = simple_operation(a, b)\\nprint(f'{result = }, {type(result)}')\", '_i8': \"def greeting(names):\\n    '''打招呼函数 : names 表示列表类型的字符串数据'''\\n    for name in names:\\n        print(f'Hello {name}!')\\n        print('加油!')\\n\\n\\n# 定义一个列表\\nnames = ['张三', '李四', '王五', '赵六']\\ngreeting(names)\", 'names': ['张三', '李四', '王五', '赵六'], '_i9': '# 说明 : 在设计函数的参数时, 如果参数类型为一般基本数据类型, 则调用该函数时, 传递的是 `值`, 参数属于值传递\\ndef change_number(n):\\n    n = 666\\n\\nx = 100\\n# 调用函数\\nchange_number(x)\\nprint(x)', 'change_number': <function change_number at 0x7f2a77f5c400>, 'x': (1, 2, 3, 4, 5), '_i10': \"# 定义一个函数, 实现参数类型为列表类型\\n# 复杂/复合数据类型实现参数传递时, 属于 `地址传递`\\ndef change_number(n):\\n    '''n表示列表数据类型'''\\n    n[0] = 666\\n    print(id(n))\\n\\n\\nx = [100]\\n# 调用函数\\nprint(id(x))\\nchange_number(x)\\nprint(x)\", '_i11': \"def kitchen(unserved, served):\\n    '''将所有未服务的餐品转换为已服务的餐品'''\\n    print('厨房正在制作客户所点餐点...')\\n    # 循环遍历 unserved 未服务的餐品列表\\n    while unserved:\\n        # 取出一个餐品\\n        current_meal = unserved.pop()\\n        # 模拟出餐的过程\\n        print(f'正在制作: {current_meal}')\\n        # 将制作完毕的餐品转入到已服务的餐品列表中\\n        served.append(current_meal)\\n\\n\\ndef show_order_meal(unserved):\\n    '''显示客户所有点的餐品'''\\n    print('下列是客户所有的餐品: ')\\n    # 判断\\n    if not unserved:\\n        print('**** 没有任何未服务的餐品 ****')\\n    for meal in unserved:\\n        print(meal, end=' ')\\n    print()\\n\\n\\ndef show_served_meal(served):\\n    '''显示所有已经服务的餐品'''\\n    print('下列是所有已经服务的餐品:')\\n    # 判断\\n    if not served:\\n        print('**** 没有任何餐品 ****')\\n    for meal in served:\\n        print(meal, end=' ')\\n    print()\\n\\n\\n\\n# 所点餐点\\norder_list = ['北京烤鸭', '四川麻婆豆腐', '西湖醋鱼', '飞龙汤', '无为熏鸭', '东坡肉', '腊味合蒸', '辣子鸡', '东安子鸡', '清蒸武昌鱼']\\n# 定义一个制作完毕的餐品列表\\nserved_list = []\\n\\n# 查看制作前的所有餐品\\nshow_order_meal(order_list)\\n# 查看所有的服务餐品\\nshow_served_meal(served_list)\\n\\nprint('-' * 50)\\n\\n# 将餐品传递给厨房实现餐品的制作\\n# 注意 : 在传递 order_list 列表时, 应该传递该列表的复制品  (列表切片复制)\\nkitchen(order_list[:], served_list)\\n\\nprint('-' * 50)\\n\\n# 制作完毕后, 再次查看所有服务与未服务的餐品列表\\nshow_order_meal(order_list)\\nshow_served_meal(served_list)\", 'kitchen': <function kitchen at 0x7f2a77f5c2c0>, 'show_order_meal': <function show_order_meal at 0x7f2a77f5c5e0>, 'show_served_meal': <function show_served_meal at 0x7f2a77f5c680>, 'order_list': ['北京烤鸭', '四川麻婆豆腐', '西湖醋鱼', '飞龙汤', '无为熏鸭', '东坡肉', '腊味合蒸', '辣子鸡', '东安子鸡', '清蒸武昌鱼'], 'served_list': ['清蒸武昌鱼', '东安子鸡', '辣子鸡', '腊味合蒸', '东坡肉', '无为熏鸭', '飞龙汤', '西湖醋鱼', '四川麻婆豆腐', '北京烤鸭'], '_i12': 'def insert_number(number, my_list=[666, 888]):\\n    my_list.append(number)\\n    print(my_list)\\n\\n\\n# 调用函数\\ninsert_number(1)\\n\\n# 多次调用\\ninsert_number(2)\\ninsert_number(3)', 'insert_number': <function insert_number at 0x7f2a77f5c4a0>, '_i13': 'def insert_number(number, my_list=None):\\n    # 判断, 如果列表为空, 则在调用函数时创建一个空列表\\n    if my_list is None:\\n        my_list = []\\n    my_list.append(number)\\n    print(my_list)\\n\\n\\n# 创建一个列表\\nnumber_list = [666, 888]\\n# 调用函数\\ninsert_number(1, number_list)\\n\\nnumber2_list = [10, 20, 30, 40, 50]\\n# 多次调用\\ninsert_number(2, number2_list)\\ninsert_number(3)', 'number_list': [666, 888, 1], 'number2_list': [10, 20, 30, 40, 50, 2], '_i14': \"# 制作冰激凌\\n# * 表示可以接收多个参数 (0个或任意个)  args => arguments 形式参数 (形参)\\ndef make_icecream(*args):\\n    '''列出制作冰激凌的配料'''\\n    print(f'{args}, {type(args)}')  # 元组类型的参数\\n    print('冰激凌所添加的配料如下: ')\\n    for topping in args:\\n        print(topping)\\n\\n\\nmake_icecream('草莓酱')\\nmake_icecream('草莓酱', '葡萄干', '巧克力碎片')\", 'make_icecream': <function make_icecream at 0x7f2a77ee7f60>, '_i15': \"# 设计函数时, 实现一般参数与任意参数结合的参数列表 -- 至少传一个参数\\ndef make_icecream(icecream_type, *args):\\n    '''列出制作冰激凌的配料'''\\n    print(f'{args}, {type(args)}')\\n    print('冰激凌所添加的配料如下: ')\\n    for topping in args:\\n        print(topping)\\n\\n\\nmake_icecream('香草', '草莓酱')\\nmake_icecream('芒果', '草莓酱', '葡萄干', '巧克力碎片')\", '_i16': \"# ** 表示关键词参数, 相当于 `键值对` 参数\\n# kwargs => keyword arguments 关键词/关键字形参\\ndef build_dict(name, age, **kwargs):\\n    '''建立学生成绩字典数据'''\\n    score = {}\\n    score['name'] = name\\n    score['age'] = age\\n    print(f'{kwargs}, {type(kwargs)}')      # 字典数据类型\\n    # 遍历 kwargs 字典类型的数据\\n    for key, value in kwargs.items():\\n        score[key] = value\\n    # 循环结束后, 将 score 字典返回\\n    return score\\n\\n\\nzhangsan_dict = build_dict('张三', 20, chinese=90, math=90, english=59, python=100)\\nprint(zhangsan_dict)\\n\\nscore_dict = {'chinese': 89, 'math': 90, 'english': 99, 'python': 98}\\nlisi_dict = build_dict('李四', 18, **score_dict)\\nprint(lisi_dict)\", 'build_dict': <function build_dict at 0x7f2a77f5c860>, 'zhangsan_dict': {'name': '张三', 'age': 20, 'chinese': 90, 'math': 90, 'english': 59, 'python': 100}, 'score_dict': {'chinese': 89, 'math': 90, 'english': 99, 'python': 98}, 'lisi_dict': {'name': '李四', 'age': 18, 'chinese': 89, 'math': 90, 'english': 99, 'python': 98}, '_i17': \"def build_dict(name, age, **kwargs):\\n    '''\\n    建立学生成绩字典数据\\n    name : 学生姓名\\n    age : 学生年龄\\n    kwargs : 学生各科成绩数据\\n    '''\\n    score = {}\\n    score['name'] = name\\n    score['age'] = age\\n    print(f'{kwargs}, {type(kwargs)}')\\n    # 遍历 kwargs 字典类型的数据\\n    for key, value in kwargs.items():\\n        score[key] = value\\n    # 循环结束后, 将 score 字典返回\\n    return score\\n\\n# 查看文档字符串 (Document String)\\n# 函数名 : 地址\\n# 函数名() -> 这是函数调用\\nhelp(build_dict)\\n\\n# 查看函数的注释\\nprint(build_dict.__doc__)\", '_i18': \"# 定义一个函数\\ndef upper_str(text):\\n    return text.upper()\\n\\n# 调用\\nprint(upper_str('hello world'))\\n\\n# 既然函数也是一个对象, 所以函数可以赋值给另外一个变量\\n# 对象就是内存中的一个 `地址`\\na = upper_str\\n\\nprint(a('hello world'))\\n\\nprint(f'{a = }, {upper_str = }')\\nprint(f'{type(a) = }, {type(upper_str) = }')\", 'upper_str': <function upper_str at 0x7f2a77f5cae0>, '_i19': '# 自定义一个函数\\ndef multiply(data):\\n    result = 1\\n    for i in data:\\n        result *= i\\n    return result\\n\\n\\nx = (1, 2, 3, 4, 5)\\n# 系统的内置（built-in）函数  min, max, sum ...\\nmath_list = [min, max, sum, multiply]\\nfor func in math_list:\\n    # func 函数名称   func() 调用函数, 注意调用时需要传递参数\\n    print(func, func(x))', 'multiply': <function multiply at 0x7f2a77f5d120>, 'math_list': [<built-in function min>, <built-in function max>, <built-in function sum>, <function multiply at 0x7f2a77f5c720>], 'func': <function func at 0x7f2a77f5d620>, '_i20': \"def add(x, y):\\n    return x + y\\n\\ndef mul(x, y):\\n    return x * y\\n\\n# func : function 函数/功能\\ndef running(func, arg1, arg2):\\n    # 调用传入的 func 函数, 并将参数传递给 func 函数\\n    return func(arg1, arg2)\\n\\n# 函数可以作为参数实现传递\\nr1 = running(add, 10, 20)\\nprint(f'{r1 = }')\\n\\nr2 = running(mul, 10, 20)\\nprint(f'{r2 = }')\", 'add': <function add at 0x7f2a77f5cea0>, 'mul': <function mul at 0x7f2a77f5cf40>, 'running': <function running at 0x7f2a77f5cfe0>, 'r1': 120, 'r2': 120, '_i21': 'def multiply(*args):\\n    mul = 1\\n    for i in args:\\n        mul = mul * i\\n    return mul\\n\\n\\ndef run_multiply_args(func, *args):\\n    return func(*args)\\n\\n\\n# 调用函数\\nresult = run_multiply_args(multiply, 1, 2, 3, 4, 5)\\nprint(result)', 'run_multiply_args': <function run_multiply_args at 0x7f2a77f5cd60>, '_i22': \"# 嵌套函数\\ndef distance(x1, y1, x2, y2):\\n    # 定义一个开根的内部函数\\n    def my_sqrt(z):\\n        return z ** 0.5\\n    dx = (x1 - x2) ** 2\\n    dy = (y1 - y2) ** 2\\n    return my_sqrt(dx + dy)\\n\\n# 调用函数\\nresult = distance(3, 7, 6, 3)\\nprint(f'{result = }')\", 'distance': <function distance at 0x7f2a77f5cb80>, '_i23': \"def outer():\\n    print('outer running ...')\\n    # inner() 函数主要实现 1~n 之间的整型数值累加\\n    def inner(n):\\n        print('inner running ...', inner)       # inner 函数名字其实就是地址\\n        return sum(range(1, n+1))\\n    # 函数可以作为回传值\\n    return inner\\n\\n# 调用函数, 但是返回的结果也是一个函数\\nfunc = outer()\\nprint(f'{func = }')\\n\\n# func() 其实调用的是 inner() 这个函数\\nresult = func(10)\\nprint(f'{result = }')\", 'outer': <function outer at 0x7f2a77f5d1c0>, '_i24': '# 实现计算一次函数 : 5x + 10\\n# kx + b  => k 是斜率  b 是截距\\ndef outer():\\n    # 外部函数的变量\\n    b = 10\\n    def inner(x):\\n        return 5 * x + b\\n    # 返回内部函数对象\\n    return inner  # 没有小括号()，不会调用；取决于什么时候调\\n\\n\\n# 调用函数\\nfunc = outer()      # func 就是线性函数  f(x) = 5x + 10\\n\\nprint(func(1))\\nprint(func(10))', '_i25': '# 定义一个灵活的线性函数\\ndef outer(k, b):\\n    def inner(x):\\n        return k * x + b\\n    return inner\\n\\n\\n# 调用\\nfunc1 = outer(1, 2)        # f(x) = x + 2\\nprint(func1(5))\\nprint(func1(10))\\n\\n# 在这里我们发现程序代码可以重复使用, 此外如果没有闭包(closure), 我们就需要传递 k, b, x 参数\\n# 所以 closure 可以让程序设计更有效率, 同时未来扩充时程序可以更容易移植\\nfunc2 = outer(3, 4)         # f(x) = 3x + 4\\nprint(func2(5))\\nprint(func2(10))', 'func1': <function outer.<locals>.inner at 0x7f2a77f5d580>, 'func2': <function outer.<locals>.inner at 0x7f2a77f5d440>, '_i26': \"# 求 5 的阶乘 (5!)\\n\\n# 方式一\\nr1 = 5 * 4 * 3 * 2 * 1\\nprint(f'{r1 = }')\\n\\n# 方式二\\nr2 = 1\\nfor i in range(5, 0, -1):  \\n    r2 *= i\\nprint(f'{r2 = }')\\n\\n# 方式三 (递归函数实现阶乘)\\ndef factorial(n):\\n    if n == 1:\\n        # 程序进到这里, 就是求 1! = 1\\n        return 1\\n    else:\\n        return n * factorial(n-1)\\n\\n\\n# 外部调用\\nn = 5\\nr3 = factorial(n)\\nprint(f'{r3 = }')\", 'i': 1, 'factorial': <function factorial at 0x7f2a77f5d3a0>, 'n': 5, 'r3': 120, '_i27': 'for i in range(5, 0, -1):print(i)', '_i28': \"# 导入 sys 模块 (Python内置模块)\\nimport sys\\n\\n# 修改递归的默认限制\\nsys.setrecursionlimit(2000)  # 可以设定指定的递归深度\\n\\n# 递归的最大深度\\nlimit = sys.getrecursionlimit()    # 默认是3000\\nprint(f'{limit = }')\", 'sys': <module 'sys' (built-in)>, 'limit': 2000, '_i29': \"def func():\\n    a = 666\\n    print(f'自定义函数: {msg}, {a = }')\\n\\n\\n# 主函数\\n# 主函数中定义的变量属于全局变量\\nmsg = 'Global Variable'\\nprint(f'主函数: {msg}')\\n\\n# 调用自定义函数\\nfunc()\", 'msg': 'Python', '_i30': \"def func():\\n    msg = 'Local Variable'\\n    print(f'自定义函数: {msg = }')\\n\\nmsg = 'Global Variable'\\nprint(f'主函数: {msg = }')\\n\\n# 调用自定义函数\\nfunc()\", '_i31': \"def func():\\n    # 这不是修改主函数中的 msg 变量, 这是自定义函数重新定义了与主函数中同名的变量\\n    msg = 'Java'\\n\\n\\nmsg = 'Python'\\nprint(f'没有调用前: {msg = }')\\n\\n# 调用自定义函数\\nfunc()\\n\\nprint(f'调用后: {msg = }')\", '_i32': \"def func():\\n    # 如果要修改全局变量, 在自定义函数中, 需要定义 global 关键字\\n    global msg\\n    msg = 'Java'\\n\\n\\nmsg = 'Python'\\nprint(f'没有调用前: {msg = }')\\n\\n# 调用自定义函数\\nfunc()\\n\\nprint(f'调用后: {msg = }')\", '_i33': \"def func():\\n    language = 'Java'\\n    print(f'局部变量: {locals()}')\\n\\n\\nmsg = 'Python'\\nprint(f'全局变量: {globals()}')\\n\\nfunc()\"}\n",
      "局部变量: {'language': 'Java'}\n"
     ]
    }
   ],
   "source": [
    "def func():\n",
    "    language = 'Java'\n",
    "    print(f'局部变量: {locals()}')\n",
    "\n",
    "\n",
    "msg = 'Python'\n",
    "print(f'全局变量: {globals()}')\n",
    "\n",
    "func()"
   ]
  },
  {
   "cell_type": "markdown",
   "id": "7c5a30ce-84bd-4c19-8c7d-96ea11c86669",
   "metadata": {},
   "source": [
    "* __nonlocal变量__\n",
    "\n",
    "在Python的程序设计中还提供一种变量称nonlocal变量，它的用法与global相同，不过global是指最上层变量，nonloca指的是上一层变量。"
   ]
  },
  {
   "cell_type": "markdown",
   "id": "74f5cec5-20e2-4412-a8ad-febb88f4a99a",
   "metadata": {},
   "source": [
    "### Test33"
   ]
  },
  {
   "cell_type": "code",
   "execution_count": 34,
   "id": "5fc40f09-b842-4668-9448-cdda8b0730e7",
   "metadata": {},
   "outputs": [
    {
     "name": "stdout",
     "output_type": "stream",
     "text": [
      "主函数: x = 1\n",
      "主函数: y = 2\n",
      "inner 输出: x = 1\n",
      "inner 输出: z = 666\n"
     ]
    }
   ],
   "source": [
    "def outer():\n",
    "    z = 666\n",
    "    def inner():\n",
    "        global x\n",
    "        # nonlocal 表示访问上一层变量 z\n",
    "        nonlocal z\n",
    "        print(f'inner 输出: {x = }')\n",
    "        print(f'inner 输出: {z = }')\n",
    "    # 外层函数直接调用内层函数\n",
    "    inner()\n",
    "\n",
    "\n",
    "\n",
    "x = 1\n",
    "y = 2\n",
    "print(f'主函数: {x = }')\n",
    "print(f'主函数: {y = }')\n",
    "\n",
    "# 在主函数中直接调用外层函数\n",
    "outer()"
   ]
  },
  {
   "cell_type": "markdown",
   "id": "87ef6f75-8f82-4d96-a881-b5b9a8f39c81",
   "metadata": {},
   "source": [
    "# 高阶函数设计"
   ]
  },
  {
   "cell_type": "markdown",
   "id": "69ee6e3b-8652-4f8b-af32-763c33141474",
   "metadata": {},
   "source": [
    "## 匿名函数lambda"
   ]
  },
  {
   "cell_type": "markdown",
   "id": "587c7bc6-b721-4a2f-a324-ec7ada4324c7",
   "metadata": {},
   "source": [
    "所谓匿名函数(Anonymous Function）是指一个没有名称的函数，适合使用在程序中只存在一小段时间的情况，Python使用def定义一般函数，匿名函数则使用lambda来定义，有人称之为lambda表达式，也可以将匿名函数称lambda函数，有时会将匿名函数与Python的内置函数filter()，map()，reduce()等共同使用，此时匿名函数将只是这些函数的参数。"
   ]
  },
  {
   "cell_type": "markdown",
   "id": "0b96b6ad-7fab-4308-89a8-0eb7adaad233",
   "metadata": {},
   "source": [
    "* 匿名函数lambda的语法"
   ]
  },
  {
   "cell_type": "markdown",
   "id": "cd7bb894-fe81-44b2-818a-c2c3ee376a93",
   "metadata": {},
   "source": [
    "```python\n",
    "lambda arg1[,arg2, ... ,argn]:expression  # arg1是参数，可以有多个参数 ， 格式 : lambda 参数列表:执行语句\n",
    "```"
   ]
  },
  {
   "cell_type": "markdown",
   "id": "167243c8-8a45-48bf-8fc8-2ab09eaf8b66",
   "metadata": {},
   "source": [
    "匿名函数最大特色是可以有许多的参数，但是只能有一个程序表达式，然后可以将执行结果回传。"
   ]
  },
  {
   "cell_type": "markdown",
   "id": "62e74c88-bef9-4229-888b-0755f9b1b479",
   "metadata": {},
   "source": [
    "### Test34"
   ]
  },
  {
   "cell_type": "code",
   "execution_count": 35,
   "id": "7cec9888-7ee4-42a0-846c-1f150831d916",
   "metadata": {},
   "outputs": [
    {
     "name": "stdout",
     "output_type": "stream",
     "text": [
      "25\n",
      "25\n",
      "----------\n",
      "b = <function <lambda> at 0x7f2a77f5d9e0>\n",
      "25\n",
      "----------\n",
      "12\n",
      "12\n"
     ]
    }
   ],
   "source": [
    "# 一般函数使用 def 关键字定义\n",
    "def square(x):\n",
    "    v = x ** 2\n",
    "    return v\n",
    "\n",
    "# 函数名称重新赋值, 意味着 a 也指向了 square 函数\n",
    "a = square\n",
    "print(square(5))\n",
    "print(a(5))\n",
    "\n",
    "print('-' * 10)\n",
    "\n",
    "# 匿名函数使用 lambda 定义\n",
    "# 格式 : lambda 参数列表: 执行语句\n",
    "# 匿名函数没有名字, 如何实现调用呢? 我们目前只能定义变量接收这个匿名函数在内存中的地址\n",
    "b = lambda x: x**2\n",
    "print(f'{b = }')\n",
    "print(b(5))\n",
    "\n",
    "print('-' * 10)\n",
    "\n",
    "def mul(m, n):\n",
    "    v = m * n\n",
    "    return v\n",
    "\n",
    "r = mul(3, 4)\n",
    "print(r)\n",
    "\n",
    "c = lambda m, n: m * n\n",
    "print(c(3, 4))"
   ]
  },
  {
   "cell_type": "markdown",
   "id": "9db247a2-b8c6-4f1b-a03b-d0f0b383c2a2",
   "metadata": {},
   "source": [
    "## 使用lambda匿名函数的理由"
   ]
  },
  {
   "cell_type": "markdown",
   "id": "4ccfc845-dfdc-4a33-957b-838810f86081",
   "metadata": {},
   "source": [
    "使用lambda的更佳时机是在一个函数的内部。"
   ]
  },
  {
   "cell_type": "markdown",
   "id": "3e504f47-12f9-4244-b1a8-20400656509b",
   "metadata": {},
   "source": [
    "### Test35"
   ]
  },
  {
   "cell_type": "code",
   "execution_count": 36,
   "id": "4d30e173-be5e-44ab-a8b1-38b62afc448c",
   "metadata": {},
   "outputs": [
    {
     "name": "stdout",
     "output_type": "stream",
     "text": [
      "25\n",
      "23\n"
     ]
    }
   ],
   "source": [
    "# 线性函数 2x + b\n",
    "def func(b):\n",
    "    # 问题 : func 函数的是什么?  函数\n",
    "    return lambda x: 2 * x + b\n",
    "\n",
    "\n",
    "linear1 = func(5)       # linear1 是一个什么样的函数表达式?  f(x) = 2x + 5\n",
    "print(linear1(10))\n",
    "\n",
    "\n",
    "linear2 = func(3)       # linear2 是一个什么样的函数表达式?  f(x) = 2x + 3\n",
    "print(linear2(10))"
   ]
  },
  {
   "cell_type": "markdown",
   "id": "b06c7a3a-0991-4758-9dcd-cf6b0368c096",
   "metadata": {},
   "source": [
    "## 匿名函数应用在高阶函数的参数"
   ]
  },
  {
   "cell_type": "markdown",
   "id": "55e08f67-49d2-42a4-b317-a41756fd145a",
   "metadata": {},
   "source": [
    "匿名函数一般用在不需要函数名称的场合，例如：一些高阶函数(Higher-Order-Function)的部分参数是函数，这是就很适合使用功能匿名函数，同时可以让程序变得更简洁。"
   ]
  },
  {
   "cell_type": "markdown",
   "id": "bbcb32ad-8bfa-461f-99c3-da7a4af8d583",
   "metadata": {},
   "source": [
    "### Test36"
   ]
  },
  {
   "cell_type": "code",
   "execution_count": 37,
   "id": "e90c6392-50d8-4baf-85b2-4d1b28a940ee",
   "metadata": {},
   "outputs": [
    {
     "name": "stdout",
     "output_type": "stream",
     "text": [
      "My dream car is 仰望U8\n",
      "My dream car is 蔚来ES8\n",
      "My dream car is 红旗H9\n",
      "--------------------\n",
      "My dream car is 仰望U8\n",
      "My dream car is 蔚来ES8\n",
      "My dream car is 红旗H9\n"
     ]
    }
   ],
   "source": [
    "# 参数 : car 汽车, func 表示函数\n",
    "def my_car(cars, func):\n",
    "    for car in cars:\n",
    "        # 调用 func 函数, 将 car 作为参数传入\n",
    "        print(func(car))\n",
    "\n",
    "# 注意 : 参数\n",
    "def dream_car(brand):\n",
    "    return 'My dream car is ' + brand\n",
    "\n",
    "\n",
    "# 主函数\n",
    "brands = ['仰望U8', '蔚来ES8', '红旗H9']\n",
    "my_car(brands, dream_car)\n",
    "\n",
    "print('-' * 20)\n",
    "\n",
    "# 使用 lambda 匿名函数作为参数进行传递\n",
    "my_car(brands, lambda c: 'My dream car is ' + c)"
   ]
  },
  {
   "cell_type": "markdown",
   "id": "ba8c6705-5e36-417d-be7a-f35dcbae0632",
   "metadata": {},
   "source": [
    "## 匿名函数使用与filter()"
   ]
  },
  {
   "cell_type": "markdown",
   "id": "7704a112-2af0-4d2f-90e1-5eed1fb1adf4",
   "metadata": {},
   "source": [
    "有一个内置函数filter()，主要是筛选序列。"
   ]
  },
  {
   "cell_type": "markdown",
   "id": "ed06292a-8de0-4185-be52-3ba3295c947d",
   "metadata": {},
   "source": [
    "```python\n",
    "filter(func, iterable)\n",
    "```"
   ]
  },
  {
   "cell_type": "markdown",
   "id": "acf0d987-f5fa-4d1f-8d3c-f9fc28c24dc8",
   "metadata": {},
   "source": [
    "### Test37"
   ]
  },
  {
   "cell_type": "code",
   "execution_count": 38,
   "id": "77a06951-5e9c-42d0-9bc6-0476c939df87",
   "metadata": {},
   "outputs": [
    {
     "name": "stdout",
     "output_type": "stream",
     "text": [
      "new_numbers = <filter object at 0x7f2a77f569e0>\n",
      "new_numbers2 = [3, 6, 9, 12, 15, 18]\n"
     ]
    }
   ],
   "source": [
    "# filter(func, iterable) 高阶函数\n",
    "# 参数 1 : 传递一个函数\n",
    "# 参数 2 : 传递一个可迭代对象\n",
    "\n",
    "# 定义一个整型数据列表\n",
    "numbers = [i for i in range(1, 21)]\n",
    "# filter() 过滤器函数\n",
    "# 在 numbers 将 3 的倍数的整数留下来\n",
    "\n",
    "new_numbers = filter(lambda x: x % 3 == 0, numbers)\n",
    "print(f'{new_numbers = }')\n",
    "\n",
    "new_numbers2 = list(filter(lambda x: x % 3 == 0, numbers))\n",
    "print(f'{new_numbers2 = }')"
   ]
  },
  {
   "cell_type": "markdown",
   "id": "2926c5df-3a4a-4bd7-aa81-ef75a2918c25",
   "metadata": {},
   "source": [
    "细节debug:"
   ]
  },
  {
   "cell_type": "code",
   "execution_count": 39,
   "id": "61a4ad15-c085-4440-b6a7-57362cd375df",
   "metadata": {},
   "outputs": [
    {
     "data": {
      "text/plain": [
       "True"
      ]
     },
     "execution_count": 39,
     "metadata": {},
     "output_type": "execute_result"
    }
   ],
   "source": [
    "a11 = lambda x: x % 3 == 0\n",
    "a11(3)"
   ]
  },
  {
   "cell_type": "code",
   "execution_count": 40,
   "id": "64c8bc30-8f14-4475-8970-2622260ba7fd",
   "metadata": {},
   "outputs": [
    {
     "data": {
      "text/plain": [
       "<filter at 0x7f2a77f56050>"
      ]
     },
     "execution_count": 40,
     "metadata": {},
     "output_type": "execute_result"
    }
   ],
   "source": [
    "filter(a11,[1,2,3])   # 返回过滤器对象"
   ]
  },
  {
   "cell_type": "code",
   "execution_count": 41,
   "id": "f7e9a87b-a85a-4ff1-8e75-7fb893b9e164",
   "metadata": {},
   "outputs": [
    {
     "data": {
      "text/plain": [
       "[3]"
      ]
     },
     "execution_count": 41,
     "metadata": {},
     "output_type": "execute_result"
    }
   ],
   "source": [
    "list(filter(a11,[1,2,3])) # 过滤器对象可以遍历或转换，直接转为List"
   ]
  },
  {
   "cell_type": "markdown",
   "id": "a962c42f-4130-4c5d-8627-13c45b3aa82e",
   "metadata": {},
   "source": [
    "## 匿名函数使用与map()"
   ]
  },
  {
   "cell_type": "markdown",
   "id": "b4bac82c-7b63-4d86-b243-dd762eb04735",
   "metadata": {},
   "source": [
    "有一个内置函数map()，主要是映射序列。所谓映射，就是一一对应的关系。"
   ]
  },
  {
   "cell_type": "markdown",
   "id": "f4ba67fe-8ae7-4ef9-b570-039689dcdca3",
   "metadata": {},
   "source": [
    "```python\n",
    "map(func, iterable)\n",
    "```"
   ]
  },
  {
   "cell_type": "markdown",
   "id": "a96cd288-8e06-4f3f-b245-33bd900fb033",
   "metadata": {},
   "source": [
    "### Test38"
   ]
  },
  {
   "cell_type": "code",
   "execution_count": 42,
   "id": "52d03449-96f9-454d-987d-b4080089f9d1",
   "metadata": {},
   "outputs": [
    {
     "name": "stdout",
     "output_type": "stream",
     "text": [
      "r1 = <map object at 0x7f2a77f55a80>\n",
      "r2 = [1, 4, 9, 16, 25, 36, 49, 64, 81, 100]\n"
     ]
    }
   ],
   "source": [
    "numbers = [1, 2, 3, 4, 5, 6, 7, 8, 9, 10]\n",
    "\n",
    "# map(func, iterable) 映射函数\n",
    "r1 = map(lambda x: x ** 2, numbers)\n",
    "print(f'{r1 = }')\n",
    "\n",
    "r2 = list(map(lambda x: x ** 2, numbers))\n",
    "print(f'{r2 = }')"
   ]
  },
  {
   "cell_type": "markdown",
   "id": "5839478c-7eed-4e5b-b095-a45c47acbabe",
   "metadata": {},
   "source": [
    "## 匿名函数使用与reduce()"
   ]
  },
  {
   "cell_type": "markdown",
   "id": "2f04142a-36d2-45f9-bbf3-ca36ece327f5",
   "metadata": {},
   "source": [
    "reduce()函数的功能是对一个可迭代对象中的元素依次进行某种操作，并返回最终的结果。"
   ]
  },
  {
   "cell_type": "markdown",
   "id": "891d6300-aac2-4ed7-b1ce-6de3898113f4",
   "metadata": {},
   "source": [
    "```python\n",
    "reduce(func, iterable)\n",
    "```"
   ]
  },
  {
   "cell_type": "markdown",
   "id": "8bbf8ee3-6eac-4740-89f4-5fce997dddaa",
   "metadata": {},
   "source": [
    "### Test39"
   ]
  },
  {
   "cell_type": "code",
   "execution_count": 43,
   "id": "2adccab6-2fa8-4074-879d-50211a191a74",
   "metadata": {},
   "outputs": [
    {
     "name": "stdout",
     "output_type": "stream",
     "text": [
      "max_value = 9\n",
      "min_value = 1\n",
      "sum_value = 33\n"
     ]
    }
   ],
   "source": [
    "# 模块导入\n",
    "from functools import reduce\n",
    "\n",
    "\n",
    "numbers = [5, 8, 6, 9, 4, 1]\n",
    "# reduce(func, iterable) 缩减函数\n",
    "\n",
    "max_value = reduce(lambda x, y: x if x > y else y, numbers)\n",
    "print(f'{max_value = }')\n",
    "\n",
    "min_value = reduce(lambda x, y: x if x < y else y, numbers)\n",
    "print(f'{min_value = }')\n",
    "\n",
    "# 元素累加\n",
    "sum_value = reduce(lambda x, y: x + y, numbers)\n",
    "print(f'{sum_value = }')"
   ]
  },
  {
   "cell_type": "markdown",
   "id": "5ad2a5d7-cdc1-47df-bd1a-72ef370144b7",
   "metadata": {},
   "source": [
    "## pass与函数"
   ]
  },
  {
   "cell_type": "markdown",
   "id": "3182dd4f-2b75-46be-a395-0b1814267b0d",
   "metadata": {},
   "source": [
    "其实当我们在设计大型程序时，可能会先规划各个函数的功能，然后逐一完成各个函数的设计，但是在程序完成前我们可以先将尚未完成的函数内容放上pass。"
   ]
  },
  {
   "cell_type": "markdown",
   "id": "3db477ec-8d7b-4a4c-88a9-35c1c1d8d68f",
   "metadata": {},
   "source": [
    "## type关键词应用在函数"
   ]
  },
  {
   "cell_type": "markdown",
   "id": "b44bd303-442c-4bca-994b-4a539ec2bf1d",
   "metadata": {},
   "source": [
    "### Test40"
   ]
  },
  {
   "cell_type": "code",
   "execution_count": 44,
   "id": "a756173a-18cf-4082-868f-0608ba8466e8",
   "metadata": {},
   "outputs": [
    {
     "name": "stdout",
     "output_type": "stream",
     "text": [
      "列出 func 的类型: <class 'function'>\n",
      "列出 lambda 的类型: <class 'function'>\n",
      "列出 print 的类型: <class 'builtin_function_or_method'>\n"
     ]
    }
   ],
   "source": [
    "def func(*agrs):\n",
    "    pass\n",
    "\n",
    "print(f'列出 func 的类型: {type(func)}')\n",
    "print(f'列出 lambda 的类型: {type(lambda x: x**2)}')\n",
    "print(f'列出 print 的类型: {type(print)}')"
   ]
  },
  {
   "cell_type": "markdown",
   "id": "bb3ce221-8d7b-4297-81e2-3a588a48aa88",
   "metadata": {},
   "source": [
    "直接定义的函数称为function，如果是在class类里面定义的函数称为method；二者的本质其实是一样的。"
   ]
  },
  {
   "cell_type": "markdown",
   "id": "036a05e4-565f-4647-8e3f-29993fecf4e7",
   "metadata": {},
   "source": [
    "## 设计自己的range()"
   ]
  },
  {
   "cell_type": "markdown",
   "id": "72a9f96a-d248-484a-9811-1a5c4feedc7d",
   "metadata": {},
   "source": [
    "在Python2版本，range()所回传的是列表，在Python3版本所回传的则是range对象，range对象最大的特色是它不需要预先存储所有序列范围的值，因为可以节省内存与增加程序效率，每次迭代时，它会记得上次调用的位置，同时回传下一个位置，这是一般函数做不到的。"
   ]
  },
  {
   "cell_type": "code",
   "execution_count": 45,
   "id": "eb87c165-6b8f-4dbe-b33a-50ef782e37a9",
   "metadata": {},
   "outputs": [
    {
     "data": {
      "text/plain": [
       "range(0, 10)"
      ]
     },
     "execution_count": 45,
     "metadata": {},
     "output_type": "execute_result"
    }
   ],
   "source": [
    "range(10) # 返回0-9之间的数值，返回的是一个range对象（生成式 genarate 对象）可以迭代"
   ]
  },
  {
   "cell_type": "markdown",
   "id": "f5cfbbfb-bcda-49e6-a6e5-3b444cee951c",
   "metadata": {},
   "source": [
    "接下来自己设计一个。"
   ]
  },
  {
   "cell_type": "markdown",
   "id": "36c1d3fd-f8e1-489c-9946-6485ed409a16",
   "metadata": {},
   "source": [
    "### Test41"
   ]
  },
  {
   "cell_type": "code",
   "execution_count": 46,
   "id": "4b5f6cda-7287-41a7-ad64-43f65db57c69",
   "metadata": {},
   "outputs": [
    {
     "name": "stdout",
     "output_type": "stream",
     "text": [
      "r1 = <generator object my_range at 0x7f2a77f34e50>\n",
      "1 3 5 7 9 \n",
      "v1 = 10\n",
      "v2 = 11\n"
     ]
    }
   ],
   "source": [
    "# 设计自己的 range() 函数\n",
    "def my_range(*args):  # 可以接收任意个数的参数\n",
    "    # 判断 args 有几个参数\n",
    "    len_ = len(args)\n",
    "    # 定义三个变量：start, stop, step \n",
    "    start = 0\n",
    "    stop = 0\n",
    "    step = 1\n",
    "    # 判断\n",
    "    if len_ == 1:\n",
    "        stop = args[0]\n",
    "    elif len_ == 2:\n",
    "        start = args[0]\n",
    "        stop = args[1]\n",
    "    elif len_ == 3:\n",
    "        start = args[0]\n",
    "        stop = args[1]\n",
    "        step = args[2]\n",
    "    else:\n",
    "        # 默认处理, 直接返回, 意味着不处理（程序相当于没执行）\n",
    "        return\n",
    "    # 正常的逻辑处理\n",
    "    n = start\n",
    "    while n < stop:\n",
    "        # yield 关键字返回的是一个生成式对象 (generator 对象)\n",
    "        yield n  # 不用return\n",
    "        # 让 n 自增\n",
    "        n += step\n",
    "\n",
    "\n",
    "# range(10)  返回 0~9 之间的数值, 返回是一个 range 对象 (生成式 generator) 可以迭代\n",
    "# r1 = my_range(10)\n",
    "# r1 = my_range(1,10,3)\n",
    "r1 = my_range(1, 11, 2)  # 返回的是一个生成式对象：generator object\n",
    "print(f'{r1 = }')\n",
    "\n",
    "# generator object可以迭代\n",
    "for i in r1:\n",
    "    print(i, end=' ')\n",
    "print()\n",
    "\n",
    "r2 = my_range(10, 21)\n",
    "# 生成式对象可以使用 next() 内置函数实现元素的一一获取\n",
    "v1 = next(r2)\n",
    "print(f'{v1 = }')\n",
    "\n",
    "v2 = next(r2)\n",
    "print(f'{v2 = }')"
   ]
  },
  {
   "cell_type": "markdown",
   "id": "4db4d2c5-5022-45df-ac9c-ce572e5d092e",
   "metadata": {},
   "source": [
    "return直接返回了，后面的不执行了。yield可以记住历史数据。"
   ]
  },
  {
   "cell_type": "markdown",
   "id": "7d5cd792-b4f8-4a6a-953e-b08316f85627",
   "metadata": {},
   "source": [
    "## 装饰器"
   ]
  },
  {
   "cell_type": "markdown",
   "id": "d6ef036b-936e-4681-844f-7f69b5a7068c",
   "metadata": {},
   "source": [
    "有时候我们想在函数内增加一些功能，但是又不想更改原先的函数，这时可以使用Python所提供的装饰器(decorator)，装饰器其实也是一种函数，此函数会接收一个函数，然后回传另一个函数。"
   ]
  },
  {
   "cell_type": "markdown",
   "id": "25d69029-9a28-4323-9d18-8eb305427406",
   "metadata": {},
   "source": [
    "### Test42-手动处理"
   ]
  },
  {
   "cell_type": "code",
   "execution_count": 47,
   "id": "4a582bdb-0ed5-4a07-ad3f-e6f6f9a697ca",
   "metadata": {},
   "outputs": [
    {
     "name": "stdout",
     "output_type": "stream",
     "text": [
      "Hello 张三 李四 \n",
      "函数名称: greeting\n",
      "函数参数: args = ('张三', '李四'), kwargs = {}\n",
      "HELLO 张三 李四 \n"
     ]
    }
   ],
   "source": [
    "# 装饰器 : 参数--接收一个函数 ； 返回值--返回另一个新函数\n",
    "def upper(func):\n",
    "    # 定义一个新函数\n",
    "    # 参数说明 : *args 接收任意个数的一般参数   **kwargs 接收任意个数的关键字参数\n",
    "    def new_func(*args, **kwargs):\n",
    "        print(f'函数名称: {func.__name__}')\n",
    "        print(f'函数参数: {args = }, {kwargs = }')\n",
    "        # 执行旧的函数\n",
    "        result = func(*args)\n",
    "        # 处理之前函数返回的结果\n",
    "        new_result = result.upper()\n",
    "        return new_result\n",
    "    return new_func\n",
    "\n",
    "# 打招呼函数\n",
    "def greeting(*names):\n",
    "    names_str = ''\n",
    "    # print(f'*names type is {type(names)}') # tuple type\n",
    "    for name in names:\n",
    "        names_str += name + ' '\n",
    "    return 'Hello ' + names_str\n",
    "\n",
    "\n",
    "print(greeting('张三', '李四'))\n",
    "\n",
    "# 手动设置装饰器, 为旧函数增添新功能\n",
    "new_greeting = upper(greeting)\n",
    "print(new_greeting('张三', '李四'))"
   ]
  },
  {
   "cell_type": "markdown",
   "id": "28cd4af4-5182-45b0-9569-436c5278d0e9",
   "metadata": {},
   "source": [
    "### Test43-自动处理"
   ]
  },
  {
   "cell_type": "code",
   "execution_count": 48,
   "id": "40a3c5bd-b7ca-43c2-873b-640a401c0e18",
   "metadata": {},
   "outputs": [
    {
     "name": "stdout",
     "output_type": "stream",
     "text": [
      "函数名称: greeting\n",
      "函数参数: args = ('张三', '李四'), kwargs = {}\n",
      "HELLO 张三 李四 \n"
     ]
    }
   ],
   "source": [
    "# 装饰器 : 参数, 接收一个函数  返回值, 返回另一个新函数\n",
    "def upper(func):\n",
    "    # 定义一个新函数\n",
    "    # 参数说明 : *args 接收任意个数的一般参数   **kwargs 接收任意个数的关键字参数\n",
    "    def new_func(*args, **kwargs):\n",
    "        print(f'函数名称: {func.__name__}')\n",
    "        print(f'函数参数: {args = }, {kwargs = }')\n",
    "        # 执行旧的函数\n",
    "        result = func(*args)\n",
    "        # 处理之前函数返回的结果\n",
    "        new_result = result.upper()\n",
    "        return new_result\n",
    "        \n",
    "    return new_func\n",
    "\n",
    "\n",
    "# 打招呼函数\n",
    "@upper      # 自动设置装饰器 (为该函数增添了一个新功能)\n",
    "def greeting(*names):\n",
    "    names_str = ''\n",
    "    for name in names:\n",
    "        names_str += name + ' '\n",
    "    return 'Hello ' + names_str\n",
    "\n",
    "\n",
    "print(greeting('张三', '李四'))"
   ]
  },
  {
   "cell_type": "markdown",
   "id": "b525780c-509a-4017-81da-7e5104b40630",
   "metadata": {},
   "source": [
    "### Test44"
   ]
  },
  {
   "cell_type": "code",
   "execution_count": 49,
   "id": "13698de7-3d4b-43e3-a776-e1e18b215bc2",
   "metadata": {},
   "outputs": [
    {
     "name": "stdout",
     "output_type": "stream",
     "text": [
      "2.0\n",
      "除数不能为 0\n"
     ]
    }
   ],
   "source": [
    "# 装饰器 : 参数, 函数   返回值, 一个新函数\n",
    "def errcheck(func):\n",
    "    def new_func(*args):\n",
    "        if args[1] != 0:\n",
    "            # 如果除数不为 0, 则执行原先的函数\n",
    "            return func(*args)\n",
    "        else:\n",
    "            # 除数为 0, 不要调用原来的函数\n",
    "            return '除数不能为 0'\n",
    "            \n",
    "    return new_func\n",
    "\n",
    "\n",
    "# 自定义一个除法函数\n",
    "# 需求 : 为这个除法函数增添一个新功能, 检查除数是否为 0 条件: 不允许直接修改这个旧函数\n",
    "@errcheck\n",
    "def my_division(x, y):\n",
    "    v = x / y\n",
    "    return v\n",
    "\n",
    "  \n",
    "print(my_division(6,3))\n",
    "print(my_division(6,0))     # ZeroDivisionError: division by zero"
   ]
  },
  {
   "cell_type": "markdown",
   "id": "4fc04166-126f-49df-af39-d72c4f3b5496",
   "metadata": {},
   "source": [
    "### Test45"
   ]
  },
  {
   "cell_type": "code",
   "execution_count": 50,
   "id": "26d56e26-e504-4d09-94c4-084062a17e75",
   "metadata": {},
   "outputs": [
    {
     "name": "stdout",
     "output_type": "stream",
     "text": [
      "<bold>HELLO PYTHON</bold>\n"
     ]
    }
   ],
   "source": [
    "# 加粗标签装饰器\n",
    "def bold(func):\n",
    "    def wrapper(str):\n",
    "        return '<bold>' + func(str) + '</bold>'\n",
    "    return wrapper\n",
    "\n",
    "\n",
    "# 大写装饰器\n",
    "def upper(func):\n",
    "    def new_func(str):\n",
    "        result = func(str)\n",
    "        new_result = result.upper()\n",
    "        return new_result\n",
    "    return new_func\n",
    "\n",
    "\n",
    "@bold\n",
    "@upper\n",
    "def greeting(str):\n",
    "    return 'Hello ' + str\n",
    "\n",
    "\n",
    "# 输出结果:  <bold>HELLO PYTHON</bold>\n",
    "print(greeting('Python'))"
   ]
  },
  {
   "cell_type": "markdown",
   "id": "213169f1-f5cf-4412-93e2-319ffb4c7b67",
   "metadata": {},
   "source": [
    "# 函数专题"
   ]
  },
  {
   "cell_type": "markdown",
   "id": "8a499083-3c3c-46e5-9707-4225ca02fcc9",
   "metadata": {},
   "source": [
    "## 用函数重新设计文章单词出现次数程序"
   ]
  },
  {
   "cell_type": "markdown",
   "id": "79b825cb-83ce-4f77-8922-77f394989d58",
   "metadata": {},
   "source": [
    "### Test46"
   ]
  },
  {
   "cell_type": "code",
   "execution_count": 51,
   "id": "f225ab5a-df86-4b0f-af76-f3a9c607c11a",
   "metadata": {},
   "outputs": [
    {
     "name": "stdout",
     "output_type": "stream",
     "text": [
      "原始作文:\n",
      "When I was small, my mother told me that apple was good for my health, \n",
      "because it contained so many vitamins. Since then, I almost eat an apple a day, \n",
      "I fall in love with apple. The apple not only tastes sweet, but also makes my skin look good, \n",
      "there is a saying that once an apple a day, keeps the doctor away. It really happens to me.\n",
      "修改后的作文: \n",
      "when i was small my mother told me that apple was good for my health \n",
      "because it contained so many vitamins since then i almost eat an apple a day \n",
      "i fall in love with apple the apple not only tastes sweet but also makes my skin look good \n",
      "there is a saying that once an apple a day keeps the doctor away it really happens to me\n",
      "{'when': 1, 'i': 3, 'was': 2, 'small': 1, 'my': 3, 'mother': 1, 'told': 1, 'me': 2, 'that': 2, 'apple': 5, 'good': 2, 'for': 1, 'health': 1, 'because': 1, 'it': 2, 'contained': 1, 'so': 1, 'many': 1, 'vitamins': 1, 'since': 1, 'then': 1, 'almost': 1, 'eat': 1, 'an': 2, 'a': 3, 'day': 2, 'fall': 1, 'in': 1, 'love': 1, 'with': 1, 'the': 2, 'not': 1, 'only': 1, 'tastes': 1, 'sweet': 1, 'but': 1, 'also': 1, 'makes': 1, 'skin': 1, 'look': 1, 'there': 1, 'is': 1, 'saying': 1, 'once': 1, 'keeps': 1, 'doctor': 1, 'away': 1, 'really': 1, 'happens': 1, 'to': 1}\n"
     ]
    }
   ],
   "source": [
    "# 定义一个函数, 修改文章内容\n",
    "def modify_str(str):\n",
    "    str = str.lower()\n",
    "    # 处理标签符号\n",
    "    for ch in str:\n",
    "        if ch in '?,.':\n",
    "            str = str.replace(ch, '')\n",
    "    return str\n",
    "\n",
    "\n",
    "# 定义一个函数, 统计单词出现的次数\n",
    "def count_words(str):\n",
    "    str_list = str.split()     # split() 方法默认使用空格切割\n",
    "    mydict = {wd: str_list.count(wd) for wd in str_list}  # 字典生成器\n",
    "    return mydict\n",
    "\n",
    "\n",
    "composition = '''When I was small, my mother told me that apple was good for my health, \n",
    "because it contained so many vitamins. Since then, I almost eat an apple a day, \n",
    "I fall in love with apple. The apple not only tastes sweet, but also makes my skin look good, \n",
    "there is a saying that once an apple a day, keeps the doctor away. It really happens to me.'''\n",
    "\n",
    "print('原始作文:')\n",
    "print(composition)\n",
    "\n",
    "# 调用函数\n",
    "composition = modify_str(composition)\n",
    "\n",
    "print('修改后的作文: ')\n",
    "print(composition)\n",
    "\n",
    "# 调用函数\n",
    "result = count_words(composition)\n",
    "print(result)"
   ]
  },
  {
   "cell_type": "markdown",
   "id": "8d60efdb-de21-4269-b71c-f6d481fcf59a",
   "metadata": {},
   "source": [
    "## 质数PrimeNumber"
   ]
  },
  {
   "cell_type": "markdown",
   "id": "f895fc67-9444-458c-aef0-53b3562839a8",
   "metadata": {},
   "source": [
    "### Test47"
   ]
  },
  {
   "cell_type": "code",
   "execution_count": 53,
   "id": "86abdc00-04d7-4612-9689-0822bf89daaf",
   "metadata": {},
   "outputs": [
    {
     "name": "stdin",
     "output_type": "stream",
     "text": [
      "请输入一个大于1的整数做质数测试:  13\n"
     ]
    },
    {
     "name": "stdout",
     "output_type": "stream",
     "text": [
      "isprime = True\n"
     ]
    }
   ],
   "source": [
    "# 定义一个函数, 实现质数的判断\n",
    "def is_prime(n):\n",
    "    # 如果 n 不能被 2~(n-1) 之间的整数整除, 那么 n 就是质数, 否则 n 不是质数\n",
    "    for i in range(2, n):\n",
    "        if n % i == 0:\n",
    "            return False  # 如果命中就直接返回而不会触发后续的else条件\n",
    "    else:  # 等级应for\n",
    "        return True\n",
    "\n",
    "\n",
    "num = int(input('请输入一个大于1的整数做质数测试: '))\n",
    "# 调用函数\n",
    "isprime = is_prime(num)\n",
    "print(f'{isprime = }')"
   ]
  },
  {
   "cell_type": "markdown",
   "id": "edf79905-7d01-4d6a-b2c0-e83a3320ea74",
   "metadata": {},
   "source": [
    "## 欧几里得算法"
   ]
  },
  {
   "cell_type": "markdown",
   "id": "0d6ee3cc-bd02-4379-83b6-8fb05d5d0704",
   "metadata": {},
   "source": [
    "欧几里得是古希腊的数学家，在数学中，欧几里得算法主要用于求最大公约数，即辗转相除法，这个算法最早出现在欧几里得的<几何原本>"
   ]
  },
  {
   "cell_type": "markdown",
   "id": "932b8511-a90e-4199-8c90-a4e514c4d9ad",
   "metadata": {},
   "source": [
    "* 土地区块划分"
   ]
  },
  {
   "cell_type": "markdown",
   "id": "3f293a6d-6073-4c84-b3e7-9d0a759c2716",
   "metadata": {},
   "source": [
    "![](img/land.jpg)"
   ]
  },
  {
   "cell_type": "markdown",
   "id": "674ba2cf-b0cf-449f-b67f-2d60b4eab491",
   "metadata": {},
   "source": [
    "假设有一块土地长是40米，宽是16米，如果我们想要将此土地划分成许多正方形土地，同时不要浪费土地，则最大的正方形土地边长是多少？"
   ]
  },
  {
   "cell_type": "markdown",
   "id": "095efb69-8579-43ee-9138-a8f3548b3361",
   "metadata": {},
   "source": [
    "其实这类问题在数学中就是最大公约数问题，整块土地的边长就是任意2个要计算最大公约数的数值，最大边长正方形的边长8，就是16和40的最大公约数。"
   ]
  },
  {
   "cell_type": "markdown",
   "id": "4853d4e6-5685-456e-9154-7fb1261d3541",
   "metadata": {},
   "source": [
    "### 最大公约数"
   ]
  },
  {
   "cell_type": "markdown",
   "id": "481a3b32-2e3c-4817-8ef9-32ed5ef108f0",
   "metadata": {},
   "source": [
    "有2个数字分别是n1和n2，所谓的公约数是可以被n1和n2整除的数字，1是它们的公约数，但不是最大公约数，假设最大公约数是gcd(greatest common divisor)，找寻最大公约数可以从n=2，3...，开始，每次找到比较大的公约数时将此n设给gcd，直到n大于n1或n2，最后的gcd值就是最大公约数。"
   ]
  },
  {
   "cell_type": "markdown",
   "id": "cd8e22ce-b2b5-491d-829b-0150bc683743",
   "metadata": {},
   "source": [
    "#### Test48"
   ]
  },
  {
   "cell_type": "code",
   "execution_count": 55,
   "id": "250b7769-d45d-4521-bc79-8b4fbefb24e6",
   "metadata": {},
   "outputs": [
    {
     "name": "stdin",
     "output_type": "stream",
     "text": [
      "请输入两个整型数值,并用逗号分隔:  3,9\n"
     ]
    },
    {
     "name": "stdout",
     "output_type": "stream",
     "text": [
      "最大公约数为: 3\n"
     ]
    }
   ],
   "source": [
    "def gcd(n1, n2):        # n1 = 28, n2 = 49\n",
    "    # 初始化最大公约数\n",
    "    g = 1\n",
    "    # 检测, 从 2 开始\n",
    "    n = 2\n",
    "    # 循环判断\n",
    "    # n <= 28 and n <= 49\n",
    "    while n <= n1 and n <= n2:      # 29 <= 28 and 29 <= 49\n",
    "        if n1 % n == 0 and n2 % n == 0:\n",
    "            g = n       # g = 7\n",
    "        n += 1\n",
    "    return g\n",
    "\n",
    "\n",
    "# a = 28, b = 49\n",
    "a, b = eval(input('请输入两个整型数值,并用逗号分隔: '))  # eval可以取出2个数，但需要使用逗号分隔\n",
    "print(f'最大公约数为: {gcd(a, b)}')"
   ]
  },
  {
   "cell_type": "markdown",
   "id": "b072e0a5-f39a-462a-ade6-bfc6f64d264d",
   "metadata": {},
   "source": [
    "### 辗转相除法\n",
    "\n",
    "1. 计算较大的数\n",
    "2. 让较大的数当作被除数，较小的数当作除数\n",
    "3. 两数相除\n",
    "4. 两数相除的余数当作下一次的除数，原除数变被除数，如此循环直到余数为0，当余数为0时，这时的除数就是最大公约数。"
   ]
  },
  {
   "cell_type": "markdown",
   "id": "8057052b-edf0-4c2b-aef5-e5f56656c895",
   "metadata": {},
   "source": [
    "几何证明："
   ]
  },
  {
   "cell_type": "markdown",
   "id": "dbb5583d-b447-4c59-8d80-227a7b1fa1e6",
   "metadata": {},
   "source": [
    "![](img/gcd.jpg)  \n",
    "![](img/div.jpg)"
   ]
  },
  {
   "cell_type": "markdown",
   "id": "edfd0ea7-9c4c-4128-9223-9fbabe965732",
   "metadata": {},
   "source": [
    "如果两个数互质，最大公约数就是1。"
   ]
  },
  {
   "cell_type": "markdown",
   "id": "4451b55f-bbdf-4171-a363-e35007b3ff2d",
   "metadata": {},
   "source": [
    "#### Test49"
   ]
  },
  {
   "cell_type": "code",
   "execution_count": 56,
   "id": "d9bdcef2-3235-4df1-9ade-a5c786a01ea7",
   "metadata": {},
   "outputs": [
    {
     "name": "stdin",
     "output_type": "stream",
     "text": [
      "请输入两个整型数值,并用逗号分隔:  3,8\n"
     ]
    },
    {
     "name": "stdout",
     "output_type": "stream",
     "text": [
      "最大公约数为: 1\n"
     ]
    }
   ],
   "source": [
    "def gcd(n1, n2):        \n",
    "    # 1. 找到较大数 (默认: n1 > n2)\n",
    "    if n1 < n2:\n",
    "        # 交换位置\n",
    "        n1, n2 = n2, n1 \n",
    "    # 2. 循环判断\n",
    "    while n2 != 0:      # 除数不能为0\n",
    "        # tmp 是余数\n",
    "        tmp = n1 % n2   \n",
    "        # 让余数变为除数，让除数变为被除数\n",
    "        n1, n2 = n2, tmp   \n",
    "    return n1   # 如果除数为0，返回被除数\n",
    "\n",
    "\n",
    "# a = 28, b = 49\n",
    "a, b = eval(input('请输入两个整型数值,并用逗号分隔: '))\n",
    "print(f'最大公约数为: {gcd(a, b)}')"
   ]
  },
  {
   "cell_type": "markdown",
   "id": "f4e824da-6a56-4372-933d-f0874d86922f",
   "metadata": {},
   "source": [
    "### 递归式函数设计处理欧几里得算法"
   ]
  },
  {
   "cell_type": "markdown",
   "id": "57b969f7-b6f5-4520-9d03-f8a190112b51",
   "metadata": {},
   "source": [
    "其实如果大家更熟练Python，可以使用递归函数设计函数只要一行。"
   ]
  },
  {
   "cell_type": "markdown",
   "id": "eb369f5c-6bea-4030-9351-aa94eb96779d",
   "metadata": {},
   "source": [
    "#### Test50"
   ]
  },
  {
   "cell_type": "code",
   "execution_count": 57,
   "id": "d2687370-2fb9-488e-91a3-0861c6192252",
   "metadata": {},
   "outputs": [
    {
     "name": "stdin",
     "output_type": "stream",
     "text": [
      "请输入两个整型数值,并用逗号分隔:  3,9\n"
     ]
    },
    {
     "name": "stdout",
     "output_type": "stream",
     "text": [
      "最大公约数为: 3\n",
      "最大公约数为: 3\n"
     ]
    }
   ],
   "source": [
    "# 程序 = 算法 + 数据结构\n",
    "def gcd(n1, n2):\n",
    "    if n2 == 0:\n",
    "        return n1\n",
    "    else:\n",
    "        return gcd(n2, n1 % n2)  # 不用管大小，可以自动完成交换：40/104 = 0...40\n",
    "\n",
    "\n",
    "# 简化写法\n",
    "def gcd2(n1, n2):\n",
    "    return n1 if n2 == 0 else gcd2(n2, n1 % n2)\n",
    "\n",
    "  \n",
    "# a = 28, b = 49\n",
    "a, b = eval(input('请输入两个整型数值,并用逗号分隔: '))\n",
    "print(f'最大公约数为: {gcd(a, b)}')\n",
    "print(f'最大公约数为: {gcd2(a, b)}')"
   ]
  },
  {
   "cell_type": "markdown",
   "id": "6c9b4e78-a043-4ebd-8669-6c9ca30fa4f6",
   "metadata": {},
   "source": [
    "## 最小公倍数"
   ]
  },
  {
   "cell_type": "markdown",
   "id": "aae33c9b-15d6-44c7-966d-2b1d2e192134",
   "metadata": {},
   "source": [
    "其实最小公倍数（英文简称lcm，**Least Common Multiple**）就是两数相乘再除以gcd，公式如下：  "
   ]
  },
  {
   "cell_type": "raw",
   "id": "994c2e3c-fb86-4f1d-b232-796b2751b667",
   "metadata": {},
   "source": [
    "a * b / gcd"
   ]
  },
  {
   "cell_type": "markdown",
   "id": "93dd7174-0594-4c81-a93e-a1627eb7aed6",
   "metadata": {},
   "source": [
    "### Test51"
   ]
  },
  {
   "cell_type": "code",
   "execution_count": 58,
   "id": "ccae1c40-61ab-45e6-88a3-1f4b7d33d1db",
   "metadata": {},
   "outputs": [
    {
     "name": "stdin",
     "output_type": "stream",
     "text": [
      "请输入两个整型数值,并用逗号分隔:  3,8\n"
     ]
    },
    {
     "name": "stdout",
     "output_type": "stream",
     "text": [
      "最大公约数为: 1\n",
      "最小公倍数为: 24\n"
     ]
    }
   ],
   "source": [
    "# 最大公约数简化写法\n",
    "def gcd(n1, n2):\n",
    "    return n1 if n2 == 0 else gcd(n2, n1 % n2)\n",
    "\n",
    "# 最小公倍数\n",
    "def lcm(n1, n2):\n",
    "    return n1 * n2 // gcd(n1, n2)\n",
    "\n",
    "# a = 4, b = 6\n",
    "a, b = eval(input('请输入两个整型数值,并用逗号分隔: '))\n",
    "print(f'最大公约数为: {gcd(a, b)}')\n",
    "print(f'最小公倍数为: {lcm(a, b)}')"
   ]
  },
  {
   "cell_type": "code",
   "execution_count": null,
   "id": "223706ca-4f93-4a3e-9d08-882eb9d33d8e",
   "metadata": {},
   "outputs": [],
   "source": []
  }
 ],
 "metadata": {
  "kernelspec": {
   "display_name": "Python [conda env:base] *",
   "language": "python",
   "name": "conda-base-py"
  },
  "language_info": {
   "codemirror_mode": {
    "name": "ipython",
    "version": 3
   },
   "file_extension": ".py",
   "mimetype": "text/x-python",
   "name": "python",
   "nbconvert_exporter": "python",
   "pygments_lexer": "ipython3",
   "version": "3.11.6"
  }
 },
 "nbformat": 4,
 "nbformat_minor": 5
}
